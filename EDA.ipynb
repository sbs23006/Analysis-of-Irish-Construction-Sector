{
 "cells": [
  {
   "cell_type": "code",
   "execution_count": 2,
   "id": "74a2bd06",
   "metadata": {},
   "outputs": [],
   "source": [
    "import pandas as pd\n",
    "import json"
   ]
  },
  {
   "cell_type": "code",
   "execution_count": 26,
   "id": "d8433296",
   "metadata": {},
   "outputs": [
    {
     "data": {
      "text/plain": [
       "dict_keys(['class', 'dimension', 'extension', 'href', 'id', 'label', 'link', 'note', 'role', 'size', 'updated', 'value', 'version'])"
      ]
     },
     "execution_count": 26,
     "metadata": {},
     "output_type": "execute_result"
    }
   ],
   "source": [
    " with open('data/BEA04.20230506T190546.json', 'r', encoding=\"utf8\") as f:\n",
    "    data = json.load(f)\n",
    "data.keys()"
   ]
  },
  {
   "cell_type": "code",
   "execution_count": 27,
   "id": "e612e706",
   "metadata": {},
   "outputs": [
    {
     "data": {
      "text/html": [
       "<div>\n",
       "<style scoped>\n",
       "    .dataframe tbody tr th:only-of-type {\n",
       "        vertical-align: middle;\n",
       "    }\n",
       "\n",
       "    .dataframe tbody tr th {\n",
       "        vertical-align: top;\n",
       "    }\n",
       "\n",
       "    .dataframe thead th {\n",
       "        text-align: right;\n",
       "    }\n",
       "</style>\n",
       "<table border=\"1\" class=\"dataframe\">\n",
       "  <thead>\n",
       "    <tr style=\"text-align: right;\">\n",
       "      <th></th>\n",
       "      <th>index</th>\n",
       "      <th>label.2000</th>\n",
       "      <th>label.2001</th>\n",
       "      <th>label.2002</th>\n",
       "      <th>label.2003</th>\n",
       "      <th>label.2004</th>\n",
       "      <th>label.2005</th>\n",
       "      <th>label.2006</th>\n",
       "      <th>label.2007</th>\n",
       "      <th>label.2008</th>\n",
       "      <th>...</th>\n",
       "      <th>label.2013</th>\n",
       "      <th>label.2014</th>\n",
       "      <th>label.2015</th>\n",
       "      <th>label.2016</th>\n",
       "      <th>label.2017</th>\n",
       "      <th>label.2018</th>\n",
       "      <th>label.2019</th>\n",
       "      <th>label.2020</th>\n",
       "      <th>label.2021</th>\n",
       "      <th>label.2022</th>\n",
       "    </tr>\n",
       "  </thead>\n",
       "  <tbody>\n",
       "    <tr>\n",
       "      <th>0</th>\n",
       "      <td>[2000, 2001, 2002, 2003, 2004, 2005, 2006, 200...</td>\n",
       "      <td>2000</td>\n",
       "      <td>2001</td>\n",
       "      <td>2002</td>\n",
       "      <td>2003</td>\n",
       "      <td>2004</td>\n",
       "      <td>2005</td>\n",
       "      <td>2006</td>\n",
       "      <td>2007</td>\n",
       "      <td>2008</td>\n",
       "      <td>...</td>\n",
       "      <td>2013</td>\n",
       "      <td>2014</td>\n",
       "      <td>2015</td>\n",
       "      <td>2016</td>\n",
       "      <td>2017</td>\n",
       "      <td>2018</td>\n",
       "      <td>2019</td>\n",
       "      <td>2020</td>\n",
       "      <td>2021</td>\n",
       "      <td>2022</td>\n",
       "    </tr>\n",
       "  </tbody>\n",
       "</table>\n",
       "<p>1 rows × 24 columns</p>\n",
       "</div>"
      ],
      "text/plain": [
       "                                               index label.2000 label.2001  \\\n",
       "0  [2000, 2001, 2002, 2003, 2004, 2005, 2006, 200...       2000       2001   \n",
       "\n",
       "  label.2002 label.2003 label.2004 label.2005 label.2006 label.2007  \\\n",
       "0       2002       2003       2004       2005       2006       2007   \n",
       "\n",
       "  label.2008  ... label.2013 label.2014 label.2015 label.2016 label.2017  \\\n",
       "0       2008  ...       2013       2014       2015       2016       2017   \n",
       "\n",
       "  label.2018 label.2019 label.2020 label.2021 label.2022  \n",
       "0       2018       2019       2020       2021       2022  \n",
       "\n",
       "[1 rows x 24 columns]"
      ]
     },
     "execution_count": 27,
     "metadata": {},
     "output_type": "execute_result"
    }
   ],
   "source": [
    "df = pd.json_normalize(data['dimension']['TLIST(A1)']['category'])\n",
    "df.head()"
   ]
  },
  {
   "cell_type": "code",
   "execution_count": 20,
   "id": "f3f34bbd",
   "metadata": {},
   "outputs": [],
   "source": [
    "import requests\n",
    "\n",
    "# CSO URL dataset\n",
    "url = 'https://ws.cso.ie/public/api.restful/PxStat.Data.Cube_API.ReadDataset/BEA04/JSON-stat/2.0/en'\n",
    "\n",
    "# Download the file and save it to the current directory\n",
    "response = requests.get(url)\n",
    "with open('BEA04.json', 'w', encoding='utf-8') as f:\n",
    "    f.write(response.text)\n",
    "    \n",
    "# Load the GeoJSON file containing the European country boundaries\n",
    "file = 'BEA04.json'\n",
    "with open(file, 'r', encoding='utf-8') as f:\n",
    "    file_str = f.read()\n",
    "    \n",
    "data = json.loads(file_str)"
   ]
  },
  {
   "cell_type": "markdown",
   "id": "4e6c79e5",
   "metadata": {},
   "source": [
    "### production index"
   ]
  },
  {
   "cell_type": "code",
   "execution_count": 55,
   "id": "869ff3f4",
   "metadata": {},
   "outputs": [
    {
     "data": {
      "text/html": [
       "<div>\n",
       "<style scoped>\n",
       "    .dataframe tbody tr th:only-of-type {\n",
       "        vertical-align: middle;\n",
       "    }\n",
       "\n",
       "    .dataframe tbody tr th {\n",
       "        vertical-align: top;\n",
       "    }\n",
       "\n",
       "    .dataframe thead th {\n",
       "        text-align: right;\n",
       "    }\n",
       "</style>\n",
       "<table border=\"1\" class=\"dataframe\">\n",
       "  <thead>\n",
       "    <tr style=\"text-align: right;\">\n",
       "      <th></th>\n",
       "      <th>Statistic Label</th>\n",
       "      <th>Year</th>\n",
       "      <th>Type of Building and Construction</th>\n",
       "      <th>UNIT</th>\n",
       "      <th>VALUE</th>\n",
       "    </tr>\n",
       "  </thead>\n",
       "  <tbody>\n",
       "    <tr>\n",
       "      <th>0</th>\n",
       "      <td>Value of Production Index in Building and Cons...</td>\n",
       "      <td>2000</td>\n",
       "      <td>All building and construction</td>\n",
       "      <td>Base 2015=100</td>\n",
       "      <td>155.852221</td>\n",
       "    </tr>\n",
       "    <tr>\n",
       "      <th>1</th>\n",
       "      <td>Value of Production Index in Building and Cons...</td>\n",
       "      <td>2000</td>\n",
       "      <td>Building (excluding civil engineering)</td>\n",
       "      <td>Base 2015=100</td>\n",
       "      <td>199.844255</td>\n",
       "    </tr>\n",
       "    <tr>\n",
       "      <th>2</th>\n",
       "      <td>Value of Production Index in Building and Cons...</td>\n",
       "      <td>2000</td>\n",
       "      <td>Residential building</td>\n",
       "      <td>Base 2015=100</td>\n",
       "      <td>311.698160</td>\n",
       "    </tr>\n",
       "    <tr>\n",
       "      <th>3</th>\n",
       "      <td>Value of Production Index in Building and Cons...</td>\n",
       "      <td>2000</td>\n",
       "      <td>Non-residential building</td>\n",
       "      <td>Base 2015=100</td>\n",
       "      <td>121.431248</td>\n",
       "    </tr>\n",
       "    <tr>\n",
       "      <th>4</th>\n",
       "      <td>Value of Production Index in Building and Cons...</td>\n",
       "      <td>2000</td>\n",
       "      <td>Civil engineering</td>\n",
       "      <td>Base 2015=100</td>\n",
       "      <td>63.619979</td>\n",
       "    </tr>\n",
       "  </tbody>\n",
       "</table>\n",
       "</div>"
      ],
      "text/plain": [
       "                                     Statistic Label  Year  \\\n",
       "0  Value of Production Index in Building and Cons...  2000   \n",
       "1  Value of Production Index in Building and Cons...  2000   \n",
       "2  Value of Production Index in Building and Cons...  2000   \n",
       "3  Value of Production Index in Building and Cons...  2000   \n",
       "4  Value of Production Index in Building and Cons...  2000   \n",
       "\n",
       "        Type of Building and Construction           UNIT       VALUE  \n",
       "0           All building and construction  Base 2015=100  155.852221  \n",
       "1  Building (excluding civil engineering)  Base 2015=100  199.844255  \n",
       "2                    Residential building  Base 2015=100  311.698160  \n",
       "3                Non-residential building  Base 2015=100  121.431248  \n",
       "4                       Civil engineering  Base 2015=100   63.619979  "
      ]
     },
     "execution_count": 55,
     "metadata": {},
     "output_type": "execute_result"
    }
   ],
   "source": [
    "production = pd.read_csv('data/BEA04.20230506T200502.csv')\n",
    "production.head()"
   ]
  },
  {
   "cell_type": "code",
   "execution_count": 56,
   "id": "24953e1a",
   "metadata": {},
   "outputs": [
    {
     "data": {
      "text/plain": [
       "array(['Value of Production Index in Building and Construction',\n",
       "       'Volume of Production Index in Building and Construction',\n",
       "       'Value of Production Index in Building and Construction (Seasonally Adjusted)',\n",
       "       'Volume of Production Index in Building and Construction (Seasonally Adjusted)'],\n",
       "      dtype=object)"
      ]
     },
     "execution_count": 56,
     "metadata": {},
     "output_type": "execute_result"
    }
   ],
   "source": [
    "production['Statistic Label'].unique()"
   ]
  },
  {
   "cell_type": "code",
   "execution_count": 57,
   "id": "0bd541a2",
   "metadata": {},
   "outputs": [
    {
     "data": {
      "text/plain": [
       "array(['All building and construction',\n",
       "       'Building (excluding civil engineering)', 'Residential building',\n",
       "       'Non-residential building', 'Civil engineering'], dtype=object)"
      ]
     },
     "execution_count": 57,
     "metadata": {},
     "output_type": "execute_result"
    }
   ],
   "source": [
    "production['Type of Building and Construction'].unique()"
   ]
  },
  {
   "cell_type": "code",
   "execution_count": 60,
   "id": "51bb8f81",
   "metadata": {},
   "outputs": [
    {
     "name": "stdout",
     "output_type": "stream",
     "text": [
      "[2000 2001 2002 2003 2004 2005 2006 2007 2008 2009 2010 2011 2012 2013\n",
      " 2014 2015 2016 2017 2018 2019 2020 2021 2022]\n"
     ]
    }
   ],
   "source": [
    "print(production['Year'].unique())"
   ]
  },
  {
   "cell_type": "code",
   "execution_count": 41,
   "id": "d72934f2",
   "metadata": {},
   "outputs": [],
   "source": [
    "# I can take Value of Production Index in Building and Construction for All building\n",
    "# predict with array of next 10 years"
   ]
  },
  {
   "cell_type": "markdown",
   "id": "616be9d1",
   "metadata": {},
   "source": [
    "### enterprises"
   ]
  },
  {
   "cell_type": "code",
   "execution_count": 36,
   "id": "b3f3ed92",
   "metadata": {},
   "outputs": [
    {
     "data": {
      "text/html": [
       "<div>\n",
       "<style scoped>\n",
       "    .dataframe tbody tr th:only-of-type {\n",
       "        vertical-align: middle;\n",
       "    }\n",
       "\n",
       "    .dataframe tbody tr th {\n",
       "        vertical-align: top;\n",
       "    }\n",
       "\n",
       "    .dataframe thead th {\n",
       "        text-align: right;\n",
       "    }\n",
       "</style>\n",
       "<table border=\"1\" class=\"dataframe\">\n",
       "  <thead>\n",
       "    <tr style=\"text-align: right;\">\n",
       "      <th></th>\n",
       "      <th>Statistic Label</th>\n",
       "      <th>Year</th>\n",
       "      <th>Nace Rev 2 Activity</th>\n",
       "      <th>UNIT</th>\n",
       "      <th>VALUE</th>\n",
       "    </tr>\n",
       "  </thead>\n",
       "  <tbody>\n",
       "    <tr>\n",
       "      <th>0</th>\n",
       "      <td>Construction Enterprises</td>\n",
       "      <td>2008</td>\n",
       "      <td>Development of building projects (411)</td>\n",
       "      <td>Number</td>\n",
       "      <td>2416.0</td>\n",
       "    </tr>\n",
       "    <tr>\n",
       "      <th>1</th>\n",
       "      <td>Construction Enterprises</td>\n",
       "      <td>2008</td>\n",
       "      <td>Construction of residential and non-residentia...</td>\n",
       "      <td>Number</td>\n",
       "      <td>13876.0</td>\n",
       "    </tr>\n",
       "    <tr>\n",
       "      <th>2</th>\n",
       "      <td>Construction Enterprises</td>\n",
       "      <td>2008</td>\n",
       "      <td>Construction of roads and railways (421)</td>\n",
       "      <td>Number</td>\n",
       "      <td>1027.0</td>\n",
       "    </tr>\n",
       "    <tr>\n",
       "      <th>3</th>\n",
       "      <td>Construction Enterprises</td>\n",
       "      <td>2008</td>\n",
       "      <td>Construction of utility projects (422)</td>\n",
       "      <td>Number</td>\n",
       "      <td>322.0</td>\n",
       "    </tr>\n",
       "    <tr>\n",
       "      <th>4</th>\n",
       "      <td>Construction Enterprises</td>\n",
       "      <td>2008</td>\n",
       "      <td>Construction of other civil engineering projec...</td>\n",
       "      <td>Number</td>\n",
       "      <td>381.0</td>\n",
       "    </tr>\n",
       "  </tbody>\n",
       "</table>\n",
       "</div>"
      ],
      "text/plain": [
       "            Statistic Label  Year  \\\n",
       "0  Construction Enterprises  2008   \n",
       "1  Construction Enterprises  2008   \n",
       "2  Construction Enterprises  2008   \n",
       "3  Construction Enterprises  2008   \n",
       "4  Construction Enterprises  2008   \n",
       "\n",
       "                                 Nace Rev 2 Activity    UNIT    VALUE  \n",
       "0             Development of building projects (411)  Number   2416.0  \n",
       "1  Construction of residential and non-residentia...  Number  13876.0  \n",
       "2           Construction of roads and railways (421)  Number   1027.0  \n",
       "3             Construction of utility projects (422)  Number    322.0  \n",
       "4  Construction of other civil engineering projec...  Number    381.0  "
      ]
     },
     "execution_count": 36,
     "metadata": {},
     "output_type": "execute_result"
    }
   ],
   "source": [
    "ent = pd.read_csv('data/BAA12.20230506T200513.csv')\n",
    "ent.head()"
   ]
  },
  {
   "cell_type": "code",
   "execution_count": 59,
   "id": "3b08b353",
   "metadata": {},
   "outputs": [
    {
     "name": "stdout",
     "output_type": "stream",
     "text": [
      "['Construction Enterprises' 'Employees - Manual' 'Employees - Other'\n",
      " 'Employees - Total'\n",
      " 'Persons Engaged - Proprietors and Unpaid Family Workers'\n",
      " 'Persons Engaged - Labour only subcontract basis'\n",
      " 'Persons Engaged - Total' 'Wages and Salaries - Manual Employees'\n",
      " 'Wages and Salaries - Other Employees'\n",
      " 'Wages and Salaries - Manual and Other Employees'\n",
      " 'Wages and Salaries - Labour only subcontractors'\n",
      " 'Wages and Salaries - Total' 'Labour Costs - Other'\n",
      " 'Labour Costs - Total' 'Turnover - Principal' 'Turnover - Subcontractor'\n",
      " 'Turnover - Manufacturing' 'Turnover - Factored goods' 'Turnover - Other'\n",
      " 'Turnover - Total' 'Payments to other subcontractors'\n",
      " 'Turnover less payments to subcontractors' 'Assets made for own use'\n",
      " 'Purchases - Materials and energy' 'Purchases - Industrial services'\n",
      " 'Purchases - Factored goods' 'Purchases - Other goods/services'\n",
      " 'Purchases - Total' 'Stocks at end of year - Work in progress'\n",
      " 'Stocks at end of year - Unsold finished work'\n",
      " 'Stocks at end of year - Materials and energy'\n",
      " 'Stocks at end of year - Factored goods' 'Stocks at end of year - Total'\n",
      " 'Stock changes - Work in progress' 'Stock changes - Unsold finished work'\n",
      " 'Stock changes - Materials and energy' 'Stock changes - Factored goods'\n",
      " 'Stock changes - Total' 'Capital assets - Acquisitions'\n",
      " 'Capital assets - Sales' 'Production value' 'Intermediate consumption'\n",
      " 'Gross value added at basic prices' 'Gross value added at factor cost']\n",
      "---------\n",
      "['Development of building projects (411)'\n",
      " 'Construction of residential and non-residential buildings (412)'\n",
      " 'Construction of roads and railways (421)'\n",
      " 'Construction of utility projects (422)'\n",
      " 'Construction of other civil engineering projects (429)'\n",
      " 'Demolition and site preparation (431)'\n",
      " 'Electrical, plumbing and other construction installation activities (432)'\n",
      " 'Building completion and finishing (433)'\n",
      " 'Other specialised construction activities (439)'\n",
      " 'Construction (41 to 43)']\n",
      "---------\n",
      "['Number' 'Euro Thousand']\n",
      "---------\n",
      "[2008 2009 2010 2011 2012 2013 2014 2015 2016 2017 2018 2019]\n"
     ]
    }
   ],
   "source": [
    "print(ent['Statistic Label'].unique())\n",
    "print('---------')\n",
    "print(ent['Nace Rev 2 Activity'].unique())\n",
    "print('---------')\n",
    "print(ent['UNIT'].unique())\n",
    "print('---------')\n",
    "print(ent['Year'].unique())"
   ]
  },
  {
   "cell_type": "markdown",
   "id": "74b07b59",
   "metadata": {},
   "source": [
    "### Index of employment"
   ]
  },
  {
   "cell_type": "code",
   "execution_count": 43,
   "id": "f08eb693",
   "metadata": {},
   "outputs": [
    {
     "data": {
      "text/html": [
       "<div>\n",
       "<style scoped>\n",
       "    .dataframe tbody tr th:only-of-type {\n",
       "        vertical-align: middle;\n",
       "    }\n",
       "\n",
       "    .dataframe tbody tr th {\n",
       "        vertical-align: top;\n",
       "    }\n",
       "\n",
       "    .dataframe thead th {\n",
       "        text-align: right;\n",
       "    }\n",
       "</style>\n",
       "<table border=\"1\" class=\"dataframe\">\n",
       "  <thead>\n",
       "    <tr style=\"text-align: right;\">\n",
       "      <th></th>\n",
       "      <th>Statistic Label</th>\n",
       "      <th>State</th>\n",
       "      <th>Year</th>\n",
       "      <th>UNIT</th>\n",
       "      <th>VALUE</th>\n",
       "    </tr>\n",
       "  </thead>\n",
       "  <tbody>\n",
       "    <tr>\n",
       "      <th>0</th>\n",
       "      <td>Annual Average Index of Employment (1975 - Dat...</td>\n",
       "      <td>State</td>\n",
       "      <td>1975</td>\n",
       "      <td>Base 2000=100</td>\n",
       "      <td>133.2</td>\n",
       "    </tr>\n",
       "    <tr>\n",
       "      <th>1</th>\n",
       "      <td>Annual Average Index of Employment (1975 - Dat...</td>\n",
       "      <td>State</td>\n",
       "      <td>1976</td>\n",
       "      <td>Base 2000=100</td>\n",
       "      <td>128.1</td>\n",
       "    </tr>\n",
       "    <tr>\n",
       "      <th>2</th>\n",
       "      <td>Annual Average Index of Employment (1975 - Dat...</td>\n",
       "      <td>State</td>\n",
       "      <td>1977</td>\n",
       "      <td>Base 2000=100</td>\n",
       "      <td>134.8</td>\n",
       "    </tr>\n",
       "    <tr>\n",
       "      <th>3</th>\n",
       "      <td>Annual Average Index of Employment (1975 - Dat...</td>\n",
       "      <td>State</td>\n",
       "      <td>1978</td>\n",
       "      <td>Base 2000=100</td>\n",
       "      <td>147.0</td>\n",
       "    </tr>\n",
       "    <tr>\n",
       "      <th>4</th>\n",
       "      <td>Annual Average Index of Employment (1975 - Dat...</td>\n",
       "      <td>State</td>\n",
       "      <td>1979</td>\n",
       "      <td>Base 2000=100</td>\n",
       "      <td>158.8</td>\n",
       "    </tr>\n",
       "  </tbody>\n",
       "</table>\n",
       "</div>"
      ],
      "text/plain": [
       "                                     Statistic Label  State  Year  \\\n",
       "0  Annual Average Index of Employment (1975 - Dat...  State  1975   \n",
       "1  Annual Average Index of Employment (1975 - Dat...  State  1976   \n",
       "2  Annual Average Index of Employment (1975 - Dat...  State  1977   \n",
       "3  Annual Average Index of Employment (1975 - Dat...  State  1978   \n",
       "4  Annual Average Index of Employment (1975 - Dat...  State  1979   \n",
       "\n",
       "            UNIT  VALUE  \n",
       "0  Base 2000=100  133.2  \n",
       "1  Base 2000=100  128.1  \n",
       "2  Base 2000=100  134.8  \n",
       "3  Base 2000=100  147.0  \n",
       "4  Base 2000=100  158.8  "
      ]
     },
     "execution_count": 43,
     "metadata": {},
     "output_type": "execute_result"
    }
   ],
   "source": [
    "# json candidate\n",
    "empl_index = pd.read_csv('data/BBA02.20230506T210547.csv')\n",
    "empl_index.head()"
   ]
  },
  {
   "cell_type": "code",
   "execution_count": 61,
   "id": "f4eb359a",
   "metadata": {},
   "outputs": [
    {
     "name": "stdout",
     "output_type": "stream",
     "text": [
      "['Annual Average Index of Employment (1975 - Date) in Building and Construction Industry']\n",
      "---------\n",
      "['State']\n",
      "---------\n",
      "['Base 2000=100']\n",
      "---------\n",
      "[1975 1976 1977 1978 1979 1980 1981 1982 1983 1984 1985 1986 1987 1988\n",
      " 1989 1990 1991 1992 1993 1994 1995 1996 1997 1998 1999 2000 2001 2002\n",
      " 2003 2004 2005 2006 2007 2008]\n"
     ]
    }
   ],
   "source": [
    "print(empl_index['Statistic Label'].unique())\n",
    "print('---------')\n",
    "print(empl_index['State'].unique())\n",
    "print('---------')\n",
    "print(empl_index['UNIT'].unique())\n",
    "print('---------')\n",
    "print(empl_index['Year'].unique())"
   ]
  },
  {
   "attachments": {},
   "cell_type": "markdown",
   "id": "97e15c70",
   "metadata": {},
   "source": [
    "### Feature selection\n",
    "We want to predict (between 1975 - 2008, due to data availability) the following:\n",
    "- production index of all building based on\n",
    "\t\t○ Persons Engaged - Total\n",
    "\t\t○ Employees - Total\n",
    "\t\t○ Construction Enterprises\n",
    "\t\t○ Wages and Salaries - Total\n",
    "\t\t○ Labour Costs - Total\n",
    "\t\t○ Turnover - Total\n",
    "\t\t○ Purchases - Total\n",
    "\t\t○ Stocks at end of year - Total\n",
    "\t\t○ Stock changes - Total\n",
    "\t\t○ Production value\n",
    "- wages based on \n",
    "        ○ construction enterprises values\n",
    "        ○ index of employment"
   ]
  },
  {
   "cell_type": "code",
   "execution_count": 49,
   "id": "a5afbe7c",
   "metadata": {},
   "outputs": [],
   "source": [
    "# production['Statistic Label'] = Value of Production Index in Building and Construction\n",
    "# production['Type of Building and Construction'] = All building and construction"
   ]
  },
  {
   "cell_type": "code",
   "execution_count": 52,
   "id": "0e56ca1c",
   "metadata": {},
   "outputs": [
    {
     "data": {
      "text/plain": [
       "\" \\nent['Statistic Label'] =\\n\\t\\t○ Persons Engaged - Total\\n\\t\\t○ Employees - Total\\n\\t\\t○ Construction Enterprises\\n\\t\\t○ Wages and Salaries - Total\\n\\t\\t○ Labour Costs - Total\\n\\t\\t○ Turnover - Total\\n\\t\\t○ Purchases - Total\\n\\t\\t○ Stocks at end of year - Total\\n\\t\\t○ Stock changes - Total\\n        Production value\\n        \""
      ]
     },
     "execution_count": 52,
     "metadata": {},
     "output_type": "execute_result"
    }
   ],
   "source": [
    "''' \n",
    "ent['Statistic Label'] =\n",
    "\t\t○ Persons Engaged - Total\n",
    "\t\t○ Employees - Total\n",
    "\t\t○ Construction Enterprises\n",
    "\t\t○ Wages and Salaries - Total\n",
    "\t\t○ Labour Costs - Total\n",
    "\t\t○ Turnover - Total\n",
    "\t\t○ Purchases - Total\n",
    "\t\t○ Stocks at end of year - Total\n",
    "\t\t○ Stock changes - Total\n",
    "        Production value\n",
    "        '''"
   ]
  },
  {
   "cell_type": "code",
   "execution_count": 53,
   "id": "46e5dcb5",
   "metadata": {},
   "outputs": [],
   "source": [
    "# empl_index['VALUE'] all"
   ]
  },
  {
   "cell_type": "code",
   "execution_count": 54,
   "id": "78a9c9c2",
   "metadata": {},
   "outputs": [],
   "source": [
    "# extract years\n",
    "production = production.loc['1975':'2008']\n",
    "production.reset_index(inplace=True)"
   ]
  },
  {
   "cell_type": "code",
   "execution_count": null,
   "id": "60ebaeed",
   "metadata": {},
   "outputs": [],
   "source": []
  }
 ],
 "metadata": {
  "kernelspec": {
   "display_name": "Python 3 (ipykernel)",
   "language": "python",
   "name": "python3"
  },
  "language_info": {
   "codemirror_mode": {
    "name": "ipython",
    "version": 3
   },
   "file_extension": ".py",
   "mimetype": "text/x-python",
   "name": "python",
   "nbconvert_exporter": "python",
   "pygments_lexer": "ipython3",
   "version": "3.9.7"
  }
 },
 "nbformat": 4,
 "nbformat_minor": 5
}
