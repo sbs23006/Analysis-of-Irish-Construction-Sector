{
 "cells": [
  {
   "cell_type": "code",
   "execution_count": 1,
   "id": "f73fea81",
   "metadata": {},
   "outputs": [],
   "source": [
    "import pandas as pd"
   ]
  },
  {
   "cell_type": "code",
   "execution_count": 2,
   "id": "a28479e8",
   "metadata": {},
   "outputs": [],
   "source": [
    "#https://ec.europa.eu/eurostat/databrowser/view/lc_lci_lev/default/table?lang=en\n",
    "df = pd.read_csv('data/estat_lc_lci_lev_en.csv')"
   ]
  },
  {
   "cell_type": "code",
   "execution_count": 3,
   "id": "ca1079cb",
   "metadata": {},
   "outputs": [
    {
     "data": {
      "text/html": [
       "<div>\n",
       "<style scoped>\n",
       "    .dataframe tbody tr th:only-of-type {\n",
       "        vertical-align: middle;\n",
       "    }\n",
       "\n",
       "    .dataframe tbody tr th {\n",
       "        vertical-align: top;\n",
       "    }\n",
       "\n",
       "    .dataframe thead th {\n",
       "        text-align: right;\n",
       "    }\n",
       "</style>\n",
       "<table border=\"1\" class=\"dataframe\">\n",
       "  <thead>\n",
       "    <tr style=\"text-align: right;\">\n",
       "      <th></th>\n",
       "      <th>DATAFLOW</th>\n",
       "      <th>LAST UPDATE</th>\n",
       "      <th>freq</th>\n",
       "      <th>unit</th>\n",
       "      <th>lcstruct</th>\n",
       "      <th>nace_r2</th>\n",
       "      <th>geo</th>\n",
       "      <th>TIME_PERIOD</th>\n",
       "      <th>OBS_VALUE</th>\n",
       "      <th>OBS_FLAG</th>\n",
       "    </tr>\n",
       "  </thead>\n",
       "  <tbody>\n",
       "    <tr>\n",
       "      <th>0</th>\n",
       "      <td>ESTAT:LC_LCI_LEV(1.0)</td>\n",
       "      <td>30/03/23 11:00:00</td>\n",
       "      <td>A</td>\n",
       "      <td>EUR</td>\n",
       "      <td>D11</td>\n",
       "      <td>B</td>\n",
       "      <td>AL</td>\n",
       "      <td>2012</td>\n",
       "      <td>2.1</td>\n",
       "      <td>NaN</td>\n",
       "    </tr>\n",
       "    <tr>\n",
       "      <th>1</th>\n",
       "      <td>ESTAT:LC_LCI_LEV(1.0)</td>\n",
       "      <td>30/03/23 11:00:00</td>\n",
       "      <td>A</td>\n",
       "      <td>EUR</td>\n",
       "      <td>D11</td>\n",
       "      <td>B</td>\n",
       "      <td>AL</td>\n",
       "      <td>2016</td>\n",
       "      <td>2.7</td>\n",
       "      <td>NaN</td>\n",
       "    </tr>\n",
       "    <tr>\n",
       "      <th>2</th>\n",
       "      <td>ESTAT:LC_LCI_LEV(1.0)</td>\n",
       "      <td>30/03/23 11:00:00</td>\n",
       "      <td>A</td>\n",
       "      <td>EUR</td>\n",
       "      <td>D11</td>\n",
       "      <td>B</td>\n",
       "      <td>AT</td>\n",
       "      <td>2000</td>\n",
       "      <td>20.1</td>\n",
       "      <td>d</td>\n",
       "    </tr>\n",
       "    <tr>\n",
       "      <th>3</th>\n",
       "      <td>ESTAT:LC_LCI_LEV(1.0)</td>\n",
       "      <td>30/03/23 11:00:00</td>\n",
       "      <td>A</td>\n",
       "      <td>EUR</td>\n",
       "      <td>D11</td>\n",
       "      <td>B</td>\n",
       "      <td>AT</td>\n",
       "      <td>2004</td>\n",
       "      <td>22.3</td>\n",
       "      <td>d</td>\n",
       "    </tr>\n",
       "    <tr>\n",
       "      <th>4</th>\n",
       "      <td>ESTAT:LC_LCI_LEV(1.0)</td>\n",
       "      <td>30/03/23 11:00:00</td>\n",
       "      <td>A</td>\n",
       "      <td>EUR</td>\n",
       "      <td>D11</td>\n",
       "      <td>B</td>\n",
       "      <td>AT</td>\n",
       "      <td>2008</td>\n",
       "      <td>22.2</td>\n",
       "      <td>NaN</td>\n",
       "    </tr>\n",
       "  </tbody>\n",
       "</table>\n",
       "</div>"
      ],
      "text/plain": [
       "                DATAFLOW        LAST UPDATE freq unit lcstruct nace_r2 geo  \\\n",
       "0  ESTAT:LC_LCI_LEV(1.0)  30/03/23 11:00:00    A  EUR      D11       B  AL   \n",
       "1  ESTAT:LC_LCI_LEV(1.0)  30/03/23 11:00:00    A  EUR      D11       B  AL   \n",
       "2  ESTAT:LC_LCI_LEV(1.0)  30/03/23 11:00:00    A  EUR      D11       B  AT   \n",
       "3  ESTAT:LC_LCI_LEV(1.0)  30/03/23 11:00:00    A  EUR      D11       B  AT   \n",
       "4  ESTAT:LC_LCI_LEV(1.0)  30/03/23 11:00:00    A  EUR      D11       B  AT   \n",
       "\n",
       "   TIME_PERIOD  OBS_VALUE OBS_FLAG  \n",
       "0         2012        2.1      NaN  \n",
       "1         2016        2.7      NaN  \n",
       "2         2000       20.1        d  \n",
       "3         2004       22.3        d  \n",
       "4         2008       22.2      NaN  "
      ]
     },
     "execution_count": 3,
     "metadata": {},
     "output_type": "execute_result"
    }
   ],
   "source": [
    "df.head()"
   ]
  },
  {
   "cell_type": "code",
   "execution_count": 5,
   "id": "0509bbb2",
   "metadata": {},
   "outputs": [
    {
     "data": {
      "text/plain": [
       "array(['EUR', 'NAC', 'RT_PRE_EUR', 'RT_PRE_NAC'], dtype=object)"
      ]
     },
     "execution_count": 5,
     "metadata": {},
     "output_type": "execute_result"
    }
   ],
   "source": [
    "df['unit'].unique()"
   ]
  },
  {
   "cell_type": "code",
   "execution_count": 6,
   "id": "783c3a33",
   "metadata": {},
   "outputs": [
    {
     "data": {
      "text/plain": [
       "array(['D11', 'D12_D4_MD5', 'D1_D4_MD5', 'D2-D4_MD5_RAT'], dtype=object)"
      ]
     },
     "execution_count": 6,
     "metadata": {},
     "output_type": "execute_result"
    }
   ],
   "source": [
    "df['lcstruct'].unique()"
   ]
  },
  {
   "cell_type": "code",
   "execution_count": 7,
   "id": "1ae9c038",
   "metadata": {},
   "outputs": [
    {
     "data": {
      "text/plain": [
       "array(['ESTAT:LC_LCI_LEV(1.0)'], dtype=object)"
      ]
     },
     "execution_count": 7,
     "metadata": {},
     "output_type": "execute_result"
    }
   ],
   "source": [
    "df['DATAFLOW'].unique()"
   ]
  },
  {
   "cell_type": "code",
   "execution_count": 8,
   "id": "d754d7f6",
   "metadata": {},
   "outputs": [
    {
     "data": {
      "text/plain": [
       "array(['A'], dtype=object)"
      ]
     },
     "execution_count": 8,
     "metadata": {},
     "output_type": "execute_result"
    }
   ],
   "source": [
    "df['freq'].unique()"
   ]
  },
  {
   "cell_type": "code",
   "execution_count": 9,
   "id": "927f8c02",
   "metadata": {},
   "outputs": [
    {
     "data": {
      "text/plain": [
       "array(['B', 'B-E', 'B-N', 'B-S_X_O', 'C', 'D', 'E', 'F', 'G', 'G-N', 'H',\n",
       "       'I', 'J', 'K', 'M', 'N', 'P', 'P-S', 'Q', 'R', 'S'], dtype=object)"
      ]
     },
     "execution_count": 9,
     "metadata": {},
     "output_type": "execute_result"
    }
   ],
   "source": [
    "df['nace_r2'].unique()"
   ]
  },
  {
   "cell_type": "code",
   "execution_count": 14,
   "id": "1aa78cca",
   "metadata": {},
   "outputs": [],
   "source": [
    "df.drop(columns=['DATAFLOW', 'LAST UPDATE', 'freq', 'OBS_FLAG'], inplace=True)"
   ]
  },
  {
   "cell_type": "code",
   "execution_count": 15,
   "id": "657712f4",
   "metadata": {},
   "outputs": [
    {
     "data": {
      "text/html": [
       "<div>\n",
       "<style scoped>\n",
       "    .dataframe tbody tr th:only-of-type {\n",
       "        vertical-align: middle;\n",
       "    }\n",
       "\n",
       "    .dataframe tbody tr th {\n",
       "        vertical-align: top;\n",
       "    }\n",
       "\n",
       "    .dataframe thead th {\n",
       "        text-align: right;\n",
       "    }\n",
       "</style>\n",
       "<table border=\"1\" class=\"dataframe\">\n",
       "  <thead>\n",
       "    <tr style=\"text-align: right;\">\n",
       "      <th></th>\n",
       "      <th>unit</th>\n",
       "      <th>lcstruct</th>\n",
       "      <th>nace_r2</th>\n",
       "      <th>geo</th>\n",
       "      <th>TIME_PERIOD</th>\n",
       "      <th>OBS_VALUE</th>\n",
       "    </tr>\n",
       "  </thead>\n",
       "  <tbody>\n",
       "    <tr>\n",
       "      <th>0</th>\n",
       "      <td>EUR</td>\n",
       "      <td>D11</td>\n",
       "      <td>B</td>\n",
       "      <td>AL</td>\n",
       "      <td>2012</td>\n",
       "      <td>2.1</td>\n",
       "    </tr>\n",
       "    <tr>\n",
       "      <th>1</th>\n",
       "      <td>EUR</td>\n",
       "      <td>D11</td>\n",
       "      <td>B</td>\n",
       "      <td>AL</td>\n",
       "      <td>2016</td>\n",
       "      <td>2.7</td>\n",
       "    </tr>\n",
       "    <tr>\n",
       "      <th>2</th>\n",
       "      <td>EUR</td>\n",
       "      <td>D11</td>\n",
       "      <td>B</td>\n",
       "      <td>AT</td>\n",
       "      <td>2000</td>\n",
       "      <td>20.1</td>\n",
       "    </tr>\n",
       "    <tr>\n",
       "      <th>3</th>\n",
       "      <td>EUR</td>\n",
       "      <td>D11</td>\n",
       "      <td>B</td>\n",
       "      <td>AT</td>\n",
       "      <td>2004</td>\n",
       "      <td>22.3</td>\n",
       "    </tr>\n",
       "    <tr>\n",
       "      <th>4</th>\n",
       "      <td>EUR</td>\n",
       "      <td>D11</td>\n",
       "      <td>B</td>\n",
       "      <td>AT</td>\n",
       "      <td>2008</td>\n",
       "      <td>22.2</td>\n",
       "    </tr>\n",
       "  </tbody>\n",
       "</table>\n",
       "</div>"
      ],
      "text/plain": [
       "  unit lcstruct nace_r2 geo  TIME_PERIOD  OBS_VALUE\n",
       "0  EUR      D11       B  AL         2012        2.1\n",
       "1  EUR      D11       B  AL         2016        2.7\n",
       "2  EUR      D11       B  AT         2000       20.1\n",
       "3  EUR      D11       B  AT         2004       22.3\n",
       "4  EUR      D11       B  AT         2008       22.2"
      ]
     },
     "execution_count": 15,
     "metadata": {},
     "output_type": "execute_result"
    }
   ],
   "source": [
    "df.head()"
   ]
  },
  {
   "cell_type": "code",
   "execution_count": 160,
   "id": "acbd39dd",
   "metadata": {},
   "outputs": [
    {
     "data": {
      "text/plain": [
       "(50741, 6)"
      ]
     },
     "execution_count": 160,
     "metadata": {},
     "output_type": "execute_result"
    }
   ],
   "source": [
    "df.shape"
   ]
  },
  {
   "cell_type": "markdown",
   "id": "78d6064a",
   "metadata": {},
   "source": [
    "#### Column values documentation\n",
    "From https://ec.europa.eu/eurostat/databrowser/view/lc_lci_lev/default/table?lang=en\n",
    "\n",
    "###### nace_r2\n",
    "construction sector == 'F'\n",
    "\n",
    "###### lcstruct - labour cost structure\n",
    "- Labour cost for LCI (compensation of employees plus taxes minus subsidies) - \n",
    "[D1_D4_MD5]\n",
    "- Wages and salaries (total) - \n",
    "[D11]\n",
    "- Labour costs other than wages and salaries - \n",
    "[D12_D4_MD5]\n",
    "- Share of non-wage costs (%) - \n",
    "[D2-D4_MD5_RAT]\n",
    "\n",
    "###### unit\n",
    "\n",
    "- Euro - \n",
    "[EUR]\n",
    "- National currency - \n",
    "[NAC]\n",
    "- Growth rate on previous period (t/t-1) for values in euro - \n",
    "[RT_PRE_EUR]\n",
    "- Growth rate on previous period (t/t-1) for values in national currency - \n",
    "[RT_PRE_NAC]"
   ]
  },
  {
   "cell_type": "code",
   "execution_count": 18,
   "id": "39fcc83d",
   "metadata": {},
   "outputs": [],
   "source": [
    "filtered_df = df[df['nace_r2'] =='F']"
   ]
  },
  {
   "cell_type": "code",
   "execution_count": 20,
   "id": "4d11d59c",
   "metadata": {},
   "outputs": [
    {
     "data": {
      "text/plain": [
       "(2739, 6)"
      ]
     },
     "execution_count": 20,
     "metadata": {},
     "output_type": "execute_result"
    }
   ],
   "source": [
    "filtered_df.shape"
   ]
  },
  {
   "cell_type": "code",
   "execution_count": 24,
   "id": "171a4f8e",
   "metadata": {},
   "outputs": [],
   "source": [
    "eur_df = filtered_df[filtered_df['unit'] =='EUR']"
   ]
  },
  {
   "cell_type": "code",
   "execution_count": 35,
   "id": "72f00a10",
   "metadata": {},
   "outputs": [
    {
     "name": "stdout",
     "output_type": "stream",
     "text": [
      "(43,)\n",
      "(43,)\n"
     ]
    }
   ],
   "source": [
    "print(eur_df['geo'].value_counts().shape)\n",
    "print(filtered_df['geo'].value_counts().shape)"
   ]
  },
  {
   "cell_type": "code",
   "execution_count": 157,
   "id": "96460dd5",
   "metadata": {},
   "outputs": [
    {
     "name": "stdout",
     "output_type": "stream",
     "text": [
      "      unit       lcstruct nace_r2 geo  TIME_PERIOD  OBS_VALUE iso3\n",
      "1752   EUR            D11       F  IE         2000       13.8  IRL\n",
      "1753   EUR            D11       F  IE         2004       22.4  IRL\n",
      "1754   EUR            D11       F  IE         2008       23.4  IRL\n",
      "1755   EUR            D11       F  IE         2012       23.3  IRL\n",
      "1756   EUR            D11       F  IE         2016       22.8  IRL\n",
      "1757   EUR            D11       F  IE         2020       26.1  IRL\n",
      "1758   EUR            D11       F  IE         2021       27.6  IRL\n",
      "1759   EUR            D11       F  IE         2022       28.7  IRL\n",
      "6668   EUR     D12_D4_MD5       F  IE         2000        2.8  IRL\n",
      "6669   EUR     D12_D4_MD5       F  IE         2004        3.7  IRL\n",
      "6670   EUR     D12_D4_MD5       F  IE         2008        4.3  IRL\n",
      "6671   EUR     D12_D4_MD5       F  IE         2012        3.1  IRL\n",
      "6672   EUR     D12_D4_MD5       F  IE         2016        2.9  IRL\n",
      "6673   EUR     D12_D4_MD5       F  IE         2020        1.5  IRL\n",
      "6674   EUR     D12_D4_MD5       F  IE         2021        0.6  IRL\n",
      "6675   EUR     D12_D4_MD5       F  IE         2022        8.6  IRL\n",
      "11569  EUR      D1_D4_MD5       F  IE         2000       16.6  IRL\n",
      "11570  EUR      D1_D4_MD5       F  IE         2004       26.0  IRL\n",
      "11571  EUR      D1_D4_MD5       F  IE         2008       27.7  IRL\n",
      "11572  EUR      D1_D4_MD5       F  IE         2012       26.4  IRL\n",
      "11573  EUR      D1_D4_MD5       F  IE         2016       25.7  IRL\n",
      "11574  EUR      D1_D4_MD5       F  IE         2020       27.5  IRL\n",
      "11575  EUR      D1_D4_MD5       F  IE         2021       28.6  IRL\n",
      "11576  EUR      D1_D4_MD5       F  IE         2022       35.4  IRL\n",
      "16461  EUR  D2-D4_MD5_RAT       F  IE         2000       16.7  IRL\n",
      "16462  EUR  D2-D4_MD5_RAT       F  IE         2004       14.1  IRL\n",
      "16463  EUR  D2-D4_MD5_RAT       F  IE         2008       15.5  IRL\n",
      "16464  EUR  D2-D4_MD5_RAT       F  IE         2012       11.7  IRL\n",
      "16465  EUR  D2-D4_MD5_RAT       F  IE         2016       11.2  IRL\n",
      "16466  EUR  D2-D4_MD5_RAT       F  IE         2020        5.3  IRL\n",
      "16467  EUR  D2-D4_MD5_RAT       F  IE         2021        2.1  IRL\n",
      "16468  EUR  D2-D4_MD5_RAT       F  IE         2022       24.3  IRL\n"
     ]
    }
   ],
   "source": [
    "print(eur_df[eur_df['geo'] == 'IE'])"
   ]
  },
  {
   "cell_type": "code",
   "execution_count": 27,
   "id": "2057e419",
   "metadata": {},
   "outputs": [
    {
     "data": {
      "text/plain": [
       "unit           0\n",
       "lcstruct       0\n",
       "nace_r2        0\n",
       "geo            0\n",
       "TIME_PERIOD    0\n",
       "OBS_VALUE      0\n",
       "dtype: int64"
      ]
     },
     "execution_count": 27,
     "metadata": {},
     "output_type": "execute_result"
    }
   ],
   "source": [
    "eur_df.isnull().sum()"
   ]
  },
  {
   "cell_type": "code",
   "execution_count": 46,
   "id": "5a2a5129",
   "metadata": {},
   "outputs": [
    {
     "data": {
      "text/plain": [
       "array(['AL', 'AT', 'BA', 'BE', 'BG', 'CH', 'CY', 'CZ', 'DE', 'DK', 'EA',\n",
       "       'EA19', 'EA20', 'EE', 'EL', 'ES', 'EU15', 'EU27_2020', 'EU28',\n",
       "       'FI', 'FR', 'HR', 'HU', 'IE', 'IS', 'IT', 'LT', 'LU', 'LV', 'ME',\n",
       "       'MK', 'MT', 'NL', 'NO', 'PL', 'PT', 'RO', 'RS', 'SE', 'SI', 'SK',\n",
       "       'TR', 'UK'], dtype=object)"
      ]
     },
     "execution_count": 46,
     "metadata": {},
     "output_type": "execute_result"
    }
   ],
   "source": [
    "eur_df['geo'].unique()"
   ]
  },
  {
   "cell_type": "code",
   "execution_count": 36,
   "id": "6c48c9ab",
   "metadata": {},
   "outputs": [],
   "source": [
    "import plotly.express as px"
   ]
  },
  {
   "cell_type": "code",
   "execution_count": 146,
   "id": "c2cc7bd3",
   "metadata": {},
   "outputs": [],
   "source": [
    "import requests\n",
    "import json\n",
    "\n",
    "# URL to the GeoJSON file containing the European country boundaries\n",
    "url = 'https://raw.githubusercontent.com/eurostat/Nuts2json/master/pub/v2/2016/4326/nutspt_0.json'\n",
    "\n",
    "# Download the file and save it to the current directory\n",
    "response = requests.get(url)\n",
    "with open('countries-geo.json', 'w') as f:\n",
    "    f.write(response.text)\n",
    "    \n",
    "# Load the GeoJSON file containing the European country boundaries\n",
    "eu_geojson_file = 'countries-geo.json'\n",
    "with open(eu_geojson_file, 'r') as f:\n",
    "    eu_geojson_str = f.read()\n",
    "    \n",
    "eu_geojson = json.loads(eu_geojson_str)"
   ]
  },
  {
   "cell_type": "code",
   "execution_count": 147,
   "id": "44cf2ee7",
   "metadata": {},
   "outputs": [
    {
     "name": "stdout",
     "output_type": "stream",
     "text": [
      "['AL', 'AT', 'BE', 'BG', 'CH', 'CY', 'CZ', 'DE', 'DK', 'EE', 'EL', 'ES', 'FI', 'FR', 'HR', 'HU', 'IE', 'IS', 'IT', 'LI', 'LT', 'LU', 'LV', 'ME', 'MK', 'MT', 'NL', 'NO', 'PL', 'PT', 'RO', 'RS', 'SE', 'SI', 'SK', 'TR', 'UK']\n"
     ]
    }
   ],
   "source": [
    "# Print the list of country names in the GeoJSON file\n",
    "country_names = [feat['properties']['id'] for feat in eu_geojson['features']]\n",
    "print(country_names)"
   ]
  },
  {
   "cell_type": "code",
   "execution_count": 149,
   "id": "eb1bc6c3",
   "metadata": {},
   "outputs": [
    {
     "data": {
      "application/vnd.plotly.v1+json": {
       "config": {
        "plotlyServerURL": "https://plot.ly"
       },
       "data": [
        {
         "coloraxis": "coloraxis",
         "featureidkey": "properties.id",
         "geo": "geo",
         "geojson": [
          {
           "geometry": {
            "coordinates": [
             20.071,
             41.139
            ],
            "type": "Point"
           },
           "properties": {
            "ar": "28799674148",
            "id": "AL",
            "na": "SHQIPËRIA"
           },
           "type": "Feature"
          },
          {
           "geometry": {
            "coordinates": [
             14.137,
             47.585
            ],
            "type": "Point"
           },
           "properties": {
            "ar": "83944908792",
            "id": "AT",
            "na": "ÖSTERREICH"
           },
           "type": "Feature"
          },
          {
           "geometry": {
            "coordinates": [
             4.659,
             50.643
            ],
            "type": "Point"
           },
           "properties": {
            "ar": "30666252645",
            "id": "BE",
            "na": "BELGIQUE-BELGIË"
           },
           "type": "Feature"
          },
          {
           "geometry": {
            "coordinates": [
             25.235,
             42.755
            ],
            "type": "Point"
           },
           "properties": {
            "ar": "110994229783",
            "id": "BG",
            "na": "BULGARIA"
           },
           "type": "Feature"
          },
          {
           "geometry": {
            "coordinates": [
             8.213,
             46.955
            ],
            "type": "Point"
           },
           "properties": {
            "ar": "41286389372",
            "id": "CH",
            "na": "SCHWEIZ/SUISSE/SVIZZERA"
           },
           "type": "Feature"
          },
          {
           "geometry": {
            "coordinates": [
             33.174,
             35.028
            ],
            "type": "Point"
           },
           "properties": {
            "ar": "9256703982",
            "id": "CY",
            "na": "KYPROS"
           },
           "type": "Feature"
          },
          {
           "geometry": {
            "coordinates": [
             15.328,
             49.738
            ],
            "type": "Point"
           },
           "properties": {
            "ar": "78873251270",
            "id": "CZ",
            "na": "ČESKÁ REPUBLIKA"
           },
           "type": "Feature"
          },
          {
           "geometry": {
            "coordinates": [
             10.379,
             51.074
            ],
            "type": "Point"
           },
           "properties": {
            "ar": "357661390415",
            "id": "DE",
            "na": "DEUTSCHLAND"
           },
           "type": "Feature"
          },
          {
           "geometry": {
            "coordinates": [
             9.319,
             56.027
            ],
            "type": "Point"
           },
           "properties": {
            "ar": "43171428497",
            "id": "DK",
            "na": "DANMARK"
           },
           "type": "Feature"
          },
          {
           "geometry": {
            "coordinates": [
             25.855,
             58.671
            ],
            "type": "Point"
           },
           "properties": {
            "ar": "45344926455",
            "id": "EE",
            "na": "EESTI"
           },
           "type": "Feature"
          },
          {
           "geometry": {
            "coordinates": [
             22.54,
             39.498
            ],
            "type": "Point"
           },
           "properties": {
            "ar": "131759420072",
            "id": "EL",
            "na": "ELLADA"
           },
           "type": "Feature"
          },
          {
           "geometry": {
            "coordinates": [
             -3.552,
             40.382
            ],
            "type": "Point"
           },
           "properties": {
            "ar": "506004058602",
            "id": "ES",
            "na": "ESPAÑA"
           },
           "type": "Feature"
          },
          {
           "geometry": {
            "coordinates": [
             26.279,
             64.497
            ],
            "type": "Point"
           },
           "properties": {
            "ar": "337522470861",
            "id": "FI",
            "na": "SUOMI / FINLAND"
           },
           "type": "Feature"
          },
          {
           "geometry": {
            "coordinates": [
             2.506,
             46.618
            ],
            "type": "Point"
           },
           "properties": {
            "ar": "638364847019",
            "id": "FR",
            "na": "FRANCE"
           },
           "type": "Feature"
          },
          {
           "geometry": {
            "coordinates": [
             16.489,
             43.756
            ],
            "type": "Point"
           },
           "properties": {
            "ar": "56516296161",
            "id": "HR",
            "na": "HRVATSKA"
           },
           "type": "Feature"
          },
          {
           "geometry": {
            "coordinates": [
             19.407,
             47.162
            ],
            "type": "Point"
           },
           "properties": {
            "ar": "93009125408",
            "id": "HU",
            "na": "MAGYARORSZÁG"
           },
           "type": "Feature"
          },
          {
           "geometry": {
            "coordinates": [
             -8.09,
             53.179
            ],
            "type": "Point"
           },
           "properties": {
            "ar": "69940293930",
            "id": "IE",
            "na": "IRELAND"
           },
           "type": "Feature"
          },
          {
           "geometry": {
            "coordinates": [
             -18.857,
             64.756
            ],
            "type": "Point"
           },
           "properties": {
            "ar": "102696958004",
            "id": "IS",
            "na": "ÍSLAND"
           },
           "type": "Feature"
          },
          {
           "geometry": {
            "coordinates": [
             12.532,
             42.837
            ],
            "type": "Point"
           },
           "properties": {
            "ar": "300650239153",
            "id": "IT",
            "na": "ITALIA"
           },
           "type": "Feature"
          },
          {
           "geometry": {
            "coordinates": [
             9.553,
             47.138
            ],
            "type": "Point"
           },
           "properties": {
            "ar": "160027035",
            "id": "LI",
            "na": "LIECHTENSTEIN"
           },
           "type": "Feature"
          },
          {
           "geometry": {
            "coordinates": [
             23.92,
             55.335
            ],
            "type": "Point"
           },
           "properties": {
            "ar": "64896830575",
            "id": "LT",
            "na": "LIETUVA"
           },
           "type": "Feature"
          },
          {
           "geometry": {
            "coordinates": [
             6.094,
             49.771
            ],
            "type": "Point"
           },
           "properties": {
            "ar": "2595980536",
            "id": "LU",
            "na": "LUXEMBOURG"
           },
           "type": "Feature"
          },
          {
           "geometry": {
            "coordinates": [
             26.382,
             56.683
            ],
            "type": "Point"
           },
           "properties": {
            "ar": "64586856302",
            "id": "LV",
            "na": "LATVIJA"
           },
           "type": "Feature"
          },
          {
           "geometry": {
            "coordinates": [
             19.269,
             42.772
            ],
            "type": "Point"
           },
           "properties": {
            "ar": "13881667823",
            "id": "ME",
            "na": "CRNA GORA"
           },
           "type": "Feature"
          },
          {
           "geometry": {
            "coordinates": [
             21.697,
             41.598
            ],
            "type": "Point"
           },
           "properties": {
            "ar": "25433732311",
            "id": "MK",
            "na": "North Macedonia"
           },
           "type": "Feature"
          },
          {
           "geometry": {
            "coordinates": [
             14.431,
             35.886
            ],
            "type": "Point"
           },
           "properties": {
            "ar": "313896740",
            "id": "MT",
            "na": "MALTA"
           },
           "type": "Feature"
          },
          {
           "geometry": {
            "coordinates": [
             5.646,
             52.293
            ],
            "type": "Point"
           },
           "properties": {
            "ar": "37380411293",
            "id": "NL",
            "na": "NEDERLAND"
           },
           "type": "Feature"
          },
          {
           "geometry": {
            "coordinates": [
             9.298,
             61.388
            ],
            "type": "Point"
           },
           "properties": {
            "ar": "323337377165",
            "id": "NO",
            "na": "NORGE"
           },
           "type": "Feature"
          },
          {
           "geometry": {
            "coordinates": [
             19.407,
             52.131
            ],
            "type": "Point"
           },
           "properties": {
            "ar": "311940525907",
            "id": "PL",
            "na": "POLSKA"
           },
           "type": "Feature"
          },
          {
           "geometry": {
            "coordinates": [
             -7.97,
             39.687
            ],
            "type": "Point"
           },
           "properties": {
            "ar": "91909150969",
            "id": "PT",
            "na": "PORTUGAL"
           },
           "type": "Feature"
          },
          {
           "geometry": {
            "coordinates": [
             24.978,
             45.836
            ],
            "type": "Point"
           },
           "properties": {
            "ar": "238368617959",
            "id": "RO",
            "na": "ROMÂNIA"
           },
           "type": "Feature"
          },
          {
           "geometry": {
            "coordinates": [
             20.797,
             44.236
            ],
            "type": "Point"
           },
           "properties": {
            "ar": "77487750334",
            "id": "RS",
            "na": "REPUBLIKA SRBIJA /РЕПУБЛИКА СРБИЈА"
           },
           "type": "Feature"
          },
          {
           "geometry": {
            "coordinates": [
             14.444,
             60.642
            ],
            "type": "Point"
           },
           "properties": {
            "ar": "449655124316",
            "id": "SE",
            "na": "SVERIGE"
           },
           "type": "Feature"
          },
          {
           "geometry": {
            "coordinates": [
             14.817,
             46.128
            ],
            "type": "Point"
           },
           "properties": {
            "ar": "20271712958",
            "id": "SI",
            "na": "SLOVENIJA"
           },
           "type": "Feature"
          },
          {
           "geometry": {
            "coordinates": [
             19.474,
             48.704
            ],
            "type": "Point"
           },
           "properties": {
            "ar": "49023912056",
            "id": "SK",
            "na": "SLOVENSKO"
           },
           "type": "Feature"
          },
          {
           "geometry": {
            "coordinates": [
             35.471,
             38.992
            ],
            "type": "Point"
           },
           "properties": {
            "ar": "780375435940",
            "id": "TR",
            "na": "TÜRKIYE"
           },
           "type": "Feature"
          },
          {
           "geometry": {
            "coordinates": [
             -2.109,
             53.279
            ],
            "type": "Point"
           },
           "properties": {
            "ar": "244545006004",
            "id": "UK",
            "na": "UNITED KINGDOM"
           },
           "type": "Feature"
          }
         ],
         "hovertemplate": "TIME_PERIOD=2012<br>geo=%{location}<br>OBS_VALUE=%{z}<extra></extra>",
         "locationmode": "country names",
         "locations": [
          "AL",
          "AT",
          "BA",
          "BE",
          "BG",
          "CH",
          "CZ",
          "DE",
          "DK",
          "EA",
          "EA19",
          "EE",
          "EL",
          "ES",
          "EU15",
          "EU27_2020",
          "EU28",
          "FI",
          "FR",
          "HR",
          "HU",
          "IE",
          "IS",
          "IT",
          "LT",
          "LU",
          "LV",
          "ME",
          "MK",
          "MT",
          "NL",
          "NO",
          "PL",
          "PT",
          "RO",
          "RS",
          "SE",
          "SI",
          "SK",
          "TR",
          "UK",
          "AL",
          "AT",
          "BA",
          "BE",
          "BG",
          "CH",
          "CZ",
          "DE",
          "DK",
          "EA",
          "EA19",
          "EE",
          "EL",
          "ES",
          "EU15",
          "EU27_2020",
          "EU28",
          "FI",
          "FR",
          "HR",
          "HU",
          "IE",
          "IS",
          "IT",
          "LT",
          "LU",
          "LV",
          "ME",
          "MK",
          "MT",
          "NL",
          "NO",
          "PL",
          "PT",
          "RO",
          "RS",
          "SE",
          "SI",
          "SK",
          "TR",
          "UK",
          "AL",
          "AT",
          "BA",
          "BE",
          "BG",
          "CH",
          "CZ",
          "DE",
          "DK",
          "EA19",
          "EE",
          "EL",
          "ES",
          "EU15",
          "EU27_2020",
          "EU28",
          "FI",
          "FR",
          "HR",
          "HU",
          "IE",
          "IS",
          "IT",
          "LT",
          "LU",
          "LV",
          "ME",
          "MK",
          "MT",
          "NL",
          "NO",
          "PL",
          "PT",
          "RO",
          "RS",
          "SE",
          "SI",
          "SK",
          "TR",
          "UK",
          "AL",
          "AT",
          "BA",
          "BE",
          "BG",
          "CH",
          "CZ",
          "DE",
          "DK",
          "EA19",
          "EE",
          "EL",
          "ES",
          "EU15",
          "EU27_2020",
          "EU28",
          "FI",
          "FR",
          "HR",
          "HU",
          "IE",
          "IS",
          "IT",
          "LT",
          "LU",
          "LV",
          "ME",
          "MK",
          "MT",
          "NL",
          "NO",
          "PL",
          "PT",
          "RO",
          "RS",
          "SE",
          "SI",
          "SK",
          "TR",
          "UK"
         ],
         "name": "",
         "type": "choropleth",
         "z": [
          1.6,
          21.1,
          3.4,
          20.3,
          2.5,
          34.9,
          6.8,
          19.6,
          32.1,
          18.4,
          18.4,
          7.3,
          10.2,
          14.8,
          20,
          15.8,
          16.6,
          24.9,
          20.9,
          6.9,
          5,
          23.3,
          20.2,
          16.7,
          3.8,
          21.1,
          4.3,
          3.4,
          2.8,
          8.5,
          25.6,
          40.7,
          5.7,
          9.2,
          2.5,
          3.9,
          26.4,
          10.1,
          6.3,
          3.6,
          21.4,
          0.4,
          7.3,
          0.3,
          13.1,
          0.5,
          9,
          2.5,
          5.5,
          4.3,
          6.3,
          6.7,
          2.7,
          3.5,
          6.1,
          6.5,
          5.6,
          5.3,
          6.9,
          9.4,
          1.4,
          1.4,
          3.1,
          4.4,
          6.8,
          1.7,
          3.7,
          1.1,
          0.7,
          0.3,
          0.9,
          8.1,
          8.5,
          1.2,
          2.4,
          0.7,
          0.7,
          12,
          1.8,
          2.2,
          0.7,
          3.6,
          2,
          28.4,
          3.7,
          33.4,
          3,
          43.8,
          9.3,
          25.1,
          36.4,
          25.1,
          10,
          13.7,
          20.9,
          26.5,
          21.4,
          21.9,
          31.7,
          30.3,
          8.2,
          6.4,
          26.4,
          24.6,
          23.5,
          5.5,
          24.8,
          5.5,
          4.1,
          3.1,
          9.4,
          33.7,
          49.1,
          6.8,
          11.6,
          3.3,
          4.7,
          38.3,
          11.9,
          8.4,
          4.3,
          25,
          19.5,
          25.7,
          7,
          39.2,
          15.7,
          20.5,
          26.6,
          21.9,
          11.8,
          26.7,
          26.7,
          25.7,
          29.1,
          24.6,
          26.2,
          24.3,
          21.7,
          30.9,
          16.4,
          22,
          11.7,
          17.9,
          29.1,
          31.3,
          14.9,
          20.5,
          18,
          8.4,
          9.3,
          24.1,
          17.2,
          17.4,
          20.7,
          22.7,
          15.9,
          31.2,
          14.9,
          25.7,
          17,
          14.5
         ]
        }
       ],
       "frames": [
        {
         "data": [
          {
           "coloraxis": "coloraxis",
           "featureidkey": "properties.id",
           "geo": "geo",
           "geojson": [
            {
             "geometry": {
              "coordinates": [
               20.071,
               41.139
              ],
              "type": "Point"
             },
             "properties": {
              "ar": "28799674148",
              "id": "AL",
              "na": "SHQIPËRIA"
             },
             "type": "Feature"
            },
            {
             "geometry": {
              "coordinates": [
               14.137,
               47.585
              ],
              "type": "Point"
             },
             "properties": {
              "ar": "83944908792",
              "id": "AT",
              "na": "ÖSTERREICH"
             },
             "type": "Feature"
            },
            {
             "geometry": {
              "coordinates": [
               4.659,
               50.643
              ],
              "type": "Point"
             },
             "properties": {
              "ar": "30666252645",
              "id": "BE",
              "na": "BELGIQUE-BELGIË"
             },
             "type": "Feature"
            },
            {
             "geometry": {
              "coordinates": [
               25.235,
               42.755
              ],
              "type": "Point"
             },
             "properties": {
              "ar": "110994229783",
              "id": "BG",
              "na": "BULGARIA"
             },
             "type": "Feature"
            },
            {
             "geometry": {
              "coordinates": [
               8.213,
               46.955
              ],
              "type": "Point"
             },
             "properties": {
              "ar": "41286389372",
              "id": "CH",
              "na": "SCHWEIZ/SUISSE/SVIZZERA"
             },
             "type": "Feature"
            },
            {
             "geometry": {
              "coordinates": [
               33.174,
               35.028
              ],
              "type": "Point"
             },
             "properties": {
              "ar": "9256703982",
              "id": "CY",
              "na": "KYPROS"
             },
             "type": "Feature"
            },
            {
             "geometry": {
              "coordinates": [
               15.328,
               49.738
              ],
              "type": "Point"
             },
             "properties": {
              "ar": "78873251270",
              "id": "CZ",
              "na": "ČESKÁ REPUBLIKA"
             },
             "type": "Feature"
            },
            {
             "geometry": {
              "coordinates": [
               10.379,
               51.074
              ],
              "type": "Point"
             },
             "properties": {
              "ar": "357661390415",
              "id": "DE",
              "na": "DEUTSCHLAND"
             },
             "type": "Feature"
            },
            {
             "geometry": {
              "coordinates": [
               9.319,
               56.027
              ],
              "type": "Point"
             },
             "properties": {
              "ar": "43171428497",
              "id": "DK",
              "na": "DANMARK"
             },
             "type": "Feature"
            },
            {
             "geometry": {
              "coordinates": [
               25.855,
               58.671
              ],
              "type": "Point"
             },
             "properties": {
              "ar": "45344926455",
              "id": "EE",
              "na": "EESTI"
             },
             "type": "Feature"
            },
            {
             "geometry": {
              "coordinates": [
               22.54,
               39.498
              ],
              "type": "Point"
             },
             "properties": {
              "ar": "131759420072",
              "id": "EL",
              "na": "ELLADA"
             },
             "type": "Feature"
            },
            {
             "geometry": {
              "coordinates": [
               -3.552,
               40.382
              ],
              "type": "Point"
             },
             "properties": {
              "ar": "506004058602",
              "id": "ES",
              "na": "ESPAÑA"
             },
             "type": "Feature"
            },
            {
             "geometry": {
              "coordinates": [
               26.279,
               64.497
              ],
              "type": "Point"
             },
             "properties": {
              "ar": "337522470861",
              "id": "FI",
              "na": "SUOMI / FINLAND"
             },
             "type": "Feature"
            },
            {
             "geometry": {
              "coordinates": [
               2.506,
               46.618
              ],
              "type": "Point"
             },
             "properties": {
              "ar": "638364847019",
              "id": "FR",
              "na": "FRANCE"
             },
             "type": "Feature"
            },
            {
             "geometry": {
              "coordinates": [
               16.489,
               43.756
              ],
              "type": "Point"
             },
             "properties": {
              "ar": "56516296161",
              "id": "HR",
              "na": "HRVATSKA"
             },
             "type": "Feature"
            },
            {
             "geometry": {
              "coordinates": [
               19.407,
               47.162
              ],
              "type": "Point"
             },
             "properties": {
              "ar": "93009125408",
              "id": "HU",
              "na": "MAGYARORSZÁG"
             },
             "type": "Feature"
            },
            {
             "geometry": {
              "coordinates": [
               -8.09,
               53.179
              ],
              "type": "Point"
             },
             "properties": {
              "ar": "69940293930",
              "id": "IE",
              "na": "IRELAND"
             },
             "type": "Feature"
            },
            {
             "geometry": {
              "coordinates": [
               -18.857,
               64.756
              ],
              "type": "Point"
             },
             "properties": {
              "ar": "102696958004",
              "id": "IS",
              "na": "ÍSLAND"
             },
             "type": "Feature"
            },
            {
             "geometry": {
              "coordinates": [
               12.532,
               42.837
              ],
              "type": "Point"
             },
             "properties": {
              "ar": "300650239153",
              "id": "IT",
              "na": "ITALIA"
             },
             "type": "Feature"
            },
            {
             "geometry": {
              "coordinates": [
               9.553,
               47.138
              ],
              "type": "Point"
             },
             "properties": {
              "ar": "160027035",
              "id": "LI",
              "na": "LIECHTENSTEIN"
             },
             "type": "Feature"
            },
            {
             "geometry": {
              "coordinates": [
               23.92,
               55.335
              ],
              "type": "Point"
             },
             "properties": {
              "ar": "64896830575",
              "id": "LT",
              "na": "LIETUVA"
             },
             "type": "Feature"
            },
            {
             "geometry": {
              "coordinates": [
               6.094,
               49.771
              ],
              "type": "Point"
             },
             "properties": {
              "ar": "2595980536",
              "id": "LU",
              "na": "LUXEMBOURG"
             },
             "type": "Feature"
            },
            {
             "geometry": {
              "coordinates": [
               26.382,
               56.683
              ],
              "type": "Point"
             },
             "properties": {
              "ar": "64586856302",
              "id": "LV",
              "na": "LATVIJA"
             },
             "type": "Feature"
            },
            {
             "geometry": {
              "coordinates": [
               19.269,
               42.772
              ],
              "type": "Point"
             },
             "properties": {
              "ar": "13881667823",
              "id": "ME",
              "na": "CRNA GORA"
             },
             "type": "Feature"
            },
            {
             "geometry": {
              "coordinates": [
               21.697,
               41.598
              ],
              "type": "Point"
             },
             "properties": {
              "ar": "25433732311",
              "id": "MK",
              "na": "North Macedonia"
             },
             "type": "Feature"
            },
            {
             "geometry": {
              "coordinates": [
               14.431,
               35.886
              ],
              "type": "Point"
             },
             "properties": {
              "ar": "313896740",
              "id": "MT",
              "na": "MALTA"
             },
             "type": "Feature"
            },
            {
             "geometry": {
              "coordinates": [
               5.646,
               52.293
              ],
              "type": "Point"
             },
             "properties": {
              "ar": "37380411293",
              "id": "NL",
              "na": "NEDERLAND"
             },
             "type": "Feature"
            },
            {
             "geometry": {
              "coordinates": [
               9.298,
               61.388
              ],
              "type": "Point"
             },
             "properties": {
              "ar": "323337377165",
              "id": "NO",
              "na": "NORGE"
             },
             "type": "Feature"
            },
            {
             "geometry": {
              "coordinates": [
               19.407,
               52.131
              ],
              "type": "Point"
             },
             "properties": {
              "ar": "311940525907",
              "id": "PL",
              "na": "POLSKA"
             },
             "type": "Feature"
            },
            {
             "geometry": {
              "coordinates": [
               -7.97,
               39.687
              ],
              "type": "Point"
             },
             "properties": {
              "ar": "91909150969",
              "id": "PT",
              "na": "PORTUGAL"
             },
             "type": "Feature"
            },
            {
             "geometry": {
              "coordinates": [
               24.978,
               45.836
              ],
              "type": "Point"
             },
             "properties": {
              "ar": "238368617959",
              "id": "RO",
              "na": "ROMÂNIA"
             },
             "type": "Feature"
            },
            {
             "geometry": {
              "coordinates": [
               20.797,
               44.236
              ],
              "type": "Point"
             },
             "properties": {
              "ar": "77487750334",
              "id": "RS",
              "na": "REPUBLIKA SRBIJA /РЕПУБЛИКА СРБИЈА"
             },
             "type": "Feature"
            },
            {
             "geometry": {
              "coordinates": [
               14.444,
               60.642
              ],
              "type": "Point"
             },
             "properties": {
              "ar": "449655124316",
              "id": "SE",
              "na": "SVERIGE"
             },
             "type": "Feature"
            },
            {
             "geometry": {
              "coordinates": [
               14.817,
               46.128
              ],
              "type": "Point"
             },
             "properties": {
              "ar": "20271712958",
              "id": "SI",
              "na": "SLOVENIJA"
             },
             "type": "Feature"
            },
            {
             "geometry": {
              "coordinates": [
               19.474,
               48.704
              ],
              "type": "Point"
             },
             "properties": {
              "ar": "49023912056",
              "id": "SK",
              "na": "SLOVENSKO"
             },
             "type": "Feature"
            },
            {
             "geometry": {
              "coordinates": [
               35.471,
               38.992
              ],
              "type": "Point"
             },
             "properties": {
              "ar": "780375435940",
              "id": "TR",
              "na": "TÜRKIYE"
             },
             "type": "Feature"
            },
            {
             "geometry": {
              "coordinates": [
               -2.109,
               53.279
              ],
              "type": "Point"
             },
             "properties": {
              "ar": "244545006004",
              "id": "UK",
              "na": "UNITED KINGDOM"
             },
             "type": "Feature"
            }
           ],
           "hovertemplate": "TIME_PERIOD=2012<br>geo=%{location}<br>OBS_VALUE=%{z}<extra></extra>",
           "locationmode": "country names",
           "locations": [
            "AL",
            "AT",
            "BA",
            "BE",
            "BG",
            "CH",
            "CZ",
            "DE",
            "DK",
            "EA",
            "EA19",
            "EE",
            "EL",
            "ES",
            "EU15",
            "EU27_2020",
            "EU28",
            "FI",
            "FR",
            "HR",
            "HU",
            "IE",
            "IS",
            "IT",
            "LT",
            "LU",
            "LV",
            "ME",
            "MK",
            "MT",
            "NL",
            "NO",
            "PL",
            "PT",
            "RO",
            "RS",
            "SE",
            "SI",
            "SK",
            "TR",
            "UK",
            "AL",
            "AT",
            "BA",
            "BE",
            "BG",
            "CH",
            "CZ",
            "DE",
            "DK",
            "EA",
            "EA19",
            "EE",
            "EL",
            "ES",
            "EU15",
            "EU27_2020",
            "EU28",
            "FI",
            "FR",
            "HR",
            "HU",
            "IE",
            "IS",
            "IT",
            "LT",
            "LU",
            "LV",
            "ME",
            "MK",
            "MT",
            "NL",
            "NO",
            "PL",
            "PT",
            "RO",
            "RS",
            "SE",
            "SI",
            "SK",
            "TR",
            "UK",
            "AL",
            "AT",
            "BA",
            "BE",
            "BG",
            "CH",
            "CZ",
            "DE",
            "DK",
            "EA19",
            "EE",
            "EL",
            "ES",
            "EU15",
            "EU27_2020",
            "EU28",
            "FI",
            "FR",
            "HR",
            "HU",
            "IE",
            "IS",
            "IT",
            "LT",
            "LU",
            "LV",
            "ME",
            "MK",
            "MT",
            "NL",
            "NO",
            "PL",
            "PT",
            "RO",
            "RS",
            "SE",
            "SI",
            "SK",
            "TR",
            "UK",
            "AL",
            "AT",
            "BA",
            "BE",
            "BG",
            "CH",
            "CZ",
            "DE",
            "DK",
            "EA19",
            "EE",
            "EL",
            "ES",
            "EU15",
            "EU27_2020",
            "EU28",
            "FI",
            "FR",
            "HR",
            "HU",
            "IE",
            "IS",
            "IT",
            "LT",
            "LU",
            "LV",
            "ME",
            "MK",
            "MT",
            "NL",
            "NO",
            "PL",
            "PT",
            "RO",
            "RS",
            "SE",
            "SI",
            "SK",
            "TR",
            "UK"
           ],
           "name": "",
           "type": "choropleth",
           "z": [
            1.6,
            21.1,
            3.4,
            20.3,
            2.5,
            34.9,
            6.8,
            19.6,
            32.1,
            18.4,
            18.4,
            7.3,
            10.2,
            14.8,
            20,
            15.8,
            16.6,
            24.9,
            20.9,
            6.9,
            5,
            23.3,
            20.2,
            16.7,
            3.8,
            21.1,
            4.3,
            3.4,
            2.8,
            8.5,
            25.6,
            40.7,
            5.7,
            9.2,
            2.5,
            3.9,
            26.4,
            10.1,
            6.3,
            3.6,
            21.4,
            0.4,
            7.3,
            0.3,
            13.1,
            0.5,
            9,
            2.5,
            5.5,
            4.3,
            6.3,
            6.7,
            2.7,
            3.5,
            6.1,
            6.5,
            5.6,
            5.3,
            6.9,
            9.4,
            1.4,
            1.4,
            3.1,
            4.4,
            6.8,
            1.7,
            3.7,
            1.1,
            0.7,
            0.3,
            0.9,
            8.1,
            8.5,
            1.2,
            2.4,
            0.7,
            0.7,
            12,
            1.8,
            2.2,
            0.7,
            3.6,
            2,
            28.4,
            3.7,
            33.4,
            3,
            43.8,
            9.3,
            25.1,
            36.4,
            25.1,
            10,
            13.7,
            20.9,
            26.5,
            21.4,
            21.9,
            31.7,
            30.3,
            8.2,
            6.4,
            26.4,
            24.6,
            23.5,
            5.5,
            24.8,
            5.5,
            4.1,
            3.1,
            9.4,
            33.7,
            49.1,
            6.8,
            11.6,
            3.3,
            4.7,
            38.3,
            11.9,
            8.4,
            4.3,
            25,
            19.5,
            25.7,
            7,
            39.2,
            15.7,
            20.5,
            26.6,
            21.9,
            11.8,
            26.7,
            26.7,
            25.7,
            29.1,
            24.6,
            26.2,
            24.3,
            21.7,
            30.9,
            16.4,
            22,
            11.7,
            17.9,
            29.1,
            31.3,
            14.9,
            20.5,
            18,
            8.4,
            9.3,
            24.1,
            17.2,
            17.4,
            20.7,
            22.7,
            15.9,
            31.2,
            14.9,
            25.7,
            17,
            14.5
           ]
          }
         ],
         "name": "2012"
        },
        {
         "data": [
          {
           "coloraxis": "coloraxis",
           "featureidkey": "properties.id",
           "geo": "geo",
           "geojson": [
            {
             "geometry": {
              "coordinates": [
               20.071,
               41.139
              ],
              "type": "Point"
             },
             "properties": {
              "ar": "28799674148",
              "id": "AL",
              "na": "SHQIPËRIA"
             },
             "type": "Feature"
            },
            {
             "geometry": {
              "coordinates": [
               14.137,
               47.585
              ],
              "type": "Point"
             },
             "properties": {
              "ar": "83944908792",
              "id": "AT",
              "na": "ÖSTERREICH"
             },
             "type": "Feature"
            },
            {
             "geometry": {
              "coordinates": [
               4.659,
               50.643
              ],
              "type": "Point"
             },
             "properties": {
              "ar": "30666252645",
              "id": "BE",
              "na": "BELGIQUE-BELGIË"
             },
             "type": "Feature"
            },
            {
             "geometry": {
              "coordinates": [
               25.235,
               42.755
              ],
              "type": "Point"
             },
             "properties": {
              "ar": "110994229783",
              "id": "BG",
              "na": "BULGARIA"
             },
             "type": "Feature"
            },
            {
             "geometry": {
              "coordinates": [
               8.213,
               46.955
              ],
              "type": "Point"
             },
             "properties": {
              "ar": "41286389372",
              "id": "CH",
              "na": "SCHWEIZ/SUISSE/SVIZZERA"
             },
             "type": "Feature"
            },
            {
             "geometry": {
              "coordinates": [
               33.174,
               35.028
              ],
              "type": "Point"
             },
             "properties": {
              "ar": "9256703982",
              "id": "CY",
              "na": "KYPROS"
             },
             "type": "Feature"
            },
            {
             "geometry": {
              "coordinates": [
               15.328,
               49.738
              ],
              "type": "Point"
             },
             "properties": {
              "ar": "78873251270",
              "id": "CZ",
              "na": "ČESKÁ REPUBLIKA"
             },
             "type": "Feature"
            },
            {
             "geometry": {
              "coordinates": [
               10.379,
               51.074
              ],
              "type": "Point"
             },
             "properties": {
              "ar": "357661390415",
              "id": "DE",
              "na": "DEUTSCHLAND"
             },
             "type": "Feature"
            },
            {
             "geometry": {
              "coordinates": [
               9.319,
               56.027
              ],
              "type": "Point"
             },
             "properties": {
              "ar": "43171428497",
              "id": "DK",
              "na": "DANMARK"
             },
             "type": "Feature"
            },
            {
             "geometry": {
              "coordinates": [
               25.855,
               58.671
              ],
              "type": "Point"
             },
             "properties": {
              "ar": "45344926455",
              "id": "EE",
              "na": "EESTI"
             },
             "type": "Feature"
            },
            {
             "geometry": {
              "coordinates": [
               22.54,
               39.498
              ],
              "type": "Point"
             },
             "properties": {
              "ar": "131759420072",
              "id": "EL",
              "na": "ELLADA"
             },
             "type": "Feature"
            },
            {
             "geometry": {
              "coordinates": [
               -3.552,
               40.382
              ],
              "type": "Point"
             },
             "properties": {
              "ar": "506004058602",
              "id": "ES",
              "na": "ESPAÑA"
             },
             "type": "Feature"
            },
            {
             "geometry": {
              "coordinates": [
               26.279,
               64.497
              ],
              "type": "Point"
             },
             "properties": {
              "ar": "337522470861",
              "id": "FI",
              "na": "SUOMI / FINLAND"
             },
             "type": "Feature"
            },
            {
             "geometry": {
              "coordinates": [
               2.506,
               46.618
              ],
              "type": "Point"
             },
             "properties": {
              "ar": "638364847019",
              "id": "FR",
              "na": "FRANCE"
             },
             "type": "Feature"
            },
            {
             "geometry": {
              "coordinates": [
               16.489,
               43.756
              ],
              "type": "Point"
             },
             "properties": {
              "ar": "56516296161",
              "id": "HR",
              "na": "HRVATSKA"
             },
             "type": "Feature"
            },
            {
             "geometry": {
              "coordinates": [
               19.407,
               47.162
              ],
              "type": "Point"
             },
             "properties": {
              "ar": "93009125408",
              "id": "HU",
              "na": "MAGYARORSZÁG"
             },
             "type": "Feature"
            },
            {
             "geometry": {
              "coordinates": [
               -8.09,
               53.179
              ],
              "type": "Point"
             },
             "properties": {
              "ar": "69940293930",
              "id": "IE",
              "na": "IRELAND"
             },
             "type": "Feature"
            },
            {
             "geometry": {
              "coordinates": [
               -18.857,
               64.756
              ],
              "type": "Point"
             },
             "properties": {
              "ar": "102696958004",
              "id": "IS",
              "na": "ÍSLAND"
             },
             "type": "Feature"
            },
            {
             "geometry": {
              "coordinates": [
               12.532,
               42.837
              ],
              "type": "Point"
             },
             "properties": {
              "ar": "300650239153",
              "id": "IT",
              "na": "ITALIA"
             },
             "type": "Feature"
            },
            {
             "geometry": {
              "coordinates": [
               9.553,
               47.138
              ],
              "type": "Point"
             },
             "properties": {
              "ar": "160027035",
              "id": "LI",
              "na": "LIECHTENSTEIN"
             },
             "type": "Feature"
            },
            {
             "geometry": {
              "coordinates": [
               23.92,
               55.335
              ],
              "type": "Point"
             },
             "properties": {
              "ar": "64896830575",
              "id": "LT",
              "na": "LIETUVA"
             },
             "type": "Feature"
            },
            {
             "geometry": {
              "coordinates": [
               6.094,
               49.771
              ],
              "type": "Point"
             },
             "properties": {
              "ar": "2595980536",
              "id": "LU",
              "na": "LUXEMBOURG"
             },
             "type": "Feature"
            },
            {
             "geometry": {
              "coordinates": [
               26.382,
               56.683
              ],
              "type": "Point"
             },
             "properties": {
              "ar": "64586856302",
              "id": "LV",
              "na": "LATVIJA"
             },
             "type": "Feature"
            },
            {
             "geometry": {
              "coordinates": [
               19.269,
               42.772
              ],
              "type": "Point"
             },
             "properties": {
              "ar": "13881667823",
              "id": "ME",
              "na": "CRNA GORA"
             },
             "type": "Feature"
            },
            {
             "geometry": {
              "coordinates": [
               21.697,
               41.598
              ],
              "type": "Point"
             },
             "properties": {
              "ar": "25433732311",
              "id": "MK",
              "na": "North Macedonia"
             },
             "type": "Feature"
            },
            {
             "geometry": {
              "coordinates": [
               14.431,
               35.886
              ],
              "type": "Point"
             },
             "properties": {
              "ar": "313896740",
              "id": "MT",
              "na": "MALTA"
             },
             "type": "Feature"
            },
            {
             "geometry": {
              "coordinates": [
               5.646,
               52.293
              ],
              "type": "Point"
             },
             "properties": {
              "ar": "37380411293",
              "id": "NL",
              "na": "NEDERLAND"
             },
             "type": "Feature"
            },
            {
             "geometry": {
              "coordinates": [
               9.298,
               61.388
              ],
              "type": "Point"
             },
             "properties": {
              "ar": "323337377165",
              "id": "NO",
              "na": "NORGE"
             },
             "type": "Feature"
            },
            {
             "geometry": {
              "coordinates": [
               19.407,
               52.131
              ],
              "type": "Point"
             },
             "properties": {
              "ar": "311940525907",
              "id": "PL",
              "na": "POLSKA"
             },
             "type": "Feature"
            },
            {
             "geometry": {
              "coordinates": [
               -7.97,
               39.687
              ],
              "type": "Point"
             },
             "properties": {
              "ar": "91909150969",
              "id": "PT",
              "na": "PORTUGAL"
             },
             "type": "Feature"
            },
            {
             "geometry": {
              "coordinates": [
               24.978,
               45.836
              ],
              "type": "Point"
             },
             "properties": {
              "ar": "238368617959",
              "id": "RO",
              "na": "ROMÂNIA"
             },
             "type": "Feature"
            },
            {
             "geometry": {
              "coordinates": [
               20.797,
               44.236
              ],
              "type": "Point"
             },
             "properties": {
              "ar": "77487750334",
              "id": "RS",
              "na": "REPUBLIKA SRBIJA /РЕПУБЛИКА СРБИЈА"
             },
             "type": "Feature"
            },
            {
             "geometry": {
              "coordinates": [
               14.444,
               60.642
              ],
              "type": "Point"
             },
             "properties": {
              "ar": "449655124316",
              "id": "SE",
              "na": "SVERIGE"
             },
             "type": "Feature"
            },
            {
             "geometry": {
              "coordinates": [
               14.817,
               46.128
              ],
              "type": "Point"
             },
             "properties": {
              "ar": "20271712958",
              "id": "SI",
              "na": "SLOVENIJA"
             },
             "type": "Feature"
            },
            {
             "geometry": {
              "coordinates": [
               19.474,
               48.704
              ],
              "type": "Point"
             },
             "properties": {
              "ar": "49023912056",
              "id": "SK",
              "na": "SLOVENSKO"
             },
             "type": "Feature"
            },
            {
             "geometry": {
              "coordinates": [
               35.471,
               38.992
              ],
              "type": "Point"
             },
             "properties": {
              "ar": "780375435940",
              "id": "TR",
              "na": "TÜRKIYE"
             },
             "type": "Feature"
            },
            {
             "geometry": {
              "coordinates": [
               -2.109,
               53.279
              ],
              "type": "Point"
             },
             "properties": {
              "ar": "244545006004",
              "id": "UK",
              "na": "UNITED KINGDOM"
             },
             "type": "Feature"
            }
           ],
           "hovertemplate": "TIME_PERIOD=2016<br>geo=%{location}<br>OBS_VALUE=%{z}<extra></extra>",
           "locationmode": "country names",
           "locations": [
            "AL",
            "AT",
            "BA",
            "BE",
            "BG",
            "CH",
            "CZ",
            "DE",
            "DK",
            "EA",
            "EA19",
            "EE",
            "EL",
            "ES",
            "EU15",
            "EU27_2020",
            "EU28",
            "FI",
            "FR",
            "HR",
            "HU",
            "IE",
            "IS",
            "IT",
            "LT",
            "LU",
            "LV",
            "ME",
            "MK",
            "MT",
            "NL",
            "NO",
            "PL",
            "PT",
            "RO",
            "RS",
            "SE",
            "SI",
            "SK",
            "TR",
            "UK",
            "AL",
            "AT",
            "BA",
            "BE",
            "BG",
            "CH",
            "CZ",
            "DE",
            "DK",
            "EA",
            "EA19",
            "EE",
            "EL",
            "ES",
            "EU15",
            "EU27_2020",
            "EU28",
            "FI",
            "FR",
            "HR",
            "HU",
            "IE",
            "IS",
            "IT",
            "LT",
            "LU",
            "LV",
            "ME",
            "MK",
            "MT",
            "NL",
            "NO",
            "PL",
            "PT",
            "RO",
            "RS",
            "SE",
            "SI",
            "SK",
            "TR",
            "UK",
            "AL",
            "AT",
            "BA",
            "BE",
            "BG",
            "CH",
            "CZ",
            "DE",
            "DK",
            "EA19",
            "EE",
            "EL",
            "ES",
            "EU15",
            "EU27_2020",
            "EU28",
            "FI",
            "FR",
            "HR",
            "HU",
            "IE",
            "IS",
            "IT",
            "LT",
            "LU",
            "LV",
            "ME",
            "MK",
            "MT",
            "NL",
            "NO",
            "PL",
            "PT",
            "RO",
            "RS",
            "SE",
            "SI",
            "SK",
            "TR",
            "UK",
            "AL",
            "AT",
            "BA",
            "BE",
            "BG",
            "CH",
            "CZ",
            "DE",
            "DK",
            "EA19",
            "EE",
            "EL",
            "ES",
            "EU15",
            "EU27_2020",
            "EU28",
            "FI",
            "FR",
            "HR",
            "HU",
            "IE",
            "IS",
            "IT",
            "LT",
            "LU",
            "LV",
            "ME",
            "MK",
            "MT",
            "NL",
            "NO",
            "PL",
            "PT",
            "RO",
            "RS",
            "SE",
            "SI",
            "SK",
            "TR",
            "UK"
           ],
           "name": "",
           "type": "choropleth",
           "z": [
            2,
            23.3,
            3.4,
            23.9,
            3.1,
            38.6,
            7,
            20.8,
            34,
            19.3,
            19.4,
            8.7,
            9.5,
            14.6,
            21.1,
            17,
            17.9,
            26.4,
            21.9,
            7.1,
            4.8,
            22.8,
            31.5,
            16.5,
            5,
            22.7,
            6.3,
            3.7,
            3.5,
            10,
            26.7,
            34.5,
            6.6,
            7.6,
            3.2,
            3.6,
            25.8,
            11.2,
            6.7,
            4,
            22.7,
            0.4,
            9.8,
            0.3,
            10.9,
            0.6,
            9.4,
            2.6,
            5.9,
            4.6,
            6.3,
            6.8,
            3.1,
            3.1,
            5.7,
            6.7,
            5.9,
            5.6,
            7.6,
            9.2,
            1.3,
            1.6,
            2.9,
            6.5,
            6.9,
            2.2,
            3.4,
            1.6,
            0.6,
            0,
            1,
            8.8,
            6.9,
            1.5,
            2.1,
            0.8,
            0.7,
            11.6,
            2,
            2.3,
            0.8,
            4.2,
            2.4,
            33.1,
            3.7,
            34.8,
            3.6,
            48.1,
            9.6,
            26.7,
            38.7,
            26.2,
            11.8,
            12.6,
            20.3,
            27.8,
            22.9,
            23.5,
            34,
            31.1,
            8.4,
            6.4,
            25.7,
            38,
            23.5,
            7.2,
            26.1,
            8,
            4.3,
            3.6,
            11,
            35.6,
            41.4,
            8.1,
            9.7,
            4,
            4.3,
            37.4,
            13.2,
            9,
            4.8,
            26.9,
            15.3,
            29.7,
            7.9,
            31.4,
            15.4,
            19.6,
            26.9,
            22.1,
            12,
            26.1,
            26.2,
            24.3,
            28.1,
            24.1,
            25.7,
            23.9,
            22.4,
            29.5,
            15,
            25.1,
            11.2,
            17,
            29.6,
            30.2,
            13.1,
            20.6,
            13.8,
            1.1,
            8.8,
            24.8,
            16.7,
            18.7,
            21.8,
            19.7,
            16.9,
            31.1,
            15.4,
            25.7,
            17.4,
            15.5
           ]
          }
         ],
         "name": "2016"
        },
        {
         "data": [
          {
           "coloraxis": "coloraxis",
           "featureidkey": "properties.id",
           "geo": "geo",
           "geojson": [
            {
             "geometry": {
              "coordinates": [
               20.071,
               41.139
              ],
              "type": "Point"
             },
             "properties": {
              "ar": "28799674148",
              "id": "AL",
              "na": "SHQIPËRIA"
             },
             "type": "Feature"
            },
            {
             "geometry": {
              "coordinates": [
               14.137,
               47.585
              ],
              "type": "Point"
             },
             "properties": {
              "ar": "83944908792",
              "id": "AT",
              "na": "ÖSTERREICH"
             },
             "type": "Feature"
            },
            {
             "geometry": {
              "coordinates": [
               4.659,
               50.643
              ],
              "type": "Point"
             },
             "properties": {
              "ar": "30666252645",
              "id": "BE",
              "na": "BELGIQUE-BELGIË"
             },
             "type": "Feature"
            },
            {
             "geometry": {
              "coordinates": [
               25.235,
               42.755
              ],
              "type": "Point"
             },
             "properties": {
              "ar": "110994229783",
              "id": "BG",
              "na": "BULGARIA"
             },
             "type": "Feature"
            },
            {
             "geometry": {
              "coordinates": [
               8.213,
               46.955
              ],
              "type": "Point"
             },
             "properties": {
              "ar": "41286389372",
              "id": "CH",
              "na": "SCHWEIZ/SUISSE/SVIZZERA"
             },
             "type": "Feature"
            },
            {
             "geometry": {
              "coordinates": [
               33.174,
               35.028
              ],
              "type": "Point"
             },
             "properties": {
              "ar": "9256703982",
              "id": "CY",
              "na": "KYPROS"
             },
             "type": "Feature"
            },
            {
             "geometry": {
              "coordinates": [
               15.328,
               49.738
              ],
              "type": "Point"
             },
             "properties": {
              "ar": "78873251270",
              "id": "CZ",
              "na": "ČESKÁ REPUBLIKA"
             },
             "type": "Feature"
            },
            {
             "geometry": {
              "coordinates": [
               10.379,
               51.074
              ],
              "type": "Point"
             },
             "properties": {
              "ar": "357661390415",
              "id": "DE",
              "na": "DEUTSCHLAND"
             },
             "type": "Feature"
            },
            {
             "geometry": {
              "coordinates": [
               9.319,
               56.027
              ],
              "type": "Point"
             },
             "properties": {
              "ar": "43171428497",
              "id": "DK",
              "na": "DANMARK"
             },
             "type": "Feature"
            },
            {
             "geometry": {
              "coordinates": [
               25.855,
               58.671
              ],
              "type": "Point"
             },
             "properties": {
              "ar": "45344926455",
              "id": "EE",
              "na": "EESTI"
             },
             "type": "Feature"
            },
            {
             "geometry": {
              "coordinates": [
               22.54,
               39.498
              ],
              "type": "Point"
             },
             "properties": {
              "ar": "131759420072",
              "id": "EL",
              "na": "ELLADA"
             },
             "type": "Feature"
            },
            {
             "geometry": {
              "coordinates": [
               -3.552,
               40.382
              ],
              "type": "Point"
             },
             "properties": {
              "ar": "506004058602",
              "id": "ES",
              "na": "ESPAÑA"
             },
             "type": "Feature"
            },
            {
             "geometry": {
              "coordinates": [
               26.279,
               64.497
              ],
              "type": "Point"
             },
             "properties": {
              "ar": "337522470861",
              "id": "FI",
              "na": "SUOMI / FINLAND"
             },
             "type": "Feature"
            },
            {
             "geometry": {
              "coordinates": [
               2.506,
               46.618
              ],
              "type": "Point"
             },
             "properties": {
              "ar": "638364847019",
              "id": "FR",
              "na": "FRANCE"
             },
             "type": "Feature"
            },
            {
             "geometry": {
              "coordinates": [
               16.489,
               43.756
              ],
              "type": "Point"
             },
             "properties": {
              "ar": "56516296161",
              "id": "HR",
              "na": "HRVATSKA"
             },
             "type": "Feature"
            },
            {
             "geometry": {
              "coordinates": [
               19.407,
               47.162
              ],
              "type": "Point"
             },
             "properties": {
              "ar": "93009125408",
              "id": "HU",
              "na": "MAGYARORSZÁG"
             },
             "type": "Feature"
            },
            {
             "geometry": {
              "coordinates": [
               -8.09,
               53.179
              ],
              "type": "Point"
             },
             "properties": {
              "ar": "69940293930",
              "id": "IE",
              "na": "IRELAND"
             },
             "type": "Feature"
            },
            {
             "geometry": {
              "coordinates": [
               -18.857,
               64.756
              ],
              "type": "Point"
             },
             "properties": {
              "ar": "102696958004",
              "id": "IS",
              "na": "ÍSLAND"
             },
             "type": "Feature"
            },
            {
             "geometry": {
              "coordinates": [
               12.532,
               42.837
              ],
              "type": "Point"
             },
             "properties": {
              "ar": "300650239153",
              "id": "IT",
              "na": "ITALIA"
             },
             "type": "Feature"
            },
            {
             "geometry": {
              "coordinates": [
               9.553,
               47.138
              ],
              "type": "Point"
             },
             "properties": {
              "ar": "160027035",
              "id": "LI",
              "na": "LIECHTENSTEIN"
             },
             "type": "Feature"
            },
            {
             "geometry": {
              "coordinates": [
               23.92,
               55.335
              ],
              "type": "Point"
             },
             "properties": {
              "ar": "64896830575",
              "id": "LT",
              "na": "LIETUVA"
             },
             "type": "Feature"
            },
            {
             "geometry": {
              "coordinates": [
               6.094,
               49.771
              ],
              "type": "Point"
             },
             "properties": {
              "ar": "2595980536",
              "id": "LU",
              "na": "LUXEMBOURG"
             },
             "type": "Feature"
            },
            {
             "geometry": {
              "coordinates": [
               26.382,
               56.683
              ],
              "type": "Point"
             },
             "properties": {
              "ar": "64586856302",
              "id": "LV",
              "na": "LATVIJA"
             },
             "type": "Feature"
            },
            {
             "geometry": {
              "coordinates": [
               19.269,
               42.772
              ],
              "type": "Point"
             },
             "properties": {
              "ar": "13881667823",
              "id": "ME",
              "na": "CRNA GORA"
             },
             "type": "Feature"
            },
            {
             "geometry": {
              "coordinates": [
               21.697,
               41.598
              ],
              "type": "Point"
             },
             "properties": {
              "ar": "25433732311",
              "id": "MK",
              "na": "North Macedonia"
             },
             "type": "Feature"
            },
            {
             "geometry": {
              "coordinates": [
               14.431,
               35.886
              ],
              "type": "Point"
             },
             "properties": {
              "ar": "313896740",
              "id": "MT",
              "na": "MALTA"
             },
             "type": "Feature"
            },
            {
             "geometry": {
              "coordinates": [
               5.646,
               52.293
              ],
              "type": "Point"
             },
             "properties": {
              "ar": "37380411293",
              "id": "NL",
              "na": "NEDERLAND"
             },
             "type": "Feature"
            },
            {
             "geometry": {
              "coordinates": [
               9.298,
               61.388
              ],
              "type": "Point"
             },
             "properties": {
              "ar": "323337377165",
              "id": "NO",
              "na": "NORGE"
             },
             "type": "Feature"
            },
            {
             "geometry": {
              "coordinates": [
               19.407,
               52.131
              ],
              "type": "Point"
             },
             "properties": {
              "ar": "311940525907",
              "id": "PL",
              "na": "POLSKA"
             },
             "type": "Feature"
            },
            {
             "geometry": {
              "coordinates": [
               -7.97,
               39.687
              ],
              "type": "Point"
             },
             "properties": {
              "ar": "91909150969",
              "id": "PT",
              "na": "PORTUGAL"
             },
             "type": "Feature"
            },
            {
             "geometry": {
              "coordinates": [
               24.978,
               45.836
              ],
              "type": "Point"
             },
             "properties": {
              "ar": "238368617959",
              "id": "RO",
              "na": "ROMÂNIA"
             },
             "type": "Feature"
            },
            {
             "geometry": {
              "coordinates": [
               20.797,
               44.236
              ],
              "type": "Point"
             },
             "properties": {
              "ar": "77487750334",
              "id": "RS",
              "na": "REPUBLIKA SRBIJA /РЕПУБЛИКА СРБИЈА"
             },
             "type": "Feature"
            },
            {
             "geometry": {
              "coordinates": [
               14.444,
               60.642
              ],
              "type": "Point"
             },
             "properties": {
              "ar": "449655124316",
              "id": "SE",
              "na": "SVERIGE"
             },
             "type": "Feature"
            },
            {
             "geometry": {
              "coordinates": [
               14.817,
               46.128
              ],
              "type": "Point"
             },
             "properties": {
              "ar": "20271712958",
              "id": "SI",
              "na": "SLOVENIJA"
             },
             "type": "Feature"
            },
            {
             "geometry": {
              "coordinates": [
               19.474,
               48.704
              ],
              "type": "Point"
             },
             "properties": {
              "ar": "49023912056",
              "id": "SK",
              "na": "SLOVENSKO"
             },
             "type": "Feature"
            },
            {
             "geometry": {
              "coordinates": [
               35.471,
               38.992
              ],
              "type": "Point"
             },
             "properties": {
              "ar": "780375435940",
              "id": "TR",
              "na": "TÜRKIYE"
             },
             "type": "Feature"
            },
            {
             "geometry": {
              "coordinates": [
               -2.109,
               53.279
              ],
              "type": "Point"
             },
             "properties": {
              "ar": "244545006004",
              "id": "UK",
              "na": "UNITED KINGDOM"
             },
             "type": "Feature"
            }
           ],
           "hovertemplate": "TIME_PERIOD=2000<br>geo=%{location}<br>OBS_VALUE=%{z}<extra></extra>",
           "locationmode": "country names",
           "locations": [
            "AT",
            "BE",
            "BG",
            "CZ",
            "DE",
            "DK",
            "EA",
            "EE",
            "EL",
            "ES",
            "EU15",
            "FI",
            "FR",
            "HU",
            "IE",
            "IS",
            "IT",
            "LT",
            "LU",
            "LV",
            "NL",
            "PT",
            "SE",
            "SI",
            "SK",
            "UK",
            "AT",
            "BE",
            "BG",
            "CZ",
            "DE",
            "DK",
            "EA",
            "EE",
            "EL",
            "ES",
            "EU15",
            "FI",
            "FR",
            "HU",
            "IE",
            "IS",
            "IT",
            "LT",
            "LU",
            "LV",
            "NL",
            "PT",
            "SE",
            "SI",
            "SK",
            "UK",
            "AT",
            "BE",
            "BG",
            "CZ",
            "DE",
            "DK",
            "EA",
            "EE",
            "EL",
            "ES",
            "EU15",
            "FI",
            "FR",
            "HU",
            "IE",
            "IS",
            "IT",
            "LT",
            "LU",
            "LV",
            "NL",
            "PT",
            "SE",
            "SI",
            "SK",
            "UK",
            "AT",
            "BE",
            "BG",
            "CZ",
            "DE",
            "DK",
            "EA",
            "EE",
            "EL",
            "ES",
            "EU15",
            "FI",
            "FR",
            "HU",
            "IE",
            "IS",
            "IT",
            "LT",
            "LU",
            "LV",
            "NL",
            "PT",
            "SE",
            "SI",
            "SK",
            "UK"
           ],
           "name": "",
           "type": "choropleth",
           "z": [
            17.1,
            14.1,
            0.8,
            2.6,
            16.2,
            23.8,
            13,
            2,
            6.9,
            8.9,
            14.2,
            16.4,
            14.6,
            2,
            13.8,
            22.5,
            11,
            1.7,
            14.2,
            1.1,
            17.8,
            5.6,
            17.5,
            6.3,
            2.1,
            18.6,
            4,
            9.7,
            0.3,
            1,
            3.8,
            1,
            4.5,
            0.7,
            1.7,
            3.2,
            4.5,
            4.5,
            5.9,
            0.9,
            2.8,
            3,
            4.9,
            0.7,
            2.4,
            0.3,
            5.4,
            1.3,
            8.2,
            1.3,
            0.8,
            3.8,
            21.1,
            23.8,
            1.1,
            3.6,
            20.1,
            24.7,
            17.5,
            2.7,
            8.6,
            12,
            18.7,
            20.8,
            20.4,
            2.9,
            16.6,
            25.5,
            16,
            2.4,
            16.6,
            1.4,
            23.2,
            6.9,
            25.7,
            7.6,
            3,
            22.4,
            19,
            40.6,
            27.4,
            27.4,
            19.2,
            4,
            25.6,
            26.7,
            19.5,
            26.4,
            24.2,
            21.5,
            28.7,
            30.8,
            16.7,
            11.9,
            30.9,
            28.5,
            14.3,
            22.3,
            23.2,
            19.3,
            32,
            17.1,
            28,
            16.9
           ]
          }
         ],
         "name": "2000"
        },
        {
         "data": [
          {
           "coloraxis": "coloraxis",
           "featureidkey": "properties.id",
           "geo": "geo",
           "geojson": [
            {
             "geometry": {
              "coordinates": [
               20.071,
               41.139
              ],
              "type": "Point"
             },
             "properties": {
              "ar": "28799674148",
              "id": "AL",
              "na": "SHQIPËRIA"
             },
             "type": "Feature"
            },
            {
             "geometry": {
              "coordinates": [
               14.137,
               47.585
              ],
              "type": "Point"
             },
             "properties": {
              "ar": "83944908792",
              "id": "AT",
              "na": "ÖSTERREICH"
             },
             "type": "Feature"
            },
            {
             "geometry": {
              "coordinates": [
               4.659,
               50.643
              ],
              "type": "Point"
             },
             "properties": {
              "ar": "30666252645",
              "id": "BE",
              "na": "BELGIQUE-BELGIË"
             },
             "type": "Feature"
            },
            {
             "geometry": {
              "coordinates": [
               25.235,
               42.755
              ],
              "type": "Point"
             },
             "properties": {
              "ar": "110994229783",
              "id": "BG",
              "na": "BULGARIA"
             },
             "type": "Feature"
            },
            {
             "geometry": {
              "coordinates": [
               8.213,
               46.955
              ],
              "type": "Point"
             },
             "properties": {
              "ar": "41286389372",
              "id": "CH",
              "na": "SCHWEIZ/SUISSE/SVIZZERA"
             },
             "type": "Feature"
            },
            {
             "geometry": {
              "coordinates": [
               33.174,
               35.028
              ],
              "type": "Point"
             },
             "properties": {
              "ar": "9256703982",
              "id": "CY",
              "na": "KYPROS"
             },
             "type": "Feature"
            },
            {
             "geometry": {
              "coordinates": [
               15.328,
               49.738
              ],
              "type": "Point"
             },
             "properties": {
              "ar": "78873251270",
              "id": "CZ",
              "na": "ČESKÁ REPUBLIKA"
             },
             "type": "Feature"
            },
            {
             "geometry": {
              "coordinates": [
               10.379,
               51.074
              ],
              "type": "Point"
             },
             "properties": {
              "ar": "357661390415",
              "id": "DE",
              "na": "DEUTSCHLAND"
             },
             "type": "Feature"
            },
            {
             "geometry": {
              "coordinates": [
               9.319,
               56.027
              ],
              "type": "Point"
             },
             "properties": {
              "ar": "43171428497",
              "id": "DK",
              "na": "DANMARK"
             },
             "type": "Feature"
            },
            {
             "geometry": {
              "coordinates": [
               25.855,
               58.671
              ],
              "type": "Point"
             },
             "properties": {
              "ar": "45344926455",
              "id": "EE",
              "na": "EESTI"
             },
             "type": "Feature"
            },
            {
             "geometry": {
              "coordinates": [
               22.54,
               39.498
              ],
              "type": "Point"
             },
             "properties": {
              "ar": "131759420072",
              "id": "EL",
              "na": "ELLADA"
             },
             "type": "Feature"
            },
            {
             "geometry": {
              "coordinates": [
               -3.552,
               40.382
              ],
              "type": "Point"
             },
             "properties": {
              "ar": "506004058602",
              "id": "ES",
              "na": "ESPAÑA"
             },
             "type": "Feature"
            },
            {
             "geometry": {
              "coordinates": [
               26.279,
               64.497
              ],
              "type": "Point"
             },
             "properties": {
              "ar": "337522470861",
              "id": "FI",
              "na": "SUOMI / FINLAND"
             },
             "type": "Feature"
            },
            {
             "geometry": {
              "coordinates": [
               2.506,
               46.618
              ],
              "type": "Point"
             },
             "properties": {
              "ar": "638364847019",
              "id": "FR",
              "na": "FRANCE"
             },
             "type": "Feature"
            },
            {
             "geometry": {
              "coordinates": [
               16.489,
               43.756
              ],
              "type": "Point"
             },
             "properties": {
              "ar": "56516296161",
              "id": "HR",
              "na": "HRVATSKA"
             },
             "type": "Feature"
            },
            {
             "geometry": {
              "coordinates": [
               19.407,
               47.162
              ],
              "type": "Point"
             },
             "properties": {
              "ar": "93009125408",
              "id": "HU",
              "na": "MAGYARORSZÁG"
             },
             "type": "Feature"
            },
            {
             "geometry": {
              "coordinates": [
               -8.09,
               53.179
              ],
              "type": "Point"
             },
             "properties": {
              "ar": "69940293930",
              "id": "IE",
              "na": "IRELAND"
             },
             "type": "Feature"
            },
            {
             "geometry": {
              "coordinates": [
               -18.857,
               64.756
              ],
              "type": "Point"
             },
             "properties": {
              "ar": "102696958004",
              "id": "IS",
              "na": "ÍSLAND"
             },
             "type": "Feature"
            },
            {
             "geometry": {
              "coordinates": [
               12.532,
               42.837
              ],
              "type": "Point"
             },
             "properties": {
              "ar": "300650239153",
              "id": "IT",
              "na": "ITALIA"
             },
             "type": "Feature"
            },
            {
             "geometry": {
              "coordinates": [
               9.553,
               47.138
              ],
              "type": "Point"
             },
             "properties": {
              "ar": "160027035",
              "id": "LI",
              "na": "LIECHTENSTEIN"
             },
             "type": "Feature"
            },
            {
             "geometry": {
              "coordinates": [
               23.92,
               55.335
              ],
              "type": "Point"
             },
             "properties": {
              "ar": "64896830575",
              "id": "LT",
              "na": "LIETUVA"
             },
             "type": "Feature"
            },
            {
             "geometry": {
              "coordinates": [
               6.094,
               49.771
              ],
              "type": "Point"
             },
             "properties": {
              "ar": "2595980536",
              "id": "LU",
              "na": "LUXEMBOURG"
             },
             "type": "Feature"
            },
            {
             "geometry": {
              "coordinates": [
               26.382,
               56.683
              ],
              "type": "Point"
             },
             "properties": {
              "ar": "64586856302",
              "id": "LV",
              "na": "LATVIJA"
             },
             "type": "Feature"
            },
            {
             "geometry": {
              "coordinates": [
               19.269,
               42.772
              ],
              "type": "Point"
             },
             "properties": {
              "ar": "13881667823",
              "id": "ME",
              "na": "CRNA GORA"
             },
             "type": "Feature"
            },
            {
             "geometry": {
              "coordinates": [
               21.697,
               41.598
              ],
              "type": "Point"
             },
             "properties": {
              "ar": "25433732311",
              "id": "MK",
              "na": "North Macedonia"
             },
             "type": "Feature"
            },
            {
             "geometry": {
              "coordinates": [
               14.431,
               35.886
              ],
              "type": "Point"
             },
             "properties": {
              "ar": "313896740",
              "id": "MT",
              "na": "MALTA"
             },
             "type": "Feature"
            },
            {
             "geometry": {
              "coordinates": [
               5.646,
               52.293
              ],
              "type": "Point"
             },
             "properties": {
              "ar": "37380411293",
              "id": "NL",
              "na": "NEDERLAND"
             },
             "type": "Feature"
            },
            {
             "geometry": {
              "coordinates": [
               9.298,
               61.388
              ],
              "type": "Point"
             },
             "properties": {
              "ar": "323337377165",
              "id": "NO",
              "na": "NORGE"
             },
             "type": "Feature"
            },
            {
             "geometry": {
              "coordinates": [
               19.407,
               52.131
              ],
              "type": "Point"
             },
             "properties": {
              "ar": "311940525907",
              "id": "PL",
              "na": "POLSKA"
             },
             "type": "Feature"
            },
            {
             "geometry": {
              "coordinates": [
               -7.97,
               39.687
              ],
              "type": "Point"
             },
             "properties": {
              "ar": "91909150969",
              "id": "PT",
              "na": "PORTUGAL"
             },
             "type": "Feature"
            },
            {
             "geometry": {
              "coordinates": [
               24.978,
               45.836
              ],
              "type": "Point"
             },
             "properties": {
              "ar": "238368617959",
              "id": "RO",
              "na": "ROMÂNIA"
             },
             "type": "Feature"
            },
            {
             "geometry": {
              "coordinates": [
               20.797,
               44.236
              ],
              "type": "Point"
             },
             "properties": {
              "ar": "77487750334",
              "id": "RS",
              "na": "REPUBLIKA SRBIJA /РЕПУБЛИКА СРБИЈА"
             },
             "type": "Feature"
            },
            {
             "geometry": {
              "coordinates": [
               14.444,
               60.642
              ],
              "type": "Point"
             },
             "properties": {
              "ar": "449655124316",
              "id": "SE",
              "na": "SVERIGE"
             },
             "type": "Feature"
            },
            {
             "geometry": {
              "coordinates": [
               14.817,
               46.128
              ],
              "type": "Point"
             },
             "properties": {
              "ar": "20271712958",
              "id": "SI",
              "na": "SLOVENIJA"
             },
             "type": "Feature"
            },
            {
             "geometry": {
              "coordinates": [
               19.474,
               48.704
              ],
              "type": "Point"
             },
             "properties": {
              "ar": "49023912056",
              "id": "SK",
              "na": "SLOVENSKO"
             },
             "type": "Feature"
            },
            {
             "geometry": {
              "coordinates": [
               35.471,
               38.992
              ],
              "type": "Point"
             },
             "properties": {
              "ar": "780375435940",
              "id": "TR",
              "na": "TÜRKIYE"
             },
             "type": "Feature"
            },
            {
             "geometry": {
              "coordinates": [
               -2.109,
               53.279
              ],
              "type": "Point"
             },
             "properties": {
              "ar": "244545006004",
              "id": "UK",
              "na": "UNITED KINGDOM"
             },
             "type": "Feature"
            }
           ],
           "hovertemplate": "TIME_PERIOD=2004<br>geo=%{location}<br>OBS_VALUE=%{z}<extra></extra>",
           "locationmode": "country names",
           "locations": [
            "AT",
            "BE",
            "BG",
            "CZ",
            "DE",
            "DK",
            "EA",
            "EA19",
            "EE",
            "EL",
            "ES",
            "EU27_2020",
            "EU28",
            "FI",
            "FR",
            "HR",
            "HU",
            "IE",
            "IS",
            "IT",
            "LT",
            "LU",
            "LV",
            "MT",
            "NL",
            "PL",
            "PT",
            "RO",
            "SE",
            "SI",
            "SK",
            "UK",
            "AT",
            "BE",
            "BG",
            "CZ",
            "DE",
            "DK",
            "EA",
            "EA19",
            "EE",
            "EL",
            "ES",
            "EU27_2020",
            "EU28",
            "FI",
            "FR",
            "HR",
            "HU",
            "IE",
            "IS",
            "IT",
            "LT",
            "LU",
            "LV",
            "MT",
            "NL",
            "PL",
            "PT",
            "RO",
            "SE",
            "SI",
            "SK",
            "UK",
            "AT",
            "BE",
            "BG",
            "CZ",
            "DE",
            "DK",
            "EA19",
            "EE",
            "EL",
            "ES",
            "EU27_2020",
            "EU28",
            "FI",
            "FR",
            "HR",
            "HU",
            "IE",
            "IS",
            "IT",
            "LT",
            "LU",
            "LV",
            "MT",
            "NL",
            "PL",
            "PT",
            "RO",
            "SE",
            "SI",
            "SK",
            "UK",
            "AT",
            "BE",
            "BG",
            "CZ",
            "DE",
            "DK",
            "EA19",
            "EE",
            "EL",
            "ES",
            "EU27_2020",
            "EU28",
            "FI",
            "FR",
            "HR",
            "HU",
            "IE",
            "IS",
            "IT",
            "LT",
            "LU",
            "LV",
            "MT",
            "NL",
            "PL",
            "PT",
            "RO",
            "SE",
            "SI",
            "SK",
            "UK"
           ],
           "name": "",
           "type": "choropleth",
           "z": [
            19.3,
            17.1,
            0.9,
            3.9,
            17,
            26.4,
            14.7,
            13.9,
            3.4,
            9.3,
            10.2,
            12.1,
            13,
            17.8,
            17.4,
            5.4,
            3.1,
            22.4,
            24.8,
            14.2,
            2.2,
            15.9,
            1.8,
            6.8,
            21.2,
            3.1,
            6.5,
            1.1,
            18.7,
            7.5,
            2.9,
            18.9,
            5.3,
            11.8,
            0.3,
            1.5,
            4.2,
            2.3,
            5.1,
            5.3,
            1.2,
            3.9,
            4,
            4.5,
            4.3,
            4.8,
            7.3,
            1,
            1.3,
            3.7,
            4.1,
            6.3,
            0.9,
            3,
            0.5,
            0.6,
            6.3,
            0.8,
            1.7,
            0.4,
            8.7,
            1.7,
            0.9,
            3.6,
            24.6,
            28.9,
            1.3,
            5.4,
            21.2,
            28.7,
            19.2,
            4.6,
            13.1,
            14.2,
            16.5,
            17.3,
            22.7,
            24.7,
            6.3,
            4.4,
            26,
            28.8,
            20.5,
            3,
            19,
            2.3,
            7.5,
            27.5,
            3.9,
            8.2,
            1.5,
            27.4,
            9.2,
            3.8,
            22.5,
            21.7,
            40.9,
            27.2,
            28,
            19.7,
            7.9,
            27.5,
            26.6,
            29.6,
            28.1,
            27,
            25.1,
            21.4,
            29.5,
            15.2,
            28.8,
            14.1,
            14.1,
            30.8,
            28.9,
            16.1,
            21.3,
            8.6,
            22.9,
            19.6,
            20.7,
            25.6,
            31.8,
            18.2,
            24.8,
            16
           ]
          }
         ],
         "name": "2004"
        },
        {
         "data": [
          {
           "coloraxis": "coloraxis",
           "featureidkey": "properties.id",
           "geo": "geo",
           "geojson": [
            {
             "geometry": {
              "coordinates": [
               20.071,
               41.139
              ],
              "type": "Point"
             },
             "properties": {
              "ar": "28799674148",
              "id": "AL",
              "na": "SHQIPËRIA"
             },
             "type": "Feature"
            },
            {
             "geometry": {
              "coordinates": [
               14.137,
               47.585
              ],
              "type": "Point"
             },
             "properties": {
              "ar": "83944908792",
              "id": "AT",
              "na": "ÖSTERREICH"
             },
             "type": "Feature"
            },
            {
             "geometry": {
              "coordinates": [
               4.659,
               50.643
              ],
              "type": "Point"
             },
             "properties": {
              "ar": "30666252645",
              "id": "BE",
              "na": "BELGIQUE-BELGIË"
             },
             "type": "Feature"
            },
            {
             "geometry": {
              "coordinates": [
               25.235,
               42.755
              ],
              "type": "Point"
             },
             "properties": {
              "ar": "110994229783",
              "id": "BG",
              "na": "BULGARIA"
             },
             "type": "Feature"
            },
            {
             "geometry": {
              "coordinates": [
               8.213,
               46.955
              ],
              "type": "Point"
             },
             "properties": {
              "ar": "41286389372",
              "id": "CH",
              "na": "SCHWEIZ/SUISSE/SVIZZERA"
             },
             "type": "Feature"
            },
            {
             "geometry": {
              "coordinates": [
               33.174,
               35.028
              ],
              "type": "Point"
             },
             "properties": {
              "ar": "9256703982",
              "id": "CY",
              "na": "KYPROS"
             },
             "type": "Feature"
            },
            {
             "geometry": {
              "coordinates": [
               15.328,
               49.738
              ],
              "type": "Point"
             },
             "properties": {
              "ar": "78873251270",
              "id": "CZ",
              "na": "ČESKÁ REPUBLIKA"
             },
             "type": "Feature"
            },
            {
             "geometry": {
              "coordinates": [
               10.379,
               51.074
              ],
              "type": "Point"
             },
             "properties": {
              "ar": "357661390415",
              "id": "DE",
              "na": "DEUTSCHLAND"
             },
             "type": "Feature"
            },
            {
             "geometry": {
              "coordinates": [
               9.319,
               56.027
              ],
              "type": "Point"
             },
             "properties": {
              "ar": "43171428497",
              "id": "DK",
              "na": "DANMARK"
             },
             "type": "Feature"
            },
            {
             "geometry": {
              "coordinates": [
               25.855,
               58.671
              ],
              "type": "Point"
             },
             "properties": {
              "ar": "45344926455",
              "id": "EE",
              "na": "EESTI"
             },
             "type": "Feature"
            },
            {
             "geometry": {
              "coordinates": [
               22.54,
               39.498
              ],
              "type": "Point"
             },
             "properties": {
              "ar": "131759420072",
              "id": "EL",
              "na": "ELLADA"
             },
             "type": "Feature"
            },
            {
             "geometry": {
              "coordinates": [
               -3.552,
               40.382
              ],
              "type": "Point"
             },
             "properties": {
              "ar": "506004058602",
              "id": "ES",
              "na": "ESPAÑA"
             },
             "type": "Feature"
            },
            {
             "geometry": {
              "coordinates": [
               26.279,
               64.497
              ],
              "type": "Point"
             },
             "properties": {
              "ar": "337522470861",
              "id": "FI",
              "na": "SUOMI / FINLAND"
             },
             "type": "Feature"
            },
            {
             "geometry": {
              "coordinates": [
               2.506,
               46.618
              ],
              "type": "Point"
             },
             "properties": {
              "ar": "638364847019",
              "id": "FR",
              "na": "FRANCE"
             },
             "type": "Feature"
            },
            {
             "geometry": {
              "coordinates": [
               16.489,
               43.756
              ],
              "type": "Point"
             },
             "properties": {
              "ar": "56516296161",
              "id": "HR",
              "na": "HRVATSKA"
             },
             "type": "Feature"
            },
            {
             "geometry": {
              "coordinates": [
               19.407,
               47.162
              ],
              "type": "Point"
             },
             "properties": {
              "ar": "93009125408",
              "id": "HU",
              "na": "MAGYARORSZÁG"
             },
             "type": "Feature"
            },
            {
             "geometry": {
              "coordinates": [
               -8.09,
               53.179
              ],
              "type": "Point"
             },
             "properties": {
              "ar": "69940293930",
              "id": "IE",
              "na": "IRELAND"
             },
             "type": "Feature"
            },
            {
             "geometry": {
              "coordinates": [
               -18.857,
               64.756
              ],
              "type": "Point"
             },
             "properties": {
              "ar": "102696958004",
              "id": "IS",
              "na": "ÍSLAND"
             },
             "type": "Feature"
            },
            {
             "geometry": {
              "coordinates": [
               12.532,
               42.837
              ],
              "type": "Point"
             },
             "properties": {
              "ar": "300650239153",
              "id": "IT",
              "na": "ITALIA"
             },
             "type": "Feature"
            },
            {
             "geometry": {
              "coordinates": [
               9.553,
               47.138
              ],
              "type": "Point"
             },
             "properties": {
              "ar": "160027035",
              "id": "LI",
              "na": "LIECHTENSTEIN"
             },
             "type": "Feature"
            },
            {
             "geometry": {
              "coordinates": [
               23.92,
               55.335
              ],
              "type": "Point"
             },
             "properties": {
              "ar": "64896830575",
              "id": "LT",
              "na": "LIETUVA"
             },
             "type": "Feature"
            },
            {
             "geometry": {
              "coordinates": [
               6.094,
               49.771
              ],
              "type": "Point"
             },
             "properties": {
              "ar": "2595980536",
              "id": "LU",
              "na": "LUXEMBOURG"
             },
             "type": "Feature"
            },
            {
             "geometry": {
              "coordinates": [
               26.382,
               56.683
              ],
              "type": "Point"
             },
             "properties": {
              "ar": "64586856302",
              "id": "LV",
              "na": "LATVIJA"
             },
             "type": "Feature"
            },
            {
             "geometry": {
              "coordinates": [
               19.269,
               42.772
              ],
              "type": "Point"
             },
             "properties": {
              "ar": "13881667823",
              "id": "ME",
              "na": "CRNA GORA"
             },
             "type": "Feature"
            },
            {
             "geometry": {
              "coordinates": [
               21.697,
               41.598
              ],
              "type": "Point"
             },
             "properties": {
              "ar": "25433732311",
              "id": "MK",
              "na": "North Macedonia"
             },
             "type": "Feature"
            },
            {
             "geometry": {
              "coordinates": [
               14.431,
               35.886
              ],
              "type": "Point"
             },
             "properties": {
              "ar": "313896740",
              "id": "MT",
              "na": "MALTA"
             },
             "type": "Feature"
            },
            {
             "geometry": {
              "coordinates": [
               5.646,
               52.293
              ],
              "type": "Point"
             },
             "properties": {
              "ar": "37380411293",
              "id": "NL",
              "na": "NEDERLAND"
             },
             "type": "Feature"
            },
            {
             "geometry": {
              "coordinates": [
               9.298,
               61.388
              ],
              "type": "Point"
             },
             "properties": {
              "ar": "323337377165",
              "id": "NO",
              "na": "NORGE"
             },
             "type": "Feature"
            },
            {
             "geometry": {
              "coordinates": [
               19.407,
               52.131
              ],
              "type": "Point"
             },
             "properties": {
              "ar": "311940525907",
              "id": "PL",
              "na": "POLSKA"
             },
             "type": "Feature"
            },
            {
             "geometry": {
              "coordinates": [
               -7.97,
               39.687
              ],
              "type": "Point"
             },
             "properties": {
              "ar": "91909150969",
              "id": "PT",
              "na": "PORTUGAL"
             },
             "type": "Feature"
            },
            {
             "geometry": {
              "coordinates": [
               24.978,
               45.836
              ],
              "type": "Point"
             },
             "properties": {
              "ar": "238368617959",
              "id": "RO",
              "na": "ROMÂNIA"
             },
             "type": "Feature"
            },
            {
             "geometry": {
              "coordinates": [
               20.797,
               44.236
              ],
              "type": "Point"
             },
             "properties": {
              "ar": "77487750334",
              "id": "RS",
              "na": "REPUBLIKA SRBIJA /РЕПУБЛИКА СРБИЈА"
             },
             "type": "Feature"
            },
            {
             "geometry": {
              "coordinates": [
               14.444,
               60.642
              ],
              "type": "Point"
             },
             "properties": {
              "ar": "449655124316",
              "id": "SE",
              "na": "SVERIGE"
             },
             "type": "Feature"
            },
            {
             "geometry": {
              "coordinates": [
               14.817,
               46.128
              ],
              "type": "Point"
             },
             "properties": {
              "ar": "20271712958",
              "id": "SI",
              "na": "SLOVENIJA"
             },
             "type": "Feature"
            },
            {
             "geometry": {
              "coordinates": [
               19.474,
               48.704
              ],
              "type": "Point"
             },
             "properties": {
              "ar": "49023912056",
              "id": "SK",
              "na": "SLOVENSKO"
             },
             "type": "Feature"
            },
            {
             "geometry": {
              "coordinates": [
               35.471,
               38.992
              ],
              "type": "Point"
             },
             "properties": {
              "ar": "780375435940",
              "id": "TR",
              "na": "TÜRKIYE"
             },
             "type": "Feature"
            },
            {
             "geometry": {
              "coordinates": [
               -2.109,
               53.279
              ],
              "type": "Point"
             },
             "properties": {
              "ar": "244545006004",
              "id": "UK",
              "na": "UNITED KINGDOM"
             },
             "type": "Feature"
            }
           ],
           "hovertemplate": "TIME_PERIOD=2008<br>geo=%{location}<br>OBS_VALUE=%{z}<extra></extra>",
           "locationmode": "country names",
           "locations": [
            "AT",
            "BE",
            "BG",
            "CZ",
            "DE",
            "DK",
            "EA",
            "EA19",
            "EE",
            "EL",
            "ES",
            "EU15",
            "EU27_2020",
            "EU28",
            "FI",
            "FR",
            "HR",
            "HU",
            "IE",
            "IS",
            "IT",
            "LT",
            "LU",
            "LV",
            "MT",
            "NL",
            "PL",
            "PT",
            "RO",
            "SE",
            "SI",
            "SK",
            "UK",
            "AT",
            "BE",
            "BG",
            "CZ",
            "DE",
            "DK",
            "EA",
            "EA19",
            "EE",
            "EL",
            "ES",
            "EU15",
            "EU27_2020",
            "EU28",
            "FI",
            "FR",
            "HR",
            "HU",
            "IE",
            "IS",
            "IT",
            "LT",
            "LU",
            "LV",
            "MT",
            "NL",
            "PL",
            "PT",
            "RO",
            "SE",
            "SI",
            "SK",
            "UK",
            "AT",
            "BE",
            "BG",
            "CZ",
            "DE",
            "DK",
            "EA19",
            "EE",
            "EL",
            "ES",
            "EU15",
            "EU27_2020",
            "EU28",
            "FI",
            "FR",
            "HR",
            "HU",
            "IE",
            "IS",
            "IT",
            "LT",
            "LU",
            "LV",
            "MT",
            "NL",
            "PL",
            "PT",
            "RO",
            "SE",
            "SI",
            "SK",
            "UK",
            "AT",
            "BE",
            "BG",
            "CZ",
            "DE",
            "DK",
            "EA19",
            "EE",
            "EL",
            "ES",
            "EU15",
            "EU27_2020",
            "EU28",
            "FI",
            "FR",
            "HR",
            "HU",
            "IE",
            "IS",
            "IT",
            "LT",
            "LU",
            "LV",
            "MT",
            "NL",
            "PL",
            "PT",
            "RO",
            "SE",
            "SI",
            "SK",
            "UK"
           ],
           "name": "",
           "type": "choropleth",
           "z": [
            19.3,
            18,
            1.7,
            6.4,
            17.7,
            29.3,
            16.6,
            15.6,
            6.6,
            11.7,
            12.7,
            17.6,
            13.6,
            14.4,
            22.1,
            19.6,
            6.8,
            4.5,
            23.4,
            18.2,
            15.3,
            4.7,
            18.9,
            4.4,
            7.7,
            23.3,
            5.9,
            7.6,
            2.7,
            21.5,
            9.5,
            5.1,
            21.4,
            7.2,
            10.6,
            0.4,
            2.3,
            5,
            3.9,
            5.6,
            5.7,
            2.4,
            3.8,
            5.2,
            5.7,
            4.8,
            4.6,
            6.3,
            8.4,
            1.2,
            1.7,
            4.3,
            3.3,
            6.6,
            1.9,
            3.1,
            1.2,
            0.8,
            7,
            1.2,
            2,
            0.8,
            9.7,
            1.8,
            1.6,
            3.4,
            26.5,
            28.6,
            2,
            8.7,
            22.7,
            33.2,
            21.4,
            9,
            15.6,
            17.9,
            23.3,
            18.4,
            19.1,
            28.3,
            28,
            8,
            6.2,
            27.7,
            21.6,
            22,
            6.6,
            22,
            5.6,
            8.5,
            30.3,
            7.1,
            9.7,
            3.5,
            31.2,
            11.2,
            6.7,
            24.8,
            27.3,
            37.1,
            18,
            26.6,
            22,
            11.8,
            26.8,
            26.1,
            24.5,
            29,
            24.6,
            26.1,
            24.3,
            22.1,
            30,
            14.5,
            27.8,
            15.5,
            15.5,
            30.2,
            28.8,
            14.3,
            21.2,
            9.5,
            23.2,
            17.3,
            21.1,
            22.3,
            31,
            15.6,
            24.4,
            13.7
           ]
          }
         ],
         "name": "2008"
        },
        {
         "data": [
          {
           "coloraxis": "coloraxis",
           "featureidkey": "properties.id",
           "geo": "geo",
           "geojson": [
            {
             "geometry": {
              "coordinates": [
               20.071,
               41.139
              ],
              "type": "Point"
             },
             "properties": {
              "ar": "28799674148",
              "id": "AL",
              "na": "SHQIPËRIA"
             },
             "type": "Feature"
            },
            {
             "geometry": {
              "coordinates": [
               14.137,
               47.585
              ],
              "type": "Point"
             },
             "properties": {
              "ar": "83944908792",
              "id": "AT",
              "na": "ÖSTERREICH"
             },
             "type": "Feature"
            },
            {
             "geometry": {
              "coordinates": [
               4.659,
               50.643
              ],
              "type": "Point"
             },
             "properties": {
              "ar": "30666252645",
              "id": "BE",
              "na": "BELGIQUE-BELGIË"
             },
             "type": "Feature"
            },
            {
             "geometry": {
              "coordinates": [
               25.235,
               42.755
              ],
              "type": "Point"
             },
             "properties": {
              "ar": "110994229783",
              "id": "BG",
              "na": "BULGARIA"
             },
             "type": "Feature"
            },
            {
             "geometry": {
              "coordinates": [
               8.213,
               46.955
              ],
              "type": "Point"
             },
             "properties": {
              "ar": "41286389372",
              "id": "CH",
              "na": "SCHWEIZ/SUISSE/SVIZZERA"
             },
             "type": "Feature"
            },
            {
             "geometry": {
              "coordinates": [
               33.174,
               35.028
              ],
              "type": "Point"
             },
             "properties": {
              "ar": "9256703982",
              "id": "CY",
              "na": "KYPROS"
             },
             "type": "Feature"
            },
            {
             "geometry": {
              "coordinates": [
               15.328,
               49.738
              ],
              "type": "Point"
             },
             "properties": {
              "ar": "78873251270",
              "id": "CZ",
              "na": "ČESKÁ REPUBLIKA"
             },
             "type": "Feature"
            },
            {
             "geometry": {
              "coordinates": [
               10.379,
               51.074
              ],
              "type": "Point"
             },
             "properties": {
              "ar": "357661390415",
              "id": "DE",
              "na": "DEUTSCHLAND"
             },
             "type": "Feature"
            },
            {
             "geometry": {
              "coordinates": [
               9.319,
               56.027
              ],
              "type": "Point"
             },
             "properties": {
              "ar": "43171428497",
              "id": "DK",
              "na": "DANMARK"
             },
             "type": "Feature"
            },
            {
             "geometry": {
              "coordinates": [
               25.855,
               58.671
              ],
              "type": "Point"
             },
             "properties": {
              "ar": "45344926455",
              "id": "EE",
              "na": "EESTI"
             },
             "type": "Feature"
            },
            {
             "geometry": {
              "coordinates": [
               22.54,
               39.498
              ],
              "type": "Point"
             },
             "properties": {
              "ar": "131759420072",
              "id": "EL",
              "na": "ELLADA"
             },
             "type": "Feature"
            },
            {
             "geometry": {
              "coordinates": [
               -3.552,
               40.382
              ],
              "type": "Point"
             },
             "properties": {
              "ar": "506004058602",
              "id": "ES",
              "na": "ESPAÑA"
             },
             "type": "Feature"
            },
            {
             "geometry": {
              "coordinates": [
               26.279,
               64.497
              ],
              "type": "Point"
             },
             "properties": {
              "ar": "337522470861",
              "id": "FI",
              "na": "SUOMI / FINLAND"
             },
             "type": "Feature"
            },
            {
             "geometry": {
              "coordinates": [
               2.506,
               46.618
              ],
              "type": "Point"
             },
             "properties": {
              "ar": "638364847019",
              "id": "FR",
              "na": "FRANCE"
             },
             "type": "Feature"
            },
            {
             "geometry": {
              "coordinates": [
               16.489,
               43.756
              ],
              "type": "Point"
             },
             "properties": {
              "ar": "56516296161",
              "id": "HR",
              "na": "HRVATSKA"
             },
             "type": "Feature"
            },
            {
             "geometry": {
              "coordinates": [
               19.407,
               47.162
              ],
              "type": "Point"
             },
             "properties": {
              "ar": "93009125408",
              "id": "HU",
              "na": "MAGYARORSZÁG"
             },
             "type": "Feature"
            },
            {
             "geometry": {
              "coordinates": [
               -8.09,
               53.179
              ],
              "type": "Point"
             },
             "properties": {
              "ar": "69940293930",
              "id": "IE",
              "na": "IRELAND"
             },
             "type": "Feature"
            },
            {
             "geometry": {
              "coordinates": [
               -18.857,
               64.756
              ],
              "type": "Point"
             },
             "properties": {
              "ar": "102696958004",
              "id": "IS",
              "na": "ÍSLAND"
             },
             "type": "Feature"
            },
            {
             "geometry": {
              "coordinates": [
               12.532,
               42.837
              ],
              "type": "Point"
             },
             "properties": {
              "ar": "300650239153",
              "id": "IT",
              "na": "ITALIA"
             },
             "type": "Feature"
            },
            {
             "geometry": {
              "coordinates": [
               9.553,
               47.138
              ],
              "type": "Point"
             },
             "properties": {
              "ar": "160027035",
              "id": "LI",
              "na": "LIECHTENSTEIN"
             },
             "type": "Feature"
            },
            {
             "geometry": {
              "coordinates": [
               23.92,
               55.335
              ],
              "type": "Point"
             },
             "properties": {
              "ar": "64896830575",
              "id": "LT",
              "na": "LIETUVA"
             },
             "type": "Feature"
            },
            {
             "geometry": {
              "coordinates": [
               6.094,
               49.771
              ],
              "type": "Point"
             },
             "properties": {
              "ar": "2595980536",
              "id": "LU",
              "na": "LUXEMBOURG"
             },
             "type": "Feature"
            },
            {
             "geometry": {
              "coordinates": [
               26.382,
               56.683
              ],
              "type": "Point"
             },
             "properties": {
              "ar": "64586856302",
              "id": "LV",
              "na": "LATVIJA"
             },
             "type": "Feature"
            },
            {
             "geometry": {
              "coordinates": [
               19.269,
               42.772
              ],
              "type": "Point"
             },
             "properties": {
              "ar": "13881667823",
              "id": "ME",
              "na": "CRNA GORA"
             },
             "type": "Feature"
            },
            {
             "geometry": {
              "coordinates": [
               21.697,
               41.598
              ],
              "type": "Point"
             },
             "properties": {
              "ar": "25433732311",
              "id": "MK",
              "na": "North Macedonia"
             },
             "type": "Feature"
            },
            {
             "geometry": {
              "coordinates": [
               14.431,
               35.886
              ],
              "type": "Point"
             },
             "properties": {
              "ar": "313896740",
              "id": "MT",
              "na": "MALTA"
             },
             "type": "Feature"
            },
            {
             "geometry": {
              "coordinates": [
               5.646,
               52.293
              ],
              "type": "Point"
             },
             "properties": {
              "ar": "37380411293",
              "id": "NL",
              "na": "NEDERLAND"
             },
             "type": "Feature"
            },
            {
             "geometry": {
              "coordinates": [
               9.298,
               61.388
              ],
              "type": "Point"
             },
             "properties": {
              "ar": "323337377165",
              "id": "NO",
              "na": "NORGE"
             },
             "type": "Feature"
            },
            {
             "geometry": {
              "coordinates": [
               19.407,
               52.131
              ],
              "type": "Point"
             },
             "properties": {
              "ar": "311940525907",
              "id": "PL",
              "na": "POLSKA"
             },
             "type": "Feature"
            },
            {
             "geometry": {
              "coordinates": [
               -7.97,
               39.687
              ],
              "type": "Point"
             },
             "properties": {
              "ar": "91909150969",
              "id": "PT",
              "na": "PORTUGAL"
             },
             "type": "Feature"
            },
            {
             "geometry": {
              "coordinates": [
               24.978,
               45.836
              ],
              "type": "Point"
             },
             "properties": {
              "ar": "238368617959",
              "id": "RO",
              "na": "ROMÂNIA"
             },
             "type": "Feature"
            },
            {
             "geometry": {
              "coordinates": [
               20.797,
               44.236
              ],
              "type": "Point"
             },
             "properties": {
              "ar": "77487750334",
              "id": "RS",
              "na": "REPUBLIKA SRBIJA /РЕПУБЛИКА СРБИЈА"
             },
             "type": "Feature"
            },
            {
             "geometry": {
              "coordinates": [
               14.444,
               60.642
              ],
              "type": "Point"
             },
             "properties": {
              "ar": "449655124316",
              "id": "SE",
              "na": "SVERIGE"
             },
             "type": "Feature"
            },
            {
             "geometry": {
              "coordinates": [
               14.817,
               46.128
              ],
              "type": "Point"
             },
             "properties": {
              "ar": "20271712958",
              "id": "SI",
              "na": "SLOVENIJA"
             },
             "type": "Feature"
            },
            {
             "geometry": {
              "coordinates": [
               19.474,
               48.704
              ],
              "type": "Point"
             },
             "properties": {
              "ar": "49023912056",
              "id": "SK",
              "na": "SLOVENSKO"
             },
             "type": "Feature"
            },
            {
             "geometry": {
              "coordinates": [
               35.471,
               38.992
              ],
              "type": "Point"
             },
             "properties": {
              "ar": "780375435940",
              "id": "TR",
              "na": "TÜRKIYE"
             },
             "type": "Feature"
            },
            {
             "geometry": {
              "coordinates": [
               -2.109,
               53.279
              ],
              "type": "Point"
             },
             "properties": {
              "ar": "244545006004",
              "id": "UK",
              "na": "UNITED KINGDOM"
             },
             "type": "Feature"
            }
           ],
           "hovertemplate": "TIME_PERIOD=2020<br>geo=%{location}<br>OBS_VALUE=%{z}<extra></extra>",
           "locationmode": "country names",
           "locations": [
            "AT",
            "BE",
            "BG",
            "CY",
            "CZ",
            "DE",
            "DK",
            "EA",
            "EA19",
            "EA20",
            "EE",
            "EL",
            "ES",
            "EU15",
            "EU27_2020",
            "FI",
            "FR",
            "HR",
            "HU",
            "IE",
            "IS",
            "IT",
            "LT",
            "LU",
            "LV",
            "MT",
            "NL",
            "NO",
            "PL",
            "PT",
            "RO",
            "RS",
            "SE",
            "SI",
            "SK",
            "TR",
            "AT",
            "BE",
            "BG",
            "CY",
            "CZ",
            "DE",
            "DK",
            "EA",
            "EA19",
            "EA20",
            "EE",
            "EL",
            "ES",
            "EU15",
            "EU27_2020",
            "FI",
            "FR",
            "HR",
            "HU",
            "IE",
            "IS",
            "IT",
            "LT",
            "LU",
            "LV",
            "MT",
            "NL",
            "NO",
            "PL",
            "PT",
            "RO",
            "RS",
            "SE",
            "SI",
            "SK",
            "TR",
            "AT",
            "BE",
            "BG",
            "CY",
            "CZ",
            "DE",
            "DK",
            "EA19",
            "EA20",
            "EE",
            "EL",
            "ES",
            "EU15",
            "EU27_2020",
            "FI",
            "FR",
            "HR",
            "HU",
            "IE",
            "IS",
            "IT",
            "LT",
            "LU",
            "LV",
            "MT",
            "NL",
            "NO",
            "PL",
            "PT",
            "RO",
            "RS",
            "SE",
            "SI",
            "SK",
            "TR",
            "AT",
            "BE",
            "BG",
            "CY",
            "CZ",
            "DE",
            "DK",
            "EA19",
            "EA20",
            "EE",
            "EL",
            "ES",
            "EU15",
            "EU27_2020",
            "FI",
            "FR",
            "HR",
            "HU",
            "IE",
            "IS",
            "IT",
            "LT",
            "LU",
            "LV",
            "MT",
            "NL",
            "NO",
            "PL",
            "PT",
            "RO",
            "RS",
            "SE",
            "SI",
            "SK",
            "TR"
           ],
           "name": "",
           "type": "choropleth",
           "z": [
            24.9,
            25.2,
            4.5,
            12.2,
            9.4,
            24.2,
            37,
            21.5,
            21.4,
            21.4,
            11,
            8.7,
            14.8,
            22.6,
            19,
            28.3,
            25.2,
            8.4,
            6.8,
            26.1,
            34.2,
            16.7,
            9,
            26.3,
            8.9,
            14.2,
            30.1,
            34.3,
            7.8,
            8.7,
            6,
            5.5,
            25.8,
            14.7,
            8.6,
            1.9,
            11.4,
            10.8,
            0.8,
            2.4,
            3.4,
            6.9,
            4.3,
            6.9,
            7.3,
            7.3,
            3.7,
            2.4,
            5.9,
            7.7,
            6.2,
            6.6,
            10.1,
            1.3,
            1.3,
            1.5,
            8.2,
            7.4,
            0.3,
            4.2,
            2.4,
            0.7,
            9.3,
            6.8,
            1.6,
            2.5,
            0.3,
            0.7,
            11.2,
            2.1,
            2.8,
            0.4,
            36.3,
            36,
            5.3,
            14.5,
            12.8,
            31.2,
            41.3,
            28.7,
            28.7,
            14.7,
            11.1,
            20.6,
            30.3,
            25.3,
            34.9,
            35.2,
            9.7,
            8.2,
            27.5,
            42.4,
            24.1,
            9.3,
            30.4,
            11.3,
            14.9,
            39.4,
            41,
            9.5,
            11.3,
            6.3,
            6.3,
            36.9,
            16.8,
            11.3,
            2.2,
            31.3,
            30,
            14.2,
            16.2,
            26.6,
            22.2,
            10.5,
            25.3,
            25.3,
            24.9,
            22,
            28.5,
            25.4,
            24.6,
            19,
            28.5,
            13.5,
            16.3,
            5.3,
            19.4,
            30.7,
            3.2,
            13.7,
            21,
            4.6,
            23.6,
            16.5,
            17.3,
            22.6,
            4.7,
            11.8,
            30.2,
            12.6,
            24.3,
            16.5
           ]
          }
         ],
         "name": "2020"
        },
        {
         "data": [
          {
           "coloraxis": "coloraxis",
           "featureidkey": "properties.id",
           "geo": "geo",
           "geojson": [
            {
             "geometry": {
              "coordinates": [
               20.071,
               41.139
              ],
              "type": "Point"
             },
             "properties": {
              "ar": "28799674148",
              "id": "AL",
              "na": "SHQIPËRIA"
             },
             "type": "Feature"
            },
            {
             "geometry": {
              "coordinates": [
               14.137,
               47.585
              ],
              "type": "Point"
             },
             "properties": {
              "ar": "83944908792",
              "id": "AT",
              "na": "ÖSTERREICH"
             },
             "type": "Feature"
            },
            {
             "geometry": {
              "coordinates": [
               4.659,
               50.643
              ],
              "type": "Point"
             },
             "properties": {
              "ar": "30666252645",
              "id": "BE",
              "na": "BELGIQUE-BELGIË"
             },
             "type": "Feature"
            },
            {
             "geometry": {
              "coordinates": [
               25.235,
               42.755
              ],
              "type": "Point"
             },
             "properties": {
              "ar": "110994229783",
              "id": "BG",
              "na": "BULGARIA"
             },
             "type": "Feature"
            },
            {
             "geometry": {
              "coordinates": [
               8.213,
               46.955
              ],
              "type": "Point"
             },
             "properties": {
              "ar": "41286389372",
              "id": "CH",
              "na": "SCHWEIZ/SUISSE/SVIZZERA"
             },
             "type": "Feature"
            },
            {
             "geometry": {
              "coordinates": [
               33.174,
               35.028
              ],
              "type": "Point"
             },
             "properties": {
              "ar": "9256703982",
              "id": "CY",
              "na": "KYPROS"
             },
             "type": "Feature"
            },
            {
             "geometry": {
              "coordinates": [
               15.328,
               49.738
              ],
              "type": "Point"
             },
             "properties": {
              "ar": "78873251270",
              "id": "CZ",
              "na": "ČESKÁ REPUBLIKA"
             },
             "type": "Feature"
            },
            {
             "geometry": {
              "coordinates": [
               10.379,
               51.074
              ],
              "type": "Point"
             },
             "properties": {
              "ar": "357661390415",
              "id": "DE",
              "na": "DEUTSCHLAND"
             },
             "type": "Feature"
            },
            {
             "geometry": {
              "coordinates": [
               9.319,
               56.027
              ],
              "type": "Point"
             },
             "properties": {
              "ar": "43171428497",
              "id": "DK",
              "na": "DANMARK"
             },
             "type": "Feature"
            },
            {
             "geometry": {
              "coordinates": [
               25.855,
               58.671
              ],
              "type": "Point"
             },
             "properties": {
              "ar": "45344926455",
              "id": "EE",
              "na": "EESTI"
             },
             "type": "Feature"
            },
            {
             "geometry": {
              "coordinates": [
               22.54,
               39.498
              ],
              "type": "Point"
             },
             "properties": {
              "ar": "131759420072",
              "id": "EL",
              "na": "ELLADA"
             },
             "type": "Feature"
            },
            {
             "geometry": {
              "coordinates": [
               -3.552,
               40.382
              ],
              "type": "Point"
             },
             "properties": {
              "ar": "506004058602",
              "id": "ES",
              "na": "ESPAÑA"
             },
             "type": "Feature"
            },
            {
             "geometry": {
              "coordinates": [
               26.279,
               64.497
              ],
              "type": "Point"
             },
             "properties": {
              "ar": "337522470861",
              "id": "FI",
              "na": "SUOMI / FINLAND"
             },
             "type": "Feature"
            },
            {
             "geometry": {
              "coordinates": [
               2.506,
               46.618
              ],
              "type": "Point"
             },
             "properties": {
              "ar": "638364847019",
              "id": "FR",
              "na": "FRANCE"
             },
             "type": "Feature"
            },
            {
             "geometry": {
              "coordinates": [
               16.489,
               43.756
              ],
              "type": "Point"
             },
             "properties": {
              "ar": "56516296161",
              "id": "HR",
              "na": "HRVATSKA"
             },
             "type": "Feature"
            },
            {
             "geometry": {
              "coordinates": [
               19.407,
               47.162
              ],
              "type": "Point"
             },
             "properties": {
              "ar": "93009125408",
              "id": "HU",
              "na": "MAGYARORSZÁG"
             },
             "type": "Feature"
            },
            {
             "geometry": {
              "coordinates": [
               -8.09,
               53.179
              ],
              "type": "Point"
             },
             "properties": {
              "ar": "69940293930",
              "id": "IE",
              "na": "IRELAND"
             },
             "type": "Feature"
            },
            {
             "geometry": {
              "coordinates": [
               -18.857,
               64.756
              ],
              "type": "Point"
             },
             "properties": {
              "ar": "102696958004",
              "id": "IS",
              "na": "ÍSLAND"
             },
             "type": "Feature"
            },
            {
             "geometry": {
              "coordinates": [
               12.532,
               42.837
              ],
              "type": "Point"
             },
             "properties": {
              "ar": "300650239153",
              "id": "IT",
              "na": "ITALIA"
             },
             "type": "Feature"
            },
            {
             "geometry": {
              "coordinates": [
               9.553,
               47.138
              ],
              "type": "Point"
             },
             "properties": {
              "ar": "160027035",
              "id": "LI",
              "na": "LIECHTENSTEIN"
             },
             "type": "Feature"
            },
            {
             "geometry": {
              "coordinates": [
               23.92,
               55.335
              ],
              "type": "Point"
             },
             "properties": {
              "ar": "64896830575",
              "id": "LT",
              "na": "LIETUVA"
             },
             "type": "Feature"
            },
            {
             "geometry": {
              "coordinates": [
               6.094,
               49.771
              ],
              "type": "Point"
             },
             "properties": {
              "ar": "2595980536",
              "id": "LU",
              "na": "LUXEMBOURG"
             },
             "type": "Feature"
            },
            {
             "geometry": {
              "coordinates": [
               26.382,
               56.683
              ],
              "type": "Point"
             },
             "properties": {
              "ar": "64586856302",
              "id": "LV",
              "na": "LATVIJA"
             },
             "type": "Feature"
            },
            {
             "geometry": {
              "coordinates": [
               19.269,
               42.772
              ],
              "type": "Point"
             },
             "properties": {
              "ar": "13881667823",
              "id": "ME",
              "na": "CRNA GORA"
             },
             "type": "Feature"
            },
            {
             "geometry": {
              "coordinates": [
               21.697,
               41.598
              ],
              "type": "Point"
             },
             "properties": {
              "ar": "25433732311",
              "id": "MK",
              "na": "North Macedonia"
             },
             "type": "Feature"
            },
            {
             "geometry": {
              "coordinates": [
               14.431,
               35.886
              ],
              "type": "Point"
             },
             "properties": {
              "ar": "313896740",
              "id": "MT",
              "na": "MALTA"
             },
             "type": "Feature"
            },
            {
             "geometry": {
              "coordinates": [
               5.646,
               52.293
              ],
              "type": "Point"
             },
             "properties": {
              "ar": "37380411293",
              "id": "NL",
              "na": "NEDERLAND"
             },
             "type": "Feature"
            },
            {
             "geometry": {
              "coordinates": [
               9.298,
               61.388
              ],
              "type": "Point"
             },
             "properties": {
              "ar": "323337377165",
              "id": "NO",
              "na": "NORGE"
             },
             "type": "Feature"
            },
            {
             "geometry": {
              "coordinates": [
               19.407,
               52.131
              ],
              "type": "Point"
             },
             "properties": {
              "ar": "311940525907",
              "id": "PL",
              "na": "POLSKA"
             },
             "type": "Feature"
            },
            {
             "geometry": {
              "coordinates": [
               -7.97,
               39.687
              ],
              "type": "Point"
             },
             "properties": {
              "ar": "91909150969",
              "id": "PT",
              "na": "PORTUGAL"
             },
             "type": "Feature"
            },
            {
             "geometry": {
              "coordinates": [
               24.978,
               45.836
              ],
              "type": "Point"
             },
             "properties": {
              "ar": "238368617959",
              "id": "RO",
              "na": "ROMÂNIA"
             },
             "type": "Feature"
            },
            {
             "geometry": {
              "coordinates": [
               20.797,
               44.236
              ],
              "type": "Point"
             },
             "properties": {
              "ar": "77487750334",
              "id": "RS",
              "na": "REPUBLIKA SRBIJA /РЕПУБЛИКА СРБИЈА"
             },
             "type": "Feature"
            },
            {
             "geometry": {
              "coordinates": [
               14.444,
               60.642
              ],
              "type": "Point"
             },
             "properties": {
              "ar": "449655124316",
              "id": "SE",
              "na": "SVERIGE"
             },
             "type": "Feature"
            },
            {
             "geometry": {
              "coordinates": [
               14.817,
               46.128
              ],
              "type": "Point"
             },
             "properties": {
              "ar": "20271712958",
              "id": "SI",
              "na": "SLOVENIJA"
             },
             "type": "Feature"
            },
            {
             "geometry": {
              "coordinates": [
               19.474,
               48.704
              ],
              "type": "Point"
             },
             "properties": {
              "ar": "49023912056",
              "id": "SK",
              "na": "SLOVENSKO"
             },
             "type": "Feature"
            },
            {
             "geometry": {
              "coordinates": [
               35.471,
               38.992
              ],
              "type": "Point"
             },
             "properties": {
              "ar": "780375435940",
              "id": "TR",
              "na": "TÜRKIYE"
             },
             "type": "Feature"
            },
            {
             "geometry": {
              "coordinates": [
               -2.109,
               53.279
              ],
              "type": "Point"
             },
             "properties": {
              "ar": "244545006004",
              "id": "UK",
              "na": "UNITED KINGDOM"
             },
             "type": "Feature"
            }
           ],
           "hovertemplate": "TIME_PERIOD=2021<br>geo=%{location}<br>OBS_VALUE=%{z}<extra></extra>",
           "locationmode": "country names",
           "locations": [
            "AT",
            "BE",
            "BG",
            "CY",
            "CZ",
            "DE",
            "DK",
            "EA19",
            "EA20",
            "EE",
            "EL",
            "ES",
            "EU27_2020",
            "FI",
            "FR",
            "HR",
            "HU",
            "IE",
            "IS",
            "IT",
            "LT",
            "LU",
            "LV",
            "MT",
            "NL",
            "NO",
            "PL",
            "PT",
            "RO",
            "RS",
            "SE",
            "SI",
            "SK",
            "TR",
            "AT",
            "BE",
            "BG",
            "CY",
            "CZ",
            "DE",
            "DK",
            "EA19",
            "EA20",
            "EE",
            "EL",
            "ES",
            "EU27_2020",
            "FI",
            "FR",
            "HR",
            "HU",
            "IE",
            "IS",
            "IT",
            "LT",
            "LU",
            "LV",
            "MT",
            "NL",
            "NO",
            "PL",
            "PT",
            "RO",
            "RS",
            "SE",
            "SI",
            "SK",
            "TR",
            "AT",
            "BE",
            "BG",
            "CY",
            "CZ",
            "DE",
            "DK",
            "EA19",
            "EA20",
            "EE",
            "EL",
            "ES",
            "EU27_2020",
            "FI",
            "FR",
            "HR",
            "HU",
            "IE",
            "IS",
            "IT",
            "LT",
            "LU",
            "LV",
            "MT",
            "NL",
            "NO",
            "PL",
            "PT",
            "RO",
            "RS",
            "SE",
            "SI",
            "SK",
            "TR",
            "AT",
            "BE",
            "BG",
            "CY",
            "CZ",
            "DE",
            "DK",
            "EA19",
            "EA20",
            "EE",
            "EL",
            "ES",
            "EU27_2020",
            "FI",
            "FR",
            "HR",
            "HU",
            "IE",
            "IS",
            "IT",
            "LT",
            "LU",
            "LV",
            "MT",
            "NL",
            "NO",
            "PL",
            "PT",
            "RO",
            "RS",
            "SE",
            "SI",
            "SK",
            "TR"
           ],
           "name": "",
           "type": "choropleth",
           "z": [
            24.9,
            25.5,
            5,
            12.7,
            10,
            25.1,
            38.6,
            21.8,
            21.8,
            11.7,
            8.8,
            14.7,
            19.4,
            29.8,
            25.3,
            8.7,
            7.3,
            27.6,
            32.8,
            16.9,
            10,
            26.7,
            8.9,
            14.7,
            29.5,
            37.2,
            8.2,
            9.3,
            6.1,
            5.9,
            27.1,
            15.6,
            9.1,
            1.7,
            11.6,
            10.9,
            0.8,
            2.9,
            3.8,
            7.3,
            4.5,
            7.4,
            7.4,
            3.9,
            2.4,
            6,
            6.4,
            6.5,
            9.9,
            1.4,
            1.3,
            0.6,
            7.6,
            7.3,
            0.5,
            4,
            2.3,
            0.7,
            9.3,
            7.4,
            1.7,
            2.7,
            0.3,
            1.3,
            12.6,
            2.4,
            2.9,
            0.3,
            36.5,
            36.4,
            5.8,
            15.5,
            13.7,
            32.4,
            43.1,
            29.2,
            29.2,
            15.7,
            11.2,
            20.6,
            25.8,
            36.4,
            35.2,
            10,
            8.6,
            28.6,
            40.4,
            24.1,
            10.5,
            30.8,
            11.2,
            15.4,
            38.7,
            44.6,
            9.9,
            12,
            6.4,
            7.1,
            39.7,
            18,
            12,
            2,
            31.7,
            30,
            13.8,
            18.4,
            27.3,
            22.5,
            10.5,
            25.3,
            25.3,
            25.1,
            21.1,
            28.9,
            24.6,
            17.9,
            28.2,
            13.5,
            15.2,
            2.1,
            18.8,
            30.1,
            5.2,
            13.1,
            20.8,
            4.3,
            23.9,
            16.5,
            17.3,
            22.8,
            4.7,
            18.2,
            31.7,
            13.4,
            23.9,
            16.7
           ]
          }
         ],
         "name": "2021"
        },
        {
         "data": [
          {
           "coloraxis": "coloraxis",
           "featureidkey": "properties.id",
           "geo": "geo",
           "geojson": [
            {
             "geometry": {
              "coordinates": [
               20.071,
               41.139
              ],
              "type": "Point"
             },
             "properties": {
              "ar": "28799674148",
              "id": "AL",
              "na": "SHQIPËRIA"
             },
             "type": "Feature"
            },
            {
             "geometry": {
              "coordinates": [
               14.137,
               47.585
              ],
              "type": "Point"
             },
             "properties": {
              "ar": "83944908792",
              "id": "AT",
              "na": "ÖSTERREICH"
             },
             "type": "Feature"
            },
            {
             "geometry": {
              "coordinates": [
               4.659,
               50.643
              ],
              "type": "Point"
             },
             "properties": {
              "ar": "30666252645",
              "id": "BE",
              "na": "BELGIQUE-BELGIË"
             },
             "type": "Feature"
            },
            {
             "geometry": {
              "coordinates": [
               25.235,
               42.755
              ],
              "type": "Point"
             },
             "properties": {
              "ar": "110994229783",
              "id": "BG",
              "na": "BULGARIA"
             },
             "type": "Feature"
            },
            {
             "geometry": {
              "coordinates": [
               8.213,
               46.955
              ],
              "type": "Point"
             },
             "properties": {
              "ar": "41286389372",
              "id": "CH",
              "na": "SCHWEIZ/SUISSE/SVIZZERA"
             },
             "type": "Feature"
            },
            {
             "geometry": {
              "coordinates": [
               33.174,
               35.028
              ],
              "type": "Point"
             },
             "properties": {
              "ar": "9256703982",
              "id": "CY",
              "na": "KYPROS"
             },
             "type": "Feature"
            },
            {
             "geometry": {
              "coordinates": [
               15.328,
               49.738
              ],
              "type": "Point"
             },
             "properties": {
              "ar": "78873251270",
              "id": "CZ",
              "na": "ČESKÁ REPUBLIKA"
             },
             "type": "Feature"
            },
            {
             "geometry": {
              "coordinates": [
               10.379,
               51.074
              ],
              "type": "Point"
             },
             "properties": {
              "ar": "357661390415",
              "id": "DE",
              "na": "DEUTSCHLAND"
             },
             "type": "Feature"
            },
            {
             "geometry": {
              "coordinates": [
               9.319,
               56.027
              ],
              "type": "Point"
             },
             "properties": {
              "ar": "43171428497",
              "id": "DK",
              "na": "DANMARK"
             },
             "type": "Feature"
            },
            {
             "geometry": {
              "coordinates": [
               25.855,
               58.671
              ],
              "type": "Point"
             },
             "properties": {
              "ar": "45344926455",
              "id": "EE",
              "na": "EESTI"
             },
             "type": "Feature"
            },
            {
             "geometry": {
              "coordinates": [
               22.54,
               39.498
              ],
              "type": "Point"
             },
             "properties": {
              "ar": "131759420072",
              "id": "EL",
              "na": "ELLADA"
             },
             "type": "Feature"
            },
            {
             "geometry": {
              "coordinates": [
               -3.552,
               40.382
              ],
              "type": "Point"
             },
             "properties": {
              "ar": "506004058602",
              "id": "ES",
              "na": "ESPAÑA"
             },
             "type": "Feature"
            },
            {
             "geometry": {
              "coordinates": [
               26.279,
               64.497
              ],
              "type": "Point"
             },
             "properties": {
              "ar": "337522470861",
              "id": "FI",
              "na": "SUOMI / FINLAND"
             },
             "type": "Feature"
            },
            {
             "geometry": {
              "coordinates": [
               2.506,
               46.618
              ],
              "type": "Point"
             },
             "properties": {
              "ar": "638364847019",
              "id": "FR",
              "na": "FRANCE"
             },
             "type": "Feature"
            },
            {
             "geometry": {
              "coordinates": [
               16.489,
               43.756
              ],
              "type": "Point"
             },
             "properties": {
              "ar": "56516296161",
              "id": "HR",
              "na": "HRVATSKA"
             },
             "type": "Feature"
            },
            {
             "geometry": {
              "coordinates": [
               19.407,
               47.162
              ],
              "type": "Point"
             },
             "properties": {
              "ar": "93009125408",
              "id": "HU",
              "na": "MAGYARORSZÁG"
             },
             "type": "Feature"
            },
            {
             "geometry": {
              "coordinates": [
               -8.09,
               53.179
              ],
              "type": "Point"
             },
             "properties": {
              "ar": "69940293930",
              "id": "IE",
              "na": "IRELAND"
             },
             "type": "Feature"
            },
            {
             "geometry": {
              "coordinates": [
               -18.857,
               64.756
              ],
              "type": "Point"
             },
             "properties": {
              "ar": "102696958004",
              "id": "IS",
              "na": "ÍSLAND"
             },
             "type": "Feature"
            },
            {
             "geometry": {
              "coordinates": [
               12.532,
               42.837
              ],
              "type": "Point"
             },
             "properties": {
              "ar": "300650239153",
              "id": "IT",
              "na": "ITALIA"
             },
             "type": "Feature"
            },
            {
             "geometry": {
              "coordinates": [
               9.553,
               47.138
              ],
              "type": "Point"
             },
             "properties": {
              "ar": "160027035",
              "id": "LI",
              "na": "LIECHTENSTEIN"
             },
             "type": "Feature"
            },
            {
             "geometry": {
              "coordinates": [
               23.92,
               55.335
              ],
              "type": "Point"
             },
             "properties": {
              "ar": "64896830575",
              "id": "LT",
              "na": "LIETUVA"
             },
             "type": "Feature"
            },
            {
             "geometry": {
              "coordinates": [
               6.094,
               49.771
              ],
              "type": "Point"
             },
             "properties": {
              "ar": "2595980536",
              "id": "LU",
              "na": "LUXEMBOURG"
             },
             "type": "Feature"
            },
            {
             "geometry": {
              "coordinates": [
               26.382,
               56.683
              ],
              "type": "Point"
             },
             "properties": {
              "ar": "64586856302",
              "id": "LV",
              "na": "LATVIJA"
             },
             "type": "Feature"
            },
            {
             "geometry": {
              "coordinates": [
               19.269,
               42.772
              ],
              "type": "Point"
             },
             "properties": {
              "ar": "13881667823",
              "id": "ME",
              "na": "CRNA GORA"
             },
             "type": "Feature"
            },
            {
             "geometry": {
              "coordinates": [
               21.697,
               41.598
              ],
              "type": "Point"
             },
             "properties": {
              "ar": "25433732311",
              "id": "MK",
              "na": "North Macedonia"
             },
             "type": "Feature"
            },
            {
             "geometry": {
              "coordinates": [
               14.431,
               35.886
              ],
              "type": "Point"
             },
             "properties": {
              "ar": "313896740",
              "id": "MT",
              "na": "MALTA"
             },
             "type": "Feature"
            },
            {
             "geometry": {
              "coordinates": [
               5.646,
               52.293
              ],
              "type": "Point"
             },
             "properties": {
              "ar": "37380411293",
              "id": "NL",
              "na": "NEDERLAND"
             },
             "type": "Feature"
            },
            {
             "geometry": {
              "coordinates": [
               9.298,
               61.388
              ],
              "type": "Point"
             },
             "properties": {
              "ar": "323337377165",
              "id": "NO",
              "na": "NORGE"
             },
             "type": "Feature"
            },
            {
             "geometry": {
              "coordinates": [
               19.407,
               52.131
              ],
              "type": "Point"
             },
             "properties": {
              "ar": "311940525907",
              "id": "PL",
              "na": "POLSKA"
             },
             "type": "Feature"
            },
            {
             "geometry": {
              "coordinates": [
               -7.97,
               39.687
              ],
              "type": "Point"
             },
             "properties": {
              "ar": "91909150969",
              "id": "PT",
              "na": "PORTUGAL"
             },
             "type": "Feature"
            },
            {
             "geometry": {
              "coordinates": [
               24.978,
               45.836
              ],
              "type": "Point"
             },
             "properties": {
              "ar": "238368617959",
              "id": "RO",
              "na": "ROMÂNIA"
             },
             "type": "Feature"
            },
            {
             "geometry": {
              "coordinates": [
               20.797,
               44.236
              ],
              "type": "Point"
             },
             "properties": {
              "ar": "77487750334",
              "id": "RS",
              "na": "REPUBLIKA SRBIJA /РЕПУБЛИКА СРБИЈА"
             },
             "type": "Feature"
            },
            {
             "geometry": {
              "coordinates": [
               14.444,
               60.642
              ],
              "type": "Point"
             },
             "properties": {
              "ar": "449655124316",
              "id": "SE",
              "na": "SVERIGE"
             },
             "type": "Feature"
            },
            {
             "geometry": {
              "coordinates": [
               14.817,
               46.128
              ],
              "type": "Point"
             },
             "properties": {
              "ar": "20271712958",
              "id": "SI",
              "na": "SLOVENIJA"
             },
             "type": "Feature"
            },
            {
             "geometry": {
              "coordinates": [
               19.474,
               48.704
              ],
              "type": "Point"
             },
             "properties": {
              "ar": "49023912056",
              "id": "SK",
              "na": "SLOVENSKO"
             },
             "type": "Feature"
            },
            {
             "geometry": {
              "coordinates": [
               35.471,
               38.992
              ],
              "type": "Point"
             },
             "properties": {
              "ar": "780375435940",
              "id": "TR",
              "na": "TÜRKIYE"
             },
             "type": "Feature"
            },
            {
             "geometry": {
              "coordinates": [
               -2.109,
               53.279
              ],
              "type": "Point"
             },
             "properties": {
              "ar": "244545006004",
              "id": "UK",
              "na": "UNITED KINGDOM"
             },
             "type": "Feature"
            }
           ],
           "hovertemplate": "TIME_PERIOD=2022<br>geo=%{location}<br>OBS_VALUE=%{z}<extra></extra>",
           "locationmode": "country names",
           "locations": [
            "AT",
            "BE",
            "BG",
            "CY",
            "CZ",
            "DE",
            "DK",
            "EA19",
            "EA20",
            "EE",
            "EL",
            "ES",
            "EU27_2020",
            "FI",
            "FR",
            "HR",
            "HU",
            "IE",
            "IS",
            "IT",
            "LT",
            "LU",
            "LV",
            "MT",
            "NL",
            "NO",
            "PL",
            "PT",
            "RO",
            "RS",
            "SE",
            "SI",
            "SK",
            "TR",
            "AT",
            "BE",
            "BG",
            "CY",
            "CZ",
            "DE",
            "DK",
            "EA19",
            "EA20",
            "EE",
            "EL",
            "ES",
            "EU27_2020",
            "FI",
            "FR",
            "HR",
            "HU",
            "IE",
            "IS",
            "IT",
            "LT",
            "LU",
            "LV",
            "MT",
            "NL",
            "NO",
            "PL",
            "PT",
            "RO",
            "RS",
            "SE",
            "SI",
            "SK",
            "TR",
            "AT",
            "BE",
            "BG",
            "CY",
            "CZ",
            "DE",
            "DK",
            "EA19",
            "EA20",
            "EE",
            "EL",
            "ES",
            "EU27_2020",
            "FI",
            "FR",
            "HR",
            "HU",
            "IE",
            "IS",
            "IT",
            "LT",
            "LU",
            "LV",
            "MT",
            "NL",
            "NO",
            "PL",
            "PT",
            "RO",
            "RS",
            "SE",
            "SI",
            "SK",
            "TR",
            "AT",
            "BE",
            "BG",
            "CY",
            "CZ",
            "DE",
            "DK",
            "EA19",
            "EA20",
            "EE",
            "EL",
            "ES",
            "EU27_2020",
            "FI",
            "FR",
            "HR",
            "HU",
            "IE",
            "IS",
            "IT",
            "LT",
            "LU",
            "LV",
            "MT",
            "NL",
            "NO",
            "PL",
            "PT",
            "RO",
            "RS",
            "SE",
            "SI",
            "SK",
            "TR"
           ],
           "name": "",
           "type": "choropleth",
           "z": [
            26.2,
            27,
            5.6,
            13.2,
            11.2,
            26.7,
            39,
            22.9,
            22.9,
            12.3,
            9.5,
            15.4,
            20.5,
            30.6,
            26.2,
            9.5,
            7.8,
            28.7,
            37.3,
            17.4,
            11,
            28.1,
            9.3,
            14.9,
            30.5,
            38.7,
            8.8,
            9.8,
            6.8,
            6.8,
            26.9,
            16.7,
            9.9,
            1.7,
            12.3,
            11.5,
            0.9,
            3,
            4.2,
            8.2,
            4.6,
            7.9,
            7.9,
            4.2,
            2.7,
            6.1,
            6.8,
            6.8,
            10,
            1.5,
            1.2,
            8.6,
            8.8,
            7.5,
            0.6,
            4.2,
            2.5,
            1,
            10.1,
            7.7,
            1.8,
            2.9,
            0.3,
            1.7,
            12.8,
            2.6,
            3.6,
            0.4,
            38.5,
            38.5,
            6.5,
            16.1,
            15.4,
            34.8,
            43.7,
            30.8,
            30.8,
            16.5,
            12.2,
            21.4,
            27.3,
            37.3,
            36.2,
            11,
            9,
            35.4,
            46.1,
            24.9,
            11.6,
            32.4,
            11.8,
            15.9,
            40.6,
            46.5,
            10.7,
            12.7,
            7.2,
            8.4,
            39.7,
            19.3,
            13.5,
            2.1,
            32,
            30,
            14,
            18.5,
            27.4,
            23.5,
            10.6,
            25.8,
            25.8,
            25.3,
            22,
            28.3,
            25.1,
            18.1,
            27.7,
            13.5,
            13.1,
            24.3,
            19,
            30.1,
            5,
            13,
            21.1,
            6,
            25,
            16.6,
            17.3,
            22.8,
            4.7,
            20.8,
            32.2,
            13.6,
            26.9,
            17
           ]
          }
         ],
         "name": "2022"
        }
       ],
       "layout": {
        "coloraxis": {
         "cmax": 49.1,
         "cmin": 0,
         "colorbar": {
          "title": {
           "text": "OBS_VALUE"
          }
         },
         "colorscale": [
          [
           0,
           "#0d0887"
          ],
          [
           0.1111111111111111,
           "#46039f"
          ],
          [
           0.2222222222222222,
           "#7201a8"
          ],
          [
           0.3333333333333333,
           "#9c179e"
          ],
          [
           0.4444444444444444,
           "#bd3786"
          ],
          [
           0.5555555555555556,
           "#d8576b"
          ],
          [
           0.6666666666666666,
           "#ed7953"
          ],
          [
           0.7777777777777778,
           "#fb9f3a"
          ],
          [
           0.8888888888888888,
           "#fdca26"
          ],
          [
           1,
           "#f0f921"
          ]
         ]
        },
        "geo": {
         "center": {},
         "domain": {
          "x": [
           0,
           1
          ],
          "y": [
           0,
           1
          ]
         },
         "scope": "europe"
        },
        "legend": {
         "tracegroupgap": 0
        },
        "margin": {
         "t": 60
        },
        "sliders": [
         {
          "active": 0,
          "currentvalue": {
           "prefix": "TIME_PERIOD="
          },
          "len": 0.9,
          "pad": {
           "b": 10,
           "t": 60
          },
          "steps": [
           {
            "args": [
             [
              "2012"
             ],
             {
              "frame": {
               "duration": 0,
               "redraw": true
              },
              "fromcurrent": true,
              "mode": "immediate",
              "transition": {
               "duration": 0,
               "easing": "linear"
              }
             }
            ],
            "label": "2012",
            "method": "animate"
           },
           {
            "args": [
             [
              "2016"
             ],
             {
              "frame": {
               "duration": 0,
               "redraw": true
              },
              "fromcurrent": true,
              "mode": "immediate",
              "transition": {
               "duration": 0,
               "easing": "linear"
              }
             }
            ],
            "label": "2016",
            "method": "animate"
           },
           {
            "args": [
             [
              "2000"
             ],
             {
              "frame": {
               "duration": 0,
               "redraw": true
              },
              "fromcurrent": true,
              "mode": "immediate",
              "transition": {
               "duration": 0,
               "easing": "linear"
              }
             }
            ],
            "label": "2000",
            "method": "animate"
           },
           {
            "args": [
             [
              "2004"
             ],
             {
              "frame": {
               "duration": 0,
               "redraw": true
              },
              "fromcurrent": true,
              "mode": "immediate",
              "transition": {
               "duration": 0,
               "easing": "linear"
              }
             }
            ],
            "label": "2004",
            "method": "animate"
           },
           {
            "args": [
             [
              "2008"
             ],
             {
              "frame": {
               "duration": 0,
               "redraw": true
              },
              "fromcurrent": true,
              "mode": "immediate",
              "transition": {
               "duration": 0,
               "easing": "linear"
              }
             }
            ],
            "label": "2008",
            "method": "animate"
           },
           {
            "args": [
             [
              "2020"
             ],
             {
              "frame": {
               "duration": 0,
               "redraw": true
              },
              "fromcurrent": true,
              "mode": "immediate",
              "transition": {
               "duration": 0,
               "easing": "linear"
              }
             }
            ],
            "label": "2020",
            "method": "animate"
           },
           {
            "args": [
             [
              "2021"
             ],
             {
              "frame": {
               "duration": 0,
               "redraw": true
              },
              "fromcurrent": true,
              "mode": "immediate",
              "transition": {
               "duration": 0,
               "easing": "linear"
              }
             }
            ],
            "label": "2021",
            "method": "animate"
           },
           {
            "args": [
             [
              "2022"
             ],
             {
              "frame": {
               "duration": 0,
               "redraw": true
              },
              "fromcurrent": true,
              "mode": "immediate",
              "transition": {
               "duration": 0,
               "easing": "linear"
              }
             }
            ],
            "label": "2022",
            "method": "animate"
           }
          ],
          "x": 0.1,
          "xanchor": "left",
          "y": 0,
          "yanchor": "top"
         }
        ],
        "template": {
         "data": {
          "bar": [
           {
            "error_x": {
             "color": "#2a3f5f"
            },
            "error_y": {
             "color": "#2a3f5f"
            },
            "marker": {
             "line": {
              "color": "#E5ECF6",
              "width": 0.5
             },
             "pattern": {
              "fillmode": "overlay",
              "size": 10,
              "solidity": 0.2
             }
            },
            "type": "bar"
           }
          ],
          "barpolar": [
           {
            "marker": {
             "line": {
              "color": "#E5ECF6",
              "width": 0.5
             },
             "pattern": {
              "fillmode": "overlay",
              "size": 10,
              "solidity": 0.2
             }
            },
            "type": "barpolar"
           }
          ],
          "carpet": [
           {
            "aaxis": {
             "endlinecolor": "#2a3f5f",
             "gridcolor": "white",
             "linecolor": "white",
             "minorgridcolor": "white",
             "startlinecolor": "#2a3f5f"
            },
            "baxis": {
             "endlinecolor": "#2a3f5f",
             "gridcolor": "white",
             "linecolor": "white",
             "minorgridcolor": "white",
             "startlinecolor": "#2a3f5f"
            },
            "type": "carpet"
           }
          ],
          "choropleth": [
           {
            "colorbar": {
             "outlinewidth": 0,
             "ticks": ""
            },
            "type": "choropleth"
           }
          ],
          "contour": [
           {
            "colorbar": {
             "outlinewidth": 0,
             "ticks": ""
            },
            "colorscale": [
             [
              0,
              "#0d0887"
             ],
             [
              0.1111111111111111,
              "#46039f"
             ],
             [
              0.2222222222222222,
              "#7201a8"
             ],
             [
              0.3333333333333333,
              "#9c179e"
             ],
             [
              0.4444444444444444,
              "#bd3786"
             ],
             [
              0.5555555555555556,
              "#d8576b"
             ],
             [
              0.6666666666666666,
              "#ed7953"
             ],
             [
              0.7777777777777778,
              "#fb9f3a"
             ],
             [
              0.8888888888888888,
              "#fdca26"
             ],
             [
              1,
              "#f0f921"
             ]
            ],
            "type": "contour"
           }
          ],
          "contourcarpet": [
           {
            "colorbar": {
             "outlinewidth": 0,
             "ticks": ""
            },
            "type": "contourcarpet"
           }
          ],
          "heatmap": [
           {
            "colorbar": {
             "outlinewidth": 0,
             "ticks": ""
            },
            "colorscale": [
             [
              0,
              "#0d0887"
             ],
             [
              0.1111111111111111,
              "#46039f"
             ],
             [
              0.2222222222222222,
              "#7201a8"
             ],
             [
              0.3333333333333333,
              "#9c179e"
             ],
             [
              0.4444444444444444,
              "#bd3786"
             ],
             [
              0.5555555555555556,
              "#d8576b"
             ],
             [
              0.6666666666666666,
              "#ed7953"
             ],
             [
              0.7777777777777778,
              "#fb9f3a"
             ],
             [
              0.8888888888888888,
              "#fdca26"
             ],
             [
              1,
              "#f0f921"
             ]
            ],
            "type": "heatmap"
           }
          ],
          "heatmapgl": [
           {
            "colorbar": {
             "outlinewidth": 0,
             "ticks": ""
            },
            "colorscale": [
             [
              0,
              "#0d0887"
             ],
             [
              0.1111111111111111,
              "#46039f"
             ],
             [
              0.2222222222222222,
              "#7201a8"
             ],
             [
              0.3333333333333333,
              "#9c179e"
             ],
             [
              0.4444444444444444,
              "#bd3786"
             ],
             [
              0.5555555555555556,
              "#d8576b"
             ],
             [
              0.6666666666666666,
              "#ed7953"
             ],
             [
              0.7777777777777778,
              "#fb9f3a"
             ],
             [
              0.8888888888888888,
              "#fdca26"
             ],
             [
              1,
              "#f0f921"
             ]
            ],
            "type": "heatmapgl"
           }
          ],
          "histogram": [
           {
            "marker": {
             "pattern": {
              "fillmode": "overlay",
              "size": 10,
              "solidity": 0.2
             }
            },
            "type": "histogram"
           }
          ],
          "histogram2d": [
           {
            "colorbar": {
             "outlinewidth": 0,
             "ticks": ""
            },
            "colorscale": [
             [
              0,
              "#0d0887"
             ],
             [
              0.1111111111111111,
              "#46039f"
             ],
             [
              0.2222222222222222,
              "#7201a8"
             ],
             [
              0.3333333333333333,
              "#9c179e"
             ],
             [
              0.4444444444444444,
              "#bd3786"
             ],
             [
              0.5555555555555556,
              "#d8576b"
             ],
             [
              0.6666666666666666,
              "#ed7953"
             ],
             [
              0.7777777777777778,
              "#fb9f3a"
             ],
             [
              0.8888888888888888,
              "#fdca26"
             ],
             [
              1,
              "#f0f921"
             ]
            ],
            "type": "histogram2d"
           }
          ],
          "histogram2dcontour": [
           {
            "colorbar": {
             "outlinewidth": 0,
             "ticks": ""
            },
            "colorscale": [
             [
              0,
              "#0d0887"
             ],
             [
              0.1111111111111111,
              "#46039f"
             ],
             [
              0.2222222222222222,
              "#7201a8"
             ],
             [
              0.3333333333333333,
              "#9c179e"
             ],
             [
              0.4444444444444444,
              "#bd3786"
             ],
             [
              0.5555555555555556,
              "#d8576b"
             ],
             [
              0.6666666666666666,
              "#ed7953"
             ],
             [
              0.7777777777777778,
              "#fb9f3a"
             ],
             [
              0.8888888888888888,
              "#fdca26"
             ],
             [
              1,
              "#f0f921"
             ]
            ],
            "type": "histogram2dcontour"
           }
          ],
          "mesh3d": [
           {
            "colorbar": {
             "outlinewidth": 0,
             "ticks": ""
            },
            "type": "mesh3d"
           }
          ],
          "parcoords": [
           {
            "line": {
             "colorbar": {
              "outlinewidth": 0,
              "ticks": ""
             }
            },
            "type": "parcoords"
           }
          ],
          "pie": [
           {
            "automargin": true,
            "type": "pie"
           }
          ],
          "scatter": [
           {
            "fillpattern": {
             "fillmode": "overlay",
             "size": 10,
             "solidity": 0.2
            },
            "type": "scatter"
           }
          ],
          "scatter3d": [
           {
            "line": {
             "colorbar": {
              "outlinewidth": 0,
              "ticks": ""
             }
            },
            "marker": {
             "colorbar": {
              "outlinewidth": 0,
              "ticks": ""
             }
            },
            "type": "scatter3d"
           }
          ],
          "scattercarpet": [
           {
            "marker": {
             "colorbar": {
              "outlinewidth": 0,
              "ticks": ""
             }
            },
            "type": "scattercarpet"
           }
          ],
          "scattergeo": [
           {
            "marker": {
             "colorbar": {
              "outlinewidth": 0,
              "ticks": ""
             }
            },
            "type": "scattergeo"
           }
          ],
          "scattergl": [
           {
            "marker": {
             "colorbar": {
              "outlinewidth": 0,
              "ticks": ""
             }
            },
            "type": "scattergl"
           }
          ],
          "scattermapbox": [
           {
            "marker": {
             "colorbar": {
              "outlinewidth": 0,
              "ticks": ""
             }
            },
            "type": "scattermapbox"
           }
          ],
          "scatterpolar": [
           {
            "marker": {
             "colorbar": {
              "outlinewidth": 0,
              "ticks": ""
             }
            },
            "type": "scatterpolar"
           }
          ],
          "scatterpolargl": [
           {
            "marker": {
             "colorbar": {
              "outlinewidth": 0,
              "ticks": ""
             }
            },
            "type": "scatterpolargl"
           }
          ],
          "scatterternary": [
           {
            "marker": {
             "colorbar": {
              "outlinewidth": 0,
              "ticks": ""
             }
            },
            "type": "scatterternary"
           }
          ],
          "surface": [
           {
            "colorbar": {
             "outlinewidth": 0,
             "ticks": ""
            },
            "colorscale": [
             [
              0,
              "#0d0887"
             ],
             [
              0.1111111111111111,
              "#46039f"
             ],
             [
              0.2222222222222222,
              "#7201a8"
             ],
             [
              0.3333333333333333,
              "#9c179e"
             ],
             [
              0.4444444444444444,
              "#bd3786"
             ],
             [
              0.5555555555555556,
              "#d8576b"
             ],
             [
              0.6666666666666666,
              "#ed7953"
             ],
             [
              0.7777777777777778,
              "#fb9f3a"
             ],
             [
              0.8888888888888888,
              "#fdca26"
             ],
             [
              1,
              "#f0f921"
             ]
            ],
            "type": "surface"
           }
          ],
          "table": [
           {
            "cells": {
             "fill": {
              "color": "#EBF0F8"
             },
             "line": {
              "color": "white"
             }
            },
            "header": {
             "fill": {
              "color": "#C8D4E3"
             },
             "line": {
              "color": "white"
             }
            },
            "type": "table"
           }
          ]
         },
         "layout": {
          "annotationdefaults": {
           "arrowcolor": "#2a3f5f",
           "arrowhead": 0,
           "arrowwidth": 1
          },
          "autotypenumbers": "strict",
          "coloraxis": {
           "colorbar": {
            "outlinewidth": 0,
            "ticks": ""
           }
          },
          "colorscale": {
           "diverging": [
            [
             0,
             "#8e0152"
            ],
            [
             0.1,
             "#c51b7d"
            ],
            [
             0.2,
             "#de77ae"
            ],
            [
             0.3,
             "#f1b6da"
            ],
            [
             0.4,
             "#fde0ef"
            ],
            [
             0.5,
             "#f7f7f7"
            ],
            [
             0.6,
             "#e6f5d0"
            ],
            [
             0.7,
             "#b8e186"
            ],
            [
             0.8,
             "#7fbc41"
            ],
            [
             0.9,
             "#4d9221"
            ],
            [
             1,
             "#276419"
            ]
           ],
           "sequential": [
            [
             0,
             "#0d0887"
            ],
            [
             0.1111111111111111,
             "#46039f"
            ],
            [
             0.2222222222222222,
             "#7201a8"
            ],
            [
             0.3333333333333333,
             "#9c179e"
            ],
            [
             0.4444444444444444,
             "#bd3786"
            ],
            [
             0.5555555555555556,
             "#d8576b"
            ],
            [
             0.6666666666666666,
             "#ed7953"
            ],
            [
             0.7777777777777778,
             "#fb9f3a"
            ],
            [
             0.8888888888888888,
             "#fdca26"
            ],
            [
             1,
             "#f0f921"
            ]
           ],
           "sequentialminus": [
            [
             0,
             "#0d0887"
            ],
            [
             0.1111111111111111,
             "#46039f"
            ],
            [
             0.2222222222222222,
             "#7201a8"
            ],
            [
             0.3333333333333333,
             "#9c179e"
            ],
            [
             0.4444444444444444,
             "#bd3786"
            ],
            [
             0.5555555555555556,
             "#d8576b"
            ],
            [
             0.6666666666666666,
             "#ed7953"
            ],
            [
             0.7777777777777778,
             "#fb9f3a"
            ],
            [
             0.8888888888888888,
             "#fdca26"
            ],
            [
             1,
             "#f0f921"
            ]
           ]
          },
          "colorway": [
           "#636efa",
           "#EF553B",
           "#00cc96",
           "#ab63fa",
           "#FFA15A",
           "#19d3f3",
           "#FF6692",
           "#B6E880",
           "#FF97FF",
           "#FECB52"
          ],
          "font": {
           "color": "#2a3f5f"
          },
          "geo": {
           "bgcolor": "white",
           "lakecolor": "white",
           "landcolor": "#E5ECF6",
           "showlakes": true,
           "showland": true,
           "subunitcolor": "white"
          },
          "hoverlabel": {
           "align": "left"
          },
          "hovermode": "closest",
          "mapbox": {
           "style": "light"
          },
          "paper_bgcolor": "white",
          "plot_bgcolor": "#E5ECF6",
          "polar": {
           "angularaxis": {
            "gridcolor": "white",
            "linecolor": "white",
            "ticks": ""
           },
           "bgcolor": "#E5ECF6",
           "radialaxis": {
            "gridcolor": "white",
            "linecolor": "white",
            "ticks": ""
           }
          },
          "scene": {
           "xaxis": {
            "backgroundcolor": "#E5ECF6",
            "gridcolor": "white",
            "gridwidth": 2,
            "linecolor": "white",
            "showbackground": true,
            "ticks": "",
            "zerolinecolor": "white"
           },
           "yaxis": {
            "backgroundcolor": "#E5ECF6",
            "gridcolor": "white",
            "gridwidth": 2,
            "linecolor": "white",
            "showbackground": true,
            "ticks": "",
            "zerolinecolor": "white"
           },
           "zaxis": {
            "backgroundcolor": "#E5ECF6",
            "gridcolor": "white",
            "gridwidth": 2,
            "linecolor": "white",
            "showbackground": true,
            "ticks": "",
            "zerolinecolor": "white"
           }
          },
          "shapedefaults": {
           "line": {
            "color": "#2a3f5f"
           }
          },
          "ternary": {
           "aaxis": {
            "gridcolor": "white",
            "linecolor": "white",
            "ticks": ""
           },
           "baxis": {
            "gridcolor": "white",
            "linecolor": "white",
            "ticks": ""
           },
           "bgcolor": "#E5ECF6",
           "caxis": {
            "gridcolor": "white",
            "linecolor": "white",
            "ticks": ""
           }
          },
          "title": {
           "x": 0.05
          },
          "xaxis": {
           "automargin": true,
           "gridcolor": "white",
           "linecolor": "white",
           "ticks": "",
           "title": {
            "standoff": 15
           },
           "zerolinecolor": "white",
           "zerolinewidth": 2
          },
          "yaxis": {
           "automargin": true,
           "gridcolor": "white",
           "linecolor": "white",
           "ticks": "",
           "title": {
            "standoff": 15
           },
           "zerolinecolor": "white",
           "zerolinewidth": 2
          }
         }
        },
        "updatemenus": [
         {
          "buttons": [
           {
            "args": [
             null,
             {
              "frame": {
               "duration": 500,
               "redraw": true
              },
              "fromcurrent": true,
              "mode": "immediate",
              "transition": {
               "duration": 500,
               "easing": "linear"
              }
             }
            ],
            "label": "&#9654;",
            "method": "animate"
           },
           {
            "args": [
             [
              null
             ],
             {
              "frame": {
               "duration": 0,
               "redraw": true
              },
              "fromcurrent": true,
              "mode": "immediate",
              "transition": {
               "duration": 0,
               "easing": "linear"
              }
             }
            ],
            "label": "&#9724;",
            "method": "animate"
           }
          ],
          "direction": "left",
          "pad": {
           "r": 10,
           "t": 70
          },
          "showactive": false,
          "type": "buttons",
          "x": 0.1,
          "xanchor": "right",
          "y": 0,
          "yanchor": "top"
         }
        ]
       }
      },
      "text/html": [
       "<div>                            <div id=\"832bc007-8ec2-4320-9acb-26c3e31de23a\" class=\"plotly-graph-div\" style=\"height:525px; width:100%;\"></div>            <script type=\"text/javascript\">                require([\"plotly\"], function(Plotly) {                    window.PLOTLYENV=window.PLOTLYENV || {};                                    if (document.getElementById(\"832bc007-8ec2-4320-9acb-26c3e31de23a\")) {                    Plotly.newPlot(                        \"832bc007-8ec2-4320-9acb-26c3e31de23a\",                        [{\"coloraxis\":\"coloraxis\",\"featureidkey\":\"properties.id\",\"geo\":\"geo\",\"geojson\":[{\"type\":\"Feature\",\"properties\":{\"id\":\"AL\",\"na\":\"SHQIP\\u00cbRIA\",\"ar\":\"28799674148\"},\"geometry\":{\"type\":\"Point\",\"coordinates\":[20.071,41.139]}},{\"type\":\"Feature\",\"properties\":{\"id\":\"AT\",\"na\":\"\\u00d6STERREICH\",\"ar\":\"83944908792\"},\"geometry\":{\"type\":\"Point\",\"coordinates\":[14.137,47.585]}},{\"type\":\"Feature\",\"properties\":{\"id\":\"BE\",\"na\":\"BELGIQUE-BELGI\\u00cb\",\"ar\":\"30666252645\"},\"geometry\":{\"type\":\"Point\",\"coordinates\":[4.659,50.643]}},{\"type\":\"Feature\",\"properties\":{\"id\":\"BG\",\"na\":\"BULGARIA\",\"ar\":\"110994229783\"},\"geometry\":{\"type\":\"Point\",\"coordinates\":[25.235,42.755]}},{\"type\":\"Feature\",\"properties\":{\"id\":\"CH\",\"na\":\"SCHWEIZ/SUISSE/SVIZZERA\",\"ar\":\"41286389372\"},\"geometry\":{\"type\":\"Point\",\"coordinates\":[8.213,46.955]}},{\"type\":\"Feature\",\"properties\":{\"id\":\"CY\",\"na\":\"KYPROS\",\"ar\":\"9256703982\"},\"geometry\":{\"type\":\"Point\",\"coordinates\":[33.174,35.028]}},{\"type\":\"Feature\",\"properties\":{\"id\":\"CZ\",\"na\":\"\\u010cESK\\u00c1 REPUBLIKA\",\"ar\":\"78873251270\"},\"geometry\":{\"type\":\"Point\",\"coordinates\":[15.328,49.738]}},{\"type\":\"Feature\",\"properties\":{\"id\":\"DE\",\"na\":\"DEUTSCHLAND\",\"ar\":\"357661390415\"},\"geometry\":{\"type\":\"Point\",\"coordinates\":[10.379,51.074]}},{\"type\":\"Feature\",\"properties\":{\"id\":\"DK\",\"na\":\"DANMARK\",\"ar\":\"43171428497\"},\"geometry\":{\"type\":\"Point\",\"coordinates\":[9.319,56.027]}},{\"type\":\"Feature\",\"properties\":{\"id\":\"EE\",\"na\":\"EESTI\",\"ar\":\"45344926455\"},\"geometry\":{\"type\":\"Point\",\"coordinates\":[25.855,58.671]}},{\"type\":\"Feature\",\"properties\":{\"id\":\"EL\",\"na\":\"ELLADA\",\"ar\":\"131759420072\"},\"geometry\":{\"type\":\"Point\",\"coordinates\":[22.54,39.498]}},{\"type\":\"Feature\",\"properties\":{\"id\":\"ES\",\"na\":\"ESPA\\u00d1A\",\"ar\":\"506004058602\"},\"geometry\":{\"type\":\"Point\",\"coordinates\":[-3.552,40.382]}},{\"type\":\"Feature\",\"properties\":{\"id\":\"FI\",\"na\":\"SUOMI / FINLAND\",\"ar\":\"337522470861\"},\"geometry\":{\"type\":\"Point\",\"coordinates\":[26.279,64.497]}},{\"type\":\"Feature\",\"properties\":{\"id\":\"FR\",\"na\":\"FRANCE\",\"ar\":\"638364847019\"},\"geometry\":{\"type\":\"Point\",\"coordinates\":[2.506,46.618]}},{\"type\":\"Feature\",\"properties\":{\"id\":\"HR\",\"na\":\"HRVATSKA\",\"ar\":\"56516296161\"},\"geometry\":{\"type\":\"Point\",\"coordinates\":[16.489,43.756]}},{\"type\":\"Feature\",\"properties\":{\"id\":\"HU\",\"na\":\"MAGYARORSZ\\u00c1G\",\"ar\":\"93009125408\"},\"geometry\":{\"type\":\"Point\",\"coordinates\":[19.407,47.162]}},{\"type\":\"Feature\",\"properties\":{\"id\":\"IE\",\"na\":\"IRELAND\",\"ar\":\"69940293930\"},\"geometry\":{\"type\":\"Point\",\"coordinates\":[-8.09,53.179]}},{\"type\":\"Feature\",\"properties\":{\"id\":\"IS\",\"na\":\"\\u00cdSLAND\",\"ar\":\"102696958004\"},\"geometry\":{\"type\":\"Point\",\"coordinates\":[-18.857,64.756]}},{\"type\":\"Feature\",\"properties\":{\"id\":\"IT\",\"na\":\"ITALIA\",\"ar\":\"300650239153\"},\"geometry\":{\"type\":\"Point\",\"coordinates\":[12.532,42.837]}},{\"type\":\"Feature\",\"properties\":{\"id\":\"LI\",\"na\":\"LIECHTENSTEIN\",\"ar\":\"160027035\"},\"geometry\":{\"type\":\"Point\",\"coordinates\":[9.553,47.138]}},{\"type\":\"Feature\",\"properties\":{\"id\":\"LT\",\"na\":\"LIETUVA\",\"ar\":\"64896830575\"},\"geometry\":{\"type\":\"Point\",\"coordinates\":[23.92,55.335]}},{\"type\":\"Feature\",\"properties\":{\"id\":\"LU\",\"na\":\"LUXEMBOURG\",\"ar\":\"2595980536\"},\"geometry\":{\"type\":\"Point\",\"coordinates\":[6.094,49.771]}},{\"type\":\"Feature\",\"properties\":{\"id\":\"LV\",\"na\":\"LATVIJA\",\"ar\":\"64586856302\"},\"geometry\":{\"type\":\"Point\",\"coordinates\":[26.382,56.683]}},{\"type\":\"Feature\",\"properties\":{\"id\":\"ME\",\"na\":\"CRNA GORA\",\"ar\":\"13881667823\"},\"geometry\":{\"type\":\"Point\",\"coordinates\":[19.269,42.772]}},{\"type\":\"Feature\",\"properties\":{\"id\":\"MK\",\"na\":\"North Macedonia\",\"ar\":\"25433732311\"},\"geometry\":{\"type\":\"Point\",\"coordinates\":[21.697,41.598]}},{\"type\":\"Feature\",\"properties\":{\"id\":\"MT\",\"na\":\"MALTA\",\"ar\":\"313896740\"},\"geometry\":{\"type\":\"Point\",\"coordinates\":[14.431,35.886]}},{\"type\":\"Feature\",\"properties\":{\"id\":\"NL\",\"na\":\"NEDERLAND\",\"ar\":\"37380411293\"},\"geometry\":{\"type\":\"Point\",\"coordinates\":[5.646,52.293]}},{\"type\":\"Feature\",\"properties\":{\"id\":\"NO\",\"na\":\"NORGE\",\"ar\":\"323337377165\"},\"geometry\":{\"type\":\"Point\",\"coordinates\":[9.298,61.388]}},{\"type\":\"Feature\",\"properties\":{\"id\":\"PL\",\"na\":\"POLSKA\",\"ar\":\"311940525907\"},\"geometry\":{\"type\":\"Point\",\"coordinates\":[19.407,52.131]}},{\"type\":\"Feature\",\"properties\":{\"id\":\"PT\",\"na\":\"PORTUGAL\",\"ar\":\"91909150969\"},\"geometry\":{\"type\":\"Point\",\"coordinates\":[-7.97,39.687]}},{\"type\":\"Feature\",\"properties\":{\"id\":\"RO\",\"na\":\"ROM\\u00c2NIA\",\"ar\":\"238368617959\"},\"geometry\":{\"type\":\"Point\",\"coordinates\":[24.978,45.836]}},{\"type\":\"Feature\",\"properties\":{\"id\":\"RS\",\"na\":\"REPUBLIKA SRBIJA /\\u0420\\u0415\\u041f\\u0423\\u0411\\u041b\\u0418\\u041a\\u0410 \\u0421\\u0420\\u0411\\u0418\\u0408\\u0410\",\"ar\":\"77487750334\"},\"geometry\":{\"type\":\"Point\",\"coordinates\":[20.797,44.236]}},{\"type\":\"Feature\",\"properties\":{\"id\":\"SE\",\"na\":\"SVERIGE\",\"ar\":\"449655124316\"},\"geometry\":{\"type\":\"Point\",\"coordinates\":[14.444,60.642]}},{\"type\":\"Feature\",\"properties\":{\"id\":\"SI\",\"na\":\"SLOVENIJA\",\"ar\":\"20271712958\"},\"geometry\":{\"type\":\"Point\",\"coordinates\":[14.817,46.128]}},{\"type\":\"Feature\",\"properties\":{\"id\":\"SK\",\"na\":\"SLOVENSKO\",\"ar\":\"49023912056\"},\"geometry\":{\"type\":\"Point\",\"coordinates\":[19.474,48.704]}},{\"type\":\"Feature\",\"properties\":{\"id\":\"TR\",\"na\":\"T\\u00dcRKIYE\",\"ar\":\"780375435940\"},\"geometry\":{\"type\":\"Point\",\"coordinates\":[35.471,38.992]}},{\"type\":\"Feature\",\"properties\":{\"id\":\"UK\",\"na\":\"UNITED KINGDOM\",\"ar\":\"244545006004\"},\"geometry\":{\"type\":\"Point\",\"coordinates\":[-2.109,53.279]}}],\"hovertemplate\":\"TIME_PERIOD=2012<br>geo=%{location}<br>OBS_VALUE=%{z}<extra></extra>\",\"locationmode\":\"country names\",\"locations\":[\"AL\",\"AT\",\"BA\",\"BE\",\"BG\",\"CH\",\"CZ\",\"DE\",\"DK\",\"EA\",\"EA19\",\"EE\",\"EL\",\"ES\",\"EU15\",\"EU27_2020\",\"EU28\",\"FI\",\"FR\",\"HR\",\"HU\",\"IE\",\"IS\",\"IT\",\"LT\",\"LU\",\"LV\",\"ME\",\"MK\",\"MT\",\"NL\",\"NO\",\"PL\",\"PT\",\"RO\",\"RS\",\"SE\",\"SI\",\"SK\",\"TR\",\"UK\",\"AL\",\"AT\",\"BA\",\"BE\",\"BG\",\"CH\",\"CZ\",\"DE\",\"DK\",\"EA\",\"EA19\",\"EE\",\"EL\",\"ES\",\"EU15\",\"EU27_2020\",\"EU28\",\"FI\",\"FR\",\"HR\",\"HU\",\"IE\",\"IS\",\"IT\",\"LT\",\"LU\",\"LV\",\"ME\",\"MK\",\"MT\",\"NL\",\"NO\",\"PL\",\"PT\",\"RO\",\"RS\",\"SE\",\"SI\",\"SK\",\"TR\",\"UK\",\"AL\",\"AT\",\"BA\",\"BE\",\"BG\",\"CH\",\"CZ\",\"DE\",\"DK\",\"EA19\",\"EE\",\"EL\",\"ES\",\"EU15\",\"EU27_2020\",\"EU28\",\"FI\",\"FR\",\"HR\",\"HU\",\"IE\",\"IS\",\"IT\",\"LT\",\"LU\",\"LV\",\"ME\",\"MK\",\"MT\",\"NL\",\"NO\",\"PL\",\"PT\",\"RO\",\"RS\",\"SE\",\"SI\",\"SK\",\"TR\",\"UK\",\"AL\",\"AT\",\"BA\",\"BE\",\"BG\",\"CH\",\"CZ\",\"DE\",\"DK\",\"EA19\",\"EE\",\"EL\",\"ES\",\"EU15\",\"EU27_2020\",\"EU28\",\"FI\",\"FR\",\"HR\",\"HU\",\"IE\",\"IS\",\"IT\",\"LT\",\"LU\",\"LV\",\"ME\",\"MK\",\"MT\",\"NL\",\"NO\",\"PL\",\"PT\",\"RO\",\"RS\",\"SE\",\"SI\",\"SK\",\"TR\",\"UK\"],\"name\":\"\",\"z\":[1.6,21.1,3.4,20.3,2.5,34.9,6.8,19.6,32.1,18.4,18.4,7.3,10.2,14.8,20.0,15.8,16.6,24.9,20.9,6.9,5.0,23.3,20.2,16.7,3.8,21.1,4.3,3.4,2.8,8.5,25.6,40.7,5.7,9.2,2.5,3.9,26.4,10.1,6.3,3.6,21.4,0.4,7.3,0.3,13.1,0.5,9.0,2.5,5.5,4.3,6.3,6.7,2.7,3.5,6.1,6.5,5.6,5.3,6.9,9.4,1.4,1.4,3.1,4.4,6.8,1.7,3.7,1.1,0.7,0.3,0.9,8.1,8.5,1.2,2.4,0.7,0.7,12.0,1.8,2.2,0.7,3.6,2.0,28.4,3.7,33.4,3.0,43.8,9.3,25.1,36.4,25.1,10.0,13.7,20.9,26.5,21.4,21.9,31.7,30.3,8.2,6.4,26.4,24.6,23.5,5.5,24.8,5.5,4.1,3.1,9.4,33.7,49.1,6.8,11.6,3.3,4.7,38.3,11.9,8.4,4.3,25.0,19.5,25.7,7.0,39.2,15.7,20.5,26.6,21.9,11.8,26.7,26.7,25.7,29.1,24.6,26.2,24.3,21.7,30.9,16.4,22.0,11.7,17.9,29.1,31.3,14.9,20.5,18.0,8.4,9.3,24.1,17.2,17.4,20.7,22.7,15.9,31.2,14.9,25.7,17.0,14.5],\"type\":\"choropleth\"}],                        {\"template\":{\"data\":{\"histogram2dcontour\":[{\"type\":\"histogram2dcontour\",\"colorbar\":{\"outlinewidth\":0,\"ticks\":\"\"},\"colorscale\":[[0.0,\"#0d0887\"],[0.1111111111111111,\"#46039f\"],[0.2222222222222222,\"#7201a8\"],[0.3333333333333333,\"#9c179e\"],[0.4444444444444444,\"#bd3786\"],[0.5555555555555556,\"#d8576b\"],[0.6666666666666666,\"#ed7953\"],[0.7777777777777778,\"#fb9f3a\"],[0.8888888888888888,\"#fdca26\"],[1.0,\"#f0f921\"]]}],\"choropleth\":[{\"type\":\"choropleth\",\"colorbar\":{\"outlinewidth\":0,\"ticks\":\"\"}}],\"histogram2d\":[{\"type\":\"histogram2d\",\"colorbar\":{\"outlinewidth\":0,\"ticks\":\"\"},\"colorscale\":[[0.0,\"#0d0887\"],[0.1111111111111111,\"#46039f\"],[0.2222222222222222,\"#7201a8\"],[0.3333333333333333,\"#9c179e\"],[0.4444444444444444,\"#bd3786\"],[0.5555555555555556,\"#d8576b\"],[0.6666666666666666,\"#ed7953\"],[0.7777777777777778,\"#fb9f3a\"],[0.8888888888888888,\"#fdca26\"],[1.0,\"#f0f921\"]]}],\"heatmap\":[{\"type\":\"heatmap\",\"colorbar\":{\"outlinewidth\":0,\"ticks\":\"\"},\"colorscale\":[[0.0,\"#0d0887\"],[0.1111111111111111,\"#46039f\"],[0.2222222222222222,\"#7201a8\"],[0.3333333333333333,\"#9c179e\"],[0.4444444444444444,\"#bd3786\"],[0.5555555555555556,\"#d8576b\"],[0.6666666666666666,\"#ed7953\"],[0.7777777777777778,\"#fb9f3a\"],[0.8888888888888888,\"#fdca26\"],[1.0,\"#f0f921\"]]}],\"heatmapgl\":[{\"type\":\"heatmapgl\",\"colorbar\":{\"outlinewidth\":0,\"ticks\":\"\"},\"colorscale\":[[0.0,\"#0d0887\"],[0.1111111111111111,\"#46039f\"],[0.2222222222222222,\"#7201a8\"],[0.3333333333333333,\"#9c179e\"],[0.4444444444444444,\"#bd3786\"],[0.5555555555555556,\"#d8576b\"],[0.6666666666666666,\"#ed7953\"],[0.7777777777777778,\"#fb9f3a\"],[0.8888888888888888,\"#fdca26\"],[1.0,\"#f0f921\"]]}],\"contourcarpet\":[{\"type\":\"contourcarpet\",\"colorbar\":{\"outlinewidth\":0,\"ticks\":\"\"}}],\"contour\":[{\"type\":\"contour\",\"colorbar\":{\"outlinewidth\":0,\"ticks\":\"\"},\"colorscale\":[[0.0,\"#0d0887\"],[0.1111111111111111,\"#46039f\"],[0.2222222222222222,\"#7201a8\"],[0.3333333333333333,\"#9c179e\"],[0.4444444444444444,\"#bd3786\"],[0.5555555555555556,\"#d8576b\"],[0.6666666666666666,\"#ed7953\"],[0.7777777777777778,\"#fb9f3a\"],[0.8888888888888888,\"#fdca26\"],[1.0,\"#f0f921\"]]}],\"surface\":[{\"type\":\"surface\",\"colorbar\":{\"outlinewidth\":0,\"ticks\":\"\"},\"colorscale\":[[0.0,\"#0d0887\"],[0.1111111111111111,\"#46039f\"],[0.2222222222222222,\"#7201a8\"],[0.3333333333333333,\"#9c179e\"],[0.4444444444444444,\"#bd3786\"],[0.5555555555555556,\"#d8576b\"],[0.6666666666666666,\"#ed7953\"],[0.7777777777777778,\"#fb9f3a\"],[0.8888888888888888,\"#fdca26\"],[1.0,\"#f0f921\"]]}],\"mesh3d\":[{\"type\":\"mesh3d\",\"colorbar\":{\"outlinewidth\":0,\"ticks\":\"\"}}],\"scatter\":[{\"fillpattern\":{\"fillmode\":\"overlay\",\"size\":10,\"solidity\":0.2},\"type\":\"scatter\"}],\"parcoords\":[{\"type\":\"parcoords\",\"line\":{\"colorbar\":{\"outlinewidth\":0,\"ticks\":\"\"}}}],\"scatterpolargl\":[{\"type\":\"scatterpolargl\",\"marker\":{\"colorbar\":{\"outlinewidth\":0,\"ticks\":\"\"}}}],\"bar\":[{\"error_x\":{\"color\":\"#2a3f5f\"},\"error_y\":{\"color\":\"#2a3f5f\"},\"marker\":{\"line\":{\"color\":\"#E5ECF6\",\"width\":0.5},\"pattern\":{\"fillmode\":\"overlay\",\"size\":10,\"solidity\":0.2}},\"type\":\"bar\"}],\"scattergeo\":[{\"type\":\"scattergeo\",\"marker\":{\"colorbar\":{\"outlinewidth\":0,\"ticks\":\"\"}}}],\"scatterpolar\":[{\"type\":\"scatterpolar\",\"marker\":{\"colorbar\":{\"outlinewidth\":0,\"ticks\":\"\"}}}],\"histogram\":[{\"marker\":{\"pattern\":{\"fillmode\":\"overlay\",\"size\":10,\"solidity\":0.2}},\"type\":\"histogram\"}],\"scattergl\":[{\"type\":\"scattergl\",\"marker\":{\"colorbar\":{\"outlinewidth\":0,\"ticks\":\"\"}}}],\"scatter3d\":[{\"type\":\"scatter3d\",\"line\":{\"colorbar\":{\"outlinewidth\":0,\"ticks\":\"\"}},\"marker\":{\"colorbar\":{\"outlinewidth\":0,\"ticks\":\"\"}}}],\"scattermapbox\":[{\"type\":\"scattermapbox\",\"marker\":{\"colorbar\":{\"outlinewidth\":0,\"ticks\":\"\"}}}],\"scatterternary\":[{\"type\":\"scatterternary\",\"marker\":{\"colorbar\":{\"outlinewidth\":0,\"ticks\":\"\"}}}],\"scattercarpet\":[{\"type\":\"scattercarpet\",\"marker\":{\"colorbar\":{\"outlinewidth\":0,\"ticks\":\"\"}}}],\"carpet\":[{\"aaxis\":{\"endlinecolor\":\"#2a3f5f\",\"gridcolor\":\"white\",\"linecolor\":\"white\",\"minorgridcolor\":\"white\",\"startlinecolor\":\"#2a3f5f\"},\"baxis\":{\"endlinecolor\":\"#2a3f5f\",\"gridcolor\":\"white\",\"linecolor\":\"white\",\"minorgridcolor\":\"white\",\"startlinecolor\":\"#2a3f5f\"},\"type\":\"carpet\"}],\"table\":[{\"cells\":{\"fill\":{\"color\":\"#EBF0F8\"},\"line\":{\"color\":\"white\"}},\"header\":{\"fill\":{\"color\":\"#C8D4E3\"},\"line\":{\"color\":\"white\"}},\"type\":\"table\"}],\"barpolar\":[{\"marker\":{\"line\":{\"color\":\"#E5ECF6\",\"width\":0.5},\"pattern\":{\"fillmode\":\"overlay\",\"size\":10,\"solidity\":0.2}},\"type\":\"barpolar\"}],\"pie\":[{\"automargin\":true,\"type\":\"pie\"}]},\"layout\":{\"autotypenumbers\":\"strict\",\"colorway\":[\"#636efa\",\"#EF553B\",\"#00cc96\",\"#ab63fa\",\"#FFA15A\",\"#19d3f3\",\"#FF6692\",\"#B6E880\",\"#FF97FF\",\"#FECB52\"],\"font\":{\"color\":\"#2a3f5f\"},\"hovermode\":\"closest\",\"hoverlabel\":{\"align\":\"left\"},\"paper_bgcolor\":\"white\",\"plot_bgcolor\":\"#E5ECF6\",\"polar\":{\"bgcolor\":\"#E5ECF6\",\"angularaxis\":{\"gridcolor\":\"white\",\"linecolor\":\"white\",\"ticks\":\"\"},\"radialaxis\":{\"gridcolor\":\"white\",\"linecolor\":\"white\",\"ticks\":\"\"}},\"ternary\":{\"bgcolor\":\"#E5ECF6\",\"aaxis\":{\"gridcolor\":\"white\",\"linecolor\":\"white\",\"ticks\":\"\"},\"baxis\":{\"gridcolor\":\"white\",\"linecolor\":\"white\",\"ticks\":\"\"},\"caxis\":{\"gridcolor\":\"white\",\"linecolor\":\"white\",\"ticks\":\"\"}},\"coloraxis\":{\"colorbar\":{\"outlinewidth\":0,\"ticks\":\"\"}},\"colorscale\":{\"sequential\":[[0.0,\"#0d0887\"],[0.1111111111111111,\"#46039f\"],[0.2222222222222222,\"#7201a8\"],[0.3333333333333333,\"#9c179e\"],[0.4444444444444444,\"#bd3786\"],[0.5555555555555556,\"#d8576b\"],[0.6666666666666666,\"#ed7953\"],[0.7777777777777778,\"#fb9f3a\"],[0.8888888888888888,\"#fdca26\"],[1.0,\"#f0f921\"]],\"sequentialminus\":[[0.0,\"#0d0887\"],[0.1111111111111111,\"#46039f\"],[0.2222222222222222,\"#7201a8\"],[0.3333333333333333,\"#9c179e\"],[0.4444444444444444,\"#bd3786\"],[0.5555555555555556,\"#d8576b\"],[0.6666666666666666,\"#ed7953\"],[0.7777777777777778,\"#fb9f3a\"],[0.8888888888888888,\"#fdca26\"],[1.0,\"#f0f921\"]],\"diverging\":[[0,\"#8e0152\"],[0.1,\"#c51b7d\"],[0.2,\"#de77ae\"],[0.3,\"#f1b6da\"],[0.4,\"#fde0ef\"],[0.5,\"#f7f7f7\"],[0.6,\"#e6f5d0\"],[0.7,\"#b8e186\"],[0.8,\"#7fbc41\"],[0.9,\"#4d9221\"],[1,\"#276419\"]]},\"xaxis\":{\"gridcolor\":\"white\",\"linecolor\":\"white\",\"ticks\":\"\",\"title\":{\"standoff\":15},\"zerolinecolor\":\"white\",\"automargin\":true,\"zerolinewidth\":2},\"yaxis\":{\"gridcolor\":\"white\",\"linecolor\":\"white\",\"ticks\":\"\",\"title\":{\"standoff\":15},\"zerolinecolor\":\"white\",\"automargin\":true,\"zerolinewidth\":2},\"scene\":{\"xaxis\":{\"backgroundcolor\":\"#E5ECF6\",\"gridcolor\":\"white\",\"linecolor\":\"white\",\"showbackground\":true,\"ticks\":\"\",\"zerolinecolor\":\"white\",\"gridwidth\":2},\"yaxis\":{\"backgroundcolor\":\"#E5ECF6\",\"gridcolor\":\"white\",\"linecolor\":\"white\",\"showbackground\":true,\"ticks\":\"\",\"zerolinecolor\":\"white\",\"gridwidth\":2},\"zaxis\":{\"backgroundcolor\":\"#E5ECF6\",\"gridcolor\":\"white\",\"linecolor\":\"white\",\"showbackground\":true,\"ticks\":\"\",\"zerolinecolor\":\"white\",\"gridwidth\":2}},\"shapedefaults\":{\"line\":{\"color\":\"#2a3f5f\"}},\"annotationdefaults\":{\"arrowcolor\":\"#2a3f5f\",\"arrowhead\":0,\"arrowwidth\":1},\"geo\":{\"bgcolor\":\"white\",\"landcolor\":\"#E5ECF6\",\"subunitcolor\":\"white\",\"showland\":true,\"showlakes\":true,\"lakecolor\":\"white\"},\"title\":{\"x\":0.05},\"mapbox\":{\"style\":\"light\"}}},\"geo\":{\"domain\":{\"x\":[0.0,1.0],\"y\":[0.0,1.0]},\"center\":{},\"scope\":\"europe\"},\"coloraxis\":{\"colorbar\":{\"title\":{\"text\":\"OBS_VALUE\"}},\"colorscale\":[[0.0,\"#0d0887\"],[0.1111111111111111,\"#46039f\"],[0.2222222222222222,\"#7201a8\"],[0.3333333333333333,\"#9c179e\"],[0.4444444444444444,\"#bd3786\"],[0.5555555555555556,\"#d8576b\"],[0.6666666666666666,\"#ed7953\"],[0.7777777777777778,\"#fb9f3a\"],[0.8888888888888888,\"#fdca26\"],[1.0,\"#f0f921\"]],\"cmin\":0.0,\"cmax\":49.1},\"legend\":{\"tracegroupgap\":0},\"margin\":{\"t\":60},\"updatemenus\":[{\"buttons\":[{\"args\":[null,{\"frame\":{\"duration\":500,\"redraw\":true},\"mode\":\"immediate\",\"fromcurrent\":true,\"transition\":{\"duration\":500,\"easing\":\"linear\"}}],\"label\":\"&#9654;\",\"method\":\"animate\"},{\"args\":[[null],{\"frame\":{\"duration\":0,\"redraw\":true},\"mode\":\"immediate\",\"fromcurrent\":true,\"transition\":{\"duration\":0,\"easing\":\"linear\"}}],\"label\":\"&#9724;\",\"method\":\"animate\"}],\"direction\":\"left\",\"pad\":{\"r\":10,\"t\":70},\"showactive\":false,\"type\":\"buttons\",\"x\":0.1,\"xanchor\":\"right\",\"y\":0,\"yanchor\":\"top\"}],\"sliders\":[{\"active\":0,\"currentvalue\":{\"prefix\":\"TIME_PERIOD=\"},\"len\":0.9,\"pad\":{\"b\":10,\"t\":60},\"steps\":[{\"args\":[[\"2012\"],{\"frame\":{\"duration\":0,\"redraw\":true},\"mode\":\"immediate\",\"fromcurrent\":true,\"transition\":{\"duration\":0,\"easing\":\"linear\"}}],\"label\":\"2012\",\"method\":\"animate\"},{\"args\":[[\"2016\"],{\"frame\":{\"duration\":0,\"redraw\":true},\"mode\":\"immediate\",\"fromcurrent\":true,\"transition\":{\"duration\":0,\"easing\":\"linear\"}}],\"label\":\"2016\",\"method\":\"animate\"},{\"args\":[[\"2000\"],{\"frame\":{\"duration\":0,\"redraw\":true},\"mode\":\"immediate\",\"fromcurrent\":true,\"transition\":{\"duration\":0,\"easing\":\"linear\"}}],\"label\":\"2000\",\"method\":\"animate\"},{\"args\":[[\"2004\"],{\"frame\":{\"duration\":0,\"redraw\":true},\"mode\":\"immediate\",\"fromcurrent\":true,\"transition\":{\"duration\":0,\"easing\":\"linear\"}}],\"label\":\"2004\",\"method\":\"animate\"},{\"args\":[[\"2008\"],{\"frame\":{\"duration\":0,\"redraw\":true},\"mode\":\"immediate\",\"fromcurrent\":true,\"transition\":{\"duration\":0,\"easing\":\"linear\"}}],\"label\":\"2008\",\"method\":\"animate\"},{\"args\":[[\"2020\"],{\"frame\":{\"duration\":0,\"redraw\":true},\"mode\":\"immediate\",\"fromcurrent\":true,\"transition\":{\"duration\":0,\"easing\":\"linear\"}}],\"label\":\"2020\",\"method\":\"animate\"},{\"args\":[[\"2021\"],{\"frame\":{\"duration\":0,\"redraw\":true},\"mode\":\"immediate\",\"fromcurrent\":true,\"transition\":{\"duration\":0,\"easing\":\"linear\"}}],\"label\":\"2021\",\"method\":\"animate\"},{\"args\":[[\"2022\"],{\"frame\":{\"duration\":0,\"redraw\":true},\"mode\":\"immediate\",\"fromcurrent\":true,\"transition\":{\"duration\":0,\"easing\":\"linear\"}}],\"label\":\"2022\",\"method\":\"animate\"}],\"x\":0.1,\"xanchor\":\"left\",\"y\":0,\"yanchor\":\"top\"}]},                        {\"responsive\": true}                    ).then(function(){\n",
       "                            Plotly.addFrames('832bc007-8ec2-4320-9acb-26c3e31de23a', [{\"data\":[{\"coloraxis\":\"coloraxis\",\"featureidkey\":\"properties.id\",\"geo\":\"geo\",\"geojson\":[{\"type\":\"Feature\",\"properties\":{\"id\":\"AL\",\"na\":\"SHQIP\\u00cbRIA\",\"ar\":\"28799674148\"},\"geometry\":{\"type\":\"Point\",\"coordinates\":[20.071,41.139]}},{\"type\":\"Feature\",\"properties\":{\"id\":\"AT\",\"na\":\"\\u00d6STERREICH\",\"ar\":\"83944908792\"},\"geometry\":{\"type\":\"Point\",\"coordinates\":[14.137,47.585]}},{\"type\":\"Feature\",\"properties\":{\"id\":\"BE\",\"na\":\"BELGIQUE-BELGI\\u00cb\",\"ar\":\"30666252645\"},\"geometry\":{\"type\":\"Point\",\"coordinates\":[4.659,50.643]}},{\"type\":\"Feature\",\"properties\":{\"id\":\"BG\",\"na\":\"BULGARIA\",\"ar\":\"110994229783\"},\"geometry\":{\"type\":\"Point\",\"coordinates\":[25.235,42.755]}},{\"type\":\"Feature\",\"properties\":{\"id\":\"CH\",\"na\":\"SCHWEIZ/SUISSE/SVIZZERA\",\"ar\":\"41286389372\"},\"geometry\":{\"type\":\"Point\",\"coordinates\":[8.213,46.955]}},{\"type\":\"Feature\",\"properties\":{\"id\":\"CY\",\"na\":\"KYPROS\",\"ar\":\"9256703982\"},\"geometry\":{\"type\":\"Point\",\"coordinates\":[33.174,35.028]}},{\"type\":\"Feature\",\"properties\":{\"id\":\"CZ\",\"na\":\"\\u010cESK\\u00c1 REPUBLIKA\",\"ar\":\"78873251270\"},\"geometry\":{\"type\":\"Point\",\"coordinates\":[15.328,49.738]}},{\"type\":\"Feature\",\"properties\":{\"id\":\"DE\",\"na\":\"DEUTSCHLAND\",\"ar\":\"357661390415\"},\"geometry\":{\"type\":\"Point\",\"coordinates\":[10.379,51.074]}},{\"type\":\"Feature\",\"properties\":{\"id\":\"DK\",\"na\":\"DANMARK\",\"ar\":\"43171428497\"},\"geometry\":{\"type\":\"Point\",\"coordinates\":[9.319,56.027]}},{\"type\":\"Feature\",\"properties\":{\"id\":\"EE\",\"na\":\"EESTI\",\"ar\":\"45344926455\"},\"geometry\":{\"type\":\"Point\",\"coordinates\":[25.855,58.671]}},{\"type\":\"Feature\",\"properties\":{\"id\":\"EL\",\"na\":\"ELLADA\",\"ar\":\"131759420072\"},\"geometry\":{\"type\":\"Point\",\"coordinates\":[22.54,39.498]}},{\"type\":\"Feature\",\"properties\":{\"id\":\"ES\",\"na\":\"ESPA\\u00d1A\",\"ar\":\"506004058602\"},\"geometry\":{\"type\":\"Point\",\"coordinates\":[-3.552,40.382]}},{\"type\":\"Feature\",\"properties\":{\"id\":\"FI\",\"na\":\"SUOMI / FINLAND\",\"ar\":\"337522470861\"},\"geometry\":{\"type\":\"Point\",\"coordinates\":[26.279,64.497]}},{\"type\":\"Feature\",\"properties\":{\"id\":\"FR\",\"na\":\"FRANCE\",\"ar\":\"638364847019\"},\"geometry\":{\"type\":\"Point\",\"coordinates\":[2.506,46.618]}},{\"type\":\"Feature\",\"properties\":{\"id\":\"HR\",\"na\":\"HRVATSKA\",\"ar\":\"56516296161\"},\"geometry\":{\"type\":\"Point\",\"coordinates\":[16.489,43.756]}},{\"type\":\"Feature\",\"properties\":{\"id\":\"HU\",\"na\":\"MAGYARORSZ\\u00c1G\",\"ar\":\"93009125408\"},\"geometry\":{\"type\":\"Point\",\"coordinates\":[19.407,47.162]}},{\"type\":\"Feature\",\"properties\":{\"id\":\"IE\",\"na\":\"IRELAND\",\"ar\":\"69940293930\"},\"geometry\":{\"type\":\"Point\",\"coordinates\":[-8.09,53.179]}},{\"type\":\"Feature\",\"properties\":{\"id\":\"IS\",\"na\":\"\\u00cdSLAND\",\"ar\":\"102696958004\"},\"geometry\":{\"type\":\"Point\",\"coordinates\":[-18.857,64.756]}},{\"type\":\"Feature\",\"properties\":{\"id\":\"IT\",\"na\":\"ITALIA\",\"ar\":\"300650239153\"},\"geometry\":{\"type\":\"Point\",\"coordinates\":[12.532,42.837]}},{\"type\":\"Feature\",\"properties\":{\"id\":\"LI\",\"na\":\"LIECHTENSTEIN\",\"ar\":\"160027035\"},\"geometry\":{\"type\":\"Point\",\"coordinates\":[9.553,47.138]}},{\"type\":\"Feature\",\"properties\":{\"id\":\"LT\",\"na\":\"LIETUVA\",\"ar\":\"64896830575\"},\"geometry\":{\"type\":\"Point\",\"coordinates\":[23.92,55.335]}},{\"type\":\"Feature\",\"properties\":{\"id\":\"LU\",\"na\":\"LUXEMBOURG\",\"ar\":\"2595980536\"},\"geometry\":{\"type\":\"Point\",\"coordinates\":[6.094,49.771]}},{\"type\":\"Feature\",\"properties\":{\"id\":\"LV\",\"na\":\"LATVIJA\",\"ar\":\"64586856302\"},\"geometry\":{\"type\":\"Point\",\"coordinates\":[26.382,56.683]}},{\"type\":\"Feature\",\"properties\":{\"id\":\"ME\",\"na\":\"CRNA GORA\",\"ar\":\"13881667823\"},\"geometry\":{\"type\":\"Point\",\"coordinates\":[19.269,42.772]}},{\"type\":\"Feature\",\"properties\":{\"id\":\"MK\",\"na\":\"North Macedonia\",\"ar\":\"25433732311\"},\"geometry\":{\"type\":\"Point\",\"coordinates\":[21.697,41.598]}},{\"type\":\"Feature\",\"properties\":{\"id\":\"MT\",\"na\":\"MALTA\",\"ar\":\"313896740\"},\"geometry\":{\"type\":\"Point\",\"coordinates\":[14.431,35.886]}},{\"type\":\"Feature\",\"properties\":{\"id\":\"NL\",\"na\":\"NEDERLAND\",\"ar\":\"37380411293\"},\"geometry\":{\"type\":\"Point\",\"coordinates\":[5.646,52.293]}},{\"type\":\"Feature\",\"properties\":{\"id\":\"NO\",\"na\":\"NORGE\",\"ar\":\"323337377165\"},\"geometry\":{\"type\":\"Point\",\"coordinates\":[9.298,61.388]}},{\"type\":\"Feature\",\"properties\":{\"id\":\"PL\",\"na\":\"POLSKA\",\"ar\":\"311940525907\"},\"geometry\":{\"type\":\"Point\",\"coordinates\":[19.407,52.131]}},{\"type\":\"Feature\",\"properties\":{\"id\":\"PT\",\"na\":\"PORTUGAL\",\"ar\":\"91909150969\"},\"geometry\":{\"type\":\"Point\",\"coordinates\":[-7.97,39.687]}},{\"type\":\"Feature\",\"properties\":{\"id\":\"RO\",\"na\":\"ROM\\u00c2NIA\",\"ar\":\"238368617959\"},\"geometry\":{\"type\":\"Point\",\"coordinates\":[24.978,45.836]}},{\"type\":\"Feature\",\"properties\":{\"id\":\"RS\",\"na\":\"REPUBLIKA SRBIJA /\\u0420\\u0415\\u041f\\u0423\\u0411\\u041b\\u0418\\u041a\\u0410 \\u0421\\u0420\\u0411\\u0418\\u0408\\u0410\",\"ar\":\"77487750334\"},\"geometry\":{\"type\":\"Point\",\"coordinates\":[20.797,44.236]}},{\"type\":\"Feature\",\"properties\":{\"id\":\"SE\",\"na\":\"SVERIGE\",\"ar\":\"449655124316\"},\"geometry\":{\"type\":\"Point\",\"coordinates\":[14.444,60.642]}},{\"type\":\"Feature\",\"properties\":{\"id\":\"SI\",\"na\":\"SLOVENIJA\",\"ar\":\"20271712958\"},\"geometry\":{\"type\":\"Point\",\"coordinates\":[14.817,46.128]}},{\"type\":\"Feature\",\"properties\":{\"id\":\"SK\",\"na\":\"SLOVENSKO\",\"ar\":\"49023912056\"},\"geometry\":{\"type\":\"Point\",\"coordinates\":[19.474,48.704]}},{\"type\":\"Feature\",\"properties\":{\"id\":\"TR\",\"na\":\"T\\u00dcRKIYE\",\"ar\":\"780375435940\"},\"geometry\":{\"type\":\"Point\",\"coordinates\":[35.471,38.992]}},{\"type\":\"Feature\",\"properties\":{\"id\":\"UK\",\"na\":\"UNITED KINGDOM\",\"ar\":\"244545006004\"},\"geometry\":{\"type\":\"Point\",\"coordinates\":[-2.109,53.279]}}],\"hovertemplate\":\"TIME_PERIOD=2012<br>geo=%{location}<br>OBS_VALUE=%{z}<extra></extra>\",\"locationmode\":\"country names\",\"locations\":[\"AL\",\"AT\",\"BA\",\"BE\",\"BG\",\"CH\",\"CZ\",\"DE\",\"DK\",\"EA\",\"EA19\",\"EE\",\"EL\",\"ES\",\"EU15\",\"EU27_2020\",\"EU28\",\"FI\",\"FR\",\"HR\",\"HU\",\"IE\",\"IS\",\"IT\",\"LT\",\"LU\",\"LV\",\"ME\",\"MK\",\"MT\",\"NL\",\"NO\",\"PL\",\"PT\",\"RO\",\"RS\",\"SE\",\"SI\",\"SK\",\"TR\",\"UK\",\"AL\",\"AT\",\"BA\",\"BE\",\"BG\",\"CH\",\"CZ\",\"DE\",\"DK\",\"EA\",\"EA19\",\"EE\",\"EL\",\"ES\",\"EU15\",\"EU27_2020\",\"EU28\",\"FI\",\"FR\",\"HR\",\"HU\",\"IE\",\"IS\",\"IT\",\"LT\",\"LU\",\"LV\",\"ME\",\"MK\",\"MT\",\"NL\",\"NO\",\"PL\",\"PT\",\"RO\",\"RS\",\"SE\",\"SI\",\"SK\",\"TR\",\"UK\",\"AL\",\"AT\",\"BA\",\"BE\",\"BG\",\"CH\",\"CZ\",\"DE\",\"DK\",\"EA19\",\"EE\",\"EL\",\"ES\",\"EU15\",\"EU27_2020\",\"EU28\",\"FI\",\"FR\",\"HR\",\"HU\",\"IE\",\"IS\",\"IT\",\"LT\",\"LU\",\"LV\",\"ME\",\"MK\",\"MT\",\"NL\",\"NO\",\"PL\",\"PT\",\"RO\",\"RS\",\"SE\",\"SI\",\"SK\",\"TR\",\"UK\",\"AL\",\"AT\",\"BA\",\"BE\",\"BG\",\"CH\",\"CZ\",\"DE\",\"DK\",\"EA19\",\"EE\",\"EL\",\"ES\",\"EU15\",\"EU27_2020\",\"EU28\",\"FI\",\"FR\",\"HR\",\"HU\",\"IE\",\"IS\",\"IT\",\"LT\",\"LU\",\"LV\",\"ME\",\"MK\",\"MT\",\"NL\",\"NO\",\"PL\",\"PT\",\"RO\",\"RS\",\"SE\",\"SI\",\"SK\",\"TR\",\"UK\"],\"name\":\"\",\"z\":[1.6,21.1,3.4,20.3,2.5,34.9,6.8,19.6,32.1,18.4,18.4,7.3,10.2,14.8,20.0,15.8,16.6,24.9,20.9,6.9,5.0,23.3,20.2,16.7,3.8,21.1,4.3,3.4,2.8,8.5,25.6,40.7,5.7,9.2,2.5,3.9,26.4,10.1,6.3,3.6,21.4,0.4,7.3,0.3,13.1,0.5,9.0,2.5,5.5,4.3,6.3,6.7,2.7,3.5,6.1,6.5,5.6,5.3,6.9,9.4,1.4,1.4,3.1,4.4,6.8,1.7,3.7,1.1,0.7,0.3,0.9,8.1,8.5,1.2,2.4,0.7,0.7,12.0,1.8,2.2,0.7,3.6,2.0,28.4,3.7,33.4,3.0,43.8,9.3,25.1,36.4,25.1,10.0,13.7,20.9,26.5,21.4,21.9,31.7,30.3,8.2,6.4,26.4,24.6,23.5,5.5,24.8,5.5,4.1,3.1,9.4,33.7,49.1,6.8,11.6,3.3,4.7,38.3,11.9,8.4,4.3,25.0,19.5,25.7,7.0,39.2,15.7,20.5,26.6,21.9,11.8,26.7,26.7,25.7,29.1,24.6,26.2,24.3,21.7,30.9,16.4,22.0,11.7,17.9,29.1,31.3,14.9,20.5,18.0,8.4,9.3,24.1,17.2,17.4,20.7,22.7,15.9,31.2,14.9,25.7,17.0,14.5],\"type\":\"choropleth\"}],\"name\":\"2012\"},{\"data\":[{\"coloraxis\":\"coloraxis\",\"featureidkey\":\"properties.id\",\"geo\":\"geo\",\"geojson\":[{\"type\":\"Feature\",\"properties\":{\"id\":\"AL\",\"na\":\"SHQIP\\u00cbRIA\",\"ar\":\"28799674148\"},\"geometry\":{\"type\":\"Point\",\"coordinates\":[20.071,41.139]}},{\"type\":\"Feature\",\"properties\":{\"id\":\"AT\",\"na\":\"\\u00d6STERREICH\",\"ar\":\"83944908792\"},\"geometry\":{\"type\":\"Point\",\"coordinates\":[14.137,47.585]}},{\"type\":\"Feature\",\"properties\":{\"id\":\"BE\",\"na\":\"BELGIQUE-BELGI\\u00cb\",\"ar\":\"30666252645\"},\"geometry\":{\"type\":\"Point\",\"coordinates\":[4.659,50.643]}},{\"type\":\"Feature\",\"properties\":{\"id\":\"BG\",\"na\":\"BULGARIA\",\"ar\":\"110994229783\"},\"geometry\":{\"type\":\"Point\",\"coordinates\":[25.235,42.755]}},{\"type\":\"Feature\",\"properties\":{\"id\":\"CH\",\"na\":\"SCHWEIZ/SUISSE/SVIZZERA\",\"ar\":\"41286389372\"},\"geometry\":{\"type\":\"Point\",\"coordinates\":[8.213,46.955]}},{\"type\":\"Feature\",\"properties\":{\"id\":\"CY\",\"na\":\"KYPROS\",\"ar\":\"9256703982\"},\"geometry\":{\"type\":\"Point\",\"coordinates\":[33.174,35.028]}},{\"type\":\"Feature\",\"properties\":{\"id\":\"CZ\",\"na\":\"\\u010cESK\\u00c1 REPUBLIKA\",\"ar\":\"78873251270\"},\"geometry\":{\"type\":\"Point\",\"coordinates\":[15.328,49.738]}},{\"type\":\"Feature\",\"properties\":{\"id\":\"DE\",\"na\":\"DEUTSCHLAND\",\"ar\":\"357661390415\"},\"geometry\":{\"type\":\"Point\",\"coordinates\":[10.379,51.074]}},{\"type\":\"Feature\",\"properties\":{\"id\":\"DK\",\"na\":\"DANMARK\",\"ar\":\"43171428497\"},\"geometry\":{\"type\":\"Point\",\"coordinates\":[9.319,56.027]}},{\"type\":\"Feature\",\"properties\":{\"id\":\"EE\",\"na\":\"EESTI\",\"ar\":\"45344926455\"},\"geometry\":{\"type\":\"Point\",\"coordinates\":[25.855,58.671]}},{\"type\":\"Feature\",\"properties\":{\"id\":\"EL\",\"na\":\"ELLADA\",\"ar\":\"131759420072\"},\"geometry\":{\"type\":\"Point\",\"coordinates\":[22.54,39.498]}},{\"type\":\"Feature\",\"properties\":{\"id\":\"ES\",\"na\":\"ESPA\\u00d1A\",\"ar\":\"506004058602\"},\"geometry\":{\"type\":\"Point\",\"coordinates\":[-3.552,40.382]}},{\"type\":\"Feature\",\"properties\":{\"id\":\"FI\",\"na\":\"SUOMI / FINLAND\",\"ar\":\"337522470861\"},\"geometry\":{\"type\":\"Point\",\"coordinates\":[26.279,64.497]}},{\"type\":\"Feature\",\"properties\":{\"id\":\"FR\",\"na\":\"FRANCE\",\"ar\":\"638364847019\"},\"geometry\":{\"type\":\"Point\",\"coordinates\":[2.506,46.618]}},{\"type\":\"Feature\",\"properties\":{\"id\":\"HR\",\"na\":\"HRVATSKA\",\"ar\":\"56516296161\"},\"geometry\":{\"type\":\"Point\",\"coordinates\":[16.489,43.756]}},{\"type\":\"Feature\",\"properties\":{\"id\":\"HU\",\"na\":\"MAGYARORSZ\\u00c1G\",\"ar\":\"93009125408\"},\"geometry\":{\"type\":\"Point\",\"coordinates\":[19.407,47.162]}},{\"type\":\"Feature\",\"properties\":{\"id\":\"IE\",\"na\":\"IRELAND\",\"ar\":\"69940293930\"},\"geometry\":{\"type\":\"Point\",\"coordinates\":[-8.09,53.179]}},{\"type\":\"Feature\",\"properties\":{\"id\":\"IS\",\"na\":\"\\u00cdSLAND\",\"ar\":\"102696958004\"},\"geometry\":{\"type\":\"Point\",\"coordinates\":[-18.857,64.756]}},{\"type\":\"Feature\",\"properties\":{\"id\":\"IT\",\"na\":\"ITALIA\",\"ar\":\"300650239153\"},\"geometry\":{\"type\":\"Point\",\"coordinates\":[12.532,42.837]}},{\"type\":\"Feature\",\"properties\":{\"id\":\"LI\",\"na\":\"LIECHTENSTEIN\",\"ar\":\"160027035\"},\"geometry\":{\"type\":\"Point\",\"coordinates\":[9.553,47.138]}},{\"type\":\"Feature\",\"properties\":{\"id\":\"LT\",\"na\":\"LIETUVA\",\"ar\":\"64896830575\"},\"geometry\":{\"type\":\"Point\",\"coordinates\":[23.92,55.335]}},{\"type\":\"Feature\",\"properties\":{\"id\":\"LU\",\"na\":\"LUXEMBOURG\",\"ar\":\"2595980536\"},\"geometry\":{\"type\":\"Point\",\"coordinates\":[6.094,49.771]}},{\"type\":\"Feature\",\"properties\":{\"id\":\"LV\",\"na\":\"LATVIJA\",\"ar\":\"64586856302\"},\"geometry\":{\"type\":\"Point\",\"coordinates\":[26.382,56.683]}},{\"type\":\"Feature\",\"properties\":{\"id\":\"ME\",\"na\":\"CRNA GORA\",\"ar\":\"13881667823\"},\"geometry\":{\"type\":\"Point\",\"coordinates\":[19.269,42.772]}},{\"type\":\"Feature\",\"properties\":{\"id\":\"MK\",\"na\":\"North Macedonia\",\"ar\":\"25433732311\"},\"geometry\":{\"type\":\"Point\",\"coordinates\":[21.697,41.598]}},{\"type\":\"Feature\",\"properties\":{\"id\":\"MT\",\"na\":\"MALTA\",\"ar\":\"313896740\"},\"geometry\":{\"type\":\"Point\",\"coordinates\":[14.431,35.886]}},{\"type\":\"Feature\",\"properties\":{\"id\":\"NL\",\"na\":\"NEDERLAND\",\"ar\":\"37380411293\"},\"geometry\":{\"type\":\"Point\",\"coordinates\":[5.646,52.293]}},{\"type\":\"Feature\",\"properties\":{\"id\":\"NO\",\"na\":\"NORGE\",\"ar\":\"323337377165\"},\"geometry\":{\"type\":\"Point\",\"coordinates\":[9.298,61.388]}},{\"type\":\"Feature\",\"properties\":{\"id\":\"PL\",\"na\":\"POLSKA\",\"ar\":\"311940525907\"},\"geometry\":{\"type\":\"Point\",\"coordinates\":[19.407,52.131]}},{\"type\":\"Feature\",\"properties\":{\"id\":\"PT\",\"na\":\"PORTUGAL\",\"ar\":\"91909150969\"},\"geometry\":{\"type\":\"Point\",\"coordinates\":[-7.97,39.687]}},{\"type\":\"Feature\",\"properties\":{\"id\":\"RO\",\"na\":\"ROM\\u00c2NIA\",\"ar\":\"238368617959\"},\"geometry\":{\"type\":\"Point\",\"coordinates\":[24.978,45.836]}},{\"type\":\"Feature\",\"properties\":{\"id\":\"RS\",\"na\":\"REPUBLIKA SRBIJA /\\u0420\\u0415\\u041f\\u0423\\u0411\\u041b\\u0418\\u041a\\u0410 \\u0421\\u0420\\u0411\\u0418\\u0408\\u0410\",\"ar\":\"77487750334\"},\"geometry\":{\"type\":\"Point\",\"coordinates\":[20.797,44.236]}},{\"type\":\"Feature\",\"properties\":{\"id\":\"SE\",\"na\":\"SVERIGE\",\"ar\":\"449655124316\"},\"geometry\":{\"type\":\"Point\",\"coordinates\":[14.444,60.642]}},{\"type\":\"Feature\",\"properties\":{\"id\":\"SI\",\"na\":\"SLOVENIJA\",\"ar\":\"20271712958\"},\"geometry\":{\"type\":\"Point\",\"coordinates\":[14.817,46.128]}},{\"type\":\"Feature\",\"properties\":{\"id\":\"SK\",\"na\":\"SLOVENSKO\",\"ar\":\"49023912056\"},\"geometry\":{\"type\":\"Point\",\"coordinates\":[19.474,48.704]}},{\"type\":\"Feature\",\"properties\":{\"id\":\"TR\",\"na\":\"T\\u00dcRKIYE\",\"ar\":\"780375435940\"},\"geometry\":{\"type\":\"Point\",\"coordinates\":[35.471,38.992]}},{\"type\":\"Feature\",\"properties\":{\"id\":\"UK\",\"na\":\"UNITED KINGDOM\",\"ar\":\"244545006004\"},\"geometry\":{\"type\":\"Point\",\"coordinates\":[-2.109,53.279]}}],\"hovertemplate\":\"TIME_PERIOD=2016<br>geo=%{location}<br>OBS_VALUE=%{z}<extra></extra>\",\"locationmode\":\"country names\",\"locations\":[\"AL\",\"AT\",\"BA\",\"BE\",\"BG\",\"CH\",\"CZ\",\"DE\",\"DK\",\"EA\",\"EA19\",\"EE\",\"EL\",\"ES\",\"EU15\",\"EU27_2020\",\"EU28\",\"FI\",\"FR\",\"HR\",\"HU\",\"IE\",\"IS\",\"IT\",\"LT\",\"LU\",\"LV\",\"ME\",\"MK\",\"MT\",\"NL\",\"NO\",\"PL\",\"PT\",\"RO\",\"RS\",\"SE\",\"SI\",\"SK\",\"TR\",\"UK\",\"AL\",\"AT\",\"BA\",\"BE\",\"BG\",\"CH\",\"CZ\",\"DE\",\"DK\",\"EA\",\"EA19\",\"EE\",\"EL\",\"ES\",\"EU15\",\"EU27_2020\",\"EU28\",\"FI\",\"FR\",\"HR\",\"HU\",\"IE\",\"IS\",\"IT\",\"LT\",\"LU\",\"LV\",\"ME\",\"MK\",\"MT\",\"NL\",\"NO\",\"PL\",\"PT\",\"RO\",\"RS\",\"SE\",\"SI\",\"SK\",\"TR\",\"UK\",\"AL\",\"AT\",\"BA\",\"BE\",\"BG\",\"CH\",\"CZ\",\"DE\",\"DK\",\"EA19\",\"EE\",\"EL\",\"ES\",\"EU15\",\"EU27_2020\",\"EU28\",\"FI\",\"FR\",\"HR\",\"HU\",\"IE\",\"IS\",\"IT\",\"LT\",\"LU\",\"LV\",\"ME\",\"MK\",\"MT\",\"NL\",\"NO\",\"PL\",\"PT\",\"RO\",\"RS\",\"SE\",\"SI\",\"SK\",\"TR\",\"UK\",\"AL\",\"AT\",\"BA\",\"BE\",\"BG\",\"CH\",\"CZ\",\"DE\",\"DK\",\"EA19\",\"EE\",\"EL\",\"ES\",\"EU15\",\"EU27_2020\",\"EU28\",\"FI\",\"FR\",\"HR\",\"HU\",\"IE\",\"IS\",\"IT\",\"LT\",\"LU\",\"LV\",\"ME\",\"MK\",\"MT\",\"NL\",\"NO\",\"PL\",\"PT\",\"RO\",\"RS\",\"SE\",\"SI\",\"SK\",\"TR\",\"UK\"],\"name\":\"\",\"z\":[2.0,23.3,3.4,23.9,3.1,38.6,7.0,20.8,34.0,19.3,19.4,8.7,9.5,14.6,21.1,17.0,17.9,26.4,21.9,7.1,4.8,22.8,31.5,16.5,5.0,22.7,6.3,3.7,3.5,10.0,26.7,34.5,6.6,7.6,3.2,3.6,25.8,11.2,6.7,4.0,22.7,0.4,9.8,0.3,10.9,0.6,9.4,2.6,5.9,4.6,6.3,6.8,3.1,3.1,5.7,6.7,5.9,5.6,7.6,9.2,1.3,1.6,2.9,6.5,6.9,2.2,3.4,1.6,0.6,0.0,1.0,8.8,6.9,1.5,2.1,0.8,0.7,11.6,2.0,2.3,0.8,4.2,2.4,33.1,3.7,34.8,3.6,48.1,9.6,26.7,38.7,26.2,11.8,12.6,20.3,27.8,22.9,23.5,34.0,31.1,8.4,6.4,25.7,38.0,23.5,7.2,26.1,8.0,4.3,3.6,11.0,35.6,41.4,8.1,9.7,4.0,4.3,37.4,13.2,9.0,4.8,26.9,15.3,29.7,7.9,31.4,15.4,19.6,26.9,22.1,12.0,26.1,26.2,24.3,28.1,24.1,25.7,23.9,22.4,29.5,15.0,25.1,11.2,17.0,29.6,30.2,13.1,20.6,13.8,1.1,8.8,24.8,16.7,18.7,21.8,19.7,16.9,31.1,15.4,25.7,17.4,15.5],\"type\":\"choropleth\"}],\"name\":\"2016\"},{\"data\":[{\"coloraxis\":\"coloraxis\",\"featureidkey\":\"properties.id\",\"geo\":\"geo\",\"geojson\":[{\"type\":\"Feature\",\"properties\":{\"id\":\"AL\",\"na\":\"SHQIP\\u00cbRIA\",\"ar\":\"28799674148\"},\"geometry\":{\"type\":\"Point\",\"coordinates\":[20.071,41.139]}},{\"type\":\"Feature\",\"properties\":{\"id\":\"AT\",\"na\":\"\\u00d6STERREICH\",\"ar\":\"83944908792\"},\"geometry\":{\"type\":\"Point\",\"coordinates\":[14.137,47.585]}},{\"type\":\"Feature\",\"properties\":{\"id\":\"BE\",\"na\":\"BELGIQUE-BELGI\\u00cb\",\"ar\":\"30666252645\"},\"geometry\":{\"type\":\"Point\",\"coordinates\":[4.659,50.643]}},{\"type\":\"Feature\",\"properties\":{\"id\":\"BG\",\"na\":\"BULGARIA\",\"ar\":\"110994229783\"},\"geometry\":{\"type\":\"Point\",\"coordinates\":[25.235,42.755]}},{\"type\":\"Feature\",\"properties\":{\"id\":\"CH\",\"na\":\"SCHWEIZ/SUISSE/SVIZZERA\",\"ar\":\"41286389372\"},\"geometry\":{\"type\":\"Point\",\"coordinates\":[8.213,46.955]}},{\"type\":\"Feature\",\"properties\":{\"id\":\"CY\",\"na\":\"KYPROS\",\"ar\":\"9256703982\"},\"geometry\":{\"type\":\"Point\",\"coordinates\":[33.174,35.028]}},{\"type\":\"Feature\",\"properties\":{\"id\":\"CZ\",\"na\":\"\\u010cESK\\u00c1 REPUBLIKA\",\"ar\":\"78873251270\"},\"geometry\":{\"type\":\"Point\",\"coordinates\":[15.328,49.738]}},{\"type\":\"Feature\",\"properties\":{\"id\":\"DE\",\"na\":\"DEUTSCHLAND\",\"ar\":\"357661390415\"},\"geometry\":{\"type\":\"Point\",\"coordinates\":[10.379,51.074]}},{\"type\":\"Feature\",\"properties\":{\"id\":\"DK\",\"na\":\"DANMARK\",\"ar\":\"43171428497\"},\"geometry\":{\"type\":\"Point\",\"coordinates\":[9.319,56.027]}},{\"type\":\"Feature\",\"properties\":{\"id\":\"EE\",\"na\":\"EESTI\",\"ar\":\"45344926455\"},\"geometry\":{\"type\":\"Point\",\"coordinates\":[25.855,58.671]}},{\"type\":\"Feature\",\"properties\":{\"id\":\"EL\",\"na\":\"ELLADA\",\"ar\":\"131759420072\"},\"geometry\":{\"type\":\"Point\",\"coordinates\":[22.54,39.498]}},{\"type\":\"Feature\",\"properties\":{\"id\":\"ES\",\"na\":\"ESPA\\u00d1A\",\"ar\":\"506004058602\"},\"geometry\":{\"type\":\"Point\",\"coordinates\":[-3.552,40.382]}},{\"type\":\"Feature\",\"properties\":{\"id\":\"FI\",\"na\":\"SUOMI / FINLAND\",\"ar\":\"337522470861\"},\"geometry\":{\"type\":\"Point\",\"coordinates\":[26.279,64.497]}},{\"type\":\"Feature\",\"properties\":{\"id\":\"FR\",\"na\":\"FRANCE\",\"ar\":\"638364847019\"},\"geometry\":{\"type\":\"Point\",\"coordinates\":[2.506,46.618]}},{\"type\":\"Feature\",\"properties\":{\"id\":\"HR\",\"na\":\"HRVATSKA\",\"ar\":\"56516296161\"},\"geometry\":{\"type\":\"Point\",\"coordinates\":[16.489,43.756]}},{\"type\":\"Feature\",\"properties\":{\"id\":\"HU\",\"na\":\"MAGYARORSZ\\u00c1G\",\"ar\":\"93009125408\"},\"geometry\":{\"type\":\"Point\",\"coordinates\":[19.407,47.162]}},{\"type\":\"Feature\",\"properties\":{\"id\":\"IE\",\"na\":\"IRELAND\",\"ar\":\"69940293930\"},\"geometry\":{\"type\":\"Point\",\"coordinates\":[-8.09,53.179]}},{\"type\":\"Feature\",\"properties\":{\"id\":\"IS\",\"na\":\"\\u00cdSLAND\",\"ar\":\"102696958004\"},\"geometry\":{\"type\":\"Point\",\"coordinates\":[-18.857,64.756]}},{\"type\":\"Feature\",\"properties\":{\"id\":\"IT\",\"na\":\"ITALIA\",\"ar\":\"300650239153\"},\"geometry\":{\"type\":\"Point\",\"coordinates\":[12.532,42.837]}},{\"type\":\"Feature\",\"properties\":{\"id\":\"LI\",\"na\":\"LIECHTENSTEIN\",\"ar\":\"160027035\"},\"geometry\":{\"type\":\"Point\",\"coordinates\":[9.553,47.138]}},{\"type\":\"Feature\",\"properties\":{\"id\":\"LT\",\"na\":\"LIETUVA\",\"ar\":\"64896830575\"},\"geometry\":{\"type\":\"Point\",\"coordinates\":[23.92,55.335]}},{\"type\":\"Feature\",\"properties\":{\"id\":\"LU\",\"na\":\"LUXEMBOURG\",\"ar\":\"2595980536\"},\"geometry\":{\"type\":\"Point\",\"coordinates\":[6.094,49.771]}},{\"type\":\"Feature\",\"properties\":{\"id\":\"LV\",\"na\":\"LATVIJA\",\"ar\":\"64586856302\"},\"geometry\":{\"type\":\"Point\",\"coordinates\":[26.382,56.683]}},{\"type\":\"Feature\",\"properties\":{\"id\":\"ME\",\"na\":\"CRNA GORA\",\"ar\":\"13881667823\"},\"geometry\":{\"type\":\"Point\",\"coordinates\":[19.269,42.772]}},{\"type\":\"Feature\",\"properties\":{\"id\":\"MK\",\"na\":\"North Macedonia\",\"ar\":\"25433732311\"},\"geometry\":{\"type\":\"Point\",\"coordinates\":[21.697,41.598]}},{\"type\":\"Feature\",\"properties\":{\"id\":\"MT\",\"na\":\"MALTA\",\"ar\":\"313896740\"},\"geometry\":{\"type\":\"Point\",\"coordinates\":[14.431,35.886]}},{\"type\":\"Feature\",\"properties\":{\"id\":\"NL\",\"na\":\"NEDERLAND\",\"ar\":\"37380411293\"},\"geometry\":{\"type\":\"Point\",\"coordinates\":[5.646,52.293]}},{\"type\":\"Feature\",\"properties\":{\"id\":\"NO\",\"na\":\"NORGE\",\"ar\":\"323337377165\"},\"geometry\":{\"type\":\"Point\",\"coordinates\":[9.298,61.388]}},{\"type\":\"Feature\",\"properties\":{\"id\":\"PL\",\"na\":\"POLSKA\",\"ar\":\"311940525907\"},\"geometry\":{\"type\":\"Point\",\"coordinates\":[19.407,52.131]}},{\"type\":\"Feature\",\"properties\":{\"id\":\"PT\",\"na\":\"PORTUGAL\",\"ar\":\"91909150969\"},\"geometry\":{\"type\":\"Point\",\"coordinates\":[-7.97,39.687]}},{\"type\":\"Feature\",\"properties\":{\"id\":\"RO\",\"na\":\"ROM\\u00c2NIA\",\"ar\":\"238368617959\"},\"geometry\":{\"type\":\"Point\",\"coordinates\":[24.978,45.836]}},{\"type\":\"Feature\",\"properties\":{\"id\":\"RS\",\"na\":\"REPUBLIKA SRBIJA /\\u0420\\u0415\\u041f\\u0423\\u0411\\u041b\\u0418\\u041a\\u0410 \\u0421\\u0420\\u0411\\u0418\\u0408\\u0410\",\"ar\":\"77487750334\"},\"geometry\":{\"type\":\"Point\",\"coordinates\":[20.797,44.236]}},{\"type\":\"Feature\",\"properties\":{\"id\":\"SE\",\"na\":\"SVERIGE\",\"ar\":\"449655124316\"},\"geometry\":{\"type\":\"Point\",\"coordinates\":[14.444,60.642]}},{\"type\":\"Feature\",\"properties\":{\"id\":\"SI\",\"na\":\"SLOVENIJA\",\"ar\":\"20271712958\"},\"geometry\":{\"type\":\"Point\",\"coordinates\":[14.817,46.128]}},{\"type\":\"Feature\",\"properties\":{\"id\":\"SK\",\"na\":\"SLOVENSKO\",\"ar\":\"49023912056\"},\"geometry\":{\"type\":\"Point\",\"coordinates\":[19.474,48.704]}},{\"type\":\"Feature\",\"properties\":{\"id\":\"TR\",\"na\":\"T\\u00dcRKIYE\",\"ar\":\"780375435940\"},\"geometry\":{\"type\":\"Point\",\"coordinates\":[35.471,38.992]}},{\"type\":\"Feature\",\"properties\":{\"id\":\"UK\",\"na\":\"UNITED KINGDOM\",\"ar\":\"244545006004\"},\"geometry\":{\"type\":\"Point\",\"coordinates\":[-2.109,53.279]}}],\"hovertemplate\":\"TIME_PERIOD=2000<br>geo=%{location}<br>OBS_VALUE=%{z}<extra></extra>\",\"locationmode\":\"country names\",\"locations\":[\"AT\",\"BE\",\"BG\",\"CZ\",\"DE\",\"DK\",\"EA\",\"EE\",\"EL\",\"ES\",\"EU15\",\"FI\",\"FR\",\"HU\",\"IE\",\"IS\",\"IT\",\"LT\",\"LU\",\"LV\",\"NL\",\"PT\",\"SE\",\"SI\",\"SK\",\"UK\",\"AT\",\"BE\",\"BG\",\"CZ\",\"DE\",\"DK\",\"EA\",\"EE\",\"EL\",\"ES\",\"EU15\",\"FI\",\"FR\",\"HU\",\"IE\",\"IS\",\"IT\",\"LT\",\"LU\",\"LV\",\"NL\",\"PT\",\"SE\",\"SI\",\"SK\",\"UK\",\"AT\",\"BE\",\"BG\",\"CZ\",\"DE\",\"DK\",\"EA\",\"EE\",\"EL\",\"ES\",\"EU15\",\"FI\",\"FR\",\"HU\",\"IE\",\"IS\",\"IT\",\"LT\",\"LU\",\"LV\",\"NL\",\"PT\",\"SE\",\"SI\",\"SK\",\"UK\",\"AT\",\"BE\",\"BG\",\"CZ\",\"DE\",\"DK\",\"EA\",\"EE\",\"EL\",\"ES\",\"EU15\",\"FI\",\"FR\",\"HU\",\"IE\",\"IS\",\"IT\",\"LT\",\"LU\",\"LV\",\"NL\",\"PT\",\"SE\",\"SI\",\"SK\",\"UK\"],\"name\":\"\",\"z\":[17.1,14.1,0.8,2.6,16.2,23.8,13.0,2.0,6.9,8.9,14.2,16.4,14.6,2.0,13.8,22.5,11.0,1.7,14.2,1.1,17.8,5.6,17.5,6.3,2.1,18.6,4.0,9.7,0.3,1.0,3.8,1.0,4.5,0.7,1.7,3.2,4.5,4.5,5.9,0.9,2.8,3.0,4.9,0.7,2.4,0.3,5.4,1.3,8.2,1.3,0.8,3.8,21.1,23.8,1.1,3.6,20.1,24.7,17.5,2.7,8.6,12.0,18.7,20.8,20.4,2.9,16.6,25.5,16.0,2.4,16.6,1.4,23.2,6.9,25.7,7.6,3.0,22.4,19.0,40.6,27.4,27.4,19.2,4.0,25.6,26.7,19.5,26.4,24.2,21.5,28.7,30.8,16.7,11.9,30.9,28.5,14.3,22.3,23.2,19.3,32.0,17.1,28.0,16.9],\"type\":\"choropleth\"}],\"name\":\"2000\"},{\"data\":[{\"coloraxis\":\"coloraxis\",\"featureidkey\":\"properties.id\",\"geo\":\"geo\",\"geojson\":[{\"type\":\"Feature\",\"properties\":{\"id\":\"AL\",\"na\":\"SHQIP\\u00cbRIA\",\"ar\":\"28799674148\"},\"geometry\":{\"type\":\"Point\",\"coordinates\":[20.071,41.139]}},{\"type\":\"Feature\",\"properties\":{\"id\":\"AT\",\"na\":\"\\u00d6STERREICH\",\"ar\":\"83944908792\"},\"geometry\":{\"type\":\"Point\",\"coordinates\":[14.137,47.585]}},{\"type\":\"Feature\",\"properties\":{\"id\":\"BE\",\"na\":\"BELGIQUE-BELGI\\u00cb\",\"ar\":\"30666252645\"},\"geometry\":{\"type\":\"Point\",\"coordinates\":[4.659,50.643]}},{\"type\":\"Feature\",\"properties\":{\"id\":\"BG\",\"na\":\"BULGARIA\",\"ar\":\"110994229783\"},\"geometry\":{\"type\":\"Point\",\"coordinates\":[25.235,42.755]}},{\"type\":\"Feature\",\"properties\":{\"id\":\"CH\",\"na\":\"SCHWEIZ/SUISSE/SVIZZERA\",\"ar\":\"41286389372\"},\"geometry\":{\"type\":\"Point\",\"coordinates\":[8.213,46.955]}},{\"type\":\"Feature\",\"properties\":{\"id\":\"CY\",\"na\":\"KYPROS\",\"ar\":\"9256703982\"},\"geometry\":{\"type\":\"Point\",\"coordinates\":[33.174,35.028]}},{\"type\":\"Feature\",\"properties\":{\"id\":\"CZ\",\"na\":\"\\u010cESK\\u00c1 REPUBLIKA\",\"ar\":\"78873251270\"},\"geometry\":{\"type\":\"Point\",\"coordinates\":[15.328,49.738]}},{\"type\":\"Feature\",\"properties\":{\"id\":\"DE\",\"na\":\"DEUTSCHLAND\",\"ar\":\"357661390415\"},\"geometry\":{\"type\":\"Point\",\"coordinates\":[10.379,51.074]}},{\"type\":\"Feature\",\"properties\":{\"id\":\"DK\",\"na\":\"DANMARK\",\"ar\":\"43171428497\"},\"geometry\":{\"type\":\"Point\",\"coordinates\":[9.319,56.027]}},{\"type\":\"Feature\",\"properties\":{\"id\":\"EE\",\"na\":\"EESTI\",\"ar\":\"45344926455\"},\"geometry\":{\"type\":\"Point\",\"coordinates\":[25.855,58.671]}},{\"type\":\"Feature\",\"properties\":{\"id\":\"EL\",\"na\":\"ELLADA\",\"ar\":\"131759420072\"},\"geometry\":{\"type\":\"Point\",\"coordinates\":[22.54,39.498]}},{\"type\":\"Feature\",\"properties\":{\"id\":\"ES\",\"na\":\"ESPA\\u00d1A\",\"ar\":\"506004058602\"},\"geometry\":{\"type\":\"Point\",\"coordinates\":[-3.552,40.382]}},{\"type\":\"Feature\",\"properties\":{\"id\":\"FI\",\"na\":\"SUOMI / FINLAND\",\"ar\":\"337522470861\"},\"geometry\":{\"type\":\"Point\",\"coordinates\":[26.279,64.497]}},{\"type\":\"Feature\",\"properties\":{\"id\":\"FR\",\"na\":\"FRANCE\",\"ar\":\"638364847019\"},\"geometry\":{\"type\":\"Point\",\"coordinates\":[2.506,46.618]}},{\"type\":\"Feature\",\"properties\":{\"id\":\"HR\",\"na\":\"HRVATSKA\",\"ar\":\"56516296161\"},\"geometry\":{\"type\":\"Point\",\"coordinates\":[16.489,43.756]}},{\"type\":\"Feature\",\"properties\":{\"id\":\"HU\",\"na\":\"MAGYARORSZ\\u00c1G\",\"ar\":\"93009125408\"},\"geometry\":{\"type\":\"Point\",\"coordinates\":[19.407,47.162]}},{\"type\":\"Feature\",\"properties\":{\"id\":\"IE\",\"na\":\"IRELAND\",\"ar\":\"69940293930\"},\"geometry\":{\"type\":\"Point\",\"coordinates\":[-8.09,53.179]}},{\"type\":\"Feature\",\"properties\":{\"id\":\"IS\",\"na\":\"\\u00cdSLAND\",\"ar\":\"102696958004\"},\"geometry\":{\"type\":\"Point\",\"coordinates\":[-18.857,64.756]}},{\"type\":\"Feature\",\"properties\":{\"id\":\"IT\",\"na\":\"ITALIA\",\"ar\":\"300650239153\"},\"geometry\":{\"type\":\"Point\",\"coordinates\":[12.532,42.837]}},{\"type\":\"Feature\",\"properties\":{\"id\":\"LI\",\"na\":\"LIECHTENSTEIN\",\"ar\":\"160027035\"},\"geometry\":{\"type\":\"Point\",\"coordinates\":[9.553,47.138]}},{\"type\":\"Feature\",\"properties\":{\"id\":\"LT\",\"na\":\"LIETUVA\",\"ar\":\"64896830575\"},\"geometry\":{\"type\":\"Point\",\"coordinates\":[23.92,55.335]}},{\"type\":\"Feature\",\"properties\":{\"id\":\"LU\",\"na\":\"LUXEMBOURG\",\"ar\":\"2595980536\"},\"geometry\":{\"type\":\"Point\",\"coordinates\":[6.094,49.771]}},{\"type\":\"Feature\",\"properties\":{\"id\":\"LV\",\"na\":\"LATVIJA\",\"ar\":\"64586856302\"},\"geometry\":{\"type\":\"Point\",\"coordinates\":[26.382,56.683]}},{\"type\":\"Feature\",\"properties\":{\"id\":\"ME\",\"na\":\"CRNA GORA\",\"ar\":\"13881667823\"},\"geometry\":{\"type\":\"Point\",\"coordinates\":[19.269,42.772]}},{\"type\":\"Feature\",\"properties\":{\"id\":\"MK\",\"na\":\"North Macedonia\",\"ar\":\"25433732311\"},\"geometry\":{\"type\":\"Point\",\"coordinates\":[21.697,41.598]}},{\"type\":\"Feature\",\"properties\":{\"id\":\"MT\",\"na\":\"MALTA\",\"ar\":\"313896740\"},\"geometry\":{\"type\":\"Point\",\"coordinates\":[14.431,35.886]}},{\"type\":\"Feature\",\"properties\":{\"id\":\"NL\",\"na\":\"NEDERLAND\",\"ar\":\"37380411293\"},\"geometry\":{\"type\":\"Point\",\"coordinates\":[5.646,52.293]}},{\"type\":\"Feature\",\"properties\":{\"id\":\"NO\",\"na\":\"NORGE\",\"ar\":\"323337377165\"},\"geometry\":{\"type\":\"Point\",\"coordinates\":[9.298,61.388]}},{\"type\":\"Feature\",\"properties\":{\"id\":\"PL\",\"na\":\"POLSKA\",\"ar\":\"311940525907\"},\"geometry\":{\"type\":\"Point\",\"coordinates\":[19.407,52.131]}},{\"type\":\"Feature\",\"properties\":{\"id\":\"PT\",\"na\":\"PORTUGAL\",\"ar\":\"91909150969\"},\"geometry\":{\"type\":\"Point\",\"coordinates\":[-7.97,39.687]}},{\"type\":\"Feature\",\"properties\":{\"id\":\"RO\",\"na\":\"ROM\\u00c2NIA\",\"ar\":\"238368617959\"},\"geometry\":{\"type\":\"Point\",\"coordinates\":[24.978,45.836]}},{\"type\":\"Feature\",\"properties\":{\"id\":\"RS\",\"na\":\"REPUBLIKA SRBIJA /\\u0420\\u0415\\u041f\\u0423\\u0411\\u041b\\u0418\\u041a\\u0410 \\u0421\\u0420\\u0411\\u0418\\u0408\\u0410\",\"ar\":\"77487750334\"},\"geometry\":{\"type\":\"Point\",\"coordinates\":[20.797,44.236]}},{\"type\":\"Feature\",\"properties\":{\"id\":\"SE\",\"na\":\"SVERIGE\",\"ar\":\"449655124316\"},\"geometry\":{\"type\":\"Point\",\"coordinates\":[14.444,60.642]}},{\"type\":\"Feature\",\"properties\":{\"id\":\"SI\",\"na\":\"SLOVENIJA\",\"ar\":\"20271712958\"},\"geometry\":{\"type\":\"Point\",\"coordinates\":[14.817,46.128]}},{\"type\":\"Feature\",\"properties\":{\"id\":\"SK\",\"na\":\"SLOVENSKO\",\"ar\":\"49023912056\"},\"geometry\":{\"type\":\"Point\",\"coordinates\":[19.474,48.704]}},{\"type\":\"Feature\",\"properties\":{\"id\":\"TR\",\"na\":\"T\\u00dcRKIYE\",\"ar\":\"780375435940\"},\"geometry\":{\"type\":\"Point\",\"coordinates\":[35.471,38.992]}},{\"type\":\"Feature\",\"properties\":{\"id\":\"UK\",\"na\":\"UNITED KINGDOM\",\"ar\":\"244545006004\"},\"geometry\":{\"type\":\"Point\",\"coordinates\":[-2.109,53.279]}}],\"hovertemplate\":\"TIME_PERIOD=2004<br>geo=%{location}<br>OBS_VALUE=%{z}<extra></extra>\",\"locationmode\":\"country names\",\"locations\":[\"AT\",\"BE\",\"BG\",\"CZ\",\"DE\",\"DK\",\"EA\",\"EA19\",\"EE\",\"EL\",\"ES\",\"EU27_2020\",\"EU28\",\"FI\",\"FR\",\"HR\",\"HU\",\"IE\",\"IS\",\"IT\",\"LT\",\"LU\",\"LV\",\"MT\",\"NL\",\"PL\",\"PT\",\"RO\",\"SE\",\"SI\",\"SK\",\"UK\",\"AT\",\"BE\",\"BG\",\"CZ\",\"DE\",\"DK\",\"EA\",\"EA19\",\"EE\",\"EL\",\"ES\",\"EU27_2020\",\"EU28\",\"FI\",\"FR\",\"HR\",\"HU\",\"IE\",\"IS\",\"IT\",\"LT\",\"LU\",\"LV\",\"MT\",\"NL\",\"PL\",\"PT\",\"RO\",\"SE\",\"SI\",\"SK\",\"UK\",\"AT\",\"BE\",\"BG\",\"CZ\",\"DE\",\"DK\",\"EA19\",\"EE\",\"EL\",\"ES\",\"EU27_2020\",\"EU28\",\"FI\",\"FR\",\"HR\",\"HU\",\"IE\",\"IS\",\"IT\",\"LT\",\"LU\",\"LV\",\"MT\",\"NL\",\"PL\",\"PT\",\"RO\",\"SE\",\"SI\",\"SK\",\"UK\",\"AT\",\"BE\",\"BG\",\"CZ\",\"DE\",\"DK\",\"EA19\",\"EE\",\"EL\",\"ES\",\"EU27_2020\",\"EU28\",\"FI\",\"FR\",\"HR\",\"HU\",\"IE\",\"IS\",\"IT\",\"LT\",\"LU\",\"LV\",\"MT\",\"NL\",\"PL\",\"PT\",\"RO\",\"SE\",\"SI\",\"SK\",\"UK\"],\"name\":\"\",\"z\":[19.3,17.1,0.9,3.9,17.0,26.4,14.7,13.9,3.4,9.3,10.2,12.1,13.0,17.8,17.4,5.4,3.1,22.4,24.8,14.2,2.2,15.9,1.8,6.8,21.2,3.1,6.5,1.1,18.7,7.5,2.9,18.9,5.3,11.8,0.3,1.5,4.2,2.3,5.1,5.3,1.2,3.9,4.0,4.5,4.3,4.8,7.3,1.0,1.3,3.7,4.1,6.3,0.9,3.0,0.5,0.6,6.3,0.8,1.7,0.4,8.7,1.7,0.9,3.6,24.6,28.9,1.3,5.4,21.2,28.7,19.2,4.6,13.1,14.2,16.5,17.3,22.7,24.7,6.3,4.4,26.0,28.8,20.5,3.0,19.0,2.3,7.5,27.5,3.9,8.2,1.5,27.4,9.2,3.8,22.5,21.7,40.9,27.2,28.0,19.7,7.9,27.5,26.6,29.6,28.1,27.0,25.1,21.4,29.5,15.2,28.8,14.1,14.1,30.8,28.9,16.1,21.3,8.6,22.9,19.6,20.7,25.6,31.8,18.2,24.8,16.0],\"type\":\"choropleth\"}],\"name\":\"2004\"},{\"data\":[{\"coloraxis\":\"coloraxis\",\"featureidkey\":\"properties.id\",\"geo\":\"geo\",\"geojson\":[{\"type\":\"Feature\",\"properties\":{\"id\":\"AL\",\"na\":\"SHQIP\\u00cbRIA\",\"ar\":\"28799674148\"},\"geometry\":{\"type\":\"Point\",\"coordinates\":[20.071,41.139]}},{\"type\":\"Feature\",\"properties\":{\"id\":\"AT\",\"na\":\"\\u00d6STERREICH\",\"ar\":\"83944908792\"},\"geometry\":{\"type\":\"Point\",\"coordinates\":[14.137,47.585]}},{\"type\":\"Feature\",\"properties\":{\"id\":\"BE\",\"na\":\"BELGIQUE-BELGI\\u00cb\",\"ar\":\"30666252645\"},\"geometry\":{\"type\":\"Point\",\"coordinates\":[4.659,50.643]}},{\"type\":\"Feature\",\"properties\":{\"id\":\"BG\",\"na\":\"BULGARIA\",\"ar\":\"110994229783\"},\"geometry\":{\"type\":\"Point\",\"coordinates\":[25.235,42.755]}},{\"type\":\"Feature\",\"properties\":{\"id\":\"CH\",\"na\":\"SCHWEIZ/SUISSE/SVIZZERA\",\"ar\":\"41286389372\"},\"geometry\":{\"type\":\"Point\",\"coordinates\":[8.213,46.955]}},{\"type\":\"Feature\",\"properties\":{\"id\":\"CY\",\"na\":\"KYPROS\",\"ar\":\"9256703982\"},\"geometry\":{\"type\":\"Point\",\"coordinates\":[33.174,35.028]}},{\"type\":\"Feature\",\"properties\":{\"id\":\"CZ\",\"na\":\"\\u010cESK\\u00c1 REPUBLIKA\",\"ar\":\"78873251270\"},\"geometry\":{\"type\":\"Point\",\"coordinates\":[15.328,49.738]}},{\"type\":\"Feature\",\"properties\":{\"id\":\"DE\",\"na\":\"DEUTSCHLAND\",\"ar\":\"357661390415\"},\"geometry\":{\"type\":\"Point\",\"coordinates\":[10.379,51.074]}},{\"type\":\"Feature\",\"properties\":{\"id\":\"DK\",\"na\":\"DANMARK\",\"ar\":\"43171428497\"},\"geometry\":{\"type\":\"Point\",\"coordinates\":[9.319,56.027]}},{\"type\":\"Feature\",\"properties\":{\"id\":\"EE\",\"na\":\"EESTI\",\"ar\":\"45344926455\"},\"geometry\":{\"type\":\"Point\",\"coordinates\":[25.855,58.671]}},{\"type\":\"Feature\",\"properties\":{\"id\":\"EL\",\"na\":\"ELLADA\",\"ar\":\"131759420072\"},\"geometry\":{\"type\":\"Point\",\"coordinates\":[22.54,39.498]}},{\"type\":\"Feature\",\"properties\":{\"id\":\"ES\",\"na\":\"ESPA\\u00d1A\",\"ar\":\"506004058602\"},\"geometry\":{\"type\":\"Point\",\"coordinates\":[-3.552,40.382]}},{\"type\":\"Feature\",\"properties\":{\"id\":\"FI\",\"na\":\"SUOMI / FINLAND\",\"ar\":\"337522470861\"},\"geometry\":{\"type\":\"Point\",\"coordinates\":[26.279,64.497]}},{\"type\":\"Feature\",\"properties\":{\"id\":\"FR\",\"na\":\"FRANCE\",\"ar\":\"638364847019\"},\"geometry\":{\"type\":\"Point\",\"coordinates\":[2.506,46.618]}},{\"type\":\"Feature\",\"properties\":{\"id\":\"HR\",\"na\":\"HRVATSKA\",\"ar\":\"56516296161\"},\"geometry\":{\"type\":\"Point\",\"coordinates\":[16.489,43.756]}},{\"type\":\"Feature\",\"properties\":{\"id\":\"HU\",\"na\":\"MAGYARORSZ\\u00c1G\",\"ar\":\"93009125408\"},\"geometry\":{\"type\":\"Point\",\"coordinates\":[19.407,47.162]}},{\"type\":\"Feature\",\"properties\":{\"id\":\"IE\",\"na\":\"IRELAND\",\"ar\":\"69940293930\"},\"geometry\":{\"type\":\"Point\",\"coordinates\":[-8.09,53.179]}},{\"type\":\"Feature\",\"properties\":{\"id\":\"IS\",\"na\":\"\\u00cdSLAND\",\"ar\":\"102696958004\"},\"geometry\":{\"type\":\"Point\",\"coordinates\":[-18.857,64.756]}},{\"type\":\"Feature\",\"properties\":{\"id\":\"IT\",\"na\":\"ITALIA\",\"ar\":\"300650239153\"},\"geometry\":{\"type\":\"Point\",\"coordinates\":[12.532,42.837]}},{\"type\":\"Feature\",\"properties\":{\"id\":\"LI\",\"na\":\"LIECHTENSTEIN\",\"ar\":\"160027035\"},\"geometry\":{\"type\":\"Point\",\"coordinates\":[9.553,47.138]}},{\"type\":\"Feature\",\"properties\":{\"id\":\"LT\",\"na\":\"LIETUVA\",\"ar\":\"64896830575\"},\"geometry\":{\"type\":\"Point\",\"coordinates\":[23.92,55.335]}},{\"type\":\"Feature\",\"properties\":{\"id\":\"LU\",\"na\":\"LUXEMBOURG\",\"ar\":\"2595980536\"},\"geometry\":{\"type\":\"Point\",\"coordinates\":[6.094,49.771]}},{\"type\":\"Feature\",\"properties\":{\"id\":\"LV\",\"na\":\"LATVIJA\",\"ar\":\"64586856302\"},\"geometry\":{\"type\":\"Point\",\"coordinates\":[26.382,56.683]}},{\"type\":\"Feature\",\"properties\":{\"id\":\"ME\",\"na\":\"CRNA GORA\",\"ar\":\"13881667823\"},\"geometry\":{\"type\":\"Point\",\"coordinates\":[19.269,42.772]}},{\"type\":\"Feature\",\"properties\":{\"id\":\"MK\",\"na\":\"North Macedonia\",\"ar\":\"25433732311\"},\"geometry\":{\"type\":\"Point\",\"coordinates\":[21.697,41.598]}},{\"type\":\"Feature\",\"properties\":{\"id\":\"MT\",\"na\":\"MALTA\",\"ar\":\"313896740\"},\"geometry\":{\"type\":\"Point\",\"coordinates\":[14.431,35.886]}},{\"type\":\"Feature\",\"properties\":{\"id\":\"NL\",\"na\":\"NEDERLAND\",\"ar\":\"37380411293\"},\"geometry\":{\"type\":\"Point\",\"coordinates\":[5.646,52.293]}},{\"type\":\"Feature\",\"properties\":{\"id\":\"NO\",\"na\":\"NORGE\",\"ar\":\"323337377165\"},\"geometry\":{\"type\":\"Point\",\"coordinates\":[9.298,61.388]}},{\"type\":\"Feature\",\"properties\":{\"id\":\"PL\",\"na\":\"POLSKA\",\"ar\":\"311940525907\"},\"geometry\":{\"type\":\"Point\",\"coordinates\":[19.407,52.131]}},{\"type\":\"Feature\",\"properties\":{\"id\":\"PT\",\"na\":\"PORTUGAL\",\"ar\":\"91909150969\"},\"geometry\":{\"type\":\"Point\",\"coordinates\":[-7.97,39.687]}},{\"type\":\"Feature\",\"properties\":{\"id\":\"RO\",\"na\":\"ROM\\u00c2NIA\",\"ar\":\"238368617959\"},\"geometry\":{\"type\":\"Point\",\"coordinates\":[24.978,45.836]}},{\"type\":\"Feature\",\"properties\":{\"id\":\"RS\",\"na\":\"REPUBLIKA SRBIJA /\\u0420\\u0415\\u041f\\u0423\\u0411\\u041b\\u0418\\u041a\\u0410 \\u0421\\u0420\\u0411\\u0418\\u0408\\u0410\",\"ar\":\"77487750334\"},\"geometry\":{\"type\":\"Point\",\"coordinates\":[20.797,44.236]}},{\"type\":\"Feature\",\"properties\":{\"id\":\"SE\",\"na\":\"SVERIGE\",\"ar\":\"449655124316\"},\"geometry\":{\"type\":\"Point\",\"coordinates\":[14.444,60.642]}},{\"type\":\"Feature\",\"properties\":{\"id\":\"SI\",\"na\":\"SLOVENIJA\",\"ar\":\"20271712958\"},\"geometry\":{\"type\":\"Point\",\"coordinates\":[14.817,46.128]}},{\"type\":\"Feature\",\"properties\":{\"id\":\"SK\",\"na\":\"SLOVENSKO\",\"ar\":\"49023912056\"},\"geometry\":{\"type\":\"Point\",\"coordinates\":[19.474,48.704]}},{\"type\":\"Feature\",\"properties\":{\"id\":\"TR\",\"na\":\"T\\u00dcRKIYE\",\"ar\":\"780375435940\"},\"geometry\":{\"type\":\"Point\",\"coordinates\":[35.471,38.992]}},{\"type\":\"Feature\",\"properties\":{\"id\":\"UK\",\"na\":\"UNITED KINGDOM\",\"ar\":\"244545006004\"},\"geometry\":{\"type\":\"Point\",\"coordinates\":[-2.109,53.279]}}],\"hovertemplate\":\"TIME_PERIOD=2008<br>geo=%{location}<br>OBS_VALUE=%{z}<extra></extra>\",\"locationmode\":\"country names\",\"locations\":[\"AT\",\"BE\",\"BG\",\"CZ\",\"DE\",\"DK\",\"EA\",\"EA19\",\"EE\",\"EL\",\"ES\",\"EU15\",\"EU27_2020\",\"EU28\",\"FI\",\"FR\",\"HR\",\"HU\",\"IE\",\"IS\",\"IT\",\"LT\",\"LU\",\"LV\",\"MT\",\"NL\",\"PL\",\"PT\",\"RO\",\"SE\",\"SI\",\"SK\",\"UK\",\"AT\",\"BE\",\"BG\",\"CZ\",\"DE\",\"DK\",\"EA\",\"EA19\",\"EE\",\"EL\",\"ES\",\"EU15\",\"EU27_2020\",\"EU28\",\"FI\",\"FR\",\"HR\",\"HU\",\"IE\",\"IS\",\"IT\",\"LT\",\"LU\",\"LV\",\"MT\",\"NL\",\"PL\",\"PT\",\"RO\",\"SE\",\"SI\",\"SK\",\"UK\",\"AT\",\"BE\",\"BG\",\"CZ\",\"DE\",\"DK\",\"EA19\",\"EE\",\"EL\",\"ES\",\"EU15\",\"EU27_2020\",\"EU28\",\"FI\",\"FR\",\"HR\",\"HU\",\"IE\",\"IS\",\"IT\",\"LT\",\"LU\",\"LV\",\"MT\",\"NL\",\"PL\",\"PT\",\"RO\",\"SE\",\"SI\",\"SK\",\"UK\",\"AT\",\"BE\",\"BG\",\"CZ\",\"DE\",\"DK\",\"EA19\",\"EE\",\"EL\",\"ES\",\"EU15\",\"EU27_2020\",\"EU28\",\"FI\",\"FR\",\"HR\",\"HU\",\"IE\",\"IS\",\"IT\",\"LT\",\"LU\",\"LV\",\"MT\",\"NL\",\"PL\",\"PT\",\"RO\",\"SE\",\"SI\",\"SK\",\"UK\"],\"name\":\"\",\"z\":[19.3,18.0,1.7,6.4,17.7,29.3,16.6,15.6,6.6,11.7,12.7,17.6,13.6,14.4,22.1,19.6,6.8,4.5,23.4,18.2,15.3,4.7,18.9,4.4,7.7,23.3,5.9,7.6,2.7,21.5,9.5,5.1,21.4,7.2,10.6,0.4,2.3,5.0,3.9,5.6,5.7,2.4,3.8,5.2,5.7,4.8,4.6,6.3,8.4,1.2,1.7,4.3,3.3,6.6,1.9,3.1,1.2,0.8,7.0,1.2,2.0,0.8,9.7,1.8,1.6,3.4,26.5,28.6,2.0,8.7,22.7,33.2,21.4,9.0,15.6,17.9,23.3,18.4,19.1,28.3,28.0,8.0,6.2,27.7,21.6,22.0,6.6,22.0,5.6,8.5,30.3,7.1,9.7,3.5,31.2,11.2,6.7,24.8,27.3,37.1,18.0,26.6,22.0,11.8,26.8,26.1,24.5,29.0,24.6,26.1,24.3,22.1,30.0,14.5,27.8,15.5,15.5,30.2,28.8,14.3,21.2,9.5,23.2,17.3,21.1,22.3,31.0,15.6,24.4,13.7],\"type\":\"choropleth\"}],\"name\":\"2008\"},{\"data\":[{\"coloraxis\":\"coloraxis\",\"featureidkey\":\"properties.id\",\"geo\":\"geo\",\"geojson\":[{\"type\":\"Feature\",\"properties\":{\"id\":\"AL\",\"na\":\"SHQIP\\u00cbRIA\",\"ar\":\"28799674148\"},\"geometry\":{\"type\":\"Point\",\"coordinates\":[20.071,41.139]}},{\"type\":\"Feature\",\"properties\":{\"id\":\"AT\",\"na\":\"\\u00d6STERREICH\",\"ar\":\"83944908792\"},\"geometry\":{\"type\":\"Point\",\"coordinates\":[14.137,47.585]}},{\"type\":\"Feature\",\"properties\":{\"id\":\"BE\",\"na\":\"BELGIQUE-BELGI\\u00cb\",\"ar\":\"30666252645\"},\"geometry\":{\"type\":\"Point\",\"coordinates\":[4.659,50.643]}},{\"type\":\"Feature\",\"properties\":{\"id\":\"BG\",\"na\":\"BULGARIA\",\"ar\":\"110994229783\"},\"geometry\":{\"type\":\"Point\",\"coordinates\":[25.235,42.755]}},{\"type\":\"Feature\",\"properties\":{\"id\":\"CH\",\"na\":\"SCHWEIZ/SUISSE/SVIZZERA\",\"ar\":\"41286389372\"},\"geometry\":{\"type\":\"Point\",\"coordinates\":[8.213,46.955]}},{\"type\":\"Feature\",\"properties\":{\"id\":\"CY\",\"na\":\"KYPROS\",\"ar\":\"9256703982\"},\"geometry\":{\"type\":\"Point\",\"coordinates\":[33.174,35.028]}},{\"type\":\"Feature\",\"properties\":{\"id\":\"CZ\",\"na\":\"\\u010cESK\\u00c1 REPUBLIKA\",\"ar\":\"78873251270\"},\"geometry\":{\"type\":\"Point\",\"coordinates\":[15.328,49.738]}},{\"type\":\"Feature\",\"properties\":{\"id\":\"DE\",\"na\":\"DEUTSCHLAND\",\"ar\":\"357661390415\"},\"geometry\":{\"type\":\"Point\",\"coordinates\":[10.379,51.074]}},{\"type\":\"Feature\",\"properties\":{\"id\":\"DK\",\"na\":\"DANMARK\",\"ar\":\"43171428497\"},\"geometry\":{\"type\":\"Point\",\"coordinates\":[9.319,56.027]}},{\"type\":\"Feature\",\"properties\":{\"id\":\"EE\",\"na\":\"EESTI\",\"ar\":\"45344926455\"},\"geometry\":{\"type\":\"Point\",\"coordinates\":[25.855,58.671]}},{\"type\":\"Feature\",\"properties\":{\"id\":\"EL\",\"na\":\"ELLADA\",\"ar\":\"131759420072\"},\"geometry\":{\"type\":\"Point\",\"coordinates\":[22.54,39.498]}},{\"type\":\"Feature\",\"properties\":{\"id\":\"ES\",\"na\":\"ESPA\\u00d1A\",\"ar\":\"506004058602\"},\"geometry\":{\"type\":\"Point\",\"coordinates\":[-3.552,40.382]}},{\"type\":\"Feature\",\"properties\":{\"id\":\"FI\",\"na\":\"SUOMI / FINLAND\",\"ar\":\"337522470861\"},\"geometry\":{\"type\":\"Point\",\"coordinates\":[26.279,64.497]}},{\"type\":\"Feature\",\"properties\":{\"id\":\"FR\",\"na\":\"FRANCE\",\"ar\":\"638364847019\"},\"geometry\":{\"type\":\"Point\",\"coordinates\":[2.506,46.618]}},{\"type\":\"Feature\",\"properties\":{\"id\":\"HR\",\"na\":\"HRVATSKA\",\"ar\":\"56516296161\"},\"geometry\":{\"type\":\"Point\",\"coordinates\":[16.489,43.756]}},{\"type\":\"Feature\",\"properties\":{\"id\":\"HU\",\"na\":\"MAGYARORSZ\\u00c1G\",\"ar\":\"93009125408\"},\"geometry\":{\"type\":\"Point\",\"coordinates\":[19.407,47.162]}},{\"type\":\"Feature\",\"properties\":{\"id\":\"IE\",\"na\":\"IRELAND\",\"ar\":\"69940293930\"},\"geometry\":{\"type\":\"Point\",\"coordinates\":[-8.09,53.179]}},{\"type\":\"Feature\",\"properties\":{\"id\":\"IS\",\"na\":\"\\u00cdSLAND\",\"ar\":\"102696958004\"},\"geometry\":{\"type\":\"Point\",\"coordinates\":[-18.857,64.756]}},{\"type\":\"Feature\",\"properties\":{\"id\":\"IT\",\"na\":\"ITALIA\",\"ar\":\"300650239153\"},\"geometry\":{\"type\":\"Point\",\"coordinates\":[12.532,42.837]}},{\"type\":\"Feature\",\"properties\":{\"id\":\"LI\",\"na\":\"LIECHTENSTEIN\",\"ar\":\"160027035\"},\"geometry\":{\"type\":\"Point\",\"coordinates\":[9.553,47.138]}},{\"type\":\"Feature\",\"properties\":{\"id\":\"LT\",\"na\":\"LIETUVA\",\"ar\":\"64896830575\"},\"geometry\":{\"type\":\"Point\",\"coordinates\":[23.92,55.335]}},{\"type\":\"Feature\",\"properties\":{\"id\":\"LU\",\"na\":\"LUXEMBOURG\",\"ar\":\"2595980536\"},\"geometry\":{\"type\":\"Point\",\"coordinates\":[6.094,49.771]}},{\"type\":\"Feature\",\"properties\":{\"id\":\"LV\",\"na\":\"LATVIJA\",\"ar\":\"64586856302\"},\"geometry\":{\"type\":\"Point\",\"coordinates\":[26.382,56.683]}},{\"type\":\"Feature\",\"properties\":{\"id\":\"ME\",\"na\":\"CRNA GORA\",\"ar\":\"13881667823\"},\"geometry\":{\"type\":\"Point\",\"coordinates\":[19.269,42.772]}},{\"type\":\"Feature\",\"properties\":{\"id\":\"MK\",\"na\":\"North Macedonia\",\"ar\":\"25433732311\"},\"geometry\":{\"type\":\"Point\",\"coordinates\":[21.697,41.598]}},{\"type\":\"Feature\",\"properties\":{\"id\":\"MT\",\"na\":\"MALTA\",\"ar\":\"313896740\"},\"geometry\":{\"type\":\"Point\",\"coordinates\":[14.431,35.886]}},{\"type\":\"Feature\",\"properties\":{\"id\":\"NL\",\"na\":\"NEDERLAND\",\"ar\":\"37380411293\"},\"geometry\":{\"type\":\"Point\",\"coordinates\":[5.646,52.293]}},{\"type\":\"Feature\",\"properties\":{\"id\":\"NO\",\"na\":\"NORGE\",\"ar\":\"323337377165\"},\"geometry\":{\"type\":\"Point\",\"coordinates\":[9.298,61.388]}},{\"type\":\"Feature\",\"properties\":{\"id\":\"PL\",\"na\":\"POLSKA\",\"ar\":\"311940525907\"},\"geometry\":{\"type\":\"Point\",\"coordinates\":[19.407,52.131]}},{\"type\":\"Feature\",\"properties\":{\"id\":\"PT\",\"na\":\"PORTUGAL\",\"ar\":\"91909150969\"},\"geometry\":{\"type\":\"Point\",\"coordinates\":[-7.97,39.687]}},{\"type\":\"Feature\",\"properties\":{\"id\":\"RO\",\"na\":\"ROM\\u00c2NIA\",\"ar\":\"238368617959\"},\"geometry\":{\"type\":\"Point\",\"coordinates\":[24.978,45.836]}},{\"type\":\"Feature\",\"properties\":{\"id\":\"RS\",\"na\":\"REPUBLIKA SRBIJA /\\u0420\\u0415\\u041f\\u0423\\u0411\\u041b\\u0418\\u041a\\u0410 \\u0421\\u0420\\u0411\\u0418\\u0408\\u0410\",\"ar\":\"77487750334\"},\"geometry\":{\"type\":\"Point\",\"coordinates\":[20.797,44.236]}},{\"type\":\"Feature\",\"properties\":{\"id\":\"SE\",\"na\":\"SVERIGE\",\"ar\":\"449655124316\"},\"geometry\":{\"type\":\"Point\",\"coordinates\":[14.444,60.642]}},{\"type\":\"Feature\",\"properties\":{\"id\":\"SI\",\"na\":\"SLOVENIJA\",\"ar\":\"20271712958\"},\"geometry\":{\"type\":\"Point\",\"coordinates\":[14.817,46.128]}},{\"type\":\"Feature\",\"properties\":{\"id\":\"SK\",\"na\":\"SLOVENSKO\",\"ar\":\"49023912056\"},\"geometry\":{\"type\":\"Point\",\"coordinates\":[19.474,48.704]}},{\"type\":\"Feature\",\"properties\":{\"id\":\"TR\",\"na\":\"T\\u00dcRKIYE\",\"ar\":\"780375435940\"},\"geometry\":{\"type\":\"Point\",\"coordinates\":[35.471,38.992]}},{\"type\":\"Feature\",\"properties\":{\"id\":\"UK\",\"na\":\"UNITED KINGDOM\",\"ar\":\"244545006004\"},\"geometry\":{\"type\":\"Point\",\"coordinates\":[-2.109,53.279]}}],\"hovertemplate\":\"TIME_PERIOD=2020<br>geo=%{location}<br>OBS_VALUE=%{z}<extra></extra>\",\"locationmode\":\"country names\",\"locations\":[\"AT\",\"BE\",\"BG\",\"CY\",\"CZ\",\"DE\",\"DK\",\"EA\",\"EA19\",\"EA20\",\"EE\",\"EL\",\"ES\",\"EU15\",\"EU27_2020\",\"FI\",\"FR\",\"HR\",\"HU\",\"IE\",\"IS\",\"IT\",\"LT\",\"LU\",\"LV\",\"MT\",\"NL\",\"NO\",\"PL\",\"PT\",\"RO\",\"RS\",\"SE\",\"SI\",\"SK\",\"TR\",\"AT\",\"BE\",\"BG\",\"CY\",\"CZ\",\"DE\",\"DK\",\"EA\",\"EA19\",\"EA20\",\"EE\",\"EL\",\"ES\",\"EU15\",\"EU27_2020\",\"FI\",\"FR\",\"HR\",\"HU\",\"IE\",\"IS\",\"IT\",\"LT\",\"LU\",\"LV\",\"MT\",\"NL\",\"NO\",\"PL\",\"PT\",\"RO\",\"RS\",\"SE\",\"SI\",\"SK\",\"TR\",\"AT\",\"BE\",\"BG\",\"CY\",\"CZ\",\"DE\",\"DK\",\"EA19\",\"EA20\",\"EE\",\"EL\",\"ES\",\"EU15\",\"EU27_2020\",\"FI\",\"FR\",\"HR\",\"HU\",\"IE\",\"IS\",\"IT\",\"LT\",\"LU\",\"LV\",\"MT\",\"NL\",\"NO\",\"PL\",\"PT\",\"RO\",\"RS\",\"SE\",\"SI\",\"SK\",\"TR\",\"AT\",\"BE\",\"BG\",\"CY\",\"CZ\",\"DE\",\"DK\",\"EA19\",\"EA20\",\"EE\",\"EL\",\"ES\",\"EU15\",\"EU27_2020\",\"FI\",\"FR\",\"HR\",\"HU\",\"IE\",\"IS\",\"IT\",\"LT\",\"LU\",\"LV\",\"MT\",\"NL\",\"NO\",\"PL\",\"PT\",\"RO\",\"RS\",\"SE\",\"SI\",\"SK\",\"TR\"],\"name\":\"\",\"z\":[24.9,25.2,4.5,12.2,9.4,24.2,37.0,21.5,21.4,21.4,11.0,8.7,14.8,22.6,19.0,28.3,25.2,8.4,6.8,26.1,34.2,16.7,9.0,26.3,8.9,14.2,30.1,34.3,7.8,8.7,6.0,5.5,25.8,14.7,8.6,1.9,11.4,10.8,0.8,2.4,3.4,6.9,4.3,6.9,7.3,7.3,3.7,2.4,5.9,7.7,6.2,6.6,10.1,1.3,1.3,1.5,8.2,7.4,0.3,4.2,2.4,0.7,9.3,6.8,1.6,2.5,0.3,0.7,11.2,2.1,2.8,0.4,36.3,36.0,5.3,14.5,12.8,31.2,41.3,28.7,28.7,14.7,11.1,20.6,30.3,25.3,34.9,35.2,9.7,8.2,27.5,42.4,24.1,9.3,30.4,11.3,14.9,39.4,41.0,9.5,11.3,6.3,6.3,36.9,16.8,11.3,2.2,31.3,30.0,14.2,16.2,26.6,22.2,10.5,25.3,25.3,24.9,22.0,28.5,25.4,24.6,19.0,28.5,13.5,16.3,5.3,19.4,30.7,3.2,13.7,21.0,4.6,23.6,16.5,17.3,22.6,4.7,11.8,30.2,12.6,24.3,16.5],\"type\":\"choropleth\"}],\"name\":\"2020\"},{\"data\":[{\"coloraxis\":\"coloraxis\",\"featureidkey\":\"properties.id\",\"geo\":\"geo\",\"geojson\":[{\"type\":\"Feature\",\"properties\":{\"id\":\"AL\",\"na\":\"SHQIP\\u00cbRIA\",\"ar\":\"28799674148\"},\"geometry\":{\"type\":\"Point\",\"coordinates\":[20.071,41.139]}},{\"type\":\"Feature\",\"properties\":{\"id\":\"AT\",\"na\":\"\\u00d6STERREICH\",\"ar\":\"83944908792\"},\"geometry\":{\"type\":\"Point\",\"coordinates\":[14.137,47.585]}},{\"type\":\"Feature\",\"properties\":{\"id\":\"BE\",\"na\":\"BELGIQUE-BELGI\\u00cb\",\"ar\":\"30666252645\"},\"geometry\":{\"type\":\"Point\",\"coordinates\":[4.659,50.643]}},{\"type\":\"Feature\",\"properties\":{\"id\":\"BG\",\"na\":\"BULGARIA\",\"ar\":\"110994229783\"},\"geometry\":{\"type\":\"Point\",\"coordinates\":[25.235,42.755]}},{\"type\":\"Feature\",\"properties\":{\"id\":\"CH\",\"na\":\"SCHWEIZ/SUISSE/SVIZZERA\",\"ar\":\"41286389372\"},\"geometry\":{\"type\":\"Point\",\"coordinates\":[8.213,46.955]}},{\"type\":\"Feature\",\"properties\":{\"id\":\"CY\",\"na\":\"KYPROS\",\"ar\":\"9256703982\"},\"geometry\":{\"type\":\"Point\",\"coordinates\":[33.174,35.028]}},{\"type\":\"Feature\",\"properties\":{\"id\":\"CZ\",\"na\":\"\\u010cESK\\u00c1 REPUBLIKA\",\"ar\":\"78873251270\"},\"geometry\":{\"type\":\"Point\",\"coordinates\":[15.328,49.738]}},{\"type\":\"Feature\",\"properties\":{\"id\":\"DE\",\"na\":\"DEUTSCHLAND\",\"ar\":\"357661390415\"},\"geometry\":{\"type\":\"Point\",\"coordinates\":[10.379,51.074]}},{\"type\":\"Feature\",\"properties\":{\"id\":\"DK\",\"na\":\"DANMARK\",\"ar\":\"43171428497\"},\"geometry\":{\"type\":\"Point\",\"coordinates\":[9.319,56.027]}},{\"type\":\"Feature\",\"properties\":{\"id\":\"EE\",\"na\":\"EESTI\",\"ar\":\"45344926455\"},\"geometry\":{\"type\":\"Point\",\"coordinates\":[25.855,58.671]}},{\"type\":\"Feature\",\"properties\":{\"id\":\"EL\",\"na\":\"ELLADA\",\"ar\":\"131759420072\"},\"geometry\":{\"type\":\"Point\",\"coordinates\":[22.54,39.498]}},{\"type\":\"Feature\",\"properties\":{\"id\":\"ES\",\"na\":\"ESPA\\u00d1A\",\"ar\":\"506004058602\"},\"geometry\":{\"type\":\"Point\",\"coordinates\":[-3.552,40.382]}},{\"type\":\"Feature\",\"properties\":{\"id\":\"FI\",\"na\":\"SUOMI / FINLAND\",\"ar\":\"337522470861\"},\"geometry\":{\"type\":\"Point\",\"coordinates\":[26.279,64.497]}},{\"type\":\"Feature\",\"properties\":{\"id\":\"FR\",\"na\":\"FRANCE\",\"ar\":\"638364847019\"},\"geometry\":{\"type\":\"Point\",\"coordinates\":[2.506,46.618]}},{\"type\":\"Feature\",\"properties\":{\"id\":\"HR\",\"na\":\"HRVATSKA\",\"ar\":\"56516296161\"},\"geometry\":{\"type\":\"Point\",\"coordinates\":[16.489,43.756]}},{\"type\":\"Feature\",\"properties\":{\"id\":\"HU\",\"na\":\"MAGYARORSZ\\u00c1G\",\"ar\":\"93009125408\"},\"geometry\":{\"type\":\"Point\",\"coordinates\":[19.407,47.162]}},{\"type\":\"Feature\",\"properties\":{\"id\":\"IE\",\"na\":\"IRELAND\",\"ar\":\"69940293930\"},\"geometry\":{\"type\":\"Point\",\"coordinates\":[-8.09,53.179]}},{\"type\":\"Feature\",\"properties\":{\"id\":\"IS\",\"na\":\"\\u00cdSLAND\",\"ar\":\"102696958004\"},\"geometry\":{\"type\":\"Point\",\"coordinates\":[-18.857,64.756]}},{\"type\":\"Feature\",\"properties\":{\"id\":\"IT\",\"na\":\"ITALIA\",\"ar\":\"300650239153\"},\"geometry\":{\"type\":\"Point\",\"coordinates\":[12.532,42.837]}},{\"type\":\"Feature\",\"properties\":{\"id\":\"LI\",\"na\":\"LIECHTENSTEIN\",\"ar\":\"160027035\"},\"geometry\":{\"type\":\"Point\",\"coordinates\":[9.553,47.138]}},{\"type\":\"Feature\",\"properties\":{\"id\":\"LT\",\"na\":\"LIETUVA\",\"ar\":\"64896830575\"},\"geometry\":{\"type\":\"Point\",\"coordinates\":[23.92,55.335]}},{\"type\":\"Feature\",\"properties\":{\"id\":\"LU\",\"na\":\"LUXEMBOURG\",\"ar\":\"2595980536\"},\"geometry\":{\"type\":\"Point\",\"coordinates\":[6.094,49.771]}},{\"type\":\"Feature\",\"properties\":{\"id\":\"LV\",\"na\":\"LATVIJA\",\"ar\":\"64586856302\"},\"geometry\":{\"type\":\"Point\",\"coordinates\":[26.382,56.683]}},{\"type\":\"Feature\",\"properties\":{\"id\":\"ME\",\"na\":\"CRNA GORA\",\"ar\":\"13881667823\"},\"geometry\":{\"type\":\"Point\",\"coordinates\":[19.269,42.772]}},{\"type\":\"Feature\",\"properties\":{\"id\":\"MK\",\"na\":\"North Macedonia\",\"ar\":\"25433732311\"},\"geometry\":{\"type\":\"Point\",\"coordinates\":[21.697,41.598]}},{\"type\":\"Feature\",\"properties\":{\"id\":\"MT\",\"na\":\"MALTA\",\"ar\":\"313896740\"},\"geometry\":{\"type\":\"Point\",\"coordinates\":[14.431,35.886]}},{\"type\":\"Feature\",\"properties\":{\"id\":\"NL\",\"na\":\"NEDERLAND\",\"ar\":\"37380411293\"},\"geometry\":{\"type\":\"Point\",\"coordinates\":[5.646,52.293]}},{\"type\":\"Feature\",\"properties\":{\"id\":\"NO\",\"na\":\"NORGE\",\"ar\":\"323337377165\"},\"geometry\":{\"type\":\"Point\",\"coordinates\":[9.298,61.388]}},{\"type\":\"Feature\",\"properties\":{\"id\":\"PL\",\"na\":\"POLSKA\",\"ar\":\"311940525907\"},\"geometry\":{\"type\":\"Point\",\"coordinates\":[19.407,52.131]}},{\"type\":\"Feature\",\"properties\":{\"id\":\"PT\",\"na\":\"PORTUGAL\",\"ar\":\"91909150969\"},\"geometry\":{\"type\":\"Point\",\"coordinates\":[-7.97,39.687]}},{\"type\":\"Feature\",\"properties\":{\"id\":\"RO\",\"na\":\"ROM\\u00c2NIA\",\"ar\":\"238368617959\"},\"geometry\":{\"type\":\"Point\",\"coordinates\":[24.978,45.836]}},{\"type\":\"Feature\",\"properties\":{\"id\":\"RS\",\"na\":\"REPUBLIKA SRBIJA /\\u0420\\u0415\\u041f\\u0423\\u0411\\u041b\\u0418\\u041a\\u0410 \\u0421\\u0420\\u0411\\u0418\\u0408\\u0410\",\"ar\":\"77487750334\"},\"geometry\":{\"type\":\"Point\",\"coordinates\":[20.797,44.236]}},{\"type\":\"Feature\",\"properties\":{\"id\":\"SE\",\"na\":\"SVERIGE\",\"ar\":\"449655124316\"},\"geometry\":{\"type\":\"Point\",\"coordinates\":[14.444,60.642]}},{\"type\":\"Feature\",\"properties\":{\"id\":\"SI\",\"na\":\"SLOVENIJA\",\"ar\":\"20271712958\"},\"geometry\":{\"type\":\"Point\",\"coordinates\":[14.817,46.128]}},{\"type\":\"Feature\",\"properties\":{\"id\":\"SK\",\"na\":\"SLOVENSKO\",\"ar\":\"49023912056\"},\"geometry\":{\"type\":\"Point\",\"coordinates\":[19.474,48.704]}},{\"type\":\"Feature\",\"properties\":{\"id\":\"TR\",\"na\":\"T\\u00dcRKIYE\",\"ar\":\"780375435940\"},\"geometry\":{\"type\":\"Point\",\"coordinates\":[35.471,38.992]}},{\"type\":\"Feature\",\"properties\":{\"id\":\"UK\",\"na\":\"UNITED KINGDOM\",\"ar\":\"244545006004\"},\"geometry\":{\"type\":\"Point\",\"coordinates\":[-2.109,53.279]}}],\"hovertemplate\":\"TIME_PERIOD=2021<br>geo=%{location}<br>OBS_VALUE=%{z}<extra></extra>\",\"locationmode\":\"country names\",\"locations\":[\"AT\",\"BE\",\"BG\",\"CY\",\"CZ\",\"DE\",\"DK\",\"EA19\",\"EA20\",\"EE\",\"EL\",\"ES\",\"EU27_2020\",\"FI\",\"FR\",\"HR\",\"HU\",\"IE\",\"IS\",\"IT\",\"LT\",\"LU\",\"LV\",\"MT\",\"NL\",\"NO\",\"PL\",\"PT\",\"RO\",\"RS\",\"SE\",\"SI\",\"SK\",\"TR\",\"AT\",\"BE\",\"BG\",\"CY\",\"CZ\",\"DE\",\"DK\",\"EA19\",\"EA20\",\"EE\",\"EL\",\"ES\",\"EU27_2020\",\"FI\",\"FR\",\"HR\",\"HU\",\"IE\",\"IS\",\"IT\",\"LT\",\"LU\",\"LV\",\"MT\",\"NL\",\"NO\",\"PL\",\"PT\",\"RO\",\"RS\",\"SE\",\"SI\",\"SK\",\"TR\",\"AT\",\"BE\",\"BG\",\"CY\",\"CZ\",\"DE\",\"DK\",\"EA19\",\"EA20\",\"EE\",\"EL\",\"ES\",\"EU27_2020\",\"FI\",\"FR\",\"HR\",\"HU\",\"IE\",\"IS\",\"IT\",\"LT\",\"LU\",\"LV\",\"MT\",\"NL\",\"NO\",\"PL\",\"PT\",\"RO\",\"RS\",\"SE\",\"SI\",\"SK\",\"TR\",\"AT\",\"BE\",\"BG\",\"CY\",\"CZ\",\"DE\",\"DK\",\"EA19\",\"EA20\",\"EE\",\"EL\",\"ES\",\"EU27_2020\",\"FI\",\"FR\",\"HR\",\"HU\",\"IE\",\"IS\",\"IT\",\"LT\",\"LU\",\"LV\",\"MT\",\"NL\",\"NO\",\"PL\",\"PT\",\"RO\",\"RS\",\"SE\",\"SI\",\"SK\",\"TR\"],\"name\":\"\",\"z\":[24.9,25.5,5.0,12.7,10.0,25.1,38.6,21.8,21.8,11.7,8.8,14.7,19.4,29.8,25.3,8.7,7.3,27.6,32.8,16.9,10.0,26.7,8.9,14.7,29.5,37.2,8.2,9.3,6.1,5.9,27.1,15.6,9.1,1.7,11.6,10.9,0.8,2.9,3.8,7.3,4.5,7.4,7.4,3.9,2.4,6.0,6.4,6.5,9.9,1.4,1.3,0.6,7.6,7.3,0.5,4.0,2.3,0.7,9.3,7.4,1.7,2.7,0.3,1.3,12.6,2.4,2.9,0.3,36.5,36.4,5.8,15.5,13.7,32.4,43.1,29.2,29.2,15.7,11.2,20.6,25.8,36.4,35.2,10.0,8.6,28.6,40.4,24.1,10.5,30.8,11.2,15.4,38.7,44.6,9.9,12.0,6.4,7.1,39.7,18.0,12.0,2.0,31.7,30.0,13.8,18.4,27.3,22.5,10.5,25.3,25.3,25.1,21.1,28.9,24.6,17.9,28.2,13.5,15.2,2.1,18.8,30.1,5.2,13.1,20.8,4.3,23.9,16.5,17.3,22.8,4.7,18.2,31.7,13.4,23.9,16.7],\"type\":\"choropleth\"}],\"name\":\"2021\"},{\"data\":[{\"coloraxis\":\"coloraxis\",\"featureidkey\":\"properties.id\",\"geo\":\"geo\",\"geojson\":[{\"type\":\"Feature\",\"properties\":{\"id\":\"AL\",\"na\":\"SHQIP\\u00cbRIA\",\"ar\":\"28799674148\"},\"geometry\":{\"type\":\"Point\",\"coordinates\":[20.071,41.139]}},{\"type\":\"Feature\",\"properties\":{\"id\":\"AT\",\"na\":\"\\u00d6STERREICH\",\"ar\":\"83944908792\"},\"geometry\":{\"type\":\"Point\",\"coordinates\":[14.137,47.585]}},{\"type\":\"Feature\",\"properties\":{\"id\":\"BE\",\"na\":\"BELGIQUE-BELGI\\u00cb\",\"ar\":\"30666252645\"},\"geometry\":{\"type\":\"Point\",\"coordinates\":[4.659,50.643]}},{\"type\":\"Feature\",\"properties\":{\"id\":\"BG\",\"na\":\"BULGARIA\",\"ar\":\"110994229783\"},\"geometry\":{\"type\":\"Point\",\"coordinates\":[25.235,42.755]}},{\"type\":\"Feature\",\"properties\":{\"id\":\"CH\",\"na\":\"SCHWEIZ/SUISSE/SVIZZERA\",\"ar\":\"41286389372\"},\"geometry\":{\"type\":\"Point\",\"coordinates\":[8.213,46.955]}},{\"type\":\"Feature\",\"properties\":{\"id\":\"CY\",\"na\":\"KYPROS\",\"ar\":\"9256703982\"},\"geometry\":{\"type\":\"Point\",\"coordinates\":[33.174,35.028]}},{\"type\":\"Feature\",\"properties\":{\"id\":\"CZ\",\"na\":\"\\u010cESK\\u00c1 REPUBLIKA\",\"ar\":\"78873251270\"},\"geometry\":{\"type\":\"Point\",\"coordinates\":[15.328,49.738]}},{\"type\":\"Feature\",\"properties\":{\"id\":\"DE\",\"na\":\"DEUTSCHLAND\",\"ar\":\"357661390415\"},\"geometry\":{\"type\":\"Point\",\"coordinates\":[10.379,51.074]}},{\"type\":\"Feature\",\"properties\":{\"id\":\"DK\",\"na\":\"DANMARK\",\"ar\":\"43171428497\"},\"geometry\":{\"type\":\"Point\",\"coordinates\":[9.319,56.027]}},{\"type\":\"Feature\",\"properties\":{\"id\":\"EE\",\"na\":\"EESTI\",\"ar\":\"45344926455\"},\"geometry\":{\"type\":\"Point\",\"coordinates\":[25.855,58.671]}},{\"type\":\"Feature\",\"properties\":{\"id\":\"EL\",\"na\":\"ELLADA\",\"ar\":\"131759420072\"},\"geometry\":{\"type\":\"Point\",\"coordinates\":[22.54,39.498]}},{\"type\":\"Feature\",\"properties\":{\"id\":\"ES\",\"na\":\"ESPA\\u00d1A\",\"ar\":\"506004058602\"},\"geometry\":{\"type\":\"Point\",\"coordinates\":[-3.552,40.382]}},{\"type\":\"Feature\",\"properties\":{\"id\":\"FI\",\"na\":\"SUOMI / FINLAND\",\"ar\":\"337522470861\"},\"geometry\":{\"type\":\"Point\",\"coordinates\":[26.279,64.497]}},{\"type\":\"Feature\",\"properties\":{\"id\":\"FR\",\"na\":\"FRANCE\",\"ar\":\"638364847019\"},\"geometry\":{\"type\":\"Point\",\"coordinates\":[2.506,46.618]}},{\"type\":\"Feature\",\"properties\":{\"id\":\"HR\",\"na\":\"HRVATSKA\",\"ar\":\"56516296161\"},\"geometry\":{\"type\":\"Point\",\"coordinates\":[16.489,43.756]}},{\"type\":\"Feature\",\"properties\":{\"id\":\"HU\",\"na\":\"MAGYARORSZ\\u00c1G\",\"ar\":\"93009125408\"},\"geometry\":{\"type\":\"Point\",\"coordinates\":[19.407,47.162]}},{\"type\":\"Feature\",\"properties\":{\"id\":\"IE\",\"na\":\"IRELAND\",\"ar\":\"69940293930\"},\"geometry\":{\"type\":\"Point\",\"coordinates\":[-8.09,53.179]}},{\"type\":\"Feature\",\"properties\":{\"id\":\"IS\",\"na\":\"\\u00cdSLAND\",\"ar\":\"102696958004\"},\"geometry\":{\"type\":\"Point\",\"coordinates\":[-18.857,64.756]}},{\"type\":\"Feature\",\"properties\":{\"id\":\"IT\",\"na\":\"ITALIA\",\"ar\":\"300650239153\"},\"geometry\":{\"type\":\"Point\",\"coordinates\":[12.532,42.837]}},{\"type\":\"Feature\",\"properties\":{\"id\":\"LI\",\"na\":\"LIECHTENSTEIN\",\"ar\":\"160027035\"},\"geometry\":{\"type\":\"Point\",\"coordinates\":[9.553,47.138]}},{\"type\":\"Feature\",\"properties\":{\"id\":\"LT\",\"na\":\"LIETUVA\",\"ar\":\"64896830575\"},\"geometry\":{\"type\":\"Point\",\"coordinates\":[23.92,55.335]}},{\"type\":\"Feature\",\"properties\":{\"id\":\"LU\",\"na\":\"LUXEMBOURG\",\"ar\":\"2595980536\"},\"geometry\":{\"type\":\"Point\",\"coordinates\":[6.094,49.771]}},{\"type\":\"Feature\",\"properties\":{\"id\":\"LV\",\"na\":\"LATVIJA\",\"ar\":\"64586856302\"},\"geometry\":{\"type\":\"Point\",\"coordinates\":[26.382,56.683]}},{\"type\":\"Feature\",\"properties\":{\"id\":\"ME\",\"na\":\"CRNA GORA\",\"ar\":\"13881667823\"},\"geometry\":{\"type\":\"Point\",\"coordinates\":[19.269,42.772]}},{\"type\":\"Feature\",\"properties\":{\"id\":\"MK\",\"na\":\"North Macedonia\",\"ar\":\"25433732311\"},\"geometry\":{\"type\":\"Point\",\"coordinates\":[21.697,41.598]}},{\"type\":\"Feature\",\"properties\":{\"id\":\"MT\",\"na\":\"MALTA\",\"ar\":\"313896740\"},\"geometry\":{\"type\":\"Point\",\"coordinates\":[14.431,35.886]}},{\"type\":\"Feature\",\"properties\":{\"id\":\"NL\",\"na\":\"NEDERLAND\",\"ar\":\"37380411293\"},\"geometry\":{\"type\":\"Point\",\"coordinates\":[5.646,52.293]}},{\"type\":\"Feature\",\"properties\":{\"id\":\"NO\",\"na\":\"NORGE\",\"ar\":\"323337377165\"},\"geometry\":{\"type\":\"Point\",\"coordinates\":[9.298,61.388]}},{\"type\":\"Feature\",\"properties\":{\"id\":\"PL\",\"na\":\"POLSKA\",\"ar\":\"311940525907\"},\"geometry\":{\"type\":\"Point\",\"coordinates\":[19.407,52.131]}},{\"type\":\"Feature\",\"properties\":{\"id\":\"PT\",\"na\":\"PORTUGAL\",\"ar\":\"91909150969\"},\"geometry\":{\"type\":\"Point\",\"coordinates\":[-7.97,39.687]}},{\"type\":\"Feature\",\"properties\":{\"id\":\"RO\",\"na\":\"ROM\\u00c2NIA\",\"ar\":\"238368617959\"},\"geometry\":{\"type\":\"Point\",\"coordinates\":[24.978,45.836]}},{\"type\":\"Feature\",\"properties\":{\"id\":\"RS\",\"na\":\"REPUBLIKA SRBIJA /\\u0420\\u0415\\u041f\\u0423\\u0411\\u041b\\u0418\\u041a\\u0410 \\u0421\\u0420\\u0411\\u0418\\u0408\\u0410\",\"ar\":\"77487750334\"},\"geometry\":{\"type\":\"Point\",\"coordinates\":[20.797,44.236]}},{\"type\":\"Feature\",\"properties\":{\"id\":\"SE\",\"na\":\"SVERIGE\",\"ar\":\"449655124316\"},\"geometry\":{\"type\":\"Point\",\"coordinates\":[14.444,60.642]}},{\"type\":\"Feature\",\"properties\":{\"id\":\"SI\",\"na\":\"SLOVENIJA\",\"ar\":\"20271712958\"},\"geometry\":{\"type\":\"Point\",\"coordinates\":[14.817,46.128]}},{\"type\":\"Feature\",\"properties\":{\"id\":\"SK\",\"na\":\"SLOVENSKO\",\"ar\":\"49023912056\"},\"geometry\":{\"type\":\"Point\",\"coordinates\":[19.474,48.704]}},{\"type\":\"Feature\",\"properties\":{\"id\":\"TR\",\"na\":\"T\\u00dcRKIYE\",\"ar\":\"780375435940\"},\"geometry\":{\"type\":\"Point\",\"coordinates\":[35.471,38.992]}},{\"type\":\"Feature\",\"properties\":{\"id\":\"UK\",\"na\":\"UNITED KINGDOM\",\"ar\":\"244545006004\"},\"geometry\":{\"type\":\"Point\",\"coordinates\":[-2.109,53.279]}}],\"hovertemplate\":\"TIME_PERIOD=2022<br>geo=%{location}<br>OBS_VALUE=%{z}<extra></extra>\",\"locationmode\":\"country names\",\"locations\":[\"AT\",\"BE\",\"BG\",\"CY\",\"CZ\",\"DE\",\"DK\",\"EA19\",\"EA20\",\"EE\",\"EL\",\"ES\",\"EU27_2020\",\"FI\",\"FR\",\"HR\",\"HU\",\"IE\",\"IS\",\"IT\",\"LT\",\"LU\",\"LV\",\"MT\",\"NL\",\"NO\",\"PL\",\"PT\",\"RO\",\"RS\",\"SE\",\"SI\",\"SK\",\"TR\",\"AT\",\"BE\",\"BG\",\"CY\",\"CZ\",\"DE\",\"DK\",\"EA19\",\"EA20\",\"EE\",\"EL\",\"ES\",\"EU27_2020\",\"FI\",\"FR\",\"HR\",\"HU\",\"IE\",\"IS\",\"IT\",\"LT\",\"LU\",\"LV\",\"MT\",\"NL\",\"NO\",\"PL\",\"PT\",\"RO\",\"RS\",\"SE\",\"SI\",\"SK\",\"TR\",\"AT\",\"BE\",\"BG\",\"CY\",\"CZ\",\"DE\",\"DK\",\"EA19\",\"EA20\",\"EE\",\"EL\",\"ES\",\"EU27_2020\",\"FI\",\"FR\",\"HR\",\"HU\",\"IE\",\"IS\",\"IT\",\"LT\",\"LU\",\"LV\",\"MT\",\"NL\",\"NO\",\"PL\",\"PT\",\"RO\",\"RS\",\"SE\",\"SI\",\"SK\",\"TR\",\"AT\",\"BE\",\"BG\",\"CY\",\"CZ\",\"DE\",\"DK\",\"EA19\",\"EA20\",\"EE\",\"EL\",\"ES\",\"EU27_2020\",\"FI\",\"FR\",\"HR\",\"HU\",\"IE\",\"IS\",\"IT\",\"LT\",\"LU\",\"LV\",\"MT\",\"NL\",\"NO\",\"PL\",\"PT\",\"RO\",\"RS\",\"SE\",\"SI\",\"SK\",\"TR\"],\"name\":\"\",\"z\":[26.2,27.0,5.6,13.2,11.2,26.7,39.0,22.9,22.9,12.3,9.5,15.4,20.5,30.6,26.2,9.5,7.8,28.7,37.3,17.4,11.0,28.1,9.3,14.9,30.5,38.7,8.8,9.8,6.8,6.8,26.9,16.7,9.9,1.7,12.3,11.5,0.9,3.0,4.2,8.2,4.6,7.9,7.9,4.2,2.7,6.1,6.8,6.8,10.0,1.5,1.2,8.6,8.8,7.5,0.6,4.2,2.5,1.0,10.1,7.7,1.8,2.9,0.3,1.7,12.8,2.6,3.6,0.4,38.5,38.5,6.5,16.1,15.4,34.8,43.7,30.8,30.8,16.5,12.2,21.4,27.3,37.3,36.2,11.0,9.0,35.4,46.1,24.9,11.6,32.4,11.8,15.9,40.6,46.5,10.7,12.7,7.2,8.4,39.7,19.3,13.5,2.1,32.0,30.0,14.0,18.5,27.4,23.5,10.6,25.8,25.8,25.3,22.0,28.3,25.1,18.1,27.7,13.5,13.1,24.3,19.0,30.1,5.0,13.0,21.1,6.0,25.0,16.6,17.3,22.8,4.7,20.8,32.2,13.6,26.9,17.0],\"type\":\"choropleth\"}],\"name\":\"2022\"}]);\n",
       "                        }).then(function(){\n",
       "                            \n",
       "var gd = document.getElementById('832bc007-8ec2-4320-9acb-26c3e31de23a');\n",
       "var x = new MutationObserver(function (mutations, observer) {{\n",
       "        var display = window.getComputedStyle(gd).display;\n",
       "        if (!display || display === 'none') {{\n",
       "            console.log([gd, 'removed!']);\n",
       "            Plotly.purge(gd);\n",
       "            observer.disconnect();\n",
       "        }}\n",
       "}});\n",
       "\n",
       "// Listen for the removal of the full notebook cells\n",
       "var notebookContainer = gd.closest('#notebook-container');\n",
       "if (notebookContainer) {{\n",
       "    x.observe(notebookContainer, {childList: true});\n",
       "}}\n",
       "\n",
       "// Listen for the clearing of the current output cell\n",
       "var outputEl = gd.closest('.output');\n",
       "if (outputEl) {{\n",
       "    x.observe(outputEl, {childList: true});\n",
       "}}\n",
       "\n",
       "                        })                };                });            </script>        </div>"
      ]
     },
     "metadata": {},
     "output_type": "display_data"
    }
   ],
   "source": [
    "fig = px.choropleth(eur_df, \n",
    "                    geojson=eu_geojson['features'], # root element in json\n",
    "                    featureidkey='properties.id', # path to ID values\n",
    "                    locations='geo', \n",
    "                    locationmode='country names', \n",
    "                    color='OBS_VALUE', \n",
    "                    animation_frame='TIME_PERIOD', \n",
    "                    color_continuous_scale=px.colors.sequential.Plasma, \n",
    "                    range_color=[eur_df['OBS_VALUE'].min(), eur_df['OBS_VALUE'].max()],\n",
    "                    scope='europe'\n",
    "                   )\n",
    "fig.show()"
   ]
  },
  {
   "cell_type": "code",
   "execution_count": 133,
   "id": "832780eb",
   "metadata": {},
   "outputs": [
    {
     "name": "stdout",
     "output_type": "stream",
     "text": [
      "Collecting country_converter\n",
      "  Downloading country_converter-1.0.0-py3-none-any.whl (44 kB)\n",
      "Requirement already satisfied: pandas>=1.0 in c:\\users\\vmartucci\\anaconda3\\lib\\site-packages (from country_converter) (1.3.4)\n",
      "Requirement already satisfied: numpy>=1.17.3 in c:\\users\\vmartucci\\anaconda3\\lib\\site-packages (from pandas>=1.0->country_converter) (1.22.4)\n",
      "Requirement already satisfied: python-dateutil>=2.7.3 in c:\\users\\vmartucci\\anaconda3\\lib\\site-packages (from pandas>=1.0->country_converter) (2.8.2)\n",
      "Requirement already satisfied: pytz>=2017.3 in c:\\users\\vmartucci\\anaconda3\\lib\\site-packages (from pandas>=1.0->country_converter) (2021.3)\n",
      "Requirement already satisfied: six>=1.5 in c:\\users\\vmartucci\\anaconda3\\lib\\site-packages (from python-dateutil>=2.7.3->pandas>=1.0->country_converter) (1.16.0)\n",
      "Installing collected packages: country-converter\n",
      "Successfully installed country-converter-1.0.0\n"
     ]
    }
   ],
   "source": [
    "## convert countries in df \n",
    "!pip install country_converter --upgrade\n",
    "import country_converter as coco"
   ]
  },
  {
   "cell_type": "code",
   "execution_count": 134,
   "id": "003a85d5",
   "metadata": {},
   "outputs": [
    {
     "name": "stderr",
     "output_type": "stream",
     "text": [
      "EA not found in ISO2\n",
      "EA not found in ISO2\n",
      "EA not found in ISO2\n",
      "EA not found in ISO2\n",
      "EA not found in ISO2\n",
      "EA not found in ISO2\n",
      "EA19 not found in regex\n",
      "EA19 not found in regex\n",
      "EA19 not found in regex\n",
      "EA19 not found in regex\n",
      "EA19 not found in regex\n",
      "EA19 not found in regex\n",
      "EA19 not found in regex\n",
      "EA20 not found in regex\n",
      "EA20 not found in regex\n",
      "EA20 not found in regex\n",
      "EL not found in ISO2\n",
      "EL not found in ISO2\n",
      "EL not found in ISO2\n",
      "EL not found in ISO2\n",
      "EL not found in ISO2\n",
      "EL not found in ISO2\n",
      "EL not found in ISO2\n",
      "EL not found in ISO2\n",
      "EU15 not found in regex\n",
      "EU15 not found in regex\n",
      "EU15 not found in regex\n",
      "EU15 not found in regex\n",
      "EU15 not found in regex\n",
      "EU27_2020 not found in regex\n",
      "EU27_2020 not found in regex\n",
      "EU27_2020 not found in regex\n",
      "EU27_2020 not found in regex\n",
      "EU27_2020 not found in regex\n",
      "EU27_2020 not found in regex\n",
      "EU27_2020 not found in regex\n",
      "EU28 not found in regex\n",
      "EU28 not found in regex\n",
      "EU28 not found in regex\n",
      "EU28 not found in regex\n",
      "EA not found in ISO2\n",
      "EA not found in ISO2\n",
      "EA not found in ISO2\n",
      "EA not found in ISO2\n",
      "EA not found in ISO2\n",
      "EA not found in ISO2\n",
      "EA19 not found in regex\n",
      "EA19 not found in regex\n",
      "EA19 not found in regex\n",
      "EA19 not found in regex\n",
      "EA19 not found in regex\n",
      "EA19 not found in regex\n",
      "EA19 not found in regex\n",
      "EA20 not found in regex\n",
      "EA20 not found in regex\n",
      "EA20 not found in regex\n",
      "EL not found in ISO2\n",
      "EL not found in ISO2\n",
      "EL not found in ISO2\n",
      "EL not found in ISO2\n",
      "EL not found in ISO2\n",
      "EL not found in ISO2\n",
      "EL not found in ISO2\n",
      "EL not found in ISO2\n",
      "EU15 not found in regex\n",
      "EU15 not found in regex\n",
      "EU15 not found in regex\n",
      "EU15 not found in regex\n",
      "EU15 not found in regex\n",
      "EU27_2020 not found in regex\n",
      "EU27_2020 not found in regex\n",
      "EU27_2020 not found in regex\n",
      "EU27_2020 not found in regex\n",
      "EU27_2020 not found in regex\n",
      "EU27_2020 not found in regex\n",
      "EU27_2020 not found in regex\n",
      "EU28 not found in regex\n",
      "EU28 not found in regex\n",
      "EU28 not found in regex\n",
      "EU28 not found in regex\n",
      "EA not found in ISO2\n",
      "EA19 not found in regex\n",
      "EA19 not found in regex\n",
      "EA19 not found in regex\n",
      "EA19 not found in regex\n",
      "EA19 not found in regex\n",
      "EA19 not found in regex\n",
      "EA19 not found in regex\n",
      "EA20 not found in regex\n",
      "EA20 not found in regex\n",
      "EA20 not found in regex\n",
      "EL not found in ISO2\n",
      "EL not found in ISO2\n",
      "EL not found in ISO2\n",
      "EL not found in ISO2\n",
      "EL not found in ISO2\n",
      "EL not found in ISO2\n",
      "EL not found in ISO2\n",
      "EL not found in ISO2\n",
      "EU15 not found in regex\n",
      "EU15 not found in regex\n",
      "EU15 not found in regex\n",
      "EU15 not found in regex\n",
      "EU15 not found in regex\n",
      "EU27_2020 not found in regex\n",
      "EU27_2020 not found in regex\n",
      "EU27_2020 not found in regex\n",
      "EU27_2020 not found in regex\n",
      "EU27_2020 not found in regex\n",
      "EU27_2020 not found in regex\n",
      "EU27_2020 not found in regex\n",
      "EU28 not found in regex\n",
      "EU28 not found in regex\n",
      "EU28 not found in regex\n",
      "EU28 not found in regex\n",
      "EA not found in ISO2\n",
      "EA19 not found in regex\n",
      "EA19 not found in regex\n",
      "EA19 not found in regex\n",
      "EA19 not found in regex\n",
      "EA19 not found in regex\n",
      "EA19 not found in regex\n",
      "EA19 not found in regex\n",
      "EA20 not found in regex\n",
      "EA20 not found in regex\n",
      "EA20 not found in regex\n",
      "EL not found in ISO2\n",
      "EL not found in ISO2\n",
      "EL not found in ISO2\n",
      "EL not found in ISO2\n",
      "EL not found in ISO2\n",
      "EL not found in ISO2\n",
      "EL not found in ISO2\n",
      "EL not found in ISO2\n",
      "EU15 not found in regex\n",
      "EU15 not found in regex\n",
      "EU15 not found in regex\n",
      "EU15 not found in regex\n",
      "EU15 not found in regex\n",
      "EU27_2020 not found in regex\n",
      "EU27_2020 not found in regex\n",
      "EU27_2020 not found in regex\n",
      "EU27_2020 not found in regex\n",
      "EU27_2020 not found in regex\n",
      "EU27_2020 not found in regex\n",
      "EU27_2020 not found in regex\n",
      "EU28 not found in regex\n",
      "EU28 not found in regex\n",
      "EU28 not found in regex\n",
      "EU28 not found in regex\n",
      "C:\\Users\\VMARTU~1\\AppData\\Local\\Temp/ipykernel_18452/3559489191.py:5: SettingWithCopyWarning:\n",
      "\n",
      "\n",
      "A value is trying to be set on a copy of a slice from a DataFrame.\n",
      "Try using .loc[row_indexer,col_indexer] = value instead\n",
      "\n",
      "See the caveats in the documentation: https://pandas.pydata.org/pandas-docs/stable/user_guide/indexing.html#returning-a-view-versus-a-copy\n",
      "\n"
     ]
    },
    {
     "data": {
      "text/html": [
       "<div>\n",
       "<style scoped>\n",
       "    .dataframe tbody tr th:only-of-type {\n",
       "        vertical-align: middle;\n",
       "    }\n",
       "\n",
       "    .dataframe tbody tr th {\n",
       "        vertical-align: top;\n",
       "    }\n",
       "\n",
       "    .dataframe thead th {\n",
       "        text-align: right;\n",
       "    }\n",
       "</style>\n",
       "<table border=\"1\" class=\"dataframe\">\n",
       "  <thead>\n",
       "    <tr style=\"text-align: right;\">\n",
       "      <th></th>\n",
       "      <th>unit</th>\n",
       "      <th>lcstruct</th>\n",
       "      <th>nace_r2</th>\n",
       "      <th>geo</th>\n",
       "      <th>TIME_PERIOD</th>\n",
       "      <th>OBS_VALUE</th>\n",
       "      <th>iso3</th>\n",
       "    </tr>\n",
       "  </thead>\n",
       "  <tbody>\n",
       "    <tr>\n",
       "      <th>1608</th>\n",
       "      <td>EUR</td>\n",
       "      <td>D11</td>\n",
       "      <td>F</td>\n",
       "      <td>AL</td>\n",
       "      <td>2012</td>\n",
       "      <td>1.6</td>\n",
       "      <td>ALB</td>\n",
       "    </tr>\n",
       "    <tr>\n",
       "      <th>1609</th>\n",
       "      <td>EUR</td>\n",
       "      <td>D11</td>\n",
       "      <td>F</td>\n",
       "      <td>AL</td>\n",
       "      <td>2016</td>\n",
       "      <td>2.0</td>\n",
       "      <td>ALB</td>\n",
       "    </tr>\n",
       "    <tr>\n",
       "      <th>1610</th>\n",
       "      <td>EUR</td>\n",
       "      <td>D11</td>\n",
       "      <td>F</td>\n",
       "      <td>AT</td>\n",
       "      <td>2000</td>\n",
       "      <td>17.1</td>\n",
       "      <td>AUT</td>\n",
       "    </tr>\n",
       "    <tr>\n",
       "      <th>1611</th>\n",
       "      <td>EUR</td>\n",
       "      <td>D11</td>\n",
       "      <td>F</td>\n",
       "      <td>AT</td>\n",
       "      <td>2004</td>\n",
       "      <td>19.3</td>\n",
       "      <td>AUT</td>\n",
       "    </tr>\n",
       "    <tr>\n",
       "      <th>1612</th>\n",
       "      <td>EUR</td>\n",
       "      <td>D11</td>\n",
       "      <td>F</td>\n",
       "      <td>AT</td>\n",
       "      <td>2008</td>\n",
       "      <td>19.3</td>\n",
       "      <td>AUT</td>\n",
       "    </tr>\n",
       "  </tbody>\n",
       "</table>\n",
       "</div>"
      ],
      "text/plain": [
       "     unit lcstruct nace_r2 geo  TIME_PERIOD  OBS_VALUE iso3\n",
       "1608  EUR      D11       F  AL         2012        1.6  ALB\n",
       "1609  EUR      D11       F  AL         2016        2.0  ALB\n",
       "1610  EUR      D11       F  AT         2000       17.1  AUT\n",
       "1611  EUR      D11       F  AT         2004       19.3  AUT\n",
       "1612  EUR      D11       F  AT         2008       19.3  AUT"
      ]
     },
     "execution_count": 134,
     "metadata": {},
     "output_type": "execute_result"
    }
   ],
   "source": [
    "# Convert the two-letter country codes to three-letter ISO codes\n",
    "iso3 = coco.convert(names=eur_df['geo'].tolist(), to='ISO3')\n",
    "\n",
    "# Add the ISO codes as a new column in the DataFrame\n",
    "eur_df['iso3'] = iso3\n",
    "eur_df.head()"
   ]
  },
  {
   "cell_type": "code",
   "execution_count": 135,
   "id": "48bd0a43",
   "metadata": {},
   "outputs": [
    {
     "data": {
      "text/plain": [
       "array(['AL', 'AT', 'BA', 'BE', 'BG', 'CH', 'CY', 'CZ', 'DE', 'DK', 'EA',\n",
       "       'EA19', 'EA20', 'EE', 'EL', 'ES', 'EU15', 'EU27_2020', 'EU28',\n",
       "       'FI', 'FR', 'HR', 'HU', 'IE', 'IS', 'IT', 'LT', 'LU', 'LV', 'ME',\n",
       "       'MK', 'MT', 'NL', 'NO', 'PL', 'PT', 'RO', 'RS', 'SE', 'SI', 'SK',\n",
       "       'TR', 'UK'], dtype=object)"
      ]
     },
     "execution_count": 135,
     "metadata": {},
     "output_type": "execute_result"
    }
   ],
   "source": [
    "eur_df['geo'].unique()"
   ]
  },
  {
   "cell_type": "code",
   "execution_count": 136,
   "id": "dc7291e4",
   "metadata": {},
   "outputs": [
    {
     "data": {
      "text/plain": [
       "array(['ALB', 'AUT', 'BIH', 'BEL', 'BGR', 'CHE', 'CYP', 'CZE', 'DEU',\n",
       "       'DNK', 'not found', 'EST', 'ESP', 'FIN', 'FRA', 'HRV', 'HUN',\n",
       "       'IRL', 'ISL', 'ITA', 'LTU', 'LUX', 'LVA', 'MNE', 'MKD', 'MLT',\n",
       "       'NLD', 'NOR', 'POL', 'PRT', 'ROU', 'SRB', 'SWE', 'SVN', 'SVK',\n",
       "       'TUR', 'GBR'], dtype=object)"
      ]
     },
     "execution_count": 136,
     "metadata": {},
     "output_type": "execute_result"
    }
   ],
   "source": [
    "eur_df['iso3'].unique()"
   ]
  },
  {
   "cell_type": "code",
   "execution_count": 194,
   "id": "6401d513",
   "metadata": {},
   "outputs": [],
   "source": [
    "# drop not found values\n",
    "eur_df = eur_df.loc[eur_df['iso3'] != 'not found']"
   ]
  },
  {
   "cell_type": "code",
   "execution_count": 195,
   "id": "918a0c9d",
   "metadata": {},
   "outputs": [],
   "source": [
    "# preparing different df for plotting\n",
    "wages_salaries = eur_df[eur_df['lcstruct'] =='D11']\n",
    "comp_taxes = eur_df[eur_df['lcstruct'] =='D1_D4_MD5']\n",
    "other_costs = eur_df[eur_df['lcstruct'] =='D12_D4_MD5']\n",
    "\n",
    "# sorting\n",
    "wages_salaries = wages_salaries.sort_values(by='TIME_PERIOD')\n",
    "comp_taxes = comp_taxes.sort_values(by='TIME_PERIOD')\n",
    "other_costs = other_costs.sort_values(by='TIME_PERIOD')"
   ]
  },
  {
   "cell_type": "code",
   "execution_count": 196,
   "id": "0c786f21",
   "metadata": {},
   "outputs": [
    {
     "data": {
      "application/vnd.plotly.v1+json": {
       "config": {
        "plotlyServerURL": "https://plot.ly"
       },
       "data": [
        {
         "coloraxis": "coloraxis",
         "geo": "geo",
         "hovertemplate": "TIME_PERIOD=2000<br>iso3=%{location}<br>OBS_VALUE=%{z}<extra></extra>",
         "locations": [
          "not found",
          "DNK",
          "DEU",
          "FIN",
          "PRT",
          "LVA",
          "CZE",
          "LUX",
          "LTU",
          "EST",
          "SWE",
          "ITA",
          "NLD",
          "BGR",
          "SVN",
          "ISL",
          "not found",
          "FRA",
          "ESP",
          "HUN",
          "not found",
          "SVK",
          "GBR",
          "IRL",
          "AUT",
          "BEL"
         ],
         "name": "",
         "type": "choropleth",
         "z": [
          13,
          23.8,
          16.2,
          16.4,
          5.6,
          1.1,
          2.6,
          14.2,
          1.7,
          2,
          17.5,
          11,
          17.8,
          0.8,
          6.3,
          22.5,
          6.9,
          14.6,
          8.9,
          2,
          14.2,
          2.1,
          18.6,
          13.8,
          17.1,
          14.1
         ]
        }
       ],
       "frames": [
        {
         "data": [
          {
           "coloraxis": "coloraxis",
           "geo": "geo",
           "hovertemplate": "TIME_PERIOD=2000<br>iso3=%{location}<br>OBS_VALUE=%{z}<extra></extra>",
           "locations": [
            "not found",
            "DNK",
            "DEU",
            "FIN",
            "PRT",
            "LVA",
            "CZE",
            "LUX",
            "LTU",
            "EST",
            "SWE",
            "ITA",
            "NLD",
            "BGR",
            "SVN",
            "ISL",
            "not found",
            "FRA",
            "ESP",
            "HUN",
            "not found",
            "SVK",
            "GBR",
            "IRL",
            "AUT",
            "BEL"
           ],
           "name": "",
           "type": "choropleth",
           "z": [
            13,
            23.8,
            16.2,
            16.4,
            5.6,
            1.1,
            2.6,
            14.2,
            1.7,
            2,
            17.5,
            11,
            17.8,
            0.8,
            6.3,
            22.5,
            6.9,
            14.6,
            8.9,
            2,
            14.2,
            2.1,
            18.6,
            13.8,
            17.1,
            14.1
           ]
          }
         ],
         "name": "2000"
        },
        {
         "data": [
          {
           "coloraxis": "coloraxis",
           "geo": "geo",
           "hovertemplate": "TIME_PERIOD=2004<br>iso3=%{location}<br>OBS_VALUE=%{z}<extra></extra>",
           "locations": [
            "DNK",
            "MLT",
            "HRV",
            "not found",
            "FRA",
            "not found",
            "LVA",
            "ESP",
            "not found",
            "LUX",
            "LTU",
            "EST",
            "HUN",
            "ITA",
            "not found",
            "ISL",
            "IRL",
            "not found",
            "NLD",
            "FIN",
            "SVK",
            "GBR",
            "SWE",
            "PRT",
            "CZE",
            "BGR",
            "AUT",
            "SVN",
            "ROU",
            "POL",
            "BEL",
            "DEU"
           ],
           "name": "",
           "type": "choropleth",
           "z": [
            26.4,
            6.8,
            5.4,
            14.7,
            17.4,
            13,
            1.8,
            10.2,
            12.1,
            15.9,
            2.2,
            3.4,
            3.1,
            14.2,
            9.3,
            24.8,
            22.4,
            13.9,
            21.2,
            17.8,
            2.9,
            18.9,
            18.7,
            6.5,
            3.9,
            0.9,
            19.3,
            7.5,
            1.1,
            3.1,
            17.1,
            17
           ]
          }
         ],
         "name": "2004"
        },
        {
         "data": [
          {
           "coloraxis": "coloraxis",
           "geo": "geo",
           "hovertemplate": "TIME_PERIOD=2008<br>iso3=%{location}<br>OBS_VALUE=%{z}<extra></extra>",
           "locations": [
            "not found",
            "not found",
            "BGR",
            "NLD",
            "ESP",
            "IRL",
            "SWE",
            "BEL",
            "ITA",
            "HRV",
            "EST",
            "SVN",
            "ISL",
            "not found",
            "HUN",
            "SVK",
            "DEU",
            "FIN",
            "DNK",
            "MLT",
            "not found",
            "GBR",
            "ROU",
            "AUT",
            "POL",
            "LVA",
            "CZE",
            "not found",
            "FRA",
            "LUX",
            "PRT",
            "not found",
            "LTU"
           ],
           "name": "",
           "type": "choropleth",
           "z": [
            13.6,
            17.6,
            1.7,
            23.3,
            12.7,
            23.4,
            21.5,
            18,
            15.3,
            6.8,
            6.6,
            9.5,
            18.2,
            11.7,
            4.5,
            5.1,
            17.7,
            22.1,
            29.3,
            7.7,
            14.4,
            21.4,
            2.7,
            19.3,
            5.9,
            4.4,
            6.4,
            15.6,
            19.6,
            18.9,
            7.6,
            16.6,
            4.7
           ]
          }
         ],
         "name": "2008"
        },
        {
         "data": [
          {
           "coloraxis": "coloraxis",
           "geo": "geo",
           "hovertemplate": "TIME_PERIOD=2012<br>iso3=%{location}<br>OBS_VALUE=%{z}<extra></extra>",
           "locations": [
            "HRV",
            "SVK",
            "FIN",
            "FRA",
            "TUR",
            "NLD",
            "HUN",
            "MLT",
            "NOR",
            "MKD",
            "MNE",
            "LVA",
            "POL",
            "LUX",
            "PRT",
            "LTU",
            "ROU",
            "SRB",
            "ITA",
            "SWE",
            "IRL",
            "SVN",
            "GBR",
            "ISL",
            "ALB",
            "not found",
            "ESP",
            "EST",
            "CZE",
            "not found",
            "DNK",
            "CHE",
            "BGR",
            "not found",
            "not found",
            "DEU",
            "not found",
            "AUT",
            "BIH",
            "BEL",
            "not found"
           ],
           "name": "",
           "type": "choropleth",
           "z": [
            6.9,
            6.3,
            24.9,
            20.9,
            3.6,
            25.6,
            5,
            8.5,
            40.7,
            2.8,
            3.4,
            4.3,
            5.7,
            21.1,
            9.2,
            3.8,
            2.5,
            3.9,
            16.7,
            26.4,
            23.3,
            10.1,
            21.4,
            20.2,
            1.6,
            16.6,
            14.8,
            7.3,
            6.8,
            20,
            32.1,
            34.9,
            2.5,
            18.4,
            15.8,
            19.6,
            10.2,
            21.1,
            3.4,
            20.3,
            18.4
           ]
          }
         ],
         "name": "2012"
        },
        {
         "data": [
          {
           "coloraxis": "coloraxis",
           "geo": "geo",
           "hovertemplate": "TIME_PERIOD=2016<br>iso3=%{location}<br>OBS_VALUE=%{z}<extra></extra>",
           "locations": [
            "MLT",
            "ITA",
            "LTU",
            "not found",
            "not found",
            "MNE",
            "LVA",
            "DEU",
            "LUX",
            "MKD",
            "not found",
            "POL",
            "NOR",
            "ALB",
            "AUT",
            "TUR",
            "SVK",
            "BIH",
            "SVN",
            "NLD",
            "BEL",
            "BGR",
            "SRB",
            "ROU",
            "CHE",
            "PRT",
            "CZE",
            "SWE",
            "EST",
            "DNK",
            "GBR",
            "HUN",
            "not found",
            "ESP",
            "IRL",
            "FRA",
            "HRV",
            "not found",
            "ISL",
            "not found",
            "FIN"
           ],
           "name": "",
           "type": "choropleth",
           "z": [
            10,
            16.5,
            5,
            19.4,
            19.3,
            3.7,
            6.3,
            20.8,
            22.7,
            3.5,
            17.9,
            6.6,
            34.5,
            2,
            23.3,
            4,
            6.7,
            3.4,
            11.2,
            26.7,
            23.9,
            3.1,
            3.6,
            3.2,
            38.6,
            7.6,
            7,
            25.8,
            8.7,
            34,
            22.7,
            4.8,
            21.1,
            14.6,
            22.8,
            21.9,
            7.1,
            9.5,
            31.5,
            17,
            26.4
           ]
          }
         ],
         "name": "2016"
        },
        {
         "data": [
          {
           "coloraxis": "coloraxis",
           "geo": "geo",
           "hovertemplate": "TIME_PERIOD=2020<br>iso3=%{location}<br>OBS_VALUE=%{z}<extra></extra>",
           "locations": [
            "ISL",
            "IRL",
            "DNK",
            "PRT",
            "SWE",
            "HRV",
            "not found",
            "ITA",
            "MLT",
            "BGR",
            "NOR",
            "SRB",
            "DEU",
            "FIN",
            "HUN",
            "NLD",
            "CYP",
            "EST",
            "ROU",
            "LVA",
            "LTU",
            "SVK",
            "ESP",
            "CZE",
            "not found",
            "not found",
            "not found",
            "BEL",
            "AUT",
            "SVN",
            "not found",
            "not found",
            "TUR",
            "POL",
            "FRA",
            "LUX"
           ],
           "name": "",
           "type": "choropleth",
           "z": [
            34.2,
            26.1,
            37,
            8.7,
            25.8,
            8.4,
            22.6,
            16.7,
            14.2,
            4.5,
            34.3,
            5.5,
            24.2,
            28.3,
            6.8,
            30.1,
            12.2,
            11,
            6,
            8.9,
            9,
            8.6,
            14.8,
            9.4,
            21.4,
            21.4,
            19,
            25.2,
            24.9,
            14.7,
            21.5,
            8.7,
            1.9,
            7.8,
            25.2,
            26.3
           ]
          }
         ],
         "name": "2020"
        },
        {
         "data": [
          {
           "coloraxis": "coloraxis",
           "geo": "geo",
           "hovertemplate": "TIME_PERIOD=2021<br>iso3=%{location}<br>OBS_VALUE=%{z}<extra></extra>",
           "locations": [
            "PRT",
            "HRV",
            "SWE",
            "BGR",
            "SRB",
            "FRA",
            "BEL",
            "SVN",
            "not found",
            "AUT",
            "SVK",
            "TUR",
            "FIN",
            "ROU",
            "CYP",
            "EST",
            "ESP",
            "IRL",
            "LVA",
            "DNK",
            "not found",
            "not found",
            "MLT",
            "LTU",
            "LUX",
            "HUN",
            "not found",
            "DEU",
            "ISL",
            "NOR",
            "POL",
            "CZE",
            "ITA",
            "NLD"
           ],
           "name": "",
           "type": "choropleth",
           "z": [
            9.3,
            8.7,
            27.1,
            5,
            5.9,
            25.3,
            25.5,
            15.6,
            19.4,
            24.9,
            9.1,
            1.7,
            29.8,
            6.1,
            12.7,
            11.7,
            14.7,
            27.6,
            8.9,
            38.6,
            8.8,
            21.8,
            14.7,
            10,
            26.7,
            7.3,
            21.8,
            25.1,
            32.8,
            37.2,
            8.2,
            10,
            16.9,
            29.5
           ]
          }
         ],
         "name": "2021"
        },
        {
         "data": [
          {
           "coloraxis": "coloraxis",
           "geo": "geo",
           "hovertemplate": "TIME_PERIOD=2022<br>iso3=%{location}<br>OBS_VALUE=%{z}<extra></extra>",
           "locations": [
            "FIN",
            "ISL",
            "SVN",
            "EST",
            "AUT",
            "not found",
            "TUR",
            "not found",
            "ITA",
            "SVK",
            "not found",
            "LTU",
            "LUX",
            "ESP",
            "DNK",
            "POL",
            "HRV",
            "PRT",
            "NOR",
            "BGR",
            "CZE",
            "NLD",
            "ROU",
            "HUN",
            "MLT",
            "SRB",
            "DEU",
            "FRA",
            "BEL",
            "not found",
            "CYP",
            "LVA",
            "IRL",
            "SWE"
           ],
           "name": "",
           "type": "choropleth",
           "z": [
            30.6,
            37.3,
            16.7,
            12.3,
            26.2,
            20.5,
            1.7,
            22.9,
            17.4,
            9.9,
            22.9,
            11,
            28.1,
            15.4,
            39,
            8.8,
            9.5,
            9.8,
            38.7,
            5.6,
            11.2,
            30.5,
            6.8,
            7.8,
            14.9,
            6.8,
            26.7,
            26.2,
            27,
            9.5,
            13.2,
            9.3,
            28.7,
            26.9
           ]
          }
         ],
         "name": "2022"
        }
       ],
       "layout": {
        "coloraxis": {
         "cmax": 49.1,
         "cmin": 0,
         "colorbar": {
          "title": {
           "text": "OBS_VALUE"
          }
         },
         "colorscale": [
          [
           0,
           "#0d0887"
          ],
          [
           0.1111111111111111,
           "#46039f"
          ],
          [
           0.2222222222222222,
           "#7201a8"
          ],
          [
           0.3333333333333333,
           "#9c179e"
          ],
          [
           0.4444444444444444,
           "#bd3786"
          ],
          [
           0.5555555555555556,
           "#d8576b"
          ],
          [
           0.6666666666666666,
           "#ed7953"
          ],
          [
           0.7777777777777778,
           "#fb9f3a"
          ],
          [
           0.8888888888888888,
           "#fdca26"
          ],
          [
           1,
           "#f0f921"
          ]
         ]
        },
        "geo": {
         "center": {},
         "domain": {
          "x": [
           0,
           1
          ],
          "y": [
           0,
           1
          ]
         },
         "scope": "europe"
        },
        "height": 600,
        "legend": {
         "tracegroupgap": 0
        },
        "margin": {
         "t": 60
        },
        "sliders": [
         {
          "active": 0,
          "currentvalue": {
           "prefix": "TIME_PERIOD="
          },
          "len": 0.9,
          "pad": {
           "b": 10,
           "t": 60
          },
          "steps": [
           {
            "args": [
             [
              "2000"
             ],
             {
              "frame": {
               "duration": 0,
               "redraw": true
              },
              "fromcurrent": true,
              "mode": "immediate",
              "transition": {
               "duration": 0,
               "easing": "linear"
              }
             }
            ],
            "label": "2000",
            "method": "animate"
           },
           {
            "args": [
             [
              "2004"
             ],
             {
              "frame": {
               "duration": 0,
               "redraw": true
              },
              "fromcurrent": true,
              "mode": "immediate",
              "transition": {
               "duration": 0,
               "easing": "linear"
              }
             }
            ],
            "label": "2004",
            "method": "animate"
           },
           {
            "args": [
             [
              "2008"
             ],
             {
              "frame": {
               "duration": 0,
               "redraw": true
              },
              "fromcurrent": true,
              "mode": "immediate",
              "transition": {
               "duration": 0,
               "easing": "linear"
              }
             }
            ],
            "label": "2008",
            "method": "animate"
           },
           {
            "args": [
             [
              "2012"
             ],
             {
              "frame": {
               "duration": 0,
               "redraw": true
              },
              "fromcurrent": true,
              "mode": "immediate",
              "transition": {
               "duration": 0,
               "easing": "linear"
              }
             }
            ],
            "label": "2012",
            "method": "animate"
           },
           {
            "args": [
             [
              "2016"
             ],
             {
              "frame": {
               "duration": 0,
               "redraw": true
              },
              "fromcurrent": true,
              "mode": "immediate",
              "transition": {
               "duration": 0,
               "easing": "linear"
              }
             }
            ],
            "label": "2016",
            "method": "animate"
           },
           {
            "args": [
             [
              "2020"
             ],
             {
              "frame": {
               "duration": 0,
               "redraw": true
              },
              "fromcurrent": true,
              "mode": "immediate",
              "transition": {
               "duration": 0,
               "easing": "linear"
              }
             }
            ],
            "label": "2020",
            "method": "animate"
           },
           {
            "args": [
             [
              "2021"
             ],
             {
              "frame": {
               "duration": 0,
               "redraw": true
              },
              "fromcurrent": true,
              "mode": "immediate",
              "transition": {
               "duration": 0,
               "easing": "linear"
              }
             }
            ],
            "label": "2021",
            "method": "animate"
           },
           {
            "args": [
             [
              "2022"
             ],
             {
              "frame": {
               "duration": 0,
               "redraw": true
              },
              "fromcurrent": true,
              "mode": "immediate",
              "transition": {
               "duration": 0,
               "easing": "linear"
              }
             }
            ],
            "label": "2022",
            "method": "animate"
           }
          ],
          "x": 0.1,
          "xanchor": "left",
          "y": 0,
          "yanchor": "top"
         }
        ],
        "template": {
         "data": {
          "bar": [
           {
            "error_x": {
             "color": "#2a3f5f"
            },
            "error_y": {
             "color": "#2a3f5f"
            },
            "marker": {
             "line": {
              "color": "#E5ECF6",
              "width": 0.5
             },
             "pattern": {
              "fillmode": "overlay",
              "size": 10,
              "solidity": 0.2
             }
            },
            "type": "bar"
           }
          ],
          "barpolar": [
           {
            "marker": {
             "line": {
              "color": "#E5ECF6",
              "width": 0.5
             },
             "pattern": {
              "fillmode": "overlay",
              "size": 10,
              "solidity": 0.2
             }
            },
            "type": "barpolar"
           }
          ],
          "carpet": [
           {
            "aaxis": {
             "endlinecolor": "#2a3f5f",
             "gridcolor": "white",
             "linecolor": "white",
             "minorgridcolor": "white",
             "startlinecolor": "#2a3f5f"
            },
            "baxis": {
             "endlinecolor": "#2a3f5f",
             "gridcolor": "white",
             "linecolor": "white",
             "minorgridcolor": "white",
             "startlinecolor": "#2a3f5f"
            },
            "type": "carpet"
           }
          ],
          "choropleth": [
           {
            "colorbar": {
             "outlinewidth": 0,
             "ticks": ""
            },
            "type": "choropleth"
           }
          ],
          "contour": [
           {
            "colorbar": {
             "outlinewidth": 0,
             "ticks": ""
            },
            "colorscale": [
             [
              0,
              "#0d0887"
             ],
             [
              0.1111111111111111,
              "#46039f"
             ],
             [
              0.2222222222222222,
              "#7201a8"
             ],
             [
              0.3333333333333333,
              "#9c179e"
             ],
             [
              0.4444444444444444,
              "#bd3786"
             ],
             [
              0.5555555555555556,
              "#d8576b"
             ],
             [
              0.6666666666666666,
              "#ed7953"
             ],
             [
              0.7777777777777778,
              "#fb9f3a"
             ],
             [
              0.8888888888888888,
              "#fdca26"
             ],
             [
              1,
              "#f0f921"
             ]
            ],
            "type": "contour"
           }
          ],
          "contourcarpet": [
           {
            "colorbar": {
             "outlinewidth": 0,
             "ticks": ""
            },
            "type": "contourcarpet"
           }
          ],
          "heatmap": [
           {
            "colorbar": {
             "outlinewidth": 0,
             "ticks": ""
            },
            "colorscale": [
             [
              0,
              "#0d0887"
             ],
             [
              0.1111111111111111,
              "#46039f"
             ],
             [
              0.2222222222222222,
              "#7201a8"
             ],
             [
              0.3333333333333333,
              "#9c179e"
             ],
             [
              0.4444444444444444,
              "#bd3786"
             ],
             [
              0.5555555555555556,
              "#d8576b"
             ],
             [
              0.6666666666666666,
              "#ed7953"
             ],
             [
              0.7777777777777778,
              "#fb9f3a"
             ],
             [
              0.8888888888888888,
              "#fdca26"
             ],
             [
              1,
              "#f0f921"
             ]
            ],
            "type": "heatmap"
           }
          ],
          "heatmapgl": [
           {
            "colorbar": {
             "outlinewidth": 0,
             "ticks": ""
            },
            "colorscale": [
             [
              0,
              "#0d0887"
             ],
             [
              0.1111111111111111,
              "#46039f"
             ],
             [
              0.2222222222222222,
              "#7201a8"
             ],
             [
              0.3333333333333333,
              "#9c179e"
             ],
             [
              0.4444444444444444,
              "#bd3786"
             ],
             [
              0.5555555555555556,
              "#d8576b"
             ],
             [
              0.6666666666666666,
              "#ed7953"
             ],
             [
              0.7777777777777778,
              "#fb9f3a"
             ],
             [
              0.8888888888888888,
              "#fdca26"
             ],
             [
              1,
              "#f0f921"
             ]
            ],
            "type": "heatmapgl"
           }
          ],
          "histogram": [
           {
            "marker": {
             "pattern": {
              "fillmode": "overlay",
              "size": 10,
              "solidity": 0.2
             }
            },
            "type": "histogram"
           }
          ],
          "histogram2d": [
           {
            "colorbar": {
             "outlinewidth": 0,
             "ticks": ""
            },
            "colorscale": [
             [
              0,
              "#0d0887"
             ],
             [
              0.1111111111111111,
              "#46039f"
             ],
             [
              0.2222222222222222,
              "#7201a8"
             ],
             [
              0.3333333333333333,
              "#9c179e"
             ],
             [
              0.4444444444444444,
              "#bd3786"
             ],
             [
              0.5555555555555556,
              "#d8576b"
             ],
             [
              0.6666666666666666,
              "#ed7953"
             ],
             [
              0.7777777777777778,
              "#fb9f3a"
             ],
             [
              0.8888888888888888,
              "#fdca26"
             ],
             [
              1,
              "#f0f921"
             ]
            ],
            "type": "histogram2d"
           }
          ],
          "histogram2dcontour": [
           {
            "colorbar": {
             "outlinewidth": 0,
             "ticks": ""
            },
            "colorscale": [
             [
              0,
              "#0d0887"
             ],
             [
              0.1111111111111111,
              "#46039f"
             ],
             [
              0.2222222222222222,
              "#7201a8"
             ],
             [
              0.3333333333333333,
              "#9c179e"
             ],
             [
              0.4444444444444444,
              "#bd3786"
             ],
             [
              0.5555555555555556,
              "#d8576b"
             ],
             [
              0.6666666666666666,
              "#ed7953"
             ],
             [
              0.7777777777777778,
              "#fb9f3a"
             ],
             [
              0.8888888888888888,
              "#fdca26"
             ],
             [
              1,
              "#f0f921"
             ]
            ],
            "type": "histogram2dcontour"
           }
          ],
          "mesh3d": [
           {
            "colorbar": {
             "outlinewidth": 0,
             "ticks": ""
            },
            "type": "mesh3d"
           }
          ],
          "parcoords": [
           {
            "line": {
             "colorbar": {
              "outlinewidth": 0,
              "ticks": ""
             }
            },
            "type": "parcoords"
           }
          ],
          "pie": [
           {
            "automargin": true,
            "type": "pie"
           }
          ],
          "scatter": [
           {
            "fillpattern": {
             "fillmode": "overlay",
             "size": 10,
             "solidity": 0.2
            },
            "type": "scatter"
           }
          ],
          "scatter3d": [
           {
            "line": {
             "colorbar": {
              "outlinewidth": 0,
              "ticks": ""
             }
            },
            "marker": {
             "colorbar": {
              "outlinewidth": 0,
              "ticks": ""
             }
            },
            "type": "scatter3d"
           }
          ],
          "scattercarpet": [
           {
            "marker": {
             "colorbar": {
              "outlinewidth": 0,
              "ticks": ""
             }
            },
            "type": "scattercarpet"
           }
          ],
          "scattergeo": [
           {
            "marker": {
             "colorbar": {
              "outlinewidth": 0,
              "ticks": ""
             }
            },
            "type": "scattergeo"
           }
          ],
          "scattergl": [
           {
            "marker": {
             "colorbar": {
              "outlinewidth": 0,
              "ticks": ""
             }
            },
            "type": "scattergl"
           }
          ],
          "scattermapbox": [
           {
            "marker": {
             "colorbar": {
              "outlinewidth": 0,
              "ticks": ""
             }
            },
            "type": "scattermapbox"
           }
          ],
          "scatterpolar": [
           {
            "marker": {
             "colorbar": {
              "outlinewidth": 0,
              "ticks": ""
             }
            },
            "type": "scatterpolar"
           }
          ],
          "scatterpolargl": [
           {
            "marker": {
             "colorbar": {
              "outlinewidth": 0,
              "ticks": ""
             }
            },
            "type": "scatterpolargl"
           }
          ],
          "scatterternary": [
           {
            "marker": {
             "colorbar": {
              "outlinewidth": 0,
              "ticks": ""
             }
            },
            "type": "scatterternary"
           }
          ],
          "surface": [
           {
            "colorbar": {
             "outlinewidth": 0,
             "ticks": ""
            },
            "colorscale": [
             [
              0,
              "#0d0887"
             ],
             [
              0.1111111111111111,
              "#46039f"
             ],
             [
              0.2222222222222222,
              "#7201a8"
             ],
             [
              0.3333333333333333,
              "#9c179e"
             ],
             [
              0.4444444444444444,
              "#bd3786"
             ],
             [
              0.5555555555555556,
              "#d8576b"
             ],
             [
              0.6666666666666666,
              "#ed7953"
             ],
             [
              0.7777777777777778,
              "#fb9f3a"
             ],
             [
              0.8888888888888888,
              "#fdca26"
             ],
             [
              1,
              "#f0f921"
             ]
            ],
            "type": "surface"
           }
          ],
          "table": [
           {
            "cells": {
             "fill": {
              "color": "#EBF0F8"
             },
             "line": {
              "color": "white"
             }
            },
            "header": {
             "fill": {
              "color": "#C8D4E3"
             },
             "line": {
              "color": "white"
             }
            },
            "type": "table"
           }
          ]
         },
         "layout": {
          "annotationdefaults": {
           "arrowcolor": "#2a3f5f",
           "arrowhead": 0,
           "arrowwidth": 1
          },
          "autotypenumbers": "strict",
          "coloraxis": {
           "colorbar": {
            "outlinewidth": 0,
            "ticks": ""
           }
          },
          "colorscale": {
           "diverging": [
            [
             0,
             "#8e0152"
            ],
            [
             0.1,
             "#c51b7d"
            ],
            [
             0.2,
             "#de77ae"
            ],
            [
             0.3,
             "#f1b6da"
            ],
            [
             0.4,
             "#fde0ef"
            ],
            [
             0.5,
             "#f7f7f7"
            ],
            [
             0.6,
             "#e6f5d0"
            ],
            [
             0.7,
             "#b8e186"
            ],
            [
             0.8,
             "#7fbc41"
            ],
            [
             0.9,
             "#4d9221"
            ],
            [
             1,
             "#276419"
            ]
           ],
           "sequential": [
            [
             0,
             "#0d0887"
            ],
            [
             0.1111111111111111,
             "#46039f"
            ],
            [
             0.2222222222222222,
             "#7201a8"
            ],
            [
             0.3333333333333333,
             "#9c179e"
            ],
            [
             0.4444444444444444,
             "#bd3786"
            ],
            [
             0.5555555555555556,
             "#d8576b"
            ],
            [
             0.6666666666666666,
             "#ed7953"
            ],
            [
             0.7777777777777778,
             "#fb9f3a"
            ],
            [
             0.8888888888888888,
             "#fdca26"
            ],
            [
             1,
             "#f0f921"
            ]
           ],
           "sequentialminus": [
            [
             0,
             "#0d0887"
            ],
            [
             0.1111111111111111,
             "#46039f"
            ],
            [
             0.2222222222222222,
             "#7201a8"
            ],
            [
             0.3333333333333333,
             "#9c179e"
            ],
            [
             0.4444444444444444,
             "#bd3786"
            ],
            [
             0.5555555555555556,
             "#d8576b"
            ],
            [
             0.6666666666666666,
             "#ed7953"
            ],
            [
             0.7777777777777778,
             "#fb9f3a"
            ],
            [
             0.8888888888888888,
             "#fdca26"
            ],
            [
             1,
             "#f0f921"
            ]
           ]
          },
          "colorway": [
           "#636efa",
           "#EF553B",
           "#00cc96",
           "#ab63fa",
           "#FFA15A",
           "#19d3f3",
           "#FF6692",
           "#B6E880",
           "#FF97FF",
           "#FECB52"
          ],
          "font": {
           "color": "#2a3f5f"
          },
          "geo": {
           "bgcolor": "white",
           "lakecolor": "white",
           "landcolor": "#E5ECF6",
           "showlakes": true,
           "showland": true,
           "subunitcolor": "white"
          },
          "hoverlabel": {
           "align": "left"
          },
          "hovermode": "closest",
          "mapbox": {
           "style": "light"
          },
          "paper_bgcolor": "white",
          "plot_bgcolor": "#E5ECF6",
          "polar": {
           "angularaxis": {
            "gridcolor": "white",
            "linecolor": "white",
            "ticks": ""
           },
           "bgcolor": "#E5ECF6",
           "radialaxis": {
            "gridcolor": "white",
            "linecolor": "white",
            "ticks": ""
           }
          },
          "scene": {
           "xaxis": {
            "backgroundcolor": "#E5ECF6",
            "gridcolor": "white",
            "gridwidth": 2,
            "linecolor": "white",
            "showbackground": true,
            "ticks": "",
            "zerolinecolor": "white"
           },
           "yaxis": {
            "backgroundcolor": "#E5ECF6",
            "gridcolor": "white",
            "gridwidth": 2,
            "linecolor": "white",
            "showbackground": true,
            "ticks": "",
            "zerolinecolor": "white"
           },
           "zaxis": {
            "backgroundcolor": "#E5ECF6",
            "gridcolor": "white",
            "gridwidth": 2,
            "linecolor": "white",
            "showbackground": true,
            "ticks": "",
            "zerolinecolor": "white"
           }
          },
          "shapedefaults": {
           "line": {
            "color": "#2a3f5f"
           }
          },
          "ternary": {
           "aaxis": {
            "gridcolor": "white",
            "linecolor": "white",
            "ticks": ""
           },
           "baxis": {
            "gridcolor": "white",
            "linecolor": "white",
            "ticks": ""
           },
           "bgcolor": "#E5ECF6",
           "caxis": {
            "gridcolor": "white",
            "linecolor": "white",
            "ticks": ""
           }
          },
          "title": {
           "x": 0.05
          },
          "xaxis": {
           "automargin": true,
           "gridcolor": "white",
           "linecolor": "white",
           "ticks": "",
           "title": {
            "standoff": 15
           },
           "zerolinecolor": "white",
           "zerolinewidth": 2
          },
          "yaxis": {
           "automargin": true,
           "gridcolor": "white",
           "linecolor": "white",
           "ticks": "",
           "title": {
            "standoff": 15
           },
           "zerolinecolor": "white",
           "zerolinewidth": 2
          }
         }
        },
        "title": {
         "text": "Wages and salaries (total) in Europe in the construction sector"
        },
        "updatemenus": [
         {
          "buttons": [
           {
            "args": [
             null,
             {
              "frame": {
               "duration": 500,
               "redraw": true
              },
              "fromcurrent": true,
              "mode": "immediate",
              "transition": {
               "duration": 500,
               "easing": "linear"
              }
             }
            ],
            "label": "&#9654;",
            "method": "animate"
           },
           {
            "args": [
             [
              null
             ],
             {
              "frame": {
               "duration": 0,
               "redraw": true
              },
              "fromcurrent": true,
              "mode": "immediate",
              "transition": {
               "duration": 0,
               "easing": "linear"
              }
             }
            ],
            "label": "&#9724;",
            "method": "animate"
           }
          ],
          "direction": "left",
          "pad": {
           "r": 10,
           "t": 70
          },
          "showactive": false,
          "type": "buttons",
          "x": 0.1,
          "xanchor": "right",
          "y": 0,
          "yanchor": "top"
         }
        ]
       }
      },
      "text/html": [
       "<div>                            <div id=\"04503ef2-176e-46c1-ad91-d2d1e480a144\" class=\"plotly-graph-div\" style=\"height:600px; width:100%;\"></div>            <script type=\"text/javascript\">                require([\"plotly\"], function(Plotly) {                    window.PLOTLYENV=window.PLOTLYENV || {};                                    if (document.getElementById(\"04503ef2-176e-46c1-ad91-d2d1e480a144\")) {                    Plotly.newPlot(                        \"04503ef2-176e-46c1-ad91-d2d1e480a144\",                        [{\"coloraxis\":\"coloraxis\",\"geo\":\"geo\",\"hovertemplate\":\"TIME_PERIOD=2000<br>iso3=%{location}<br>OBS_VALUE=%{z}<extra></extra>\",\"locations\":[\"not found\",\"DNK\",\"DEU\",\"FIN\",\"PRT\",\"LVA\",\"CZE\",\"LUX\",\"LTU\",\"EST\",\"SWE\",\"ITA\",\"NLD\",\"BGR\",\"SVN\",\"ISL\",\"not found\",\"FRA\",\"ESP\",\"HUN\",\"not found\",\"SVK\",\"GBR\",\"IRL\",\"AUT\",\"BEL\"],\"name\":\"\",\"z\":[13.0,23.8,16.2,16.4,5.6,1.1,2.6,14.2,1.7,2.0,17.5,11.0,17.8,0.8,6.3,22.5,6.9,14.6,8.9,2.0,14.2,2.1,18.6,13.8,17.1,14.1],\"type\":\"choropleth\"}],                        {\"template\":{\"data\":{\"histogram2dcontour\":[{\"type\":\"histogram2dcontour\",\"colorbar\":{\"outlinewidth\":0,\"ticks\":\"\"},\"colorscale\":[[0.0,\"#0d0887\"],[0.1111111111111111,\"#46039f\"],[0.2222222222222222,\"#7201a8\"],[0.3333333333333333,\"#9c179e\"],[0.4444444444444444,\"#bd3786\"],[0.5555555555555556,\"#d8576b\"],[0.6666666666666666,\"#ed7953\"],[0.7777777777777778,\"#fb9f3a\"],[0.8888888888888888,\"#fdca26\"],[1.0,\"#f0f921\"]]}],\"choropleth\":[{\"type\":\"choropleth\",\"colorbar\":{\"outlinewidth\":0,\"ticks\":\"\"}}],\"histogram2d\":[{\"type\":\"histogram2d\",\"colorbar\":{\"outlinewidth\":0,\"ticks\":\"\"},\"colorscale\":[[0.0,\"#0d0887\"],[0.1111111111111111,\"#46039f\"],[0.2222222222222222,\"#7201a8\"],[0.3333333333333333,\"#9c179e\"],[0.4444444444444444,\"#bd3786\"],[0.5555555555555556,\"#d8576b\"],[0.6666666666666666,\"#ed7953\"],[0.7777777777777778,\"#fb9f3a\"],[0.8888888888888888,\"#fdca26\"],[1.0,\"#f0f921\"]]}],\"heatmap\":[{\"type\":\"heatmap\",\"colorbar\":{\"outlinewidth\":0,\"ticks\":\"\"},\"colorscale\":[[0.0,\"#0d0887\"],[0.1111111111111111,\"#46039f\"],[0.2222222222222222,\"#7201a8\"],[0.3333333333333333,\"#9c179e\"],[0.4444444444444444,\"#bd3786\"],[0.5555555555555556,\"#d8576b\"],[0.6666666666666666,\"#ed7953\"],[0.7777777777777778,\"#fb9f3a\"],[0.8888888888888888,\"#fdca26\"],[1.0,\"#f0f921\"]]}],\"heatmapgl\":[{\"type\":\"heatmapgl\",\"colorbar\":{\"outlinewidth\":0,\"ticks\":\"\"},\"colorscale\":[[0.0,\"#0d0887\"],[0.1111111111111111,\"#46039f\"],[0.2222222222222222,\"#7201a8\"],[0.3333333333333333,\"#9c179e\"],[0.4444444444444444,\"#bd3786\"],[0.5555555555555556,\"#d8576b\"],[0.6666666666666666,\"#ed7953\"],[0.7777777777777778,\"#fb9f3a\"],[0.8888888888888888,\"#fdca26\"],[1.0,\"#f0f921\"]]}],\"contourcarpet\":[{\"type\":\"contourcarpet\",\"colorbar\":{\"outlinewidth\":0,\"ticks\":\"\"}}],\"contour\":[{\"type\":\"contour\",\"colorbar\":{\"outlinewidth\":0,\"ticks\":\"\"},\"colorscale\":[[0.0,\"#0d0887\"],[0.1111111111111111,\"#46039f\"],[0.2222222222222222,\"#7201a8\"],[0.3333333333333333,\"#9c179e\"],[0.4444444444444444,\"#bd3786\"],[0.5555555555555556,\"#d8576b\"],[0.6666666666666666,\"#ed7953\"],[0.7777777777777778,\"#fb9f3a\"],[0.8888888888888888,\"#fdca26\"],[1.0,\"#f0f921\"]]}],\"surface\":[{\"type\":\"surface\",\"colorbar\":{\"outlinewidth\":0,\"ticks\":\"\"},\"colorscale\":[[0.0,\"#0d0887\"],[0.1111111111111111,\"#46039f\"],[0.2222222222222222,\"#7201a8\"],[0.3333333333333333,\"#9c179e\"],[0.4444444444444444,\"#bd3786\"],[0.5555555555555556,\"#d8576b\"],[0.6666666666666666,\"#ed7953\"],[0.7777777777777778,\"#fb9f3a\"],[0.8888888888888888,\"#fdca26\"],[1.0,\"#f0f921\"]]}],\"mesh3d\":[{\"type\":\"mesh3d\",\"colorbar\":{\"outlinewidth\":0,\"ticks\":\"\"}}],\"scatter\":[{\"fillpattern\":{\"fillmode\":\"overlay\",\"size\":10,\"solidity\":0.2},\"type\":\"scatter\"}],\"parcoords\":[{\"type\":\"parcoords\",\"line\":{\"colorbar\":{\"outlinewidth\":0,\"ticks\":\"\"}}}],\"scatterpolargl\":[{\"type\":\"scatterpolargl\",\"marker\":{\"colorbar\":{\"outlinewidth\":0,\"ticks\":\"\"}}}],\"bar\":[{\"error_x\":{\"color\":\"#2a3f5f\"},\"error_y\":{\"color\":\"#2a3f5f\"},\"marker\":{\"line\":{\"color\":\"#E5ECF6\",\"width\":0.5},\"pattern\":{\"fillmode\":\"overlay\",\"size\":10,\"solidity\":0.2}},\"type\":\"bar\"}],\"scattergeo\":[{\"type\":\"scattergeo\",\"marker\":{\"colorbar\":{\"outlinewidth\":0,\"ticks\":\"\"}}}],\"scatterpolar\":[{\"type\":\"scatterpolar\",\"marker\":{\"colorbar\":{\"outlinewidth\":0,\"ticks\":\"\"}}}],\"histogram\":[{\"marker\":{\"pattern\":{\"fillmode\":\"overlay\",\"size\":10,\"solidity\":0.2}},\"type\":\"histogram\"}],\"scattergl\":[{\"type\":\"scattergl\",\"marker\":{\"colorbar\":{\"outlinewidth\":0,\"ticks\":\"\"}}}],\"scatter3d\":[{\"type\":\"scatter3d\",\"line\":{\"colorbar\":{\"outlinewidth\":0,\"ticks\":\"\"}},\"marker\":{\"colorbar\":{\"outlinewidth\":0,\"ticks\":\"\"}}}],\"scattermapbox\":[{\"type\":\"scattermapbox\",\"marker\":{\"colorbar\":{\"outlinewidth\":0,\"ticks\":\"\"}}}],\"scatterternary\":[{\"type\":\"scatterternary\",\"marker\":{\"colorbar\":{\"outlinewidth\":0,\"ticks\":\"\"}}}],\"scattercarpet\":[{\"type\":\"scattercarpet\",\"marker\":{\"colorbar\":{\"outlinewidth\":0,\"ticks\":\"\"}}}],\"carpet\":[{\"aaxis\":{\"endlinecolor\":\"#2a3f5f\",\"gridcolor\":\"white\",\"linecolor\":\"white\",\"minorgridcolor\":\"white\",\"startlinecolor\":\"#2a3f5f\"},\"baxis\":{\"endlinecolor\":\"#2a3f5f\",\"gridcolor\":\"white\",\"linecolor\":\"white\",\"minorgridcolor\":\"white\",\"startlinecolor\":\"#2a3f5f\"},\"type\":\"carpet\"}],\"table\":[{\"cells\":{\"fill\":{\"color\":\"#EBF0F8\"},\"line\":{\"color\":\"white\"}},\"header\":{\"fill\":{\"color\":\"#C8D4E3\"},\"line\":{\"color\":\"white\"}},\"type\":\"table\"}],\"barpolar\":[{\"marker\":{\"line\":{\"color\":\"#E5ECF6\",\"width\":0.5},\"pattern\":{\"fillmode\":\"overlay\",\"size\":10,\"solidity\":0.2}},\"type\":\"barpolar\"}],\"pie\":[{\"automargin\":true,\"type\":\"pie\"}]},\"layout\":{\"autotypenumbers\":\"strict\",\"colorway\":[\"#636efa\",\"#EF553B\",\"#00cc96\",\"#ab63fa\",\"#FFA15A\",\"#19d3f3\",\"#FF6692\",\"#B6E880\",\"#FF97FF\",\"#FECB52\"],\"font\":{\"color\":\"#2a3f5f\"},\"hovermode\":\"closest\",\"hoverlabel\":{\"align\":\"left\"},\"paper_bgcolor\":\"white\",\"plot_bgcolor\":\"#E5ECF6\",\"polar\":{\"bgcolor\":\"#E5ECF6\",\"angularaxis\":{\"gridcolor\":\"white\",\"linecolor\":\"white\",\"ticks\":\"\"},\"radialaxis\":{\"gridcolor\":\"white\",\"linecolor\":\"white\",\"ticks\":\"\"}},\"ternary\":{\"bgcolor\":\"#E5ECF6\",\"aaxis\":{\"gridcolor\":\"white\",\"linecolor\":\"white\",\"ticks\":\"\"},\"baxis\":{\"gridcolor\":\"white\",\"linecolor\":\"white\",\"ticks\":\"\"},\"caxis\":{\"gridcolor\":\"white\",\"linecolor\":\"white\",\"ticks\":\"\"}},\"coloraxis\":{\"colorbar\":{\"outlinewidth\":0,\"ticks\":\"\"}},\"colorscale\":{\"sequential\":[[0.0,\"#0d0887\"],[0.1111111111111111,\"#46039f\"],[0.2222222222222222,\"#7201a8\"],[0.3333333333333333,\"#9c179e\"],[0.4444444444444444,\"#bd3786\"],[0.5555555555555556,\"#d8576b\"],[0.6666666666666666,\"#ed7953\"],[0.7777777777777778,\"#fb9f3a\"],[0.8888888888888888,\"#fdca26\"],[1.0,\"#f0f921\"]],\"sequentialminus\":[[0.0,\"#0d0887\"],[0.1111111111111111,\"#46039f\"],[0.2222222222222222,\"#7201a8\"],[0.3333333333333333,\"#9c179e\"],[0.4444444444444444,\"#bd3786\"],[0.5555555555555556,\"#d8576b\"],[0.6666666666666666,\"#ed7953\"],[0.7777777777777778,\"#fb9f3a\"],[0.8888888888888888,\"#fdca26\"],[1.0,\"#f0f921\"]],\"diverging\":[[0,\"#8e0152\"],[0.1,\"#c51b7d\"],[0.2,\"#de77ae\"],[0.3,\"#f1b6da\"],[0.4,\"#fde0ef\"],[0.5,\"#f7f7f7\"],[0.6,\"#e6f5d0\"],[0.7,\"#b8e186\"],[0.8,\"#7fbc41\"],[0.9,\"#4d9221\"],[1,\"#276419\"]]},\"xaxis\":{\"gridcolor\":\"white\",\"linecolor\":\"white\",\"ticks\":\"\",\"title\":{\"standoff\":15},\"zerolinecolor\":\"white\",\"automargin\":true,\"zerolinewidth\":2},\"yaxis\":{\"gridcolor\":\"white\",\"linecolor\":\"white\",\"ticks\":\"\",\"title\":{\"standoff\":15},\"zerolinecolor\":\"white\",\"automargin\":true,\"zerolinewidth\":2},\"scene\":{\"xaxis\":{\"backgroundcolor\":\"#E5ECF6\",\"gridcolor\":\"white\",\"linecolor\":\"white\",\"showbackground\":true,\"ticks\":\"\",\"zerolinecolor\":\"white\",\"gridwidth\":2},\"yaxis\":{\"backgroundcolor\":\"#E5ECF6\",\"gridcolor\":\"white\",\"linecolor\":\"white\",\"showbackground\":true,\"ticks\":\"\",\"zerolinecolor\":\"white\",\"gridwidth\":2},\"zaxis\":{\"backgroundcolor\":\"#E5ECF6\",\"gridcolor\":\"white\",\"linecolor\":\"white\",\"showbackground\":true,\"ticks\":\"\",\"zerolinecolor\":\"white\",\"gridwidth\":2}},\"shapedefaults\":{\"line\":{\"color\":\"#2a3f5f\"}},\"annotationdefaults\":{\"arrowcolor\":\"#2a3f5f\",\"arrowhead\":0,\"arrowwidth\":1},\"geo\":{\"bgcolor\":\"white\",\"landcolor\":\"#E5ECF6\",\"subunitcolor\":\"white\",\"showland\":true,\"showlakes\":true,\"lakecolor\":\"white\"},\"title\":{\"x\":0.05},\"mapbox\":{\"style\":\"light\"}}},\"geo\":{\"domain\":{\"x\":[0.0,1.0],\"y\":[0.0,1.0]},\"center\":{},\"scope\":\"europe\"},\"coloraxis\":{\"colorbar\":{\"title\":{\"text\":\"OBS_VALUE\"}},\"colorscale\":[[0.0,\"#0d0887\"],[0.1111111111111111,\"#46039f\"],[0.2222222222222222,\"#7201a8\"],[0.3333333333333333,\"#9c179e\"],[0.4444444444444444,\"#bd3786\"],[0.5555555555555556,\"#d8576b\"],[0.6666666666666666,\"#ed7953\"],[0.7777777777777778,\"#fb9f3a\"],[0.8888888888888888,\"#fdca26\"],[1.0,\"#f0f921\"]],\"cmin\":0.0,\"cmax\":49.1},\"legend\":{\"tracegroupgap\":0},\"margin\":{\"t\":60},\"height\":600,\"updatemenus\":[{\"buttons\":[{\"args\":[null,{\"frame\":{\"duration\":500,\"redraw\":true},\"mode\":\"immediate\",\"fromcurrent\":true,\"transition\":{\"duration\":500,\"easing\":\"linear\"}}],\"label\":\"&#9654;\",\"method\":\"animate\"},{\"args\":[[null],{\"frame\":{\"duration\":0,\"redraw\":true},\"mode\":\"immediate\",\"fromcurrent\":true,\"transition\":{\"duration\":0,\"easing\":\"linear\"}}],\"label\":\"&#9724;\",\"method\":\"animate\"}],\"direction\":\"left\",\"pad\":{\"r\":10,\"t\":70},\"showactive\":false,\"type\":\"buttons\",\"x\":0.1,\"xanchor\":\"right\",\"y\":0,\"yanchor\":\"top\"}],\"sliders\":[{\"active\":0,\"currentvalue\":{\"prefix\":\"TIME_PERIOD=\"},\"len\":0.9,\"pad\":{\"b\":10,\"t\":60},\"steps\":[{\"args\":[[\"2000\"],{\"frame\":{\"duration\":0,\"redraw\":true},\"mode\":\"immediate\",\"fromcurrent\":true,\"transition\":{\"duration\":0,\"easing\":\"linear\"}}],\"label\":\"2000\",\"method\":\"animate\"},{\"args\":[[\"2004\"],{\"frame\":{\"duration\":0,\"redraw\":true},\"mode\":\"immediate\",\"fromcurrent\":true,\"transition\":{\"duration\":0,\"easing\":\"linear\"}}],\"label\":\"2004\",\"method\":\"animate\"},{\"args\":[[\"2008\"],{\"frame\":{\"duration\":0,\"redraw\":true},\"mode\":\"immediate\",\"fromcurrent\":true,\"transition\":{\"duration\":0,\"easing\":\"linear\"}}],\"label\":\"2008\",\"method\":\"animate\"},{\"args\":[[\"2012\"],{\"frame\":{\"duration\":0,\"redraw\":true},\"mode\":\"immediate\",\"fromcurrent\":true,\"transition\":{\"duration\":0,\"easing\":\"linear\"}}],\"label\":\"2012\",\"method\":\"animate\"},{\"args\":[[\"2016\"],{\"frame\":{\"duration\":0,\"redraw\":true},\"mode\":\"immediate\",\"fromcurrent\":true,\"transition\":{\"duration\":0,\"easing\":\"linear\"}}],\"label\":\"2016\",\"method\":\"animate\"},{\"args\":[[\"2020\"],{\"frame\":{\"duration\":0,\"redraw\":true},\"mode\":\"immediate\",\"fromcurrent\":true,\"transition\":{\"duration\":0,\"easing\":\"linear\"}}],\"label\":\"2020\",\"method\":\"animate\"},{\"args\":[[\"2021\"],{\"frame\":{\"duration\":0,\"redraw\":true},\"mode\":\"immediate\",\"fromcurrent\":true,\"transition\":{\"duration\":0,\"easing\":\"linear\"}}],\"label\":\"2021\",\"method\":\"animate\"},{\"args\":[[\"2022\"],{\"frame\":{\"duration\":0,\"redraw\":true},\"mode\":\"immediate\",\"fromcurrent\":true,\"transition\":{\"duration\":0,\"easing\":\"linear\"}}],\"label\":\"2022\",\"method\":\"animate\"}],\"x\":0.1,\"xanchor\":\"left\",\"y\":0,\"yanchor\":\"top\"}],\"title\":{\"text\":\"Wages and salaries (total) in Europe in the construction sector\"}},                        {\"responsive\": true}                    ).then(function(){\n",
       "                            Plotly.addFrames('04503ef2-176e-46c1-ad91-d2d1e480a144', [{\"data\":[{\"coloraxis\":\"coloraxis\",\"geo\":\"geo\",\"hovertemplate\":\"TIME_PERIOD=2000<br>iso3=%{location}<br>OBS_VALUE=%{z}<extra></extra>\",\"locations\":[\"not found\",\"DNK\",\"DEU\",\"FIN\",\"PRT\",\"LVA\",\"CZE\",\"LUX\",\"LTU\",\"EST\",\"SWE\",\"ITA\",\"NLD\",\"BGR\",\"SVN\",\"ISL\",\"not found\",\"FRA\",\"ESP\",\"HUN\",\"not found\",\"SVK\",\"GBR\",\"IRL\",\"AUT\",\"BEL\"],\"name\":\"\",\"z\":[13.0,23.8,16.2,16.4,5.6,1.1,2.6,14.2,1.7,2.0,17.5,11.0,17.8,0.8,6.3,22.5,6.9,14.6,8.9,2.0,14.2,2.1,18.6,13.8,17.1,14.1],\"type\":\"choropleth\"}],\"name\":\"2000\"},{\"data\":[{\"coloraxis\":\"coloraxis\",\"geo\":\"geo\",\"hovertemplate\":\"TIME_PERIOD=2004<br>iso3=%{location}<br>OBS_VALUE=%{z}<extra></extra>\",\"locations\":[\"DNK\",\"MLT\",\"HRV\",\"not found\",\"FRA\",\"not found\",\"LVA\",\"ESP\",\"not found\",\"LUX\",\"LTU\",\"EST\",\"HUN\",\"ITA\",\"not found\",\"ISL\",\"IRL\",\"not found\",\"NLD\",\"FIN\",\"SVK\",\"GBR\",\"SWE\",\"PRT\",\"CZE\",\"BGR\",\"AUT\",\"SVN\",\"ROU\",\"POL\",\"BEL\",\"DEU\"],\"name\":\"\",\"z\":[26.4,6.8,5.4,14.7,17.4,13.0,1.8,10.2,12.1,15.9,2.2,3.4,3.1,14.2,9.3,24.8,22.4,13.9,21.2,17.8,2.9,18.9,18.7,6.5,3.9,0.9,19.3,7.5,1.1,3.1,17.1,17.0],\"type\":\"choropleth\"}],\"name\":\"2004\"},{\"data\":[{\"coloraxis\":\"coloraxis\",\"geo\":\"geo\",\"hovertemplate\":\"TIME_PERIOD=2008<br>iso3=%{location}<br>OBS_VALUE=%{z}<extra></extra>\",\"locations\":[\"not found\",\"not found\",\"BGR\",\"NLD\",\"ESP\",\"IRL\",\"SWE\",\"BEL\",\"ITA\",\"HRV\",\"EST\",\"SVN\",\"ISL\",\"not found\",\"HUN\",\"SVK\",\"DEU\",\"FIN\",\"DNK\",\"MLT\",\"not found\",\"GBR\",\"ROU\",\"AUT\",\"POL\",\"LVA\",\"CZE\",\"not found\",\"FRA\",\"LUX\",\"PRT\",\"not found\",\"LTU\"],\"name\":\"\",\"z\":[13.6,17.6,1.7,23.3,12.7,23.4,21.5,18.0,15.3,6.8,6.6,9.5,18.2,11.7,4.5,5.1,17.7,22.1,29.3,7.7,14.4,21.4,2.7,19.3,5.9,4.4,6.4,15.6,19.6,18.9,7.6,16.6,4.7],\"type\":\"choropleth\"}],\"name\":\"2008\"},{\"data\":[{\"coloraxis\":\"coloraxis\",\"geo\":\"geo\",\"hovertemplate\":\"TIME_PERIOD=2012<br>iso3=%{location}<br>OBS_VALUE=%{z}<extra></extra>\",\"locations\":[\"HRV\",\"SVK\",\"FIN\",\"FRA\",\"TUR\",\"NLD\",\"HUN\",\"MLT\",\"NOR\",\"MKD\",\"MNE\",\"LVA\",\"POL\",\"LUX\",\"PRT\",\"LTU\",\"ROU\",\"SRB\",\"ITA\",\"SWE\",\"IRL\",\"SVN\",\"GBR\",\"ISL\",\"ALB\",\"not found\",\"ESP\",\"EST\",\"CZE\",\"not found\",\"DNK\",\"CHE\",\"BGR\",\"not found\",\"not found\",\"DEU\",\"not found\",\"AUT\",\"BIH\",\"BEL\",\"not found\"],\"name\":\"\",\"z\":[6.9,6.3,24.9,20.9,3.6,25.6,5.0,8.5,40.7,2.8,3.4,4.3,5.7,21.1,9.2,3.8,2.5,3.9,16.7,26.4,23.3,10.1,21.4,20.2,1.6,16.6,14.8,7.3,6.8,20.0,32.1,34.9,2.5,18.4,15.8,19.6,10.2,21.1,3.4,20.3,18.4],\"type\":\"choropleth\"}],\"name\":\"2012\"},{\"data\":[{\"coloraxis\":\"coloraxis\",\"geo\":\"geo\",\"hovertemplate\":\"TIME_PERIOD=2016<br>iso3=%{location}<br>OBS_VALUE=%{z}<extra></extra>\",\"locations\":[\"MLT\",\"ITA\",\"LTU\",\"not found\",\"not found\",\"MNE\",\"LVA\",\"DEU\",\"LUX\",\"MKD\",\"not found\",\"POL\",\"NOR\",\"ALB\",\"AUT\",\"TUR\",\"SVK\",\"BIH\",\"SVN\",\"NLD\",\"BEL\",\"BGR\",\"SRB\",\"ROU\",\"CHE\",\"PRT\",\"CZE\",\"SWE\",\"EST\",\"DNK\",\"GBR\",\"HUN\",\"not found\",\"ESP\",\"IRL\",\"FRA\",\"HRV\",\"not found\",\"ISL\",\"not found\",\"FIN\"],\"name\":\"\",\"z\":[10.0,16.5,5.0,19.4,19.3,3.7,6.3,20.8,22.7,3.5,17.9,6.6,34.5,2.0,23.3,4.0,6.7,3.4,11.2,26.7,23.9,3.1,3.6,3.2,38.6,7.6,7.0,25.8,8.7,34.0,22.7,4.8,21.1,14.6,22.8,21.9,7.1,9.5,31.5,17.0,26.4],\"type\":\"choropleth\"}],\"name\":\"2016\"},{\"data\":[{\"coloraxis\":\"coloraxis\",\"geo\":\"geo\",\"hovertemplate\":\"TIME_PERIOD=2020<br>iso3=%{location}<br>OBS_VALUE=%{z}<extra></extra>\",\"locations\":[\"ISL\",\"IRL\",\"DNK\",\"PRT\",\"SWE\",\"HRV\",\"not found\",\"ITA\",\"MLT\",\"BGR\",\"NOR\",\"SRB\",\"DEU\",\"FIN\",\"HUN\",\"NLD\",\"CYP\",\"EST\",\"ROU\",\"LVA\",\"LTU\",\"SVK\",\"ESP\",\"CZE\",\"not found\",\"not found\",\"not found\",\"BEL\",\"AUT\",\"SVN\",\"not found\",\"not found\",\"TUR\",\"POL\",\"FRA\",\"LUX\"],\"name\":\"\",\"z\":[34.2,26.1,37.0,8.7,25.8,8.4,22.6,16.7,14.2,4.5,34.3,5.5,24.2,28.3,6.8,30.1,12.2,11.0,6.0,8.9,9.0,8.6,14.8,9.4,21.4,21.4,19.0,25.2,24.9,14.7,21.5,8.7,1.9,7.8,25.2,26.3],\"type\":\"choropleth\"}],\"name\":\"2020\"},{\"data\":[{\"coloraxis\":\"coloraxis\",\"geo\":\"geo\",\"hovertemplate\":\"TIME_PERIOD=2021<br>iso3=%{location}<br>OBS_VALUE=%{z}<extra></extra>\",\"locations\":[\"PRT\",\"HRV\",\"SWE\",\"BGR\",\"SRB\",\"FRA\",\"BEL\",\"SVN\",\"not found\",\"AUT\",\"SVK\",\"TUR\",\"FIN\",\"ROU\",\"CYP\",\"EST\",\"ESP\",\"IRL\",\"LVA\",\"DNK\",\"not found\",\"not found\",\"MLT\",\"LTU\",\"LUX\",\"HUN\",\"not found\",\"DEU\",\"ISL\",\"NOR\",\"POL\",\"CZE\",\"ITA\",\"NLD\"],\"name\":\"\",\"z\":[9.3,8.7,27.1,5.0,5.9,25.3,25.5,15.6,19.4,24.9,9.1,1.7,29.8,6.1,12.7,11.7,14.7,27.6,8.9,38.6,8.8,21.8,14.7,10.0,26.7,7.3,21.8,25.1,32.8,37.2,8.2,10.0,16.9,29.5],\"type\":\"choropleth\"}],\"name\":\"2021\"},{\"data\":[{\"coloraxis\":\"coloraxis\",\"geo\":\"geo\",\"hovertemplate\":\"TIME_PERIOD=2022<br>iso3=%{location}<br>OBS_VALUE=%{z}<extra></extra>\",\"locations\":[\"FIN\",\"ISL\",\"SVN\",\"EST\",\"AUT\",\"not found\",\"TUR\",\"not found\",\"ITA\",\"SVK\",\"not found\",\"LTU\",\"LUX\",\"ESP\",\"DNK\",\"POL\",\"HRV\",\"PRT\",\"NOR\",\"BGR\",\"CZE\",\"NLD\",\"ROU\",\"HUN\",\"MLT\",\"SRB\",\"DEU\",\"FRA\",\"BEL\",\"not found\",\"CYP\",\"LVA\",\"IRL\",\"SWE\"],\"name\":\"\",\"z\":[30.6,37.3,16.7,12.3,26.2,20.5,1.7,22.9,17.4,9.9,22.9,11.0,28.1,15.4,39.0,8.8,9.5,9.8,38.7,5.6,11.2,30.5,6.8,7.8,14.9,6.8,26.7,26.2,27.0,9.5,13.2,9.3,28.7,26.9],\"type\":\"choropleth\"}],\"name\":\"2022\"}]);\n",
       "                        }).then(function(){\n",
       "                            \n",
       "var gd = document.getElementById('04503ef2-176e-46c1-ad91-d2d1e480a144');\n",
       "var x = new MutationObserver(function (mutations, observer) {{\n",
       "        var display = window.getComputedStyle(gd).display;\n",
       "        if (!display || display === 'none') {{\n",
       "            console.log([gd, 'removed!']);\n",
       "            Plotly.purge(gd);\n",
       "            observer.disconnect();\n",
       "        }}\n",
       "}});\n",
       "\n",
       "// Listen for the removal of the full notebook cells\n",
       "var notebookContainer = gd.closest('#notebook-container');\n",
       "if (notebookContainer) {{\n",
       "    x.observe(notebookContainer, {childList: true});\n",
       "}}\n",
       "\n",
       "// Listen for the clearing of the current output cell\n",
       "var outputEl = gd.closest('.output');\n",
       "if (outputEl) {{\n",
       "    x.observe(outputEl, {childList: true});\n",
       "}}\n",
       "\n",
       "                        })                };                });            </script>        </div>"
      ]
     },
     "metadata": {},
     "output_type": "display_data"
    }
   ],
   "source": [
    "fig = px.choropleth(sorted_df, \n",
    "                    locations=\"iso3\", \n",
    "                    #locationmode=\"country names\", \n",
    "                    color=\"OBS_VALUE\", \n",
    "                    animation_frame=\"TIME_PERIOD\", \n",
    "                    color_continuous_scale=px.colors.sequential.Plasma, \n",
    "                    range_color=[eur_df['OBS_VALUE'].min(), eur_df['OBS_VALUE'].max()],\n",
    "                    scope='europe',\n",
    "                    height=600\n",
    "                   )\n",
    "\n",
    "fig.update_layout(\n",
    "    # add a title text for the plot\n",
    "    title_text = 'Wages and salaries (total) in Europe in the construction sector'\n",
    ")\n",
    "fig.show()"
   ]
  },
  {
   "cell_type": "code",
   "execution_count": 197,
   "id": "8985581e",
   "metadata": {},
   "outputs": [
    {
     "data": {
      "application/vnd.plotly.v1+json": {
       "config": {
        "plotlyServerURL": "https://plot.ly"
       },
       "data": [
        {
         "coloraxis": "coloraxis",
         "geo": "geo",
         "hovertemplate": "TIME_PERIOD=2000<br>iso3=%{location}<br>OBS_VALUE=%{z}<extra></extra>",
         "locations": [
          "LTU",
          "IRL",
          "PRT",
          "DNK",
          "ESP",
          "DEU",
          "LVA",
          "SWE",
          "CZE",
          "ISL",
          "SVN",
          "HUN",
          "FIN",
          "LUX",
          "BGR",
          "SVK",
          "EST",
          "GBR",
          "ITA",
          "FRA",
          "AUT",
          "NLD",
          "BEL"
         ],
         "name": "",
         "type": "choropleth",
         "z": [
          2.4,
          16.6,
          6.9,
          24.7,
          12,
          20.1,
          1.4,
          25.7,
          3.6,
          25.5,
          7.6,
          2.9,
          20.8,
          16.6,
          1.1,
          3,
          2.7,
          22.4,
          16,
          20.4,
          21.1,
          23.2,
          23.8
         ]
        }
       ],
       "frames": [
        {
         "data": [
          {
           "coloraxis": "coloraxis",
           "geo": "geo",
           "hovertemplate": "TIME_PERIOD=2000<br>iso3=%{location}<br>OBS_VALUE=%{z}<extra></extra>",
           "locations": [
            "LTU",
            "IRL",
            "PRT",
            "DNK",
            "ESP",
            "DEU",
            "LVA",
            "SWE",
            "CZE",
            "ISL",
            "SVN",
            "HUN",
            "FIN",
            "LUX",
            "BGR",
            "SVK",
            "EST",
            "GBR",
            "ITA",
            "FRA",
            "AUT",
            "NLD",
            "BEL"
           ],
           "name": "",
           "type": "choropleth",
           "z": [
            2.4,
            16.6,
            6.9,
            24.7,
            12,
            20.1,
            1.4,
            25.7,
            3.6,
            25.5,
            7.6,
            2.9,
            20.8,
            16.6,
            1.1,
            3,
            2.7,
            22.4,
            16,
            20.4,
            21.1,
            23.2,
            23.8
           ]
          }
         ],
         "name": "2000"
        },
        {
         "data": [
          {
           "coloraxis": "coloraxis",
           "geo": "geo",
           "hovertemplate": "TIME_PERIOD=2004<br>iso3=%{location}<br>OBS_VALUE=%{z}<extra></extra>",
           "locations": [
            "GBR",
            "DEU",
            "MLT",
            "IRL",
            "SWE",
            "ESP",
            "AUT",
            "DNK",
            "HRV",
            "LVA",
            "EST",
            "LTU",
            "ROU",
            "HUN",
            "SVN",
            "SVK",
            "CZE",
            "FRA",
            "POL",
            "ISL",
            "NLD",
            "BGR",
            "PRT",
            "FIN",
            "ITA",
            "LUX",
            "BEL"
           ],
           "name": "",
           "type": "choropleth",
           "z": [
            22.5,
            21.2,
            7.5,
            26,
            27.4,
            14.2,
            24.6,
            28.7,
            6.3,
            2.3,
            4.6,
            3,
            1.5,
            4.4,
            9.2,
            3.8,
            5.4,
            24.7,
            3.9,
            28.8,
            27.5,
            1.3,
            8.2,
            22.7,
            20.5,
            19,
            28.9
           ]
          }
         ],
         "name": "2004"
        },
        {
         "data": [
          {
           "coloraxis": "coloraxis",
           "geo": "geo",
           "hovertemplate": "TIME_PERIOD=2008<br>iso3=%{location}<br>OBS_VALUE=%{z}<extra></extra>",
           "locations": [
            "EST",
            "NLD",
            "POL",
            "HRV",
            "FRA",
            "HUN",
            "ESP",
            "FIN",
            "DEU",
            "LVA",
            "GBR",
            "AUT",
            "LTU",
            "ITA",
            "BEL",
            "SVK",
            "BGR",
            "PRT",
            "SVN",
            "ISL",
            "MLT",
            "CZE",
            "DNK",
            "ROU",
            "SWE",
            "IRL",
            "LUX"
           ],
           "name": "",
           "type": "choropleth",
           "z": [
            9,
            30.3,
            7.1,
            8,
            28,
            6.2,
            17.9,
            28.3,
            22.7,
            5.6,
            24.8,
            26.5,
            6.6,
            22,
            28.6,
            6.7,
            2,
            9.7,
            11.2,
            21.6,
            8.5,
            8.7,
            33.2,
            3.5,
            31.2,
            27.7,
            22
           ]
          }
         ],
         "name": "2008"
        },
        {
         "data": [
          {
           "coloraxis": "coloraxis",
           "geo": "geo",
           "hovertemplate": "TIME_PERIOD=2012<br>iso3=%{location}<br>OBS_VALUE=%{z}<extra></extra>",
           "locations": [
            "MKD",
            "HRV",
            "GBR",
            "LUX",
            "ITA",
            "LTU",
            "HUN",
            "MNE",
            "LVA",
            "IRL",
            "ISL",
            "ALB",
            "SRB",
            "AUT",
            "TUR",
            "BIH",
            "BEL",
            "SVK",
            "BGR",
            "SVN",
            "CHE",
            "SWE",
            "CZE",
            "MLT",
            "DEU",
            "ROU",
            "DNK",
            "POL",
            "PRT",
            "FRA",
            "EST",
            "NLD",
            "ESP",
            "FIN",
            "NOR"
           ],
           "name": "",
           "type": "choropleth",
           "z": [
            3.1,
            8.2,
            25,
            24.8,
            23.5,
            5.5,
            6.4,
            4.1,
            5.5,
            26.4,
            24.6,
            2,
            4.7,
            28.4,
            4.3,
            3.7,
            33.4,
            8.4,
            3,
            11.9,
            43.8,
            38.3,
            9.3,
            9.4,
            25.1,
            3.3,
            36.4,
            6.8,
            11.6,
            30.3,
            10,
            33.7,
            20.9,
            31.7,
            49.1
           ]
          }
         ],
         "name": "2012"
        },
        {
         "data": [
          {
           "coloraxis": "coloraxis",
           "geo": "geo",
           "hovertemplate": "TIME_PERIOD=2016<br>iso3=%{location}<br>OBS_VALUE=%{z}<extra></extra>",
           "locations": [
            "TUR",
            "MKD",
            "SVK",
            "LTU",
            "MNE",
            "SVN",
            "PRT",
            "NOR",
            "SWE",
            "POL",
            "SRB",
            "LUX",
            "LVA",
            "ROU",
            "NLD",
            "MLT",
            "GBR",
            "FRA",
            "CZE",
            "FIN",
            "CHE",
            "BGR",
            "HRV",
            "ESP",
            "DEU",
            "BEL",
            "HUN",
            "BIH",
            "IRL",
            "EST",
            "ISL",
            "ALB",
            "AUT",
            "ITA",
            "DNK"
           ],
           "name": "",
           "type": "choropleth",
           "z": [
            4.8,
            3.6,
            9,
            7.2,
            4.3,
            13.2,
            9.7,
            41.4,
            37.4,
            8.1,
            4.3,
            26.1,
            8,
            4,
            35.6,
            11,
            26.9,
            31.1,
            9.6,
            34,
            48.1,
            3.6,
            8.4,
            20.3,
            26.7,
            34.8,
            6.4,
            3.7,
            25.7,
            11.8,
            38,
            2.4,
            33.1,
            23.5,
            38.7
           ]
          }
         ],
         "name": "2016"
        },
        {
         "data": [
          {
           "coloraxis": "coloraxis",
           "geo": "geo",
           "hovertemplate": "TIME_PERIOD=2020<br>iso3=%{location}<br>OBS_VALUE=%{z}<extra></extra>",
           "locations": [
            "FIN",
            "SWE",
            "NLD",
            "CYP",
            "DNK",
            "POL",
            "ITA",
            "ESP",
            "NOR",
            "CZE",
            "EST",
            "ROU",
            "BGR",
            "PRT",
            "LUX",
            "DEU",
            "IRL",
            "SVK",
            "TUR",
            "HUN",
            "LVA",
            "MLT",
            "BEL",
            "AUT",
            "HRV",
            "SVN",
            "LTU",
            "FRA",
            "ISL",
            "SRB"
           ],
           "name": "",
           "type": "choropleth",
           "z": [
            34.9,
            36.9,
            39.4,
            14.5,
            41.3,
            9.5,
            24.1,
            20.6,
            41,
            12.8,
            14.7,
            6.3,
            5.3,
            11.3,
            30.4,
            31.2,
            27.5,
            11.3,
            2.2,
            8.2,
            11.3,
            14.9,
            36,
            36.3,
            9.7,
            16.8,
            9.3,
            35.2,
            42.4,
            6.3
           ]
          }
         ],
         "name": "2020"
        },
        {
         "data": [
          {
           "coloraxis": "coloraxis",
           "geo": "geo",
           "hovertemplate": "TIME_PERIOD=2021<br>iso3=%{location}<br>OBS_VALUE=%{z}<extra></extra>",
           "locations": [
            "ROU",
            "ITA",
            "SRB",
            "CYP",
            "SWE",
            "BGR",
            "SVN",
            "BEL",
            "SVK",
            "AUT",
            "TUR",
            "CZE",
            "DEU",
            "ISL",
            "ESP",
            "NLD",
            "HUN",
            "LVA",
            "HRV",
            "NOR",
            "LUX",
            "IRL",
            "FIN",
            "MLT",
            "FRA",
            "POL",
            "LTU",
            "DNK",
            "PRT",
            "EST"
           ],
           "name": "",
           "type": "choropleth",
           "z": [
            6.4,
            24.1,
            7.1,
            15.5,
            39.7,
            5.8,
            18,
            36.4,
            12,
            36.5,
            2,
            13.7,
            32.4,
            40.4,
            20.6,
            38.7,
            8.6,
            11.2,
            10,
            44.6,
            30.8,
            28.6,
            36.4,
            15.4,
            35.2,
            9.9,
            10.5,
            43.1,
            12,
            15.7
           ]
          }
         ],
         "name": "2021"
        },
        {
         "data": [
          {
           "coloraxis": "coloraxis",
           "geo": "geo",
           "hovertemplate": "TIME_PERIOD=2022<br>iso3=%{location}<br>OBS_VALUE=%{z}<extra></extra>",
           "locations": [
            "HUN",
            "HRV",
            "LVA",
            "DEU",
            "SVK",
            "AUT",
            "IRL",
            "TUR",
            "LTU",
            "ISL",
            "LUX",
            "BEL",
            "MLT",
            "FRA",
            "DNK",
            "ITA",
            "ROU",
            "CZE",
            "EST",
            "NOR",
            "SVN",
            "SRB",
            "NLD",
            "ESP",
            "SWE",
            "FIN",
            "BGR",
            "PRT",
            "CYP",
            "POL"
           ],
           "name": "",
           "type": "choropleth",
           "z": [
            9,
            11,
            11.8,
            34.8,
            13.5,
            38.5,
            35.4,
            2.1,
            11.6,
            46.1,
            32.4,
            38.5,
            15.9,
            36.2,
            43.7,
            24.9,
            7.2,
            15.4,
            16.5,
            46.5,
            19.3,
            8.4,
            40.6,
            21.4,
            39.7,
            37.3,
            6.5,
            12.7,
            16.1,
            10.7
           ]
          }
         ],
         "name": "2022"
        }
       ],
       "layout": {
        "coloraxis": {
         "cmax": 49.1,
         "cmin": 0,
         "colorbar": {
          "title": {
           "text": "OBS_VALUE"
          }
         },
         "colorscale": [
          [
           0,
           "#0d0887"
          ],
          [
           0.1111111111111111,
           "#46039f"
          ],
          [
           0.2222222222222222,
           "#7201a8"
          ],
          [
           0.3333333333333333,
           "#9c179e"
          ],
          [
           0.4444444444444444,
           "#bd3786"
          ],
          [
           0.5555555555555556,
           "#d8576b"
          ],
          [
           0.6666666666666666,
           "#ed7953"
          ],
          [
           0.7777777777777778,
           "#fb9f3a"
          ],
          [
           0.8888888888888888,
           "#fdca26"
          ],
          [
           1,
           "#f0f921"
          ]
         ]
        },
        "geo": {
         "center": {},
         "domain": {
          "x": [
           0,
           1
          ],
          "y": [
           0,
           1
          ]
         },
         "scope": "europe"
        },
        "height": 600,
        "legend": {
         "tracegroupgap": 0
        },
        "margin": {
         "t": 60
        },
        "sliders": [
         {
          "active": 0,
          "currentvalue": {
           "prefix": "TIME_PERIOD="
          },
          "len": 0.9,
          "pad": {
           "b": 10,
           "t": 60
          },
          "steps": [
           {
            "args": [
             [
              "2000"
             ],
             {
              "frame": {
               "duration": 0,
               "redraw": true
              },
              "fromcurrent": true,
              "mode": "immediate",
              "transition": {
               "duration": 0,
               "easing": "linear"
              }
             }
            ],
            "label": "2000",
            "method": "animate"
           },
           {
            "args": [
             [
              "2004"
             ],
             {
              "frame": {
               "duration": 0,
               "redraw": true
              },
              "fromcurrent": true,
              "mode": "immediate",
              "transition": {
               "duration": 0,
               "easing": "linear"
              }
             }
            ],
            "label": "2004",
            "method": "animate"
           },
           {
            "args": [
             [
              "2008"
             ],
             {
              "frame": {
               "duration": 0,
               "redraw": true
              },
              "fromcurrent": true,
              "mode": "immediate",
              "transition": {
               "duration": 0,
               "easing": "linear"
              }
             }
            ],
            "label": "2008",
            "method": "animate"
           },
           {
            "args": [
             [
              "2012"
             ],
             {
              "frame": {
               "duration": 0,
               "redraw": true
              },
              "fromcurrent": true,
              "mode": "immediate",
              "transition": {
               "duration": 0,
               "easing": "linear"
              }
             }
            ],
            "label": "2012",
            "method": "animate"
           },
           {
            "args": [
             [
              "2016"
             ],
             {
              "frame": {
               "duration": 0,
               "redraw": true
              },
              "fromcurrent": true,
              "mode": "immediate",
              "transition": {
               "duration": 0,
               "easing": "linear"
              }
             }
            ],
            "label": "2016",
            "method": "animate"
           },
           {
            "args": [
             [
              "2020"
             ],
             {
              "frame": {
               "duration": 0,
               "redraw": true
              },
              "fromcurrent": true,
              "mode": "immediate",
              "transition": {
               "duration": 0,
               "easing": "linear"
              }
             }
            ],
            "label": "2020",
            "method": "animate"
           },
           {
            "args": [
             [
              "2021"
             ],
             {
              "frame": {
               "duration": 0,
               "redraw": true
              },
              "fromcurrent": true,
              "mode": "immediate",
              "transition": {
               "duration": 0,
               "easing": "linear"
              }
             }
            ],
            "label": "2021",
            "method": "animate"
           },
           {
            "args": [
             [
              "2022"
             ],
             {
              "frame": {
               "duration": 0,
               "redraw": true
              },
              "fromcurrent": true,
              "mode": "immediate",
              "transition": {
               "duration": 0,
               "easing": "linear"
              }
             }
            ],
            "label": "2022",
            "method": "animate"
           }
          ],
          "x": 0.1,
          "xanchor": "left",
          "y": 0,
          "yanchor": "top"
         }
        ],
        "template": {
         "data": {
          "bar": [
           {
            "error_x": {
             "color": "#2a3f5f"
            },
            "error_y": {
             "color": "#2a3f5f"
            },
            "marker": {
             "line": {
              "color": "#E5ECF6",
              "width": 0.5
             },
             "pattern": {
              "fillmode": "overlay",
              "size": 10,
              "solidity": 0.2
             }
            },
            "type": "bar"
           }
          ],
          "barpolar": [
           {
            "marker": {
             "line": {
              "color": "#E5ECF6",
              "width": 0.5
             },
             "pattern": {
              "fillmode": "overlay",
              "size": 10,
              "solidity": 0.2
             }
            },
            "type": "barpolar"
           }
          ],
          "carpet": [
           {
            "aaxis": {
             "endlinecolor": "#2a3f5f",
             "gridcolor": "white",
             "linecolor": "white",
             "minorgridcolor": "white",
             "startlinecolor": "#2a3f5f"
            },
            "baxis": {
             "endlinecolor": "#2a3f5f",
             "gridcolor": "white",
             "linecolor": "white",
             "minorgridcolor": "white",
             "startlinecolor": "#2a3f5f"
            },
            "type": "carpet"
           }
          ],
          "choropleth": [
           {
            "colorbar": {
             "outlinewidth": 0,
             "ticks": ""
            },
            "type": "choropleth"
           }
          ],
          "contour": [
           {
            "colorbar": {
             "outlinewidth": 0,
             "ticks": ""
            },
            "colorscale": [
             [
              0,
              "#0d0887"
             ],
             [
              0.1111111111111111,
              "#46039f"
             ],
             [
              0.2222222222222222,
              "#7201a8"
             ],
             [
              0.3333333333333333,
              "#9c179e"
             ],
             [
              0.4444444444444444,
              "#bd3786"
             ],
             [
              0.5555555555555556,
              "#d8576b"
             ],
             [
              0.6666666666666666,
              "#ed7953"
             ],
             [
              0.7777777777777778,
              "#fb9f3a"
             ],
             [
              0.8888888888888888,
              "#fdca26"
             ],
             [
              1,
              "#f0f921"
             ]
            ],
            "type": "contour"
           }
          ],
          "contourcarpet": [
           {
            "colorbar": {
             "outlinewidth": 0,
             "ticks": ""
            },
            "type": "contourcarpet"
           }
          ],
          "heatmap": [
           {
            "colorbar": {
             "outlinewidth": 0,
             "ticks": ""
            },
            "colorscale": [
             [
              0,
              "#0d0887"
             ],
             [
              0.1111111111111111,
              "#46039f"
             ],
             [
              0.2222222222222222,
              "#7201a8"
             ],
             [
              0.3333333333333333,
              "#9c179e"
             ],
             [
              0.4444444444444444,
              "#bd3786"
             ],
             [
              0.5555555555555556,
              "#d8576b"
             ],
             [
              0.6666666666666666,
              "#ed7953"
             ],
             [
              0.7777777777777778,
              "#fb9f3a"
             ],
             [
              0.8888888888888888,
              "#fdca26"
             ],
             [
              1,
              "#f0f921"
             ]
            ],
            "type": "heatmap"
           }
          ],
          "heatmapgl": [
           {
            "colorbar": {
             "outlinewidth": 0,
             "ticks": ""
            },
            "colorscale": [
             [
              0,
              "#0d0887"
             ],
             [
              0.1111111111111111,
              "#46039f"
             ],
             [
              0.2222222222222222,
              "#7201a8"
             ],
             [
              0.3333333333333333,
              "#9c179e"
             ],
             [
              0.4444444444444444,
              "#bd3786"
             ],
             [
              0.5555555555555556,
              "#d8576b"
             ],
             [
              0.6666666666666666,
              "#ed7953"
             ],
             [
              0.7777777777777778,
              "#fb9f3a"
             ],
             [
              0.8888888888888888,
              "#fdca26"
             ],
             [
              1,
              "#f0f921"
             ]
            ],
            "type": "heatmapgl"
           }
          ],
          "histogram": [
           {
            "marker": {
             "pattern": {
              "fillmode": "overlay",
              "size": 10,
              "solidity": 0.2
             }
            },
            "type": "histogram"
           }
          ],
          "histogram2d": [
           {
            "colorbar": {
             "outlinewidth": 0,
             "ticks": ""
            },
            "colorscale": [
             [
              0,
              "#0d0887"
             ],
             [
              0.1111111111111111,
              "#46039f"
             ],
             [
              0.2222222222222222,
              "#7201a8"
             ],
             [
              0.3333333333333333,
              "#9c179e"
             ],
             [
              0.4444444444444444,
              "#bd3786"
             ],
             [
              0.5555555555555556,
              "#d8576b"
             ],
             [
              0.6666666666666666,
              "#ed7953"
             ],
             [
              0.7777777777777778,
              "#fb9f3a"
             ],
             [
              0.8888888888888888,
              "#fdca26"
             ],
             [
              1,
              "#f0f921"
             ]
            ],
            "type": "histogram2d"
           }
          ],
          "histogram2dcontour": [
           {
            "colorbar": {
             "outlinewidth": 0,
             "ticks": ""
            },
            "colorscale": [
             [
              0,
              "#0d0887"
             ],
             [
              0.1111111111111111,
              "#46039f"
             ],
             [
              0.2222222222222222,
              "#7201a8"
             ],
             [
              0.3333333333333333,
              "#9c179e"
             ],
             [
              0.4444444444444444,
              "#bd3786"
             ],
             [
              0.5555555555555556,
              "#d8576b"
             ],
             [
              0.6666666666666666,
              "#ed7953"
             ],
             [
              0.7777777777777778,
              "#fb9f3a"
             ],
             [
              0.8888888888888888,
              "#fdca26"
             ],
             [
              1,
              "#f0f921"
             ]
            ],
            "type": "histogram2dcontour"
           }
          ],
          "mesh3d": [
           {
            "colorbar": {
             "outlinewidth": 0,
             "ticks": ""
            },
            "type": "mesh3d"
           }
          ],
          "parcoords": [
           {
            "line": {
             "colorbar": {
              "outlinewidth": 0,
              "ticks": ""
             }
            },
            "type": "parcoords"
           }
          ],
          "pie": [
           {
            "automargin": true,
            "type": "pie"
           }
          ],
          "scatter": [
           {
            "fillpattern": {
             "fillmode": "overlay",
             "size": 10,
             "solidity": 0.2
            },
            "type": "scatter"
           }
          ],
          "scatter3d": [
           {
            "line": {
             "colorbar": {
              "outlinewidth": 0,
              "ticks": ""
             }
            },
            "marker": {
             "colorbar": {
              "outlinewidth": 0,
              "ticks": ""
             }
            },
            "type": "scatter3d"
           }
          ],
          "scattercarpet": [
           {
            "marker": {
             "colorbar": {
              "outlinewidth": 0,
              "ticks": ""
             }
            },
            "type": "scattercarpet"
           }
          ],
          "scattergeo": [
           {
            "marker": {
             "colorbar": {
              "outlinewidth": 0,
              "ticks": ""
             }
            },
            "type": "scattergeo"
           }
          ],
          "scattergl": [
           {
            "marker": {
             "colorbar": {
              "outlinewidth": 0,
              "ticks": ""
             }
            },
            "type": "scattergl"
           }
          ],
          "scattermapbox": [
           {
            "marker": {
             "colorbar": {
              "outlinewidth": 0,
              "ticks": ""
             }
            },
            "type": "scattermapbox"
           }
          ],
          "scatterpolar": [
           {
            "marker": {
             "colorbar": {
              "outlinewidth": 0,
              "ticks": ""
             }
            },
            "type": "scatterpolar"
           }
          ],
          "scatterpolargl": [
           {
            "marker": {
             "colorbar": {
              "outlinewidth": 0,
              "ticks": ""
             }
            },
            "type": "scatterpolargl"
           }
          ],
          "scatterternary": [
           {
            "marker": {
             "colorbar": {
              "outlinewidth": 0,
              "ticks": ""
             }
            },
            "type": "scatterternary"
           }
          ],
          "surface": [
           {
            "colorbar": {
             "outlinewidth": 0,
             "ticks": ""
            },
            "colorscale": [
             [
              0,
              "#0d0887"
             ],
             [
              0.1111111111111111,
              "#46039f"
             ],
             [
              0.2222222222222222,
              "#7201a8"
             ],
             [
              0.3333333333333333,
              "#9c179e"
             ],
             [
              0.4444444444444444,
              "#bd3786"
             ],
             [
              0.5555555555555556,
              "#d8576b"
             ],
             [
              0.6666666666666666,
              "#ed7953"
             ],
             [
              0.7777777777777778,
              "#fb9f3a"
             ],
             [
              0.8888888888888888,
              "#fdca26"
             ],
             [
              1,
              "#f0f921"
             ]
            ],
            "type": "surface"
           }
          ],
          "table": [
           {
            "cells": {
             "fill": {
              "color": "#EBF0F8"
             },
             "line": {
              "color": "white"
             }
            },
            "header": {
             "fill": {
              "color": "#C8D4E3"
             },
             "line": {
              "color": "white"
             }
            },
            "type": "table"
           }
          ]
         },
         "layout": {
          "annotationdefaults": {
           "arrowcolor": "#2a3f5f",
           "arrowhead": 0,
           "arrowwidth": 1
          },
          "autotypenumbers": "strict",
          "coloraxis": {
           "colorbar": {
            "outlinewidth": 0,
            "ticks": ""
           }
          },
          "colorscale": {
           "diverging": [
            [
             0,
             "#8e0152"
            ],
            [
             0.1,
             "#c51b7d"
            ],
            [
             0.2,
             "#de77ae"
            ],
            [
             0.3,
             "#f1b6da"
            ],
            [
             0.4,
             "#fde0ef"
            ],
            [
             0.5,
             "#f7f7f7"
            ],
            [
             0.6,
             "#e6f5d0"
            ],
            [
             0.7,
             "#b8e186"
            ],
            [
             0.8,
             "#7fbc41"
            ],
            [
             0.9,
             "#4d9221"
            ],
            [
             1,
             "#276419"
            ]
           ],
           "sequential": [
            [
             0,
             "#0d0887"
            ],
            [
             0.1111111111111111,
             "#46039f"
            ],
            [
             0.2222222222222222,
             "#7201a8"
            ],
            [
             0.3333333333333333,
             "#9c179e"
            ],
            [
             0.4444444444444444,
             "#bd3786"
            ],
            [
             0.5555555555555556,
             "#d8576b"
            ],
            [
             0.6666666666666666,
             "#ed7953"
            ],
            [
             0.7777777777777778,
             "#fb9f3a"
            ],
            [
             0.8888888888888888,
             "#fdca26"
            ],
            [
             1,
             "#f0f921"
            ]
           ],
           "sequentialminus": [
            [
             0,
             "#0d0887"
            ],
            [
             0.1111111111111111,
             "#46039f"
            ],
            [
             0.2222222222222222,
             "#7201a8"
            ],
            [
             0.3333333333333333,
             "#9c179e"
            ],
            [
             0.4444444444444444,
             "#bd3786"
            ],
            [
             0.5555555555555556,
             "#d8576b"
            ],
            [
             0.6666666666666666,
             "#ed7953"
            ],
            [
             0.7777777777777778,
             "#fb9f3a"
            ],
            [
             0.8888888888888888,
             "#fdca26"
            ],
            [
             1,
             "#f0f921"
            ]
           ]
          },
          "colorway": [
           "#636efa",
           "#EF553B",
           "#00cc96",
           "#ab63fa",
           "#FFA15A",
           "#19d3f3",
           "#FF6692",
           "#B6E880",
           "#FF97FF",
           "#FECB52"
          ],
          "font": {
           "color": "#2a3f5f"
          },
          "geo": {
           "bgcolor": "white",
           "lakecolor": "white",
           "landcolor": "#E5ECF6",
           "showlakes": true,
           "showland": true,
           "subunitcolor": "white"
          },
          "hoverlabel": {
           "align": "left"
          },
          "hovermode": "closest",
          "mapbox": {
           "style": "light"
          },
          "paper_bgcolor": "white",
          "plot_bgcolor": "#E5ECF6",
          "polar": {
           "angularaxis": {
            "gridcolor": "white",
            "linecolor": "white",
            "ticks": ""
           },
           "bgcolor": "#E5ECF6",
           "radialaxis": {
            "gridcolor": "white",
            "linecolor": "white",
            "ticks": ""
           }
          },
          "scene": {
           "xaxis": {
            "backgroundcolor": "#E5ECF6",
            "gridcolor": "white",
            "gridwidth": 2,
            "linecolor": "white",
            "showbackground": true,
            "ticks": "",
            "zerolinecolor": "white"
           },
           "yaxis": {
            "backgroundcolor": "#E5ECF6",
            "gridcolor": "white",
            "gridwidth": 2,
            "linecolor": "white",
            "showbackground": true,
            "ticks": "",
            "zerolinecolor": "white"
           },
           "zaxis": {
            "backgroundcolor": "#E5ECF6",
            "gridcolor": "white",
            "gridwidth": 2,
            "linecolor": "white",
            "showbackground": true,
            "ticks": "",
            "zerolinecolor": "white"
           }
          },
          "shapedefaults": {
           "line": {
            "color": "#2a3f5f"
           }
          },
          "ternary": {
           "aaxis": {
            "gridcolor": "white",
            "linecolor": "white",
            "ticks": ""
           },
           "baxis": {
            "gridcolor": "white",
            "linecolor": "white",
            "ticks": ""
           },
           "bgcolor": "#E5ECF6",
           "caxis": {
            "gridcolor": "white",
            "linecolor": "white",
            "ticks": ""
           }
          },
          "title": {
           "x": 0.05
          },
          "xaxis": {
           "automargin": true,
           "gridcolor": "white",
           "linecolor": "white",
           "ticks": "",
           "title": {
            "standoff": 15
           },
           "zerolinecolor": "white",
           "zerolinewidth": 2
          },
          "yaxis": {
           "automargin": true,
           "gridcolor": "white",
           "linecolor": "white",
           "ticks": "",
           "title": {
            "standoff": 15
           },
           "zerolinecolor": "white",
           "zerolinewidth": 2
          }
         }
        },
        "title": {
         "text": "Labour cost for LCI (compensation of employees plus taxes minus subsidies)"
        },
        "updatemenus": [
         {
          "buttons": [
           {
            "args": [
             null,
             {
              "frame": {
               "duration": 500,
               "redraw": true
              },
              "fromcurrent": true,
              "mode": "immediate",
              "transition": {
               "duration": 500,
               "easing": "linear"
              }
             }
            ],
            "label": "&#9654;",
            "method": "animate"
           },
           {
            "args": [
             [
              null
             ],
             {
              "frame": {
               "duration": 0,
               "redraw": true
              },
              "fromcurrent": true,
              "mode": "immediate",
              "transition": {
               "duration": 0,
               "easing": "linear"
              }
             }
            ],
            "label": "&#9724;",
            "method": "animate"
           }
          ],
          "direction": "left",
          "pad": {
           "r": 10,
           "t": 70
          },
          "showactive": false,
          "type": "buttons",
          "x": 0.1,
          "xanchor": "right",
          "y": 0,
          "yanchor": "top"
         }
        ]
       }
      },
      "text/html": [
       "<div>                            <div id=\"632eccb4-ec92-4b8d-8379-60deb3de0410\" class=\"plotly-graph-div\" style=\"height:600px; width:100%;\"></div>            <script type=\"text/javascript\">                require([\"plotly\"], function(Plotly) {                    window.PLOTLYENV=window.PLOTLYENV || {};                                    if (document.getElementById(\"632eccb4-ec92-4b8d-8379-60deb3de0410\")) {                    Plotly.newPlot(                        \"632eccb4-ec92-4b8d-8379-60deb3de0410\",                        [{\"coloraxis\":\"coloraxis\",\"geo\":\"geo\",\"hovertemplate\":\"TIME_PERIOD=2000<br>iso3=%{location}<br>OBS_VALUE=%{z}<extra></extra>\",\"locations\":[\"LTU\",\"IRL\",\"PRT\",\"DNK\",\"ESP\",\"DEU\",\"LVA\",\"SWE\",\"CZE\",\"ISL\",\"SVN\",\"HUN\",\"FIN\",\"LUX\",\"BGR\",\"SVK\",\"EST\",\"GBR\",\"ITA\",\"FRA\",\"AUT\",\"NLD\",\"BEL\"],\"name\":\"\",\"z\":[2.4,16.6,6.9,24.7,12.0,20.1,1.4,25.7,3.6,25.5,7.6,2.9,20.8,16.6,1.1,3.0,2.7,22.4,16.0,20.4,21.1,23.2,23.8],\"type\":\"choropleth\"}],                        {\"template\":{\"data\":{\"histogram2dcontour\":[{\"type\":\"histogram2dcontour\",\"colorbar\":{\"outlinewidth\":0,\"ticks\":\"\"},\"colorscale\":[[0.0,\"#0d0887\"],[0.1111111111111111,\"#46039f\"],[0.2222222222222222,\"#7201a8\"],[0.3333333333333333,\"#9c179e\"],[0.4444444444444444,\"#bd3786\"],[0.5555555555555556,\"#d8576b\"],[0.6666666666666666,\"#ed7953\"],[0.7777777777777778,\"#fb9f3a\"],[0.8888888888888888,\"#fdca26\"],[1.0,\"#f0f921\"]]}],\"choropleth\":[{\"type\":\"choropleth\",\"colorbar\":{\"outlinewidth\":0,\"ticks\":\"\"}}],\"histogram2d\":[{\"type\":\"histogram2d\",\"colorbar\":{\"outlinewidth\":0,\"ticks\":\"\"},\"colorscale\":[[0.0,\"#0d0887\"],[0.1111111111111111,\"#46039f\"],[0.2222222222222222,\"#7201a8\"],[0.3333333333333333,\"#9c179e\"],[0.4444444444444444,\"#bd3786\"],[0.5555555555555556,\"#d8576b\"],[0.6666666666666666,\"#ed7953\"],[0.7777777777777778,\"#fb9f3a\"],[0.8888888888888888,\"#fdca26\"],[1.0,\"#f0f921\"]]}],\"heatmap\":[{\"type\":\"heatmap\",\"colorbar\":{\"outlinewidth\":0,\"ticks\":\"\"},\"colorscale\":[[0.0,\"#0d0887\"],[0.1111111111111111,\"#46039f\"],[0.2222222222222222,\"#7201a8\"],[0.3333333333333333,\"#9c179e\"],[0.4444444444444444,\"#bd3786\"],[0.5555555555555556,\"#d8576b\"],[0.6666666666666666,\"#ed7953\"],[0.7777777777777778,\"#fb9f3a\"],[0.8888888888888888,\"#fdca26\"],[1.0,\"#f0f921\"]]}],\"heatmapgl\":[{\"type\":\"heatmapgl\",\"colorbar\":{\"outlinewidth\":0,\"ticks\":\"\"},\"colorscale\":[[0.0,\"#0d0887\"],[0.1111111111111111,\"#46039f\"],[0.2222222222222222,\"#7201a8\"],[0.3333333333333333,\"#9c179e\"],[0.4444444444444444,\"#bd3786\"],[0.5555555555555556,\"#d8576b\"],[0.6666666666666666,\"#ed7953\"],[0.7777777777777778,\"#fb9f3a\"],[0.8888888888888888,\"#fdca26\"],[1.0,\"#f0f921\"]]}],\"contourcarpet\":[{\"type\":\"contourcarpet\",\"colorbar\":{\"outlinewidth\":0,\"ticks\":\"\"}}],\"contour\":[{\"type\":\"contour\",\"colorbar\":{\"outlinewidth\":0,\"ticks\":\"\"},\"colorscale\":[[0.0,\"#0d0887\"],[0.1111111111111111,\"#46039f\"],[0.2222222222222222,\"#7201a8\"],[0.3333333333333333,\"#9c179e\"],[0.4444444444444444,\"#bd3786\"],[0.5555555555555556,\"#d8576b\"],[0.6666666666666666,\"#ed7953\"],[0.7777777777777778,\"#fb9f3a\"],[0.8888888888888888,\"#fdca26\"],[1.0,\"#f0f921\"]]}],\"surface\":[{\"type\":\"surface\",\"colorbar\":{\"outlinewidth\":0,\"ticks\":\"\"},\"colorscale\":[[0.0,\"#0d0887\"],[0.1111111111111111,\"#46039f\"],[0.2222222222222222,\"#7201a8\"],[0.3333333333333333,\"#9c179e\"],[0.4444444444444444,\"#bd3786\"],[0.5555555555555556,\"#d8576b\"],[0.6666666666666666,\"#ed7953\"],[0.7777777777777778,\"#fb9f3a\"],[0.8888888888888888,\"#fdca26\"],[1.0,\"#f0f921\"]]}],\"mesh3d\":[{\"type\":\"mesh3d\",\"colorbar\":{\"outlinewidth\":0,\"ticks\":\"\"}}],\"scatter\":[{\"fillpattern\":{\"fillmode\":\"overlay\",\"size\":10,\"solidity\":0.2},\"type\":\"scatter\"}],\"parcoords\":[{\"type\":\"parcoords\",\"line\":{\"colorbar\":{\"outlinewidth\":0,\"ticks\":\"\"}}}],\"scatterpolargl\":[{\"type\":\"scatterpolargl\",\"marker\":{\"colorbar\":{\"outlinewidth\":0,\"ticks\":\"\"}}}],\"bar\":[{\"error_x\":{\"color\":\"#2a3f5f\"},\"error_y\":{\"color\":\"#2a3f5f\"},\"marker\":{\"line\":{\"color\":\"#E5ECF6\",\"width\":0.5},\"pattern\":{\"fillmode\":\"overlay\",\"size\":10,\"solidity\":0.2}},\"type\":\"bar\"}],\"scattergeo\":[{\"type\":\"scattergeo\",\"marker\":{\"colorbar\":{\"outlinewidth\":0,\"ticks\":\"\"}}}],\"scatterpolar\":[{\"type\":\"scatterpolar\",\"marker\":{\"colorbar\":{\"outlinewidth\":0,\"ticks\":\"\"}}}],\"histogram\":[{\"marker\":{\"pattern\":{\"fillmode\":\"overlay\",\"size\":10,\"solidity\":0.2}},\"type\":\"histogram\"}],\"scattergl\":[{\"type\":\"scattergl\",\"marker\":{\"colorbar\":{\"outlinewidth\":0,\"ticks\":\"\"}}}],\"scatter3d\":[{\"type\":\"scatter3d\",\"line\":{\"colorbar\":{\"outlinewidth\":0,\"ticks\":\"\"}},\"marker\":{\"colorbar\":{\"outlinewidth\":0,\"ticks\":\"\"}}}],\"scattermapbox\":[{\"type\":\"scattermapbox\",\"marker\":{\"colorbar\":{\"outlinewidth\":0,\"ticks\":\"\"}}}],\"scatterternary\":[{\"type\":\"scatterternary\",\"marker\":{\"colorbar\":{\"outlinewidth\":0,\"ticks\":\"\"}}}],\"scattercarpet\":[{\"type\":\"scattercarpet\",\"marker\":{\"colorbar\":{\"outlinewidth\":0,\"ticks\":\"\"}}}],\"carpet\":[{\"aaxis\":{\"endlinecolor\":\"#2a3f5f\",\"gridcolor\":\"white\",\"linecolor\":\"white\",\"minorgridcolor\":\"white\",\"startlinecolor\":\"#2a3f5f\"},\"baxis\":{\"endlinecolor\":\"#2a3f5f\",\"gridcolor\":\"white\",\"linecolor\":\"white\",\"minorgridcolor\":\"white\",\"startlinecolor\":\"#2a3f5f\"},\"type\":\"carpet\"}],\"table\":[{\"cells\":{\"fill\":{\"color\":\"#EBF0F8\"},\"line\":{\"color\":\"white\"}},\"header\":{\"fill\":{\"color\":\"#C8D4E3\"},\"line\":{\"color\":\"white\"}},\"type\":\"table\"}],\"barpolar\":[{\"marker\":{\"line\":{\"color\":\"#E5ECF6\",\"width\":0.5},\"pattern\":{\"fillmode\":\"overlay\",\"size\":10,\"solidity\":0.2}},\"type\":\"barpolar\"}],\"pie\":[{\"automargin\":true,\"type\":\"pie\"}]},\"layout\":{\"autotypenumbers\":\"strict\",\"colorway\":[\"#636efa\",\"#EF553B\",\"#00cc96\",\"#ab63fa\",\"#FFA15A\",\"#19d3f3\",\"#FF6692\",\"#B6E880\",\"#FF97FF\",\"#FECB52\"],\"font\":{\"color\":\"#2a3f5f\"},\"hovermode\":\"closest\",\"hoverlabel\":{\"align\":\"left\"},\"paper_bgcolor\":\"white\",\"plot_bgcolor\":\"#E5ECF6\",\"polar\":{\"bgcolor\":\"#E5ECF6\",\"angularaxis\":{\"gridcolor\":\"white\",\"linecolor\":\"white\",\"ticks\":\"\"},\"radialaxis\":{\"gridcolor\":\"white\",\"linecolor\":\"white\",\"ticks\":\"\"}},\"ternary\":{\"bgcolor\":\"#E5ECF6\",\"aaxis\":{\"gridcolor\":\"white\",\"linecolor\":\"white\",\"ticks\":\"\"},\"baxis\":{\"gridcolor\":\"white\",\"linecolor\":\"white\",\"ticks\":\"\"},\"caxis\":{\"gridcolor\":\"white\",\"linecolor\":\"white\",\"ticks\":\"\"}},\"coloraxis\":{\"colorbar\":{\"outlinewidth\":0,\"ticks\":\"\"}},\"colorscale\":{\"sequential\":[[0.0,\"#0d0887\"],[0.1111111111111111,\"#46039f\"],[0.2222222222222222,\"#7201a8\"],[0.3333333333333333,\"#9c179e\"],[0.4444444444444444,\"#bd3786\"],[0.5555555555555556,\"#d8576b\"],[0.6666666666666666,\"#ed7953\"],[0.7777777777777778,\"#fb9f3a\"],[0.8888888888888888,\"#fdca26\"],[1.0,\"#f0f921\"]],\"sequentialminus\":[[0.0,\"#0d0887\"],[0.1111111111111111,\"#46039f\"],[0.2222222222222222,\"#7201a8\"],[0.3333333333333333,\"#9c179e\"],[0.4444444444444444,\"#bd3786\"],[0.5555555555555556,\"#d8576b\"],[0.6666666666666666,\"#ed7953\"],[0.7777777777777778,\"#fb9f3a\"],[0.8888888888888888,\"#fdca26\"],[1.0,\"#f0f921\"]],\"diverging\":[[0,\"#8e0152\"],[0.1,\"#c51b7d\"],[0.2,\"#de77ae\"],[0.3,\"#f1b6da\"],[0.4,\"#fde0ef\"],[0.5,\"#f7f7f7\"],[0.6,\"#e6f5d0\"],[0.7,\"#b8e186\"],[0.8,\"#7fbc41\"],[0.9,\"#4d9221\"],[1,\"#276419\"]]},\"xaxis\":{\"gridcolor\":\"white\",\"linecolor\":\"white\",\"ticks\":\"\",\"title\":{\"standoff\":15},\"zerolinecolor\":\"white\",\"automargin\":true,\"zerolinewidth\":2},\"yaxis\":{\"gridcolor\":\"white\",\"linecolor\":\"white\",\"ticks\":\"\",\"title\":{\"standoff\":15},\"zerolinecolor\":\"white\",\"automargin\":true,\"zerolinewidth\":2},\"scene\":{\"xaxis\":{\"backgroundcolor\":\"#E5ECF6\",\"gridcolor\":\"white\",\"linecolor\":\"white\",\"showbackground\":true,\"ticks\":\"\",\"zerolinecolor\":\"white\",\"gridwidth\":2},\"yaxis\":{\"backgroundcolor\":\"#E5ECF6\",\"gridcolor\":\"white\",\"linecolor\":\"white\",\"showbackground\":true,\"ticks\":\"\",\"zerolinecolor\":\"white\",\"gridwidth\":2},\"zaxis\":{\"backgroundcolor\":\"#E5ECF6\",\"gridcolor\":\"white\",\"linecolor\":\"white\",\"showbackground\":true,\"ticks\":\"\",\"zerolinecolor\":\"white\",\"gridwidth\":2}},\"shapedefaults\":{\"line\":{\"color\":\"#2a3f5f\"}},\"annotationdefaults\":{\"arrowcolor\":\"#2a3f5f\",\"arrowhead\":0,\"arrowwidth\":1},\"geo\":{\"bgcolor\":\"white\",\"landcolor\":\"#E5ECF6\",\"subunitcolor\":\"white\",\"showland\":true,\"showlakes\":true,\"lakecolor\":\"white\"},\"title\":{\"x\":0.05},\"mapbox\":{\"style\":\"light\"}}},\"geo\":{\"domain\":{\"x\":[0.0,1.0],\"y\":[0.0,1.0]},\"center\":{},\"scope\":\"europe\"},\"coloraxis\":{\"colorbar\":{\"title\":{\"text\":\"OBS_VALUE\"}},\"colorscale\":[[0.0,\"#0d0887\"],[0.1111111111111111,\"#46039f\"],[0.2222222222222222,\"#7201a8\"],[0.3333333333333333,\"#9c179e\"],[0.4444444444444444,\"#bd3786\"],[0.5555555555555556,\"#d8576b\"],[0.6666666666666666,\"#ed7953\"],[0.7777777777777778,\"#fb9f3a\"],[0.8888888888888888,\"#fdca26\"],[1.0,\"#f0f921\"]],\"cmin\":0.0,\"cmax\":49.1},\"legend\":{\"tracegroupgap\":0},\"margin\":{\"t\":60},\"height\":600,\"updatemenus\":[{\"buttons\":[{\"args\":[null,{\"frame\":{\"duration\":500,\"redraw\":true},\"mode\":\"immediate\",\"fromcurrent\":true,\"transition\":{\"duration\":500,\"easing\":\"linear\"}}],\"label\":\"&#9654;\",\"method\":\"animate\"},{\"args\":[[null],{\"frame\":{\"duration\":0,\"redraw\":true},\"mode\":\"immediate\",\"fromcurrent\":true,\"transition\":{\"duration\":0,\"easing\":\"linear\"}}],\"label\":\"&#9724;\",\"method\":\"animate\"}],\"direction\":\"left\",\"pad\":{\"r\":10,\"t\":70},\"showactive\":false,\"type\":\"buttons\",\"x\":0.1,\"xanchor\":\"right\",\"y\":0,\"yanchor\":\"top\"}],\"sliders\":[{\"active\":0,\"currentvalue\":{\"prefix\":\"TIME_PERIOD=\"},\"len\":0.9,\"pad\":{\"b\":10,\"t\":60},\"steps\":[{\"args\":[[\"2000\"],{\"frame\":{\"duration\":0,\"redraw\":true},\"mode\":\"immediate\",\"fromcurrent\":true,\"transition\":{\"duration\":0,\"easing\":\"linear\"}}],\"label\":\"2000\",\"method\":\"animate\"},{\"args\":[[\"2004\"],{\"frame\":{\"duration\":0,\"redraw\":true},\"mode\":\"immediate\",\"fromcurrent\":true,\"transition\":{\"duration\":0,\"easing\":\"linear\"}}],\"label\":\"2004\",\"method\":\"animate\"},{\"args\":[[\"2008\"],{\"frame\":{\"duration\":0,\"redraw\":true},\"mode\":\"immediate\",\"fromcurrent\":true,\"transition\":{\"duration\":0,\"easing\":\"linear\"}}],\"label\":\"2008\",\"method\":\"animate\"},{\"args\":[[\"2012\"],{\"frame\":{\"duration\":0,\"redraw\":true},\"mode\":\"immediate\",\"fromcurrent\":true,\"transition\":{\"duration\":0,\"easing\":\"linear\"}}],\"label\":\"2012\",\"method\":\"animate\"},{\"args\":[[\"2016\"],{\"frame\":{\"duration\":0,\"redraw\":true},\"mode\":\"immediate\",\"fromcurrent\":true,\"transition\":{\"duration\":0,\"easing\":\"linear\"}}],\"label\":\"2016\",\"method\":\"animate\"},{\"args\":[[\"2020\"],{\"frame\":{\"duration\":0,\"redraw\":true},\"mode\":\"immediate\",\"fromcurrent\":true,\"transition\":{\"duration\":0,\"easing\":\"linear\"}}],\"label\":\"2020\",\"method\":\"animate\"},{\"args\":[[\"2021\"],{\"frame\":{\"duration\":0,\"redraw\":true},\"mode\":\"immediate\",\"fromcurrent\":true,\"transition\":{\"duration\":0,\"easing\":\"linear\"}}],\"label\":\"2021\",\"method\":\"animate\"},{\"args\":[[\"2022\"],{\"frame\":{\"duration\":0,\"redraw\":true},\"mode\":\"immediate\",\"fromcurrent\":true,\"transition\":{\"duration\":0,\"easing\":\"linear\"}}],\"label\":\"2022\",\"method\":\"animate\"}],\"x\":0.1,\"xanchor\":\"left\",\"y\":0,\"yanchor\":\"top\"}],\"title\":{\"text\":\"Labour cost for LCI (compensation of employees plus taxes minus subsidies)\"}},                        {\"responsive\": true}                    ).then(function(){\n",
       "                            Plotly.addFrames('632eccb4-ec92-4b8d-8379-60deb3de0410', [{\"data\":[{\"coloraxis\":\"coloraxis\",\"geo\":\"geo\",\"hovertemplate\":\"TIME_PERIOD=2000<br>iso3=%{location}<br>OBS_VALUE=%{z}<extra></extra>\",\"locations\":[\"LTU\",\"IRL\",\"PRT\",\"DNK\",\"ESP\",\"DEU\",\"LVA\",\"SWE\",\"CZE\",\"ISL\",\"SVN\",\"HUN\",\"FIN\",\"LUX\",\"BGR\",\"SVK\",\"EST\",\"GBR\",\"ITA\",\"FRA\",\"AUT\",\"NLD\",\"BEL\"],\"name\":\"\",\"z\":[2.4,16.6,6.9,24.7,12.0,20.1,1.4,25.7,3.6,25.5,7.6,2.9,20.8,16.6,1.1,3.0,2.7,22.4,16.0,20.4,21.1,23.2,23.8],\"type\":\"choropleth\"}],\"name\":\"2000\"},{\"data\":[{\"coloraxis\":\"coloraxis\",\"geo\":\"geo\",\"hovertemplate\":\"TIME_PERIOD=2004<br>iso3=%{location}<br>OBS_VALUE=%{z}<extra></extra>\",\"locations\":[\"GBR\",\"DEU\",\"MLT\",\"IRL\",\"SWE\",\"ESP\",\"AUT\",\"DNK\",\"HRV\",\"LVA\",\"EST\",\"LTU\",\"ROU\",\"HUN\",\"SVN\",\"SVK\",\"CZE\",\"FRA\",\"POL\",\"ISL\",\"NLD\",\"BGR\",\"PRT\",\"FIN\",\"ITA\",\"LUX\",\"BEL\"],\"name\":\"\",\"z\":[22.5,21.2,7.5,26.0,27.4,14.2,24.6,28.7,6.3,2.3,4.6,3.0,1.5,4.4,9.2,3.8,5.4,24.7,3.9,28.8,27.5,1.3,8.2,22.7,20.5,19.0,28.9],\"type\":\"choropleth\"}],\"name\":\"2004\"},{\"data\":[{\"coloraxis\":\"coloraxis\",\"geo\":\"geo\",\"hovertemplate\":\"TIME_PERIOD=2008<br>iso3=%{location}<br>OBS_VALUE=%{z}<extra></extra>\",\"locations\":[\"EST\",\"NLD\",\"POL\",\"HRV\",\"FRA\",\"HUN\",\"ESP\",\"FIN\",\"DEU\",\"LVA\",\"GBR\",\"AUT\",\"LTU\",\"ITA\",\"BEL\",\"SVK\",\"BGR\",\"PRT\",\"SVN\",\"ISL\",\"MLT\",\"CZE\",\"DNK\",\"ROU\",\"SWE\",\"IRL\",\"LUX\"],\"name\":\"\",\"z\":[9.0,30.3,7.1,8.0,28.0,6.2,17.9,28.3,22.7,5.6,24.8,26.5,6.6,22.0,28.6,6.7,2.0,9.7,11.2,21.6,8.5,8.7,33.2,3.5,31.2,27.7,22.0],\"type\":\"choropleth\"}],\"name\":\"2008\"},{\"data\":[{\"coloraxis\":\"coloraxis\",\"geo\":\"geo\",\"hovertemplate\":\"TIME_PERIOD=2012<br>iso3=%{location}<br>OBS_VALUE=%{z}<extra></extra>\",\"locations\":[\"MKD\",\"HRV\",\"GBR\",\"LUX\",\"ITA\",\"LTU\",\"HUN\",\"MNE\",\"LVA\",\"IRL\",\"ISL\",\"ALB\",\"SRB\",\"AUT\",\"TUR\",\"BIH\",\"BEL\",\"SVK\",\"BGR\",\"SVN\",\"CHE\",\"SWE\",\"CZE\",\"MLT\",\"DEU\",\"ROU\",\"DNK\",\"POL\",\"PRT\",\"FRA\",\"EST\",\"NLD\",\"ESP\",\"FIN\",\"NOR\"],\"name\":\"\",\"z\":[3.1,8.2,25.0,24.8,23.5,5.5,6.4,4.1,5.5,26.4,24.6,2.0,4.7,28.4,4.3,3.7,33.4,8.4,3.0,11.9,43.8,38.3,9.3,9.4,25.1,3.3,36.4,6.8,11.6,30.3,10.0,33.7,20.9,31.7,49.1],\"type\":\"choropleth\"}],\"name\":\"2012\"},{\"data\":[{\"coloraxis\":\"coloraxis\",\"geo\":\"geo\",\"hovertemplate\":\"TIME_PERIOD=2016<br>iso3=%{location}<br>OBS_VALUE=%{z}<extra></extra>\",\"locations\":[\"TUR\",\"MKD\",\"SVK\",\"LTU\",\"MNE\",\"SVN\",\"PRT\",\"NOR\",\"SWE\",\"POL\",\"SRB\",\"LUX\",\"LVA\",\"ROU\",\"NLD\",\"MLT\",\"GBR\",\"FRA\",\"CZE\",\"FIN\",\"CHE\",\"BGR\",\"HRV\",\"ESP\",\"DEU\",\"BEL\",\"HUN\",\"BIH\",\"IRL\",\"EST\",\"ISL\",\"ALB\",\"AUT\",\"ITA\",\"DNK\"],\"name\":\"\",\"z\":[4.8,3.6,9.0,7.2,4.3,13.2,9.7,41.4,37.4,8.1,4.3,26.1,8.0,4.0,35.6,11.0,26.9,31.1,9.6,34.0,48.1,3.6,8.4,20.3,26.7,34.8,6.4,3.7,25.7,11.8,38.0,2.4,33.1,23.5,38.7],\"type\":\"choropleth\"}],\"name\":\"2016\"},{\"data\":[{\"coloraxis\":\"coloraxis\",\"geo\":\"geo\",\"hovertemplate\":\"TIME_PERIOD=2020<br>iso3=%{location}<br>OBS_VALUE=%{z}<extra></extra>\",\"locations\":[\"FIN\",\"SWE\",\"NLD\",\"CYP\",\"DNK\",\"POL\",\"ITA\",\"ESP\",\"NOR\",\"CZE\",\"EST\",\"ROU\",\"BGR\",\"PRT\",\"LUX\",\"DEU\",\"IRL\",\"SVK\",\"TUR\",\"HUN\",\"LVA\",\"MLT\",\"BEL\",\"AUT\",\"HRV\",\"SVN\",\"LTU\",\"FRA\",\"ISL\",\"SRB\"],\"name\":\"\",\"z\":[34.9,36.9,39.4,14.5,41.3,9.5,24.1,20.6,41.0,12.8,14.7,6.3,5.3,11.3,30.4,31.2,27.5,11.3,2.2,8.2,11.3,14.9,36.0,36.3,9.7,16.8,9.3,35.2,42.4,6.3],\"type\":\"choropleth\"}],\"name\":\"2020\"},{\"data\":[{\"coloraxis\":\"coloraxis\",\"geo\":\"geo\",\"hovertemplate\":\"TIME_PERIOD=2021<br>iso3=%{location}<br>OBS_VALUE=%{z}<extra></extra>\",\"locations\":[\"ROU\",\"ITA\",\"SRB\",\"CYP\",\"SWE\",\"BGR\",\"SVN\",\"BEL\",\"SVK\",\"AUT\",\"TUR\",\"CZE\",\"DEU\",\"ISL\",\"ESP\",\"NLD\",\"HUN\",\"LVA\",\"HRV\",\"NOR\",\"LUX\",\"IRL\",\"FIN\",\"MLT\",\"FRA\",\"POL\",\"LTU\",\"DNK\",\"PRT\",\"EST\"],\"name\":\"\",\"z\":[6.4,24.1,7.1,15.5,39.7,5.8,18.0,36.4,12.0,36.5,2.0,13.7,32.4,40.4,20.6,38.7,8.6,11.2,10.0,44.6,30.8,28.6,36.4,15.4,35.2,9.9,10.5,43.1,12.0,15.7],\"type\":\"choropleth\"}],\"name\":\"2021\"},{\"data\":[{\"coloraxis\":\"coloraxis\",\"geo\":\"geo\",\"hovertemplate\":\"TIME_PERIOD=2022<br>iso3=%{location}<br>OBS_VALUE=%{z}<extra></extra>\",\"locations\":[\"HUN\",\"HRV\",\"LVA\",\"DEU\",\"SVK\",\"AUT\",\"IRL\",\"TUR\",\"LTU\",\"ISL\",\"LUX\",\"BEL\",\"MLT\",\"FRA\",\"DNK\",\"ITA\",\"ROU\",\"CZE\",\"EST\",\"NOR\",\"SVN\",\"SRB\",\"NLD\",\"ESP\",\"SWE\",\"FIN\",\"BGR\",\"PRT\",\"CYP\",\"POL\"],\"name\":\"\",\"z\":[9.0,11.0,11.8,34.8,13.5,38.5,35.4,2.1,11.6,46.1,32.4,38.5,15.9,36.2,43.7,24.9,7.2,15.4,16.5,46.5,19.3,8.4,40.6,21.4,39.7,37.3,6.5,12.7,16.1,10.7],\"type\":\"choropleth\"}],\"name\":\"2022\"}]);\n",
       "                        }).then(function(){\n",
       "                            \n",
       "var gd = document.getElementById('632eccb4-ec92-4b8d-8379-60deb3de0410');\n",
       "var x = new MutationObserver(function (mutations, observer) {{\n",
       "        var display = window.getComputedStyle(gd).display;\n",
       "        if (!display || display === 'none') {{\n",
       "            console.log([gd, 'removed!']);\n",
       "            Plotly.purge(gd);\n",
       "            observer.disconnect();\n",
       "        }}\n",
       "}});\n",
       "\n",
       "// Listen for the removal of the full notebook cells\n",
       "var notebookContainer = gd.closest('#notebook-container');\n",
       "if (notebookContainer) {{\n",
       "    x.observe(notebookContainer, {childList: true});\n",
       "}}\n",
       "\n",
       "// Listen for the clearing of the current output cell\n",
       "var outputEl = gd.closest('.output');\n",
       "if (outputEl) {{\n",
       "    x.observe(outputEl, {childList: true});\n",
       "}}\n",
       "\n",
       "                        })                };                });            </script>        </div>"
      ]
     },
     "metadata": {},
     "output_type": "display_data"
    }
   ],
   "source": [
    "fig = px.choropleth(comp_taxes, \n",
    "                    locations=\"iso3\", \n",
    "                    #locationmode=\"country names\", \n",
    "                    color=\"OBS_VALUE\", \n",
    "                    animation_frame=\"TIME_PERIOD\", \n",
    "                    color_continuous_scale=px.colors.sequential.Plasma, \n",
    "                    range_color=[eur_df['OBS_VALUE'].min(), eur_df['OBS_VALUE'].max()],\n",
    "                    scope='europe',\n",
    "                    height=600\n",
    "                   )\n",
    "\n",
    "fig.update_layout(\n",
    "    # add a title text for the plot\n",
    "    title_text = 'Labour cost for LCI (compensation of employees plus taxes minus subsidies)'\n",
    ")\n",
    "fig.show()"
   ]
  },
  {
   "cell_type": "code",
   "execution_count": 198,
   "id": "014d43d4",
   "metadata": {},
   "outputs": [
    {
     "data": {
      "application/vnd.plotly.v1+json": {
       "config": {
        "plotlyServerURL": "https://plot.ly"
       },
       "data": [
        {
         "coloraxis": "coloraxis",
         "geo": "geo",
         "hovertemplate": "TIME_PERIOD=2000<br>iso3=%{location}<br>OBS_VALUE=%{z}<extra></extra>",
         "locations": [
          "LTU",
          "IRL",
          "PRT",
          "DNK",
          "ESP",
          "DEU",
          "LVA",
          "SWE",
          "CZE",
          "ISL",
          "SVN",
          "HUN",
          "FIN",
          "LUX",
          "BGR",
          "SVK",
          "EST",
          "GBR",
          "ITA",
          "FRA",
          "AUT",
          "NLD",
          "BEL"
         ],
         "name": "",
         "type": "choropleth",
         "z": [
          0.7,
          2.8,
          1.3,
          1,
          3.2,
          3.8,
          0.3,
          8.2,
          1,
          3,
          1.3,
          0.9,
          4.5,
          2.4,
          0.3,
          0.8,
          0.7,
          3.8,
          4.9,
          5.9,
          4,
          5.4,
          9.7
         ]
        }
       ],
       "frames": [
        {
         "data": [
          {
           "coloraxis": "coloraxis",
           "geo": "geo",
           "hovertemplate": "TIME_PERIOD=2000<br>iso3=%{location}<br>OBS_VALUE=%{z}<extra></extra>",
           "locations": [
            "LTU",
            "IRL",
            "PRT",
            "DNK",
            "ESP",
            "DEU",
            "LVA",
            "SWE",
            "CZE",
            "ISL",
            "SVN",
            "HUN",
            "FIN",
            "LUX",
            "BGR",
            "SVK",
            "EST",
            "GBR",
            "ITA",
            "FRA",
            "AUT",
            "NLD",
            "BEL"
           ],
           "name": "",
           "type": "choropleth",
           "z": [
            0.7,
            2.8,
            1.3,
            1,
            3.2,
            3.8,
            0.3,
            8.2,
            1,
            3,
            1.3,
            0.9,
            4.5,
            2.4,
            0.3,
            0.8,
            0.7,
            3.8,
            4.9,
            5.9,
            4,
            5.4,
            9.7
           ]
          }
         ],
         "name": "2000"
        },
        {
         "data": [
          {
           "coloraxis": "coloraxis",
           "geo": "geo",
           "hovertemplate": "TIME_PERIOD=2004<br>iso3=%{location}<br>OBS_VALUE=%{z}<extra></extra>",
           "locations": [
            "GBR",
            "DEU",
            "MLT",
            "IRL",
            "SWE",
            "ESP",
            "AUT",
            "DNK",
            "HRV",
            "LVA",
            "EST",
            "LTU",
            "ROU",
            "HUN",
            "SVN",
            "SVK",
            "CZE",
            "FRA",
            "POL",
            "ISL",
            "NLD",
            "BGR",
            "PRT",
            "FIN",
            "ITA",
            "LUX",
            "BEL"
           ],
           "name": "",
           "type": "choropleth",
           "z": [
            3.6,
            4.2,
            0.6,
            3.7,
            8.7,
            4,
            5.3,
            2.3,
            1,
            0.5,
            1.2,
            0.9,
            0.4,
            1.3,
            1.7,
            0.9,
            1.5,
            7.3,
            0.8,
            4.1,
            6.3,
            0.3,
            1.7,
            4.8,
            6.3,
            3,
            11.8
           ]
          }
         ],
         "name": "2004"
        },
        {
         "data": [
          {
           "coloraxis": "coloraxis",
           "geo": "geo",
           "hovertemplate": "TIME_PERIOD=2008<br>iso3=%{location}<br>OBS_VALUE=%{z}<extra></extra>",
           "locations": [
            "EST",
            "NLD",
            "POL",
            "HRV",
            "FRA",
            "HUN",
            "ESP",
            "FIN",
            "DEU",
            "LVA",
            "GBR",
            "AUT",
            "LTU",
            "ITA",
            "BEL",
            "SVK",
            "BGR",
            "PRT",
            "SVN",
            "ISL",
            "MLT",
            "CZE",
            "DNK",
            "ROU",
            "SWE",
            "IRL",
            "LUX"
           ],
           "name": "",
           "type": "choropleth",
           "z": [
            2.4,
            7,
            1.2,
            1.2,
            8.4,
            1.7,
            5.2,
            6.3,
            5,
            1.2,
            3.4,
            7.2,
            1.9,
            6.6,
            10.6,
            1.6,
            0.4,
            2,
            1.8,
            3.3,
            0.8,
            2.3,
            3.9,
            0.8,
            9.7,
            4.3,
            3.1
           ]
          }
         ],
         "name": "2008"
        },
        {
         "data": [
          {
           "coloraxis": "coloraxis",
           "geo": "geo",
           "hovertemplate": "TIME_PERIOD=2012<br>iso3=%{location}<br>OBS_VALUE=%{z}<extra></extra>",
           "locations": [
            "MKD",
            "HRV",
            "GBR",
            "LUX",
            "ITA",
            "LTU",
            "HUN",
            "MNE",
            "LVA",
            "IRL",
            "ISL",
            "ALB",
            "SRB",
            "AUT",
            "TUR",
            "BIH",
            "BEL",
            "SVK",
            "BGR",
            "SVN",
            "CHE",
            "SWE",
            "CZE",
            "MLT",
            "DEU",
            "ROU",
            "DNK",
            "POL",
            "PRT",
            "FRA",
            "EST",
            "NLD",
            "ESP",
            "FIN",
            "NOR"
           ],
           "name": "",
           "type": "choropleth",
           "z": [
            0.3,
            1.4,
            3.6,
            3.7,
            6.8,
            1.7,
            1.4,
            0.7,
            1.1,
            3.1,
            4.4,
            0.4,
            0.7,
            7.3,
            0.7,
            0.3,
            13.1,
            2.2,
            0.5,
            1.8,
            9,
            12,
            2.5,
            0.9,
            5.5,
            0.7,
            4.3,
            1.2,
            2.4,
            9.4,
            2.7,
            8.1,
            6.1,
            6.9,
            8.5
           ]
          }
         ],
         "name": "2012"
        },
        {
         "data": [
          {
           "coloraxis": "coloraxis",
           "geo": "geo",
           "hovertemplate": "TIME_PERIOD=2016<br>iso3=%{location}<br>OBS_VALUE=%{z}<extra></extra>",
           "locations": [
            "TUR",
            "MKD",
            "SVK",
            "LTU",
            "MNE",
            "SVN",
            "PRT",
            "NOR",
            "SWE",
            "POL",
            "SRB",
            "LUX",
            "LVA",
            "ROU",
            "NLD",
            "MLT",
            "GBR",
            "FRA",
            "CZE",
            "FIN",
            "CHE",
            "BGR",
            "HRV",
            "ESP",
            "DEU",
            "BEL",
            "HUN",
            "BIH",
            "IRL",
            "EST",
            "ISL",
            "ALB",
            "AUT",
            "ITA",
            "DNK"
           ],
           "name": "",
           "type": "choropleth",
           "z": [
            0.8,
            0,
            2.3,
            2.2,
            0.6,
            2,
            2.1,
            6.9,
            11.6,
            1.5,
            0.7,
            3.4,
            1.6,
            0.8,
            8.8,
            1,
            4.2,
            9.2,
            2.6,
            7.6,
            9.4,
            0.6,
            1.3,
            5.7,
            5.9,
            10.9,
            1.6,
            0.3,
            2.9,
            3.1,
            6.5,
            0.4,
            9.8,
            6.9,
            4.6
           ]
          }
         ],
         "name": "2016"
        },
        {
         "data": [
          {
           "coloraxis": "coloraxis",
           "geo": "geo",
           "hovertemplate": "TIME_PERIOD=2020<br>iso3=%{location}<br>OBS_VALUE=%{z}<extra></extra>",
           "locations": [
            "FIN",
            "SWE",
            "NLD",
            "CYP",
            "DNK",
            "POL",
            "ITA",
            "ESP",
            "NOR",
            "CZE",
            "EST",
            "ROU",
            "BGR",
            "PRT",
            "LUX",
            "DEU",
            "IRL",
            "SVK",
            "TUR",
            "HUN",
            "LVA",
            "MLT",
            "BEL",
            "AUT",
            "HRV",
            "SVN",
            "LTU",
            "FRA",
            "ISL",
            "SRB"
           ],
           "name": "",
           "type": "choropleth",
           "z": [
            6.6,
            11.2,
            9.3,
            2.4,
            4.3,
            1.6,
            7.4,
            5.9,
            6.8,
            3.4,
            3.7,
            0.3,
            0.8,
            2.5,
            4.2,
            6.9,
            1.5,
            2.8,
            0.4,
            1.3,
            2.4,
            0.7,
            10.8,
            11.4,
            1.3,
            2.1,
            0.3,
            10.1,
            8.2,
            0.7
           ]
          }
         ],
         "name": "2020"
        },
        {
         "data": [
          {
           "coloraxis": "coloraxis",
           "geo": "geo",
           "hovertemplate": "TIME_PERIOD=2021<br>iso3=%{location}<br>OBS_VALUE=%{z}<extra></extra>",
           "locations": [
            "ROU",
            "ITA",
            "SRB",
            "CYP",
            "SWE",
            "BGR",
            "SVN",
            "BEL",
            "SVK",
            "AUT",
            "TUR",
            "CZE",
            "DEU",
            "ISL",
            "ESP",
            "NLD",
            "HUN",
            "LVA",
            "HRV",
            "NOR",
            "LUX",
            "IRL",
            "FIN",
            "MLT",
            "FRA",
            "POL",
            "LTU",
            "DNK",
            "PRT",
            "EST"
           ],
           "name": "",
           "type": "choropleth",
           "z": [
            0.3,
            7.3,
            1.3,
            2.9,
            12.6,
            0.8,
            2.4,
            10.9,
            2.9,
            11.6,
            0.3,
            3.8,
            7.3,
            7.6,
            6,
            9.3,
            1.3,
            2.3,
            1.4,
            7.4,
            4,
            0.6,
            6.5,
            0.7,
            9.9,
            1.7,
            0.5,
            4.5,
            2.7,
            3.9
           ]
          }
         ],
         "name": "2021"
        },
        {
         "data": [
          {
           "coloraxis": "coloraxis",
           "geo": "geo",
           "hovertemplate": "TIME_PERIOD=2022<br>iso3=%{location}<br>OBS_VALUE=%{z}<extra></extra>",
           "locations": [
            "HUN",
            "HRV",
            "LVA",
            "DEU",
            "SVK",
            "AUT",
            "IRL",
            "TUR",
            "LTU",
            "ISL",
            "LUX",
            "BEL",
            "MLT",
            "FRA",
            "DNK",
            "ITA",
            "ROU",
            "CZE",
            "EST",
            "NOR",
            "SVN",
            "SRB",
            "NLD",
            "ESP",
            "SWE",
            "FIN",
            "BGR",
            "PRT",
            "CYP",
            "POL"
           ],
           "name": "",
           "type": "choropleth",
           "z": [
            1.2,
            1.5,
            2.5,
            8.2,
            3.6,
            12.3,
            8.6,
            0.4,
            0.6,
            8.8,
            4.2,
            11.5,
            1,
            10,
            4.6,
            7.5,
            0.3,
            4.2,
            4.2,
            7.7,
            2.6,
            1.7,
            10.1,
            6.1,
            12.8,
            6.8,
            0.9,
            2.9,
            3,
            1.8
           ]
          }
         ],
         "name": "2022"
        }
       ],
       "layout": {
        "coloraxis": {
         "cmax": 49.1,
         "cmin": 0,
         "colorbar": {
          "title": {
           "text": "OBS_VALUE"
          }
         },
         "colorscale": [
          [
           0,
           "#0d0887"
          ],
          [
           0.1111111111111111,
           "#46039f"
          ],
          [
           0.2222222222222222,
           "#7201a8"
          ],
          [
           0.3333333333333333,
           "#9c179e"
          ],
          [
           0.4444444444444444,
           "#bd3786"
          ],
          [
           0.5555555555555556,
           "#d8576b"
          ],
          [
           0.6666666666666666,
           "#ed7953"
          ],
          [
           0.7777777777777778,
           "#fb9f3a"
          ],
          [
           0.8888888888888888,
           "#fdca26"
          ],
          [
           1,
           "#f0f921"
          ]
         ]
        },
        "geo": {
         "center": {},
         "domain": {
          "x": [
           0,
           1
          ],
          "y": [
           0,
           1
          ]
         },
         "scope": "europe"
        },
        "height": 600,
        "legend": {
         "tracegroupgap": 0
        },
        "margin": {
         "t": 60
        },
        "sliders": [
         {
          "active": 0,
          "currentvalue": {
           "prefix": "TIME_PERIOD="
          },
          "len": 0.9,
          "pad": {
           "b": 10,
           "t": 60
          },
          "steps": [
           {
            "args": [
             [
              "2000"
             ],
             {
              "frame": {
               "duration": 0,
               "redraw": true
              },
              "fromcurrent": true,
              "mode": "immediate",
              "transition": {
               "duration": 0,
               "easing": "linear"
              }
             }
            ],
            "label": "2000",
            "method": "animate"
           },
           {
            "args": [
             [
              "2004"
             ],
             {
              "frame": {
               "duration": 0,
               "redraw": true
              },
              "fromcurrent": true,
              "mode": "immediate",
              "transition": {
               "duration": 0,
               "easing": "linear"
              }
             }
            ],
            "label": "2004",
            "method": "animate"
           },
           {
            "args": [
             [
              "2008"
             ],
             {
              "frame": {
               "duration": 0,
               "redraw": true
              },
              "fromcurrent": true,
              "mode": "immediate",
              "transition": {
               "duration": 0,
               "easing": "linear"
              }
             }
            ],
            "label": "2008",
            "method": "animate"
           },
           {
            "args": [
             [
              "2012"
             ],
             {
              "frame": {
               "duration": 0,
               "redraw": true
              },
              "fromcurrent": true,
              "mode": "immediate",
              "transition": {
               "duration": 0,
               "easing": "linear"
              }
             }
            ],
            "label": "2012",
            "method": "animate"
           },
           {
            "args": [
             [
              "2016"
             ],
             {
              "frame": {
               "duration": 0,
               "redraw": true
              },
              "fromcurrent": true,
              "mode": "immediate",
              "transition": {
               "duration": 0,
               "easing": "linear"
              }
             }
            ],
            "label": "2016",
            "method": "animate"
           },
           {
            "args": [
             [
              "2020"
             ],
             {
              "frame": {
               "duration": 0,
               "redraw": true
              },
              "fromcurrent": true,
              "mode": "immediate",
              "transition": {
               "duration": 0,
               "easing": "linear"
              }
             }
            ],
            "label": "2020",
            "method": "animate"
           },
           {
            "args": [
             [
              "2021"
             ],
             {
              "frame": {
               "duration": 0,
               "redraw": true
              },
              "fromcurrent": true,
              "mode": "immediate",
              "transition": {
               "duration": 0,
               "easing": "linear"
              }
             }
            ],
            "label": "2021",
            "method": "animate"
           },
           {
            "args": [
             [
              "2022"
             ],
             {
              "frame": {
               "duration": 0,
               "redraw": true
              },
              "fromcurrent": true,
              "mode": "immediate",
              "transition": {
               "duration": 0,
               "easing": "linear"
              }
             }
            ],
            "label": "2022",
            "method": "animate"
           }
          ],
          "x": 0.1,
          "xanchor": "left",
          "y": 0,
          "yanchor": "top"
         }
        ],
        "template": {
         "data": {
          "bar": [
           {
            "error_x": {
             "color": "#2a3f5f"
            },
            "error_y": {
             "color": "#2a3f5f"
            },
            "marker": {
             "line": {
              "color": "#E5ECF6",
              "width": 0.5
             },
             "pattern": {
              "fillmode": "overlay",
              "size": 10,
              "solidity": 0.2
             }
            },
            "type": "bar"
           }
          ],
          "barpolar": [
           {
            "marker": {
             "line": {
              "color": "#E5ECF6",
              "width": 0.5
             },
             "pattern": {
              "fillmode": "overlay",
              "size": 10,
              "solidity": 0.2
             }
            },
            "type": "barpolar"
           }
          ],
          "carpet": [
           {
            "aaxis": {
             "endlinecolor": "#2a3f5f",
             "gridcolor": "white",
             "linecolor": "white",
             "minorgridcolor": "white",
             "startlinecolor": "#2a3f5f"
            },
            "baxis": {
             "endlinecolor": "#2a3f5f",
             "gridcolor": "white",
             "linecolor": "white",
             "minorgridcolor": "white",
             "startlinecolor": "#2a3f5f"
            },
            "type": "carpet"
           }
          ],
          "choropleth": [
           {
            "colorbar": {
             "outlinewidth": 0,
             "ticks": ""
            },
            "type": "choropleth"
           }
          ],
          "contour": [
           {
            "colorbar": {
             "outlinewidth": 0,
             "ticks": ""
            },
            "colorscale": [
             [
              0,
              "#0d0887"
             ],
             [
              0.1111111111111111,
              "#46039f"
             ],
             [
              0.2222222222222222,
              "#7201a8"
             ],
             [
              0.3333333333333333,
              "#9c179e"
             ],
             [
              0.4444444444444444,
              "#bd3786"
             ],
             [
              0.5555555555555556,
              "#d8576b"
             ],
             [
              0.6666666666666666,
              "#ed7953"
             ],
             [
              0.7777777777777778,
              "#fb9f3a"
             ],
             [
              0.8888888888888888,
              "#fdca26"
             ],
             [
              1,
              "#f0f921"
             ]
            ],
            "type": "contour"
           }
          ],
          "contourcarpet": [
           {
            "colorbar": {
             "outlinewidth": 0,
             "ticks": ""
            },
            "type": "contourcarpet"
           }
          ],
          "heatmap": [
           {
            "colorbar": {
             "outlinewidth": 0,
             "ticks": ""
            },
            "colorscale": [
             [
              0,
              "#0d0887"
             ],
             [
              0.1111111111111111,
              "#46039f"
             ],
             [
              0.2222222222222222,
              "#7201a8"
             ],
             [
              0.3333333333333333,
              "#9c179e"
             ],
             [
              0.4444444444444444,
              "#bd3786"
             ],
             [
              0.5555555555555556,
              "#d8576b"
             ],
             [
              0.6666666666666666,
              "#ed7953"
             ],
             [
              0.7777777777777778,
              "#fb9f3a"
             ],
             [
              0.8888888888888888,
              "#fdca26"
             ],
             [
              1,
              "#f0f921"
             ]
            ],
            "type": "heatmap"
           }
          ],
          "heatmapgl": [
           {
            "colorbar": {
             "outlinewidth": 0,
             "ticks": ""
            },
            "colorscale": [
             [
              0,
              "#0d0887"
             ],
             [
              0.1111111111111111,
              "#46039f"
             ],
             [
              0.2222222222222222,
              "#7201a8"
             ],
             [
              0.3333333333333333,
              "#9c179e"
             ],
             [
              0.4444444444444444,
              "#bd3786"
             ],
             [
              0.5555555555555556,
              "#d8576b"
             ],
             [
              0.6666666666666666,
              "#ed7953"
             ],
             [
              0.7777777777777778,
              "#fb9f3a"
             ],
             [
              0.8888888888888888,
              "#fdca26"
             ],
             [
              1,
              "#f0f921"
             ]
            ],
            "type": "heatmapgl"
           }
          ],
          "histogram": [
           {
            "marker": {
             "pattern": {
              "fillmode": "overlay",
              "size": 10,
              "solidity": 0.2
             }
            },
            "type": "histogram"
           }
          ],
          "histogram2d": [
           {
            "colorbar": {
             "outlinewidth": 0,
             "ticks": ""
            },
            "colorscale": [
             [
              0,
              "#0d0887"
             ],
             [
              0.1111111111111111,
              "#46039f"
             ],
             [
              0.2222222222222222,
              "#7201a8"
             ],
             [
              0.3333333333333333,
              "#9c179e"
             ],
             [
              0.4444444444444444,
              "#bd3786"
             ],
             [
              0.5555555555555556,
              "#d8576b"
             ],
             [
              0.6666666666666666,
              "#ed7953"
             ],
             [
              0.7777777777777778,
              "#fb9f3a"
             ],
             [
              0.8888888888888888,
              "#fdca26"
             ],
             [
              1,
              "#f0f921"
             ]
            ],
            "type": "histogram2d"
           }
          ],
          "histogram2dcontour": [
           {
            "colorbar": {
             "outlinewidth": 0,
             "ticks": ""
            },
            "colorscale": [
             [
              0,
              "#0d0887"
             ],
             [
              0.1111111111111111,
              "#46039f"
             ],
             [
              0.2222222222222222,
              "#7201a8"
             ],
             [
              0.3333333333333333,
              "#9c179e"
             ],
             [
              0.4444444444444444,
              "#bd3786"
             ],
             [
              0.5555555555555556,
              "#d8576b"
             ],
             [
              0.6666666666666666,
              "#ed7953"
             ],
             [
              0.7777777777777778,
              "#fb9f3a"
             ],
             [
              0.8888888888888888,
              "#fdca26"
             ],
             [
              1,
              "#f0f921"
             ]
            ],
            "type": "histogram2dcontour"
           }
          ],
          "mesh3d": [
           {
            "colorbar": {
             "outlinewidth": 0,
             "ticks": ""
            },
            "type": "mesh3d"
           }
          ],
          "parcoords": [
           {
            "line": {
             "colorbar": {
              "outlinewidth": 0,
              "ticks": ""
             }
            },
            "type": "parcoords"
           }
          ],
          "pie": [
           {
            "automargin": true,
            "type": "pie"
           }
          ],
          "scatter": [
           {
            "fillpattern": {
             "fillmode": "overlay",
             "size": 10,
             "solidity": 0.2
            },
            "type": "scatter"
           }
          ],
          "scatter3d": [
           {
            "line": {
             "colorbar": {
              "outlinewidth": 0,
              "ticks": ""
             }
            },
            "marker": {
             "colorbar": {
              "outlinewidth": 0,
              "ticks": ""
             }
            },
            "type": "scatter3d"
           }
          ],
          "scattercarpet": [
           {
            "marker": {
             "colorbar": {
              "outlinewidth": 0,
              "ticks": ""
             }
            },
            "type": "scattercarpet"
           }
          ],
          "scattergeo": [
           {
            "marker": {
             "colorbar": {
              "outlinewidth": 0,
              "ticks": ""
             }
            },
            "type": "scattergeo"
           }
          ],
          "scattergl": [
           {
            "marker": {
             "colorbar": {
              "outlinewidth": 0,
              "ticks": ""
             }
            },
            "type": "scattergl"
           }
          ],
          "scattermapbox": [
           {
            "marker": {
             "colorbar": {
              "outlinewidth": 0,
              "ticks": ""
             }
            },
            "type": "scattermapbox"
           }
          ],
          "scatterpolar": [
           {
            "marker": {
             "colorbar": {
              "outlinewidth": 0,
              "ticks": ""
             }
            },
            "type": "scatterpolar"
           }
          ],
          "scatterpolargl": [
           {
            "marker": {
             "colorbar": {
              "outlinewidth": 0,
              "ticks": ""
             }
            },
            "type": "scatterpolargl"
           }
          ],
          "scatterternary": [
           {
            "marker": {
             "colorbar": {
              "outlinewidth": 0,
              "ticks": ""
             }
            },
            "type": "scatterternary"
           }
          ],
          "surface": [
           {
            "colorbar": {
             "outlinewidth": 0,
             "ticks": ""
            },
            "colorscale": [
             [
              0,
              "#0d0887"
             ],
             [
              0.1111111111111111,
              "#46039f"
             ],
             [
              0.2222222222222222,
              "#7201a8"
             ],
             [
              0.3333333333333333,
              "#9c179e"
             ],
             [
              0.4444444444444444,
              "#bd3786"
             ],
             [
              0.5555555555555556,
              "#d8576b"
             ],
             [
              0.6666666666666666,
              "#ed7953"
             ],
             [
              0.7777777777777778,
              "#fb9f3a"
             ],
             [
              0.8888888888888888,
              "#fdca26"
             ],
             [
              1,
              "#f0f921"
             ]
            ],
            "type": "surface"
           }
          ],
          "table": [
           {
            "cells": {
             "fill": {
              "color": "#EBF0F8"
             },
             "line": {
              "color": "white"
             }
            },
            "header": {
             "fill": {
              "color": "#C8D4E3"
             },
             "line": {
              "color": "white"
             }
            },
            "type": "table"
           }
          ]
         },
         "layout": {
          "annotationdefaults": {
           "arrowcolor": "#2a3f5f",
           "arrowhead": 0,
           "arrowwidth": 1
          },
          "autotypenumbers": "strict",
          "coloraxis": {
           "colorbar": {
            "outlinewidth": 0,
            "ticks": ""
           }
          },
          "colorscale": {
           "diverging": [
            [
             0,
             "#8e0152"
            ],
            [
             0.1,
             "#c51b7d"
            ],
            [
             0.2,
             "#de77ae"
            ],
            [
             0.3,
             "#f1b6da"
            ],
            [
             0.4,
             "#fde0ef"
            ],
            [
             0.5,
             "#f7f7f7"
            ],
            [
             0.6,
             "#e6f5d0"
            ],
            [
             0.7,
             "#b8e186"
            ],
            [
             0.8,
             "#7fbc41"
            ],
            [
             0.9,
             "#4d9221"
            ],
            [
             1,
             "#276419"
            ]
           ],
           "sequential": [
            [
             0,
             "#0d0887"
            ],
            [
             0.1111111111111111,
             "#46039f"
            ],
            [
             0.2222222222222222,
             "#7201a8"
            ],
            [
             0.3333333333333333,
             "#9c179e"
            ],
            [
             0.4444444444444444,
             "#bd3786"
            ],
            [
             0.5555555555555556,
             "#d8576b"
            ],
            [
             0.6666666666666666,
             "#ed7953"
            ],
            [
             0.7777777777777778,
             "#fb9f3a"
            ],
            [
             0.8888888888888888,
             "#fdca26"
            ],
            [
             1,
             "#f0f921"
            ]
           ],
           "sequentialminus": [
            [
             0,
             "#0d0887"
            ],
            [
             0.1111111111111111,
             "#46039f"
            ],
            [
             0.2222222222222222,
             "#7201a8"
            ],
            [
             0.3333333333333333,
             "#9c179e"
            ],
            [
             0.4444444444444444,
             "#bd3786"
            ],
            [
             0.5555555555555556,
             "#d8576b"
            ],
            [
             0.6666666666666666,
             "#ed7953"
            ],
            [
             0.7777777777777778,
             "#fb9f3a"
            ],
            [
             0.8888888888888888,
             "#fdca26"
            ],
            [
             1,
             "#f0f921"
            ]
           ]
          },
          "colorway": [
           "#636efa",
           "#EF553B",
           "#00cc96",
           "#ab63fa",
           "#FFA15A",
           "#19d3f3",
           "#FF6692",
           "#B6E880",
           "#FF97FF",
           "#FECB52"
          ],
          "font": {
           "color": "#2a3f5f"
          },
          "geo": {
           "bgcolor": "white",
           "lakecolor": "white",
           "landcolor": "#E5ECF6",
           "showlakes": true,
           "showland": true,
           "subunitcolor": "white"
          },
          "hoverlabel": {
           "align": "left"
          },
          "hovermode": "closest",
          "mapbox": {
           "style": "light"
          },
          "paper_bgcolor": "white",
          "plot_bgcolor": "#E5ECF6",
          "polar": {
           "angularaxis": {
            "gridcolor": "white",
            "linecolor": "white",
            "ticks": ""
           },
           "bgcolor": "#E5ECF6",
           "radialaxis": {
            "gridcolor": "white",
            "linecolor": "white",
            "ticks": ""
           }
          },
          "scene": {
           "xaxis": {
            "backgroundcolor": "#E5ECF6",
            "gridcolor": "white",
            "gridwidth": 2,
            "linecolor": "white",
            "showbackground": true,
            "ticks": "",
            "zerolinecolor": "white"
           },
           "yaxis": {
            "backgroundcolor": "#E5ECF6",
            "gridcolor": "white",
            "gridwidth": 2,
            "linecolor": "white",
            "showbackground": true,
            "ticks": "",
            "zerolinecolor": "white"
           },
           "zaxis": {
            "backgroundcolor": "#E5ECF6",
            "gridcolor": "white",
            "gridwidth": 2,
            "linecolor": "white",
            "showbackground": true,
            "ticks": "",
            "zerolinecolor": "white"
           }
          },
          "shapedefaults": {
           "line": {
            "color": "#2a3f5f"
           }
          },
          "ternary": {
           "aaxis": {
            "gridcolor": "white",
            "linecolor": "white",
            "ticks": ""
           },
           "baxis": {
            "gridcolor": "white",
            "linecolor": "white",
            "ticks": ""
           },
           "bgcolor": "#E5ECF6",
           "caxis": {
            "gridcolor": "white",
            "linecolor": "white",
            "ticks": ""
           }
          },
          "title": {
           "x": 0.05
          },
          "xaxis": {
           "automargin": true,
           "gridcolor": "white",
           "linecolor": "white",
           "ticks": "",
           "title": {
            "standoff": 15
           },
           "zerolinecolor": "white",
           "zerolinewidth": 2
          },
          "yaxis": {
           "automargin": true,
           "gridcolor": "white",
           "linecolor": "white",
           "ticks": "",
           "title": {
            "standoff": 15
           },
           "zerolinecolor": "white",
           "zerolinewidth": 2
          }
         }
        },
        "title": {
         "text": "Labour costs other than wages and salaries in construction"
        },
        "updatemenus": [
         {
          "buttons": [
           {
            "args": [
             null,
             {
              "frame": {
               "duration": 500,
               "redraw": true
              },
              "fromcurrent": true,
              "mode": "immediate",
              "transition": {
               "duration": 500,
               "easing": "linear"
              }
             }
            ],
            "label": "&#9654;",
            "method": "animate"
           },
           {
            "args": [
             [
              null
             ],
             {
              "frame": {
               "duration": 0,
               "redraw": true
              },
              "fromcurrent": true,
              "mode": "immediate",
              "transition": {
               "duration": 0,
               "easing": "linear"
              }
             }
            ],
            "label": "&#9724;",
            "method": "animate"
           }
          ],
          "direction": "left",
          "pad": {
           "r": 10,
           "t": 70
          },
          "showactive": false,
          "type": "buttons",
          "x": 0.1,
          "xanchor": "right",
          "y": 0,
          "yanchor": "top"
         }
        ]
       }
      },
      "text/html": [
       "<div>                            <div id=\"eac041d1-b447-4b72-a600-44406a4898fe\" class=\"plotly-graph-div\" style=\"height:600px; width:100%;\"></div>            <script type=\"text/javascript\">                require([\"plotly\"], function(Plotly) {                    window.PLOTLYENV=window.PLOTLYENV || {};                                    if (document.getElementById(\"eac041d1-b447-4b72-a600-44406a4898fe\")) {                    Plotly.newPlot(                        \"eac041d1-b447-4b72-a600-44406a4898fe\",                        [{\"coloraxis\":\"coloraxis\",\"geo\":\"geo\",\"hovertemplate\":\"TIME_PERIOD=2000<br>iso3=%{location}<br>OBS_VALUE=%{z}<extra></extra>\",\"locations\":[\"LTU\",\"IRL\",\"PRT\",\"DNK\",\"ESP\",\"DEU\",\"LVA\",\"SWE\",\"CZE\",\"ISL\",\"SVN\",\"HUN\",\"FIN\",\"LUX\",\"BGR\",\"SVK\",\"EST\",\"GBR\",\"ITA\",\"FRA\",\"AUT\",\"NLD\",\"BEL\"],\"name\":\"\",\"z\":[0.7,2.8,1.3,1.0,3.2,3.8,0.3,8.2,1.0,3.0,1.3,0.9,4.5,2.4,0.3,0.8,0.7,3.8,4.9,5.9,4.0,5.4,9.7],\"type\":\"choropleth\"}],                        {\"template\":{\"data\":{\"histogram2dcontour\":[{\"type\":\"histogram2dcontour\",\"colorbar\":{\"outlinewidth\":0,\"ticks\":\"\"},\"colorscale\":[[0.0,\"#0d0887\"],[0.1111111111111111,\"#46039f\"],[0.2222222222222222,\"#7201a8\"],[0.3333333333333333,\"#9c179e\"],[0.4444444444444444,\"#bd3786\"],[0.5555555555555556,\"#d8576b\"],[0.6666666666666666,\"#ed7953\"],[0.7777777777777778,\"#fb9f3a\"],[0.8888888888888888,\"#fdca26\"],[1.0,\"#f0f921\"]]}],\"choropleth\":[{\"type\":\"choropleth\",\"colorbar\":{\"outlinewidth\":0,\"ticks\":\"\"}}],\"histogram2d\":[{\"type\":\"histogram2d\",\"colorbar\":{\"outlinewidth\":0,\"ticks\":\"\"},\"colorscale\":[[0.0,\"#0d0887\"],[0.1111111111111111,\"#46039f\"],[0.2222222222222222,\"#7201a8\"],[0.3333333333333333,\"#9c179e\"],[0.4444444444444444,\"#bd3786\"],[0.5555555555555556,\"#d8576b\"],[0.6666666666666666,\"#ed7953\"],[0.7777777777777778,\"#fb9f3a\"],[0.8888888888888888,\"#fdca26\"],[1.0,\"#f0f921\"]]}],\"heatmap\":[{\"type\":\"heatmap\",\"colorbar\":{\"outlinewidth\":0,\"ticks\":\"\"},\"colorscale\":[[0.0,\"#0d0887\"],[0.1111111111111111,\"#46039f\"],[0.2222222222222222,\"#7201a8\"],[0.3333333333333333,\"#9c179e\"],[0.4444444444444444,\"#bd3786\"],[0.5555555555555556,\"#d8576b\"],[0.6666666666666666,\"#ed7953\"],[0.7777777777777778,\"#fb9f3a\"],[0.8888888888888888,\"#fdca26\"],[1.0,\"#f0f921\"]]}],\"heatmapgl\":[{\"type\":\"heatmapgl\",\"colorbar\":{\"outlinewidth\":0,\"ticks\":\"\"},\"colorscale\":[[0.0,\"#0d0887\"],[0.1111111111111111,\"#46039f\"],[0.2222222222222222,\"#7201a8\"],[0.3333333333333333,\"#9c179e\"],[0.4444444444444444,\"#bd3786\"],[0.5555555555555556,\"#d8576b\"],[0.6666666666666666,\"#ed7953\"],[0.7777777777777778,\"#fb9f3a\"],[0.8888888888888888,\"#fdca26\"],[1.0,\"#f0f921\"]]}],\"contourcarpet\":[{\"type\":\"contourcarpet\",\"colorbar\":{\"outlinewidth\":0,\"ticks\":\"\"}}],\"contour\":[{\"type\":\"contour\",\"colorbar\":{\"outlinewidth\":0,\"ticks\":\"\"},\"colorscale\":[[0.0,\"#0d0887\"],[0.1111111111111111,\"#46039f\"],[0.2222222222222222,\"#7201a8\"],[0.3333333333333333,\"#9c179e\"],[0.4444444444444444,\"#bd3786\"],[0.5555555555555556,\"#d8576b\"],[0.6666666666666666,\"#ed7953\"],[0.7777777777777778,\"#fb9f3a\"],[0.8888888888888888,\"#fdca26\"],[1.0,\"#f0f921\"]]}],\"surface\":[{\"type\":\"surface\",\"colorbar\":{\"outlinewidth\":0,\"ticks\":\"\"},\"colorscale\":[[0.0,\"#0d0887\"],[0.1111111111111111,\"#46039f\"],[0.2222222222222222,\"#7201a8\"],[0.3333333333333333,\"#9c179e\"],[0.4444444444444444,\"#bd3786\"],[0.5555555555555556,\"#d8576b\"],[0.6666666666666666,\"#ed7953\"],[0.7777777777777778,\"#fb9f3a\"],[0.8888888888888888,\"#fdca26\"],[1.0,\"#f0f921\"]]}],\"mesh3d\":[{\"type\":\"mesh3d\",\"colorbar\":{\"outlinewidth\":0,\"ticks\":\"\"}}],\"scatter\":[{\"fillpattern\":{\"fillmode\":\"overlay\",\"size\":10,\"solidity\":0.2},\"type\":\"scatter\"}],\"parcoords\":[{\"type\":\"parcoords\",\"line\":{\"colorbar\":{\"outlinewidth\":0,\"ticks\":\"\"}}}],\"scatterpolargl\":[{\"type\":\"scatterpolargl\",\"marker\":{\"colorbar\":{\"outlinewidth\":0,\"ticks\":\"\"}}}],\"bar\":[{\"error_x\":{\"color\":\"#2a3f5f\"},\"error_y\":{\"color\":\"#2a3f5f\"},\"marker\":{\"line\":{\"color\":\"#E5ECF6\",\"width\":0.5},\"pattern\":{\"fillmode\":\"overlay\",\"size\":10,\"solidity\":0.2}},\"type\":\"bar\"}],\"scattergeo\":[{\"type\":\"scattergeo\",\"marker\":{\"colorbar\":{\"outlinewidth\":0,\"ticks\":\"\"}}}],\"scatterpolar\":[{\"type\":\"scatterpolar\",\"marker\":{\"colorbar\":{\"outlinewidth\":0,\"ticks\":\"\"}}}],\"histogram\":[{\"marker\":{\"pattern\":{\"fillmode\":\"overlay\",\"size\":10,\"solidity\":0.2}},\"type\":\"histogram\"}],\"scattergl\":[{\"type\":\"scattergl\",\"marker\":{\"colorbar\":{\"outlinewidth\":0,\"ticks\":\"\"}}}],\"scatter3d\":[{\"type\":\"scatter3d\",\"line\":{\"colorbar\":{\"outlinewidth\":0,\"ticks\":\"\"}},\"marker\":{\"colorbar\":{\"outlinewidth\":0,\"ticks\":\"\"}}}],\"scattermapbox\":[{\"type\":\"scattermapbox\",\"marker\":{\"colorbar\":{\"outlinewidth\":0,\"ticks\":\"\"}}}],\"scatterternary\":[{\"type\":\"scatterternary\",\"marker\":{\"colorbar\":{\"outlinewidth\":0,\"ticks\":\"\"}}}],\"scattercarpet\":[{\"type\":\"scattercarpet\",\"marker\":{\"colorbar\":{\"outlinewidth\":0,\"ticks\":\"\"}}}],\"carpet\":[{\"aaxis\":{\"endlinecolor\":\"#2a3f5f\",\"gridcolor\":\"white\",\"linecolor\":\"white\",\"minorgridcolor\":\"white\",\"startlinecolor\":\"#2a3f5f\"},\"baxis\":{\"endlinecolor\":\"#2a3f5f\",\"gridcolor\":\"white\",\"linecolor\":\"white\",\"minorgridcolor\":\"white\",\"startlinecolor\":\"#2a3f5f\"},\"type\":\"carpet\"}],\"table\":[{\"cells\":{\"fill\":{\"color\":\"#EBF0F8\"},\"line\":{\"color\":\"white\"}},\"header\":{\"fill\":{\"color\":\"#C8D4E3\"},\"line\":{\"color\":\"white\"}},\"type\":\"table\"}],\"barpolar\":[{\"marker\":{\"line\":{\"color\":\"#E5ECF6\",\"width\":0.5},\"pattern\":{\"fillmode\":\"overlay\",\"size\":10,\"solidity\":0.2}},\"type\":\"barpolar\"}],\"pie\":[{\"automargin\":true,\"type\":\"pie\"}]},\"layout\":{\"autotypenumbers\":\"strict\",\"colorway\":[\"#636efa\",\"#EF553B\",\"#00cc96\",\"#ab63fa\",\"#FFA15A\",\"#19d3f3\",\"#FF6692\",\"#B6E880\",\"#FF97FF\",\"#FECB52\"],\"font\":{\"color\":\"#2a3f5f\"},\"hovermode\":\"closest\",\"hoverlabel\":{\"align\":\"left\"},\"paper_bgcolor\":\"white\",\"plot_bgcolor\":\"#E5ECF6\",\"polar\":{\"bgcolor\":\"#E5ECF6\",\"angularaxis\":{\"gridcolor\":\"white\",\"linecolor\":\"white\",\"ticks\":\"\"},\"radialaxis\":{\"gridcolor\":\"white\",\"linecolor\":\"white\",\"ticks\":\"\"}},\"ternary\":{\"bgcolor\":\"#E5ECF6\",\"aaxis\":{\"gridcolor\":\"white\",\"linecolor\":\"white\",\"ticks\":\"\"},\"baxis\":{\"gridcolor\":\"white\",\"linecolor\":\"white\",\"ticks\":\"\"},\"caxis\":{\"gridcolor\":\"white\",\"linecolor\":\"white\",\"ticks\":\"\"}},\"coloraxis\":{\"colorbar\":{\"outlinewidth\":0,\"ticks\":\"\"}},\"colorscale\":{\"sequential\":[[0.0,\"#0d0887\"],[0.1111111111111111,\"#46039f\"],[0.2222222222222222,\"#7201a8\"],[0.3333333333333333,\"#9c179e\"],[0.4444444444444444,\"#bd3786\"],[0.5555555555555556,\"#d8576b\"],[0.6666666666666666,\"#ed7953\"],[0.7777777777777778,\"#fb9f3a\"],[0.8888888888888888,\"#fdca26\"],[1.0,\"#f0f921\"]],\"sequentialminus\":[[0.0,\"#0d0887\"],[0.1111111111111111,\"#46039f\"],[0.2222222222222222,\"#7201a8\"],[0.3333333333333333,\"#9c179e\"],[0.4444444444444444,\"#bd3786\"],[0.5555555555555556,\"#d8576b\"],[0.6666666666666666,\"#ed7953\"],[0.7777777777777778,\"#fb9f3a\"],[0.8888888888888888,\"#fdca26\"],[1.0,\"#f0f921\"]],\"diverging\":[[0,\"#8e0152\"],[0.1,\"#c51b7d\"],[0.2,\"#de77ae\"],[0.3,\"#f1b6da\"],[0.4,\"#fde0ef\"],[0.5,\"#f7f7f7\"],[0.6,\"#e6f5d0\"],[0.7,\"#b8e186\"],[0.8,\"#7fbc41\"],[0.9,\"#4d9221\"],[1,\"#276419\"]]},\"xaxis\":{\"gridcolor\":\"white\",\"linecolor\":\"white\",\"ticks\":\"\",\"title\":{\"standoff\":15},\"zerolinecolor\":\"white\",\"automargin\":true,\"zerolinewidth\":2},\"yaxis\":{\"gridcolor\":\"white\",\"linecolor\":\"white\",\"ticks\":\"\",\"title\":{\"standoff\":15},\"zerolinecolor\":\"white\",\"automargin\":true,\"zerolinewidth\":2},\"scene\":{\"xaxis\":{\"backgroundcolor\":\"#E5ECF6\",\"gridcolor\":\"white\",\"linecolor\":\"white\",\"showbackground\":true,\"ticks\":\"\",\"zerolinecolor\":\"white\",\"gridwidth\":2},\"yaxis\":{\"backgroundcolor\":\"#E5ECF6\",\"gridcolor\":\"white\",\"linecolor\":\"white\",\"showbackground\":true,\"ticks\":\"\",\"zerolinecolor\":\"white\",\"gridwidth\":2},\"zaxis\":{\"backgroundcolor\":\"#E5ECF6\",\"gridcolor\":\"white\",\"linecolor\":\"white\",\"showbackground\":true,\"ticks\":\"\",\"zerolinecolor\":\"white\",\"gridwidth\":2}},\"shapedefaults\":{\"line\":{\"color\":\"#2a3f5f\"}},\"annotationdefaults\":{\"arrowcolor\":\"#2a3f5f\",\"arrowhead\":0,\"arrowwidth\":1},\"geo\":{\"bgcolor\":\"white\",\"landcolor\":\"#E5ECF6\",\"subunitcolor\":\"white\",\"showland\":true,\"showlakes\":true,\"lakecolor\":\"white\"},\"title\":{\"x\":0.05},\"mapbox\":{\"style\":\"light\"}}},\"geo\":{\"domain\":{\"x\":[0.0,1.0],\"y\":[0.0,1.0]},\"center\":{},\"scope\":\"europe\"},\"coloraxis\":{\"colorbar\":{\"title\":{\"text\":\"OBS_VALUE\"}},\"colorscale\":[[0.0,\"#0d0887\"],[0.1111111111111111,\"#46039f\"],[0.2222222222222222,\"#7201a8\"],[0.3333333333333333,\"#9c179e\"],[0.4444444444444444,\"#bd3786\"],[0.5555555555555556,\"#d8576b\"],[0.6666666666666666,\"#ed7953\"],[0.7777777777777778,\"#fb9f3a\"],[0.8888888888888888,\"#fdca26\"],[1.0,\"#f0f921\"]],\"cmin\":0.0,\"cmax\":49.1},\"legend\":{\"tracegroupgap\":0},\"margin\":{\"t\":60},\"height\":600,\"updatemenus\":[{\"buttons\":[{\"args\":[null,{\"frame\":{\"duration\":500,\"redraw\":true},\"mode\":\"immediate\",\"fromcurrent\":true,\"transition\":{\"duration\":500,\"easing\":\"linear\"}}],\"label\":\"&#9654;\",\"method\":\"animate\"},{\"args\":[[null],{\"frame\":{\"duration\":0,\"redraw\":true},\"mode\":\"immediate\",\"fromcurrent\":true,\"transition\":{\"duration\":0,\"easing\":\"linear\"}}],\"label\":\"&#9724;\",\"method\":\"animate\"}],\"direction\":\"left\",\"pad\":{\"r\":10,\"t\":70},\"showactive\":false,\"type\":\"buttons\",\"x\":0.1,\"xanchor\":\"right\",\"y\":0,\"yanchor\":\"top\"}],\"sliders\":[{\"active\":0,\"currentvalue\":{\"prefix\":\"TIME_PERIOD=\"},\"len\":0.9,\"pad\":{\"b\":10,\"t\":60},\"steps\":[{\"args\":[[\"2000\"],{\"frame\":{\"duration\":0,\"redraw\":true},\"mode\":\"immediate\",\"fromcurrent\":true,\"transition\":{\"duration\":0,\"easing\":\"linear\"}}],\"label\":\"2000\",\"method\":\"animate\"},{\"args\":[[\"2004\"],{\"frame\":{\"duration\":0,\"redraw\":true},\"mode\":\"immediate\",\"fromcurrent\":true,\"transition\":{\"duration\":0,\"easing\":\"linear\"}}],\"label\":\"2004\",\"method\":\"animate\"},{\"args\":[[\"2008\"],{\"frame\":{\"duration\":0,\"redraw\":true},\"mode\":\"immediate\",\"fromcurrent\":true,\"transition\":{\"duration\":0,\"easing\":\"linear\"}}],\"label\":\"2008\",\"method\":\"animate\"},{\"args\":[[\"2012\"],{\"frame\":{\"duration\":0,\"redraw\":true},\"mode\":\"immediate\",\"fromcurrent\":true,\"transition\":{\"duration\":0,\"easing\":\"linear\"}}],\"label\":\"2012\",\"method\":\"animate\"},{\"args\":[[\"2016\"],{\"frame\":{\"duration\":0,\"redraw\":true},\"mode\":\"immediate\",\"fromcurrent\":true,\"transition\":{\"duration\":0,\"easing\":\"linear\"}}],\"label\":\"2016\",\"method\":\"animate\"},{\"args\":[[\"2020\"],{\"frame\":{\"duration\":0,\"redraw\":true},\"mode\":\"immediate\",\"fromcurrent\":true,\"transition\":{\"duration\":0,\"easing\":\"linear\"}}],\"label\":\"2020\",\"method\":\"animate\"},{\"args\":[[\"2021\"],{\"frame\":{\"duration\":0,\"redraw\":true},\"mode\":\"immediate\",\"fromcurrent\":true,\"transition\":{\"duration\":0,\"easing\":\"linear\"}}],\"label\":\"2021\",\"method\":\"animate\"},{\"args\":[[\"2022\"],{\"frame\":{\"duration\":0,\"redraw\":true},\"mode\":\"immediate\",\"fromcurrent\":true,\"transition\":{\"duration\":0,\"easing\":\"linear\"}}],\"label\":\"2022\",\"method\":\"animate\"}],\"x\":0.1,\"xanchor\":\"left\",\"y\":0,\"yanchor\":\"top\"}],\"title\":{\"text\":\"Labour costs other than wages and salaries in construction\"}},                        {\"responsive\": true}                    ).then(function(){\n",
       "                            Plotly.addFrames('eac041d1-b447-4b72-a600-44406a4898fe', [{\"data\":[{\"coloraxis\":\"coloraxis\",\"geo\":\"geo\",\"hovertemplate\":\"TIME_PERIOD=2000<br>iso3=%{location}<br>OBS_VALUE=%{z}<extra></extra>\",\"locations\":[\"LTU\",\"IRL\",\"PRT\",\"DNK\",\"ESP\",\"DEU\",\"LVA\",\"SWE\",\"CZE\",\"ISL\",\"SVN\",\"HUN\",\"FIN\",\"LUX\",\"BGR\",\"SVK\",\"EST\",\"GBR\",\"ITA\",\"FRA\",\"AUT\",\"NLD\",\"BEL\"],\"name\":\"\",\"z\":[0.7,2.8,1.3,1.0,3.2,3.8,0.3,8.2,1.0,3.0,1.3,0.9,4.5,2.4,0.3,0.8,0.7,3.8,4.9,5.9,4.0,5.4,9.7],\"type\":\"choropleth\"}],\"name\":\"2000\"},{\"data\":[{\"coloraxis\":\"coloraxis\",\"geo\":\"geo\",\"hovertemplate\":\"TIME_PERIOD=2004<br>iso3=%{location}<br>OBS_VALUE=%{z}<extra></extra>\",\"locations\":[\"GBR\",\"DEU\",\"MLT\",\"IRL\",\"SWE\",\"ESP\",\"AUT\",\"DNK\",\"HRV\",\"LVA\",\"EST\",\"LTU\",\"ROU\",\"HUN\",\"SVN\",\"SVK\",\"CZE\",\"FRA\",\"POL\",\"ISL\",\"NLD\",\"BGR\",\"PRT\",\"FIN\",\"ITA\",\"LUX\",\"BEL\"],\"name\":\"\",\"z\":[3.6,4.2,0.6,3.7,8.7,4.0,5.3,2.3,1.0,0.5,1.2,0.9,0.4,1.3,1.7,0.9,1.5,7.3,0.8,4.1,6.3,0.3,1.7,4.8,6.3,3.0,11.8],\"type\":\"choropleth\"}],\"name\":\"2004\"},{\"data\":[{\"coloraxis\":\"coloraxis\",\"geo\":\"geo\",\"hovertemplate\":\"TIME_PERIOD=2008<br>iso3=%{location}<br>OBS_VALUE=%{z}<extra></extra>\",\"locations\":[\"EST\",\"NLD\",\"POL\",\"HRV\",\"FRA\",\"HUN\",\"ESP\",\"FIN\",\"DEU\",\"LVA\",\"GBR\",\"AUT\",\"LTU\",\"ITA\",\"BEL\",\"SVK\",\"BGR\",\"PRT\",\"SVN\",\"ISL\",\"MLT\",\"CZE\",\"DNK\",\"ROU\",\"SWE\",\"IRL\",\"LUX\"],\"name\":\"\",\"z\":[2.4,7.0,1.2,1.2,8.4,1.7,5.2,6.3,5.0,1.2,3.4,7.2,1.9,6.6,10.6,1.6,0.4,2.0,1.8,3.3,0.8,2.3,3.9,0.8,9.7,4.3,3.1],\"type\":\"choropleth\"}],\"name\":\"2008\"},{\"data\":[{\"coloraxis\":\"coloraxis\",\"geo\":\"geo\",\"hovertemplate\":\"TIME_PERIOD=2012<br>iso3=%{location}<br>OBS_VALUE=%{z}<extra></extra>\",\"locations\":[\"MKD\",\"HRV\",\"GBR\",\"LUX\",\"ITA\",\"LTU\",\"HUN\",\"MNE\",\"LVA\",\"IRL\",\"ISL\",\"ALB\",\"SRB\",\"AUT\",\"TUR\",\"BIH\",\"BEL\",\"SVK\",\"BGR\",\"SVN\",\"CHE\",\"SWE\",\"CZE\",\"MLT\",\"DEU\",\"ROU\",\"DNK\",\"POL\",\"PRT\",\"FRA\",\"EST\",\"NLD\",\"ESP\",\"FIN\",\"NOR\"],\"name\":\"\",\"z\":[0.3,1.4,3.6,3.7,6.8,1.7,1.4,0.7,1.1,3.1,4.4,0.4,0.7,7.3,0.7,0.3,13.1,2.2,0.5,1.8,9.0,12.0,2.5,0.9,5.5,0.7,4.3,1.2,2.4,9.4,2.7,8.1,6.1,6.9,8.5],\"type\":\"choropleth\"}],\"name\":\"2012\"},{\"data\":[{\"coloraxis\":\"coloraxis\",\"geo\":\"geo\",\"hovertemplate\":\"TIME_PERIOD=2016<br>iso3=%{location}<br>OBS_VALUE=%{z}<extra></extra>\",\"locations\":[\"TUR\",\"MKD\",\"SVK\",\"LTU\",\"MNE\",\"SVN\",\"PRT\",\"NOR\",\"SWE\",\"POL\",\"SRB\",\"LUX\",\"LVA\",\"ROU\",\"NLD\",\"MLT\",\"GBR\",\"FRA\",\"CZE\",\"FIN\",\"CHE\",\"BGR\",\"HRV\",\"ESP\",\"DEU\",\"BEL\",\"HUN\",\"BIH\",\"IRL\",\"EST\",\"ISL\",\"ALB\",\"AUT\",\"ITA\",\"DNK\"],\"name\":\"\",\"z\":[0.8,0.0,2.3,2.2,0.6,2.0,2.1,6.9,11.6,1.5,0.7,3.4,1.6,0.8,8.8,1.0,4.2,9.2,2.6,7.6,9.4,0.6,1.3,5.7,5.9,10.9,1.6,0.3,2.9,3.1,6.5,0.4,9.8,6.9,4.6],\"type\":\"choropleth\"}],\"name\":\"2016\"},{\"data\":[{\"coloraxis\":\"coloraxis\",\"geo\":\"geo\",\"hovertemplate\":\"TIME_PERIOD=2020<br>iso3=%{location}<br>OBS_VALUE=%{z}<extra></extra>\",\"locations\":[\"FIN\",\"SWE\",\"NLD\",\"CYP\",\"DNK\",\"POL\",\"ITA\",\"ESP\",\"NOR\",\"CZE\",\"EST\",\"ROU\",\"BGR\",\"PRT\",\"LUX\",\"DEU\",\"IRL\",\"SVK\",\"TUR\",\"HUN\",\"LVA\",\"MLT\",\"BEL\",\"AUT\",\"HRV\",\"SVN\",\"LTU\",\"FRA\",\"ISL\",\"SRB\"],\"name\":\"\",\"z\":[6.6,11.2,9.3,2.4,4.3,1.6,7.4,5.9,6.8,3.4,3.7,0.3,0.8,2.5,4.2,6.9,1.5,2.8,0.4,1.3,2.4,0.7,10.8,11.4,1.3,2.1,0.3,10.1,8.2,0.7],\"type\":\"choropleth\"}],\"name\":\"2020\"},{\"data\":[{\"coloraxis\":\"coloraxis\",\"geo\":\"geo\",\"hovertemplate\":\"TIME_PERIOD=2021<br>iso3=%{location}<br>OBS_VALUE=%{z}<extra></extra>\",\"locations\":[\"ROU\",\"ITA\",\"SRB\",\"CYP\",\"SWE\",\"BGR\",\"SVN\",\"BEL\",\"SVK\",\"AUT\",\"TUR\",\"CZE\",\"DEU\",\"ISL\",\"ESP\",\"NLD\",\"HUN\",\"LVA\",\"HRV\",\"NOR\",\"LUX\",\"IRL\",\"FIN\",\"MLT\",\"FRA\",\"POL\",\"LTU\",\"DNK\",\"PRT\",\"EST\"],\"name\":\"\",\"z\":[0.3,7.3,1.3,2.9,12.6,0.8,2.4,10.9,2.9,11.6,0.3,3.8,7.3,7.6,6.0,9.3,1.3,2.3,1.4,7.4,4.0,0.6,6.5,0.7,9.9,1.7,0.5,4.5,2.7,3.9],\"type\":\"choropleth\"}],\"name\":\"2021\"},{\"data\":[{\"coloraxis\":\"coloraxis\",\"geo\":\"geo\",\"hovertemplate\":\"TIME_PERIOD=2022<br>iso3=%{location}<br>OBS_VALUE=%{z}<extra></extra>\",\"locations\":[\"HUN\",\"HRV\",\"LVA\",\"DEU\",\"SVK\",\"AUT\",\"IRL\",\"TUR\",\"LTU\",\"ISL\",\"LUX\",\"BEL\",\"MLT\",\"FRA\",\"DNK\",\"ITA\",\"ROU\",\"CZE\",\"EST\",\"NOR\",\"SVN\",\"SRB\",\"NLD\",\"ESP\",\"SWE\",\"FIN\",\"BGR\",\"PRT\",\"CYP\",\"POL\"],\"name\":\"\",\"z\":[1.2,1.5,2.5,8.2,3.6,12.3,8.6,0.4,0.6,8.8,4.2,11.5,1.0,10.0,4.6,7.5,0.3,4.2,4.2,7.7,2.6,1.7,10.1,6.1,12.8,6.8,0.9,2.9,3.0,1.8],\"type\":\"choropleth\"}],\"name\":\"2022\"}]);\n",
       "                        }).then(function(){\n",
       "                            \n",
       "var gd = document.getElementById('eac041d1-b447-4b72-a600-44406a4898fe');\n",
       "var x = new MutationObserver(function (mutations, observer) {{\n",
       "        var display = window.getComputedStyle(gd).display;\n",
       "        if (!display || display === 'none') {{\n",
       "            console.log([gd, 'removed!']);\n",
       "            Plotly.purge(gd);\n",
       "            observer.disconnect();\n",
       "        }}\n",
       "}});\n",
       "\n",
       "// Listen for the removal of the full notebook cells\n",
       "var notebookContainer = gd.closest('#notebook-container');\n",
       "if (notebookContainer) {{\n",
       "    x.observe(notebookContainer, {childList: true});\n",
       "}}\n",
       "\n",
       "// Listen for the clearing of the current output cell\n",
       "var outputEl = gd.closest('.output');\n",
       "if (outputEl) {{\n",
       "    x.observe(outputEl, {childList: true});\n",
       "}}\n",
       "\n",
       "                        })                };                });            </script>        </div>"
      ]
     },
     "metadata": {},
     "output_type": "display_data"
    }
   ],
   "source": [
    "fig = px.choropleth(other_costs, \n",
    "                    locations=\"iso3\", \n",
    "                    #locationmode=\"country names\", \n",
    "                    color=\"OBS_VALUE\", \n",
    "                    animation_frame=\"TIME_PERIOD\", \n",
    "                    color_continuous_scale=px.colors.sequential.Plasma, \n",
    "                    range_color=[eur_df['OBS_VALUE'].min(), eur_df['OBS_VALUE'].max()],\n",
    "                    scope='europe',\n",
    "                    height=600\n",
    "                   )\n",
    "\n",
    "fig.update_layout(\n",
    "    # add a title text for the plot\n",
    "    title_text = 'Labour costs other than wages and salaries in construction'\n",
    ")\n",
    "fig.show()"
   ]
  },
  {
   "cell_type": "code",
   "execution_count": 200,
   "id": "6caecf0f",
   "metadata": {},
   "outputs": [
    {
     "data": {
      "application/vnd.plotly.v1+json": {
       "config": {
        "plotlyServerURL": "https://plot.ly"
       },
       "data": [
        {
         "alignmentgroup": "True",
         "hovertemplate": "<b>%{hovertext}</b><br><br>TIME_PERIOD=2000<br>iso3=%{x}<br>OBS_VALUE=%{marker.color}<extra></extra>",
         "hovertext": [
          "LTU",
          "IRL",
          "PRT",
          "DNK",
          "ESP",
          "DEU",
          "LVA",
          "SWE",
          "CZE",
          "ISL",
          "SVN",
          "HUN",
          "FIN",
          "LUX",
          "BGR",
          "SVK",
          "EST",
          "GBR",
          "ITA",
          "FRA",
          "AUT",
          "NLD",
          "BEL"
         ],
         "ids": [
          "LTU",
          "IRL",
          "PRT",
          "DNK",
          "ESP",
          "DEU",
          "LVA",
          "SWE",
          "CZE",
          "ISL",
          "SVN",
          "HUN",
          "FIN",
          "LUX",
          "BGR",
          "SVK",
          "EST",
          "GBR",
          "ITA",
          "FRA",
          "AUT",
          "NLD",
          "BEL"
         ],
         "legendgroup": "",
         "marker": {
          "color": [
           0.7,
           2.8,
           1.3,
           1,
           3.2,
           3.8,
           0.3,
           8.2,
           1,
           3,
           1.3,
           0.9,
           4.5,
           2.4,
           0.3,
           0.8,
           0.7,
           3.8,
           4.9,
           5.9,
           4,
           5.4,
           9.7
          ],
          "coloraxis": "coloraxis",
          "pattern": {
           "shape": ""
          }
         },
         "name": "",
         "offsetgroup": "",
         "orientation": "v",
         "showlegend": false,
         "textposition": "auto",
         "type": "bar",
         "x": [
          "LTU",
          "IRL",
          "PRT",
          "DNK",
          "ESP",
          "DEU",
          "LVA",
          "SWE",
          "CZE",
          "ISL",
          "SVN",
          "HUN",
          "FIN",
          "LUX",
          "BGR",
          "SVK",
          "EST",
          "GBR",
          "ITA",
          "FRA",
          "AUT",
          "NLD",
          "BEL"
         ],
         "xaxis": "x",
         "y": [
          0.7,
          2.8,
          1.3,
          1,
          3.2,
          3.8,
          0.3,
          8.2,
          1,
          3,
          1.3,
          0.9,
          4.5,
          2.4,
          0.3,
          0.8,
          0.7,
          3.8,
          4.9,
          5.9,
          4,
          5.4,
          9.7
         ],
         "yaxis": "y"
        }
       ],
       "frames": [
        {
         "data": [
          {
           "alignmentgroup": "True",
           "hovertemplate": "<b>%{hovertext}</b><br><br>TIME_PERIOD=2000<br>iso3=%{x}<br>OBS_VALUE=%{marker.color}<extra></extra>",
           "hovertext": [
            "LTU",
            "IRL",
            "PRT",
            "DNK",
            "ESP",
            "DEU",
            "LVA",
            "SWE",
            "CZE",
            "ISL",
            "SVN",
            "HUN",
            "FIN",
            "LUX",
            "BGR",
            "SVK",
            "EST",
            "GBR",
            "ITA",
            "FRA",
            "AUT",
            "NLD",
            "BEL"
           ],
           "ids": [
            "LTU",
            "IRL",
            "PRT",
            "DNK",
            "ESP",
            "DEU",
            "LVA",
            "SWE",
            "CZE",
            "ISL",
            "SVN",
            "HUN",
            "FIN",
            "LUX",
            "BGR",
            "SVK",
            "EST",
            "GBR",
            "ITA",
            "FRA",
            "AUT",
            "NLD",
            "BEL"
           ],
           "legendgroup": "",
           "marker": {
            "color": [
             0.7,
             2.8,
             1.3,
             1,
             3.2,
             3.8,
             0.3,
             8.2,
             1,
             3,
             1.3,
             0.9,
             4.5,
             2.4,
             0.3,
             0.8,
             0.7,
             3.8,
             4.9,
             5.9,
             4,
             5.4,
             9.7
            ],
            "coloraxis": "coloraxis",
            "pattern": {
             "shape": ""
            }
           },
           "name": "",
           "offsetgroup": "",
           "orientation": "v",
           "showlegend": false,
           "textposition": "auto",
           "type": "bar",
           "x": [
            "LTU",
            "IRL",
            "PRT",
            "DNK",
            "ESP",
            "DEU",
            "LVA",
            "SWE",
            "CZE",
            "ISL",
            "SVN",
            "HUN",
            "FIN",
            "LUX",
            "BGR",
            "SVK",
            "EST",
            "GBR",
            "ITA",
            "FRA",
            "AUT",
            "NLD",
            "BEL"
           ],
           "xaxis": "x",
           "y": [
            0.7,
            2.8,
            1.3,
            1,
            3.2,
            3.8,
            0.3,
            8.2,
            1,
            3,
            1.3,
            0.9,
            4.5,
            2.4,
            0.3,
            0.8,
            0.7,
            3.8,
            4.9,
            5.9,
            4,
            5.4,
            9.7
           ],
           "yaxis": "y"
          }
         ],
         "name": "2000"
        },
        {
         "data": [
          {
           "alignmentgroup": "True",
           "hovertemplate": "<b>%{hovertext}</b><br><br>TIME_PERIOD=2004<br>iso3=%{x}<br>OBS_VALUE=%{marker.color}<extra></extra>",
           "hovertext": [
            "GBR",
            "DEU",
            "MLT",
            "IRL",
            "SWE",
            "ESP",
            "AUT",
            "DNK",
            "HRV",
            "LVA",
            "EST",
            "LTU",
            "ROU",
            "HUN",
            "SVN",
            "SVK",
            "CZE",
            "FRA",
            "POL",
            "ISL",
            "NLD",
            "BGR",
            "PRT",
            "FIN",
            "ITA",
            "LUX",
            "BEL"
           ],
           "ids": [
            "GBR",
            "DEU",
            "MLT",
            "IRL",
            "SWE",
            "ESP",
            "AUT",
            "DNK",
            "HRV",
            "LVA",
            "EST",
            "LTU",
            "ROU",
            "HUN",
            "SVN",
            "SVK",
            "CZE",
            "FRA",
            "POL",
            "ISL",
            "NLD",
            "BGR",
            "PRT",
            "FIN",
            "ITA",
            "LUX",
            "BEL"
           ],
           "legendgroup": "",
           "marker": {
            "color": [
             3.6,
             4.2,
             0.6,
             3.7,
             8.7,
             4,
             5.3,
             2.3,
             1,
             0.5,
             1.2,
             0.9,
             0.4,
             1.3,
             1.7,
             0.9,
             1.5,
             7.3,
             0.8,
             4.1,
             6.3,
             0.3,
             1.7,
             4.8,
             6.3,
             3,
             11.8
            ],
            "coloraxis": "coloraxis",
            "pattern": {
             "shape": ""
            }
           },
           "name": "",
           "offsetgroup": "",
           "orientation": "v",
           "showlegend": false,
           "textposition": "auto",
           "type": "bar",
           "x": [
            "GBR",
            "DEU",
            "MLT",
            "IRL",
            "SWE",
            "ESP",
            "AUT",
            "DNK",
            "HRV",
            "LVA",
            "EST",
            "LTU",
            "ROU",
            "HUN",
            "SVN",
            "SVK",
            "CZE",
            "FRA",
            "POL",
            "ISL",
            "NLD",
            "BGR",
            "PRT",
            "FIN",
            "ITA",
            "LUX",
            "BEL"
           ],
           "xaxis": "x",
           "y": [
            3.6,
            4.2,
            0.6,
            3.7,
            8.7,
            4,
            5.3,
            2.3,
            1,
            0.5,
            1.2,
            0.9,
            0.4,
            1.3,
            1.7,
            0.9,
            1.5,
            7.3,
            0.8,
            4.1,
            6.3,
            0.3,
            1.7,
            4.8,
            6.3,
            3,
            11.8
           ],
           "yaxis": "y"
          }
         ],
         "name": "2004"
        },
        {
         "data": [
          {
           "alignmentgroup": "True",
           "hovertemplate": "<b>%{hovertext}</b><br><br>TIME_PERIOD=2008<br>iso3=%{x}<br>OBS_VALUE=%{marker.color}<extra></extra>",
           "hovertext": [
            "EST",
            "NLD",
            "POL",
            "HRV",
            "FRA",
            "HUN",
            "ESP",
            "FIN",
            "DEU",
            "LVA",
            "GBR",
            "AUT",
            "LTU",
            "ITA",
            "BEL",
            "SVK",
            "BGR",
            "PRT",
            "SVN",
            "ISL",
            "MLT",
            "CZE",
            "DNK",
            "ROU",
            "SWE",
            "IRL",
            "LUX"
           ],
           "ids": [
            "EST",
            "NLD",
            "POL",
            "HRV",
            "FRA",
            "HUN",
            "ESP",
            "FIN",
            "DEU",
            "LVA",
            "GBR",
            "AUT",
            "LTU",
            "ITA",
            "BEL",
            "SVK",
            "BGR",
            "PRT",
            "SVN",
            "ISL",
            "MLT",
            "CZE",
            "DNK",
            "ROU",
            "SWE",
            "IRL",
            "LUX"
           ],
           "legendgroup": "",
           "marker": {
            "color": [
             2.4,
             7,
             1.2,
             1.2,
             8.4,
             1.7,
             5.2,
             6.3,
             5,
             1.2,
             3.4,
             7.2,
             1.9,
             6.6,
             10.6,
             1.6,
             0.4,
             2,
             1.8,
             3.3,
             0.8,
             2.3,
             3.9,
             0.8,
             9.7,
             4.3,
             3.1
            ],
            "coloraxis": "coloraxis",
            "pattern": {
             "shape": ""
            }
           },
           "name": "",
           "offsetgroup": "",
           "orientation": "v",
           "showlegend": false,
           "textposition": "auto",
           "type": "bar",
           "x": [
            "EST",
            "NLD",
            "POL",
            "HRV",
            "FRA",
            "HUN",
            "ESP",
            "FIN",
            "DEU",
            "LVA",
            "GBR",
            "AUT",
            "LTU",
            "ITA",
            "BEL",
            "SVK",
            "BGR",
            "PRT",
            "SVN",
            "ISL",
            "MLT",
            "CZE",
            "DNK",
            "ROU",
            "SWE",
            "IRL",
            "LUX"
           ],
           "xaxis": "x",
           "y": [
            2.4,
            7,
            1.2,
            1.2,
            8.4,
            1.7,
            5.2,
            6.3,
            5,
            1.2,
            3.4,
            7.2,
            1.9,
            6.6,
            10.6,
            1.6,
            0.4,
            2,
            1.8,
            3.3,
            0.8,
            2.3,
            3.9,
            0.8,
            9.7,
            4.3,
            3.1
           ],
           "yaxis": "y"
          }
         ],
         "name": "2008"
        },
        {
         "data": [
          {
           "alignmentgroup": "True",
           "hovertemplate": "<b>%{hovertext}</b><br><br>TIME_PERIOD=2012<br>iso3=%{x}<br>OBS_VALUE=%{marker.color}<extra></extra>",
           "hovertext": [
            "MKD",
            "HRV",
            "GBR",
            "LUX",
            "ITA",
            "LTU",
            "HUN",
            "MNE",
            "LVA",
            "IRL",
            "ISL",
            "ALB",
            "SRB",
            "AUT",
            "TUR",
            "BIH",
            "BEL",
            "SVK",
            "BGR",
            "SVN",
            "CHE",
            "SWE",
            "CZE",
            "MLT",
            "DEU",
            "ROU",
            "DNK",
            "POL",
            "PRT",
            "FRA",
            "EST",
            "NLD",
            "ESP",
            "FIN",
            "NOR"
           ],
           "ids": [
            "MKD",
            "HRV",
            "GBR",
            "LUX",
            "ITA",
            "LTU",
            "HUN",
            "MNE",
            "LVA",
            "IRL",
            "ISL",
            "ALB",
            "SRB",
            "AUT",
            "TUR",
            "BIH",
            "BEL",
            "SVK",
            "BGR",
            "SVN",
            "CHE",
            "SWE",
            "CZE",
            "MLT",
            "DEU",
            "ROU",
            "DNK",
            "POL",
            "PRT",
            "FRA",
            "EST",
            "NLD",
            "ESP",
            "FIN",
            "NOR"
           ],
           "legendgroup": "",
           "marker": {
            "color": [
             0.3,
             1.4,
             3.6,
             3.7,
             6.8,
             1.7,
             1.4,
             0.7,
             1.1,
             3.1,
             4.4,
             0.4,
             0.7,
             7.3,
             0.7,
             0.3,
             13.1,
             2.2,
             0.5,
             1.8,
             9,
             12,
             2.5,
             0.9,
             5.5,
             0.7,
             4.3,
             1.2,
             2.4,
             9.4,
             2.7,
             8.1,
             6.1,
             6.9,
             8.5
            ],
            "coloraxis": "coloraxis",
            "pattern": {
             "shape": ""
            }
           },
           "name": "",
           "offsetgroup": "",
           "orientation": "v",
           "showlegend": false,
           "textposition": "auto",
           "type": "bar",
           "x": [
            "MKD",
            "HRV",
            "GBR",
            "LUX",
            "ITA",
            "LTU",
            "HUN",
            "MNE",
            "LVA",
            "IRL",
            "ISL",
            "ALB",
            "SRB",
            "AUT",
            "TUR",
            "BIH",
            "BEL",
            "SVK",
            "BGR",
            "SVN",
            "CHE",
            "SWE",
            "CZE",
            "MLT",
            "DEU",
            "ROU",
            "DNK",
            "POL",
            "PRT",
            "FRA",
            "EST",
            "NLD",
            "ESP",
            "FIN",
            "NOR"
           ],
           "xaxis": "x",
           "y": [
            0.3,
            1.4,
            3.6,
            3.7,
            6.8,
            1.7,
            1.4,
            0.7,
            1.1,
            3.1,
            4.4,
            0.4,
            0.7,
            7.3,
            0.7,
            0.3,
            13.1,
            2.2,
            0.5,
            1.8,
            9,
            12,
            2.5,
            0.9,
            5.5,
            0.7,
            4.3,
            1.2,
            2.4,
            9.4,
            2.7,
            8.1,
            6.1,
            6.9,
            8.5
           ],
           "yaxis": "y"
          }
         ],
         "name": "2012"
        },
        {
         "data": [
          {
           "alignmentgroup": "True",
           "hovertemplate": "<b>%{hovertext}</b><br><br>TIME_PERIOD=2016<br>iso3=%{x}<br>OBS_VALUE=%{marker.color}<extra></extra>",
           "hovertext": [
            "TUR",
            "MKD",
            "SVK",
            "LTU",
            "MNE",
            "SVN",
            "PRT",
            "NOR",
            "SWE",
            "POL",
            "SRB",
            "LUX",
            "LVA",
            "ROU",
            "NLD",
            "MLT",
            "GBR",
            "FRA",
            "CZE",
            "FIN",
            "CHE",
            "BGR",
            "HRV",
            "ESP",
            "DEU",
            "BEL",
            "HUN",
            "BIH",
            "IRL",
            "EST",
            "ISL",
            "ALB",
            "AUT",
            "ITA",
            "DNK"
           ],
           "ids": [
            "TUR",
            "MKD",
            "SVK",
            "LTU",
            "MNE",
            "SVN",
            "PRT",
            "NOR",
            "SWE",
            "POL",
            "SRB",
            "LUX",
            "LVA",
            "ROU",
            "NLD",
            "MLT",
            "GBR",
            "FRA",
            "CZE",
            "FIN",
            "CHE",
            "BGR",
            "HRV",
            "ESP",
            "DEU",
            "BEL",
            "HUN",
            "BIH",
            "IRL",
            "EST",
            "ISL",
            "ALB",
            "AUT",
            "ITA",
            "DNK"
           ],
           "legendgroup": "",
           "marker": {
            "color": [
             0.8,
             0,
             2.3,
             2.2,
             0.6,
             2,
             2.1,
             6.9,
             11.6,
             1.5,
             0.7,
             3.4,
             1.6,
             0.8,
             8.8,
             1,
             4.2,
             9.2,
             2.6,
             7.6,
             9.4,
             0.6,
             1.3,
             5.7,
             5.9,
             10.9,
             1.6,
             0.3,
             2.9,
             3.1,
             6.5,
             0.4,
             9.8,
             6.9,
             4.6
            ],
            "coloraxis": "coloraxis",
            "pattern": {
             "shape": ""
            }
           },
           "name": "",
           "offsetgroup": "",
           "orientation": "v",
           "showlegend": false,
           "textposition": "auto",
           "type": "bar",
           "x": [
            "TUR",
            "MKD",
            "SVK",
            "LTU",
            "MNE",
            "SVN",
            "PRT",
            "NOR",
            "SWE",
            "POL",
            "SRB",
            "LUX",
            "LVA",
            "ROU",
            "NLD",
            "MLT",
            "GBR",
            "FRA",
            "CZE",
            "FIN",
            "CHE",
            "BGR",
            "HRV",
            "ESP",
            "DEU",
            "BEL",
            "HUN",
            "BIH",
            "IRL",
            "EST",
            "ISL",
            "ALB",
            "AUT",
            "ITA",
            "DNK"
           ],
           "xaxis": "x",
           "y": [
            0.8,
            0,
            2.3,
            2.2,
            0.6,
            2,
            2.1,
            6.9,
            11.6,
            1.5,
            0.7,
            3.4,
            1.6,
            0.8,
            8.8,
            1,
            4.2,
            9.2,
            2.6,
            7.6,
            9.4,
            0.6,
            1.3,
            5.7,
            5.9,
            10.9,
            1.6,
            0.3,
            2.9,
            3.1,
            6.5,
            0.4,
            9.8,
            6.9,
            4.6
           ],
           "yaxis": "y"
          }
         ],
         "name": "2016"
        },
        {
         "data": [
          {
           "alignmentgroup": "True",
           "hovertemplate": "<b>%{hovertext}</b><br><br>TIME_PERIOD=2020<br>iso3=%{x}<br>OBS_VALUE=%{marker.color}<extra></extra>",
           "hovertext": [
            "FIN",
            "SWE",
            "NLD",
            "CYP",
            "DNK",
            "POL",
            "ITA",
            "ESP",
            "NOR",
            "CZE",
            "EST",
            "ROU",
            "BGR",
            "PRT",
            "LUX",
            "DEU",
            "IRL",
            "SVK",
            "TUR",
            "HUN",
            "LVA",
            "MLT",
            "BEL",
            "AUT",
            "HRV",
            "SVN",
            "LTU",
            "FRA",
            "ISL",
            "SRB"
           ],
           "ids": [
            "FIN",
            "SWE",
            "NLD",
            "CYP",
            "DNK",
            "POL",
            "ITA",
            "ESP",
            "NOR",
            "CZE",
            "EST",
            "ROU",
            "BGR",
            "PRT",
            "LUX",
            "DEU",
            "IRL",
            "SVK",
            "TUR",
            "HUN",
            "LVA",
            "MLT",
            "BEL",
            "AUT",
            "HRV",
            "SVN",
            "LTU",
            "FRA",
            "ISL",
            "SRB"
           ],
           "legendgroup": "",
           "marker": {
            "color": [
             6.6,
             11.2,
             9.3,
             2.4,
             4.3,
             1.6,
             7.4,
             5.9,
             6.8,
             3.4,
             3.7,
             0.3,
             0.8,
             2.5,
             4.2,
             6.9,
             1.5,
             2.8,
             0.4,
             1.3,
             2.4,
             0.7,
             10.8,
             11.4,
             1.3,
             2.1,
             0.3,
             10.1,
             8.2,
             0.7
            ],
            "coloraxis": "coloraxis",
            "pattern": {
             "shape": ""
            }
           },
           "name": "",
           "offsetgroup": "",
           "orientation": "v",
           "showlegend": false,
           "textposition": "auto",
           "type": "bar",
           "x": [
            "FIN",
            "SWE",
            "NLD",
            "CYP",
            "DNK",
            "POL",
            "ITA",
            "ESP",
            "NOR",
            "CZE",
            "EST",
            "ROU",
            "BGR",
            "PRT",
            "LUX",
            "DEU",
            "IRL",
            "SVK",
            "TUR",
            "HUN",
            "LVA",
            "MLT",
            "BEL",
            "AUT",
            "HRV",
            "SVN",
            "LTU",
            "FRA",
            "ISL",
            "SRB"
           ],
           "xaxis": "x",
           "y": [
            6.6,
            11.2,
            9.3,
            2.4,
            4.3,
            1.6,
            7.4,
            5.9,
            6.8,
            3.4,
            3.7,
            0.3,
            0.8,
            2.5,
            4.2,
            6.9,
            1.5,
            2.8,
            0.4,
            1.3,
            2.4,
            0.7,
            10.8,
            11.4,
            1.3,
            2.1,
            0.3,
            10.1,
            8.2,
            0.7
           ],
           "yaxis": "y"
          }
         ],
         "name": "2020"
        },
        {
         "data": [
          {
           "alignmentgroup": "True",
           "hovertemplate": "<b>%{hovertext}</b><br><br>TIME_PERIOD=2021<br>iso3=%{x}<br>OBS_VALUE=%{marker.color}<extra></extra>",
           "hovertext": [
            "ROU",
            "ITA",
            "SRB",
            "CYP",
            "SWE",
            "BGR",
            "SVN",
            "BEL",
            "SVK",
            "AUT",
            "TUR",
            "CZE",
            "DEU",
            "ISL",
            "ESP",
            "NLD",
            "HUN",
            "LVA",
            "HRV",
            "NOR",
            "LUX",
            "IRL",
            "FIN",
            "MLT",
            "FRA",
            "POL",
            "LTU",
            "DNK",
            "PRT",
            "EST"
           ],
           "ids": [
            "ROU",
            "ITA",
            "SRB",
            "CYP",
            "SWE",
            "BGR",
            "SVN",
            "BEL",
            "SVK",
            "AUT",
            "TUR",
            "CZE",
            "DEU",
            "ISL",
            "ESP",
            "NLD",
            "HUN",
            "LVA",
            "HRV",
            "NOR",
            "LUX",
            "IRL",
            "FIN",
            "MLT",
            "FRA",
            "POL",
            "LTU",
            "DNK",
            "PRT",
            "EST"
           ],
           "legendgroup": "",
           "marker": {
            "color": [
             0.3,
             7.3,
             1.3,
             2.9,
             12.6,
             0.8,
             2.4,
             10.9,
             2.9,
             11.6,
             0.3,
             3.8,
             7.3,
             7.6,
             6,
             9.3,
             1.3,
             2.3,
             1.4,
             7.4,
             4,
             0.6,
             6.5,
             0.7,
             9.9,
             1.7,
             0.5,
             4.5,
             2.7,
             3.9
            ],
            "coloraxis": "coloraxis",
            "pattern": {
             "shape": ""
            }
           },
           "name": "",
           "offsetgroup": "",
           "orientation": "v",
           "showlegend": false,
           "textposition": "auto",
           "type": "bar",
           "x": [
            "ROU",
            "ITA",
            "SRB",
            "CYP",
            "SWE",
            "BGR",
            "SVN",
            "BEL",
            "SVK",
            "AUT",
            "TUR",
            "CZE",
            "DEU",
            "ISL",
            "ESP",
            "NLD",
            "HUN",
            "LVA",
            "HRV",
            "NOR",
            "LUX",
            "IRL",
            "FIN",
            "MLT",
            "FRA",
            "POL",
            "LTU",
            "DNK",
            "PRT",
            "EST"
           ],
           "xaxis": "x",
           "y": [
            0.3,
            7.3,
            1.3,
            2.9,
            12.6,
            0.8,
            2.4,
            10.9,
            2.9,
            11.6,
            0.3,
            3.8,
            7.3,
            7.6,
            6,
            9.3,
            1.3,
            2.3,
            1.4,
            7.4,
            4,
            0.6,
            6.5,
            0.7,
            9.9,
            1.7,
            0.5,
            4.5,
            2.7,
            3.9
           ],
           "yaxis": "y"
          }
         ],
         "name": "2021"
        },
        {
         "data": [
          {
           "alignmentgroup": "True",
           "hovertemplate": "<b>%{hovertext}</b><br><br>TIME_PERIOD=2022<br>iso3=%{x}<br>OBS_VALUE=%{marker.color}<extra></extra>",
           "hovertext": [
            "HUN",
            "HRV",
            "LVA",
            "DEU",
            "SVK",
            "AUT",
            "IRL",
            "TUR",
            "LTU",
            "ISL",
            "LUX",
            "BEL",
            "MLT",
            "FRA",
            "DNK",
            "ITA",
            "ROU",
            "CZE",
            "EST",
            "NOR",
            "SVN",
            "SRB",
            "NLD",
            "ESP",
            "SWE",
            "FIN",
            "BGR",
            "PRT",
            "CYP",
            "POL"
           ],
           "ids": [
            "HUN",
            "HRV",
            "LVA",
            "DEU",
            "SVK",
            "AUT",
            "IRL",
            "TUR",
            "LTU",
            "ISL",
            "LUX",
            "BEL",
            "MLT",
            "FRA",
            "DNK",
            "ITA",
            "ROU",
            "CZE",
            "EST",
            "NOR",
            "SVN",
            "SRB",
            "NLD",
            "ESP",
            "SWE",
            "FIN",
            "BGR",
            "PRT",
            "CYP",
            "POL"
           ],
           "legendgroup": "",
           "marker": {
            "color": [
             1.2,
             1.5,
             2.5,
             8.2,
             3.6,
             12.3,
             8.6,
             0.4,
             0.6,
             8.8,
             4.2,
             11.5,
             1,
             10,
             4.6,
             7.5,
             0.3,
             4.2,
             4.2,
             7.7,
             2.6,
             1.7,
             10.1,
             6.1,
             12.8,
             6.8,
             0.9,
             2.9,
             3,
             1.8
            ],
            "coloraxis": "coloraxis",
            "pattern": {
             "shape": ""
            }
           },
           "name": "",
           "offsetgroup": "",
           "orientation": "v",
           "showlegend": false,
           "textposition": "auto",
           "type": "bar",
           "x": [
            "HUN",
            "HRV",
            "LVA",
            "DEU",
            "SVK",
            "AUT",
            "IRL",
            "TUR",
            "LTU",
            "ISL",
            "LUX",
            "BEL",
            "MLT",
            "FRA",
            "DNK",
            "ITA",
            "ROU",
            "CZE",
            "EST",
            "NOR",
            "SVN",
            "SRB",
            "NLD",
            "ESP",
            "SWE",
            "FIN",
            "BGR",
            "PRT",
            "CYP",
            "POL"
           ],
           "xaxis": "x",
           "y": [
            1.2,
            1.5,
            2.5,
            8.2,
            3.6,
            12.3,
            8.6,
            0.4,
            0.6,
            8.8,
            4.2,
            11.5,
            1,
            10,
            4.6,
            7.5,
            0.3,
            4.2,
            4.2,
            7.7,
            2.6,
            1.7,
            10.1,
            6.1,
            12.8,
            6.8,
            0.9,
            2.9,
            3,
            1.8
           ],
           "yaxis": "y"
          }
         ],
         "name": "2022"
        }
       ],
       "layout": {
        "barmode": "relative",
        "coloraxis": {
         "colorbar": {
          "title": {
           "text": "OBS_VALUE"
          }
         },
         "colorscale": [
          [
           0,
           "#0d0887"
          ],
          [
           0.1111111111111111,
           "#46039f"
          ],
          [
           0.2222222222222222,
           "#7201a8"
          ],
          [
           0.3333333333333333,
           "#9c179e"
          ],
          [
           0.4444444444444444,
           "#bd3786"
          ],
          [
           0.5555555555555556,
           "#d8576b"
          ],
          [
           0.6666666666666666,
           "#ed7953"
          ],
          [
           0.7777777777777778,
           "#fb9f3a"
          ],
          [
           0.8888888888888888,
           "#fdca26"
          ],
          [
           1,
           "#f0f921"
          ]
         ]
        },
        "legend": {
         "tracegroupgap": 0
        },
        "margin": {
         "t": 60
        },
        "sliders": [
         {
          "active": 0,
          "currentvalue": {
           "prefix": "TIME_PERIOD="
          },
          "len": 0.9,
          "pad": {
           "b": 10,
           "t": 60
          },
          "steps": [
           {
            "args": [
             [
              "2000"
             ],
             {
              "frame": {
               "duration": 0,
               "redraw": true
              },
              "fromcurrent": true,
              "mode": "immediate",
              "transition": {
               "duration": 0,
               "easing": "linear"
              }
             }
            ],
            "label": "2000",
            "method": "animate"
           },
           {
            "args": [
             [
              "2004"
             ],
             {
              "frame": {
               "duration": 0,
               "redraw": true
              },
              "fromcurrent": true,
              "mode": "immediate",
              "transition": {
               "duration": 0,
               "easing": "linear"
              }
             }
            ],
            "label": "2004",
            "method": "animate"
           },
           {
            "args": [
             [
              "2008"
             ],
             {
              "frame": {
               "duration": 0,
               "redraw": true
              },
              "fromcurrent": true,
              "mode": "immediate",
              "transition": {
               "duration": 0,
               "easing": "linear"
              }
             }
            ],
            "label": "2008",
            "method": "animate"
           },
           {
            "args": [
             [
              "2012"
             ],
             {
              "frame": {
               "duration": 0,
               "redraw": true
              },
              "fromcurrent": true,
              "mode": "immediate",
              "transition": {
               "duration": 0,
               "easing": "linear"
              }
             }
            ],
            "label": "2012",
            "method": "animate"
           },
           {
            "args": [
             [
              "2016"
             ],
             {
              "frame": {
               "duration": 0,
               "redraw": true
              },
              "fromcurrent": true,
              "mode": "immediate",
              "transition": {
               "duration": 0,
               "easing": "linear"
              }
             }
            ],
            "label": "2016",
            "method": "animate"
           },
           {
            "args": [
             [
              "2020"
             ],
             {
              "frame": {
               "duration": 0,
               "redraw": true
              },
              "fromcurrent": true,
              "mode": "immediate",
              "transition": {
               "duration": 0,
               "easing": "linear"
              }
             }
            ],
            "label": "2020",
            "method": "animate"
           },
           {
            "args": [
             [
              "2021"
             ],
             {
              "frame": {
               "duration": 0,
               "redraw": true
              },
              "fromcurrent": true,
              "mode": "immediate",
              "transition": {
               "duration": 0,
               "easing": "linear"
              }
             }
            ],
            "label": "2021",
            "method": "animate"
           },
           {
            "args": [
             [
              "2022"
             ],
             {
              "frame": {
               "duration": 0,
               "redraw": true
              },
              "fromcurrent": true,
              "mode": "immediate",
              "transition": {
               "duration": 0,
               "easing": "linear"
              }
             }
            ],
            "label": "2022",
            "method": "animate"
           }
          ],
          "x": 0.1,
          "xanchor": "left",
          "y": 0,
          "yanchor": "top"
         }
        ],
        "template": {
         "data": {
          "bar": [
           {
            "error_x": {
             "color": "#f2f5fa"
            },
            "error_y": {
             "color": "#f2f5fa"
            },
            "marker": {
             "line": {
              "color": "rgb(17,17,17)",
              "width": 0.5
             },
             "pattern": {
              "fillmode": "overlay",
              "size": 10,
              "solidity": 0.2
             }
            },
            "type": "bar"
           }
          ],
          "barpolar": [
           {
            "marker": {
             "line": {
              "color": "rgb(17,17,17)",
              "width": 0.5
             },
             "pattern": {
              "fillmode": "overlay",
              "size": 10,
              "solidity": 0.2
             }
            },
            "type": "barpolar"
           }
          ],
          "carpet": [
           {
            "aaxis": {
             "endlinecolor": "#A2B1C6",
             "gridcolor": "#506784",
             "linecolor": "#506784",
             "minorgridcolor": "#506784",
             "startlinecolor": "#A2B1C6"
            },
            "baxis": {
             "endlinecolor": "#A2B1C6",
             "gridcolor": "#506784",
             "linecolor": "#506784",
             "minorgridcolor": "#506784",
             "startlinecolor": "#A2B1C6"
            },
            "type": "carpet"
           }
          ],
          "choropleth": [
           {
            "colorbar": {
             "outlinewidth": 0,
             "ticks": ""
            },
            "type": "choropleth"
           }
          ],
          "contour": [
           {
            "colorbar": {
             "outlinewidth": 0,
             "ticks": ""
            },
            "colorscale": [
             [
              0,
              "#0d0887"
             ],
             [
              0.1111111111111111,
              "#46039f"
             ],
             [
              0.2222222222222222,
              "#7201a8"
             ],
             [
              0.3333333333333333,
              "#9c179e"
             ],
             [
              0.4444444444444444,
              "#bd3786"
             ],
             [
              0.5555555555555556,
              "#d8576b"
             ],
             [
              0.6666666666666666,
              "#ed7953"
             ],
             [
              0.7777777777777778,
              "#fb9f3a"
             ],
             [
              0.8888888888888888,
              "#fdca26"
             ],
             [
              1,
              "#f0f921"
             ]
            ],
            "type": "contour"
           }
          ],
          "contourcarpet": [
           {
            "colorbar": {
             "outlinewidth": 0,
             "ticks": ""
            },
            "type": "contourcarpet"
           }
          ],
          "heatmap": [
           {
            "colorbar": {
             "outlinewidth": 0,
             "ticks": ""
            },
            "colorscale": [
             [
              0,
              "#0d0887"
             ],
             [
              0.1111111111111111,
              "#46039f"
             ],
             [
              0.2222222222222222,
              "#7201a8"
             ],
             [
              0.3333333333333333,
              "#9c179e"
             ],
             [
              0.4444444444444444,
              "#bd3786"
             ],
             [
              0.5555555555555556,
              "#d8576b"
             ],
             [
              0.6666666666666666,
              "#ed7953"
             ],
             [
              0.7777777777777778,
              "#fb9f3a"
             ],
             [
              0.8888888888888888,
              "#fdca26"
             ],
             [
              1,
              "#f0f921"
             ]
            ],
            "type": "heatmap"
           }
          ],
          "heatmapgl": [
           {
            "colorbar": {
             "outlinewidth": 0,
             "ticks": ""
            },
            "colorscale": [
             [
              0,
              "#0d0887"
             ],
             [
              0.1111111111111111,
              "#46039f"
             ],
             [
              0.2222222222222222,
              "#7201a8"
             ],
             [
              0.3333333333333333,
              "#9c179e"
             ],
             [
              0.4444444444444444,
              "#bd3786"
             ],
             [
              0.5555555555555556,
              "#d8576b"
             ],
             [
              0.6666666666666666,
              "#ed7953"
             ],
             [
              0.7777777777777778,
              "#fb9f3a"
             ],
             [
              0.8888888888888888,
              "#fdca26"
             ],
             [
              1,
              "#f0f921"
             ]
            ],
            "type": "heatmapgl"
           }
          ],
          "histogram": [
           {
            "marker": {
             "pattern": {
              "fillmode": "overlay",
              "size": 10,
              "solidity": 0.2
             }
            },
            "type": "histogram"
           }
          ],
          "histogram2d": [
           {
            "colorbar": {
             "outlinewidth": 0,
             "ticks": ""
            },
            "colorscale": [
             [
              0,
              "#0d0887"
             ],
             [
              0.1111111111111111,
              "#46039f"
             ],
             [
              0.2222222222222222,
              "#7201a8"
             ],
             [
              0.3333333333333333,
              "#9c179e"
             ],
             [
              0.4444444444444444,
              "#bd3786"
             ],
             [
              0.5555555555555556,
              "#d8576b"
             ],
             [
              0.6666666666666666,
              "#ed7953"
             ],
             [
              0.7777777777777778,
              "#fb9f3a"
             ],
             [
              0.8888888888888888,
              "#fdca26"
             ],
             [
              1,
              "#f0f921"
             ]
            ],
            "type": "histogram2d"
           }
          ],
          "histogram2dcontour": [
           {
            "colorbar": {
             "outlinewidth": 0,
             "ticks": ""
            },
            "colorscale": [
             [
              0,
              "#0d0887"
             ],
             [
              0.1111111111111111,
              "#46039f"
             ],
             [
              0.2222222222222222,
              "#7201a8"
             ],
             [
              0.3333333333333333,
              "#9c179e"
             ],
             [
              0.4444444444444444,
              "#bd3786"
             ],
             [
              0.5555555555555556,
              "#d8576b"
             ],
             [
              0.6666666666666666,
              "#ed7953"
             ],
             [
              0.7777777777777778,
              "#fb9f3a"
             ],
             [
              0.8888888888888888,
              "#fdca26"
             ],
             [
              1,
              "#f0f921"
             ]
            ],
            "type": "histogram2dcontour"
           }
          ],
          "mesh3d": [
           {
            "colorbar": {
             "outlinewidth": 0,
             "ticks": ""
            },
            "type": "mesh3d"
           }
          ],
          "parcoords": [
           {
            "line": {
             "colorbar": {
              "outlinewidth": 0,
              "ticks": ""
             }
            },
            "type": "parcoords"
           }
          ],
          "pie": [
           {
            "automargin": true,
            "type": "pie"
           }
          ],
          "scatter": [
           {
            "marker": {
             "line": {
              "color": "#283442"
             }
            },
            "type": "scatter"
           }
          ],
          "scatter3d": [
           {
            "line": {
             "colorbar": {
              "outlinewidth": 0,
              "ticks": ""
             }
            },
            "marker": {
             "colorbar": {
              "outlinewidth": 0,
              "ticks": ""
             }
            },
            "type": "scatter3d"
           }
          ],
          "scattercarpet": [
           {
            "marker": {
             "colorbar": {
              "outlinewidth": 0,
              "ticks": ""
             }
            },
            "type": "scattercarpet"
           }
          ],
          "scattergeo": [
           {
            "marker": {
             "colorbar": {
              "outlinewidth": 0,
              "ticks": ""
             }
            },
            "type": "scattergeo"
           }
          ],
          "scattergl": [
           {
            "marker": {
             "line": {
              "color": "#283442"
             }
            },
            "type": "scattergl"
           }
          ],
          "scattermapbox": [
           {
            "marker": {
             "colorbar": {
              "outlinewidth": 0,
              "ticks": ""
             }
            },
            "type": "scattermapbox"
           }
          ],
          "scatterpolar": [
           {
            "marker": {
             "colorbar": {
              "outlinewidth": 0,
              "ticks": ""
             }
            },
            "type": "scatterpolar"
           }
          ],
          "scatterpolargl": [
           {
            "marker": {
             "colorbar": {
              "outlinewidth": 0,
              "ticks": ""
             }
            },
            "type": "scatterpolargl"
           }
          ],
          "scatterternary": [
           {
            "marker": {
             "colorbar": {
              "outlinewidth": 0,
              "ticks": ""
             }
            },
            "type": "scatterternary"
           }
          ],
          "surface": [
           {
            "colorbar": {
             "outlinewidth": 0,
             "ticks": ""
            },
            "colorscale": [
             [
              0,
              "#0d0887"
             ],
             [
              0.1111111111111111,
              "#46039f"
             ],
             [
              0.2222222222222222,
              "#7201a8"
             ],
             [
              0.3333333333333333,
              "#9c179e"
             ],
             [
              0.4444444444444444,
              "#bd3786"
             ],
             [
              0.5555555555555556,
              "#d8576b"
             ],
             [
              0.6666666666666666,
              "#ed7953"
             ],
             [
              0.7777777777777778,
              "#fb9f3a"
             ],
             [
              0.8888888888888888,
              "#fdca26"
             ],
             [
              1,
              "#f0f921"
             ]
            ],
            "type": "surface"
           }
          ],
          "table": [
           {
            "cells": {
             "fill": {
              "color": "#506784"
             },
             "line": {
              "color": "rgb(17,17,17)"
             }
            },
            "header": {
             "fill": {
              "color": "#2a3f5f"
             },
             "line": {
              "color": "rgb(17,17,17)"
             }
            },
            "type": "table"
           }
          ]
         },
         "layout": {
          "annotationdefaults": {
           "arrowcolor": "#f2f5fa",
           "arrowhead": 0,
           "arrowwidth": 1
          },
          "autotypenumbers": "strict",
          "coloraxis": {
           "colorbar": {
            "outlinewidth": 0,
            "ticks": ""
           }
          },
          "colorscale": {
           "diverging": [
            [
             0,
             "#8e0152"
            ],
            [
             0.1,
             "#c51b7d"
            ],
            [
             0.2,
             "#de77ae"
            ],
            [
             0.3,
             "#f1b6da"
            ],
            [
             0.4,
             "#fde0ef"
            ],
            [
             0.5,
             "#f7f7f7"
            ],
            [
             0.6,
             "#e6f5d0"
            ],
            [
             0.7,
             "#b8e186"
            ],
            [
             0.8,
             "#7fbc41"
            ],
            [
             0.9,
             "#4d9221"
            ],
            [
             1,
             "#276419"
            ]
           ],
           "sequential": [
            [
             0,
             "#0d0887"
            ],
            [
             0.1111111111111111,
             "#46039f"
            ],
            [
             0.2222222222222222,
             "#7201a8"
            ],
            [
             0.3333333333333333,
             "#9c179e"
            ],
            [
             0.4444444444444444,
             "#bd3786"
            ],
            [
             0.5555555555555556,
             "#d8576b"
            ],
            [
             0.6666666666666666,
             "#ed7953"
            ],
            [
             0.7777777777777778,
             "#fb9f3a"
            ],
            [
             0.8888888888888888,
             "#fdca26"
            ],
            [
             1,
             "#f0f921"
            ]
           ],
           "sequentialminus": [
            [
             0,
             "#0d0887"
            ],
            [
             0.1111111111111111,
             "#46039f"
            ],
            [
             0.2222222222222222,
             "#7201a8"
            ],
            [
             0.3333333333333333,
             "#9c179e"
            ],
            [
             0.4444444444444444,
             "#bd3786"
            ],
            [
             0.5555555555555556,
             "#d8576b"
            ],
            [
             0.6666666666666666,
             "#ed7953"
            ],
            [
             0.7777777777777778,
             "#fb9f3a"
            ],
            [
             0.8888888888888888,
             "#fdca26"
            ],
            [
             1,
             "#f0f921"
            ]
           ]
          },
          "colorway": [
           "#636efa",
           "#EF553B",
           "#00cc96",
           "#ab63fa",
           "#FFA15A",
           "#19d3f3",
           "#FF6692",
           "#B6E880",
           "#FF97FF",
           "#FECB52"
          ],
          "font": {
           "color": "#f2f5fa"
          },
          "geo": {
           "bgcolor": "rgb(17,17,17)",
           "lakecolor": "rgb(17,17,17)",
           "landcolor": "rgb(17,17,17)",
           "showlakes": true,
           "showland": true,
           "subunitcolor": "#506784"
          },
          "hoverlabel": {
           "align": "left"
          },
          "hovermode": "closest",
          "mapbox": {
           "style": "dark"
          },
          "paper_bgcolor": "rgb(17,17,17)",
          "plot_bgcolor": "rgb(17,17,17)",
          "polar": {
           "angularaxis": {
            "gridcolor": "#506784",
            "linecolor": "#506784",
            "ticks": ""
           },
           "bgcolor": "rgb(17,17,17)",
           "radialaxis": {
            "gridcolor": "#506784",
            "linecolor": "#506784",
            "ticks": ""
           }
          },
          "scene": {
           "xaxis": {
            "backgroundcolor": "rgb(17,17,17)",
            "gridcolor": "#506784",
            "gridwidth": 2,
            "linecolor": "#506784",
            "showbackground": true,
            "ticks": "",
            "zerolinecolor": "#C8D4E3"
           },
           "yaxis": {
            "backgroundcolor": "rgb(17,17,17)",
            "gridcolor": "#506784",
            "gridwidth": 2,
            "linecolor": "#506784",
            "showbackground": true,
            "ticks": "",
            "zerolinecolor": "#C8D4E3"
           },
           "zaxis": {
            "backgroundcolor": "rgb(17,17,17)",
            "gridcolor": "#506784",
            "gridwidth": 2,
            "linecolor": "#506784",
            "showbackground": true,
            "ticks": "",
            "zerolinecolor": "#C8D4E3"
           }
          },
          "shapedefaults": {
           "line": {
            "color": "#f2f5fa"
           }
          },
          "sliderdefaults": {
           "bgcolor": "#C8D4E3",
           "bordercolor": "rgb(17,17,17)",
           "borderwidth": 1,
           "tickwidth": 0
          },
          "ternary": {
           "aaxis": {
            "gridcolor": "#506784",
            "linecolor": "#506784",
            "ticks": ""
           },
           "baxis": {
            "gridcolor": "#506784",
            "linecolor": "#506784",
            "ticks": ""
           },
           "bgcolor": "rgb(17,17,17)",
           "caxis": {
            "gridcolor": "#506784",
            "linecolor": "#506784",
            "ticks": ""
           }
          },
          "title": {
           "x": 0.05
          },
          "updatemenudefaults": {
           "bgcolor": "#506784",
           "borderwidth": 0
          },
          "xaxis": {
           "automargin": true,
           "gridcolor": "#283442",
           "linecolor": "#506784",
           "ticks": "",
           "title": {
            "standoff": 15
           },
           "zerolinecolor": "#283442",
           "zerolinewidth": 2
          },
          "yaxis": {
           "automargin": true,
           "gridcolor": "#283442",
           "linecolor": "#506784",
           "ticks": "",
           "title": {
            "standoff": 15
           },
           "zerolinecolor": "#283442",
           "zerolinewidth": 2
          }
         }
        },
        "title": {
         "text": "Labour costs other than wages and salaries in construction"
        },
        "updatemenus": [
         {
          "buttons": [
           {
            "args": [
             null,
             {
              "frame": {
               "duration": 500,
               "redraw": true
              },
              "fromcurrent": true,
              "mode": "immediate",
              "transition": {
               "duration": 500,
               "easing": "linear"
              }
             }
            ],
            "label": "&#9654;",
            "method": "animate"
           },
           {
            "args": [
             [
              null
             ],
             {
              "frame": {
               "duration": 0,
               "redraw": true
              },
              "fromcurrent": true,
              "mode": "immediate",
              "transition": {
               "duration": 0,
               "easing": "linear"
              }
             }
            ],
            "label": "&#9724;",
            "method": "animate"
           }
          ],
          "direction": "left",
          "pad": {
           "r": 10,
           "t": 70
          },
          "showactive": false,
          "type": "buttons",
          "x": 0.1,
          "xanchor": "right",
          "y": 0,
          "yanchor": "top"
         }
        ],
        "xaxis": {
         "anchor": "y",
         "domain": [
          0,
          1
         ],
         "title": {
          "text": "country"
         }
        },
        "yaxis": {
         "anchor": "x",
         "domain": [
          0,
          1
         ],
         "title": {
          "text": "OBS_VALUE"
         }
        }
       }
      },
      "text/html": [
       "<div>                            <div id=\"81bfd012-f72f-4582-8436-44abd4b8b131\" class=\"plotly-graph-div\" style=\"height:525px; width:100%;\"></div>            <script type=\"text/javascript\">                require([\"plotly\"], function(Plotly) {                    window.PLOTLYENV=window.PLOTLYENV || {};                                    if (document.getElementById(\"81bfd012-f72f-4582-8436-44abd4b8b131\")) {                    Plotly.newPlot(                        \"81bfd012-f72f-4582-8436-44abd4b8b131\",                        [{\"alignmentgroup\":\"True\",\"hovertemplate\":\"<b>%{hovertext}</b><br><br>TIME_PERIOD=2000<br>iso3=%{x}<br>OBS_VALUE=%{marker.color}<extra></extra>\",\"hovertext\":[\"LTU\",\"IRL\",\"PRT\",\"DNK\",\"ESP\",\"DEU\",\"LVA\",\"SWE\",\"CZE\",\"ISL\",\"SVN\",\"HUN\",\"FIN\",\"LUX\",\"BGR\",\"SVK\",\"EST\",\"GBR\",\"ITA\",\"FRA\",\"AUT\",\"NLD\",\"BEL\"],\"ids\":[\"LTU\",\"IRL\",\"PRT\",\"DNK\",\"ESP\",\"DEU\",\"LVA\",\"SWE\",\"CZE\",\"ISL\",\"SVN\",\"HUN\",\"FIN\",\"LUX\",\"BGR\",\"SVK\",\"EST\",\"GBR\",\"ITA\",\"FRA\",\"AUT\",\"NLD\",\"BEL\"],\"legendgroup\":\"\",\"marker\":{\"color\":[0.7,2.8,1.3,1.0,3.2,3.8,0.3,8.2,1.0,3.0,1.3,0.9,4.5,2.4,0.3,0.8,0.7,3.8,4.9,5.9,4.0,5.4,9.7],\"coloraxis\":\"coloraxis\",\"pattern\":{\"shape\":\"\"}},\"name\":\"\",\"offsetgroup\":\"\",\"orientation\":\"v\",\"showlegend\":false,\"textposition\":\"auto\",\"x\":[\"LTU\",\"IRL\",\"PRT\",\"DNK\",\"ESP\",\"DEU\",\"LVA\",\"SWE\",\"CZE\",\"ISL\",\"SVN\",\"HUN\",\"FIN\",\"LUX\",\"BGR\",\"SVK\",\"EST\",\"GBR\",\"ITA\",\"FRA\",\"AUT\",\"NLD\",\"BEL\"],\"xaxis\":\"x\",\"y\":[0.7,2.8,1.3,1.0,3.2,3.8,0.3,8.2,1.0,3.0,1.3,0.9,4.5,2.4,0.3,0.8,0.7,3.8,4.9,5.9,4.0,5.4,9.7],\"yaxis\":\"y\",\"type\":\"bar\"}],                        {\"template\":{\"data\":{\"barpolar\":[{\"marker\":{\"line\":{\"color\":\"rgb(17,17,17)\",\"width\":0.5},\"pattern\":{\"fillmode\":\"overlay\",\"size\":10,\"solidity\":0.2}},\"type\":\"barpolar\"}],\"bar\":[{\"error_x\":{\"color\":\"#f2f5fa\"},\"error_y\":{\"color\":\"#f2f5fa\"},\"marker\":{\"line\":{\"color\":\"rgb(17,17,17)\",\"width\":0.5},\"pattern\":{\"fillmode\":\"overlay\",\"size\":10,\"solidity\":0.2}},\"type\":\"bar\"}],\"carpet\":[{\"aaxis\":{\"endlinecolor\":\"#A2B1C6\",\"gridcolor\":\"#506784\",\"linecolor\":\"#506784\",\"minorgridcolor\":\"#506784\",\"startlinecolor\":\"#A2B1C6\"},\"baxis\":{\"endlinecolor\":\"#A2B1C6\",\"gridcolor\":\"#506784\",\"linecolor\":\"#506784\",\"minorgridcolor\":\"#506784\",\"startlinecolor\":\"#A2B1C6\"},\"type\":\"carpet\"}],\"choropleth\":[{\"colorbar\":{\"outlinewidth\":0,\"ticks\":\"\"},\"type\":\"choropleth\"}],\"contourcarpet\":[{\"colorbar\":{\"outlinewidth\":0,\"ticks\":\"\"},\"type\":\"contourcarpet\"}],\"contour\":[{\"colorbar\":{\"outlinewidth\":0,\"ticks\":\"\"},\"colorscale\":[[0.0,\"#0d0887\"],[0.1111111111111111,\"#46039f\"],[0.2222222222222222,\"#7201a8\"],[0.3333333333333333,\"#9c179e\"],[0.4444444444444444,\"#bd3786\"],[0.5555555555555556,\"#d8576b\"],[0.6666666666666666,\"#ed7953\"],[0.7777777777777778,\"#fb9f3a\"],[0.8888888888888888,\"#fdca26\"],[1.0,\"#f0f921\"]],\"type\":\"contour\"}],\"heatmapgl\":[{\"colorbar\":{\"outlinewidth\":0,\"ticks\":\"\"},\"colorscale\":[[0.0,\"#0d0887\"],[0.1111111111111111,\"#46039f\"],[0.2222222222222222,\"#7201a8\"],[0.3333333333333333,\"#9c179e\"],[0.4444444444444444,\"#bd3786\"],[0.5555555555555556,\"#d8576b\"],[0.6666666666666666,\"#ed7953\"],[0.7777777777777778,\"#fb9f3a\"],[0.8888888888888888,\"#fdca26\"],[1.0,\"#f0f921\"]],\"type\":\"heatmapgl\"}],\"heatmap\":[{\"colorbar\":{\"outlinewidth\":0,\"ticks\":\"\"},\"colorscale\":[[0.0,\"#0d0887\"],[0.1111111111111111,\"#46039f\"],[0.2222222222222222,\"#7201a8\"],[0.3333333333333333,\"#9c179e\"],[0.4444444444444444,\"#bd3786\"],[0.5555555555555556,\"#d8576b\"],[0.6666666666666666,\"#ed7953\"],[0.7777777777777778,\"#fb9f3a\"],[0.8888888888888888,\"#fdca26\"],[1.0,\"#f0f921\"]],\"type\":\"heatmap\"}],\"histogram2dcontour\":[{\"colorbar\":{\"outlinewidth\":0,\"ticks\":\"\"},\"colorscale\":[[0.0,\"#0d0887\"],[0.1111111111111111,\"#46039f\"],[0.2222222222222222,\"#7201a8\"],[0.3333333333333333,\"#9c179e\"],[0.4444444444444444,\"#bd3786\"],[0.5555555555555556,\"#d8576b\"],[0.6666666666666666,\"#ed7953\"],[0.7777777777777778,\"#fb9f3a\"],[0.8888888888888888,\"#fdca26\"],[1.0,\"#f0f921\"]],\"type\":\"histogram2dcontour\"}],\"histogram2d\":[{\"colorbar\":{\"outlinewidth\":0,\"ticks\":\"\"},\"colorscale\":[[0.0,\"#0d0887\"],[0.1111111111111111,\"#46039f\"],[0.2222222222222222,\"#7201a8\"],[0.3333333333333333,\"#9c179e\"],[0.4444444444444444,\"#bd3786\"],[0.5555555555555556,\"#d8576b\"],[0.6666666666666666,\"#ed7953\"],[0.7777777777777778,\"#fb9f3a\"],[0.8888888888888888,\"#fdca26\"],[1.0,\"#f0f921\"]],\"type\":\"histogram2d\"}],\"histogram\":[{\"marker\":{\"pattern\":{\"fillmode\":\"overlay\",\"size\":10,\"solidity\":0.2}},\"type\":\"histogram\"}],\"mesh3d\":[{\"colorbar\":{\"outlinewidth\":0,\"ticks\":\"\"},\"type\":\"mesh3d\"}],\"parcoords\":[{\"line\":{\"colorbar\":{\"outlinewidth\":0,\"ticks\":\"\"}},\"type\":\"parcoords\"}],\"pie\":[{\"automargin\":true,\"type\":\"pie\"}],\"scatter3d\":[{\"line\":{\"colorbar\":{\"outlinewidth\":0,\"ticks\":\"\"}},\"marker\":{\"colorbar\":{\"outlinewidth\":0,\"ticks\":\"\"}},\"type\":\"scatter3d\"}],\"scattercarpet\":[{\"marker\":{\"colorbar\":{\"outlinewidth\":0,\"ticks\":\"\"}},\"type\":\"scattercarpet\"}],\"scattergeo\":[{\"marker\":{\"colorbar\":{\"outlinewidth\":0,\"ticks\":\"\"}},\"type\":\"scattergeo\"}],\"scattergl\":[{\"marker\":{\"line\":{\"color\":\"#283442\"}},\"type\":\"scattergl\"}],\"scattermapbox\":[{\"marker\":{\"colorbar\":{\"outlinewidth\":0,\"ticks\":\"\"}},\"type\":\"scattermapbox\"}],\"scatterpolargl\":[{\"marker\":{\"colorbar\":{\"outlinewidth\":0,\"ticks\":\"\"}},\"type\":\"scatterpolargl\"}],\"scatterpolar\":[{\"marker\":{\"colorbar\":{\"outlinewidth\":0,\"ticks\":\"\"}},\"type\":\"scatterpolar\"}],\"scatter\":[{\"marker\":{\"line\":{\"color\":\"#283442\"}},\"type\":\"scatter\"}],\"scatterternary\":[{\"marker\":{\"colorbar\":{\"outlinewidth\":0,\"ticks\":\"\"}},\"type\":\"scatterternary\"}],\"surface\":[{\"colorbar\":{\"outlinewidth\":0,\"ticks\":\"\"},\"colorscale\":[[0.0,\"#0d0887\"],[0.1111111111111111,\"#46039f\"],[0.2222222222222222,\"#7201a8\"],[0.3333333333333333,\"#9c179e\"],[0.4444444444444444,\"#bd3786\"],[0.5555555555555556,\"#d8576b\"],[0.6666666666666666,\"#ed7953\"],[0.7777777777777778,\"#fb9f3a\"],[0.8888888888888888,\"#fdca26\"],[1.0,\"#f0f921\"]],\"type\":\"surface\"}],\"table\":[{\"cells\":{\"fill\":{\"color\":\"#506784\"},\"line\":{\"color\":\"rgb(17,17,17)\"}},\"header\":{\"fill\":{\"color\":\"#2a3f5f\"},\"line\":{\"color\":\"rgb(17,17,17)\"}},\"type\":\"table\"}]},\"layout\":{\"annotationdefaults\":{\"arrowcolor\":\"#f2f5fa\",\"arrowhead\":0,\"arrowwidth\":1},\"autotypenumbers\":\"strict\",\"coloraxis\":{\"colorbar\":{\"outlinewidth\":0,\"ticks\":\"\"}},\"colorscale\":{\"diverging\":[[0,\"#8e0152\"],[0.1,\"#c51b7d\"],[0.2,\"#de77ae\"],[0.3,\"#f1b6da\"],[0.4,\"#fde0ef\"],[0.5,\"#f7f7f7\"],[0.6,\"#e6f5d0\"],[0.7,\"#b8e186\"],[0.8,\"#7fbc41\"],[0.9,\"#4d9221\"],[1,\"#276419\"]],\"sequential\":[[0.0,\"#0d0887\"],[0.1111111111111111,\"#46039f\"],[0.2222222222222222,\"#7201a8\"],[0.3333333333333333,\"#9c179e\"],[0.4444444444444444,\"#bd3786\"],[0.5555555555555556,\"#d8576b\"],[0.6666666666666666,\"#ed7953\"],[0.7777777777777778,\"#fb9f3a\"],[0.8888888888888888,\"#fdca26\"],[1.0,\"#f0f921\"]],\"sequentialminus\":[[0.0,\"#0d0887\"],[0.1111111111111111,\"#46039f\"],[0.2222222222222222,\"#7201a8\"],[0.3333333333333333,\"#9c179e\"],[0.4444444444444444,\"#bd3786\"],[0.5555555555555556,\"#d8576b\"],[0.6666666666666666,\"#ed7953\"],[0.7777777777777778,\"#fb9f3a\"],[0.8888888888888888,\"#fdca26\"],[1.0,\"#f0f921\"]]},\"colorway\":[\"#636efa\",\"#EF553B\",\"#00cc96\",\"#ab63fa\",\"#FFA15A\",\"#19d3f3\",\"#FF6692\",\"#B6E880\",\"#FF97FF\",\"#FECB52\"],\"font\":{\"color\":\"#f2f5fa\"},\"geo\":{\"bgcolor\":\"rgb(17,17,17)\",\"lakecolor\":\"rgb(17,17,17)\",\"landcolor\":\"rgb(17,17,17)\",\"showlakes\":true,\"showland\":true,\"subunitcolor\":\"#506784\"},\"hoverlabel\":{\"align\":\"left\"},\"hovermode\":\"closest\",\"mapbox\":{\"style\":\"dark\"},\"paper_bgcolor\":\"rgb(17,17,17)\",\"plot_bgcolor\":\"rgb(17,17,17)\",\"polar\":{\"angularaxis\":{\"gridcolor\":\"#506784\",\"linecolor\":\"#506784\",\"ticks\":\"\"},\"bgcolor\":\"rgb(17,17,17)\",\"radialaxis\":{\"gridcolor\":\"#506784\",\"linecolor\":\"#506784\",\"ticks\":\"\"}},\"scene\":{\"xaxis\":{\"backgroundcolor\":\"rgb(17,17,17)\",\"gridcolor\":\"#506784\",\"gridwidth\":2,\"linecolor\":\"#506784\",\"showbackground\":true,\"ticks\":\"\",\"zerolinecolor\":\"#C8D4E3\"},\"yaxis\":{\"backgroundcolor\":\"rgb(17,17,17)\",\"gridcolor\":\"#506784\",\"gridwidth\":2,\"linecolor\":\"#506784\",\"showbackground\":true,\"ticks\":\"\",\"zerolinecolor\":\"#C8D4E3\"},\"zaxis\":{\"backgroundcolor\":\"rgb(17,17,17)\",\"gridcolor\":\"#506784\",\"gridwidth\":2,\"linecolor\":\"#506784\",\"showbackground\":true,\"ticks\":\"\",\"zerolinecolor\":\"#C8D4E3\"}},\"shapedefaults\":{\"line\":{\"color\":\"#f2f5fa\"}},\"sliderdefaults\":{\"bgcolor\":\"#C8D4E3\",\"bordercolor\":\"rgb(17,17,17)\",\"borderwidth\":1,\"tickwidth\":0},\"ternary\":{\"aaxis\":{\"gridcolor\":\"#506784\",\"linecolor\":\"#506784\",\"ticks\":\"\"},\"baxis\":{\"gridcolor\":\"#506784\",\"linecolor\":\"#506784\",\"ticks\":\"\"},\"bgcolor\":\"rgb(17,17,17)\",\"caxis\":{\"gridcolor\":\"#506784\",\"linecolor\":\"#506784\",\"ticks\":\"\"}},\"title\":{\"x\":0.05},\"updatemenudefaults\":{\"bgcolor\":\"#506784\",\"borderwidth\":0},\"xaxis\":{\"automargin\":true,\"gridcolor\":\"#283442\",\"linecolor\":\"#506784\",\"ticks\":\"\",\"title\":{\"standoff\":15},\"zerolinecolor\":\"#283442\",\"zerolinewidth\":2},\"yaxis\":{\"automargin\":true,\"gridcolor\":\"#283442\",\"linecolor\":\"#506784\",\"ticks\":\"\",\"title\":{\"standoff\":15},\"zerolinecolor\":\"#283442\",\"zerolinewidth\":2}}},\"xaxis\":{\"anchor\":\"y\",\"domain\":[0.0,1.0],\"title\":{\"text\":\"country\"}},\"yaxis\":{\"anchor\":\"x\",\"domain\":[0.0,1.0],\"title\":{\"text\":\"OBS_VALUE\"}},\"coloraxis\":{\"colorbar\":{\"title\":{\"text\":\"OBS_VALUE\"}},\"colorscale\":[[0.0,\"#0d0887\"],[0.1111111111111111,\"#46039f\"],[0.2222222222222222,\"#7201a8\"],[0.3333333333333333,\"#9c179e\"],[0.4444444444444444,\"#bd3786\"],[0.5555555555555556,\"#d8576b\"],[0.6666666666666666,\"#ed7953\"],[0.7777777777777778,\"#fb9f3a\"],[0.8888888888888888,\"#fdca26\"],[1.0,\"#f0f921\"]]},\"legend\":{\"tracegroupgap\":0},\"margin\":{\"t\":60},\"barmode\":\"relative\",\"updatemenus\":[{\"buttons\":[{\"args\":[null,{\"frame\":{\"duration\":500,\"redraw\":true},\"mode\":\"immediate\",\"fromcurrent\":true,\"transition\":{\"duration\":500,\"easing\":\"linear\"}}],\"label\":\"&#9654;\",\"method\":\"animate\"},{\"args\":[[null],{\"frame\":{\"duration\":0,\"redraw\":true},\"mode\":\"immediate\",\"fromcurrent\":true,\"transition\":{\"duration\":0,\"easing\":\"linear\"}}],\"label\":\"&#9724;\",\"method\":\"animate\"}],\"direction\":\"left\",\"pad\":{\"r\":10,\"t\":70},\"showactive\":false,\"type\":\"buttons\",\"x\":0.1,\"xanchor\":\"right\",\"y\":0,\"yanchor\":\"top\"}],\"sliders\":[{\"active\":0,\"currentvalue\":{\"prefix\":\"TIME_PERIOD=\"},\"len\":0.9,\"pad\":{\"b\":10,\"t\":60},\"steps\":[{\"args\":[[\"2000\"],{\"frame\":{\"duration\":0,\"redraw\":true},\"mode\":\"immediate\",\"fromcurrent\":true,\"transition\":{\"duration\":0,\"easing\":\"linear\"}}],\"label\":\"2000\",\"method\":\"animate\"},{\"args\":[[\"2004\"],{\"frame\":{\"duration\":0,\"redraw\":true},\"mode\":\"immediate\",\"fromcurrent\":true,\"transition\":{\"duration\":0,\"easing\":\"linear\"}}],\"label\":\"2004\",\"method\":\"animate\"},{\"args\":[[\"2008\"],{\"frame\":{\"duration\":0,\"redraw\":true},\"mode\":\"immediate\",\"fromcurrent\":true,\"transition\":{\"duration\":0,\"easing\":\"linear\"}}],\"label\":\"2008\",\"method\":\"animate\"},{\"args\":[[\"2012\"],{\"frame\":{\"duration\":0,\"redraw\":true},\"mode\":\"immediate\",\"fromcurrent\":true,\"transition\":{\"duration\":0,\"easing\":\"linear\"}}],\"label\":\"2012\",\"method\":\"animate\"},{\"args\":[[\"2016\"],{\"frame\":{\"duration\":0,\"redraw\":true},\"mode\":\"immediate\",\"fromcurrent\":true,\"transition\":{\"duration\":0,\"easing\":\"linear\"}}],\"label\":\"2016\",\"method\":\"animate\"},{\"args\":[[\"2020\"],{\"frame\":{\"duration\":0,\"redraw\":true},\"mode\":\"immediate\",\"fromcurrent\":true,\"transition\":{\"duration\":0,\"easing\":\"linear\"}}],\"label\":\"2020\",\"method\":\"animate\"},{\"args\":[[\"2021\"],{\"frame\":{\"duration\":0,\"redraw\":true},\"mode\":\"immediate\",\"fromcurrent\":true,\"transition\":{\"duration\":0,\"easing\":\"linear\"}}],\"label\":\"2021\",\"method\":\"animate\"},{\"args\":[[\"2022\"],{\"frame\":{\"duration\":0,\"redraw\":true},\"mode\":\"immediate\",\"fromcurrent\":true,\"transition\":{\"duration\":0,\"easing\":\"linear\"}}],\"label\":\"2022\",\"method\":\"animate\"}],\"x\":0.1,\"xanchor\":\"left\",\"y\":0,\"yanchor\":\"top\"}],\"title\":{\"text\":\"Labour costs other than wages and salaries in construction\"}},                        {\"responsive\": true}                    ).then(function(){\n",
       "                            Plotly.addFrames('81bfd012-f72f-4582-8436-44abd4b8b131', [{\"data\":[{\"alignmentgroup\":\"True\",\"hovertemplate\":\"<b>%{hovertext}</b><br><br>TIME_PERIOD=2000<br>iso3=%{x}<br>OBS_VALUE=%{marker.color}<extra></extra>\",\"hovertext\":[\"LTU\",\"IRL\",\"PRT\",\"DNK\",\"ESP\",\"DEU\",\"LVA\",\"SWE\",\"CZE\",\"ISL\",\"SVN\",\"HUN\",\"FIN\",\"LUX\",\"BGR\",\"SVK\",\"EST\",\"GBR\",\"ITA\",\"FRA\",\"AUT\",\"NLD\",\"BEL\"],\"ids\":[\"LTU\",\"IRL\",\"PRT\",\"DNK\",\"ESP\",\"DEU\",\"LVA\",\"SWE\",\"CZE\",\"ISL\",\"SVN\",\"HUN\",\"FIN\",\"LUX\",\"BGR\",\"SVK\",\"EST\",\"GBR\",\"ITA\",\"FRA\",\"AUT\",\"NLD\",\"BEL\"],\"legendgroup\":\"\",\"marker\":{\"color\":[0.7,2.8,1.3,1.0,3.2,3.8,0.3,8.2,1.0,3.0,1.3,0.9,4.5,2.4,0.3,0.8,0.7,3.8,4.9,5.9,4.0,5.4,9.7],\"coloraxis\":\"coloraxis\",\"pattern\":{\"shape\":\"\"}},\"name\":\"\",\"offsetgroup\":\"\",\"orientation\":\"v\",\"showlegend\":false,\"textposition\":\"auto\",\"x\":[\"LTU\",\"IRL\",\"PRT\",\"DNK\",\"ESP\",\"DEU\",\"LVA\",\"SWE\",\"CZE\",\"ISL\",\"SVN\",\"HUN\",\"FIN\",\"LUX\",\"BGR\",\"SVK\",\"EST\",\"GBR\",\"ITA\",\"FRA\",\"AUT\",\"NLD\",\"BEL\"],\"xaxis\":\"x\",\"y\":[0.7,2.8,1.3,1.0,3.2,3.8,0.3,8.2,1.0,3.0,1.3,0.9,4.5,2.4,0.3,0.8,0.7,3.8,4.9,5.9,4.0,5.4,9.7],\"yaxis\":\"y\",\"type\":\"bar\"}],\"name\":\"2000\"},{\"data\":[{\"alignmentgroup\":\"True\",\"hovertemplate\":\"<b>%{hovertext}</b><br><br>TIME_PERIOD=2004<br>iso3=%{x}<br>OBS_VALUE=%{marker.color}<extra></extra>\",\"hovertext\":[\"GBR\",\"DEU\",\"MLT\",\"IRL\",\"SWE\",\"ESP\",\"AUT\",\"DNK\",\"HRV\",\"LVA\",\"EST\",\"LTU\",\"ROU\",\"HUN\",\"SVN\",\"SVK\",\"CZE\",\"FRA\",\"POL\",\"ISL\",\"NLD\",\"BGR\",\"PRT\",\"FIN\",\"ITA\",\"LUX\",\"BEL\"],\"ids\":[\"GBR\",\"DEU\",\"MLT\",\"IRL\",\"SWE\",\"ESP\",\"AUT\",\"DNK\",\"HRV\",\"LVA\",\"EST\",\"LTU\",\"ROU\",\"HUN\",\"SVN\",\"SVK\",\"CZE\",\"FRA\",\"POL\",\"ISL\",\"NLD\",\"BGR\",\"PRT\",\"FIN\",\"ITA\",\"LUX\",\"BEL\"],\"legendgroup\":\"\",\"marker\":{\"color\":[3.6,4.2,0.6,3.7,8.7,4.0,5.3,2.3,1.0,0.5,1.2,0.9,0.4,1.3,1.7,0.9,1.5,7.3,0.8,4.1,6.3,0.3,1.7,4.8,6.3,3.0,11.8],\"coloraxis\":\"coloraxis\",\"pattern\":{\"shape\":\"\"}},\"name\":\"\",\"offsetgroup\":\"\",\"orientation\":\"v\",\"showlegend\":false,\"textposition\":\"auto\",\"x\":[\"GBR\",\"DEU\",\"MLT\",\"IRL\",\"SWE\",\"ESP\",\"AUT\",\"DNK\",\"HRV\",\"LVA\",\"EST\",\"LTU\",\"ROU\",\"HUN\",\"SVN\",\"SVK\",\"CZE\",\"FRA\",\"POL\",\"ISL\",\"NLD\",\"BGR\",\"PRT\",\"FIN\",\"ITA\",\"LUX\",\"BEL\"],\"xaxis\":\"x\",\"y\":[3.6,4.2,0.6,3.7,8.7,4.0,5.3,2.3,1.0,0.5,1.2,0.9,0.4,1.3,1.7,0.9,1.5,7.3,0.8,4.1,6.3,0.3,1.7,4.8,6.3,3.0,11.8],\"yaxis\":\"y\",\"type\":\"bar\"}],\"name\":\"2004\"},{\"data\":[{\"alignmentgroup\":\"True\",\"hovertemplate\":\"<b>%{hovertext}</b><br><br>TIME_PERIOD=2008<br>iso3=%{x}<br>OBS_VALUE=%{marker.color}<extra></extra>\",\"hovertext\":[\"EST\",\"NLD\",\"POL\",\"HRV\",\"FRA\",\"HUN\",\"ESP\",\"FIN\",\"DEU\",\"LVA\",\"GBR\",\"AUT\",\"LTU\",\"ITA\",\"BEL\",\"SVK\",\"BGR\",\"PRT\",\"SVN\",\"ISL\",\"MLT\",\"CZE\",\"DNK\",\"ROU\",\"SWE\",\"IRL\",\"LUX\"],\"ids\":[\"EST\",\"NLD\",\"POL\",\"HRV\",\"FRA\",\"HUN\",\"ESP\",\"FIN\",\"DEU\",\"LVA\",\"GBR\",\"AUT\",\"LTU\",\"ITA\",\"BEL\",\"SVK\",\"BGR\",\"PRT\",\"SVN\",\"ISL\",\"MLT\",\"CZE\",\"DNK\",\"ROU\",\"SWE\",\"IRL\",\"LUX\"],\"legendgroup\":\"\",\"marker\":{\"color\":[2.4,7.0,1.2,1.2,8.4,1.7,5.2,6.3,5.0,1.2,3.4,7.2,1.9,6.6,10.6,1.6,0.4,2.0,1.8,3.3,0.8,2.3,3.9,0.8,9.7,4.3,3.1],\"coloraxis\":\"coloraxis\",\"pattern\":{\"shape\":\"\"}},\"name\":\"\",\"offsetgroup\":\"\",\"orientation\":\"v\",\"showlegend\":false,\"textposition\":\"auto\",\"x\":[\"EST\",\"NLD\",\"POL\",\"HRV\",\"FRA\",\"HUN\",\"ESP\",\"FIN\",\"DEU\",\"LVA\",\"GBR\",\"AUT\",\"LTU\",\"ITA\",\"BEL\",\"SVK\",\"BGR\",\"PRT\",\"SVN\",\"ISL\",\"MLT\",\"CZE\",\"DNK\",\"ROU\",\"SWE\",\"IRL\",\"LUX\"],\"xaxis\":\"x\",\"y\":[2.4,7.0,1.2,1.2,8.4,1.7,5.2,6.3,5.0,1.2,3.4,7.2,1.9,6.6,10.6,1.6,0.4,2.0,1.8,3.3,0.8,2.3,3.9,0.8,9.7,4.3,3.1],\"yaxis\":\"y\",\"type\":\"bar\"}],\"name\":\"2008\"},{\"data\":[{\"alignmentgroup\":\"True\",\"hovertemplate\":\"<b>%{hovertext}</b><br><br>TIME_PERIOD=2012<br>iso3=%{x}<br>OBS_VALUE=%{marker.color}<extra></extra>\",\"hovertext\":[\"MKD\",\"HRV\",\"GBR\",\"LUX\",\"ITA\",\"LTU\",\"HUN\",\"MNE\",\"LVA\",\"IRL\",\"ISL\",\"ALB\",\"SRB\",\"AUT\",\"TUR\",\"BIH\",\"BEL\",\"SVK\",\"BGR\",\"SVN\",\"CHE\",\"SWE\",\"CZE\",\"MLT\",\"DEU\",\"ROU\",\"DNK\",\"POL\",\"PRT\",\"FRA\",\"EST\",\"NLD\",\"ESP\",\"FIN\",\"NOR\"],\"ids\":[\"MKD\",\"HRV\",\"GBR\",\"LUX\",\"ITA\",\"LTU\",\"HUN\",\"MNE\",\"LVA\",\"IRL\",\"ISL\",\"ALB\",\"SRB\",\"AUT\",\"TUR\",\"BIH\",\"BEL\",\"SVK\",\"BGR\",\"SVN\",\"CHE\",\"SWE\",\"CZE\",\"MLT\",\"DEU\",\"ROU\",\"DNK\",\"POL\",\"PRT\",\"FRA\",\"EST\",\"NLD\",\"ESP\",\"FIN\",\"NOR\"],\"legendgroup\":\"\",\"marker\":{\"color\":[0.3,1.4,3.6,3.7,6.8,1.7,1.4,0.7,1.1,3.1,4.4,0.4,0.7,7.3,0.7,0.3,13.1,2.2,0.5,1.8,9.0,12.0,2.5,0.9,5.5,0.7,4.3,1.2,2.4,9.4,2.7,8.1,6.1,6.9,8.5],\"coloraxis\":\"coloraxis\",\"pattern\":{\"shape\":\"\"}},\"name\":\"\",\"offsetgroup\":\"\",\"orientation\":\"v\",\"showlegend\":false,\"textposition\":\"auto\",\"x\":[\"MKD\",\"HRV\",\"GBR\",\"LUX\",\"ITA\",\"LTU\",\"HUN\",\"MNE\",\"LVA\",\"IRL\",\"ISL\",\"ALB\",\"SRB\",\"AUT\",\"TUR\",\"BIH\",\"BEL\",\"SVK\",\"BGR\",\"SVN\",\"CHE\",\"SWE\",\"CZE\",\"MLT\",\"DEU\",\"ROU\",\"DNK\",\"POL\",\"PRT\",\"FRA\",\"EST\",\"NLD\",\"ESP\",\"FIN\",\"NOR\"],\"xaxis\":\"x\",\"y\":[0.3,1.4,3.6,3.7,6.8,1.7,1.4,0.7,1.1,3.1,4.4,0.4,0.7,7.3,0.7,0.3,13.1,2.2,0.5,1.8,9.0,12.0,2.5,0.9,5.5,0.7,4.3,1.2,2.4,9.4,2.7,8.1,6.1,6.9,8.5],\"yaxis\":\"y\",\"type\":\"bar\"}],\"name\":\"2012\"},{\"data\":[{\"alignmentgroup\":\"True\",\"hovertemplate\":\"<b>%{hovertext}</b><br><br>TIME_PERIOD=2016<br>iso3=%{x}<br>OBS_VALUE=%{marker.color}<extra></extra>\",\"hovertext\":[\"TUR\",\"MKD\",\"SVK\",\"LTU\",\"MNE\",\"SVN\",\"PRT\",\"NOR\",\"SWE\",\"POL\",\"SRB\",\"LUX\",\"LVA\",\"ROU\",\"NLD\",\"MLT\",\"GBR\",\"FRA\",\"CZE\",\"FIN\",\"CHE\",\"BGR\",\"HRV\",\"ESP\",\"DEU\",\"BEL\",\"HUN\",\"BIH\",\"IRL\",\"EST\",\"ISL\",\"ALB\",\"AUT\",\"ITA\",\"DNK\"],\"ids\":[\"TUR\",\"MKD\",\"SVK\",\"LTU\",\"MNE\",\"SVN\",\"PRT\",\"NOR\",\"SWE\",\"POL\",\"SRB\",\"LUX\",\"LVA\",\"ROU\",\"NLD\",\"MLT\",\"GBR\",\"FRA\",\"CZE\",\"FIN\",\"CHE\",\"BGR\",\"HRV\",\"ESP\",\"DEU\",\"BEL\",\"HUN\",\"BIH\",\"IRL\",\"EST\",\"ISL\",\"ALB\",\"AUT\",\"ITA\",\"DNK\"],\"legendgroup\":\"\",\"marker\":{\"color\":[0.8,0.0,2.3,2.2,0.6,2.0,2.1,6.9,11.6,1.5,0.7,3.4,1.6,0.8,8.8,1.0,4.2,9.2,2.6,7.6,9.4,0.6,1.3,5.7,5.9,10.9,1.6,0.3,2.9,3.1,6.5,0.4,9.8,6.9,4.6],\"coloraxis\":\"coloraxis\",\"pattern\":{\"shape\":\"\"}},\"name\":\"\",\"offsetgroup\":\"\",\"orientation\":\"v\",\"showlegend\":false,\"textposition\":\"auto\",\"x\":[\"TUR\",\"MKD\",\"SVK\",\"LTU\",\"MNE\",\"SVN\",\"PRT\",\"NOR\",\"SWE\",\"POL\",\"SRB\",\"LUX\",\"LVA\",\"ROU\",\"NLD\",\"MLT\",\"GBR\",\"FRA\",\"CZE\",\"FIN\",\"CHE\",\"BGR\",\"HRV\",\"ESP\",\"DEU\",\"BEL\",\"HUN\",\"BIH\",\"IRL\",\"EST\",\"ISL\",\"ALB\",\"AUT\",\"ITA\",\"DNK\"],\"xaxis\":\"x\",\"y\":[0.8,0.0,2.3,2.2,0.6,2.0,2.1,6.9,11.6,1.5,0.7,3.4,1.6,0.8,8.8,1.0,4.2,9.2,2.6,7.6,9.4,0.6,1.3,5.7,5.9,10.9,1.6,0.3,2.9,3.1,6.5,0.4,9.8,6.9,4.6],\"yaxis\":\"y\",\"type\":\"bar\"}],\"name\":\"2016\"},{\"data\":[{\"alignmentgroup\":\"True\",\"hovertemplate\":\"<b>%{hovertext}</b><br><br>TIME_PERIOD=2020<br>iso3=%{x}<br>OBS_VALUE=%{marker.color}<extra></extra>\",\"hovertext\":[\"FIN\",\"SWE\",\"NLD\",\"CYP\",\"DNK\",\"POL\",\"ITA\",\"ESP\",\"NOR\",\"CZE\",\"EST\",\"ROU\",\"BGR\",\"PRT\",\"LUX\",\"DEU\",\"IRL\",\"SVK\",\"TUR\",\"HUN\",\"LVA\",\"MLT\",\"BEL\",\"AUT\",\"HRV\",\"SVN\",\"LTU\",\"FRA\",\"ISL\",\"SRB\"],\"ids\":[\"FIN\",\"SWE\",\"NLD\",\"CYP\",\"DNK\",\"POL\",\"ITA\",\"ESP\",\"NOR\",\"CZE\",\"EST\",\"ROU\",\"BGR\",\"PRT\",\"LUX\",\"DEU\",\"IRL\",\"SVK\",\"TUR\",\"HUN\",\"LVA\",\"MLT\",\"BEL\",\"AUT\",\"HRV\",\"SVN\",\"LTU\",\"FRA\",\"ISL\",\"SRB\"],\"legendgroup\":\"\",\"marker\":{\"color\":[6.6,11.2,9.3,2.4,4.3,1.6,7.4,5.9,6.8,3.4,3.7,0.3,0.8,2.5,4.2,6.9,1.5,2.8,0.4,1.3,2.4,0.7,10.8,11.4,1.3,2.1,0.3,10.1,8.2,0.7],\"coloraxis\":\"coloraxis\",\"pattern\":{\"shape\":\"\"}},\"name\":\"\",\"offsetgroup\":\"\",\"orientation\":\"v\",\"showlegend\":false,\"textposition\":\"auto\",\"x\":[\"FIN\",\"SWE\",\"NLD\",\"CYP\",\"DNK\",\"POL\",\"ITA\",\"ESP\",\"NOR\",\"CZE\",\"EST\",\"ROU\",\"BGR\",\"PRT\",\"LUX\",\"DEU\",\"IRL\",\"SVK\",\"TUR\",\"HUN\",\"LVA\",\"MLT\",\"BEL\",\"AUT\",\"HRV\",\"SVN\",\"LTU\",\"FRA\",\"ISL\",\"SRB\"],\"xaxis\":\"x\",\"y\":[6.6,11.2,9.3,2.4,4.3,1.6,7.4,5.9,6.8,3.4,3.7,0.3,0.8,2.5,4.2,6.9,1.5,2.8,0.4,1.3,2.4,0.7,10.8,11.4,1.3,2.1,0.3,10.1,8.2,0.7],\"yaxis\":\"y\",\"type\":\"bar\"}],\"name\":\"2020\"},{\"data\":[{\"alignmentgroup\":\"True\",\"hovertemplate\":\"<b>%{hovertext}</b><br><br>TIME_PERIOD=2021<br>iso3=%{x}<br>OBS_VALUE=%{marker.color}<extra></extra>\",\"hovertext\":[\"ROU\",\"ITA\",\"SRB\",\"CYP\",\"SWE\",\"BGR\",\"SVN\",\"BEL\",\"SVK\",\"AUT\",\"TUR\",\"CZE\",\"DEU\",\"ISL\",\"ESP\",\"NLD\",\"HUN\",\"LVA\",\"HRV\",\"NOR\",\"LUX\",\"IRL\",\"FIN\",\"MLT\",\"FRA\",\"POL\",\"LTU\",\"DNK\",\"PRT\",\"EST\"],\"ids\":[\"ROU\",\"ITA\",\"SRB\",\"CYP\",\"SWE\",\"BGR\",\"SVN\",\"BEL\",\"SVK\",\"AUT\",\"TUR\",\"CZE\",\"DEU\",\"ISL\",\"ESP\",\"NLD\",\"HUN\",\"LVA\",\"HRV\",\"NOR\",\"LUX\",\"IRL\",\"FIN\",\"MLT\",\"FRA\",\"POL\",\"LTU\",\"DNK\",\"PRT\",\"EST\"],\"legendgroup\":\"\",\"marker\":{\"color\":[0.3,7.3,1.3,2.9,12.6,0.8,2.4,10.9,2.9,11.6,0.3,3.8,7.3,7.6,6.0,9.3,1.3,2.3,1.4,7.4,4.0,0.6,6.5,0.7,9.9,1.7,0.5,4.5,2.7,3.9],\"coloraxis\":\"coloraxis\",\"pattern\":{\"shape\":\"\"}},\"name\":\"\",\"offsetgroup\":\"\",\"orientation\":\"v\",\"showlegend\":false,\"textposition\":\"auto\",\"x\":[\"ROU\",\"ITA\",\"SRB\",\"CYP\",\"SWE\",\"BGR\",\"SVN\",\"BEL\",\"SVK\",\"AUT\",\"TUR\",\"CZE\",\"DEU\",\"ISL\",\"ESP\",\"NLD\",\"HUN\",\"LVA\",\"HRV\",\"NOR\",\"LUX\",\"IRL\",\"FIN\",\"MLT\",\"FRA\",\"POL\",\"LTU\",\"DNK\",\"PRT\",\"EST\"],\"xaxis\":\"x\",\"y\":[0.3,7.3,1.3,2.9,12.6,0.8,2.4,10.9,2.9,11.6,0.3,3.8,7.3,7.6,6.0,9.3,1.3,2.3,1.4,7.4,4.0,0.6,6.5,0.7,9.9,1.7,0.5,4.5,2.7,3.9],\"yaxis\":\"y\",\"type\":\"bar\"}],\"name\":\"2021\"},{\"data\":[{\"alignmentgroup\":\"True\",\"hovertemplate\":\"<b>%{hovertext}</b><br><br>TIME_PERIOD=2022<br>iso3=%{x}<br>OBS_VALUE=%{marker.color}<extra></extra>\",\"hovertext\":[\"HUN\",\"HRV\",\"LVA\",\"DEU\",\"SVK\",\"AUT\",\"IRL\",\"TUR\",\"LTU\",\"ISL\",\"LUX\",\"BEL\",\"MLT\",\"FRA\",\"DNK\",\"ITA\",\"ROU\",\"CZE\",\"EST\",\"NOR\",\"SVN\",\"SRB\",\"NLD\",\"ESP\",\"SWE\",\"FIN\",\"BGR\",\"PRT\",\"CYP\",\"POL\"],\"ids\":[\"HUN\",\"HRV\",\"LVA\",\"DEU\",\"SVK\",\"AUT\",\"IRL\",\"TUR\",\"LTU\",\"ISL\",\"LUX\",\"BEL\",\"MLT\",\"FRA\",\"DNK\",\"ITA\",\"ROU\",\"CZE\",\"EST\",\"NOR\",\"SVN\",\"SRB\",\"NLD\",\"ESP\",\"SWE\",\"FIN\",\"BGR\",\"PRT\",\"CYP\",\"POL\"],\"legendgroup\":\"\",\"marker\":{\"color\":[1.2,1.5,2.5,8.2,3.6,12.3,8.6,0.4,0.6,8.8,4.2,11.5,1.0,10.0,4.6,7.5,0.3,4.2,4.2,7.7,2.6,1.7,10.1,6.1,12.8,6.8,0.9,2.9,3.0,1.8],\"coloraxis\":\"coloraxis\",\"pattern\":{\"shape\":\"\"}},\"name\":\"\",\"offsetgroup\":\"\",\"orientation\":\"v\",\"showlegend\":false,\"textposition\":\"auto\",\"x\":[\"HUN\",\"HRV\",\"LVA\",\"DEU\",\"SVK\",\"AUT\",\"IRL\",\"TUR\",\"LTU\",\"ISL\",\"LUX\",\"BEL\",\"MLT\",\"FRA\",\"DNK\",\"ITA\",\"ROU\",\"CZE\",\"EST\",\"NOR\",\"SVN\",\"SRB\",\"NLD\",\"ESP\",\"SWE\",\"FIN\",\"BGR\",\"PRT\",\"CYP\",\"POL\"],\"xaxis\":\"x\",\"y\":[1.2,1.5,2.5,8.2,3.6,12.3,8.6,0.4,0.6,8.8,4.2,11.5,1.0,10.0,4.6,7.5,0.3,4.2,4.2,7.7,2.6,1.7,10.1,6.1,12.8,6.8,0.9,2.9,3.0,1.8],\"yaxis\":\"y\",\"type\":\"bar\"}],\"name\":\"2022\"}]);\n",
       "                        }).then(function(){\n",
       "                            \n",
       "var gd = document.getElementById('81bfd012-f72f-4582-8436-44abd4b8b131');\n",
       "var x = new MutationObserver(function (mutations, observer) {{\n",
       "        var display = window.getComputedStyle(gd).display;\n",
       "        if (!display || display === 'none') {{\n",
       "            console.log([gd, 'removed!']);\n",
       "            Plotly.purge(gd);\n",
       "            observer.disconnect();\n",
       "        }}\n",
       "}});\n",
       "\n",
       "// Listen for the removal of the full notebook cells\n",
       "var notebookContainer = gd.closest('#notebook-container');\n",
       "if (notebookContainer) {{\n",
       "    x.observe(notebookContainer, {childList: true});\n",
       "}}\n",
       "\n",
       "// Listen for the clearing of the current output cell\n",
       "var outputEl = gd.closest('.output');\n",
       "if (outputEl) {{\n",
       "    x.observe(outputEl, {childList: true});\n",
       "}}\n",
       "\n",
       "                        })                };                });            </script>        </div>"
      ]
     },
     "metadata": {},
     "output_type": "display_data"
    }
   ],
   "source": [
    "fig = px.bar(\n",
    "  other_costs,\n",
    "  x='iso3', y='OBS_VALUE',\n",
    "  color='OBS_VALUE',\n",
    "  animation_frame='TIME_PERIOD',\n",
    "  animation_group='iso3',\n",
    "  hover_name='iso3',\n",
    " # range_y=[0,50],\n",
    " # range_x=[0,30]\n",
    ")\n",
    "fig.update_layout(\n",
    "    title_text = 'Labour costs other than wages and salaries in construction',\n",
    "    template='plotly_dark',\n",
    "    xaxis_title='country'\n",
    ")\n",
    "fig.show()"
   ]
  },
  {
   "cell_type": "code",
   "execution_count": null,
   "id": "1fccc875",
   "metadata": {},
   "outputs": [],
   "source": []
  }
 ],
 "metadata": {
  "kernelspec": {
   "display_name": "Python 3 (ipykernel)",
   "language": "python",
   "name": "python3"
  },
  "language_info": {
   "codemirror_mode": {
    "name": "ipython",
    "version": 3
   },
   "file_extension": ".py",
   "mimetype": "text/x-python",
   "name": "python",
   "nbconvert_exporter": "python",
   "pygments_lexer": "ipython3",
   "version": "3.9.7"
  }
 },
 "nbformat": 4,
 "nbformat_minor": 5
}
