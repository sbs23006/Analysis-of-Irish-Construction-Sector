{
 "cells": [
  {
   "cell_type": "code",
   "execution_count": 59,
   "id": "0ef19a47",
   "metadata": {},
   "outputs": [],
   "source": [
    "import plotly.express as px\n",
    "from utils import *\n",
    "%matplotlib inline"
   ]
  },
  {
   "cell_type": "code",
   "execution_count": 2,
   "id": "112804fa",
   "metadata": {},
   "outputs": [],
   "source": [
    "#https://ec.europa.eu/eurostat/databrowser/view/lc_lci_lev/default/table?lang=en\n",
    "df = pd.read_csv('data/estat_lc_lci_lev_en.csv')"
   ]
  },
  {
   "cell_type": "code",
   "execution_count": 3,
   "id": "d123cd03",
   "metadata": {},
   "outputs": [
    {
     "data": {
      "text/html": [
       "<div>\n",
       "<style scoped>\n",
       "    .dataframe tbody tr th:only-of-type {\n",
       "        vertical-align: middle;\n",
       "    }\n",
       "\n",
       "    .dataframe tbody tr th {\n",
       "        vertical-align: top;\n",
       "    }\n",
       "\n",
       "    .dataframe thead th {\n",
       "        text-align: right;\n",
       "    }\n",
       "</style>\n",
       "<table border=\"1\" class=\"dataframe\">\n",
       "  <thead>\n",
       "    <tr style=\"text-align: right;\">\n",
       "      <th></th>\n",
       "      <th>DATAFLOW</th>\n",
       "      <th>LAST UPDATE</th>\n",
       "      <th>freq</th>\n",
       "      <th>unit</th>\n",
       "      <th>lcstruct</th>\n",
       "      <th>nace_r2</th>\n",
       "      <th>geo</th>\n",
       "      <th>TIME_PERIOD</th>\n",
       "      <th>OBS_VALUE</th>\n",
       "      <th>OBS_FLAG</th>\n",
       "    </tr>\n",
       "  </thead>\n",
       "  <tbody>\n",
       "    <tr>\n",
       "      <th>0</th>\n",
       "      <td>ESTAT:LC_LCI_LEV(1.0)</td>\n",
       "      <td>30/03/23 11:00:00</td>\n",
       "      <td>A</td>\n",
       "      <td>EUR</td>\n",
       "      <td>D11</td>\n",
       "      <td>B</td>\n",
       "      <td>AL</td>\n",
       "      <td>2012</td>\n",
       "      <td>2.1</td>\n",
       "      <td>NaN</td>\n",
       "    </tr>\n",
       "    <tr>\n",
       "      <th>1</th>\n",
       "      <td>ESTAT:LC_LCI_LEV(1.0)</td>\n",
       "      <td>30/03/23 11:00:00</td>\n",
       "      <td>A</td>\n",
       "      <td>EUR</td>\n",
       "      <td>D11</td>\n",
       "      <td>B</td>\n",
       "      <td>AL</td>\n",
       "      <td>2016</td>\n",
       "      <td>2.7</td>\n",
       "      <td>NaN</td>\n",
       "    </tr>\n",
       "    <tr>\n",
       "      <th>2</th>\n",
       "      <td>ESTAT:LC_LCI_LEV(1.0)</td>\n",
       "      <td>30/03/23 11:00:00</td>\n",
       "      <td>A</td>\n",
       "      <td>EUR</td>\n",
       "      <td>D11</td>\n",
       "      <td>B</td>\n",
       "      <td>AT</td>\n",
       "      <td>2000</td>\n",
       "      <td>20.1</td>\n",
       "      <td>d</td>\n",
       "    </tr>\n",
       "    <tr>\n",
       "      <th>3</th>\n",
       "      <td>ESTAT:LC_LCI_LEV(1.0)</td>\n",
       "      <td>30/03/23 11:00:00</td>\n",
       "      <td>A</td>\n",
       "      <td>EUR</td>\n",
       "      <td>D11</td>\n",
       "      <td>B</td>\n",
       "      <td>AT</td>\n",
       "      <td>2004</td>\n",
       "      <td>22.3</td>\n",
       "      <td>d</td>\n",
       "    </tr>\n",
       "    <tr>\n",
       "      <th>4</th>\n",
       "      <td>ESTAT:LC_LCI_LEV(1.0)</td>\n",
       "      <td>30/03/23 11:00:00</td>\n",
       "      <td>A</td>\n",
       "      <td>EUR</td>\n",
       "      <td>D11</td>\n",
       "      <td>B</td>\n",
       "      <td>AT</td>\n",
       "      <td>2008</td>\n",
       "      <td>22.2</td>\n",
       "      <td>NaN</td>\n",
       "    </tr>\n",
       "  </tbody>\n",
       "</table>\n",
       "</div>"
      ],
      "text/plain": [
       "                DATAFLOW        LAST UPDATE freq unit lcstruct nace_r2 geo  \\\n",
       "0  ESTAT:LC_LCI_LEV(1.0)  30/03/23 11:00:00    A  EUR      D11       B  AL   \n",
       "1  ESTAT:LC_LCI_LEV(1.0)  30/03/23 11:00:00    A  EUR      D11       B  AL   \n",
       "2  ESTAT:LC_LCI_LEV(1.0)  30/03/23 11:00:00    A  EUR      D11       B  AT   \n",
       "3  ESTAT:LC_LCI_LEV(1.0)  30/03/23 11:00:00    A  EUR      D11       B  AT   \n",
       "4  ESTAT:LC_LCI_LEV(1.0)  30/03/23 11:00:00    A  EUR      D11       B  AT   \n",
       "\n",
       "   TIME_PERIOD  OBS_VALUE OBS_FLAG  \n",
       "0         2012        2.1      NaN  \n",
       "1         2016        2.7      NaN  \n",
       "2         2000       20.1        d  \n",
       "3         2004       22.3        d  \n",
       "4         2008       22.2      NaN  "
      ]
     },
     "execution_count": 3,
     "metadata": {},
     "output_type": "execute_result"
    }
   ],
   "source": [
    "df.head()"
   ]
  },
  {
   "cell_type": "code",
   "execution_count": 4,
   "id": "7630db5d",
   "metadata": {},
   "outputs": [
    {
     "data": {
      "text/plain": [
       "array(['EUR', 'NAC', 'RT_PRE_EUR', 'RT_PRE_NAC'], dtype=object)"
      ]
     },
     "execution_count": 4,
     "metadata": {},
     "output_type": "execute_result"
    }
   ],
   "source": [
    "df['unit'].unique()"
   ]
  },
  {
   "cell_type": "code",
   "execution_count": 5,
   "id": "1a868b42",
   "metadata": {},
   "outputs": [
    {
     "data": {
      "text/plain": [
       "array(['D11', 'D12_D4_MD5', 'D1_D4_MD5', 'D2-D4_MD5_RAT'], dtype=object)"
      ]
     },
     "execution_count": 5,
     "metadata": {},
     "output_type": "execute_result"
    }
   ],
   "source": [
    "df['lcstruct'].unique()"
   ]
  },
  {
   "cell_type": "code",
   "execution_count": 6,
   "id": "742c83ca",
   "metadata": {},
   "outputs": [
    {
     "data": {
      "text/plain": [
       "array(['ESTAT:LC_LCI_LEV(1.0)'], dtype=object)"
      ]
     },
     "execution_count": 6,
     "metadata": {},
     "output_type": "execute_result"
    }
   ],
   "source": [
    "df['DATAFLOW'].unique()"
   ]
  },
  {
   "cell_type": "code",
   "execution_count": 7,
   "id": "d05a74c0",
   "metadata": {},
   "outputs": [
    {
     "data": {
      "text/plain": [
       "array(['A'], dtype=object)"
      ]
     },
     "execution_count": 7,
     "metadata": {},
     "output_type": "execute_result"
    }
   ],
   "source": [
    "df['freq'].unique()"
   ]
  },
  {
   "cell_type": "code",
   "execution_count": 8,
   "id": "6fb0426a",
   "metadata": {},
   "outputs": [
    {
     "data": {
      "text/plain": [
       "array(['B', 'B-E', 'B-N', 'B-S_X_O', 'C', 'D', 'E', 'F', 'G', 'G-N', 'H',\n",
       "       'I', 'J', 'K', 'M', 'N', 'P', 'P-S', 'Q', 'R', 'S'], dtype=object)"
      ]
     },
     "execution_count": 8,
     "metadata": {},
     "output_type": "execute_result"
    }
   ],
   "source": [
    "df['nace_r2'].unique()"
   ]
  },
  {
   "cell_type": "code",
   "execution_count": 9,
   "id": "5c0c3ec3",
   "metadata": {},
   "outputs": [],
   "source": [
    "df.drop(columns=['DATAFLOW', 'LAST UPDATE', 'freq', 'OBS_FLAG'], inplace=True)"
   ]
  },
  {
   "cell_type": "code",
   "execution_count": 10,
   "id": "2d3a86f0",
   "metadata": {},
   "outputs": [
    {
     "data": {
      "text/html": [
       "<div>\n",
       "<style scoped>\n",
       "    .dataframe tbody tr th:only-of-type {\n",
       "        vertical-align: middle;\n",
       "    }\n",
       "\n",
       "    .dataframe tbody tr th {\n",
       "        vertical-align: top;\n",
       "    }\n",
       "\n",
       "    .dataframe thead th {\n",
       "        text-align: right;\n",
       "    }\n",
       "</style>\n",
       "<table border=\"1\" class=\"dataframe\">\n",
       "  <thead>\n",
       "    <tr style=\"text-align: right;\">\n",
       "      <th></th>\n",
       "      <th>unit</th>\n",
       "      <th>lcstruct</th>\n",
       "      <th>nace_r2</th>\n",
       "      <th>geo</th>\n",
       "      <th>TIME_PERIOD</th>\n",
       "      <th>OBS_VALUE</th>\n",
       "    </tr>\n",
       "  </thead>\n",
       "  <tbody>\n",
       "    <tr>\n",
       "      <th>0</th>\n",
       "      <td>EUR</td>\n",
       "      <td>D11</td>\n",
       "      <td>B</td>\n",
       "      <td>AL</td>\n",
       "      <td>2012</td>\n",
       "      <td>2.1</td>\n",
       "    </tr>\n",
       "    <tr>\n",
       "      <th>1</th>\n",
       "      <td>EUR</td>\n",
       "      <td>D11</td>\n",
       "      <td>B</td>\n",
       "      <td>AL</td>\n",
       "      <td>2016</td>\n",
       "      <td>2.7</td>\n",
       "    </tr>\n",
       "    <tr>\n",
       "      <th>2</th>\n",
       "      <td>EUR</td>\n",
       "      <td>D11</td>\n",
       "      <td>B</td>\n",
       "      <td>AT</td>\n",
       "      <td>2000</td>\n",
       "      <td>20.1</td>\n",
       "    </tr>\n",
       "    <tr>\n",
       "      <th>3</th>\n",
       "      <td>EUR</td>\n",
       "      <td>D11</td>\n",
       "      <td>B</td>\n",
       "      <td>AT</td>\n",
       "      <td>2004</td>\n",
       "      <td>22.3</td>\n",
       "    </tr>\n",
       "    <tr>\n",
       "      <th>4</th>\n",
       "      <td>EUR</td>\n",
       "      <td>D11</td>\n",
       "      <td>B</td>\n",
       "      <td>AT</td>\n",
       "      <td>2008</td>\n",
       "      <td>22.2</td>\n",
       "    </tr>\n",
       "  </tbody>\n",
       "</table>\n",
       "</div>"
      ],
      "text/plain": [
       "  unit lcstruct nace_r2 geo  TIME_PERIOD  OBS_VALUE\n",
       "0  EUR      D11       B  AL         2012        2.1\n",
       "1  EUR      D11       B  AL         2016        2.7\n",
       "2  EUR      D11       B  AT         2000       20.1\n",
       "3  EUR      D11       B  AT         2004       22.3\n",
       "4  EUR      D11       B  AT         2008       22.2"
      ]
     },
     "execution_count": 10,
     "metadata": {},
     "output_type": "execute_result"
    }
   ],
   "source": [
    "df.head()"
   ]
  },
  {
   "cell_type": "code",
   "execution_count": 11,
   "id": "4bcb8242",
   "metadata": {},
   "outputs": [
    {
     "data": {
      "text/plain": [
       "(50741, 6)"
      ]
     },
     "execution_count": 11,
     "metadata": {},
     "output_type": "execute_result"
    }
   ],
   "source": [
    "df.shape"
   ]
  },
  {
   "cell_type": "markdown",
   "id": "45bb9b19",
   "metadata": {},
   "source": [
    "#### Column values documentation\n",
    "From https://ec.europa.eu/eurostat/databrowser/view/lc_lci_lev/default/table?lang=en\n",
    "\n",
    "###### nace_r2\n",
    "construction sector == 'F'\n",
    "\n",
    "###### lcstruct - labour cost structure\n",
    "- Labour cost for LCI (compensation of employees plus taxes minus subsidies) - \n",
    "[D1_D4_MD5]\n",
    "- Wages and salaries (total) - \n",
    "[D11]\n",
    "- Labour costs other than wages and salaries - \n",
    "[D12_D4_MD5]\n",
    "- Share of non-wage costs (%) - \n",
    "[D2-D4_MD5_RAT]\n",
    "\n",
    "###### unit\n",
    "\n",
    "- Euro - \n",
    "[EUR]\n",
    "- National currency - \n",
    "[NAC]\n",
    "- Growth rate on previous period (t/t-1) for values in euro - \n",
    "[RT_PRE_EUR]\n",
    "- Growth rate on previous period (t/t-1) for values in national currency - \n",
    "[RT_PRE_NAC]"
   ]
  },
  {
   "cell_type": "code",
   "execution_count": 12,
   "id": "1179c374",
   "metadata": {},
   "outputs": [],
   "source": [
    "filtered_df = df[df['nace_r2'] =='F']"
   ]
  },
  {
   "cell_type": "code",
   "execution_count": 13,
   "id": "6d997cfe",
   "metadata": {},
   "outputs": [
    {
     "data": {
      "text/plain": [
       "(2739, 6)"
      ]
     },
     "execution_count": 13,
     "metadata": {},
     "output_type": "execute_result"
    }
   ],
   "source": [
    "filtered_df.shape"
   ]
  },
  {
   "cell_type": "code",
   "execution_count": 14,
   "id": "d85391cb",
   "metadata": {},
   "outputs": [
    {
     "name": "stderr",
     "output_type": "stream",
     "text": [
      "C:\\Users\\VMARTU~1\\AppData\\Local\\Temp/ipykernel_32736/2237221970.py:4: SettingWithCopyWarning: \n",
      "A value is trying to be set on a copy of a slice from a DataFrame.\n",
      "Try using .loc[row_indexer,col_indexer] = value instead\n",
      "\n",
      "See the caveats in the documentation: https://pandas.pydata.org/pandas-docs/stable/user_guide/indexing.html#returning-a-view-versus-a-copy\n",
      "  filtered_df['lcstruct'] = filtered_df['lcstruct'].replace(new_names)\n"
     ]
    },
    {
     "data": {
      "text/plain": [
       "array(['Wages and salaries', 'Labour costs other than wages and salaries',\n",
       "       'Labour cost for LCI', 'Share of non-wage costs (%)'], dtype=object)"
      ]
     },
     "execution_count": 14,
     "metadata": {},
     "output_type": "execute_result"
    }
   ],
   "source": [
    "#replacing lctruct names\n",
    "new_names = {'D1_D4_MD5': 'Labour cost for LCI', 'D11': 'Wages and salaries', \n",
    "             'D12_D4_MD5': 'Labour costs other than wages and salaries', 'D2-D4_MD5_RAT': 'Share of non-wage costs (%)'}\n",
    "filtered_df['lcstruct'] = filtered_df['lcstruct'].replace(new_names)\n",
    "filtered_df['lcstruct'].unique()"
   ]
  },
  {
   "cell_type": "code",
   "execution_count": 15,
   "id": "53f02799",
   "metadata": {},
   "outputs": [],
   "source": [
    "eur_values = filtered_df[filtered_df['unit'] =='EUR']"
   ]
  },
  {
   "cell_type": "code",
   "execution_count": 16,
   "id": "e4c7b9cb",
   "metadata": {},
   "outputs": [
    {
     "name": "stdout",
     "output_type": "stream",
     "text": [
      "(43,)\n",
      "(43,)\n"
     ]
    }
   ],
   "source": [
    "print(eur_values['geo'].value_counts().shape)\n",
    "print(eur_values['geo'].value_counts().shape)"
   ]
  },
  {
   "cell_type": "code",
   "execution_count": 18,
   "id": "b30d392e",
   "metadata": {},
   "outputs": [
    {
     "data": {
      "text/plain": [
       "unit           0\n",
       "lcstruct       0\n",
       "nace_r2        0\n",
       "geo            0\n",
       "TIME_PERIOD    0\n",
       "OBS_VALUE      0\n",
       "dtype: int64"
      ]
     },
     "execution_count": 18,
     "metadata": {},
     "output_type": "execute_result"
    }
   ],
   "source": [
    "eur_values.isnull().sum()"
   ]
  },
  {
   "cell_type": "code",
   "execution_count": 19,
   "id": "64657fc7",
   "metadata": {},
   "outputs": [
    {
     "data": {
      "text/plain": [
       "array(['AL', 'AT', 'BA', 'BE', 'BG', 'CH', 'CY', 'CZ', 'DE', 'DK', 'EA',\n",
       "       'EA19', 'EA20', 'EE', 'EL', 'ES', 'EU15', 'EU27_2020', 'EU28',\n",
       "       'FI', 'FR', 'HR', 'HU', 'IE', 'IS', 'IT', 'LT', 'LU', 'LV', 'ME',\n",
       "       'MK', 'MT', 'NL', 'NO', 'PL', 'PT', 'RO', 'RS', 'SE', 'SI', 'SK',\n",
       "       'TR', 'UK'], dtype=object)"
      ]
     },
     "execution_count": 19,
     "metadata": {},
     "output_type": "execute_result"
    }
   ],
   "source": [
    "eur_values['geo'].unique()"
   ]
  },
  {
   "cell_type": "code",
   "execution_count": 20,
   "id": "a4f2fdc9",
   "metadata": {},
   "outputs": [],
   "source": [
    "import requests\n",
    "import json\n",
    "\n",
    "# URL to the GeoJSON file containing the European country boundaries\n",
    "url = 'https://raw.githubusercontent.com/eurostat/Nuts2json/master/pub/v2/2016/4326/nutspt_0.json'\n",
    "\n",
    "# Download the file and save it to the current directory\n",
    "response = requests.get(url)\n",
    "with open('countries-geo.json', 'w') as f:\n",
    "    f.write(response.text)\n",
    "    \n",
    "# Load the GeoJSON file containing the European country boundaries\n",
    "eu_geojson_file = 'countries-geo.json'\n",
    "with open(eu_geojson_file, 'r') as f:\n",
    "    eu_geojson_str = f.read()\n",
    "    \n",
    "eu_geojson = json.loads(eu_geojson_str)"
   ]
  },
  {
   "cell_type": "code",
   "execution_count": 21,
   "id": "69b46dbe",
   "metadata": {},
   "outputs": [
    {
     "name": "stdout",
     "output_type": "stream",
     "text": [
      "['AL', 'AT', 'BE', 'BG', 'CH', 'CY', 'CZ', 'DE', 'DK', 'EE', 'EL', 'ES', 'FI', 'FR', 'HR', 'HU', 'IE', 'IS', 'IT', 'LI', 'LT', 'LU', 'LV', 'ME', 'MK', 'MT', 'NL', 'NO', 'PL', 'PT', 'RO', 'RS', 'SE', 'SI', 'SK', 'TR', 'UK']\n"
     ]
    }
   ],
   "source": [
    "# Print the list of country names in the GeoJSON file\n",
    "country_names = [feat['properties']['id'] for feat in eu_geojson['features']]\n",
    "print(country_names)"
   ]
  },
  {
   "cell_type": "code",
   "execution_count": 22,
   "id": "8bcfed60",
   "metadata": {},
   "outputs": [
    {
     "data": {
      "text/plain": [
       "\"\\nfig = px.choropleth(eur_values, \\n                    geojson=eu_geojson['features'], # root element in json\\n                    featureidkey='properties.id', # path to ID values\\n                    locations='geo', \\n                    locationmode='country names', \\n                    color='OBS_VALUE', \\n                    animation_frame='TIME_PERIOD', \\n                    color_continuous_scale=px.colors.sequential.Plasma, \\n                    range_color=[eur_df['OBS_VALUE'].min(), eur_df['OBS_VALUE'].max()],\\n                    scope='europe'\\n                   )\\nfig.show()\\n\\n\""
      ]
     },
     "execution_count": 22,
     "metadata": {},
     "output_type": "execute_result"
    }
   ],
   "source": [
    "'''\n",
    "fig = px.choropleth(eur_values, \n",
    "                    geojson=eu_geojson['features'], # root element in json\n",
    "                    featureidkey='properties.id', # path to ID values\n",
    "                    locations='geo', \n",
    "                    locationmode='country names', \n",
    "                    color='OBS_VALUE', \n",
    "                    animation_frame='TIME_PERIOD', \n",
    "                    color_continuous_scale=px.colors.sequential.Plasma, \n",
    "                    range_color=[eur_df['OBS_VALUE'].min(), eur_df['OBS_VALUE'].max()],\n",
    "                    scope='europe'\n",
    "                   )\n",
    "fig.show()\n",
    "\n",
    "'''"
   ]
  },
  {
   "cell_type": "code",
   "execution_count": 23,
   "id": "0030e023",
   "metadata": {},
   "outputs": [],
   "source": [
    "## convert countries in df \n",
    "#!pip install country_converter --upgrade\n",
    "import country_converter as coco"
   ]
  },
  {
   "cell_type": "code",
   "execution_count": 24,
   "id": "64da8cad",
   "metadata": {},
   "outputs": [
    {
     "name": "stderr",
     "output_type": "stream",
     "text": [
      "EA not found in ISO2\n",
      "EA not found in ISO2\n",
      "EA not found in ISO2\n",
      "EA not found in ISO2\n",
      "EA not found in ISO2\n",
      "EA not found in ISO2\n",
      "EA19 not found in regex\n",
      "EA19 not found in regex\n",
      "EA19 not found in regex\n",
      "EA19 not found in regex\n",
      "EA19 not found in regex\n",
      "EA19 not found in regex\n",
      "EA19 not found in regex\n",
      "EA20 not found in regex\n",
      "EA20 not found in regex\n",
      "EA20 not found in regex\n",
      "EL not found in ISO2\n",
      "EL not found in ISO2\n",
      "EL not found in ISO2\n",
      "EL not found in ISO2\n",
      "EL not found in ISO2\n",
      "EL not found in ISO2\n",
      "EL not found in ISO2\n",
      "EL not found in ISO2\n",
      "EU15 not found in regex\n",
      "EU15 not found in regex\n",
      "EU15 not found in regex\n",
      "EU15 not found in regex\n",
      "EU15 not found in regex\n",
      "EU27_2020 not found in regex\n",
      "EU27_2020 not found in regex\n",
      "EU27_2020 not found in regex\n",
      "EU27_2020 not found in regex\n",
      "EU27_2020 not found in regex\n",
      "EU27_2020 not found in regex\n",
      "EU27_2020 not found in regex\n",
      "EU28 not found in regex\n",
      "EU28 not found in regex\n",
      "EU28 not found in regex\n",
      "EU28 not found in regex\n",
      "EA not found in ISO2\n",
      "EA not found in ISO2\n",
      "EA not found in ISO2\n",
      "EA not found in ISO2\n",
      "EA not found in ISO2\n",
      "EA not found in ISO2\n",
      "EA19 not found in regex\n",
      "EA19 not found in regex\n",
      "EA19 not found in regex\n",
      "EA19 not found in regex\n",
      "EA19 not found in regex\n",
      "EA19 not found in regex\n",
      "EA19 not found in regex\n",
      "EA20 not found in regex\n",
      "EA20 not found in regex\n",
      "EA20 not found in regex\n",
      "EL not found in ISO2\n",
      "EL not found in ISO2\n",
      "EL not found in ISO2\n",
      "EL not found in ISO2\n",
      "EL not found in ISO2\n",
      "EL not found in ISO2\n",
      "EL not found in ISO2\n",
      "EL not found in ISO2\n",
      "EU15 not found in regex\n",
      "EU15 not found in regex\n",
      "EU15 not found in regex\n",
      "EU15 not found in regex\n",
      "EU15 not found in regex\n",
      "EU27_2020 not found in regex\n",
      "EU27_2020 not found in regex\n",
      "EU27_2020 not found in regex\n",
      "EU27_2020 not found in regex\n",
      "EU27_2020 not found in regex\n",
      "EU27_2020 not found in regex\n",
      "EU27_2020 not found in regex\n",
      "EU28 not found in regex\n",
      "EU28 not found in regex\n",
      "EU28 not found in regex\n",
      "EU28 not found in regex\n",
      "EA not found in ISO2\n",
      "EA19 not found in regex\n",
      "EA19 not found in regex\n",
      "EA19 not found in regex\n",
      "EA19 not found in regex\n",
      "EA19 not found in regex\n",
      "EA19 not found in regex\n",
      "EA19 not found in regex\n",
      "EA20 not found in regex\n",
      "EA20 not found in regex\n",
      "EA20 not found in regex\n",
      "EL not found in ISO2\n",
      "EL not found in ISO2\n",
      "EL not found in ISO2\n",
      "EL not found in ISO2\n",
      "EL not found in ISO2\n",
      "EL not found in ISO2\n",
      "EL not found in ISO2\n",
      "EL not found in ISO2\n",
      "EU15 not found in regex\n",
      "EU15 not found in regex\n",
      "EU15 not found in regex\n",
      "EU15 not found in regex\n",
      "EU15 not found in regex\n",
      "EU27_2020 not found in regex\n",
      "EU27_2020 not found in regex\n",
      "EU27_2020 not found in regex\n",
      "EU27_2020 not found in regex\n",
      "EU27_2020 not found in regex\n",
      "EU27_2020 not found in regex\n",
      "EU27_2020 not found in regex\n",
      "EU28 not found in regex\n",
      "EU28 not found in regex\n",
      "EU28 not found in regex\n",
      "EU28 not found in regex\n",
      "EA not found in ISO2\n",
      "EA19 not found in regex\n",
      "EA19 not found in regex\n",
      "EA19 not found in regex\n",
      "EA19 not found in regex\n",
      "EA19 not found in regex\n",
      "EA19 not found in regex\n",
      "EA19 not found in regex\n",
      "EA20 not found in regex\n",
      "EA20 not found in regex\n",
      "EA20 not found in regex\n",
      "EL not found in ISO2\n",
      "EL not found in ISO2\n",
      "EL not found in ISO2\n",
      "EL not found in ISO2\n",
      "EL not found in ISO2\n",
      "EL not found in ISO2\n",
      "EL not found in ISO2\n",
      "EL not found in ISO2\n",
      "EU15 not found in regex\n",
      "EU15 not found in regex\n",
      "EU15 not found in regex\n",
      "EU15 not found in regex\n",
      "EU15 not found in regex\n",
      "EU27_2020 not found in regex\n",
      "EU27_2020 not found in regex\n",
      "EU27_2020 not found in regex\n",
      "EU27_2020 not found in regex\n",
      "EU27_2020 not found in regex\n",
      "EU27_2020 not found in regex\n",
      "EU27_2020 not found in regex\n",
      "EU28 not found in regex\n",
      "EU28 not found in regex\n",
      "EU28 not found in regex\n",
      "EU28 not found in regex\n",
      "C:\\Users\\VMARTU~1\\AppData\\Local\\Temp/ipykernel_32736/3955805106.py:5: SettingWithCopyWarning: \n",
      "A value is trying to be set on a copy of a slice from a DataFrame.\n",
      "Try using .loc[row_indexer,col_indexer] = value instead\n",
      "\n",
      "See the caveats in the documentation: https://pandas.pydata.org/pandas-docs/stable/user_guide/indexing.html#returning-a-view-versus-a-copy\n",
      "  eur_values['iso3'] = iso3\n"
     ]
    },
    {
     "data": {
      "text/html": [
       "<div>\n",
       "<style scoped>\n",
       "    .dataframe tbody tr th:only-of-type {\n",
       "        vertical-align: middle;\n",
       "    }\n",
       "\n",
       "    .dataframe tbody tr th {\n",
       "        vertical-align: top;\n",
       "    }\n",
       "\n",
       "    .dataframe thead th {\n",
       "        text-align: right;\n",
       "    }\n",
       "</style>\n",
       "<table border=\"1\" class=\"dataframe\">\n",
       "  <thead>\n",
       "    <tr style=\"text-align: right;\">\n",
       "      <th></th>\n",
       "      <th>unit</th>\n",
       "      <th>lcstruct</th>\n",
       "      <th>nace_r2</th>\n",
       "      <th>geo</th>\n",
       "      <th>TIME_PERIOD</th>\n",
       "      <th>OBS_VALUE</th>\n",
       "      <th>iso3</th>\n",
       "    </tr>\n",
       "  </thead>\n",
       "  <tbody>\n",
       "    <tr>\n",
       "      <th>1608</th>\n",
       "      <td>EUR</td>\n",
       "      <td>Wages and salaries</td>\n",
       "      <td>F</td>\n",
       "      <td>AL</td>\n",
       "      <td>2012</td>\n",
       "      <td>1.6</td>\n",
       "      <td>ALB</td>\n",
       "    </tr>\n",
       "    <tr>\n",
       "      <th>1609</th>\n",
       "      <td>EUR</td>\n",
       "      <td>Wages and salaries</td>\n",
       "      <td>F</td>\n",
       "      <td>AL</td>\n",
       "      <td>2016</td>\n",
       "      <td>2.0</td>\n",
       "      <td>ALB</td>\n",
       "    </tr>\n",
       "    <tr>\n",
       "      <th>1610</th>\n",
       "      <td>EUR</td>\n",
       "      <td>Wages and salaries</td>\n",
       "      <td>F</td>\n",
       "      <td>AT</td>\n",
       "      <td>2000</td>\n",
       "      <td>17.1</td>\n",
       "      <td>AUT</td>\n",
       "    </tr>\n",
       "    <tr>\n",
       "      <th>1611</th>\n",
       "      <td>EUR</td>\n",
       "      <td>Wages and salaries</td>\n",
       "      <td>F</td>\n",
       "      <td>AT</td>\n",
       "      <td>2004</td>\n",
       "      <td>19.3</td>\n",
       "      <td>AUT</td>\n",
       "    </tr>\n",
       "    <tr>\n",
       "      <th>1612</th>\n",
       "      <td>EUR</td>\n",
       "      <td>Wages and salaries</td>\n",
       "      <td>F</td>\n",
       "      <td>AT</td>\n",
       "      <td>2008</td>\n",
       "      <td>19.3</td>\n",
       "      <td>AUT</td>\n",
       "    </tr>\n",
       "  </tbody>\n",
       "</table>\n",
       "</div>"
      ],
      "text/plain": [
       "     unit            lcstruct nace_r2 geo  TIME_PERIOD  OBS_VALUE iso3\n",
       "1608  EUR  Wages and salaries       F  AL         2012        1.6  ALB\n",
       "1609  EUR  Wages and salaries       F  AL         2016        2.0  ALB\n",
       "1610  EUR  Wages and salaries       F  AT         2000       17.1  AUT\n",
       "1611  EUR  Wages and salaries       F  AT         2004       19.3  AUT\n",
       "1612  EUR  Wages and salaries       F  AT         2008       19.3  AUT"
      ]
     },
     "execution_count": 24,
     "metadata": {},
     "output_type": "execute_result"
    }
   ],
   "source": [
    "# Convert the two-letter country codes to three-letter ISO codes\n",
    "iso3 = coco.convert(names=eur_values['geo'].tolist(), to='ISO3')\n",
    "\n",
    "# Add the ISO codes as a new column in the DataFrame\n",
    "eur_values['iso3'] = iso3\n",
    "eur_values.head()"
   ]
  },
  {
   "cell_type": "code",
   "execution_count": 25,
   "id": "226d5636",
   "metadata": {},
   "outputs": [
    {
     "data": {
      "text/plain": [
       "array(['AL', 'AT', 'BA', 'BE', 'BG', 'CH', 'CY', 'CZ', 'DE', 'DK', 'EA',\n",
       "       'EA19', 'EA20', 'EE', 'EL', 'ES', 'EU15', 'EU27_2020', 'EU28',\n",
       "       'FI', 'FR', 'HR', 'HU', 'IE', 'IS', 'IT', 'LT', 'LU', 'LV', 'ME',\n",
       "       'MK', 'MT', 'NL', 'NO', 'PL', 'PT', 'RO', 'RS', 'SE', 'SI', 'SK',\n",
       "       'TR', 'UK'], dtype=object)"
      ]
     },
     "execution_count": 25,
     "metadata": {},
     "output_type": "execute_result"
    }
   ],
   "source": [
    "eur_values['geo'].unique()"
   ]
  },
  {
   "cell_type": "code",
   "execution_count": 26,
   "id": "d1ea84e3",
   "metadata": {},
   "outputs": [
    {
     "data": {
      "text/plain": [
       "array(['ALB', 'AUT', 'BIH', 'BEL', 'BGR', 'CHE', 'CYP', 'CZE', 'DEU',\n",
       "       'DNK', 'not found', 'EST', 'ESP', 'FIN', 'FRA', 'HRV', 'HUN',\n",
       "       'IRL', 'ISL', 'ITA', 'LTU', 'LUX', 'LVA', 'MNE', 'MKD', 'MLT',\n",
       "       'NLD', 'NOR', 'POL', 'PRT', 'ROU', 'SRB', 'SWE', 'SVN', 'SVK',\n",
       "       'TUR', 'GBR'], dtype=object)"
      ]
     },
     "execution_count": 26,
     "metadata": {},
     "output_type": "execute_result"
    }
   ],
   "source": [
    "eur_values['iso3'].unique()"
   ]
  },
  {
   "cell_type": "code",
   "execution_count": 33,
   "id": "8dfea384",
   "metadata": {},
   "outputs": [
    {
     "data": {
      "text/html": [
       "<div>\n",
       "<style scoped>\n",
       "    .dataframe tbody tr th:only-of-type {\n",
       "        vertical-align: middle;\n",
       "    }\n",
       "\n",
       "    .dataframe tbody tr th {\n",
       "        vertical-align: top;\n",
       "    }\n",
       "\n",
       "    .dataframe thead th {\n",
       "        text-align: right;\n",
       "    }\n",
       "</style>\n",
       "<table border=\"1\" class=\"dataframe\">\n",
       "  <thead>\n",
       "    <tr style=\"text-align: right;\">\n",
       "      <th></th>\n",
       "      <th>unit</th>\n",
       "      <th>lcstruct</th>\n",
       "      <th>nace_r2</th>\n",
       "      <th>geo</th>\n",
       "      <th>TIME_PERIOD</th>\n",
       "      <th>OBS_VALUE</th>\n",
       "      <th>iso3</th>\n",
       "    </tr>\n",
       "  </thead>\n",
       "  <tbody>\n",
       "    <tr>\n",
       "      <th>1608</th>\n",
       "      <td>EUR</td>\n",
       "      <td>Wages and salaries</td>\n",
       "      <td>F</td>\n",
       "      <td>AL</td>\n",
       "      <td>2012</td>\n",
       "      <td>1.6</td>\n",
       "      <td>ALB</td>\n",
       "    </tr>\n",
       "    <tr>\n",
       "      <th>1609</th>\n",
       "      <td>EUR</td>\n",
       "      <td>Wages and salaries</td>\n",
       "      <td>F</td>\n",
       "      <td>AL</td>\n",
       "      <td>2016</td>\n",
       "      <td>2.0</td>\n",
       "      <td>ALB</td>\n",
       "    </tr>\n",
       "    <tr>\n",
       "      <th>1610</th>\n",
       "      <td>EUR</td>\n",
       "      <td>Wages and salaries</td>\n",
       "      <td>F</td>\n",
       "      <td>AT</td>\n",
       "      <td>2000</td>\n",
       "      <td>17.1</td>\n",
       "      <td>AUT</td>\n",
       "    </tr>\n",
       "    <tr>\n",
       "      <th>1611</th>\n",
       "      <td>EUR</td>\n",
       "      <td>Wages and salaries</td>\n",
       "      <td>F</td>\n",
       "      <td>AT</td>\n",
       "      <td>2004</td>\n",
       "      <td>19.3</td>\n",
       "      <td>AUT</td>\n",
       "    </tr>\n",
       "    <tr>\n",
       "      <th>1612</th>\n",
       "      <td>EUR</td>\n",
       "      <td>Wages and salaries</td>\n",
       "      <td>F</td>\n",
       "      <td>AT</td>\n",
       "      <td>2008</td>\n",
       "      <td>19.3</td>\n",
       "      <td>AUT</td>\n",
       "    </tr>\n",
       "  </tbody>\n",
       "</table>\n",
       "</div>"
      ],
      "text/plain": [
       "     unit            lcstruct nace_r2 geo  TIME_PERIOD  OBS_VALUE iso3\n",
       "1608  EUR  Wages and salaries       F  AL         2012        1.6  ALB\n",
       "1609  EUR  Wages and salaries       F  AL         2016        2.0  ALB\n",
       "1610  EUR  Wages and salaries       F  AT         2000       17.1  AUT\n",
       "1611  EUR  Wages and salaries       F  AT         2004       19.3  AUT\n",
       "1612  EUR  Wages and salaries       F  AT         2008       19.3  AUT"
      ]
     },
     "execution_count": 33,
     "metadata": {},
     "output_type": "execute_result"
    }
   ],
   "source": [
    "# drop not found values\n",
    "eur_values = eur_values.loc[eur_values['iso3'] != 'not found']\n",
    "eur_values.head()"
   ]
  },
  {
   "cell_type": "code",
   "execution_count": 42,
   "id": "891a57ba",
   "metadata": {},
   "outputs": [],
   "source": [
    "# preparing different df for plotting\n",
    "wages_salaries = eur_values[eur_values['lcstruct'] =='Wages and salaries']\n",
    "comp_taxes = eur_values[eur_values['lcstruct'] =='Labour cost for LCI']\n",
    "other_costs = eur_values[eur_values['lcstruct'] =='Labour costs other than wages and salaries']\n",
    "\n",
    "# sorting\n",
    "wages_salaries = wages_salaries.sort_values(by='TIME_PERIOD')\n",
    "comp_taxes = comp_taxes.sort_values(by='TIME_PERIOD')\n",
    "other_costs = other_costs.sort_values(by='TIME_PERIOD')"
   ]
  },
  {
   "cell_type": "code",
   "execution_count": 35,
   "id": "847736fa",
   "metadata": {},
   "outputs": [
    {
     "data": {
      "image/png": "[encoded data removed]",
      "text/plain": [
       "<Figure size 1080x1080 with 36 Axes>"
      ]
     },
     "metadata": {
      "needs_background": "light"
     },
     "output_type": "display_data"
    }
   ],
   "source": [
    "wages_salaries.hist(by='iso3', column='OBS_VALUE', figsize=(15, 15));"
   ]
  },
  {
   "cell_type": "code",
   "execution_count": 43,
   "id": "390a3eff",
   "metadata": {},
   "outputs": [
    {
     "data": {
      "application/vnd.plotly.v1+json": {
       "config": {
        "plotlyServerURL": "https://plot.ly"
       },
       "data": [
        {
         "coloraxis": "coloraxis",
         "geo": "geo",
         "hovertemplate": "TIME_PERIOD=2000<br>iso3=%{location}<br>OBS_VALUE=%{z}<extra></extra>",
         "locations": [
          "LTU",
          "IRL",
          "PRT",
          "DNK",
          "ESP",
          "DEU",
          "LVA",
          "SWE",
          "CZE",
          "ISL",
          "SVN",
          "HUN",
          "FIN",
          "LUX",
          "BGR",
          "SVK",
          "EST",
          "GBR",
          "ITA",
          "FRA",
          "AUT",
          "NLD",
          "BEL"
         ],
         "name": "",
         "type": "choropleth",
         "z": [
          1.7,
          13.8,
          5.6,
          23.8,
          8.9,
          16.2,
          1.1,
          17.5,
          2.6,
          22.5,
          6.3,
          2,
          16.4,
          14.2,
          0.8,
          2.1,
          2,
          18.6,
          11,
          14.6,
          17.1,
          17.8,
          14.1
         ]
        }
       ],
       "frames": [
        {
         "data": [
          {
           "coloraxis": "coloraxis",
           "geo": "geo",
           "hovertemplate": "TIME_PERIOD=2000<br>iso3=%{location}<br>OBS_VALUE=%{z}<extra></extra>",
           "locations": [
            "LTU",
            "IRL",
            "PRT",
            "DNK",
            "ESP",
            "DEU",
            "LVA",
            "SWE",
            "CZE",
            "ISL",
            "SVN",
            "HUN",
            "FIN",
            "LUX",
            "BGR",
            "SVK",
            "EST",
            "GBR",
            "ITA",
            "FRA",
            "AUT",
            "NLD",
            "BEL"
           ],
           "name": "",
           "type": "choropleth",
           "z": [
            1.7,
            13.8,
            5.6,
            23.8,
            8.9,
            16.2,
            1.1,
            17.5,
            2.6,
            22.5,
            6.3,
            2,
            16.4,
            14.2,
            0.8,
            2.1,
            2,
            18.6,
            11,
            14.6,
            17.1,
            17.8,
            14.1
           ]
          }
         ],
         "name": "2000"
        },
        {
         "data": [
          {
           "coloraxis": "coloraxis",
           "geo": "geo",
           "hovertemplate": "TIME_PERIOD=2004<br>iso3=%{location}<br>OBS_VALUE=%{z}<extra></extra>",
           "locations": [
            "GBR",
            "DEU",
            "MLT",
            "IRL",
            "SWE",
            "ESP",
            "AUT",
            "DNK",
            "HRV",
            "LVA",
            "EST",
            "LTU",
            "ROU",
            "HUN",
            "SVN",
            "SVK",
            "CZE",
            "FRA",
            "POL",
            "ISL",
            "NLD",
            "BGR",
            "PRT",
            "FIN",
            "ITA",
            "LUX",
            "BEL"
           ],
           "name": "",
           "type": "choropleth",
           "z": [
            18.9,
            17,
            6.8,
            22.4,
            18.7,
            10.2,
            19.3,
            26.4,
            5.4,
            1.8,
            3.4,
            2.2,
            1.1,
            3.1,
            7.5,
            2.9,
            3.9,
            17.4,
            3.1,
            24.8,
            21.2,
            0.9,
            6.5,
            17.8,
            14.2,
            15.9,
            17.1
           ]
          }
         ],
         "name": "2004"
        },
        {
         "data": [
          {
           "coloraxis": "coloraxis",
           "geo": "geo",
           "hovertemplate": "TIME_PERIOD=2008<br>iso3=%{location}<br>OBS_VALUE=%{z}<extra></extra>",
           "locations": [
            "EST",
            "NLD",
            "POL",
            "HRV",
            "FRA",
            "HUN",
            "ESP",
            "FIN",
            "DEU",
            "LVA",
            "GBR",
            "AUT",
            "LTU",
            "ITA",
            "BEL",
            "SVK",
            "BGR",
            "PRT",
            "SVN",
            "ISL",
            "MLT",
            "CZE",
            "DNK",
            "ROU",
            "SWE",
            "IRL",
            "LUX"
           ],
           "name": "",
           "type": "choropleth",
           "z": [
            6.6,
            23.3,
            5.9,
            6.8,
            19.6,
            4.5,
            12.7,
            22.1,
            17.7,
            4.4,
            21.4,
            19.3,
            4.7,
            15.3,
            18,
            5.1,
            1.7,
            7.6,
            9.5,
            18.2,
            7.7,
            6.4,
            29.3,
            2.7,
            21.5,
            23.4,
            18.9
           ]
          }
         ],
         "name": "2008"
        },
        {
         "data": [
          {
           "coloraxis": "coloraxis",
           "geo": "geo",
           "hovertemplate": "TIME_PERIOD=2012<br>iso3=%{location}<br>OBS_VALUE=%{z}<extra></extra>",
           "locations": [
            "MKD",
            "HRV",
            "GBR",
            "LUX",
            "ITA",
            "LTU",
            "HUN",
            "MNE",
            "LVA",
            "IRL",
            "ISL",
            "ALB",
            "SRB",
            "AUT",
            "TUR",
            "BIH",
            "BEL",
            "SVK",
            "BGR",
            "SVN",
            "CHE",
            "SWE",
            "CZE",
            "MLT",
            "DEU",
            "ROU",
            "DNK",
            "POL",
            "PRT",
            "FRA",
            "EST",
            "NLD",
            "ESP",
            "FIN",
            "NOR"
           ],
           "name": "",
           "type": "choropleth",
           "z": [
            2.8,
            6.9,
            21.4,
            21.1,
            16.7,
            3.8,
            5,
            3.4,
            4.3,
            23.3,
            20.2,
            1.6,
            3.9,
            21.1,
            3.6,
            3.4,
            20.3,
            6.3,
            2.5,
            10.1,
            34.9,
            26.4,
            6.8,
            8.5,
            19.6,
            2.5,
            32.1,
            5.7,
            9.2,
            20.9,
            7.3,
            25.6,
            14.8,
            24.9,
            40.7
           ]
          }
         ],
         "name": "2012"
        },
        {
         "data": [
          {
           "coloraxis": "coloraxis",
           "geo": "geo",
           "hovertemplate": "TIME_PERIOD=2016<br>iso3=%{location}<br>OBS_VALUE=%{z}<extra></extra>",
           "locations": [
            "TUR",
            "MKD",
            "SVK",
            "LTU",
            "MNE",
            "SVN",
            "PRT",
            "NOR",
            "SWE",
            "POL",
            "SRB",
            "LUX",
            "LVA",
            "ROU",
            "NLD",
            "MLT",
            "GBR",
            "FRA",
            "CZE",
            "FIN",
            "CHE",
            "BGR",
            "HRV",
            "ESP",
            "DEU",
            "BEL",
            "HUN",
            "BIH",
            "IRL",
            "EST",
            "ISL",
            "ALB",
            "AUT",
            "ITA",
            "DNK"
           ],
           "name": "",
           "type": "choropleth",
           "z": [
            4,
            3.5,
            6.7,
            5,
            3.7,
            11.2,
            7.6,
            34.5,
            25.8,
            6.6,
            3.6,
            22.7,
            6.3,
            3.2,
            26.7,
            10,
            22.7,
            21.9,
            7,
            26.4,
            38.6,
            3.1,
            7.1,
            14.6,
            20.8,
            23.9,
            4.8,
            3.4,
            22.8,
            8.7,
            31.5,
            2,
            23.3,
            16.5,
            34
           ]
          }
         ],
         "name": "2016"
        },
        {
         "data": [
          {
           "coloraxis": "coloraxis",
           "geo": "geo",
           "hovertemplate": "TIME_PERIOD=2020<br>iso3=%{location}<br>OBS_VALUE=%{z}<extra></extra>",
           "locations": [
            "FIN",
            "SWE",
            "NLD",
            "CYP",
            "DNK",
            "POL",
            "ITA",
            "ESP",
            "NOR",
            "CZE",
            "EST",
            "ROU",
            "BGR",
            "PRT",
            "LUX",
            "DEU",
            "IRL",
            "SVK",
            "TUR",
            "HUN",
            "LVA",
            "MLT",
            "BEL",
            "AUT",
            "HRV",
            "SVN",
            "LTU",
            "FRA",
            "ISL",
            "SRB"
           ],
           "name": "",
           "type": "choropleth",
           "z": [
            28.3,
            25.8,
            30.1,
            12.2,
            37,
            7.8,
            16.7,
            14.8,
            34.3,
            9.4,
            11,
            6,
            4.5,
            8.7,
            26.3,
            24.2,
            26.1,
            8.6,
            1.9,
            6.8,
            8.9,
            14.2,
            25.2,
            24.9,
            8.4,
            14.7,
            9,
            25.2,
            34.2,
            5.5
           ]
          }
         ],
         "name": "2020"
        },
        {
         "data": [
          {
           "coloraxis": "coloraxis",
           "geo": "geo",
           "hovertemplate": "TIME_PERIOD=2021<br>iso3=%{location}<br>OBS_VALUE=%{z}<extra></extra>",
           "locations": [
            "ROU",
            "ITA",
            "SRB",
            "CYP",
            "SWE",
            "BGR",
            "SVN",
            "BEL",
            "SVK",
            "AUT",
            "TUR",
            "CZE",
            "DEU",
            "ISL",
            "ESP",
            "NLD",
            "HUN",
            "LVA",
            "HRV",
            "NOR",
            "LUX",
            "IRL",
            "FIN",
            "MLT",
            "FRA",
            "POL",
            "LTU",
            "DNK",
            "PRT",
            "EST"
           ],
           "name": "",
           "type": "choropleth",
           "z": [
            6.1,
            16.9,
            5.9,
            12.7,
            27.1,
            5,
            15.6,
            25.5,
            9.1,
            24.9,
            1.7,
            10,
            25.1,
            32.8,
            14.7,
            29.5,
            7.3,
            8.9,
            8.7,
            37.2,
            26.7,
            27.6,
            29.8,
            14.7,
            25.3,
            8.2,
            10,
            38.6,
            9.3,
            11.7
           ]
          }
         ],
         "name": "2021"
        },
        {
         "data": [
          {
           "coloraxis": "coloraxis",
           "geo": "geo",
           "hovertemplate": "TIME_PERIOD=2022<br>iso3=%{location}<br>OBS_VALUE=%{z}<extra></extra>",
           "locations": [
            "HUN",
            "HRV",
            "LVA",
            "DEU",
            "SVK",
            "AUT",
            "IRL",
            "TUR",
            "LTU",
            "ISL",
            "LUX",
            "BEL",
            "MLT",
            "FRA",
            "DNK",
            "ITA",
            "ROU",
            "CZE",
            "EST",
            "NOR",
            "SVN",
            "SRB",
            "NLD",
            "ESP",
            "SWE",
            "FIN",
            "BGR",
            "PRT",
            "CYP",
            "POL"
           ],
           "name": "",
           "type": "choropleth",
           "z": [
            7.8,
            9.5,
            9.3,
            26.7,
            9.9,
            26.2,
            28.7,
            1.7,
            11,
            37.3,
            28.1,
            27,
            14.9,
            26.2,
            39,
            17.4,
            6.8,
            11.2,
            12.3,
            38.7,
            16.7,
            6.8,
            30.5,
            15.4,
            26.9,
            30.6,
            5.6,
            9.8,
            13.2,
            8.8
           ]
          }
         ],
         "name": "2022"
        }
       ],
       "layout": {
        "coloraxis": {
         "cmax": 40.7,
         "cmin": 0.8,
         "colorbar": {
          "title": {
           "text": "OBS_VALUE"
          }
         },
         "colorscale": [
          [
           0,
           "#0d0887"
          ],
          [
           0.1111111111111111,
           "#46039f"
          ],
          [
           0.2222222222222222,
           "#7201a8"
          ],
          [
           0.3333333333333333,
           "#9c179e"
          ],
          [
           0.4444444444444444,
           "#bd3786"
          ],
          [
           0.5555555555555556,
           "#d8576b"
          ],
          [
           0.6666666666666666,
           "#ed7953"
          ],
          [
           0.7777777777777778,
           "#fb9f3a"
          ],
          [
           0.8888888888888888,
           "#fdca26"
          ],
          [
           1,
           "#f0f921"
          ]
         ]
        },
        "geo": {
         "center": {},
         "domain": {
          "x": [
           0,
           1
          ],
          "y": [
           0,
           1
          ]
         },
         "scope": "europe"
        },
        "height": 600,
        "legend": {
         "tracegroupgap": 0
        },
        "margin": {
         "t": 60
        },
        "sliders": [
         {
          "active": 0,
          "currentvalue": {
           "prefix": "TIME_PERIOD="
          },
          "len": 0.9,
          "pad": {
           "b": 10,
           "t": 60
          },
          "steps": [
           {
            "args": [
             [
              "2000"
             ],
             {
              "frame": {
               "duration": 0,
               "redraw": true
              },
              "fromcurrent": true,
              "mode": "immediate",
              "transition": {
               "duration": 0,
               "easing": "linear"
              }
             }
            ],
            "label": "2000",
            "method": "animate"
           },
           {
            "args": [
             [
              "2004"
             ],
             {
              "frame": {
               "duration": 0,
               "redraw": true
              },
              "fromcurrent": true,
              "mode": "immediate",
              "transition": {
               "duration": 0,
               "easing": "linear"
              }
             }
            ],
            "label": "2004",
            "method": "animate"
           },
           {
            "args": [
             [
              "2008"
             ],
             {
              "frame": {
               "duration": 0,
               "redraw": true
              },
              "fromcurrent": true,
              "mode": "immediate",
              "transition": {
               "duration": 0,
               "easing": "linear"
              }
             }
            ],
            "label": "2008",
            "method": "animate"
           },
           {
            "args": [
             [
              "2012"
             ],
             {
              "frame": {
               "duration": 0,
               "redraw": true
              },
              "fromcurrent": true,
              "mode": "immediate",
              "transition": {
               "duration": 0,
               "easing": "linear"
              }
             }
            ],
            "label": "2012",
            "method": "animate"
           },
           {
            "args": [
             [
              "2016"
             ],
             {
              "frame": {
               "duration": 0,
               "redraw": true
              },
              "fromcurrent": true,
              "mode": "immediate",
              "transition": {
               "duration": 0,
               "easing": "linear"
              }
             }
            ],
            "label": "2016",
            "method": "animate"
           },
           {
            "args": [
             [
              "2020"
             ],
             {
              "frame": {
               "duration": 0,
               "redraw": true
              },
              "fromcurrent": true,
              "mode": "immediate",
              "transition": {
               "duration": 0,
               "easing": "linear"
              }
             }
            ],
            "label": "2020",
            "method": "animate"
           },
           {
            "args": [
             [
              "2021"
             ],
             {
              "frame": {
               "duration": 0,
               "redraw": true
              },
              "fromcurrent": true,
              "mode": "immediate",
              "transition": {
               "duration": 0,
               "easing": "linear"
              }
             }
            ],
            "label": "2021",
            "method": "animate"
           },
           {
            "args": [
             [
              "2022"
             ],
             {
              "frame": {
               "duration": 0,
               "redraw": true
              },
              "fromcurrent": true,
              "mode": "immediate",
              "transition": {
               "duration": 0,
               "easing": "linear"
              }
             }
            ],
            "label": "2022",
            "method": "animate"
           }
          ],
          "x": 0.1,
          "xanchor": "left",
          "y": 0,
          "yanchor": "top"
         }
        ],
        "template": {
         "data": {
          "bar": [
           {
            "error_x": {
             "color": "#2a3f5f"
            },
            "error_y": {
             "color": "#2a3f5f"
            },
            "marker": {
             "line": {
              "color": "#E5ECF6",
              "width": 0.5
             },
             "pattern": {
              "fillmode": "overlay",
              "size": 10,
              "solidity": 0.2
             }
            },
            "type": "bar"
           }
          ],
          "barpolar": [
           {
            "marker": {
             "line": {
              "color": "#E5ECF6",
              "width": 0.5
             },
             "pattern": {
              "fillmode": "overlay",
              "size": 10,
              "solidity": 0.2
             }
            },
            "type": "barpolar"
           }
          ],
          "carpet": [
           {
            "aaxis": {
             "endlinecolor": "#2a3f5f",
             "gridcolor": "white",
             "linecolor": "white",
             "minorgridcolor": "white",
             "startlinecolor": "#2a3f5f"
            },
            "baxis": {
             "endlinecolor": "#2a3f5f",
             "gridcolor": "white",
             "linecolor": "white",
             "minorgridcolor": "white",
             "startlinecolor": "#2a3f5f"
            },
            "type": "carpet"
           }
          ],
          "choropleth": [
           {
            "colorbar": {
             "outlinewidth": 0,
             "ticks": ""
            },
            "type": "choropleth"
           }
          ],
          "contour": [
           {
            "colorbar": {
             "outlinewidth": 0,
             "ticks": ""
            },
            "colorscale": [
             [
              0,
              "#0d0887"
             ],
             [
              0.1111111111111111,
              "#46039f"
             ],
             [
              0.2222222222222222,
              "#7201a8"
             ],
             [
              0.3333333333333333,
              "#9c179e"
             ],
             [
              0.4444444444444444,
              "#bd3786"
             ],
             [
              0.5555555555555556,
              "#d8576b"
             ],
             [
              0.6666666666666666,
              "#ed7953"
             ],
             [
              0.7777777777777778,
              "#fb9f3a"
             ],
             [
              0.8888888888888888,
              "#fdca26"
             ],
             [
              1,
              "#f0f921"
             ]
            ],
            "type": "contour"
           }
          ],
          "contourcarpet": [
           {
            "colorbar": {
             "outlinewidth": 0,
             "ticks": ""
            },
            "type": "contourcarpet"
           }
          ],
          "heatmap": [
           {
            "colorbar": {
             "outlinewidth": 0,
             "ticks": ""
            },
            "colorscale": [
             [
              0,
              "#0d0887"
             ],
             [
              0.1111111111111111,
              "#46039f"
             ],
             [
              0.2222222222222222,
              "#7201a8"
             ],
             [
              0.3333333333333333,
              "#9c179e"
             ],
             [
              0.4444444444444444,
              "#bd3786"
             ],
             [
              0.5555555555555556,
              "#d8576b"
             ],
             [
              0.6666666666666666,
              "#ed7953"
             ],
             [
              0.7777777777777778,
              "#fb9f3a"
             ],
             [
              0.8888888888888888,
              "#fdca26"
             ],
             [
              1,
              "#f0f921"
             ]
            ],
            "type": "heatmap"
           }
          ],
          "heatmapgl": [
           {
            "colorbar": {
             "outlinewidth": 0,
             "ticks": ""
            },
            "colorscale": [
             [
              0,
              "#0d0887"
             ],
             [
              0.1111111111111111,
              "#46039f"
             ],
             [
              0.2222222222222222,
              "#7201a8"
             ],
             [
              0.3333333333333333,
              "#9c179e"
             ],
             [
              0.4444444444444444,
              "#bd3786"
             ],
             [
              0.5555555555555556,
              "#d8576b"
             ],
             [
              0.6666666666666666,
              "#ed7953"
             ],
             [
              0.7777777777777778,
              "#fb9f3a"
             ],
             [
              0.8888888888888888,
              "#fdca26"
             ],
             [
              1,
              "#f0f921"
             ]
            ],
            "type": "heatmapgl"
           }
          ],
          "histogram": [
           {
            "marker": {
             "pattern": {
              "fillmode": "overlay",
              "size": 10,
              "solidity": 0.2
             }
            },
            "type": "histogram"
           }
          ],
          "histogram2d": [
           {
            "colorbar": {
             "outlinewidth": 0,
             "ticks": ""
            },
            "colorscale": [
             [
              0,
              "#0d0887"
             ],
             [
              0.1111111111111111,
              "#46039f"
             ],
             [
              0.2222222222222222,
              "#7201a8"
             ],
             [
              0.3333333333333333,
              "#9c179e"
             ],
             [
              0.4444444444444444,
              "#bd3786"
             ],
             [
              0.5555555555555556,
              "#d8576b"
             ],
             [
              0.6666666666666666,
              "#ed7953"
             ],
             [
              0.7777777777777778,
              "#fb9f3a"
             ],
             [
              0.8888888888888888,
              "#fdca26"
             ],
             [
              1,
              "#f0f921"
             ]
            ],
            "type": "histogram2d"
           }
          ],
          "histogram2dcontour": [
           {
            "colorbar": {
             "outlinewidth": 0,
             "ticks": ""
            },
            "colorscale": [
             [
              0,
              "#0d0887"
             ],
             [
              0.1111111111111111,
              "#46039f"
             ],
             [
              0.2222222222222222,
              "#7201a8"
             ],
             [
              0.3333333333333333,
              "#9c179e"
             ],
             [
              0.4444444444444444,
              "#bd3786"
             ],
             [
              0.5555555555555556,
              "#d8576b"
             ],
             [
              0.6666666666666666,
              "#ed7953"
             ],
             [
              0.7777777777777778,
              "#fb9f3a"
             ],
             [
              0.8888888888888888,
              "#fdca26"
             ],
             [
              1,
              "#f0f921"
             ]
            ],
            "type": "histogram2dcontour"
           }
          ],
          "mesh3d": [
           {
            "colorbar": {
             "outlinewidth": 0,
             "ticks": ""
            },
            "type": "mesh3d"
           }
          ],
          "parcoords": [
           {
            "line": {
             "colorbar": {
              "outlinewidth": 0,
              "ticks": ""
             }
            },
            "type": "parcoords"
           }
          ],
          "pie": [
           {
            "automargin": true,
            "type": "pie"
           }
          ],
          "scatter": [
           {
            "fillpattern": {
             "fillmode": "overlay",
             "size": 10,
             "solidity": 0.2
            },
            "type": "scatter"
           }
          ],
          "scatter3d": [
           {
            "line": {
             "colorbar": {
              "outlinewidth": 0,
              "ticks": ""
             }
            },
            "marker": {
             "colorbar": {
              "outlinewidth": 0,
              "ticks": ""
             }
            },
            "type": "scatter3d"
           }
          ],
          "scattercarpet": [
           {
            "marker": {
             "colorbar": {
              "outlinewidth": 0,
              "ticks": ""
             }
            },
            "type": "scattercarpet"
           }
          ],
          "scattergeo": [
           {
            "marker": {
             "colorbar": {
              "outlinewidth": 0,
              "ticks": ""
             }
            },
            "type": "scattergeo"
           }
          ],
          "scattergl": [
           {
            "marker": {
             "colorbar": {
              "outlinewidth": 0,
              "ticks": ""
             }
            },
            "type": "scattergl"
           }
          ],
          "scattermapbox": [
           {
            "marker": {
             "colorbar": {
              "outlinewidth": 0,
              "ticks": ""
             }
            },
            "type": "scattermapbox"
           }
          ],
          "scatterpolar": [
           {
            "marker": {
             "colorbar": {
              "outlinewidth": 0,
              "ticks": ""
             }
            },
            "type": "scatterpolar"
           }
          ],
          "scatterpolargl": [
           {
            "marker": {
             "colorbar": {
              "outlinewidth": 0,
              "ticks": ""
             }
            },
            "type": "scatterpolargl"
           }
          ],
          "scatterternary": [
           {
            "marker": {
             "colorbar": {
              "outlinewidth": 0,
              "ticks": ""
             }
            },
            "type": "scatterternary"
           }
          ],
          "surface": [
           {
            "colorbar": {
             "outlinewidth": 0,
             "ticks": ""
            },
            "colorscale": [
             [
              0,
              "#0d0887"
             ],
             [
              0.1111111111111111,
              "#46039f"
             ],
             [
              0.2222222222222222,
              "#7201a8"
             ],
             [
              0.3333333333333333,
              "#9c179e"
             ],
             [
              0.4444444444444444,
              "#bd3786"
             ],
             [
              0.5555555555555556,
              "#d8576b"
             ],
             [
              0.6666666666666666,
              "#ed7953"
             ],
             [
              0.7777777777777778,
              "#fb9f3a"
             ],
             [
              0.8888888888888888,
              "#fdca26"
             ],
             [
              1,
              "#f0f921"
             ]
            ],
            "type": "surface"
           }
          ],
          "table": [
           {
            "cells": {
             "fill": {
              "color": "#EBF0F8"
             },
             "line": {
              "color": "white"
             }
            },
            "header": {
             "fill": {
              "color": "#C8D4E3"
             },
             "line": {
              "color": "white"
             }
            },
            "type": "table"
           }
          ]
         },
         "layout": {
          "annotationdefaults": {
           "arrowcolor": "#2a3f5f",
           "arrowhead": 0,
           "arrowwidth": 1
          },
          "autotypenumbers": "strict",
          "coloraxis": {
           "colorbar": {
            "outlinewidth": 0,
            "ticks": ""
           }
          },
          "colorscale": {
           "diverging": [
            [
             0,
             "#8e0152"
            ],
            [
             0.1,
             "#c51b7d"
            ],
            [
             0.2,
             "#de77ae"
            ],
            [
             0.3,
             "#f1b6da"
            ],
            [
             0.4,
             "#fde0ef"
            ],
            [
             0.5,
             "#f7f7f7"
            ],
            [
             0.6,
             "#e6f5d0"
            ],
            [
             0.7,
             "#b8e186"
            ],
            [
             0.8,
             "#7fbc41"
            ],
            [
             0.9,
             "#4d9221"
            ],
            [
             1,
             "#276419"
            ]
           ],
           "sequential": [
            [
             0,
             "#0d0887"
            ],
            [
             0.1111111111111111,
             "#46039f"
            ],
            [
             0.2222222222222222,
             "#7201a8"
            ],
            [
             0.3333333333333333,
             "#9c179e"
            ],
            [
             0.4444444444444444,
             "#bd3786"
            ],
            [
             0.5555555555555556,
             "#d8576b"
            ],
            [
             0.6666666666666666,
             "#ed7953"
            ],
            [
             0.7777777777777778,
             "#fb9f3a"
            ],
            [
             0.8888888888888888,
             "#fdca26"
            ],
            [
             1,
             "#f0f921"
            ]
           ],
           "sequentialminus": [
            [
             0,
             "#0d0887"
            ],
            [
             0.1111111111111111,
             "#46039f"
            ],
            [
             0.2222222222222222,
             "#7201a8"
            ],
            [
             0.3333333333333333,
             "#9c179e"
            ],
            [
             0.4444444444444444,
             "#bd3786"
            ],
            [
             0.5555555555555556,
             "#d8576b"
            ],
            [
             0.6666666666666666,
             "#ed7953"
            ],
            [
             0.7777777777777778,
             "#fb9f3a"
            ],
            [
             0.8888888888888888,
             "#fdca26"
            ],
            [
             1,
             "#f0f921"
            ]
           ]
          },
          "colorway": [
           "#636efa",
           "#EF553B",
           "#00cc96",
           "#ab63fa",
           "#FFA15A",
           "#19d3f3",
           "#FF6692",
           "#B6E880",
           "#FF97FF",
           "#FECB52"
          ],
          "font": {
           "color": "#2a3f5f"
          },
          "geo": {
           "bgcolor": "white",
           "lakecolor": "white",
           "landcolor": "#E5ECF6",
           "showlakes": true,
           "showland": true,
           "subunitcolor": "white"
          },
          "hoverlabel": {
           "align": "left"
          },
          "hovermode": "closest",
          "mapbox": {
           "style": "light"
          },
          "paper_bgcolor": "white",
          "plot_bgcolor": "#E5ECF6",
          "polar": {
           "angularaxis": {
            "gridcolor": "white",
            "linecolor": "white",
            "ticks": ""
           },
           "bgcolor": "#E5ECF6",
           "radialaxis": {
            "gridcolor": "white",
            "linecolor": "white",
            "ticks": ""
           }
          },
          "scene": {
           "xaxis": {
            "backgroundcolor": "#E5ECF6",
            "gridcolor": "white",
            "gridwidth": 2,
            "linecolor": "white",
            "showbackground": true,
            "ticks": "",
            "zerolinecolor": "white"
           },
           "yaxis": {
            "backgroundcolor": "#E5ECF6",
            "gridcolor": "white",
            "gridwidth": 2,
            "linecolor": "white",
            "showbackground": true,
            "ticks": "",
            "zerolinecolor": "white"
           },
           "zaxis": {
            "backgroundcolor": "#E5ECF6",
            "gridcolor": "white",
            "gridwidth": 2,
            "linecolor": "white",
            "showbackground": true,
            "ticks": "",
            "zerolinecolor": "white"
           }
          },
          "shapedefaults": {
           "line": {
            "color": "#2a3f5f"
           }
          },
          "ternary": {
           "aaxis": {
            "gridcolor": "white",
            "linecolor": "white",
            "ticks": ""
           },
           "baxis": {
            "gridcolor": "white",
            "linecolor": "white",
            "ticks": ""
           },
           "bgcolor": "#E5ECF6",
           "caxis": {
            "gridcolor": "white",
            "linecolor": "white",
            "ticks": ""
           }
          },
          "title": {
           "x": 0.05
          },
          "xaxis": {
           "automargin": true,
           "gridcolor": "white",
           "linecolor": "white",
           "ticks": "",
           "title": {
            "standoff": 15
           },
           "zerolinecolor": "white",
           "zerolinewidth": 2
          },
          "yaxis": {
           "automargin": true,
           "gridcolor": "white",
           "linecolor": "white",
           "ticks": "",
           "title": {
            "standoff": 15
           },
           "zerolinecolor": "white",
           "zerolinewidth": 2
          }
         }
        },
        "title": {
         "text": "Wages and salaries (total) in Europe in the construction sector"
        },
        "updatemenus": [
         {
          "buttons": [
           {
            "args": [
             null,
             {
              "frame": {
               "duration": 500,
               "redraw": true
              },
              "fromcurrent": true,
              "mode": "immediate",
              "transition": {
               "duration": 500,
               "easing": "linear"
              }
             }
            ],
            "label": "&#9654;",
            "method": "animate"
           },
           {
            "args": [
             [
              null
             ],
             {
              "frame": {
               "duration": 0,
               "redraw": true
              },
              "fromcurrent": true,
              "mode": "immediate",
              "transition": {
               "duration": 0,
               "easing": "linear"
              }
             }
            ],
            "label": "&#9724;",
            "method": "animate"
           }
          ],
          "direction": "left",
          "pad": {
           "r": 10,
           "t": 70
          },
          "showactive": false,
          "type": "buttons",
          "x": 0.1,
          "xanchor": "right",
          "y": 0,
          "yanchor": "top"
         }
        ]
       }
      },
      "text/html": [
       "<div>                            <div id=\"1db70726-9c3e-44ba-bba2-0b3436568e26\" class=\"plotly-graph-div\" style=\"height:600px; width:100%;\"></div>            <script type=\"text/javascript\">                require([\"plotly\"], function(Plotly) {                    window.PLOTLYENV=window.PLOTLYENV || {};                                    if (document.getElementById(\"1db70726-9c3e-44ba-bba2-0b3436568e26\")) {                    Plotly.newPlot(                        \"1db70726-9c3e-44ba-bba2-0b3436568e26\",                        [{\"coloraxis\":\"coloraxis\",\"geo\":\"geo\",\"hovertemplate\":\"TIME_PERIOD=2000<br>iso3=%{location}<br>OBS_VALUE=%{z}<extra></extra>\",\"locations\":[\"LTU\",\"IRL\",\"PRT\",\"DNK\",\"ESP\",\"DEU\",\"LVA\",\"SWE\",\"CZE\",\"ISL\",\"SVN\",\"HUN\",\"FIN\",\"LUX\",\"BGR\",\"SVK\",\"EST\",\"GBR\",\"ITA\",\"FRA\",\"AUT\",\"NLD\",\"BEL\"],\"name\":\"\",\"z\":[1.7,13.8,5.6,23.8,8.9,16.2,1.1,17.5,2.6,22.5,6.3,2.0,16.4,14.2,0.8,2.1,2.0,18.6,11.0,14.6,17.1,17.8,14.1],\"type\":\"choropleth\"}],                        {\"template\":{\"data\":{\"histogram2dcontour\":[{\"type\":\"histogram2dcontour\",\"colorbar\":{\"outlinewidth\":0,\"ticks\":\"\"},\"colorscale\":[[0.0,\"#0d0887\"],[0.1111111111111111,\"#46039f\"],[0.2222222222222222,\"#7201a8\"],[0.3333333333333333,\"#9c179e\"],[0.4444444444444444,\"#bd3786\"],[0.5555555555555556,\"#d8576b\"],[0.6666666666666666,\"#ed7953\"],[0.7777777777777778,\"#fb9f3a\"],[0.8888888888888888,\"#fdca26\"],[1.0,\"#f0f921\"]]}],\"choropleth\":[{\"type\":\"choropleth\",\"colorbar\":{\"outlinewidth\":0,\"ticks\":\"\"}}],\"histogram2d\":[{\"type\":\"histogram2d\",\"colorbar\":{\"outlinewidth\":0,\"ticks\":\"\"},\"colorscale\":[[0.0,\"#0d0887\"],[0.1111111111111111,\"#46039f\"],[0.2222222222222222,\"#7201a8\"],[0.3333333333333333,\"#9c179e\"],[0.4444444444444444,\"#bd3786\"],[0.5555555555555556,\"#d8576b\"],[0.6666666666666666,\"#ed7953\"],[0.7777777777777778,\"#fb9f3a\"],[0.8888888888888888,\"#fdca26\"],[1.0,\"#f0f921\"]]}],\"heatmap\":[{\"type\":\"heatmap\",\"colorbar\":{\"outlinewidth\":0,\"ticks\":\"\"},\"colorscale\":[[0.0,\"#0d0887\"],[0.1111111111111111,\"#46039f\"],[0.2222222222222222,\"#7201a8\"],[0.3333333333333333,\"#9c179e\"],[0.4444444444444444,\"#bd3786\"],[0.5555555555555556,\"#d8576b\"],[0.6666666666666666,\"#ed7953\"],[0.7777777777777778,\"#fb9f3a\"],[0.8888888888888888,\"#fdca26\"],[1.0,\"#f0f921\"]]}],\"heatmapgl\":[{\"type\":\"heatmapgl\",\"colorbar\":{\"outlinewidth\":0,\"ticks\":\"\"},\"colorscale\":[[0.0,\"#0d0887\"],[0.1111111111111111,\"#46039f\"],[0.2222222222222222,\"#7201a8\"],[0.3333333333333333,\"#9c179e\"],[0.4444444444444444,\"#bd3786\"],[0.5555555555555556,\"#d8576b\"],[0.6666666666666666,\"#ed7953\"],[0.7777777777777778,\"#fb9f3a\"],[0.8888888888888888,\"#fdca26\"],[1.0,\"#f0f921\"]]}],\"contourcarpet\":[{\"type\":\"contourcarpet\",\"colorbar\":{\"outlinewidth\":0,\"ticks\":\"\"}}],\"contour\":[{\"type\":\"contour\",\"colorbar\":{\"outlinewidth\":0,\"ticks\":\"\"},\"colorscale\":[[0.0,\"#0d0887\"],[0.1111111111111111,\"#46039f\"],[0.2222222222222222,\"#7201a8\"],[0.3333333333333333,\"#9c179e\"],[0.4444444444444444,\"#bd3786\"],[0.5555555555555556,\"#d8576b\"],[0.6666666666666666,\"#ed7953\"],[0.7777777777777778,\"#fb9f3a\"],[0.8888888888888888,\"#fdca26\"],[1.0,\"#f0f921\"]]}],\"surface\":[{\"type\":\"surface\",\"colorbar\":{\"outlinewidth\":0,\"ticks\":\"\"},\"colorscale\":[[0.0,\"#0d0887\"],[0.1111111111111111,\"#46039f\"],[0.2222222222222222,\"#7201a8\"],[0.3333333333333333,\"#9c179e\"],[0.4444444444444444,\"#bd3786\"],[0.5555555555555556,\"#d8576b\"],[0.6666666666666666,\"#ed7953\"],[0.7777777777777778,\"#fb9f3a\"],[0.8888888888888888,\"#fdca26\"],[1.0,\"#f0f921\"]]}],\"mesh3d\":[{\"type\":\"mesh3d\",\"colorbar\":{\"outlinewidth\":0,\"ticks\":\"\"}}],\"scatter\":[{\"fillpattern\":{\"fillmode\":\"overlay\",\"size\":10,\"solidity\":0.2},\"type\":\"scatter\"}],\"parcoords\":[{\"type\":\"parcoords\",\"line\":{\"colorbar\":{\"outlinewidth\":0,\"ticks\":\"\"}}}],\"scatterpolargl\":[{\"type\":\"scatterpolargl\",\"marker\":{\"colorbar\":{\"outlinewidth\":0,\"ticks\":\"\"}}}],\"bar\":[{\"error_x\":{\"color\":\"#2a3f5f\"},\"error_y\":{\"color\":\"#2a3f5f\"},\"marker\":{\"line\":{\"color\":\"#E5ECF6\",\"width\":0.5},\"pattern\":{\"fillmode\":\"overlay\",\"size\":10,\"solidity\":0.2}},\"type\":\"bar\"}],\"scattergeo\":[{\"type\":\"scattergeo\",\"marker\":{\"colorbar\":{\"outlinewidth\":0,\"ticks\":\"\"}}}],\"scatterpolar\":[{\"type\":\"scatterpolar\",\"marker\":{\"colorbar\":{\"outlinewidth\":0,\"ticks\":\"\"}}}],\"histogram\":[{\"marker\":{\"pattern\":{\"fillmode\":\"overlay\",\"size\":10,\"solidity\":0.2}},\"type\":\"histogram\"}],\"scattergl\":[{\"type\":\"scattergl\",\"marker\":{\"colorbar\":{\"outlinewidth\":0,\"ticks\":\"\"}}}],\"scatter3d\":[{\"type\":\"scatter3d\",\"line\":{\"colorbar\":{\"outlinewidth\":0,\"ticks\":\"\"}},\"marker\":{\"colorbar\":{\"outlinewidth\":0,\"ticks\":\"\"}}}],\"scattermapbox\":[{\"type\":\"scattermapbox\",\"marker\":{\"colorbar\":{\"outlinewidth\":0,\"ticks\":\"\"}}}],\"scatterternary\":[{\"type\":\"scatterternary\",\"marker\":{\"colorbar\":{\"outlinewidth\":0,\"ticks\":\"\"}}}],\"scattercarpet\":[{\"type\":\"scattercarpet\",\"marker\":{\"colorbar\":{\"outlinewidth\":0,\"ticks\":\"\"}}}],\"carpet\":[{\"aaxis\":{\"endlinecolor\":\"#2a3f5f\",\"gridcolor\":\"white\",\"linecolor\":\"white\",\"minorgridcolor\":\"white\",\"startlinecolor\":\"#2a3f5f\"},\"baxis\":{\"endlinecolor\":\"#2a3f5f\",\"gridcolor\":\"white\",\"linecolor\":\"white\",\"minorgridcolor\":\"white\",\"startlinecolor\":\"#2a3f5f\"},\"type\":\"carpet\"}],\"table\":[{\"cells\":{\"fill\":{\"color\":\"#EBF0F8\"},\"line\":{\"color\":\"white\"}},\"header\":{\"fill\":{\"color\":\"#C8D4E3\"},\"line\":{\"color\":\"white\"}},\"type\":\"table\"}],\"barpolar\":[{\"marker\":{\"line\":{\"color\":\"#E5ECF6\",\"width\":0.5},\"pattern\":{\"fillmode\":\"overlay\",\"size\":10,\"solidity\":0.2}},\"type\":\"barpolar\"}],\"pie\":[{\"automargin\":true,\"type\":\"pie\"}]},\"layout\":{\"autotypenumbers\":\"strict\",\"colorway\":[\"#636efa\",\"#EF553B\",\"#00cc96\",\"#ab63fa\",\"#FFA15A\",\"#19d3f3\",\"#FF6692\",\"#B6E880\",\"#FF97FF\",\"#FECB52\"],\"font\":{\"color\":\"#2a3f5f\"},\"hovermode\":\"closest\",\"hoverlabel\":{\"align\":\"left\"},\"paper_bgcolor\":\"white\",\"plot_bgcolor\":\"#E5ECF6\",\"polar\":{\"bgcolor\":\"#E5ECF6\",\"angularaxis\":{\"gridcolor\":\"white\",\"linecolor\":\"white\",\"ticks\":\"\"},\"radialaxis\":{\"gridcolor\":\"white\",\"linecolor\":\"white\",\"ticks\":\"\"}},\"ternary\":{\"bgcolor\":\"#E5ECF6\",\"aaxis\":{\"gridcolor\":\"white\",\"linecolor\":\"white\",\"ticks\":\"\"},\"baxis\":{\"gridcolor\":\"white\",\"linecolor\":\"white\",\"ticks\":\"\"},\"caxis\":{\"gridcolor\":\"white\",\"linecolor\":\"white\",\"ticks\":\"\"}},\"coloraxis\":{\"colorbar\":{\"outlinewidth\":0,\"ticks\":\"\"}},\"colorscale\":{\"sequential\":[[0.0,\"#0d0887\"],[0.1111111111111111,\"#46039f\"],[0.2222222222222222,\"#7201a8\"],[0.3333333333333333,\"#9c179e\"],[0.4444444444444444,\"#bd3786\"],[0.5555555555555556,\"#d8576b\"],[0.6666666666666666,\"#ed7953\"],[0.7777777777777778,\"#fb9f3a\"],[0.8888888888888888,\"#fdca26\"],[1.0,\"#f0f921\"]],\"sequentialminus\":[[0.0,\"#0d0887\"],[0.1111111111111111,\"#46039f\"],[0.2222222222222222,\"#7201a8\"],[0.3333333333333333,\"#9c179e\"],[0.4444444444444444,\"#bd3786\"],[0.5555555555555556,\"#d8576b\"],[0.6666666666666666,\"#ed7953\"],[0.7777777777777778,\"#fb9f3a\"],[0.8888888888888888,\"#fdca26\"],[1.0,\"#f0f921\"]],\"diverging\":[[0,\"#8e0152\"],[0.1,\"#c51b7d\"],[0.2,\"#de77ae\"],[0.3,\"#f1b6da\"],[0.4,\"#fde0ef\"],[0.5,\"#f7f7f7\"],[0.6,\"#e6f5d0\"],[0.7,\"#b8e186\"],[0.8,\"#7fbc41\"],[0.9,\"#4d9221\"],[1,\"#276419\"]]},\"xaxis\":{\"gridcolor\":\"white\",\"linecolor\":\"white\",\"ticks\":\"\",\"title\":{\"standoff\":15},\"zerolinecolor\":\"white\",\"automargin\":true,\"zerolinewidth\":2},\"yaxis\":{\"gridcolor\":\"white\",\"linecolor\":\"white\",\"ticks\":\"\",\"title\":{\"standoff\":15},\"zerolinecolor\":\"white\",\"automargin\":true,\"zerolinewidth\":2},\"scene\":{\"xaxis\":{\"backgroundcolor\":\"#E5ECF6\",\"gridcolor\":\"white\",\"linecolor\":\"white\",\"showbackground\":true,\"ticks\":\"\",\"zerolinecolor\":\"white\",\"gridwidth\":2},\"yaxis\":{\"backgroundcolor\":\"#E5ECF6\",\"gridcolor\":\"white\",\"linecolor\":\"white\",\"showbackground\":true,\"ticks\":\"\",\"zerolinecolor\":\"white\",\"gridwidth\":2},\"zaxis\":{\"backgroundcolor\":\"#E5ECF6\",\"gridcolor\":\"white\",\"linecolor\":\"white\",\"showbackground\":true,\"ticks\":\"\",\"zerolinecolor\":\"white\",\"gridwidth\":2}},\"shapedefaults\":{\"line\":{\"color\":\"#2a3f5f\"}},\"annotationdefaults\":{\"arrowcolor\":\"#2a3f5f\",\"arrowhead\":0,\"arrowwidth\":1},\"geo\":{\"bgcolor\":\"white\",\"landcolor\":\"#E5ECF6\",\"subunitcolor\":\"white\",\"showland\":true,\"showlakes\":true,\"lakecolor\":\"white\"},\"title\":{\"x\":0.05},\"mapbox\":{\"style\":\"light\"}}},\"geo\":{\"domain\":{\"x\":[0.0,1.0],\"y\":[0.0,1.0]},\"center\":{},\"scope\":\"europe\"},\"coloraxis\":{\"colorbar\":{\"title\":{\"text\":\"OBS_VALUE\"}},\"colorscale\":[[0.0,\"#0d0887\"],[0.1111111111111111,\"#46039f\"],[0.2222222222222222,\"#7201a8\"],[0.3333333333333333,\"#9c179e\"],[0.4444444444444444,\"#bd3786\"],[0.5555555555555556,\"#d8576b\"],[0.6666666666666666,\"#ed7953\"],[0.7777777777777778,\"#fb9f3a\"],[0.8888888888888888,\"#fdca26\"],[1.0,\"#f0f921\"]],\"cmin\":0.8,\"cmax\":40.7},\"legend\":{\"tracegroupgap\":0},\"margin\":{\"t\":60},\"height\":600,\"updatemenus\":[{\"buttons\":[{\"args\":[null,{\"frame\":{\"duration\":500,\"redraw\":true},\"mode\":\"immediate\",\"fromcurrent\":true,\"transition\":{\"duration\":500,\"easing\":\"linear\"}}],\"label\":\"&#9654;\",\"method\":\"animate\"},{\"args\":[[null],{\"frame\":{\"duration\":0,\"redraw\":true},\"mode\":\"immediate\",\"fromcurrent\":true,\"transition\":{\"duration\":0,\"easing\":\"linear\"}}],\"label\":\"&#9724;\",\"method\":\"animate\"}],\"direction\":\"left\",\"pad\":{\"r\":10,\"t\":70},\"showactive\":false,\"type\":\"buttons\",\"x\":0.1,\"xanchor\":\"right\",\"y\":0,\"yanchor\":\"top\"}],\"sliders\":[{\"active\":0,\"currentvalue\":{\"prefix\":\"TIME_PERIOD=\"},\"len\":0.9,\"pad\":{\"b\":10,\"t\":60},\"steps\":[{\"args\":[[\"2000\"],{\"frame\":{\"duration\":0,\"redraw\":true},\"mode\":\"immediate\",\"fromcurrent\":true,\"transition\":{\"duration\":0,\"easing\":\"linear\"}}],\"label\":\"2000\",\"method\":\"animate\"},{\"args\":[[\"2004\"],{\"frame\":{\"duration\":0,\"redraw\":true},\"mode\":\"immediate\",\"fromcurrent\":true,\"transition\":{\"duration\":0,\"easing\":\"linear\"}}],\"label\":\"2004\",\"method\":\"animate\"},{\"args\":[[\"2008\"],{\"frame\":{\"duration\":0,\"redraw\":true},\"mode\":\"immediate\",\"fromcurrent\":true,\"transition\":{\"duration\":0,\"easing\":\"linear\"}}],\"label\":\"2008\",\"method\":\"animate\"},{\"args\":[[\"2012\"],{\"frame\":{\"duration\":0,\"redraw\":true},\"mode\":\"immediate\",\"fromcurrent\":true,\"transition\":{\"duration\":0,\"easing\":\"linear\"}}],\"label\":\"2012\",\"method\":\"animate\"},{\"args\":[[\"2016\"],{\"frame\":{\"duration\":0,\"redraw\":true},\"mode\":\"immediate\",\"fromcurrent\":true,\"transition\":{\"duration\":0,\"easing\":\"linear\"}}],\"label\":\"2016\",\"method\":\"animate\"},{\"args\":[[\"2020\"],{\"frame\":{\"duration\":0,\"redraw\":true},\"mode\":\"immediate\",\"fromcurrent\":true,\"transition\":{\"duration\":0,\"easing\":\"linear\"}}],\"label\":\"2020\",\"method\":\"animate\"},{\"args\":[[\"2021\"],{\"frame\":{\"duration\":0,\"redraw\":true},\"mode\":\"immediate\",\"fromcurrent\":true,\"transition\":{\"duration\":0,\"easing\":\"linear\"}}],\"label\":\"2021\",\"method\":\"animate\"},{\"args\":[[\"2022\"],{\"frame\":{\"duration\":0,\"redraw\":true},\"mode\":\"immediate\",\"fromcurrent\":true,\"transition\":{\"duration\":0,\"easing\":\"linear\"}}],\"label\":\"2022\",\"method\":\"animate\"}],\"x\":0.1,\"xanchor\":\"left\",\"y\":0,\"yanchor\":\"top\"}],\"title\":{\"text\":\"Wages and salaries (total) in Europe in the construction sector\"}},                        {\"responsive\": true}                    ).then(function(){\n",
       "                            Plotly.addFrames('1db70726-9c3e-44ba-bba2-0b3436568e26', [{\"data\":[{\"coloraxis\":\"coloraxis\",\"geo\":\"geo\",\"hovertemplate\":\"TIME_PERIOD=2000<br>iso3=%{location}<br>OBS_VALUE=%{z}<extra></extra>\",\"locations\":[\"LTU\",\"IRL\",\"PRT\",\"DNK\",\"ESP\",\"DEU\",\"LVA\",\"SWE\",\"CZE\",\"ISL\",\"SVN\",\"HUN\",\"FIN\",\"LUX\",\"BGR\",\"SVK\",\"EST\",\"GBR\",\"ITA\",\"FRA\",\"AUT\",\"NLD\",\"BEL\"],\"name\":\"\",\"z\":[1.7,13.8,5.6,23.8,8.9,16.2,1.1,17.5,2.6,22.5,6.3,2.0,16.4,14.2,0.8,2.1,2.0,18.6,11.0,14.6,17.1,17.8,14.1],\"type\":\"choropleth\"}],\"name\":\"2000\"},{\"data\":[{\"coloraxis\":\"coloraxis\",\"geo\":\"geo\",\"hovertemplate\":\"TIME_PERIOD=2004<br>iso3=%{location}<br>OBS_VALUE=%{z}<extra></extra>\",\"locations\":[\"GBR\",\"DEU\",\"MLT\",\"IRL\",\"SWE\",\"ESP\",\"AUT\",\"DNK\",\"HRV\",\"LVA\",\"EST\",\"LTU\",\"ROU\",\"HUN\",\"SVN\",\"SVK\",\"CZE\",\"FRA\",\"POL\",\"ISL\",\"NLD\",\"BGR\",\"PRT\",\"FIN\",\"ITA\",\"LUX\",\"BEL\"],\"name\":\"\",\"z\":[18.9,17.0,6.8,22.4,18.7,10.2,19.3,26.4,5.4,1.8,3.4,2.2,1.1,3.1,7.5,2.9,3.9,17.4,3.1,24.8,21.2,0.9,6.5,17.8,14.2,15.9,17.1],\"type\":\"choropleth\"}],\"name\":\"2004\"},{\"data\":[{\"coloraxis\":\"coloraxis\",\"geo\":\"geo\",\"hovertemplate\":\"TIME_PERIOD=2008<br>iso3=%{location}<br>OBS_VALUE=%{z}<extra></extra>\",\"locations\":[\"EST\",\"NLD\",\"POL\",\"HRV\",\"FRA\",\"HUN\",\"ESP\",\"FIN\",\"DEU\",\"LVA\",\"GBR\",\"AUT\",\"LTU\",\"ITA\",\"BEL\",\"SVK\",\"BGR\",\"PRT\",\"SVN\",\"ISL\",\"MLT\",\"CZE\",\"DNK\",\"ROU\",\"SWE\",\"IRL\",\"LUX\"],\"name\":\"\",\"z\":[6.6,23.3,5.9,6.8,19.6,4.5,12.7,22.1,17.7,4.4,21.4,19.3,4.7,15.3,18.0,5.1,1.7,7.6,9.5,18.2,7.7,6.4,29.3,2.7,21.5,23.4,18.9],\"type\":\"choropleth\"}],\"name\":\"2008\"},{\"data\":[{\"coloraxis\":\"coloraxis\",\"geo\":\"geo\",\"hovertemplate\":\"TIME_PERIOD=2012<br>iso3=%{location}<br>OBS_VALUE=%{z}<extra></extra>\",\"locations\":[\"MKD\",\"HRV\",\"GBR\",\"LUX\",\"ITA\",\"LTU\",\"HUN\",\"MNE\",\"LVA\",\"IRL\",\"ISL\",\"ALB\",\"SRB\",\"AUT\",\"TUR\",\"BIH\",\"BEL\",\"SVK\",\"BGR\",\"SVN\",\"CHE\",\"SWE\",\"CZE\",\"MLT\",\"DEU\",\"ROU\",\"DNK\",\"POL\",\"PRT\",\"FRA\",\"EST\",\"NLD\",\"ESP\",\"FIN\",\"NOR\"],\"name\":\"\",\"z\":[2.8,6.9,21.4,21.1,16.7,3.8,5.0,3.4,4.3,23.3,20.2,1.6,3.9,21.1,3.6,3.4,20.3,6.3,2.5,10.1,34.9,26.4,6.8,8.5,19.6,2.5,32.1,5.7,9.2,20.9,7.3,25.6,14.8,24.9,40.7],\"type\":\"choropleth\"}],\"name\":\"2012\"},{\"data\":[{\"coloraxis\":\"coloraxis\",\"geo\":\"geo\",\"hovertemplate\":\"TIME_PERIOD=2016<br>iso3=%{location}<br>OBS_VALUE=%{z}<extra></extra>\",\"locations\":[\"TUR\",\"MKD\",\"SVK\",\"LTU\",\"MNE\",\"SVN\",\"PRT\",\"NOR\",\"SWE\",\"POL\",\"SRB\",\"LUX\",\"LVA\",\"ROU\",\"NLD\",\"MLT\",\"GBR\",\"FRA\",\"CZE\",\"FIN\",\"CHE\",\"BGR\",\"HRV\",\"ESP\",\"DEU\",\"BEL\",\"HUN\",\"BIH\",\"IRL\",\"EST\",\"ISL\",\"ALB\",\"AUT\",\"ITA\",\"DNK\"],\"name\":\"\",\"z\":[4.0,3.5,6.7,5.0,3.7,11.2,7.6,34.5,25.8,6.6,3.6,22.7,6.3,3.2,26.7,10.0,22.7,21.9,7.0,26.4,38.6,3.1,7.1,14.6,20.8,23.9,4.8,3.4,22.8,8.7,31.5,2.0,23.3,16.5,34.0],\"type\":\"choropleth\"}],\"name\":\"2016\"},{\"data\":[{\"coloraxis\":\"coloraxis\",\"geo\":\"geo\",\"hovertemplate\":\"TIME_PERIOD=2020<br>iso3=%{location}<br>OBS_VALUE=%{z}<extra></extra>\",\"locations\":[\"FIN\",\"SWE\",\"NLD\",\"CYP\",\"DNK\",\"POL\",\"ITA\",\"ESP\",\"NOR\",\"CZE\",\"EST\",\"ROU\",\"BGR\",\"PRT\",\"LUX\",\"DEU\",\"IRL\",\"SVK\",\"TUR\",\"HUN\",\"LVA\",\"MLT\",\"BEL\",\"AUT\",\"HRV\",\"SVN\",\"LTU\",\"FRA\",\"ISL\",\"SRB\"],\"name\":\"\",\"z\":[28.3,25.8,30.1,12.2,37.0,7.8,16.7,14.8,34.3,9.4,11.0,6.0,4.5,8.7,26.3,24.2,26.1,8.6,1.9,6.8,8.9,14.2,25.2,24.9,8.4,14.7,9.0,25.2,34.2,5.5],\"type\":\"choropleth\"}],\"name\":\"2020\"},{\"data\":[{\"coloraxis\":\"coloraxis\",\"geo\":\"geo\",\"hovertemplate\":\"TIME_PERIOD=2021<br>iso3=%{location}<br>OBS_VALUE=%{z}<extra></extra>\",\"locations\":[\"ROU\",\"ITA\",\"SRB\",\"CYP\",\"SWE\",\"BGR\",\"SVN\",\"BEL\",\"SVK\",\"AUT\",\"TUR\",\"CZE\",\"DEU\",\"ISL\",\"ESP\",\"NLD\",\"HUN\",\"LVA\",\"HRV\",\"NOR\",\"LUX\",\"IRL\",\"FIN\",\"MLT\",\"FRA\",\"POL\",\"LTU\",\"DNK\",\"PRT\",\"EST\"],\"name\":\"\",\"z\":[6.1,16.9,5.9,12.7,27.1,5.0,15.6,25.5,9.1,24.9,1.7,10.0,25.1,32.8,14.7,29.5,7.3,8.9,8.7,37.2,26.7,27.6,29.8,14.7,25.3,8.2,10.0,38.6,9.3,11.7],\"type\":\"choropleth\"}],\"name\":\"2021\"},{\"data\":[{\"coloraxis\":\"coloraxis\",\"geo\":\"geo\",\"hovertemplate\":\"TIME_PERIOD=2022<br>iso3=%{location}<br>OBS_VALUE=%{z}<extra></extra>\",\"locations\":[\"HUN\",\"HRV\",\"LVA\",\"DEU\",\"SVK\",\"AUT\",\"IRL\",\"TUR\",\"LTU\",\"ISL\",\"LUX\",\"BEL\",\"MLT\",\"FRA\",\"DNK\",\"ITA\",\"ROU\",\"CZE\",\"EST\",\"NOR\",\"SVN\",\"SRB\",\"NLD\",\"ESP\",\"SWE\",\"FIN\",\"BGR\",\"PRT\",\"CYP\",\"POL\"],\"name\":\"\",\"z\":[7.8,9.5,9.3,26.7,9.9,26.2,28.7,1.7,11.0,37.3,28.1,27.0,14.9,26.2,39.0,17.4,6.8,11.2,12.3,38.7,16.7,6.8,30.5,15.4,26.9,30.6,5.6,9.8,13.2,8.8],\"type\":\"choropleth\"}],\"name\":\"2022\"}]);\n",
       "                        }).then(function(){\n",
       "                            \n",
       "var gd = document.getElementById('1db70726-9c3e-44ba-bba2-0b3436568e26');\n",
       "var x = new MutationObserver(function (mutations, observer) {{\n",
       "        var display = window.getComputedStyle(gd).display;\n",
       "        if (!display || display === 'none') {{\n",
       "            console.log([gd, 'removed!']);\n",
       "            Plotly.purge(gd);\n",
       "            observer.disconnect();\n",
       "        }}\n",
       "}});\n",
       "\n",
       "// Listen for the removal of the full notebook cells\n",
       "var notebookContainer = gd.closest('#notebook-container');\n",
       "if (notebookContainer) {{\n",
       "    x.observe(notebookContainer, {childList: true});\n",
       "}}\n",
       "\n",
       "// Listen for the clearing of the current output cell\n",
       "var outputEl = gd.closest('.output');\n",
       "if (outputEl) {{\n",
       "    x.observe(outputEl, {childList: true});\n",
       "}}\n",
       "\n",
       "                        })                };                });            </script>        </div>"
      ]
     },
     "metadata": {},
     "output_type": "display_data"
    }
   ],
   "source": [
    "fig = px.choropleth(wages_salaries, \n",
    "                    locations=\"iso3\", \n",
    "                    color=\"OBS_VALUE\", \n",
    "                    animation_frame=\"TIME_PERIOD\", \n",
    "                    color_continuous_scale=px.colors.sequential.Plasma, \n",
    "                    range_color=[wages_salaries['OBS_VALUE'].min(), wages_salaries['OBS_VALUE'].max()],\n",
    "                    scope='europe',\n",
    "                    height=600\n",
    "                   )\n",
    "\n",
    "fig.update_layout(\n",
    "    # add a title text for the plot\n",
    "    title_text = 'Wages and salaries (total) in Europe in the construction sector'\n",
    ")\n",
    "fig.show()"
   ]
  },
  {
   "cell_type": "code",
   "execution_count": 44,
   "id": "ccbe895c",
   "metadata": {},
   "outputs": [
    {
     "data": {
      "application/vnd.plotly.v1+json": {
       "config": {
        "plotlyServerURL": "https://plot.ly"
       },
       "data": [
        {
         "coloraxis": "coloraxis",
         "geo": "geo",
         "hovertemplate": "TIME_PERIOD=2000<br>iso3=%{location}<br>OBS_VALUE=%{z}<extra></extra>",
         "locations": [
          "LTU",
          "IRL",
          "PRT",
          "DNK",
          "ESP",
          "DEU",
          "LVA",
          "SWE",
          "CZE",
          "ISL",
          "SVN",
          "HUN",
          "FIN",
          "LUX",
          "BGR",
          "SVK",
          "EST",
          "GBR",
          "ITA",
          "FRA",
          "AUT",
          "NLD",
          "BEL"
         ],
         "name": "",
         "type": "choropleth",
         "z": [
          2.4,
          16.6,
          6.9,
          24.7,
          12,
          20.1,
          1.4,
          25.7,
          3.6,
          25.5,
          7.6,
          2.9,
          20.8,
          16.6,
          1.1,
          3,
          2.7,
          22.4,
          16,
          20.4,
          21.1,
          23.2,
          23.8
         ]
        }
       ],
       "frames": [
        {
         "data": [
          {
           "coloraxis": "coloraxis",
           "geo": "geo",
           "hovertemplate": "TIME_PERIOD=2000<br>iso3=%{location}<br>OBS_VALUE=%{z}<extra></extra>",
           "locations": [
            "LTU",
            "IRL",
            "PRT",
            "DNK",
            "ESP",
            "DEU",
            "LVA",
            "SWE",
            "CZE",
            "ISL",
            "SVN",
            "HUN",
            "FIN",
            "LUX",
            "BGR",
            "SVK",
            "EST",
            "GBR",
            "ITA",
            "FRA",
            "AUT",
            "NLD",
            "BEL"
           ],
           "name": "",
           "type": "choropleth",
           "z": [
            2.4,
            16.6,
            6.9,
            24.7,
            12,
            20.1,
            1.4,
            25.7,
            3.6,
            25.5,
            7.6,
            2.9,
            20.8,
            16.6,
            1.1,
            3,
            2.7,
            22.4,
            16,
            20.4,
            21.1,
            23.2,
            23.8
           ]
          }
         ],
         "name": "2000"
        },
        {
         "data": [
          {
           "coloraxis": "coloraxis",
           "geo": "geo",
           "hovertemplate": "TIME_PERIOD=2004<br>iso3=%{location}<br>OBS_VALUE=%{z}<extra></extra>",
           "locations": [
            "GBR",
            "DEU",
            "MLT",
            "IRL",
            "SWE",
            "ESP",
            "AUT",
            "DNK",
            "HRV",
            "LVA",
            "EST",
            "LTU",
            "ROU",
            "HUN",
            "SVN",
            "SVK",
            "CZE",
            "FRA",
            "POL",
            "ISL",
            "NLD",
            "BGR",
            "PRT",
            "FIN",
            "ITA",
            "LUX",
            "BEL"
           ],
           "name": "",
           "type": "choropleth",
           "z": [
            22.5,
            21.2,
            7.5,
            26,
            27.4,
            14.2,
            24.6,
            28.7,
            6.3,
            2.3,
            4.6,
            3,
            1.5,
            4.4,
            9.2,
            3.8,
            5.4,
            24.7,
            3.9,
            28.8,
            27.5,
            1.3,
            8.2,
            22.7,
            20.5,
            19,
            28.9
           ]
          }
         ],
         "name": "2004"
        },
        {
         "data": [
          {
           "coloraxis": "coloraxis",
           "geo": "geo",
           "hovertemplate": "TIME_PERIOD=2008<br>iso3=%{location}<br>OBS_VALUE=%{z}<extra></extra>",
           "locations": [
            "EST",
            "NLD",
            "POL",
            "HRV",
            "FRA",
            "HUN",
            "ESP",
            "FIN",
            "DEU",
            "LVA",
            "GBR",
            "AUT",
            "LTU",
            "ITA",
            "BEL",
            "SVK",
            "BGR",
            "PRT",
            "SVN",
            "ISL",
            "MLT",
            "CZE",
            "DNK",
            "ROU",
            "SWE",
            "IRL",
            "LUX"
           ],
           "name": "",
           "type": "choropleth",
           "z": [
            9,
            30.3,
            7.1,
            8,
            28,
            6.2,
            17.9,
            28.3,
            22.7,
            5.6,
            24.8,
            26.5,
            6.6,
            22,
            28.6,
            6.7,
            2,
            9.7,
            11.2,
            21.6,
            8.5,
            8.7,
            33.2,
            3.5,
            31.2,
            27.7,
            22
           ]
          }
         ],
         "name": "2008"
        },
        {
         "data": [
          {
           "coloraxis": "coloraxis",
           "geo": "geo",
           "hovertemplate": "TIME_PERIOD=2012<br>iso3=%{location}<br>OBS_VALUE=%{z}<extra></extra>",
           "locations": [
            "MKD",
            "HRV",
            "GBR",
            "LUX",
            "ITA",
            "LTU",
            "HUN",
            "MNE",
            "LVA",
            "IRL",
            "ISL",
            "ALB",
            "SRB",
            "AUT",
            "TUR",
            "BIH",
            "BEL",
            "SVK",
            "BGR",
            "SVN",
            "CHE",
            "SWE",
            "CZE",
            "MLT",
            "DEU",
            "ROU",
            "DNK",
            "POL",
            "PRT",
            "FRA",
            "EST",
            "NLD",
            "ESP",
            "FIN",
            "NOR"
           ],
           "name": "",
           "type": "choropleth",
           "z": [
            3.1,
            8.2,
            25,
            24.8,
            23.5,
            5.5,
            6.4,
            4.1,
            5.5,
            26.4,
            24.6,
            2,
            4.7,
            28.4,
            4.3,
            3.7,
            33.4,
            8.4,
            3,
            11.9,
            43.8,
            38.3,
            9.3,
            9.4,
            25.1,
            3.3,
            36.4,
            6.8,
            11.6,
            30.3,
            10,
            33.7,
            20.9,
            31.7,
            49.1
           ]
          }
         ],
         "name": "2012"
        },
        {
         "data": [
          {
           "coloraxis": "coloraxis",
           "geo": "geo",
           "hovertemplate": "TIME_PERIOD=2016<br>iso3=%{location}<br>OBS_VALUE=%{z}<extra></extra>",
           "locations": [
            "TUR",
            "MKD",
            "SVK",
            "LTU",
            "MNE",
            "SVN",
            "PRT",
            "NOR",
            "SWE",
            "POL",
            "SRB",
            "LUX",
            "LVA",
            "ROU",
            "NLD",
            "MLT",
            "GBR",
            "FRA",
            "CZE",
            "FIN",
            "CHE",
            "BGR",
            "HRV",
            "ESP",
            "DEU",
            "BEL",
            "HUN",
            "BIH",
            "IRL",
            "EST",
            "ISL",
            "ALB",
            "AUT",
            "ITA",
            "DNK"
           ],
           "name": "",
           "type": "choropleth",
           "z": [
            4.8,
            3.6,
            9,
            7.2,
            4.3,
            13.2,
            9.7,
            41.4,
            37.4,
            8.1,
            4.3,
            26.1,
            8,
            4,
            35.6,
            11,
            26.9,
            31.1,
            9.6,
            34,
            48.1,
            3.6,
            8.4,
            20.3,
            26.7,
            34.8,
            6.4,
            3.7,
            25.7,
            11.8,
            38,
            2.4,
            33.1,
            23.5,
            38.7
           ]
          }
         ],
         "name": "2016"
        },
        {
         "data": [
          {
           "coloraxis": "coloraxis",
           "geo": "geo",
           "hovertemplate": "TIME_PERIOD=2020<br>iso3=%{location}<br>OBS_VALUE=%{z}<extra></extra>",
           "locations": [
            "FIN",
            "SWE",
            "NLD",
            "CYP",
            "DNK",
            "POL",
            "ITA",
            "ESP",
            "NOR",
            "CZE",
            "EST",
            "ROU",
            "BGR",
            "PRT",
            "LUX",
            "DEU",
            "IRL",
            "SVK",
            "TUR",
            "HUN",
            "LVA",
            "MLT",
            "BEL",
            "AUT",
            "HRV",
            "SVN",
            "LTU",
            "FRA",
            "ISL",
            "SRB"
           ],
           "name": "",
           "type": "choropleth",
           "z": [
            34.9,
            36.9,
            39.4,
            14.5,
            41.3,
            9.5,
            24.1,
            20.6,
            41,
            12.8,
            14.7,
            6.3,
            5.3,
            11.3,
            30.4,
            31.2,
            27.5,
            11.3,
            2.2,
            8.2,
            11.3,
            14.9,
            36,
            36.3,
            9.7,
            16.8,
            9.3,
            35.2,
            42.4,
            6.3
           ]
          }
         ],
         "name": "2020"
        },
        {
         "data": [
          {
           "coloraxis": "coloraxis",
           "geo": "geo",
           "hovertemplate": "TIME_PERIOD=2021<br>iso3=%{location}<br>OBS_VALUE=%{z}<extra></extra>",
           "locations": [
            "ROU",
            "ITA",
            "SRB",
            "CYP",
            "SWE",
            "BGR",
            "SVN",
            "BEL",
            "SVK",
            "AUT",
            "TUR",
            "CZE",
            "DEU",
            "ISL",
            "ESP",
            "NLD",
            "HUN",
            "LVA",
            "HRV",
            "NOR",
            "LUX",
            "IRL",
            "FIN",
            "MLT",
            "FRA",
            "POL",
            "LTU",
            "DNK",
            "PRT",
            "EST"
           ],
           "name": "",
           "type": "choropleth",
           "z": [
            6.4,
            24.1,
            7.1,
            15.5,
            39.7,
            5.8,
            18,
            36.4,
            12,
            36.5,
            2,
            13.7,
            32.4,
            40.4,
            20.6,
            38.7,
            8.6,
            11.2,
            10,
            44.6,
            30.8,
            28.6,
            36.4,
            15.4,
            35.2,
            9.9,
            10.5,
            43.1,
            12,
            15.7
           ]
          }
         ],
         "name": "2021"
        },
        {
         "data": [
          {
           "coloraxis": "coloraxis",
           "geo": "geo",
           "hovertemplate": "TIME_PERIOD=2022<br>iso3=%{location}<br>OBS_VALUE=%{z}<extra></extra>",
           "locations": [
            "HUN",
            "HRV",
            "LVA",
            "DEU",
            "SVK",
            "AUT",
            "IRL",
            "TUR",
            "LTU",
            "ISL",
            "LUX",
            "BEL",
            "MLT",
            "FRA",
            "DNK",
            "ITA",
            "ROU",
            "CZE",
            "EST",
            "NOR",
            "SVN",
            "SRB",
            "NLD",
            "ESP",
            "SWE",
            "FIN",
            "BGR",
            "PRT",
            "CYP",
            "POL"
           ],
           "name": "",
           "type": "choropleth",
           "z": [
            9,
            11,
            11.8,
            34.8,
            13.5,
            38.5,
            35.4,
            2.1,
            11.6,
            46.1,
            32.4,
            38.5,
            15.9,
            36.2,
            43.7,
            24.9,
            7.2,
            15.4,
            16.5,
            46.5,
            19.3,
            8.4,
            40.6,
            21.4,
            39.7,
            37.3,
            6.5,
            12.7,
            16.1,
            10.7
           ]
          }
         ],
         "name": "2022"
        }
       ],
       "layout": {
        "coloraxis": {
         "cmax": 49.1,
         "cmin": 1.1,
         "colorbar": {
          "title": {
           "text": "OBS_VALUE"
          }
         },
         "colorscale": [
          [
           0,
           "#0d0887"
          ],
          [
           0.1111111111111111,
           "#46039f"
          ],
          [
           0.2222222222222222,
           "#7201a8"
          ],
          [
           0.3333333333333333,
           "#9c179e"
          ],
          [
           0.4444444444444444,
           "#bd3786"
          ],
          [
           0.5555555555555556,
           "#d8576b"
          ],
          [
           0.6666666666666666,
           "#ed7953"
          ],
          [
           0.7777777777777778,
           "#fb9f3a"
          ],
          [
           0.8888888888888888,
           "#fdca26"
          ],
          [
           1,
           "#f0f921"
          ]
         ]
        },
        "geo": {
         "center": {},
         "domain": {
          "x": [
           0,
           1
          ],
          "y": [
           0,
           1
          ]
         },
         "scope": "europe"
        },
        "height": 600,
        "legend": {
         "tracegroupgap": 0
        },
        "margin": {
         "t": 60
        },
        "sliders": [
         {
          "active": 0,
          "currentvalue": {
           "prefix": "TIME_PERIOD="
          },
          "len": 0.9,
          "pad": {
           "b": 10,
           "t": 60
          },
          "steps": [
           {
            "args": [
             [
              "2000"
             ],
             {
              "frame": {
               "duration": 0,
               "redraw": true
              },
              "fromcurrent": true,
              "mode": "immediate",
              "transition": {
               "duration": 0,
               "easing": "linear"
              }
             }
            ],
            "label": "2000",
            "method": "animate"
           },
           {
            "args": [
             [
              "2004"
             ],
             {
              "frame": {
               "duration": 0,
               "redraw": true
              },
              "fromcurrent": true,
              "mode": "immediate",
              "transition": {
               "duration": 0,
               "easing": "linear"
              }
             }
            ],
            "label": "2004",
            "method": "animate"
           },
           {
            "args": [
             [
              "2008"
             ],
             {
              "frame": {
               "duration": 0,
               "redraw": true
              },
              "fromcurrent": true,
              "mode": "immediate",
              "transition": {
               "duration": 0,
               "easing": "linear"
              }
             }
            ],
            "label": "2008",
            "method": "animate"
           },
           {
            "args": [
             [
              "2012"
             ],
             {
              "frame": {
               "duration": 0,
               "redraw": true
              },
              "fromcurrent": true,
              "mode": "immediate",
              "transition": {
               "duration": 0,
               "easing": "linear"
              }
             }
            ],
            "label": "2012",
            "method": "animate"
           },
           {
            "args": [
             [
              "2016"
             ],
             {
              "frame": {
               "duration": 0,
               "redraw": true
              },
              "fromcurrent": true,
              "mode": "immediate",
              "transition": {
               "duration": 0,
               "easing": "linear"
              }
             }
            ],
            "label": "2016",
            "method": "animate"
           },
           {
            "args": [
             [
              "2020"
             ],
             {
              "frame": {
               "duration": 0,
               "redraw": true
              },
              "fromcurrent": true,
              "mode": "immediate",
              "transition": {
               "duration": 0,
               "easing": "linear"
              }
             }
            ],
            "label": "2020",
            "method": "animate"
           },
           {
            "args": [
             [
              "2021"
             ],
             {
              "frame": {
               "duration": 0,
               "redraw": true
              },
              "fromcurrent": true,
              "mode": "immediate",
              "transition": {
               "duration": 0,
               "easing": "linear"
              }
             }
            ],
            "label": "2021",
            "method": "animate"
           },
           {
            "args": [
             [
              "2022"
             ],
             {
              "frame": {
               "duration": 0,
               "redraw": true
              },
              "fromcurrent": true,
              "mode": "immediate",
              "transition": {
               "duration": 0,
               "easing": "linear"
              }
             }
            ],
            "label": "2022",
            "method": "animate"
           }
          ],
          "x": 0.1,
          "xanchor": "left",
          "y": 0,
          "yanchor": "top"
         }
        ],
        "template": {
         "data": {
          "bar": [
           {
            "error_x": {
             "color": "#2a3f5f"
            },
            "error_y": {
             "color": "#2a3f5f"
            },
            "marker": {
             "line": {
              "color": "#E5ECF6",
              "width": 0.5
             },
             "pattern": {
              "fillmode": "overlay",
              "size": 10,
              "solidity": 0.2
             }
            },
            "type": "bar"
           }
          ],
          "barpolar": [
           {
            "marker": {
             "line": {
              "color": "#E5ECF6",
              "width": 0.5
             },
             "pattern": {
              "fillmode": "overlay",
              "size": 10,
              "solidity": 0.2
             }
            },
            "type": "barpolar"
           }
          ],
          "carpet": [
           {
            "aaxis": {
             "endlinecolor": "#2a3f5f",
             "gridcolor": "white",
             "linecolor": "white",
             "minorgridcolor": "white",
             "startlinecolor": "#2a3f5f"
            },
            "baxis": {
             "endlinecolor": "#2a3f5f",
             "gridcolor": "white",
             "linecolor": "white",
             "minorgridcolor": "white",
             "startlinecolor": "#2a3f5f"
            },
            "type": "carpet"
           }
          ],
          "choropleth": [
           {
            "colorbar": {
             "outlinewidth": 0,
             "ticks": ""
            },
            "type": "choropleth"
           }
          ],
          "contour": [
           {
            "colorbar": {
             "outlinewidth": 0,
             "ticks": ""
            },
            "colorscale": [
             [
              0,
              "#0d0887"
             ],
             [
              0.1111111111111111,
              "#46039f"
             ],
             [
              0.2222222222222222,
              "#7201a8"
             ],
             [
              0.3333333333333333,
              "#9c179e"
             ],
             [
              0.4444444444444444,
              "#bd3786"
             ],
             [
              0.5555555555555556,
              "#d8576b"
             ],
             [
              0.6666666666666666,
              "#ed7953"
             ],
             [
              0.7777777777777778,
              "#fb9f3a"
             ],
             [
              0.8888888888888888,
              "#fdca26"
             ],
             [
              1,
              "#f0f921"
             ]
            ],
            "type": "contour"
           }
          ],
          "contourcarpet": [
           {
            "colorbar": {
             "outlinewidth": 0,
             "ticks": ""
            },
            "type": "contourcarpet"
           }
          ],
          "heatmap": [
           {
            "colorbar": {
             "outlinewidth": 0,
             "ticks": ""
            },
            "colorscale": [
             [
              0,
              "#0d0887"
             ],
             [
              0.1111111111111111,
              "#46039f"
             ],
             [
              0.2222222222222222,
              "#7201a8"
             ],
             [
              0.3333333333333333,
              "#9c179e"
             ],
             [
              0.4444444444444444,
              "#bd3786"
             ],
             [
              0.5555555555555556,
              "#d8576b"
             ],
             [
              0.6666666666666666,
              "#ed7953"
             ],
             [
              0.7777777777777778,
              "#fb9f3a"
             ],
             [
              0.8888888888888888,
              "#fdca26"
             ],
             [
              1,
              "#f0f921"
             ]
            ],
            "type": "heatmap"
           }
          ],
          "heatmapgl": [
           {
            "colorbar": {
             "outlinewidth": 0,
             "ticks": ""
            },
            "colorscale": [
             [
              0,
              "#0d0887"
             ],
             [
              0.1111111111111111,
              "#46039f"
             ],
             [
              0.2222222222222222,
              "#7201a8"
             ],
             [
              0.3333333333333333,
              "#9c179e"
             ],
             [
              0.4444444444444444,
              "#bd3786"
             ],
             [
              0.5555555555555556,
              "#d8576b"
             ],
             [
              0.6666666666666666,
              "#ed7953"
             ],
             [
              0.7777777777777778,
              "#fb9f3a"
             ],
             [
              0.8888888888888888,
              "#fdca26"
             ],
             [
              1,
              "#f0f921"
             ]
            ],
            "type": "heatmapgl"
           }
          ],
          "histogram": [
           {
            "marker": {
             "pattern": {
              "fillmode": "overlay",
              "size": 10,
              "solidity": 0.2
             }
            },
            "type": "histogram"
           }
          ],
          "histogram2d": [
           {
            "colorbar": {
             "outlinewidth": 0,
             "ticks": ""
            },
            "colorscale": [
             [
              0,
              "#0d0887"
             ],
             [
              0.1111111111111111,
              "#46039f"
             ],
             [
              0.2222222222222222,
              "#7201a8"
             ],
             [
              0.3333333333333333,
              "#9c179e"
             ],
             [
              0.4444444444444444,
              "#bd3786"
             ],
             [
              0.5555555555555556,
              "#d8576b"
             ],
             [
              0.6666666666666666,
              "#ed7953"
             ],
             [
              0.7777777777777778,
              "#fb9f3a"
             ],
             [
              0.8888888888888888,
              "#fdca26"
             ],
             [
              1,
              "#f0f921"
             ]
            ],
            "type": "histogram2d"
           }
          ],
          "histogram2dcontour": [
           {
            "colorbar": {
             "outlinewidth": 0,
             "ticks": ""
            },
            "colorscale": [
             [
              0,
              "#0d0887"
             ],
             [
              0.1111111111111111,
              "#46039f"
             ],
             [
              0.2222222222222222,
              "#7201a8"
             ],
             [
              0.3333333333333333,
              "#9c179e"
             ],
             [
              0.4444444444444444,
              "#bd3786"
             ],
             [
              0.5555555555555556,
              "#d8576b"
             ],
             [
              0.6666666666666666,
              "#ed7953"
             ],
             [
              0.7777777777777778,
              "#fb9f3a"
             ],
             [
              0.8888888888888888,
              "#fdca26"
             ],
             [
              1,
              "#f0f921"
             ]
            ],
            "type": "histogram2dcontour"
           }
          ],
          "mesh3d": [
           {
            "colorbar": {
             "outlinewidth": 0,
             "ticks": ""
            },
            "type": "mesh3d"
           }
          ],
          "parcoords": [
           {
            "line": {
             "colorbar": {
              "outlinewidth": 0,
              "ticks": ""
             }
            },
            "type": "parcoords"
           }
          ],
          "pie": [
           {
            "automargin": true,
            "type": "pie"
           }
          ],
          "scatter": [
           {
            "fillpattern": {
             "fillmode": "overlay",
             "size": 10,
             "solidity": 0.2
            },
            "type": "scatter"
           }
          ],
          "scatter3d": [
           {
            "line": {
             "colorbar": {
              "outlinewidth": 0,
              "ticks": ""
             }
            },
            "marker": {
             "colorbar": {
              "outlinewidth": 0,
              "ticks": ""
             }
            },
            "type": "scatter3d"
           }
          ],
          "scattercarpet": [
           {
            "marker": {
             "colorbar": {
              "outlinewidth": 0,
              "ticks": ""
             }
            },
            "type": "scattercarpet"
           }
          ],
          "scattergeo": [
           {
            "marker": {
             "colorbar": {
              "outlinewidth": 0,
              "ticks": ""
             }
            },
            "type": "scattergeo"
           }
          ],
          "scattergl": [
           {
            "marker": {
             "colorbar": {
              "outlinewidth": 0,
              "ticks": ""
             }
            },
            "type": "scattergl"
           }
          ],
          "scattermapbox": [
           {
            "marker": {
             "colorbar": {
              "outlinewidth": 0,
              "ticks": ""
             }
            },
            "type": "scattermapbox"
           }
          ],
          "scatterpolar": [
           {
            "marker": {
             "colorbar": {
              "outlinewidth": 0,
              "ticks": ""
             }
            },
            "type": "scatterpolar"
           }
          ],
          "scatterpolargl": [
           {
            "marker": {
             "colorbar": {
              "outlinewidth": 0,
              "ticks": ""
             }
            },
            "type": "scatterpolargl"
           }
          ],
          "scatterternary": [
           {
            "marker": {
             "colorbar": {
              "outlinewidth": 0,
              "ticks": ""
             }
            },
            "type": "scatterternary"
           }
          ],
          "surface": [
           {
            "colorbar": {
             "outlinewidth": 0,
             "ticks": ""
            },
            "colorscale": [
             [
              0,
              "#0d0887"
             ],
             [
              0.1111111111111111,
              "#46039f"
             ],
             [
              0.2222222222222222,
              "#7201a8"
             ],
             [
              0.3333333333333333,
              "#9c179e"
             ],
             [
              0.4444444444444444,
              "#bd3786"
             ],
             [
              0.5555555555555556,
              "#d8576b"
             ],
             [
              0.6666666666666666,
              "#ed7953"
             ],
             [
              0.7777777777777778,
              "#fb9f3a"
             ],
             [
              0.8888888888888888,
              "#fdca26"
             ],
             [
              1,
              "#f0f921"
             ]
            ],
            "type": "surface"
           }
          ],
          "table": [
           {
            "cells": {
             "fill": {
              "color": "#EBF0F8"
             },
             "line": {
              "color": "white"
             }
            },
            "header": {
             "fill": {
              "color": "#C8D4E3"
             },
             "line": {
              "color": "white"
             }
            },
            "type": "table"
           }
          ]
         },
         "layout": {
          "annotationdefaults": {
           "arrowcolor": "#2a3f5f",
           "arrowhead": 0,
           "arrowwidth": 1
          },
          "autotypenumbers": "strict",
          "coloraxis": {
           "colorbar": {
            "outlinewidth": 0,
            "ticks": ""
           }
          },
          "colorscale": {
           "diverging": [
            [
             0,
             "#8e0152"
            ],
            [
             0.1,
             "#c51b7d"
            ],
            [
             0.2,
             "#de77ae"
            ],
            [
             0.3,
             "#f1b6da"
            ],
            [
             0.4,
             "#fde0ef"
            ],
            [
             0.5,
             "#f7f7f7"
            ],
            [
             0.6,
             "#e6f5d0"
            ],
            [
             0.7,
             "#b8e186"
            ],
            [
             0.8,
             "#7fbc41"
            ],
            [
             0.9,
             "#4d9221"
            ],
            [
             1,
             "#276419"
            ]
           ],
           "sequential": [
            [
             0,
             "#0d0887"
            ],
            [
             0.1111111111111111,
             "#46039f"
            ],
            [
             0.2222222222222222,
             "#7201a8"
            ],
            [
             0.3333333333333333,
             "#9c179e"
            ],
            [
             0.4444444444444444,
             "#bd3786"
            ],
            [
             0.5555555555555556,
             "#d8576b"
            ],
            [
             0.6666666666666666,
             "#ed7953"
            ],
            [
             0.7777777777777778,
             "#fb9f3a"
            ],
            [
             0.8888888888888888,
             "#fdca26"
            ],
            [
             1,
             "#f0f921"
            ]
           ],
           "sequentialminus": [
            [
             0,
             "#0d0887"
            ],
            [
             0.1111111111111111,
             "#46039f"
            ],
            [
             0.2222222222222222,
             "#7201a8"
            ],
            [
             0.3333333333333333,
             "#9c179e"
            ],
            [
             0.4444444444444444,
             "#bd3786"
            ],
            [
             0.5555555555555556,
             "#d8576b"
            ],
            [
             0.6666666666666666,
             "#ed7953"
            ],
            [
             0.7777777777777778,
             "#fb9f3a"
            ],
            [
             0.8888888888888888,
             "#fdca26"
            ],
            [
             1,
             "#f0f921"
            ]
           ]
          },
          "colorway": [
           "#636efa",
           "#EF553B",
           "#00cc96",
           "#ab63fa",
           "#FFA15A",
           "#19d3f3",
           "#FF6692",
           "#B6E880",
           "#FF97FF",
           "#FECB52"
          ],
          "font": {
           "color": "#2a3f5f"
          },
          "geo": {
           "bgcolor": "white",
           "lakecolor": "white",
           "landcolor": "#E5ECF6",
           "showlakes": true,
           "showland": true,
           "subunitcolor": "white"
          },
          "hoverlabel": {
           "align": "left"
          },
          "hovermode": "closest",
          "mapbox": {
           "style": "light"
          },
          "paper_bgcolor": "white",
          "plot_bgcolor": "#E5ECF6",
          "polar": {
           "angularaxis": {
            "gridcolor": "white",
            "linecolor": "white",
            "ticks": ""
           },
           "bgcolor": "#E5ECF6",
           "radialaxis": {
            "gridcolor": "white",
            "linecolor": "white",
            "ticks": ""
           }
          },
          "scene": {
           "xaxis": {
            "backgroundcolor": "#E5ECF6",
            "gridcolor": "white",
            "gridwidth": 2,
            "linecolor": "white",
            "showbackground": true,
            "ticks": "",
            "zerolinecolor": "white"
           },
           "yaxis": {
            "backgroundcolor": "#E5ECF6",
            "gridcolor": "white",
            "gridwidth": 2,
            "linecolor": "white",
            "showbackground": true,
            "ticks": "",
            "zerolinecolor": "white"
           },
           "zaxis": {
            "backgroundcolor": "#E5ECF6",
            "gridcolor": "white",
            "gridwidth": 2,
            "linecolor": "white",
            "showbackground": true,
            "ticks": "",
            "zerolinecolor": "white"
           }
          },
          "shapedefaults": {
           "line": {
            "color": "#2a3f5f"
           }
          },
          "ternary": {
           "aaxis": {
            "gridcolor": "white",
            "linecolor": "white",
            "ticks": ""
           },
           "baxis": {
            "gridcolor": "white",
            "linecolor": "white",
            "ticks": ""
           },
           "bgcolor": "#E5ECF6",
           "caxis": {
            "gridcolor": "white",
            "linecolor": "white",
            "ticks": ""
           }
          },
          "title": {
           "x": 0.05
          },
          "xaxis": {
           "automargin": true,
           "gridcolor": "white",
           "linecolor": "white",
           "ticks": "",
           "title": {
            "standoff": 15
           },
           "zerolinecolor": "white",
           "zerolinewidth": 2
          },
          "yaxis": {
           "automargin": true,
           "gridcolor": "white",
           "linecolor": "white",
           "ticks": "",
           "title": {
            "standoff": 15
           },
           "zerolinecolor": "white",
           "zerolinewidth": 2
          }
         }
        },
        "title": {
         "text": "Labour cost for LCI (compensation of employees plus taxes minus subsidies)"
        },
        "updatemenus": [
         {
          "buttons": [
           {
            "args": [
             null,
             {
              "frame": {
               "duration": 500,
               "redraw": true
              },
              "fromcurrent": true,
              "mode": "immediate",
              "transition": {
               "duration": 500,
               "easing": "linear"
              }
             }
            ],
            "label": "&#9654;",
            "method": "animate"
           },
           {
            "args": [
             [
              null
             ],
             {
              "frame": {
               "duration": 0,
               "redraw": true
              },
              "fromcurrent": true,
              "mode": "immediate",
              "transition": {
               "duration": 0,
               "easing": "linear"
              }
             }
            ],
            "label": "&#9724;",
            "method": "animate"
           }
          ],
          "direction": "left",
          "pad": {
           "r": 10,
           "t": 70
          },
          "showactive": false,
          "type": "buttons",
          "x": 0.1,
          "xanchor": "right",
          "y": 0,
          "yanchor": "top"
         }
        ]
       }
      },
      "text/html": [
       "<div>                            <div id=\"10024a56-d06a-4bcb-b7b7-ea4fedb8fd54\" class=\"plotly-graph-div\" style=\"height:600px; width:100%;\"></div>            <script type=\"text/javascript\">                require([\"plotly\"], function(Plotly) {                    window.PLOTLYENV=window.PLOTLYENV || {};                                    if (document.getElementById(\"10024a56-d06a-4bcb-b7b7-ea4fedb8fd54\")) {                    Plotly.newPlot(                        \"10024a56-d06a-4bcb-b7b7-ea4fedb8fd54\",                        [{\"coloraxis\":\"coloraxis\",\"geo\":\"geo\",\"hovertemplate\":\"TIME_PERIOD=2000<br>iso3=%{location}<br>OBS_VALUE=%{z}<extra></extra>\",\"locations\":[\"LTU\",\"IRL\",\"PRT\",\"DNK\",\"ESP\",\"DEU\",\"LVA\",\"SWE\",\"CZE\",\"ISL\",\"SVN\",\"HUN\",\"FIN\",\"LUX\",\"BGR\",\"SVK\",\"EST\",\"GBR\",\"ITA\",\"FRA\",\"AUT\",\"NLD\",\"BEL\"],\"name\":\"\",\"z\":[2.4,16.6,6.9,24.7,12.0,20.1,1.4,25.7,3.6,25.5,7.6,2.9,20.8,16.6,1.1,3.0,2.7,22.4,16.0,20.4,21.1,23.2,23.8],\"type\":\"choropleth\"}],                        {\"template\":{\"data\":{\"histogram2dcontour\":[{\"type\":\"histogram2dcontour\",\"colorbar\":{\"outlinewidth\":0,\"ticks\":\"\"},\"colorscale\":[[0.0,\"#0d0887\"],[0.1111111111111111,\"#46039f\"],[0.2222222222222222,\"#7201a8\"],[0.3333333333333333,\"#9c179e\"],[0.4444444444444444,\"#bd3786\"],[0.5555555555555556,\"#d8576b\"],[0.6666666666666666,\"#ed7953\"],[0.7777777777777778,\"#fb9f3a\"],[0.8888888888888888,\"#fdca26\"],[1.0,\"#f0f921\"]]}],\"choropleth\":[{\"type\":\"choropleth\",\"colorbar\":{\"outlinewidth\":0,\"ticks\":\"\"}}],\"histogram2d\":[{\"type\":\"histogram2d\",\"colorbar\":{\"outlinewidth\":0,\"ticks\":\"\"},\"colorscale\":[[0.0,\"#0d0887\"],[0.1111111111111111,\"#46039f\"],[0.2222222222222222,\"#7201a8\"],[0.3333333333333333,\"#9c179e\"],[0.4444444444444444,\"#bd3786\"],[0.5555555555555556,\"#d8576b\"],[0.6666666666666666,\"#ed7953\"],[0.7777777777777778,\"#fb9f3a\"],[0.8888888888888888,\"#fdca26\"],[1.0,\"#f0f921\"]]}],\"heatmap\":[{\"type\":\"heatmap\",\"colorbar\":{\"outlinewidth\":0,\"ticks\":\"\"},\"colorscale\":[[0.0,\"#0d0887\"],[0.1111111111111111,\"#46039f\"],[0.2222222222222222,\"#7201a8\"],[0.3333333333333333,\"#9c179e\"],[0.4444444444444444,\"#bd3786\"],[0.5555555555555556,\"#d8576b\"],[0.6666666666666666,\"#ed7953\"],[0.7777777777777778,\"#fb9f3a\"],[0.8888888888888888,\"#fdca26\"],[1.0,\"#f0f921\"]]}],\"heatmapgl\":[{\"type\":\"heatmapgl\",\"colorbar\":{\"outlinewidth\":0,\"ticks\":\"\"},\"colorscale\":[[0.0,\"#0d0887\"],[0.1111111111111111,\"#46039f\"],[0.2222222222222222,\"#7201a8\"],[0.3333333333333333,\"#9c179e\"],[0.4444444444444444,\"#bd3786\"],[0.5555555555555556,\"#d8576b\"],[0.6666666666666666,\"#ed7953\"],[0.7777777777777778,\"#fb9f3a\"],[0.8888888888888888,\"#fdca26\"],[1.0,\"#f0f921\"]]}],\"contourcarpet\":[{\"type\":\"contourcarpet\",\"colorbar\":{\"outlinewidth\":0,\"ticks\":\"\"}}],\"contour\":[{\"type\":\"contour\",\"colorbar\":{\"outlinewidth\":0,\"ticks\":\"\"},\"colorscale\":[[0.0,\"#0d0887\"],[0.1111111111111111,\"#46039f\"],[0.2222222222222222,\"#7201a8\"],[0.3333333333333333,\"#9c179e\"],[0.4444444444444444,\"#bd3786\"],[0.5555555555555556,\"#d8576b\"],[0.6666666666666666,\"#ed7953\"],[0.7777777777777778,\"#fb9f3a\"],[0.8888888888888888,\"#fdca26\"],[1.0,\"#f0f921\"]]}],\"surface\":[{\"type\":\"surface\",\"colorbar\":{\"outlinewidth\":0,\"ticks\":\"\"},\"colorscale\":[[0.0,\"#0d0887\"],[0.1111111111111111,\"#46039f\"],[0.2222222222222222,\"#7201a8\"],[0.3333333333333333,\"#9c179e\"],[0.4444444444444444,\"#bd3786\"],[0.5555555555555556,\"#d8576b\"],[0.6666666666666666,\"#ed7953\"],[0.7777777777777778,\"#fb9f3a\"],[0.8888888888888888,\"#fdca26\"],[1.0,\"#f0f921\"]]}],\"mesh3d\":[{\"type\":\"mesh3d\",\"colorbar\":{\"outlinewidth\":0,\"ticks\":\"\"}}],\"scatter\":[{\"fillpattern\":{\"fillmode\":\"overlay\",\"size\":10,\"solidity\":0.2},\"type\":\"scatter\"}],\"parcoords\":[{\"type\":\"parcoords\",\"line\":{\"colorbar\":{\"outlinewidth\":0,\"ticks\":\"\"}}}],\"scatterpolargl\":[{\"type\":\"scatterpolargl\",\"marker\":{\"colorbar\":{\"outlinewidth\":0,\"ticks\":\"\"}}}],\"bar\":[{\"error_x\":{\"color\":\"#2a3f5f\"},\"error_y\":{\"color\":\"#2a3f5f\"},\"marker\":{\"line\":{\"color\":\"#E5ECF6\",\"width\":0.5},\"pattern\":{\"fillmode\":\"overlay\",\"size\":10,\"solidity\":0.2}},\"type\":\"bar\"}],\"scattergeo\":[{\"type\":\"scattergeo\",\"marker\":{\"colorbar\":{\"outlinewidth\":0,\"ticks\":\"\"}}}],\"scatterpolar\":[{\"type\":\"scatterpolar\",\"marker\":{\"colorbar\":{\"outlinewidth\":0,\"ticks\":\"\"}}}],\"histogram\":[{\"marker\":{\"pattern\":{\"fillmode\":\"overlay\",\"size\":10,\"solidity\":0.2}},\"type\":\"histogram\"}],\"scattergl\":[{\"type\":\"scattergl\",\"marker\":{\"colorbar\":{\"outlinewidth\":0,\"ticks\":\"\"}}}],\"scatter3d\":[{\"type\":\"scatter3d\",\"line\":{\"colorbar\":{\"outlinewidth\":0,\"ticks\":\"\"}},\"marker\":{\"colorbar\":{\"outlinewidth\":0,\"ticks\":\"\"}}}],\"scattermapbox\":[{\"type\":\"scattermapbox\",\"marker\":{\"colorbar\":{\"outlinewidth\":0,\"ticks\":\"\"}}}],\"scatterternary\":[{\"type\":\"scatterternary\",\"marker\":{\"colorbar\":{\"outlinewidth\":0,\"ticks\":\"\"}}}],\"scattercarpet\":[{\"type\":\"scattercarpet\",\"marker\":{\"colorbar\":{\"outlinewidth\":0,\"ticks\":\"\"}}}],\"carpet\":[{\"aaxis\":{\"endlinecolor\":\"#2a3f5f\",\"gridcolor\":\"white\",\"linecolor\":\"white\",\"minorgridcolor\":\"white\",\"startlinecolor\":\"#2a3f5f\"},\"baxis\":{\"endlinecolor\":\"#2a3f5f\",\"gridcolor\":\"white\",\"linecolor\":\"white\",\"minorgridcolor\":\"white\",\"startlinecolor\":\"#2a3f5f\"},\"type\":\"carpet\"}],\"table\":[{\"cells\":{\"fill\":{\"color\":\"#EBF0F8\"},\"line\":{\"color\":\"white\"}},\"header\":{\"fill\":{\"color\":\"#C8D4E3\"},\"line\":{\"color\":\"white\"}},\"type\":\"table\"}],\"barpolar\":[{\"marker\":{\"line\":{\"color\":\"#E5ECF6\",\"width\":0.5},\"pattern\":{\"fillmode\":\"overlay\",\"size\":10,\"solidity\":0.2}},\"type\":\"barpolar\"}],\"pie\":[{\"automargin\":true,\"type\":\"pie\"}]},\"layout\":{\"autotypenumbers\":\"strict\",\"colorway\":[\"#636efa\",\"#EF553B\",\"#00cc96\",\"#ab63fa\",\"#FFA15A\",\"#19d3f3\",\"#FF6692\",\"#B6E880\",\"#FF97FF\",\"#FECB52\"],\"font\":{\"color\":\"#2a3f5f\"},\"hovermode\":\"closest\",\"hoverlabel\":{\"align\":\"left\"},\"paper_bgcolor\":\"white\",\"plot_bgcolor\":\"#E5ECF6\",\"polar\":{\"bgcolor\":\"#E5ECF6\",\"angularaxis\":{\"gridcolor\":\"white\",\"linecolor\":\"white\",\"ticks\":\"\"},\"radialaxis\":{\"gridcolor\":\"white\",\"linecolor\":\"white\",\"ticks\":\"\"}},\"ternary\":{\"bgcolor\":\"#E5ECF6\",\"aaxis\":{\"gridcolor\":\"white\",\"linecolor\":\"white\",\"ticks\":\"\"},\"baxis\":{\"gridcolor\":\"white\",\"linecolor\":\"white\",\"ticks\":\"\"},\"caxis\":{\"gridcolor\":\"white\",\"linecolor\":\"white\",\"ticks\":\"\"}},\"coloraxis\":{\"colorbar\":{\"outlinewidth\":0,\"ticks\":\"\"}},\"colorscale\":{\"sequential\":[[0.0,\"#0d0887\"],[0.1111111111111111,\"#46039f\"],[0.2222222222222222,\"#7201a8\"],[0.3333333333333333,\"#9c179e\"],[0.4444444444444444,\"#bd3786\"],[0.5555555555555556,\"#d8576b\"],[0.6666666666666666,\"#ed7953\"],[0.7777777777777778,\"#fb9f3a\"],[0.8888888888888888,\"#fdca26\"],[1.0,\"#f0f921\"]],\"sequentialminus\":[[0.0,\"#0d0887\"],[0.1111111111111111,\"#46039f\"],[0.2222222222222222,\"#7201a8\"],[0.3333333333333333,\"#9c179e\"],[0.4444444444444444,\"#bd3786\"],[0.5555555555555556,\"#d8576b\"],[0.6666666666666666,\"#ed7953\"],[0.7777777777777778,\"#fb9f3a\"],[0.8888888888888888,\"#fdca26\"],[1.0,\"#f0f921\"]],\"diverging\":[[0,\"#8e0152\"],[0.1,\"#c51b7d\"],[0.2,\"#de77ae\"],[0.3,\"#f1b6da\"],[0.4,\"#fde0ef\"],[0.5,\"#f7f7f7\"],[0.6,\"#e6f5d0\"],[0.7,\"#b8e186\"],[0.8,\"#7fbc41\"],[0.9,\"#4d9221\"],[1,\"#276419\"]]},\"xaxis\":{\"gridcolor\":\"white\",\"linecolor\":\"white\",\"ticks\":\"\",\"title\":{\"standoff\":15},\"zerolinecolor\":\"white\",\"automargin\":true,\"zerolinewidth\":2},\"yaxis\":{\"gridcolor\":\"white\",\"linecolor\":\"white\",\"ticks\":\"\",\"title\":{\"standoff\":15},\"zerolinecolor\":\"white\",\"automargin\":true,\"zerolinewidth\":2},\"scene\":{\"xaxis\":{\"backgroundcolor\":\"#E5ECF6\",\"gridcolor\":\"white\",\"linecolor\":\"white\",\"showbackground\":true,\"ticks\":\"\",\"zerolinecolor\":\"white\",\"gridwidth\":2},\"yaxis\":{\"backgroundcolor\":\"#E5ECF6\",\"gridcolor\":\"white\",\"linecolor\":\"white\",\"showbackground\":true,\"ticks\":\"\",\"zerolinecolor\":\"white\",\"gridwidth\":2},\"zaxis\":{\"backgroundcolor\":\"#E5ECF6\",\"gridcolor\":\"white\",\"linecolor\":\"white\",\"showbackground\":true,\"ticks\":\"\",\"zerolinecolor\":\"white\",\"gridwidth\":2}},\"shapedefaults\":{\"line\":{\"color\":\"#2a3f5f\"}},\"annotationdefaults\":{\"arrowcolor\":\"#2a3f5f\",\"arrowhead\":0,\"arrowwidth\":1},\"geo\":{\"bgcolor\":\"white\",\"landcolor\":\"#E5ECF6\",\"subunitcolor\":\"white\",\"showland\":true,\"showlakes\":true,\"lakecolor\":\"white\"},\"title\":{\"x\":0.05},\"mapbox\":{\"style\":\"light\"}}},\"geo\":{\"domain\":{\"x\":[0.0,1.0],\"y\":[0.0,1.0]},\"center\":{},\"scope\":\"europe\"},\"coloraxis\":{\"colorbar\":{\"title\":{\"text\":\"OBS_VALUE\"}},\"colorscale\":[[0.0,\"#0d0887\"],[0.1111111111111111,\"#46039f\"],[0.2222222222222222,\"#7201a8\"],[0.3333333333333333,\"#9c179e\"],[0.4444444444444444,\"#bd3786\"],[0.5555555555555556,\"#d8576b\"],[0.6666666666666666,\"#ed7953\"],[0.7777777777777778,\"#fb9f3a\"],[0.8888888888888888,\"#fdca26\"],[1.0,\"#f0f921\"]],\"cmin\":1.1,\"cmax\":49.1},\"legend\":{\"tracegroupgap\":0},\"margin\":{\"t\":60},\"height\":600,\"updatemenus\":[{\"buttons\":[{\"args\":[null,{\"frame\":{\"duration\":500,\"redraw\":true},\"mode\":\"immediate\",\"fromcurrent\":true,\"transition\":{\"duration\":500,\"easing\":\"linear\"}}],\"label\":\"&#9654;\",\"method\":\"animate\"},{\"args\":[[null],{\"frame\":{\"duration\":0,\"redraw\":true},\"mode\":\"immediate\",\"fromcurrent\":true,\"transition\":{\"duration\":0,\"easing\":\"linear\"}}],\"label\":\"&#9724;\",\"method\":\"animate\"}],\"direction\":\"left\",\"pad\":{\"r\":10,\"t\":70},\"showactive\":false,\"type\":\"buttons\",\"x\":0.1,\"xanchor\":\"right\",\"y\":0,\"yanchor\":\"top\"}],\"sliders\":[{\"active\":0,\"currentvalue\":{\"prefix\":\"TIME_PERIOD=\"},\"len\":0.9,\"pad\":{\"b\":10,\"t\":60},\"steps\":[{\"args\":[[\"2000\"],{\"frame\":{\"duration\":0,\"redraw\":true},\"mode\":\"immediate\",\"fromcurrent\":true,\"transition\":{\"duration\":0,\"easing\":\"linear\"}}],\"label\":\"2000\",\"method\":\"animate\"},{\"args\":[[\"2004\"],{\"frame\":{\"duration\":0,\"redraw\":true},\"mode\":\"immediate\",\"fromcurrent\":true,\"transition\":{\"duration\":0,\"easing\":\"linear\"}}],\"label\":\"2004\",\"method\":\"animate\"},{\"args\":[[\"2008\"],{\"frame\":{\"duration\":0,\"redraw\":true},\"mode\":\"immediate\",\"fromcurrent\":true,\"transition\":{\"duration\":0,\"easing\":\"linear\"}}],\"label\":\"2008\",\"method\":\"animate\"},{\"args\":[[\"2012\"],{\"frame\":{\"duration\":0,\"redraw\":true},\"mode\":\"immediate\",\"fromcurrent\":true,\"transition\":{\"duration\":0,\"easing\":\"linear\"}}],\"label\":\"2012\",\"method\":\"animate\"},{\"args\":[[\"2016\"],{\"frame\":{\"duration\":0,\"redraw\":true},\"mode\":\"immediate\",\"fromcurrent\":true,\"transition\":{\"duration\":0,\"easing\":\"linear\"}}],\"label\":\"2016\",\"method\":\"animate\"},{\"args\":[[\"2020\"],{\"frame\":{\"duration\":0,\"redraw\":true},\"mode\":\"immediate\",\"fromcurrent\":true,\"transition\":{\"duration\":0,\"easing\":\"linear\"}}],\"label\":\"2020\",\"method\":\"animate\"},{\"args\":[[\"2021\"],{\"frame\":{\"duration\":0,\"redraw\":true},\"mode\":\"immediate\",\"fromcurrent\":true,\"transition\":{\"duration\":0,\"easing\":\"linear\"}}],\"label\":\"2021\",\"method\":\"animate\"},{\"args\":[[\"2022\"],{\"frame\":{\"duration\":0,\"redraw\":true},\"mode\":\"immediate\",\"fromcurrent\":true,\"transition\":{\"duration\":0,\"easing\":\"linear\"}}],\"label\":\"2022\",\"method\":\"animate\"}],\"x\":0.1,\"xanchor\":\"left\",\"y\":0,\"yanchor\":\"top\"}],\"title\":{\"text\":\"Labour cost for LCI (compensation of employees plus taxes minus subsidies)\"}},                        {\"responsive\": true}                    ).then(function(){\n",
       "                            Plotly.addFrames('10024a56-d06a-4bcb-b7b7-ea4fedb8fd54', [{\"data\":[{\"coloraxis\":\"coloraxis\",\"geo\":\"geo\",\"hovertemplate\":\"TIME_PERIOD=2000<br>iso3=%{location}<br>OBS_VALUE=%{z}<extra></extra>\",\"locations\":[\"LTU\",\"IRL\",\"PRT\",\"DNK\",\"ESP\",\"DEU\",\"LVA\",\"SWE\",\"CZE\",\"ISL\",\"SVN\",\"HUN\",\"FIN\",\"LUX\",\"BGR\",\"SVK\",\"EST\",\"GBR\",\"ITA\",\"FRA\",\"AUT\",\"NLD\",\"BEL\"],\"name\":\"\",\"z\":[2.4,16.6,6.9,24.7,12.0,20.1,1.4,25.7,3.6,25.5,7.6,2.9,20.8,16.6,1.1,3.0,2.7,22.4,16.0,20.4,21.1,23.2,23.8],\"type\":\"choropleth\"}],\"name\":\"2000\"},{\"data\":[{\"coloraxis\":\"coloraxis\",\"geo\":\"geo\",\"hovertemplate\":\"TIME_PERIOD=2004<br>iso3=%{location}<br>OBS_VALUE=%{z}<extra></extra>\",\"locations\":[\"GBR\",\"DEU\",\"MLT\",\"IRL\",\"SWE\",\"ESP\",\"AUT\",\"DNK\",\"HRV\",\"LVA\",\"EST\",\"LTU\",\"ROU\",\"HUN\",\"SVN\",\"SVK\",\"CZE\",\"FRA\",\"POL\",\"ISL\",\"NLD\",\"BGR\",\"PRT\",\"FIN\",\"ITA\",\"LUX\",\"BEL\"],\"name\":\"\",\"z\":[22.5,21.2,7.5,26.0,27.4,14.2,24.6,28.7,6.3,2.3,4.6,3.0,1.5,4.4,9.2,3.8,5.4,24.7,3.9,28.8,27.5,1.3,8.2,22.7,20.5,19.0,28.9],\"type\":\"choropleth\"}],\"name\":\"2004\"},{\"data\":[{\"coloraxis\":\"coloraxis\",\"geo\":\"geo\",\"hovertemplate\":\"TIME_PERIOD=2008<br>iso3=%{location}<br>OBS_VALUE=%{z}<extra></extra>\",\"locations\":[\"EST\",\"NLD\",\"POL\",\"HRV\",\"FRA\",\"HUN\",\"ESP\",\"FIN\",\"DEU\",\"LVA\",\"GBR\",\"AUT\",\"LTU\",\"ITA\",\"BEL\",\"SVK\",\"BGR\",\"PRT\",\"SVN\",\"ISL\",\"MLT\",\"CZE\",\"DNK\",\"ROU\",\"SWE\",\"IRL\",\"LUX\"],\"name\":\"\",\"z\":[9.0,30.3,7.1,8.0,28.0,6.2,17.9,28.3,22.7,5.6,24.8,26.5,6.6,22.0,28.6,6.7,2.0,9.7,11.2,21.6,8.5,8.7,33.2,3.5,31.2,27.7,22.0],\"type\":\"choropleth\"}],\"name\":\"2008\"},{\"data\":[{\"coloraxis\":\"coloraxis\",\"geo\":\"geo\",\"hovertemplate\":\"TIME_PERIOD=2012<br>iso3=%{location}<br>OBS_VALUE=%{z}<extra></extra>\",\"locations\":[\"MKD\",\"HRV\",\"GBR\",\"LUX\",\"ITA\",\"LTU\",\"HUN\",\"MNE\",\"LVA\",\"IRL\",\"ISL\",\"ALB\",\"SRB\",\"AUT\",\"TUR\",\"BIH\",\"BEL\",\"SVK\",\"BGR\",\"SVN\",\"CHE\",\"SWE\",\"CZE\",\"MLT\",\"DEU\",\"ROU\",\"DNK\",\"POL\",\"PRT\",\"FRA\",\"EST\",\"NLD\",\"ESP\",\"FIN\",\"NOR\"],\"name\":\"\",\"z\":[3.1,8.2,25.0,24.8,23.5,5.5,6.4,4.1,5.5,26.4,24.6,2.0,4.7,28.4,4.3,3.7,33.4,8.4,3.0,11.9,43.8,38.3,9.3,9.4,25.1,3.3,36.4,6.8,11.6,30.3,10.0,33.7,20.9,31.7,49.1],\"type\":\"choropleth\"}],\"name\":\"2012\"},{\"data\":[{\"coloraxis\":\"coloraxis\",\"geo\":\"geo\",\"hovertemplate\":\"TIME_PERIOD=2016<br>iso3=%{location}<br>OBS_VALUE=%{z}<extra></extra>\",\"locations\":[\"TUR\",\"MKD\",\"SVK\",\"LTU\",\"MNE\",\"SVN\",\"PRT\",\"NOR\",\"SWE\",\"POL\",\"SRB\",\"LUX\",\"LVA\",\"ROU\",\"NLD\",\"MLT\",\"GBR\",\"FRA\",\"CZE\",\"FIN\",\"CHE\",\"BGR\",\"HRV\",\"ESP\",\"DEU\",\"BEL\",\"HUN\",\"BIH\",\"IRL\",\"EST\",\"ISL\",\"ALB\",\"AUT\",\"ITA\",\"DNK\"],\"name\":\"\",\"z\":[4.8,3.6,9.0,7.2,4.3,13.2,9.7,41.4,37.4,8.1,4.3,26.1,8.0,4.0,35.6,11.0,26.9,31.1,9.6,34.0,48.1,3.6,8.4,20.3,26.7,34.8,6.4,3.7,25.7,11.8,38.0,2.4,33.1,23.5,38.7],\"type\":\"choropleth\"}],\"name\":\"2016\"},{\"data\":[{\"coloraxis\":\"coloraxis\",\"geo\":\"geo\",\"hovertemplate\":\"TIME_PERIOD=2020<br>iso3=%{location}<br>OBS_VALUE=%{z}<extra></extra>\",\"locations\":[\"FIN\",\"SWE\",\"NLD\",\"CYP\",\"DNK\",\"POL\",\"ITA\",\"ESP\",\"NOR\",\"CZE\",\"EST\",\"ROU\",\"BGR\",\"PRT\",\"LUX\",\"DEU\",\"IRL\",\"SVK\",\"TUR\",\"HUN\",\"LVA\",\"MLT\",\"BEL\",\"AUT\",\"HRV\",\"SVN\",\"LTU\",\"FRA\",\"ISL\",\"SRB\"],\"name\":\"\",\"z\":[34.9,36.9,39.4,14.5,41.3,9.5,24.1,20.6,41.0,12.8,14.7,6.3,5.3,11.3,30.4,31.2,27.5,11.3,2.2,8.2,11.3,14.9,36.0,36.3,9.7,16.8,9.3,35.2,42.4,6.3],\"type\":\"choropleth\"}],\"name\":\"2020\"},{\"data\":[{\"coloraxis\":\"coloraxis\",\"geo\":\"geo\",\"hovertemplate\":\"TIME_PERIOD=2021<br>iso3=%{location}<br>OBS_VALUE=%{z}<extra></extra>\",\"locations\":[\"ROU\",\"ITA\",\"SRB\",\"CYP\",\"SWE\",\"BGR\",\"SVN\",\"BEL\",\"SVK\",\"AUT\",\"TUR\",\"CZE\",\"DEU\",\"ISL\",\"ESP\",\"NLD\",\"HUN\",\"LVA\",\"HRV\",\"NOR\",\"LUX\",\"IRL\",\"FIN\",\"MLT\",\"FRA\",\"POL\",\"LTU\",\"DNK\",\"PRT\",\"EST\"],\"name\":\"\",\"z\":[6.4,24.1,7.1,15.5,39.7,5.8,18.0,36.4,12.0,36.5,2.0,13.7,32.4,40.4,20.6,38.7,8.6,11.2,10.0,44.6,30.8,28.6,36.4,15.4,35.2,9.9,10.5,43.1,12.0,15.7],\"type\":\"choropleth\"}],\"name\":\"2021\"},{\"data\":[{\"coloraxis\":\"coloraxis\",\"geo\":\"geo\",\"hovertemplate\":\"TIME_PERIOD=2022<br>iso3=%{location}<br>OBS_VALUE=%{z}<extra></extra>\",\"locations\":[\"HUN\",\"HRV\",\"LVA\",\"DEU\",\"SVK\",\"AUT\",\"IRL\",\"TUR\",\"LTU\",\"ISL\",\"LUX\",\"BEL\",\"MLT\",\"FRA\",\"DNK\",\"ITA\",\"ROU\",\"CZE\",\"EST\",\"NOR\",\"SVN\",\"SRB\",\"NLD\",\"ESP\",\"SWE\",\"FIN\",\"BGR\",\"PRT\",\"CYP\",\"POL\"],\"name\":\"\",\"z\":[9.0,11.0,11.8,34.8,13.5,38.5,35.4,2.1,11.6,46.1,32.4,38.5,15.9,36.2,43.7,24.9,7.2,15.4,16.5,46.5,19.3,8.4,40.6,21.4,39.7,37.3,6.5,12.7,16.1,10.7],\"type\":\"choropleth\"}],\"name\":\"2022\"}]);\n",
       "                        }).then(function(){\n",
       "                            \n",
       "var gd = document.getElementById('10024a56-d06a-4bcb-b7b7-ea4fedb8fd54');\n",
       "var x = new MutationObserver(function (mutations, observer) {{\n",
       "        var display = window.getComputedStyle(gd).display;\n",
       "        if (!display || display === 'none') {{\n",
       "            console.log([gd, 'removed!']);\n",
       "            Plotly.purge(gd);\n",
       "            observer.disconnect();\n",
       "        }}\n",
       "}});\n",
       "\n",
       "// Listen for the removal of the full notebook cells\n",
       "var notebookContainer = gd.closest('#notebook-container');\n",
       "if (notebookContainer) {{\n",
       "    x.observe(notebookContainer, {childList: true});\n",
       "}}\n",
       "\n",
       "// Listen for the clearing of the current output cell\n",
       "var outputEl = gd.closest('.output');\n",
       "if (outputEl) {{\n",
       "    x.observe(outputEl, {childList: true});\n",
       "}}\n",
       "\n",
       "                        })                };                });            </script>        </div>"
      ]
     },
     "metadata": {},
     "output_type": "display_data"
    }
   ],
   "source": [
    "fig = px.choropleth(comp_taxes, \n",
    "                    locations=\"iso3\",  \n",
    "                    color=\"OBS_VALUE\", \n",
    "                    animation_frame=\"TIME_PERIOD\", \n",
    "                    color_continuous_scale=px.colors.sequential.Plasma, \n",
    "                    range_color=[comp_taxes['OBS_VALUE'].min(), comp_taxes['OBS_VALUE'].max()],\n",
    "                    scope='europe',\n",
    "                    height=600\n",
    "                   )\n",
    "\n",
    "fig.update_layout(\n",
    "    # add a title text for the plot\n",
    "    title_text = 'Labour cost for LCI (compensation of employees plus taxes minus subsidies)'\n",
    ")\n",
    "fig.show()"
   ]
  },
  {
   "cell_type": "code",
   "execution_count": 45,
   "id": "2e595a3e",
   "metadata": {},
   "outputs": [
    {
     "data": {
      "application/vnd.plotly.v1+json": {
       "config": {
        "plotlyServerURL": "https://plot.ly"
       },
       "data": [
        {
         "coloraxis": "coloraxis",
         "geo": "geo",
         "hovertemplate": "TIME_PERIOD=2000<br>iso3=%{location}<br>OBS_VALUE=%{z}<extra></extra>",
         "locations": [
          "LTU",
          "IRL",
          "PRT",
          "DNK",
          "ESP",
          "DEU",
          "LVA",
          "SWE",
          "CZE",
          "ISL",
          "SVN",
          "HUN",
          "FIN",
          "LUX",
          "BGR",
          "SVK",
          "EST",
          "GBR",
          "ITA",
          "FRA",
          "AUT",
          "NLD",
          "BEL"
         ],
         "name": "",
         "type": "choropleth",
         "z": [
          0.7,
          2.8,
          1.3,
          1,
          3.2,
          3.8,
          0.3,
          8.2,
          1,
          3,
          1.3,
          0.9,
          4.5,
          2.4,
          0.3,
          0.8,
          0.7,
          3.8,
          4.9,
          5.9,
          4,
          5.4,
          9.7
         ]
        }
       ],
       "frames": [
        {
         "data": [
          {
           "coloraxis": "coloraxis",
           "geo": "geo",
           "hovertemplate": "TIME_PERIOD=2000<br>iso3=%{location}<br>OBS_VALUE=%{z}<extra></extra>",
           "locations": [
            "LTU",
            "IRL",
            "PRT",
            "DNK",
            "ESP",
            "DEU",
            "LVA",
            "SWE",
            "CZE",
            "ISL",
            "SVN",
            "HUN",
            "FIN",
            "LUX",
            "BGR",
            "SVK",
            "EST",
            "GBR",
            "ITA",
            "FRA",
            "AUT",
            "NLD",
            "BEL"
           ],
           "name": "",
           "type": "choropleth",
           "z": [
            0.7,
            2.8,
            1.3,
            1,
            3.2,
            3.8,
            0.3,
            8.2,
            1,
            3,
            1.3,
            0.9,
            4.5,
            2.4,
            0.3,
            0.8,
            0.7,
            3.8,
            4.9,
            5.9,
            4,
            5.4,
            9.7
           ]
          }
         ],
         "name": "2000"
        },
        {
         "data": [
          {
           "coloraxis": "coloraxis",
           "geo": "geo",
           "hovertemplate": "TIME_PERIOD=2004<br>iso3=%{location}<br>OBS_VALUE=%{z}<extra></extra>",
           "locations": [
            "GBR",
            "DEU",
            "MLT",
            "IRL",
            "SWE",
            "ESP",
            "AUT",
            "DNK",
            "HRV",
            "LVA",
            "EST",
            "LTU",
            "ROU",
            "HUN",
            "SVN",
            "SVK",
            "CZE",
            "FRA",
            "POL",
            "ISL",
            "NLD",
            "BGR",
            "PRT",
            "FIN",
            "ITA",
            "LUX",
            "BEL"
           ],
           "name": "",
           "type": "choropleth",
           "z": [
            3.6,
            4.2,
            0.6,
            3.7,
            8.7,
            4,
            5.3,
            2.3,
            1,
            0.5,
            1.2,
            0.9,
            0.4,
            1.3,
            1.7,
            0.9,
            1.5,
            7.3,
            0.8,
            4.1,
            6.3,
            0.3,
            1.7,
            4.8,
            6.3,
            3,
            11.8
           ]
          }
         ],
         "name": "2004"
        },
        {
         "data": [
          {
           "coloraxis": "coloraxis",
           "geo": "geo",
           "hovertemplate": "TIME_PERIOD=2008<br>iso3=%{location}<br>OBS_VALUE=%{z}<extra></extra>",
           "locations": [
            "EST",
            "NLD",
            "POL",
            "HRV",
            "FRA",
            "HUN",
            "ESP",
            "FIN",
            "DEU",
            "LVA",
            "GBR",
            "AUT",
            "LTU",
            "ITA",
            "BEL",
            "SVK",
            "BGR",
            "PRT",
            "SVN",
            "ISL",
            "MLT",
            "CZE",
            "DNK",
            "ROU",
            "SWE",
            "IRL",
            "LUX"
           ],
           "name": "",
           "type": "choropleth",
           "z": [
            2.4,
            7,
            1.2,
            1.2,
            8.4,
            1.7,
            5.2,
            6.3,
            5,
            1.2,
            3.4,
            7.2,
            1.9,
            6.6,
            10.6,
            1.6,
            0.4,
            2,
            1.8,
            3.3,
            0.8,
            2.3,
            3.9,
            0.8,
            9.7,
            4.3,
            3.1
           ]
          }
         ],
         "name": "2008"
        },
        {
         "data": [
          {
           "coloraxis": "coloraxis",
           "geo": "geo",
           "hovertemplate": "TIME_PERIOD=2012<br>iso3=%{location}<br>OBS_VALUE=%{z}<extra></extra>",
           "locations": [
            "MKD",
            "HRV",
            "GBR",
            "LUX",
            "ITA",
            "LTU",
            "HUN",
            "MNE",
            "LVA",
            "IRL",
            "ISL",
            "ALB",
            "SRB",
            "AUT",
            "TUR",
            "BIH",
            "BEL",
            "SVK",
            "BGR",
            "SVN",
            "CHE",
            "SWE",
            "CZE",
            "MLT",
            "DEU",
            "ROU",
            "DNK",
            "POL",
            "PRT",
            "FRA",
            "EST",
            "NLD",
            "ESP",
            "FIN",
            "NOR"
           ],
           "name": "",
           "type": "choropleth",
           "z": [
            0.3,
            1.4,
            3.6,
            3.7,
            6.8,
            1.7,
            1.4,
            0.7,
            1.1,
            3.1,
            4.4,
            0.4,
            0.7,
            7.3,
            0.7,
            0.3,
            13.1,
            2.2,
            0.5,
            1.8,
            9,
            12,
            2.5,
            0.9,
            5.5,
            0.7,
            4.3,
            1.2,
            2.4,
            9.4,
            2.7,
            8.1,
            6.1,
            6.9,
            8.5
           ]
          }
         ],
         "name": "2012"
        },
        {
         "data": [
          {
           "coloraxis": "coloraxis",
           "geo": "geo",
           "hovertemplate": "TIME_PERIOD=2016<br>iso3=%{location}<br>OBS_VALUE=%{z}<extra></extra>",
           "locations": [
            "TUR",
            "MKD",
            "SVK",
            "LTU",
            "MNE",
            "SVN",
            "PRT",
            "NOR",
            "SWE",
            "POL",
            "SRB",
            "LUX",
            "LVA",
            "ROU",
            "NLD",
            "MLT",
            "GBR",
            "FRA",
            "CZE",
            "FIN",
            "CHE",
            "BGR",
            "HRV",
            "ESP",
            "DEU",
            "BEL",
            "HUN",
            "BIH",
            "IRL",
            "EST",
            "ISL",
            "ALB",
            "AUT",
            "ITA",
            "DNK"
           ],
           "name": "",
           "type": "choropleth",
           "z": [
            0.8,
            0,
            2.3,
            2.2,
            0.6,
            2,
            2.1,
            6.9,
            11.6,
            1.5,
            0.7,
            3.4,
            1.6,
            0.8,
            8.8,
            1,
            4.2,
            9.2,
            2.6,
            7.6,
            9.4,
            0.6,
            1.3,
            5.7,
            5.9,
            10.9,
            1.6,
            0.3,
            2.9,
            3.1,
            6.5,
            0.4,
            9.8,
            6.9,
            4.6
           ]
          }
         ],
         "name": "2016"
        },
        {
         "data": [
          {
           "coloraxis": "coloraxis",
           "geo": "geo",
           "hovertemplate": "TIME_PERIOD=2020<br>iso3=%{location}<br>OBS_VALUE=%{z}<extra></extra>",
           "locations": [
            "FIN",
            "SWE",
            "NLD",
            "CYP",
            "DNK",
            "POL",
            "ITA",
            "ESP",
            "NOR",
            "CZE",
            "EST",
            "ROU",
            "BGR",
            "PRT",
            "LUX",
            "DEU",
            "IRL",
            "SVK",
            "TUR",
            "HUN",
            "LVA",
            "MLT",
            "BEL",
            "AUT",
            "HRV",
            "SVN",
            "LTU",
            "FRA",
            "ISL",
            "SRB"
           ],
           "name": "",
           "type": "choropleth",
           "z": [
            6.6,
            11.2,
            9.3,
            2.4,
            4.3,
            1.6,
            7.4,
            5.9,
            6.8,
            3.4,
            3.7,
            0.3,
            0.8,
            2.5,
            4.2,
            6.9,
            1.5,
            2.8,
            0.4,
            1.3,
            2.4,
            0.7,
            10.8,
            11.4,
            1.3,
            2.1,
            0.3,
            10.1,
            8.2,
            0.7
           ]
          }
         ],
         "name": "2020"
        },
        {
         "data": [
          {
           "coloraxis": "coloraxis",
           "geo": "geo",
           "hovertemplate": "TIME_PERIOD=2021<br>iso3=%{location}<br>OBS_VALUE=%{z}<extra></extra>",
           "locations": [
            "ROU",
            "ITA",
            "SRB",
            "CYP",
            "SWE",
            "BGR",
            "SVN",
            "BEL",
            "SVK",
            "AUT",
            "TUR",
            "CZE",
            "DEU",
            "ISL",
            "ESP",
            "NLD",
            "HUN",
            "LVA",
            "HRV",
            "NOR",
            "LUX",
            "IRL",
            "FIN",
            "MLT",
            "FRA",
            "POL",
            "LTU",
            "DNK",
            "PRT",
            "EST"
           ],
           "name": "",
           "type": "choropleth",
           "z": [
            0.3,
            7.3,
            1.3,
            2.9,
            12.6,
            0.8,
            2.4,
            10.9,
            2.9,
            11.6,
            0.3,
            3.8,
            7.3,
            7.6,
            6,
            9.3,
            1.3,
            2.3,
            1.4,
            7.4,
            4,
            0.6,
            6.5,
            0.7,
            9.9,
            1.7,
            0.5,
            4.5,
            2.7,
            3.9
           ]
          }
         ],
         "name": "2021"
        },
        {
         "data": [
          {
           "coloraxis": "coloraxis",
           "geo": "geo",
           "hovertemplate": "TIME_PERIOD=2022<br>iso3=%{location}<br>OBS_VALUE=%{z}<extra></extra>",
           "locations": [
            "HUN",
            "HRV",
            "LVA",
            "DEU",
            "SVK",
            "AUT",
            "IRL",
            "TUR",
            "LTU",
            "ISL",
            "LUX",
            "BEL",
            "MLT",
            "FRA",
            "DNK",
            "ITA",
            "ROU",
            "CZE",
            "EST",
            "NOR",
            "SVN",
            "SRB",
            "NLD",
            "ESP",
            "SWE",
            "FIN",
            "BGR",
            "PRT",
            "CYP",
            "POL"
           ],
           "name": "",
           "type": "choropleth",
           "z": [
            1.2,
            1.5,
            2.5,
            8.2,
            3.6,
            12.3,
            8.6,
            0.4,
            0.6,
            8.8,
            4.2,
            11.5,
            1,
            10,
            4.6,
            7.5,
            0.3,
            4.2,
            4.2,
            7.7,
            2.6,
            1.7,
            10.1,
            6.1,
            12.8,
            6.8,
            0.9,
            2.9,
            3,
            1.8
           ]
          }
         ],
         "name": "2022"
        }
       ],
       "layout": {
        "coloraxis": {
         "cmax": 13.1,
         "cmin": 0,
         "colorbar": {
          "title": {
           "text": "OBS_VALUE"
          }
         },
         "colorscale": [
          [
           0,
           "#0d0887"
          ],
          [
           0.1111111111111111,
           "#46039f"
          ],
          [
           0.2222222222222222,
           "#7201a8"
          ],
          [
           0.3333333333333333,
           "#9c179e"
          ],
          [
           0.4444444444444444,
           "#bd3786"
          ],
          [
           0.5555555555555556,
           "#d8576b"
          ],
          [
           0.6666666666666666,
           "#ed7953"
          ],
          [
           0.7777777777777778,
           "#fb9f3a"
          ],
          [
           0.8888888888888888,
           "#fdca26"
          ],
          [
           1,
           "#f0f921"
          ]
         ]
        },
        "geo": {
         "center": {},
         "domain": {
          "x": [
           0,
           1
          ],
          "y": [
           0,
           1
          ]
         },
         "scope": "europe"
        },
        "height": 600,
        "legend": {
         "tracegroupgap": 0
        },
        "margin": {
         "t": 60
        },
        "sliders": [
         {
          "active": 0,
          "currentvalue": {
           "prefix": "TIME_PERIOD="
          },
          "len": 0.9,
          "pad": {
           "b": 10,
           "t": 60
          },
          "steps": [
           {
            "args": [
             [
              "2000"
             ],
             {
              "frame": {
               "duration": 0,
               "redraw": true
              },
              "fromcurrent": true,
              "mode": "immediate",
              "transition": {
               "duration": 0,
               "easing": "linear"
              }
             }
            ],
            "label": "2000",
            "method": "animate"
           },
           {
            "args": [
             [
              "2004"
             ],
             {
              "frame": {
               "duration": 0,
               "redraw": true
              },
              "fromcurrent": true,
              "mode": "immediate",
              "transition": {
               "duration": 0,
               "easing": "linear"
              }
             }
            ],
            "label": "2004",
            "method": "animate"
           },
           {
            "args": [
             [
              "2008"
             ],
             {
              "frame": {
               "duration": 0,
               "redraw": true
              },
              "fromcurrent": true,
              "mode": "immediate",
              "transition": {
               "duration": 0,
               "easing": "linear"
              }
             }
            ],
            "label": "2008",
            "method": "animate"
           },
           {
            "args": [
             [
              "2012"
             ],
             {
              "frame": {
               "duration": 0,
               "redraw": true
              },
              "fromcurrent": true,
              "mode": "immediate",
              "transition": {
               "duration": 0,
               "easing": "linear"
              }
             }
            ],
            "label": "2012",
            "method": "animate"
           },
           {
            "args": [
             [
              "2016"
             ],
             {
              "frame": {
               "duration": 0,
               "redraw": true
              },
              "fromcurrent": true,
              "mode": "immediate",
              "transition": {
               "duration": 0,
               "easing": "linear"
              }
             }
            ],
            "label": "2016",
            "method": "animate"
           },
           {
            "args": [
             [
              "2020"
             ],
             {
              "frame": {
               "duration": 0,
               "redraw": true
              },
              "fromcurrent": true,
              "mode": "immediate",
              "transition": {
               "duration": 0,
               "easing": "linear"
              }
             }
            ],
            "label": "2020",
            "method": "animate"
           },
           {
            "args": [
             [
              "2021"
             ],
             {
              "frame": {
               "duration": 0,
               "redraw": true
              },
              "fromcurrent": true,
              "mode": "immediate",
              "transition": {
               "duration": 0,
               "easing": "linear"
              }
             }
            ],
            "label": "2021",
            "method": "animate"
           },
           {
            "args": [
             [
              "2022"
             ],
             {
              "frame": {
               "duration": 0,
               "redraw": true
              },
              "fromcurrent": true,
              "mode": "immediate",
              "transition": {
               "duration": 0,
               "easing": "linear"
              }
             }
            ],
            "label": "2022",
            "method": "animate"
           }
          ],
          "x": 0.1,
          "xanchor": "left",
          "y": 0,
          "yanchor": "top"
         }
        ],
        "template": {
         "data": {
          "bar": [
           {
            "error_x": {
             "color": "#2a3f5f"
            },
            "error_y": {
             "color": "#2a3f5f"
            },
            "marker": {
             "line": {
              "color": "#E5ECF6",
              "width": 0.5
             },
             "pattern": {
              "fillmode": "overlay",
              "size": 10,
              "solidity": 0.2
             }
            },
            "type": "bar"
           }
          ],
          "barpolar": [
           {
            "marker": {
             "line": {
              "color": "#E5ECF6",
              "width": 0.5
             },
             "pattern": {
              "fillmode": "overlay",
              "size": 10,
              "solidity": 0.2
             }
            },
            "type": "barpolar"
           }
          ],
          "carpet": [
           {
            "aaxis": {
             "endlinecolor": "#2a3f5f",
             "gridcolor": "white",
             "linecolor": "white",
             "minorgridcolor": "white",
             "startlinecolor": "#2a3f5f"
            },
            "baxis": {
             "endlinecolor": "#2a3f5f",
             "gridcolor": "white",
             "linecolor": "white",
             "minorgridcolor": "white",
             "startlinecolor": "#2a3f5f"
            },
            "type": "carpet"
           }
          ],
          "choropleth": [
           {
            "colorbar": {
             "outlinewidth": 0,
             "ticks": ""
            },
            "type": "choropleth"
           }
          ],
          "contour": [
           {
            "colorbar": {
             "outlinewidth": 0,
             "ticks": ""
            },
            "colorscale": [
             [
              0,
              "#0d0887"
             ],
             [
              0.1111111111111111,
              "#46039f"
             ],
             [
              0.2222222222222222,
              "#7201a8"
             ],
             [
              0.3333333333333333,
              "#9c179e"
             ],
             [
              0.4444444444444444,
              "#bd3786"
             ],
             [
              0.5555555555555556,
              "#d8576b"
             ],
             [
              0.6666666666666666,
              "#ed7953"
             ],
             [
              0.7777777777777778,
              "#fb9f3a"
             ],
             [
              0.8888888888888888,
              "#fdca26"
             ],
             [
              1,
              "#f0f921"
             ]
            ],
            "type": "contour"
           }
          ],
          "contourcarpet": [
           {
            "colorbar": {
             "outlinewidth": 0,
             "ticks": ""
            },
            "type": "contourcarpet"
           }
          ],
          "heatmap": [
           {
            "colorbar": {
             "outlinewidth": 0,
             "ticks": ""
            },
            "colorscale": [
             [
              0,
              "#0d0887"
             ],
             [
              0.1111111111111111,
              "#46039f"
             ],
             [
              0.2222222222222222,
              "#7201a8"
             ],
             [
              0.3333333333333333,
              "#9c179e"
             ],
             [
              0.4444444444444444,
              "#bd3786"
             ],
             [
              0.5555555555555556,
              "#d8576b"
             ],
             [
              0.6666666666666666,
              "#ed7953"
             ],
             [
              0.7777777777777778,
              "#fb9f3a"
             ],
             [
              0.8888888888888888,
              "#fdca26"
             ],
             [
              1,
              "#f0f921"
             ]
            ],
            "type": "heatmap"
           }
          ],
          "heatmapgl": [
           {
            "colorbar": {
             "outlinewidth": 0,
             "ticks": ""
            },
            "colorscale": [
             [
              0,
              "#0d0887"
             ],
             [
              0.1111111111111111,
              "#46039f"
             ],
             [
              0.2222222222222222,
              "#7201a8"
             ],
             [
              0.3333333333333333,
              "#9c179e"
             ],
             [
              0.4444444444444444,
              "#bd3786"
             ],
             [
              0.5555555555555556,
              "#d8576b"
             ],
             [
              0.6666666666666666,
              "#ed7953"
             ],
             [
              0.7777777777777778,
              "#fb9f3a"
             ],
             [
              0.8888888888888888,
              "#fdca26"
             ],
             [
              1,
              "#f0f921"
             ]
            ],
            "type": "heatmapgl"
           }
          ],
          "histogram": [
           {
            "marker": {
             "pattern": {
              "fillmode": "overlay",
              "size": 10,
              "solidity": 0.2
             }
            },
            "type": "histogram"
           }
          ],
          "histogram2d": [
           {
            "colorbar": {
             "outlinewidth": 0,
             "ticks": ""
            },
            "colorscale": [
             [
              0,
              "#0d0887"
             ],
             [
              0.1111111111111111,
              "#46039f"
             ],
             [
              0.2222222222222222,
              "#7201a8"
             ],
             [
              0.3333333333333333,
              "#9c179e"
             ],
             [
              0.4444444444444444,
              "#bd3786"
             ],
             [
              0.5555555555555556,
              "#d8576b"
             ],
             [
              0.6666666666666666,
              "#ed7953"
             ],
             [
              0.7777777777777778,
              "#fb9f3a"
             ],
             [
              0.8888888888888888,
              "#fdca26"
             ],
             [
              1,
              "#f0f921"
             ]
            ],
            "type": "histogram2d"
           }
          ],
          "histogram2dcontour": [
           {
            "colorbar": {
             "outlinewidth": 0,
             "ticks": ""
            },
            "colorscale": [
             [
              0,
              "#0d0887"
             ],
             [
              0.1111111111111111,
              "#46039f"
             ],
             [
              0.2222222222222222,
              "#7201a8"
             ],
             [
              0.3333333333333333,
              "#9c179e"
             ],
             [
              0.4444444444444444,
              "#bd3786"
             ],
             [
              0.5555555555555556,
              "#d8576b"
             ],
             [
              0.6666666666666666,
              "#ed7953"
             ],
             [
              0.7777777777777778,
              "#fb9f3a"
             ],
             [
              0.8888888888888888,
              "#fdca26"
             ],
             [
              1,
              "#f0f921"
             ]
            ],
            "type": "histogram2dcontour"
           }
          ],
          "mesh3d": [
           {
            "colorbar": {
             "outlinewidth": 0,
             "ticks": ""
            },
            "type": "mesh3d"
           }
          ],
          "parcoords": [
           {
            "line": {
             "colorbar": {
              "outlinewidth": 0,
              "ticks": ""
             }
            },
            "type": "parcoords"
           }
          ],
          "pie": [
           {
            "automargin": true,
            "type": "pie"
           }
          ],
          "scatter": [
           {
            "fillpattern": {
             "fillmode": "overlay",
             "size": 10,
             "solidity": 0.2
            },
            "type": "scatter"
           }
          ],
          "scatter3d": [
           {
            "line": {
             "colorbar": {
              "outlinewidth": 0,
              "ticks": ""
             }
            },
            "marker": {
             "colorbar": {
              "outlinewidth": 0,
              "ticks": ""
             }
            },
            "type": "scatter3d"
           }
          ],
          "scattercarpet": [
           {
            "marker": {
             "colorbar": {
              "outlinewidth": 0,
              "ticks": ""
             }
            },
            "type": "scattercarpet"
           }
          ],
          "scattergeo": [
           {
            "marker": {
             "colorbar": {
              "outlinewidth": 0,
              "ticks": ""
             }
            },
            "type": "scattergeo"
           }
          ],
          "scattergl": [
           {
            "marker": {
             "colorbar": {
              "outlinewidth": 0,
              "ticks": ""
             }
            },
            "type": "scattergl"
           }
          ],
          "scattermapbox": [
           {
            "marker": {
             "colorbar": {
              "outlinewidth": 0,
              "ticks": ""
             }
            },
            "type": "scattermapbox"
           }
          ],
          "scatterpolar": [
           {
            "marker": {
             "colorbar": {
              "outlinewidth": 0,
              "ticks": ""
             }
            },
            "type": "scatterpolar"
           }
          ],
          "scatterpolargl": [
           {
            "marker": {
             "colorbar": {
              "outlinewidth": 0,
              "ticks": ""
             }
            },
            "type": "scatterpolargl"
           }
          ],
          "scatterternary": [
           {
            "marker": {
             "colorbar": {
              "outlinewidth": 0,
              "ticks": ""
             }
            },
            "type": "scatterternary"
           }
          ],
          "surface": [
           {
            "colorbar": {
             "outlinewidth": 0,
             "ticks": ""
            },
            "colorscale": [
             [
              0,
              "#0d0887"
             ],
             [
              0.1111111111111111,
              "#46039f"
             ],
             [
              0.2222222222222222,
              "#7201a8"
             ],
             [
              0.3333333333333333,
              "#9c179e"
             ],
             [
              0.4444444444444444,
              "#bd3786"
             ],
             [
              0.5555555555555556,
              "#d8576b"
             ],
             [
              0.6666666666666666,
              "#ed7953"
             ],
             [
              0.7777777777777778,
              "#fb9f3a"
             ],
             [
              0.8888888888888888,
              "#fdca26"
             ],
             [
              1,
              "#f0f921"
             ]
            ],
            "type": "surface"
           }
          ],
          "table": [
           {
            "cells": {
             "fill": {
              "color": "#EBF0F8"
             },
             "line": {
              "color": "white"
             }
            },
            "header": {
             "fill": {
              "color": "#C8D4E3"
             },
             "line": {
              "color": "white"
             }
            },
            "type": "table"
           }
          ]
         },
         "layout": {
          "annotationdefaults": {
           "arrowcolor": "#2a3f5f",
           "arrowhead": 0,
           "arrowwidth": 1
          },
          "autotypenumbers": "strict",
          "coloraxis": {
           "colorbar": {
            "outlinewidth": 0,
            "ticks": ""
           }
          },
          "colorscale": {
           "diverging": [
            [
             0,
             "#8e0152"
            ],
            [
             0.1,
             "#c51b7d"
            ],
            [
             0.2,
             "#de77ae"
            ],
            [
             0.3,
             "#f1b6da"
            ],
            [
             0.4,
             "#fde0ef"
            ],
            [
             0.5,
             "#f7f7f7"
            ],
            [
             0.6,
             "#e6f5d0"
            ],
            [
             0.7,
             "#b8e186"
            ],
            [
             0.8,
             "#7fbc41"
            ],
            [
             0.9,
             "#4d9221"
            ],
            [
             1,
             "#276419"
            ]
           ],
           "sequential": [
            [
             0,
             "#0d0887"
            ],
            [
             0.1111111111111111,
             "#46039f"
            ],
            [
             0.2222222222222222,
             "#7201a8"
            ],
            [
             0.3333333333333333,
             "#9c179e"
            ],
            [
             0.4444444444444444,
             "#bd3786"
            ],
            [
             0.5555555555555556,
             "#d8576b"
            ],
            [
             0.6666666666666666,
             "#ed7953"
            ],
            [
             0.7777777777777778,
             "#fb9f3a"
            ],
            [
             0.8888888888888888,
             "#fdca26"
            ],
            [
             1,
             "#f0f921"
            ]
           ],
           "sequentialminus": [
            [
             0,
             "#0d0887"
            ],
            [
             0.1111111111111111,
             "#46039f"
            ],
            [
             0.2222222222222222,
             "#7201a8"
            ],
            [
             0.3333333333333333,
             "#9c179e"
            ],
            [
             0.4444444444444444,
             "#bd3786"
            ],
            [
             0.5555555555555556,
             "#d8576b"
            ],
            [
             0.6666666666666666,
             "#ed7953"
            ],
            [
             0.7777777777777778,
             "#fb9f3a"
            ],
            [
             0.8888888888888888,
             "#fdca26"
            ],
            [
             1,
             "#f0f921"
            ]
           ]
          },
          "colorway": [
           "#636efa",
           "#EF553B",
           "#00cc96",
           "#ab63fa",
           "#FFA15A",
           "#19d3f3",
           "#FF6692",
           "#B6E880",
           "#FF97FF",
           "#FECB52"
          ],
          "font": {
           "color": "#2a3f5f"
          },
          "geo": {
           "bgcolor": "white",
           "lakecolor": "white",
           "landcolor": "#E5ECF6",
           "showlakes": true,
           "showland": true,
           "subunitcolor": "white"
          },
          "hoverlabel": {
           "align": "left"
          },
          "hovermode": "closest",
          "mapbox": {
           "style": "light"
          },
          "paper_bgcolor": "white",
          "plot_bgcolor": "#E5ECF6",
          "polar": {
           "angularaxis": {
            "gridcolor": "white",
            "linecolor": "white",
            "ticks": ""
           },
           "bgcolor": "#E5ECF6",
           "radialaxis": {
            "gridcolor": "white",
            "linecolor": "white",
            "ticks": ""
           }
          },
          "scene": {
           "xaxis": {
            "backgroundcolor": "#E5ECF6",
            "gridcolor": "white",
            "gridwidth": 2,
            "linecolor": "white",
            "showbackground": true,
            "ticks": "",
            "zerolinecolor": "white"
           },
           "yaxis": {
            "backgroundcolor": "#E5ECF6",
            "gridcolor": "white",
            "gridwidth": 2,
            "linecolor": "white",
            "showbackground": true,
            "ticks": "",
            "zerolinecolor": "white"
           },
           "zaxis": {
            "backgroundcolor": "#E5ECF6",
            "gridcolor": "white",
            "gridwidth": 2,
            "linecolor": "white",
            "showbackground": true,
            "ticks": "",
            "zerolinecolor": "white"
           }
          },
          "shapedefaults": {
           "line": {
            "color": "#2a3f5f"
           }
          },
          "ternary": {
           "aaxis": {
            "gridcolor": "white",
            "linecolor": "white",
            "ticks": ""
           },
           "baxis": {
            "gridcolor": "white",
            "linecolor": "white",
            "ticks": ""
           },
           "bgcolor": "#E5ECF6",
           "caxis": {
            "gridcolor": "white",
            "linecolor": "white",
            "ticks": ""
           }
          },
          "title": {
           "x": 0.05
          },
          "xaxis": {
           "automargin": true,
           "gridcolor": "white",
           "linecolor": "white",
           "ticks": "",
           "title": {
            "standoff": 15
           },
           "zerolinecolor": "white",
           "zerolinewidth": 2
          },
          "yaxis": {
           "automargin": true,
           "gridcolor": "white",
           "linecolor": "white",
           "ticks": "",
           "title": {
            "standoff": 15
           },
           "zerolinecolor": "white",
           "zerolinewidth": 2
          }
         }
        },
        "title": {
         "text": "Labour costs other than wages and salaries in construction"
        },
        "updatemenus": [
         {
          "buttons": [
           {
            "args": [
             null,
             {
              "frame": {
               "duration": 500,
               "redraw": true
              },
              "fromcurrent": true,
              "mode": "immediate",
              "transition": {
               "duration": 500,
               "easing": "linear"
              }
             }
            ],
            "label": "&#9654;",
            "method": "animate"
           },
           {
            "args": [
             [
              null
             ],
             {
              "frame": {
               "duration": 0,
               "redraw": true
              },
              "fromcurrent": true,
              "mode": "immediate",
              "transition": {
               "duration": 0,
               "easing": "linear"
              }
             }
            ],
            "label": "&#9724;",
            "method": "animate"
           }
          ],
          "direction": "left",
          "pad": {
           "r": 10,
           "t": 70
          },
          "showactive": false,
          "type": "buttons",
          "x": 0.1,
          "xanchor": "right",
          "y": 0,
          "yanchor": "top"
         }
        ]
       }
      },
      "text/html": [
       "<div>                            <div id=\"5f49b31a-7ead-464d-9a6f-6f21ec10a49d\" class=\"plotly-graph-div\" style=\"height:600px; width:100%;\"></div>            <script type=\"text/javascript\">                require([\"plotly\"], function(Plotly) {                    window.PLOTLYENV=window.PLOTLYENV || {};                                    if (document.getElementById(\"5f49b31a-7ead-464d-9a6f-6f21ec10a49d\")) {                    Plotly.newPlot(                        \"5f49b31a-7ead-464d-9a6f-6f21ec10a49d\",                        [{\"coloraxis\":\"coloraxis\",\"geo\":\"geo\",\"hovertemplate\":\"TIME_PERIOD=2000<br>iso3=%{location}<br>OBS_VALUE=%{z}<extra></extra>\",\"locations\":[\"LTU\",\"IRL\",\"PRT\",\"DNK\",\"ESP\",\"DEU\",\"LVA\",\"SWE\",\"CZE\",\"ISL\",\"SVN\",\"HUN\",\"FIN\",\"LUX\",\"BGR\",\"SVK\",\"EST\",\"GBR\",\"ITA\",\"FRA\",\"AUT\",\"NLD\",\"BEL\"],\"name\":\"\",\"z\":[0.7,2.8,1.3,1.0,3.2,3.8,0.3,8.2,1.0,3.0,1.3,0.9,4.5,2.4,0.3,0.8,0.7,3.8,4.9,5.9,4.0,5.4,9.7],\"type\":\"choropleth\"}],                        {\"template\":{\"data\":{\"histogram2dcontour\":[{\"type\":\"histogram2dcontour\",\"colorbar\":{\"outlinewidth\":0,\"ticks\":\"\"},\"colorscale\":[[0.0,\"#0d0887\"],[0.1111111111111111,\"#46039f\"],[0.2222222222222222,\"#7201a8\"],[0.3333333333333333,\"#9c179e\"],[0.4444444444444444,\"#bd3786\"],[0.5555555555555556,\"#d8576b\"],[0.6666666666666666,\"#ed7953\"],[0.7777777777777778,\"#fb9f3a\"],[0.8888888888888888,\"#fdca26\"],[1.0,\"#f0f921\"]]}],\"choropleth\":[{\"type\":\"choropleth\",\"colorbar\":{\"outlinewidth\":0,\"ticks\":\"\"}}],\"histogram2d\":[{\"type\":\"histogram2d\",\"colorbar\":{\"outlinewidth\":0,\"ticks\":\"\"},\"colorscale\":[[0.0,\"#0d0887\"],[0.1111111111111111,\"#46039f\"],[0.2222222222222222,\"#7201a8\"],[0.3333333333333333,\"#9c179e\"],[0.4444444444444444,\"#bd3786\"],[0.5555555555555556,\"#d8576b\"],[0.6666666666666666,\"#ed7953\"],[0.7777777777777778,\"#fb9f3a\"],[0.8888888888888888,\"#fdca26\"],[1.0,\"#f0f921\"]]}],\"heatmap\":[{\"type\":\"heatmap\",\"colorbar\":{\"outlinewidth\":0,\"ticks\":\"\"},\"colorscale\":[[0.0,\"#0d0887\"],[0.1111111111111111,\"#46039f\"],[0.2222222222222222,\"#7201a8\"],[0.3333333333333333,\"#9c179e\"],[0.4444444444444444,\"#bd3786\"],[0.5555555555555556,\"#d8576b\"],[0.6666666666666666,\"#ed7953\"],[0.7777777777777778,\"#fb9f3a\"],[0.8888888888888888,\"#fdca26\"],[1.0,\"#f0f921\"]]}],\"heatmapgl\":[{\"type\":\"heatmapgl\",\"colorbar\":{\"outlinewidth\":0,\"ticks\":\"\"},\"colorscale\":[[0.0,\"#0d0887\"],[0.1111111111111111,\"#46039f\"],[0.2222222222222222,\"#7201a8\"],[0.3333333333333333,\"#9c179e\"],[0.4444444444444444,\"#bd3786\"],[0.5555555555555556,\"#d8576b\"],[0.6666666666666666,\"#ed7953\"],[0.7777777777777778,\"#fb9f3a\"],[0.8888888888888888,\"#fdca26\"],[1.0,\"#f0f921\"]]}],\"contourcarpet\":[{\"type\":\"contourcarpet\",\"colorbar\":{\"outlinewidth\":0,\"ticks\":\"\"}}],\"contour\":[{\"type\":\"contour\",\"colorbar\":{\"outlinewidth\":0,\"ticks\":\"\"},\"colorscale\":[[0.0,\"#0d0887\"],[0.1111111111111111,\"#46039f\"],[0.2222222222222222,\"#7201a8\"],[0.3333333333333333,\"#9c179e\"],[0.4444444444444444,\"#bd3786\"],[0.5555555555555556,\"#d8576b\"],[0.6666666666666666,\"#ed7953\"],[0.7777777777777778,\"#fb9f3a\"],[0.8888888888888888,\"#fdca26\"],[1.0,\"#f0f921\"]]}],\"surface\":[{\"type\":\"surface\",\"colorbar\":{\"outlinewidth\":0,\"ticks\":\"\"},\"colorscale\":[[0.0,\"#0d0887\"],[0.1111111111111111,\"#46039f\"],[0.2222222222222222,\"#7201a8\"],[0.3333333333333333,\"#9c179e\"],[0.4444444444444444,\"#bd3786\"],[0.5555555555555556,\"#d8576b\"],[0.6666666666666666,\"#ed7953\"],[0.7777777777777778,\"#fb9f3a\"],[0.8888888888888888,\"#fdca26\"],[1.0,\"#f0f921\"]]}],\"mesh3d\":[{\"type\":\"mesh3d\",\"colorbar\":{\"outlinewidth\":0,\"ticks\":\"\"}}],\"scatter\":[{\"fillpattern\":{\"fillmode\":\"overlay\",\"size\":10,\"solidity\":0.2},\"type\":\"scatter\"}],\"parcoords\":[{\"type\":\"parcoords\",\"line\":{\"colorbar\":{\"outlinewidth\":0,\"ticks\":\"\"}}}],\"scatterpolargl\":[{\"type\":\"scatterpolargl\",\"marker\":{\"colorbar\":{\"outlinewidth\":0,\"ticks\":\"\"}}}],\"bar\":[{\"error_x\":{\"color\":\"#2a3f5f\"},\"error_y\":{\"color\":\"#2a3f5f\"},\"marker\":{\"line\":{\"color\":\"#E5ECF6\",\"width\":0.5},\"pattern\":{\"fillmode\":\"overlay\",\"size\":10,\"solidity\":0.2}},\"type\":\"bar\"}],\"scattergeo\":[{\"type\":\"scattergeo\",\"marker\":{\"colorbar\":{\"outlinewidth\":0,\"ticks\":\"\"}}}],\"scatterpolar\":[{\"type\":\"scatterpolar\",\"marker\":{\"colorbar\":{\"outlinewidth\":0,\"ticks\":\"\"}}}],\"histogram\":[{\"marker\":{\"pattern\":{\"fillmode\":\"overlay\",\"size\":10,\"solidity\":0.2}},\"type\":\"histogram\"}],\"scattergl\":[{\"type\":\"scattergl\",\"marker\":{\"colorbar\":{\"outlinewidth\":0,\"ticks\":\"\"}}}],\"scatter3d\":[{\"type\":\"scatter3d\",\"line\":{\"colorbar\":{\"outlinewidth\":0,\"ticks\":\"\"}},\"marker\":{\"colorbar\":{\"outlinewidth\":0,\"ticks\":\"\"}}}],\"scattermapbox\":[{\"type\":\"scattermapbox\",\"marker\":{\"colorbar\":{\"outlinewidth\":0,\"ticks\":\"\"}}}],\"scatterternary\":[{\"type\":\"scatterternary\",\"marker\":{\"colorbar\":{\"outlinewidth\":0,\"ticks\":\"\"}}}],\"scattercarpet\":[{\"type\":\"scattercarpet\",\"marker\":{\"colorbar\":{\"outlinewidth\":0,\"ticks\":\"\"}}}],\"carpet\":[{\"aaxis\":{\"endlinecolor\":\"#2a3f5f\",\"gridcolor\":\"white\",\"linecolor\":\"white\",\"minorgridcolor\":\"white\",\"startlinecolor\":\"#2a3f5f\"},\"baxis\":{\"endlinecolor\":\"#2a3f5f\",\"gridcolor\":\"white\",\"linecolor\":\"white\",\"minorgridcolor\":\"white\",\"startlinecolor\":\"#2a3f5f\"},\"type\":\"carpet\"}],\"table\":[{\"cells\":{\"fill\":{\"color\":\"#EBF0F8\"},\"line\":{\"color\":\"white\"}},\"header\":{\"fill\":{\"color\":\"#C8D4E3\"},\"line\":{\"color\":\"white\"}},\"type\":\"table\"}],\"barpolar\":[{\"marker\":{\"line\":{\"color\":\"#E5ECF6\",\"width\":0.5},\"pattern\":{\"fillmode\":\"overlay\",\"size\":10,\"solidity\":0.2}},\"type\":\"barpolar\"}],\"pie\":[{\"automargin\":true,\"type\":\"pie\"}]},\"layout\":{\"autotypenumbers\":\"strict\",\"colorway\":[\"#636efa\",\"#EF553B\",\"#00cc96\",\"#ab63fa\",\"#FFA15A\",\"#19d3f3\",\"#FF6692\",\"#B6E880\",\"#FF97FF\",\"#FECB52\"],\"font\":{\"color\":\"#2a3f5f\"},\"hovermode\":\"closest\",\"hoverlabel\":{\"align\":\"left\"},\"paper_bgcolor\":\"white\",\"plot_bgcolor\":\"#E5ECF6\",\"polar\":{\"bgcolor\":\"#E5ECF6\",\"angularaxis\":{\"gridcolor\":\"white\",\"linecolor\":\"white\",\"ticks\":\"\"},\"radialaxis\":{\"gridcolor\":\"white\",\"linecolor\":\"white\",\"ticks\":\"\"}},\"ternary\":{\"bgcolor\":\"#E5ECF6\",\"aaxis\":{\"gridcolor\":\"white\",\"linecolor\":\"white\",\"ticks\":\"\"},\"baxis\":{\"gridcolor\":\"white\",\"linecolor\":\"white\",\"ticks\":\"\"},\"caxis\":{\"gridcolor\":\"white\",\"linecolor\":\"white\",\"ticks\":\"\"}},\"coloraxis\":{\"colorbar\":{\"outlinewidth\":0,\"ticks\":\"\"}},\"colorscale\":{\"sequential\":[[0.0,\"#0d0887\"],[0.1111111111111111,\"#46039f\"],[0.2222222222222222,\"#7201a8\"],[0.3333333333333333,\"#9c179e\"],[0.4444444444444444,\"#bd3786\"],[0.5555555555555556,\"#d8576b\"],[0.6666666666666666,\"#ed7953\"],[0.7777777777777778,\"#fb9f3a\"],[0.8888888888888888,\"#fdca26\"],[1.0,\"#f0f921\"]],\"sequentialminus\":[[0.0,\"#0d0887\"],[0.1111111111111111,\"#46039f\"],[0.2222222222222222,\"#7201a8\"],[0.3333333333333333,\"#9c179e\"],[0.4444444444444444,\"#bd3786\"],[0.5555555555555556,\"#d8576b\"],[0.6666666666666666,\"#ed7953\"],[0.7777777777777778,\"#fb9f3a\"],[0.8888888888888888,\"#fdca26\"],[1.0,\"#f0f921\"]],\"diverging\":[[0,\"#8e0152\"],[0.1,\"#c51b7d\"],[0.2,\"#de77ae\"],[0.3,\"#f1b6da\"],[0.4,\"#fde0ef\"],[0.5,\"#f7f7f7\"],[0.6,\"#e6f5d0\"],[0.7,\"#b8e186\"],[0.8,\"#7fbc41\"],[0.9,\"#4d9221\"],[1,\"#276419\"]]},\"xaxis\":{\"gridcolor\":\"white\",\"linecolor\":\"white\",\"ticks\":\"\",\"title\":{\"standoff\":15},\"zerolinecolor\":\"white\",\"automargin\":true,\"zerolinewidth\":2},\"yaxis\":{\"gridcolor\":\"white\",\"linecolor\":\"white\",\"ticks\":\"\",\"title\":{\"standoff\":15},\"zerolinecolor\":\"white\",\"automargin\":true,\"zerolinewidth\":2},\"scene\":{\"xaxis\":{\"backgroundcolor\":\"#E5ECF6\",\"gridcolor\":\"white\",\"linecolor\":\"white\",\"showbackground\":true,\"ticks\":\"\",\"zerolinecolor\":\"white\",\"gridwidth\":2},\"yaxis\":{\"backgroundcolor\":\"#E5ECF6\",\"gridcolor\":\"white\",\"linecolor\":\"white\",\"showbackground\":true,\"ticks\":\"\",\"zerolinecolor\":\"white\",\"gridwidth\":2},\"zaxis\":{\"backgroundcolor\":\"#E5ECF6\",\"gridcolor\":\"white\",\"linecolor\":\"white\",\"showbackground\":true,\"ticks\":\"\",\"zerolinecolor\":\"white\",\"gridwidth\":2}},\"shapedefaults\":{\"line\":{\"color\":\"#2a3f5f\"}},\"annotationdefaults\":{\"arrowcolor\":\"#2a3f5f\",\"arrowhead\":0,\"arrowwidth\":1},\"geo\":{\"bgcolor\":\"white\",\"landcolor\":\"#E5ECF6\",\"subunitcolor\":\"white\",\"showland\":true,\"showlakes\":true,\"lakecolor\":\"white\"},\"title\":{\"x\":0.05},\"mapbox\":{\"style\":\"light\"}}},\"geo\":{\"domain\":{\"x\":[0.0,1.0],\"y\":[0.0,1.0]},\"center\":{},\"scope\":\"europe\"},\"coloraxis\":{\"colorbar\":{\"title\":{\"text\":\"OBS_VALUE\"}},\"colorscale\":[[0.0,\"#0d0887\"],[0.1111111111111111,\"#46039f\"],[0.2222222222222222,\"#7201a8\"],[0.3333333333333333,\"#9c179e\"],[0.4444444444444444,\"#bd3786\"],[0.5555555555555556,\"#d8576b\"],[0.6666666666666666,\"#ed7953\"],[0.7777777777777778,\"#fb9f3a\"],[0.8888888888888888,\"#fdca26\"],[1.0,\"#f0f921\"]],\"cmin\":0.0,\"cmax\":13.1},\"legend\":{\"tracegroupgap\":0},\"margin\":{\"t\":60},\"height\":600,\"updatemenus\":[{\"buttons\":[{\"args\":[null,{\"frame\":{\"duration\":500,\"redraw\":true},\"mode\":\"immediate\",\"fromcurrent\":true,\"transition\":{\"duration\":500,\"easing\":\"linear\"}}],\"label\":\"&#9654;\",\"method\":\"animate\"},{\"args\":[[null],{\"frame\":{\"duration\":0,\"redraw\":true},\"mode\":\"immediate\",\"fromcurrent\":true,\"transition\":{\"duration\":0,\"easing\":\"linear\"}}],\"label\":\"&#9724;\",\"method\":\"animate\"}],\"direction\":\"left\",\"pad\":{\"r\":10,\"t\":70},\"showactive\":false,\"type\":\"buttons\",\"x\":0.1,\"xanchor\":\"right\",\"y\":0,\"yanchor\":\"top\"}],\"sliders\":[{\"active\":0,\"currentvalue\":{\"prefix\":\"TIME_PERIOD=\"},\"len\":0.9,\"pad\":{\"b\":10,\"t\":60},\"steps\":[{\"args\":[[\"2000\"],{\"frame\":{\"duration\":0,\"redraw\":true},\"mode\":\"immediate\",\"fromcurrent\":true,\"transition\":{\"duration\":0,\"easing\":\"linear\"}}],\"label\":\"2000\",\"method\":\"animate\"},{\"args\":[[\"2004\"],{\"frame\":{\"duration\":0,\"redraw\":true},\"mode\":\"immediate\",\"fromcurrent\":true,\"transition\":{\"duration\":0,\"easing\":\"linear\"}}],\"label\":\"2004\",\"method\":\"animate\"},{\"args\":[[\"2008\"],{\"frame\":{\"duration\":0,\"redraw\":true},\"mode\":\"immediate\",\"fromcurrent\":true,\"transition\":{\"duration\":0,\"easing\":\"linear\"}}],\"label\":\"2008\",\"method\":\"animate\"},{\"args\":[[\"2012\"],{\"frame\":{\"duration\":0,\"redraw\":true},\"mode\":\"immediate\",\"fromcurrent\":true,\"transition\":{\"duration\":0,\"easing\":\"linear\"}}],\"label\":\"2012\",\"method\":\"animate\"},{\"args\":[[\"2016\"],{\"frame\":{\"duration\":0,\"redraw\":true},\"mode\":\"immediate\",\"fromcurrent\":true,\"transition\":{\"duration\":0,\"easing\":\"linear\"}}],\"label\":\"2016\",\"method\":\"animate\"},{\"args\":[[\"2020\"],{\"frame\":{\"duration\":0,\"redraw\":true},\"mode\":\"immediate\",\"fromcurrent\":true,\"transition\":{\"duration\":0,\"easing\":\"linear\"}}],\"label\":\"2020\",\"method\":\"animate\"},{\"args\":[[\"2021\"],{\"frame\":{\"duration\":0,\"redraw\":true},\"mode\":\"immediate\",\"fromcurrent\":true,\"transition\":{\"duration\":0,\"easing\":\"linear\"}}],\"label\":\"2021\",\"method\":\"animate\"},{\"args\":[[\"2022\"],{\"frame\":{\"duration\":0,\"redraw\":true},\"mode\":\"immediate\",\"fromcurrent\":true,\"transition\":{\"duration\":0,\"easing\":\"linear\"}}],\"label\":\"2022\",\"method\":\"animate\"}],\"x\":0.1,\"xanchor\":\"left\",\"y\":0,\"yanchor\":\"top\"}],\"title\":{\"text\":\"Labour costs other than wages and salaries in construction\"}},                        {\"responsive\": true}                    ).then(function(){\n",
       "                            Plotly.addFrames('5f49b31a-7ead-464d-9a6f-6f21ec10a49d', [{\"data\":[{\"coloraxis\":\"coloraxis\",\"geo\":\"geo\",\"hovertemplate\":\"TIME_PERIOD=2000<br>iso3=%{location}<br>OBS_VALUE=%{z}<extra></extra>\",\"locations\":[\"LTU\",\"IRL\",\"PRT\",\"DNK\",\"ESP\",\"DEU\",\"LVA\",\"SWE\",\"CZE\",\"ISL\",\"SVN\",\"HUN\",\"FIN\",\"LUX\",\"BGR\",\"SVK\",\"EST\",\"GBR\",\"ITA\",\"FRA\",\"AUT\",\"NLD\",\"BEL\"],\"name\":\"\",\"z\":[0.7,2.8,1.3,1.0,3.2,3.8,0.3,8.2,1.0,3.0,1.3,0.9,4.5,2.4,0.3,0.8,0.7,3.8,4.9,5.9,4.0,5.4,9.7],\"type\":\"choropleth\"}],\"name\":\"2000\"},{\"data\":[{\"coloraxis\":\"coloraxis\",\"geo\":\"geo\",\"hovertemplate\":\"TIME_PERIOD=2004<br>iso3=%{location}<br>OBS_VALUE=%{z}<extra></extra>\",\"locations\":[\"GBR\",\"DEU\",\"MLT\",\"IRL\",\"SWE\",\"ESP\",\"AUT\",\"DNK\",\"HRV\",\"LVA\",\"EST\",\"LTU\",\"ROU\",\"HUN\",\"SVN\",\"SVK\",\"CZE\",\"FRA\",\"POL\",\"ISL\",\"NLD\",\"BGR\",\"PRT\",\"FIN\",\"ITA\",\"LUX\",\"BEL\"],\"name\":\"\",\"z\":[3.6,4.2,0.6,3.7,8.7,4.0,5.3,2.3,1.0,0.5,1.2,0.9,0.4,1.3,1.7,0.9,1.5,7.3,0.8,4.1,6.3,0.3,1.7,4.8,6.3,3.0,11.8],\"type\":\"choropleth\"}],\"name\":\"2004\"},{\"data\":[{\"coloraxis\":\"coloraxis\",\"geo\":\"geo\",\"hovertemplate\":\"TIME_PERIOD=2008<br>iso3=%{location}<br>OBS_VALUE=%{z}<extra></extra>\",\"locations\":[\"EST\",\"NLD\",\"POL\",\"HRV\",\"FRA\",\"HUN\",\"ESP\",\"FIN\",\"DEU\",\"LVA\",\"GBR\",\"AUT\",\"LTU\",\"ITA\",\"BEL\",\"SVK\",\"BGR\",\"PRT\",\"SVN\",\"ISL\",\"MLT\",\"CZE\",\"DNK\",\"ROU\",\"SWE\",\"IRL\",\"LUX\"],\"name\":\"\",\"z\":[2.4,7.0,1.2,1.2,8.4,1.7,5.2,6.3,5.0,1.2,3.4,7.2,1.9,6.6,10.6,1.6,0.4,2.0,1.8,3.3,0.8,2.3,3.9,0.8,9.7,4.3,3.1],\"type\":\"choropleth\"}],\"name\":\"2008\"},{\"data\":[{\"coloraxis\":\"coloraxis\",\"geo\":\"geo\",\"hovertemplate\":\"TIME_PERIOD=2012<br>iso3=%{location}<br>OBS_VALUE=%{z}<extra></extra>\",\"locations\":[\"MKD\",\"HRV\",\"GBR\",\"LUX\",\"ITA\",\"LTU\",\"HUN\",\"MNE\",\"LVA\",\"IRL\",\"ISL\",\"ALB\",\"SRB\",\"AUT\",\"TUR\",\"BIH\",\"BEL\",\"SVK\",\"BGR\",\"SVN\",\"CHE\",\"SWE\",\"CZE\",\"MLT\",\"DEU\",\"ROU\",\"DNK\",\"POL\",\"PRT\",\"FRA\",\"EST\",\"NLD\",\"ESP\",\"FIN\",\"NOR\"],\"name\":\"\",\"z\":[0.3,1.4,3.6,3.7,6.8,1.7,1.4,0.7,1.1,3.1,4.4,0.4,0.7,7.3,0.7,0.3,13.1,2.2,0.5,1.8,9.0,12.0,2.5,0.9,5.5,0.7,4.3,1.2,2.4,9.4,2.7,8.1,6.1,6.9,8.5],\"type\":\"choropleth\"}],\"name\":\"2012\"},{\"data\":[{\"coloraxis\":\"coloraxis\",\"geo\":\"geo\",\"hovertemplate\":\"TIME_PERIOD=2016<br>iso3=%{location}<br>OBS_VALUE=%{z}<extra></extra>\",\"locations\":[\"TUR\",\"MKD\",\"SVK\",\"LTU\",\"MNE\",\"SVN\",\"PRT\",\"NOR\",\"SWE\",\"POL\",\"SRB\",\"LUX\",\"LVA\",\"ROU\",\"NLD\",\"MLT\",\"GBR\",\"FRA\",\"CZE\",\"FIN\",\"CHE\",\"BGR\",\"HRV\",\"ESP\",\"DEU\",\"BEL\",\"HUN\",\"BIH\",\"IRL\",\"EST\",\"ISL\",\"ALB\",\"AUT\",\"ITA\",\"DNK\"],\"name\":\"\",\"z\":[0.8,0.0,2.3,2.2,0.6,2.0,2.1,6.9,11.6,1.5,0.7,3.4,1.6,0.8,8.8,1.0,4.2,9.2,2.6,7.6,9.4,0.6,1.3,5.7,5.9,10.9,1.6,0.3,2.9,3.1,6.5,0.4,9.8,6.9,4.6],\"type\":\"choropleth\"}],\"name\":\"2016\"},{\"data\":[{\"coloraxis\":\"coloraxis\",\"geo\":\"geo\",\"hovertemplate\":\"TIME_PERIOD=2020<br>iso3=%{location}<br>OBS_VALUE=%{z}<extra></extra>\",\"locations\":[\"FIN\",\"SWE\",\"NLD\",\"CYP\",\"DNK\",\"POL\",\"ITA\",\"ESP\",\"NOR\",\"CZE\",\"EST\",\"ROU\",\"BGR\",\"PRT\",\"LUX\",\"DEU\",\"IRL\",\"SVK\",\"TUR\",\"HUN\",\"LVA\",\"MLT\",\"BEL\",\"AUT\",\"HRV\",\"SVN\",\"LTU\",\"FRA\",\"ISL\",\"SRB\"],\"name\":\"\",\"z\":[6.6,11.2,9.3,2.4,4.3,1.6,7.4,5.9,6.8,3.4,3.7,0.3,0.8,2.5,4.2,6.9,1.5,2.8,0.4,1.3,2.4,0.7,10.8,11.4,1.3,2.1,0.3,10.1,8.2,0.7],\"type\":\"choropleth\"}],\"name\":\"2020\"},{\"data\":[{\"coloraxis\":\"coloraxis\",\"geo\":\"geo\",\"hovertemplate\":\"TIME_PERIOD=2021<br>iso3=%{location}<br>OBS_VALUE=%{z}<extra></extra>\",\"locations\":[\"ROU\",\"ITA\",\"SRB\",\"CYP\",\"SWE\",\"BGR\",\"SVN\",\"BEL\",\"SVK\",\"AUT\",\"TUR\",\"CZE\",\"DEU\",\"ISL\",\"ESP\",\"NLD\",\"HUN\",\"LVA\",\"HRV\",\"NOR\",\"LUX\",\"IRL\",\"FIN\",\"MLT\",\"FRA\",\"POL\",\"LTU\",\"DNK\",\"PRT\",\"EST\"],\"name\":\"\",\"z\":[0.3,7.3,1.3,2.9,12.6,0.8,2.4,10.9,2.9,11.6,0.3,3.8,7.3,7.6,6.0,9.3,1.3,2.3,1.4,7.4,4.0,0.6,6.5,0.7,9.9,1.7,0.5,4.5,2.7,3.9],\"type\":\"choropleth\"}],\"name\":\"2021\"},{\"data\":[{\"coloraxis\":\"coloraxis\",\"geo\":\"geo\",\"hovertemplate\":\"TIME_PERIOD=2022<br>iso3=%{location}<br>OBS_VALUE=%{z}<extra></extra>\",\"locations\":[\"HUN\",\"HRV\",\"LVA\",\"DEU\",\"SVK\",\"AUT\",\"IRL\",\"TUR\",\"LTU\",\"ISL\",\"LUX\",\"BEL\",\"MLT\",\"FRA\",\"DNK\",\"ITA\",\"ROU\",\"CZE\",\"EST\",\"NOR\",\"SVN\",\"SRB\",\"NLD\",\"ESP\",\"SWE\",\"FIN\",\"BGR\",\"PRT\",\"CYP\",\"POL\"],\"name\":\"\",\"z\":[1.2,1.5,2.5,8.2,3.6,12.3,8.6,0.4,0.6,8.8,4.2,11.5,1.0,10.0,4.6,7.5,0.3,4.2,4.2,7.7,2.6,1.7,10.1,6.1,12.8,6.8,0.9,2.9,3.0,1.8],\"type\":\"choropleth\"}],\"name\":\"2022\"}]);\n",
       "                        }).then(function(){\n",
       "                            \n",
       "var gd = document.getElementById('5f49b31a-7ead-464d-9a6f-6f21ec10a49d');\n",
       "var x = new MutationObserver(function (mutations, observer) {{\n",
       "        var display = window.getComputedStyle(gd).display;\n",
       "        if (!display || display === 'none') {{\n",
       "            console.log([gd, 'removed!']);\n",
       "            Plotly.purge(gd);\n",
       "            observer.disconnect();\n",
       "        }}\n",
       "}});\n",
       "\n",
       "// Listen for the removal of the full notebook cells\n",
       "var notebookContainer = gd.closest('#notebook-container');\n",
       "if (notebookContainer) {{\n",
       "    x.observe(notebookContainer, {childList: true});\n",
       "}}\n",
       "\n",
       "// Listen for the clearing of the current output cell\n",
       "var outputEl = gd.closest('.output');\n",
       "if (outputEl) {{\n",
       "    x.observe(outputEl, {childList: true});\n",
       "}}\n",
       "\n",
       "                        })                };                });            </script>        </div>"
      ]
     },
     "metadata": {},
     "output_type": "display_data"
    }
   ],
   "source": [
    "fig = px.choropleth(other_costs, \n",
    "                    locations=\"iso3\",  \n",
    "                    color=\"OBS_VALUE\", \n",
    "                    animation_frame=\"TIME_PERIOD\", \n",
    "                    color_continuous_scale=px.colors.sequential.Plasma, \n",
    "                    range_color=[other_costs['OBS_VALUE'].min(), other_costs['OBS_VALUE'].max()],\n",
    "                    scope='europe',\n",
    "                    height=600\n",
    "                   )\n",
    "\n",
    "fig.update_layout(\n",
    "    # add a title text for the plot\n",
    "    title_text = 'Labour costs other than wages and salaries in construction'\n",
    ")\n",
    "fig.show()"
   ]
  },
  {
   "cell_type": "code",
   "execution_count": 46,
   "id": "62342c0d",
   "metadata": {},
   "outputs": [
    {
     "data": {
      "application/vnd.plotly.v1+json": {
       "config": {
        "plotlyServerURL": "https://plot.ly"
       },
       "data": [
        {
         "alignmentgroup": "True",
         "hovertemplate": "<b>%{hovertext}</b><br><br>TIME_PERIOD=2000<br>iso3=%{x}<br>OBS_VALUE=%{marker.color}<extra></extra>",
         "hovertext": [
          "LTU",
          "IRL",
          "PRT",
          "DNK",
          "ESP",
          "DEU",
          "LVA",
          "SWE",
          "CZE",
          "ISL",
          "SVN",
          "HUN",
          "FIN",
          "LUX",
          "BGR",
          "SVK",
          "EST",
          "GBR",
          "ITA",
          "FRA",
          "AUT",
          "NLD",
          "BEL"
         ],
         "ids": [
          "LTU",
          "IRL",
          "PRT",
          "DNK",
          "ESP",
          "DEU",
          "LVA",
          "SWE",
          "CZE",
          "ISL",
          "SVN",
          "HUN",
          "FIN",
          "LUX",
          "BGR",
          "SVK",
          "EST",
          "GBR",
          "ITA",
          "FRA",
          "AUT",
          "NLD",
          "BEL"
         ],
         "legendgroup": "",
         "marker": {
          "color": [
           0.7,
           2.8,
           1.3,
           1,
           3.2,
           3.8,
           0.3,
           8.2,
           1,
           3,
           1.3,
           0.9,
           4.5,
           2.4,
           0.3,
           0.8,
           0.7,
           3.8,
           4.9,
           5.9,
           4,
           5.4,
           9.7
          ],
          "coloraxis": "coloraxis",
          "pattern": {
           "shape": ""
          }
         },
         "name": "",
         "offsetgroup": "",
         "orientation": "v",
         "showlegend": false,
         "textposition": "auto",
         "type": "bar",
         "x": [
          "LTU",
          "IRL",
          "PRT",
          "DNK",
          "ESP",
          "DEU",
          "LVA",
          "SWE",
          "CZE",
          "ISL",
          "SVN",
          "HUN",
          "FIN",
          "LUX",
          "BGR",
          "SVK",
          "EST",
          "GBR",
          "ITA",
          "FRA",
          "AUT",
          "NLD",
          "BEL"
         ],
         "xaxis": "x",
         "y": [
          0.7,
          2.8,
          1.3,
          1,
          3.2,
          3.8,
          0.3,
          8.2,
          1,
          3,
          1.3,
          0.9,
          4.5,
          2.4,
          0.3,
          0.8,
          0.7,
          3.8,
          4.9,
          5.9,
          4,
          5.4,
          9.7
         ],
         "yaxis": "y"
        }
       ],
       "frames": [
        {
         "data": [
          {
           "alignmentgroup": "True",
           "hovertemplate": "<b>%{hovertext}</b><br><br>TIME_PERIOD=2000<br>iso3=%{x}<br>OBS_VALUE=%{marker.color}<extra></extra>",
           "hovertext": [
            "LTU",
            "IRL",
            "PRT",
            "DNK",
            "ESP",
            "DEU",
            "LVA",
            "SWE",
            "CZE",
            "ISL",
            "SVN",
            "HUN",
            "FIN",
            "LUX",
            "BGR",
            "SVK",
            "EST",
            "GBR",
            "ITA",
            "FRA",
            "AUT",
            "NLD",
            "BEL"
           ],
           "ids": [
            "LTU",
            "IRL",
            "PRT",
            "DNK",
            "ESP",
            "DEU",
            "LVA",
            "SWE",
            "CZE",
            "ISL",
            "SVN",
            "HUN",
            "FIN",
            "LUX",
            "BGR",
            "SVK",
            "EST",
            "GBR",
            "ITA",
            "FRA",
            "AUT",
            "NLD",
            "BEL"
           ],
           "legendgroup": "",
           "marker": {
            "color": [
             0.7,
             2.8,
             1.3,
             1,
             3.2,
             3.8,
             0.3,
             8.2,
             1,
             3,
             1.3,
             0.9,
             4.5,
             2.4,
             0.3,
             0.8,
             0.7,
             3.8,
             4.9,
             5.9,
             4,
             5.4,
             9.7
            ],
            "coloraxis": "coloraxis",
            "pattern": {
             "shape": ""
            }
           },
           "name": "",
           "offsetgroup": "",
           "orientation": "v",
           "showlegend": false,
           "textposition": "auto",
           "type": "bar",
           "x": [
            "LTU",
            "IRL",
            "PRT",
            "DNK",
            "ESP",
            "DEU",
            "LVA",
            "SWE",
            "CZE",
            "ISL",
            "SVN",
            "HUN",
            "FIN",
            "LUX",
            "BGR",
            "SVK",
            "EST",
            "GBR",
            "ITA",
            "FRA",
            "AUT",
            "NLD",
            "BEL"
           ],
           "xaxis": "x",
           "y": [
            0.7,
            2.8,
            1.3,
            1,
            3.2,
            3.8,
            0.3,
            8.2,
            1,
            3,
            1.3,
            0.9,
            4.5,
            2.4,
            0.3,
            0.8,
            0.7,
            3.8,
            4.9,
            5.9,
            4,
            5.4,
            9.7
           ],
           "yaxis": "y"
          }
         ],
         "name": "2000"
        },
        {
         "data": [
          {
           "alignmentgroup": "True",
           "hovertemplate": "<b>%{hovertext}</b><br><br>TIME_PERIOD=2004<br>iso3=%{x}<br>OBS_VALUE=%{marker.color}<extra></extra>",
           "hovertext": [
            "GBR",
            "DEU",
            "MLT",
            "IRL",
            "SWE",
            "ESP",
            "AUT",
            "DNK",
            "HRV",
            "LVA",
            "EST",
            "LTU",
            "ROU",
            "HUN",
            "SVN",
            "SVK",
            "CZE",
            "FRA",
            "POL",
            "ISL",
            "NLD",
            "BGR",
            "PRT",
            "FIN",
            "ITA",
            "LUX",
            "BEL"
           ],
           "ids": [
            "GBR",
            "DEU",
            "MLT",
            "IRL",
            "SWE",
            "ESP",
            "AUT",
            "DNK",
            "HRV",
            "LVA",
            "EST",
            "LTU",
            "ROU",
            "HUN",
            "SVN",
            "SVK",
            "CZE",
            "FRA",
            "POL",
            "ISL",
            "NLD",
            "BGR",
            "PRT",
            "FIN",
            "ITA",
            "LUX",
            "BEL"
           ],
           "legendgroup": "",
           "marker": {
            "color": [
             3.6,
             4.2,
             0.6,
             3.7,
             8.7,
             4,
             5.3,
             2.3,
             1,
             0.5,
             1.2,
             0.9,
             0.4,
             1.3,
             1.7,
             0.9,
             1.5,
             7.3,
             0.8,
             4.1,
             6.3,
             0.3,
             1.7,
             4.8,
             6.3,
             3,
             11.8
            ],
            "coloraxis": "coloraxis",
            "pattern": {
             "shape": ""
            }
           },
           "name": "",
           "offsetgroup": "",
           "orientation": "v",
           "showlegend": false,
           "textposition": "auto",
           "type": "bar",
           "x": [
            "GBR",
            "DEU",
            "MLT",
            "IRL",
            "SWE",
            "ESP",
            "AUT",
            "DNK",
            "HRV",
            "LVA",
            "EST",
            "LTU",
            "ROU",
            "HUN",
            "SVN",
            "SVK",
            "CZE",
            "FRA",
            "POL",
            "ISL",
            "NLD",
            "BGR",
            "PRT",
            "FIN",
            "ITA",
            "LUX",
            "BEL"
           ],
           "xaxis": "x",
           "y": [
            3.6,
            4.2,
            0.6,
            3.7,
            8.7,
            4,
            5.3,
            2.3,
            1,
            0.5,
            1.2,
            0.9,
            0.4,
            1.3,
            1.7,
            0.9,
            1.5,
            7.3,
            0.8,
            4.1,
            6.3,
            0.3,
            1.7,
            4.8,
            6.3,
            3,
            11.8
           ],
           "yaxis": "y"
          }
         ],
         "name": "2004"
        },
        {
         "data": [
          {
           "alignmentgroup": "True",
           "hovertemplate": "<b>%{hovertext}</b><br><br>TIME_PERIOD=2008<br>iso3=%{x}<br>OBS_VALUE=%{marker.color}<extra></extra>",
           "hovertext": [
            "EST",
            "NLD",
            "POL",
            "HRV",
            "FRA",
            "HUN",
            "ESP",
            "FIN",
            "DEU",
            "LVA",
            "GBR",
            "AUT",
            "LTU",
            "ITA",
            "BEL",
            "SVK",
            "BGR",
            "PRT",
            "SVN",
            "ISL",
            "MLT",
            "CZE",
            "DNK",
            "ROU",
            "SWE",
            "IRL",
            "LUX"
           ],
           "ids": [
            "EST",
            "NLD",
            "POL",
            "HRV",
            "FRA",
            "HUN",
            "ESP",
            "FIN",
            "DEU",
            "LVA",
            "GBR",
            "AUT",
            "LTU",
            "ITA",
            "BEL",
            "SVK",
            "BGR",
            "PRT",
            "SVN",
            "ISL",
            "MLT",
            "CZE",
            "DNK",
            "ROU",
            "SWE",
            "IRL",
            "LUX"
           ],
           "legendgroup": "",
           "marker": {
            "color": [
             2.4,
             7,
             1.2,
             1.2,
             8.4,
             1.7,
             5.2,
             6.3,
             5,
             1.2,
             3.4,
             7.2,
             1.9,
             6.6,
             10.6,
             1.6,
             0.4,
             2,
             1.8,
             3.3,
             0.8,
             2.3,
             3.9,
             0.8,
             9.7,
             4.3,
             3.1
            ],
            "coloraxis": "coloraxis",
            "pattern": {
             "shape": ""
            }
           },
           "name": "",
           "offsetgroup": "",
           "orientation": "v",
           "showlegend": false,
           "textposition": "auto",
           "type": "bar",
           "x": [
            "EST",
            "NLD",
            "POL",
            "HRV",
            "FRA",
            "HUN",
            "ESP",
            "FIN",
            "DEU",
            "LVA",
            "GBR",
            "AUT",
            "LTU",
            "ITA",
            "BEL",
            "SVK",
            "BGR",
            "PRT",
            "SVN",
            "ISL",
            "MLT",
            "CZE",
            "DNK",
            "ROU",
            "SWE",
            "IRL",
            "LUX"
           ],
           "xaxis": "x",
           "y": [
            2.4,
            7,
            1.2,
            1.2,
            8.4,
            1.7,
            5.2,
            6.3,
            5,
            1.2,
            3.4,
            7.2,
            1.9,
            6.6,
            10.6,
            1.6,
            0.4,
            2,
            1.8,
            3.3,
            0.8,
            2.3,
            3.9,
            0.8,
            9.7,
            4.3,
            3.1
           ],
           "yaxis": "y"
          }
         ],
         "name": "2008"
        },
        {
         "data": [
          {
           "alignmentgroup": "True",
           "hovertemplate": "<b>%{hovertext}</b><br><br>TIME_PERIOD=2012<br>iso3=%{x}<br>OBS_VALUE=%{marker.color}<extra></extra>",
           "hovertext": [
            "MKD",
            "HRV",
            "GBR",
            "LUX",
            "ITA",
            "LTU",
            "HUN",
            "MNE",
            "LVA",
            "IRL",
            "ISL",
            "ALB",
            "SRB",
            "AUT",
            "TUR",
            "BIH",
            "BEL",
            "SVK",
            "BGR",
            "SVN",
            "CHE",
            "SWE",
            "CZE",
            "MLT",
            "DEU",
            "ROU",
            "DNK",
            "POL",
            "PRT",
            "FRA",
            "EST",
            "NLD",
            "ESP",
            "FIN",
            "NOR"
           ],
           "ids": [
            "MKD",
            "HRV",
            "GBR",
            "LUX",
            "ITA",
            "LTU",
            "HUN",
            "MNE",
            "LVA",
            "IRL",
            "ISL",
            "ALB",
            "SRB",
            "AUT",
            "TUR",
            "BIH",
            "BEL",
            "SVK",
            "BGR",
            "SVN",
            "CHE",
            "SWE",
            "CZE",
            "MLT",
            "DEU",
            "ROU",
            "DNK",
            "POL",
            "PRT",
            "FRA",
            "EST",
            "NLD",
            "ESP",
            "FIN",
            "NOR"
           ],
           "legendgroup": "",
           "marker": {
            "color": [
             0.3,
             1.4,
             3.6,
             3.7,
             6.8,
             1.7,
             1.4,
             0.7,
             1.1,
             3.1,
             4.4,
             0.4,
             0.7,
             7.3,
             0.7,
             0.3,
             13.1,
             2.2,
             0.5,
             1.8,
             9,
             12,
             2.5,
             0.9,
             5.5,
             0.7,
             4.3,
             1.2,
             2.4,
             9.4,
             2.7,
             8.1,
             6.1,
             6.9,
             8.5
            ],
            "coloraxis": "coloraxis",
            "pattern": {
             "shape": ""
            }
           },
           "name": "",
           "offsetgroup": "",
           "orientation": "v",
           "showlegend": false,
           "textposition": "auto",
           "type": "bar",
           "x": [
            "MKD",
            "HRV",
            "GBR",
            "LUX",
            "ITA",
            "LTU",
            "HUN",
            "MNE",
            "LVA",
            "IRL",
            "ISL",
            "ALB",
            "SRB",
            "AUT",
            "TUR",
            "BIH",
            "BEL",
            "SVK",
            "BGR",
            "SVN",
            "CHE",
            "SWE",
            "CZE",
            "MLT",
            "DEU",
            "ROU",
            "DNK",
            "POL",
            "PRT",
            "FRA",
            "EST",
            "NLD",
            "ESP",
            "FIN",
            "NOR"
           ],
           "xaxis": "x",
           "y": [
            0.3,
            1.4,
            3.6,
            3.7,
            6.8,
            1.7,
            1.4,
            0.7,
            1.1,
            3.1,
            4.4,
            0.4,
            0.7,
            7.3,
            0.7,
            0.3,
            13.1,
            2.2,
            0.5,
            1.8,
            9,
            12,
            2.5,
            0.9,
            5.5,
            0.7,
            4.3,
            1.2,
            2.4,
            9.4,
            2.7,
            8.1,
            6.1,
            6.9,
            8.5
           ],
           "yaxis": "y"
          }
         ],
         "name": "2012"
        },
        {
         "data": [
          {
           "alignmentgroup": "True",
           "hovertemplate": "<b>%{hovertext}</b><br><br>TIME_PERIOD=2016<br>iso3=%{x}<br>OBS_VALUE=%{marker.color}<extra></extra>",
           "hovertext": [
            "TUR",
            "MKD",
            "SVK",
            "LTU",
            "MNE",
            "SVN",
            "PRT",
            "NOR",
            "SWE",
            "POL",
            "SRB",
            "LUX",
            "LVA",
            "ROU",
            "NLD",
            "MLT",
            "GBR",
            "FRA",
            "CZE",
            "FIN",
            "CHE",
            "BGR",
            "HRV",
            "ESP",
            "DEU",
            "BEL",
            "HUN",
            "BIH",
            "IRL",
            "EST",
            "ISL",
            "ALB",
            "AUT",
            "ITA",
            "DNK"
           ],
           "ids": [
            "TUR",
            "MKD",
            "SVK",
            "LTU",
            "MNE",
            "SVN",
            "PRT",
            "NOR",
            "SWE",
            "POL",
            "SRB",
            "LUX",
            "LVA",
            "ROU",
            "NLD",
            "MLT",
            "GBR",
            "FRA",
            "CZE",
            "FIN",
            "CHE",
            "BGR",
            "HRV",
            "ESP",
            "DEU",
            "BEL",
            "HUN",
            "BIH",
            "IRL",
            "EST",
            "ISL",
            "ALB",
            "AUT",
            "ITA",
            "DNK"
           ],
           "legendgroup": "",
           "marker": {
            "color": [
             0.8,
             0,
             2.3,
             2.2,
             0.6,
             2,
             2.1,
             6.9,
             11.6,
             1.5,
             0.7,
             3.4,
             1.6,
             0.8,
             8.8,
             1,
             4.2,
             9.2,
             2.6,
             7.6,
             9.4,
             0.6,
             1.3,
             5.7,
             5.9,
             10.9,
             1.6,
             0.3,
             2.9,
             3.1,
             6.5,
             0.4,
             9.8,
             6.9,
             4.6
            ],
            "coloraxis": "coloraxis",
            "pattern": {
             "shape": ""
            }
           },
           "name": "",
           "offsetgroup": "",
           "orientation": "v",
           "showlegend": false,
           "textposition": "auto",
           "type": "bar",
           "x": [
            "TUR",
            "MKD",
            "SVK",
            "LTU",
            "MNE",
            "SVN",
            "PRT",
            "NOR",
            "SWE",
            "POL",
            "SRB",
            "LUX",
            "LVA",
            "ROU",
            "NLD",
            "MLT",
            "GBR",
            "FRA",
            "CZE",
            "FIN",
            "CHE",
            "BGR",
            "HRV",
            "ESP",
            "DEU",
            "BEL",
            "HUN",
            "BIH",
            "IRL",
            "EST",
            "ISL",
            "ALB",
            "AUT",
            "ITA",
            "DNK"
           ],
           "xaxis": "x",
           "y": [
            0.8,
            0,
            2.3,
            2.2,
            0.6,
            2,
            2.1,
            6.9,
            11.6,
            1.5,
            0.7,
            3.4,
            1.6,
            0.8,
            8.8,
            1,
            4.2,
            9.2,
            2.6,
            7.6,
            9.4,
            0.6,
            1.3,
            5.7,
            5.9,
            10.9,
            1.6,
            0.3,
            2.9,
            3.1,
            6.5,
            0.4,
            9.8,
            6.9,
            4.6
           ],
           "yaxis": "y"
          }
         ],
         "name": "2016"
        },
        {
         "data": [
          {
           "alignmentgroup": "True",
           "hovertemplate": "<b>%{hovertext}</b><br><br>TIME_PERIOD=2020<br>iso3=%{x}<br>OBS_VALUE=%{marker.color}<extra></extra>",
           "hovertext": [
            "FIN",
            "SWE",
            "NLD",
            "CYP",
            "DNK",
            "POL",
            "ITA",
            "ESP",
            "NOR",
            "CZE",
            "EST",
            "ROU",
            "BGR",
            "PRT",
            "LUX",
            "DEU",
            "IRL",
            "SVK",
            "TUR",
            "HUN",
            "LVA",
            "MLT",
            "BEL",
            "AUT",
            "HRV",
            "SVN",
            "LTU",
            "FRA",
            "ISL",
            "SRB"
           ],
           "ids": [
            "FIN",
            "SWE",
            "NLD",
            "CYP",
            "DNK",
            "POL",
            "ITA",
            "ESP",
            "NOR",
            "CZE",
            "EST",
            "ROU",
            "BGR",
            "PRT",
            "LUX",
            "DEU",
            "IRL",
            "SVK",
            "TUR",
            "HUN",
            "LVA",
            "MLT",
            "BEL",
            "AUT",
            "HRV",
            "SVN",
            "LTU",
            "FRA",
            "ISL",
            "SRB"
           ],
           "legendgroup": "",
           "marker": {
            "color": [
             6.6,
             11.2,
             9.3,
             2.4,
             4.3,
             1.6,
             7.4,
             5.9,
             6.8,
             3.4,
             3.7,
             0.3,
             0.8,
             2.5,
             4.2,
             6.9,
             1.5,
             2.8,
             0.4,
             1.3,
             2.4,
             0.7,
             10.8,
             11.4,
             1.3,
             2.1,
             0.3,
             10.1,
             8.2,
             0.7
            ],
            "coloraxis": "coloraxis",
            "pattern": {
             "shape": ""
            }
           },
           "name": "",
           "offsetgroup": "",
           "orientation": "v",
           "showlegend": false,
           "textposition": "auto",
           "type": "bar",
           "x": [
            "FIN",
            "SWE",
            "NLD",
            "CYP",
            "DNK",
            "POL",
            "ITA",
            "ESP",
            "NOR",
            "CZE",
            "EST",
            "ROU",
            "BGR",
            "PRT",
            "LUX",
            "DEU",
            "IRL",
            "SVK",
            "TUR",
            "HUN",
            "LVA",
            "MLT",
            "BEL",
            "AUT",
            "HRV",
            "SVN",
            "LTU",
            "FRA",
            "ISL",
            "SRB"
           ],
           "xaxis": "x",
           "y": [
            6.6,
            11.2,
            9.3,
            2.4,
            4.3,
            1.6,
            7.4,
            5.9,
            6.8,
            3.4,
            3.7,
            0.3,
            0.8,
            2.5,
            4.2,
            6.9,
            1.5,
            2.8,
            0.4,
            1.3,
            2.4,
            0.7,
            10.8,
            11.4,
            1.3,
            2.1,
            0.3,
            10.1,
            8.2,
            0.7
           ],
           "yaxis": "y"
          }
         ],
         "name": "2020"
        },
        {
         "data": [
          {
           "alignmentgroup": "True",
           "hovertemplate": "<b>%{hovertext}</b><br><br>TIME_PERIOD=2021<br>iso3=%{x}<br>OBS_VALUE=%{marker.color}<extra></extra>",
           "hovertext": [
            "ROU",
            "ITA",
            "SRB",
            "CYP",
            "SWE",
            "BGR",
            "SVN",
            "BEL",
            "SVK",
            "AUT",
            "TUR",
            "CZE",
            "DEU",
            "ISL",
            "ESP",
            "NLD",
            "HUN",
            "LVA",
            "HRV",
            "NOR",
            "LUX",
            "IRL",
            "FIN",
            "MLT",
            "FRA",
            "POL",
            "LTU",
            "DNK",
            "PRT",
            "EST"
           ],
           "ids": [
            "ROU",
            "ITA",
            "SRB",
            "CYP",
            "SWE",
            "BGR",
            "SVN",
            "BEL",
            "SVK",
            "AUT",
            "TUR",
            "CZE",
            "DEU",
            "ISL",
            "ESP",
            "NLD",
            "HUN",
            "LVA",
            "HRV",
            "NOR",
            "LUX",
            "IRL",
            "FIN",
            "MLT",
            "FRA",
            "POL",
            "LTU",
            "DNK",
            "PRT",
            "EST"
           ],
           "legendgroup": "",
           "marker": {
            "color": [
             0.3,
             7.3,
             1.3,
             2.9,
             12.6,
             0.8,
             2.4,
             10.9,
             2.9,
             11.6,
             0.3,
             3.8,
             7.3,
             7.6,
             6,
             9.3,
             1.3,
             2.3,
             1.4,
             7.4,
             4,
             0.6,
             6.5,
             0.7,
             9.9,
             1.7,
             0.5,
             4.5,
             2.7,
             3.9
            ],
            "coloraxis": "coloraxis",
            "pattern": {
             "shape": ""
            }
           },
           "name": "",
           "offsetgroup": "",
           "orientation": "v",
           "showlegend": false,
           "textposition": "auto",
           "type": "bar",
           "x": [
            "ROU",
            "ITA",
            "SRB",
            "CYP",
            "SWE",
            "BGR",
            "SVN",
            "BEL",
            "SVK",
            "AUT",
            "TUR",
            "CZE",
            "DEU",
            "ISL",
            "ESP",
            "NLD",
            "HUN",
            "LVA",
            "HRV",
            "NOR",
            "LUX",
            "IRL",
            "FIN",
            "MLT",
            "FRA",
            "POL",
            "LTU",
            "DNK",
            "PRT",
            "EST"
           ],
           "xaxis": "x",
           "y": [
            0.3,
            7.3,
            1.3,
            2.9,
            12.6,
            0.8,
            2.4,
            10.9,
            2.9,
            11.6,
            0.3,
            3.8,
            7.3,
            7.6,
            6,
            9.3,
            1.3,
            2.3,
            1.4,
            7.4,
            4,
            0.6,
            6.5,
            0.7,
            9.9,
            1.7,
            0.5,
            4.5,
            2.7,
            3.9
           ],
           "yaxis": "y"
          }
         ],
         "name": "2021"
        },
        {
         "data": [
          {
           "alignmentgroup": "True",
           "hovertemplate": "<b>%{hovertext}</b><br><br>TIME_PERIOD=2022<br>iso3=%{x}<br>OBS_VALUE=%{marker.color}<extra></extra>",
           "hovertext": [
            "HUN",
            "HRV",
            "LVA",
            "DEU",
            "SVK",
            "AUT",
            "IRL",
            "TUR",
            "LTU",
            "ISL",
            "LUX",
            "BEL",
            "MLT",
            "FRA",
            "DNK",
            "ITA",
            "ROU",
            "CZE",
            "EST",
            "NOR",
            "SVN",
            "SRB",
            "NLD",
            "ESP",
            "SWE",
            "FIN",
            "BGR",
            "PRT",
            "CYP",
            "POL"
           ],
           "ids": [
            "HUN",
            "HRV",
            "LVA",
            "DEU",
            "SVK",
            "AUT",
            "IRL",
            "TUR",
            "LTU",
            "ISL",
            "LUX",
            "BEL",
            "MLT",
            "FRA",
            "DNK",
            "ITA",
            "ROU",
            "CZE",
            "EST",
            "NOR",
            "SVN",
            "SRB",
            "NLD",
            "ESP",
            "SWE",
            "FIN",
            "BGR",
            "PRT",
            "CYP",
            "POL"
           ],
           "legendgroup": "",
           "marker": {
            "color": [
             1.2,
             1.5,
             2.5,
             8.2,
             3.6,
             12.3,
             8.6,
             0.4,
             0.6,
             8.8,
             4.2,
             11.5,
             1,
             10,
             4.6,
             7.5,
             0.3,
             4.2,
             4.2,
             7.7,
             2.6,
             1.7,
             10.1,
             6.1,
             12.8,
             6.8,
             0.9,
             2.9,
             3,
             1.8
            ],
            "coloraxis": "coloraxis",
            "pattern": {
             "shape": ""
            }
           },
           "name": "",
           "offsetgroup": "",
           "orientation": "v",
           "showlegend": false,
           "textposition": "auto",
           "type": "bar",
           "x": [
            "HUN",
            "HRV",
            "LVA",
            "DEU",
            "SVK",
            "AUT",
            "IRL",
            "TUR",
            "LTU",
            "ISL",
            "LUX",
            "BEL",
            "MLT",
            "FRA",
            "DNK",
            "ITA",
            "ROU",
            "CZE",
            "EST",
            "NOR",
            "SVN",
            "SRB",
            "NLD",
            "ESP",
            "SWE",
            "FIN",
            "BGR",
            "PRT",
            "CYP",
            "POL"
           ],
           "xaxis": "x",
           "y": [
            1.2,
            1.5,
            2.5,
            8.2,
            3.6,
            12.3,
            8.6,
            0.4,
            0.6,
            8.8,
            4.2,
            11.5,
            1,
            10,
            4.6,
            7.5,
            0.3,
            4.2,
            4.2,
            7.7,
            2.6,
            1.7,
            10.1,
            6.1,
            12.8,
            6.8,
            0.9,
            2.9,
            3,
            1.8
           ],
           "yaxis": "y"
          }
         ],
         "name": "2022"
        }
       ],
       "layout": {
        "barmode": "relative",
        "coloraxis": {
         "colorbar": {
          "title": {
           "text": "OBS_VALUE"
          }
         },
         "colorscale": [
          [
           0,
           "#0d0887"
          ],
          [
           0.1111111111111111,
           "#46039f"
          ],
          [
           0.2222222222222222,
           "#7201a8"
          ],
          [
           0.3333333333333333,
           "#9c179e"
          ],
          [
           0.4444444444444444,
           "#bd3786"
          ],
          [
           0.5555555555555556,
           "#d8576b"
          ],
          [
           0.6666666666666666,
           "#ed7953"
          ],
          [
           0.7777777777777778,
           "#fb9f3a"
          ],
          [
           0.8888888888888888,
           "#fdca26"
          ],
          [
           1,
           "#f0f921"
          ]
         ]
        },
        "legend": {
         "tracegroupgap": 0
        },
        "margin": {
         "t": 60
        },
        "sliders": [
         {
          "active": 0,
          "currentvalue": {
           "prefix": "TIME_PERIOD="
          },
          "len": 0.9,
          "pad": {
           "b": 10,
           "t": 60
          },
          "steps": [
           {
            "args": [
             [
              "2000"
             ],
             {
              "frame": {
               "duration": 0,
               "redraw": true
              },
              "fromcurrent": true,
              "mode": "immediate",
              "transition": {
               "duration": 0,
               "easing": "linear"
              }
             }
            ],
            "label": "2000",
            "method": "animate"
           },
           {
            "args": [
             [
              "2004"
             ],
             {
              "frame": {
               "duration": 0,
               "redraw": true
              },
              "fromcurrent": true,
              "mode": "immediate",
              "transition": {
               "duration": 0,
               "easing": "linear"
              }
             }
            ],
            "label": "2004",
            "method": "animate"
           },
           {
            "args": [
             [
              "2008"
             ],
             {
              "frame": {
               "duration": 0,
               "redraw": true
              },
              "fromcurrent": true,
              "mode": "immediate",
              "transition": {
               "duration": 0,
               "easing": "linear"
              }
             }
            ],
            "label": "2008",
            "method": "animate"
           },
           {
            "args": [
             [
              "2012"
             ],
             {
              "frame": {
               "duration": 0,
               "redraw": true
              },
              "fromcurrent": true,
              "mode": "immediate",
              "transition": {
               "duration": 0,
               "easing": "linear"
              }
             }
            ],
            "label": "2012",
            "method": "animate"
           },
           {
            "args": [
             [
              "2016"
             ],
             {
              "frame": {
               "duration": 0,
               "redraw": true
              },
              "fromcurrent": true,
              "mode": "immediate",
              "transition": {
               "duration": 0,
               "easing": "linear"
              }
             }
            ],
            "label": "2016",
            "method": "animate"
           },
           {
            "args": [
             [
              "2020"
             ],
             {
              "frame": {
               "duration": 0,
               "redraw": true
              },
              "fromcurrent": true,
              "mode": "immediate",
              "transition": {
               "duration": 0,
               "easing": "linear"
              }
             }
            ],
            "label": "2020",
            "method": "animate"
           },
           {
            "args": [
             [
              "2021"
             ],
             {
              "frame": {
               "duration": 0,
               "redraw": true
              },
              "fromcurrent": true,
              "mode": "immediate",
              "transition": {
               "duration": 0,
               "easing": "linear"
              }
             }
            ],
            "label": "2021",
            "method": "animate"
           },
           {
            "args": [
             [
              "2022"
             ],
             {
              "frame": {
               "duration": 0,
               "redraw": true
              },
              "fromcurrent": true,
              "mode": "immediate",
              "transition": {
               "duration": 0,
               "easing": "linear"
              }
             }
            ],
            "label": "2022",
            "method": "animate"
           }
          ],
          "x": 0.1,
          "xanchor": "left",
          "y": 0,
          "yanchor": "top"
         }
        ],
        "template": {
         "data": {
          "bar": [
           {
            "error_x": {
             "color": "#f2f5fa"
            },
            "error_y": {
             "color": "#f2f5fa"
            },
            "marker": {
             "line": {
              "color": "rgb(17,17,17)",
              "width": 0.5
             },
             "pattern": {
              "fillmode": "overlay",
              "size": 10,
              "solidity": 0.2
             }
            },
            "type": "bar"
           }
          ],
          "barpolar": [
           {
            "marker": {
             "line": {
              "color": "rgb(17,17,17)",
              "width": 0.5
             },
             "pattern": {
              "fillmode": "overlay",
              "size": 10,
              "solidity": 0.2
             }
            },
            "type": "barpolar"
           }
          ],
          "carpet": [
           {
            "aaxis": {
             "endlinecolor": "#A2B1C6",
             "gridcolor": "#506784",
             "linecolor": "#506784",
             "minorgridcolor": "#506784",
             "startlinecolor": "#A2B1C6"
            },
            "baxis": {
             "endlinecolor": "#A2B1C6",
             "gridcolor": "#506784",
             "linecolor": "#506784",
             "minorgridcolor": "#506784",
             "startlinecolor": "#A2B1C6"
            },
            "type": "carpet"
           }
          ],
          "choropleth": [
           {
            "colorbar": {
             "outlinewidth": 0,
             "ticks": ""
            },
            "type": "choropleth"
           }
          ],
          "contour": [
           {
            "colorbar": {
             "outlinewidth": 0,
             "ticks": ""
            },
            "colorscale": [
             [
              0,
              "#0d0887"
             ],
             [
              0.1111111111111111,
              "#46039f"
             ],
             [
              0.2222222222222222,
              "#7201a8"
             ],
             [
              0.3333333333333333,
              "#9c179e"
             ],
             [
              0.4444444444444444,
              "#bd3786"
             ],
             [
              0.5555555555555556,
              "#d8576b"
             ],
             [
              0.6666666666666666,
              "#ed7953"
             ],
             [
              0.7777777777777778,
              "#fb9f3a"
             ],
             [
              0.8888888888888888,
              "#fdca26"
             ],
             [
              1,
              "#f0f921"
             ]
            ],
            "type": "contour"
           }
          ],
          "contourcarpet": [
           {
            "colorbar": {
             "outlinewidth": 0,
             "ticks": ""
            },
            "type": "contourcarpet"
           }
          ],
          "heatmap": [
           {
            "colorbar": {
             "outlinewidth": 0,
             "ticks": ""
            },
            "colorscale": [
             [
              0,
              "#0d0887"
             ],
             [
              0.1111111111111111,
              "#46039f"
             ],
             [
              0.2222222222222222,
              "#7201a8"
             ],
             [
              0.3333333333333333,
              "#9c179e"
             ],
             [
              0.4444444444444444,
              "#bd3786"
             ],
             [
              0.5555555555555556,
              "#d8576b"
             ],
             [
              0.6666666666666666,
              "#ed7953"
             ],
             [
              0.7777777777777778,
              "#fb9f3a"
             ],
             [
              0.8888888888888888,
              "#fdca26"
             ],
             [
              1,
              "#f0f921"
             ]
            ],
            "type": "heatmap"
           }
          ],
          "heatmapgl": [
           {
            "colorbar": {
             "outlinewidth": 0,
             "ticks": ""
            },
            "colorscale": [
             [
              0,
              "#0d0887"
             ],
             [
              0.1111111111111111,
              "#46039f"
             ],
             [
              0.2222222222222222,
              "#7201a8"
             ],
             [
              0.3333333333333333,
              "#9c179e"
             ],
             [
              0.4444444444444444,
              "#bd3786"
             ],
             [
              0.5555555555555556,
              "#d8576b"
             ],
             [
              0.6666666666666666,
              "#ed7953"
             ],
             [
              0.7777777777777778,
              "#fb9f3a"
             ],
             [
              0.8888888888888888,
              "#fdca26"
             ],
             [
              1,
              "#f0f921"
             ]
            ],
            "type": "heatmapgl"
           }
          ],
          "histogram": [
           {
            "marker": {
             "pattern": {
              "fillmode": "overlay",
              "size": 10,
              "solidity": 0.2
             }
            },
            "type": "histogram"
           }
          ],
          "histogram2d": [
           {
            "colorbar": {
             "outlinewidth": 0,
             "ticks": ""
            },
            "colorscale": [
             [
              0,
              "#0d0887"
             ],
             [
              0.1111111111111111,
              "#46039f"
             ],
             [
              0.2222222222222222,
              "#7201a8"
             ],
             [
              0.3333333333333333,
              "#9c179e"
             ],
             [
              0.4444444444444444,
              "#bd3786"
             ],
             [
              0.5555555555555556,
              "#d8576b"
             ],
             [
              0.6666666666666666,
              "#ed7953"
             ],
             [
              0.7777777777777778,
              "#fb9f3a"
             ],
             [
              0.8888888888888888,
              "#fdca26"
             ],
             [
              1,
              "#f0f921"
             ]
            ],
            "type": "histogram2d"
           }
          ],
          "histogram2dcontour": [
           {
            "colorbar": {
             "outlinewidth": 0,
             "ticks": ""
            },
            "colorscale": [
             [
              0,
              "#0d0887"
             ],
             [
              0.1111111111111111,
              "#46039f"
             ],
             [
              0.2222222222222222,
              "#7201a8"
             ],
             [
              0.3333333333333333,
              "#9c179e"
             ],
             [
              0.4444444444444444,
              "#bd3786"
             ],
             [
              0.5555555555555556,
              "#d8576b"
             ],
             [
              0.6666666666666666,
              "#ed7953"
             ],
             [
              0.7777777777777778,
              "#fb9f3a"
             ],
             [
              0.8888888888888888,
              "#fdca26"
             ],
             [
              1,
              "#f0f921"
             ]
            ],
            "type": "histogram2dcontour"
           }
          ],
          "mesh3d": [
           {
            "colorbar": {
             "outlinewidth": 0,
             "ticks": ""
            },
            "type": "mesh3d"
           }
          ],
          "parcoords": [
           {
            "line": {
             "colorbar": {
              "outlinewidth": 0,
              "ticks": ""
             }
            },
            "type": "parcoords"
           }
          ],
          "pie": [
           {
            "automargin": true,
            "type": "pie"
           }
          ],
          "scatter": [
           {
            "marker": {
             "line": {
              "color": "#283442"
             }
            },
            "type": "scatter"
           }
          ],
          "scatter3d": [
           {
            "line": {
             "colorbar": {
              "outlinewidth": 0,
              "ticks": ""
             }
            },
            "marker": {
             "colorbar": {
              "outlinewidth": 0,
              "ticks": ""
             }
            },
            "type": "scatter3d"
           }
          ],
          "scattercarpet": [
           {
            "marker": {
             "colorbar": {
              "outlinewidth": 0,
              "ticks": ""
             }
            },
            "type": "scattercarpet"
           }
          ],
          "scattergeo": [
           {
            "marker": {
             "colorbar": {
              "outlinewidth": 0,
              "ticks": ""
             }
            },
            "type": "scattergeo"
           }
          ],
          "scattergl": [
           {
            "marker": {
             "line": {
              "color": "#283442"
             }
            },
            "type": "scattergl"
           }
          ],
          "scattermapbox": [
           {
            "marker": {
             "colorbar": {
              "outlinewidth": 0,
              "ticks": ""
             }
            },
            "type": "scattermapbox"
           }
          ],
          "scatterpolar": [
           {
            "marker": {
             "colorbar": {
              "outlinewidth": 0,
              "ticks": ""
             }
            },
            "type": "scatterpolar"
           }
          ],
          "scatterpolargl": [
           {
            "marker": {
             "colorbar": {
              "outlinewidth": 0,
              "ticks": ""
             }
            },
            "type": "scatterpolargl"
           }
          ],
          "scatterternary": [
           {
            "marker": {
             "colorbar": {
              "outlinewidth": 0,
              "ticks": ""
             }
            },
            "type": "scatterternary"
           }
          ],
          "surface": [
           {
            "colorbar": {
             "outlinewidth": 0,
             "ticks": ""
            },
            "colorscale": [
             [
              0,
              "#0d0887"
             ],
             [
              0.1111111111111111,
              "#46039f"
             ],
             [
              0.2222222222222222,
              "#7201a8"
             ],
             [
              0.3333333333333333,
              "#9c179e"
             ],
             [
              0.4444444444444444,
              "#bd3786"
             ],
             [
              0.5555555555555556,
              "#d8576b"
             ],
             [
              0.6666666666666666,
              "#ed7953"
             ],
             [
              0.7777777777777778,
              "#fb9f3a"
             ],
             [
              0.8888888888888888,
              "#fdca26"
             ],
             [
              1,
              "#f0f921"
             ]
            ],
            "type": "surface"
           }
          ],
          "table": [
           {
            "cells": {
             "fill": {
              "color": "#506784"
             },
             "line": {
              "color": "rgb(17,17,17)"
             }
            },
            "header": {
             "fill": {
              "color": "#2a3f5f"
             },
             "line": {
              "color": "rgb(17,17,17)"
             }
            },
            "type": "table"
           }
          ]
         },
         "layout": {
          "annotationdefaults": {
           "arrowcolor": "#f2f5fa",
           "arrowhead": 0,
           "arrowwidth": 1
          },
          "autotypenumbers": "strict",
          "coloraxis": {
           "colorbar": {
            "outlinewidth": 0,
            "ticks": ""
           }
          },
          "colorscale": {
           "diverging": [
            [
             0,
             "#8e0152"
            ],
            [
             0.1,
             "#c51b7d"
            ],
            [
             0.2,
             "#de77ae"
            ],
            [
             0.3,
             "#f1b6da"
            ],
            [
             0.4,
             "#fde0ef"
            ],
            [
             0.5,
             "#f7f7f7"
            ],
            [
             0.6,
             "#e6f5d0"
            ],
            [
             0.7,
             "#b8e186"
            ],
            [
             0.8,
             "#7fbc41"
            ],
            [
             0.9,
             "#4d9221"
            ],
            [
             1,
             "#276419"
            ]
           ],
           "sequential": [
            [
             0,
             "#0d0887"
            ],
            [
             0.1111111111111111,
             "#46039f"
            ],
            [
             0.2222222222222222,
             "#7201a8"
            ],
            [
             0.3333333333333333,
             "#9c179e"
            ],
            [
             0.4444444444444444,
             "#bd3786"
            ],
            [
             0.5555555555555556,
             "#d8576b"
            ],
            [
             0.6666666666666666,
             "#ed7953"
            ],
            [
             0.7777777777777778,
             "#fb9f3a"
            ],
            [
             0.8888888888888888,
             "#fdca26"
            ],
            [
             1,
             "#f0f921"
            ]
           ],
           "sequentialminus": [
            [
             0,
             "#0d0887"
            ],
            [
             0.1111111111111111,
             "#46039f"
            ],
            [
             0.2222222222222222,
             "#7201a8"
            ],
            [
             0.3333333333333333,
             "#9c179e"
            ],
            [
             0.4444444444444444,
             "#bd3786"
            ],
            [
             0.5555555555555556,
             "#d8576b"
            ],
            [
             0.6666666666666666,
             "#ed7953"
            ],
            [
             0.7777777777777778,
             "#fb9f3a"
            ],
            [
             0.8888888888888888,
             "#fdca26"
            ],
            [
             1,
             "#f0f921"
            ]
           ]
          },
          "colorway": [
           "#636efa",
           "#EF553B",
           "#00cc96",
           "#ab63fa",
           "#FFA15A",
           "#19d3f3",
           "#FF6692",
           "#B6E880",
           "#FF97FF",
           "#FECB52"
          ],
          "font": {
           "color": "#f2f5fa"
          },
          "geo": {
           "bgcolor": "rgb(17,17,17)",
           "lakecolor": "rgb(17,17,17)",
           "landcolor": "rgb(17,17,17)",
           "showlakes": true,
           "showland": true,
           "subunitcolor": "#506784"
          },
          "hoverlabel": {
           "align": "left"
          },
          "hovermode": "closest",
          "mapbox": {
           "style": "dark"
          },
          "paper_bgcolor": "rgb(17,17,17)",
          "plot_bgcolor": "rgb(17,17,17)",
          "polar": {
           "angularaxis": {
            "gridcolor": "#506784",
            "linecolor": "#506784",
            "ticks": ""
           },
           "bgcolor": "rgb(17,17,17)",
           "radialaxis": {
            "gridcolor": "#506784",
            "linecolor": "#506784",
            "ticks": ""
           }
          },
          "scene": {
           "xaxis": {
            "backgroundcolor": "rgb(17,17,17)",
            "gridcolor": "#506784",
            "gridwidth": 2,
            "linecolor": "#506784",
            "showbackground": true,
            "ticks": "",
            "zerolinecolor": "#C8D4E3"
           },
           "yaxis": {
            "backgroundcolor": "rgb(17,17,17)",
            "gridcolor": "#506784",
            "gridwidth": 2,
            "linecolor": "#506784",
            "showbackground": true,
            "ticks": "",
            "zerolinecolor": "#C8D4E3"
           },
           "zaxis": {
            "backgroundcolor": "rgb(17,17,17)",
            "gridcolor": "#506784",
            "gridwidth": 2,
            "linecolor": "#506784",
            "showbackground": true,
            "ticks": "",
            "zerolinecolor": "#C8D4E3"
           }
          },
          "shapedefaults": {
           "line": {
            "color": "#f2f5fa"
           }
          },
          "sliderdefaults": {
           "bgcolor": "#C8D4E3",
           "bordercolor": "rgb(17,17,17)",
           "borderwidth": 1,
           "tickwidth": 0
          },
          "ternary": {
           "aaxis": {
            "gridcolor": "#506784",
            "linecolor": "#506784",
            "ticks": ""
           },
           "baxis": {
            "gridcolor": "#506784",
            "linecolor": "#506784",
            "ticks": ""
           },
           "bgcolor": "rgb(17,17,17)",
           "caxis": {
            "gridcolor": "#506784",
            "linecolor": "#506784",
            "ticks": ""
           }
          },
          "title": {
           "x": 0.05
          },
          "updatemenudefaults": {
           "bgcolor": "#506784",
           "borderwidth": 0
          },
          "xaxis": {
           "automargin": true,
           "gridcolor": "#283442",
           "linecolor": "#506784",
           "ticks": "",
           "title": {
            "standoff": 15
           },
           "zerolinecolor": "#283442",
           "zerolinewidth": 2
          },
          "yaxis": {
           "automargin": true,
           "gridcolor": "#283442",
           "linecolor": "#506784",
           "ticks": "",
           "title": {
            "standoff": 15
           },
           "zerolinecolor": "#283442",
           "zerolinewidth": 2
          }
         }
        },
        "title": {
         "text": "Labour costs other than wages and salaries in construction"
        },
        "updatemenus": [
         {
          "buttons": [
           {
            "args": [
             null,
             {
              "frame": {
               "duration": 500,
               "redraw": true
              },
              "fromcurrent": true,
              "mode": "immediate",
              "transition": {
               "duration": 500,
               "easing": "linear"
              }
             }
            ],
            "label": "&#9654;",
            "method": "animate"
           },
           {
            "args": [
             [
              null
             ],
             {
              "frame": {
               "duration": 0,
               "redraw": true
              },
              "fromcurrent": true,
              "mode": "immediate",
              "transition": {
               "duration": 0,
               "easing": "linear"
              }
             }
            ],
            "label": "&#9724;",
            "method": "animate"
           }
          ],
          "direction": "left",
          "pad": {
           "r": 10,
           "t": 70
          },
          "showactive": false,
          "type": "buttons",
          "x": 0.1,
          "xanchor": "right",
          "y": 0,
          "yanchor": "top"
         }
        ],
        "xaxis": {
         "anchor": "y",
         "domain": [
          0,
          1
         ],
         "title": {
          "text": "country"
         }
        },
        "yaxis": {
         "anchor": "x",
         "domain": [
          0,
          1
         ],
         "title": {
          "text": "OBS_VALUE"
         }
        }
       }
      },
      "text/html": [
       "<div>                            <div id=\"8d8e1092-1b2d-48d5-8a24-06778d83030d\" class=\"plotly-graph-div\" style=\"height:525px; width:100%;\"></div>            <script type=\"text/javascript\">                require([\"plotly\"], function(Plotly) {                    window.PLOTLYENV=window.PLOTLYENV || {};                                    if (document.getElementById(\"8d8e1092-1b2d-48d5-8a24-06778d83030d\")) {                    Plotly.newPlot(                        \"8d8e1092-1b2d-48d5-8a24-06778d83030d\",                        [{\"alignmentgroup\":\"True\",\"hovertemplate\":\"<b>%{hovertext}</b><br><br>TIME_PERIOD=2000<br>iso3=%{x}<br>OBS_VALUE=%{marker.color}<extra></extra>\",\"hovertext\":[\"LTU\",\"IRL\",\"PRT\",\"DNK\",\"ESP\",\"DEU\",\"LVA\",\"SWE\",\"CZE\",\"ISL\",\"SVN\",\"HUN\",\"FIN\",\"LUX\",\"BGR\",\"SVK\",\"EST\",\"GBR\",\"ITA\",\"FRA\",\"AUT\",\"NLD\",\"BEL\"],\"ids\":[\"LTU\",\"IRL\",\"PRT\",\"DNK\",\"ESP\",\"DEU\",\"LVA\",\"SWE\",\"CZE\",\"ISL\",\"SVN\",\"HUN\",\"FIN\",\"LUX\",\"BGR\",\"SVK\",\"EST\",\"GBR\",\"ITA\",\"FRA\",\"AUT\",\"NLD\",\"BEL\"],\"legendgroup\":\"\",\"marker\":{\"color\":[0.7,2.8,1.3,1.0,3.2,3.8,0.3,8.2,1.0,3.0,1.3,0.9,4.5,2.4,0.3,0.8,0.7,3.8,4.9,5.9,4.0,5.4,9.7],\"coloraxis\":\"coloraxis\",\"pattern\":{\"shape\":\"\"}},\"name\":\"\",\"offsetgroup\":\"\",\"orientation\":\"v\",\"showlegend\":false,\"textposition\":\"auto\",\"x\":[\"LTU\",\"IRL\",\"PRT\",\"DNK\",\"ESP\",\"DEU\",\"LVA\",\"SWE\",\"CZE\",\"ISL\",\"SVN\",\"HUN\",\"FIN\",\"LUX\",\"BGR\",\"SVK\",\"EST\",\"GBR\",\"ITA\",\"FRA\",\"AUT\",\"NLD\",\"BEL\"],\"xaxis\":\"x\",\"y\":[0.7,2.8,1.3,1.0,3.2,3.8,0.3,8.2,1.0,3.0,1.3,0.9,4.5,2.4,0.3,0.8,0.7,3.8,4.9,5.9,4.0,5.4,9.7],\"yaxis\":\"y\",\"type\":\"bar\"}],                        {\"template\":{\"data\":{\"barpolar\":[{\"marker\":{\"line\":{\"color\":\"rgb(17,17,17)\",\"width\":0.5},\"pattern\":{\"fillmode\":\"overlay\",\"size\":10,\"solidity\":0.2}},\"type\":\"barpolar\"}],\"bar\":[{\"error_x\":{\"color\":\"#f2f5fa\"},\"error_y\":{\"color\":\"#f2f5fa\"},\"marker\":{\"line\":{\"color\":\"rgb(17,17,17)\",\"width\":0.5},\"pattern\":{\"fillmode\":\"overlay\",\"size\":10,\"solidity\":0.2}},\"type\":\"bar\"}],\"carpet\":[{\"aaxis\":{\"endlinecolor\":\"#A2B1C6\",\"gridcolor\":\"#506784\",\"linecolor\":\"#506784\",\"minorgridcolor\":\"#506784\",\"startlinecolor\":\"#A2B1C6\"},\"baxis\":{\"endlinecolor\":\"#A2B1C6\",\"gridcolor\":\"#506784\",\"linecolor\":\"#506784\",\"minorgridcolor\":\"#506784\",\"startlinecolor\":\"#A2B1C6\"},\"type\":\"carpet\"}],\"choropleth\":[{\"colorbar\":{\"outlinewidth\":0,\"ticks\":\"\"},\"type\":\"choropleth\"}],\"contourcarpet\":[{\"colorbar\":{\"outlinewidth\":0,\"ticks\":\"\"},\"type\":\"contourcarpet\"}],\"contour\":[{\"colorbar\":{\"outlinewidth\":0,\"ticks\":\"\"},\"colorscale\":[[0.0,\"#0d0887\"],[0.1111111111111111,\"#46039f\"],[0.2222222222222222,\"#7201a8\"],[0.3333333333333333,\"#9c179e\"],[0.4444444444444444,\"#bd3786\"],[0.5555555555555556,\"#d8576b\"],[0.6666666666666666,\"#ed7953\"],[0.7777777777777778,\"#fb9f3a\"],[0.8888888888888888,\"#fdca26\"],[1.0,\"#f0f921\"]],\"type\":\"contour\"}],\"heatmapgl\":[{\"colorbar\":{\"outlinewidth\":0,\"ticks\":\"\"},\"colorscale\":[[0.0,\"#0d0887\"],[0.1111111111111111,\"#46039f\"],[0.2222222222222222,\"#7201a8\"],[0.3333333333333333,\"#9c179e\"],[0.4444444444444444,\"#bd3786\"],[0.5555555555555556,\"#d8576b\"],[0.6666666666666666,\"#ed7953\"],[0.7777777777777778,\"#fb9f3a\"],[0.8888888888888888,\"#fdca26\"],[1.0,\"#f0f921\"]],\"type\":\"heatmapgl\"}],\"heatmap\":[{\"colorbar\":{\"outlinewidth\":0,\"ticks\":\"\"},\"colorscale\":[[0.0,\"#0d0887\"],[0.1111111111111111,\"#46039f\"],[0.2222222222222222,\"#7201a8\"],[0.3333333333333333,\"#9c179e\"],[0.4444444444444444,\"#bd3786\"],[0.5555555555555556,\"#d8576b\"],[0.6666666666666666,\"#ed7953\"],[0.7777777777777778,\"#fb9f3a\"],[0.8888888888888888,\"#fdca26\"],[1.0,\"#f0f921\"]],\"type\":\"heatmap\"}],\"histogram2dcontour\":[{\"colorbar\":{\"outlinewidth\":0,\"ticks\":\"\"},\"colorscale\":[[0.0,\"#0d0887\"],[0.1111111111111111,\"#46039f\"],[0.2222222222222222,\"#7201a8\"],[0.3333333333333333,\"#9c179e\"],[0.4444444444444444,\"#bd3786\"],[0.5555555555555556,\"#d8576b\"],[0.6666666666666666,\"#ed7953\"],[0.7777777777777778,\"#fb9f3a\"],[0.8888888888888888,\"#fdca26\"],[1.0,\"#f0f921\"]],\"type\":\"histogram2dcontour\"}],\"histogram2d\":[{\"colorbar\":{\"outlinewidth\":0,\"ticks\":\"\"},\"colorscale\":[[0.0,\"#0d0887\"],[0.1111111111111111,\"#46039f\"],[0.2222222222222222,\"#7201a8\"],[0.3333333333333333,\"#9c179e\"],[0.4444444444444444,\"#bd3786\"],[0.5555555555555556,\"#d8576b\"],[0.6666666666666666,\"#ed7953\"],[0.7777777777777778,\"#fb9f3a\"],[0.8888888888888888,\"#fdca26\"],[1.0,\"#f0f921\"]],\"type\":\"histogram2d\"}],\"histogram\":[{\"marker\":{\"pattern\":{\"fillmode\":\"overlay\",\"size\":10,\"solidity\":0.2}},\"type\":\"histogram\"}],\"mesh3d\":[{\"colorbar\":{\"outlinewidth\":0,\"ticks\":\"\"},\"type\":\"mesh3d\"}],\"parcoords\":[{\"line\":{\"colorbar\":{\"outlinewidth\":0,\"ticks\":\"\"}},\"type\":\"parcoords\"}],\"pie\":[{\"automargin\":true,\"type\":\"pie\"}],\"scatter3d\":[{\"line\":{\"colorbar\":{\"outlinewidth\":0,\"ticks\":\"\"}},\"marker\":{\"colorbar\":{\"outlinewidth\":0,\"ticks\":\"\"}},\"type\":\"scatter3d\"}],\"scattercarpet\":[{\"marker\":{\"colorbar\":{\"outlinewidth\":0,\"ticks\":\"\"}},\"type\":\"scattercarpet\"}],\"scattergeo\":[{\"marker\":{\"colorbar\":{\"outlinewidth\":0,\"ticks\":\"\"}},\"type\":\"scattergeo\"}],\"scattergl\":[{\"marker\":{\"line\":{\"color\":\"#283442\"}},\"type\":\"scattergl\"}],\"scattermapbox\":[{\"marker\":{\"colorbar\":{\"outlinewidth\":0,\"ticks\":\"\"}},\"type\":\"scattermapbox\"}],\"scatterpolargl\":[{\"marker\":{\"colorbar\":{\"outlinewidth\":0,\"ticks\":\"\"}},\"type\":\"scatterpolargl\"}],\"scatterpolar\":[{\"marker\":{\"colorbar\":{\"outlinewidth\":0,\"ticks\":\"\"}},\"type\":\"scatterpolar\"}],\"scatter\":[{\"marker\":{\"line\":{\"color\":\"#283442\"}},\"type\":\"scatter\"}],\"scatterternary\":[{\"marker\":{\"colorbar\":{\"outlinewidth\":0,\"ticks\":\"\"}},\"type\":\"scatterternary\"}],\"surface\":[{\"colorbar\":{\"outlinewidth\":0,\"ticks\":\"\"},\"colorscale\":[[0.0,\"#0d0887\"],[0.1111111111111111,\"#46039f\"],[0.2222222222222222,\"#7201a8\"],[0.3333333333333333,\"#9c179e\"],[0.4444444444444444,\"#bd3786\"],[0.5555555555555556,\"#d8576b\"],[0.6666666666666666,\"#ed7953\"],[0.7777777777777778,\"#fb9f3a\"],[0.8888888888888888,\"#fdca26\"],[1.0,\"#f0f921\"]],\"type\":\"surface\"}],\"table\":[{\"cells\":{\"fill\":{\"color\":\"#506784\"},\"line\":{\"color\":\"rgb(17,17,17)\"}},\"header\":{\"fill\":{\"color\":\"#2a3f5f\"},\"line\":{\"color\":\"rgb(17,17,17)\"}},\"type\":\"table\"}]},\"layout\":{\"annotationdefaults\":{\"arrowcolor\":\"#f2f5fa\",\"arrowhead\":0,\"arrowwidth\":1},\"autotypenumbers\":\"strict\",\"coloraxis\":{\"colorbar\":{\"outlinewidth\":0,\"ticks\":\"\"}},\"colorscale\":{\"diverging\":[[0,\"#8e0152\"],[0.1,\"#c51b7d\"],[0.2,\"#de77ae\"],[0.3,\"#f1b6da\"],[0.4,\"#fde0ef\"],[0.5,\"#f7f7f7\"],[0.6,\"#e6f5d0\"],[0.7,\"#b8e186\"],[0.8,\"#7fbc41\"],[0.9,\"#4d9221\"],[1,\"#276419\"]],\"sequential\":[[0.0,\"#0d0887\"],[0.1111111111111111,\"#46039f\"],[0.2222222222222222,\"#7201a8\"],[0.3333333333333333,\"#9c179e\"],[0.4444444444444444,\"#bd3786\"],[0.5555555555555556,\"#d8576b\"],[0.6666666666666666,\"#ed7953\"],[0.7777777777777778,\"#fb9f3a\"],[0.8888888888888888,\"#fdca26\"],[1.0,\"#f0f921\"]],\"sequentialminus\":[[0.0,\"#0d0887\"],[0.1111111111111111,\"#46039f\"],[0.2222222222222222,\"#7201a8\"],[0.3333333333333333,\"#9c179e\"],[0.4444444444444444,\"#bd3786\"],[0.5555555555555556,\"#d8576b\"],[0.6666666666666666,\"#ed7953\"],[0.7777777777777778,\"#fb9f3a\"],[0.8888888888888888,\"#fdca26\"],[1.0,\"#f0f921\"]]},\"colorway\":[\"#636efa\",\"#EF553B\",\"#00cc96\",\"#ab63fa\",\"#FFA15A\",\"#19d3f3\",\"#FF6692\",\"#B6E880\",\"#FF97FF\",\"#FECB52\"],\"font\":{\"color\":\"#f2f5fa\"},\"geo\":{\"bgcolor\":\"rgb(17,17,17)\",\"lakecolor\":\"rgb(17,17,17)\",\"landcolor\":\"rgb(17,17,17)\",\"showlakes\":true,\"showland\":true,\"subunitcolor\":\"#506784\"},\"hoverlabel\":{\"align\":\"left\"},\"hovermode\":\"closest\",\"mapbox\":{\"style\":\"dark\"},\"paper_bgcolor\":\"rgb(17,17,17)\",\"plot_bgcolor\":\"rgb(17,17,17)\",\"polar\":{\"angularaxis\":{\"gridcolor\":\"#506784\",\"linecolor\":\"#506784\",\"ticks\":\"\"},\"bgcolor\":\"rgb(17,17,17)\",\"radialaxis\":{\"gridcolor\":\"#506784\",\"linecolor\":\"#506784\",\"ticks\":\"\"}},\"scene\":{\"xaxis\":{\"backgroundcolor\":\"rgb(17,17,17)\",\"gridcolor\":\"#506784\",\"gridwidth\":2,\"linecolor\":\"#506784\",\"showbackground\":true,\"ticks\":\"\",\"zerolinecolor\":\"#C8D4E3\"},\"yaxis\":{\"backgroundcolor\":\"rgb(17,17,17)\",\"gridcolor\":\"#506784\",\"gridwidth\":2,\"linecolor\":\"#506784\",\"showbackground\":true,\"ticks\":\"\",\"zerolinecolor\":\"#C8D4E3\"},\"zaxis\":{\"backgroundcolor\":\"rgb(17,17,17)\",\"gridcolor\":\"#506784\",\"gridwidth\":2,\"linecolor\":\"#506784\",\"showbackground\":true,\"ticks\":\"\",\"zerolinecolor\":\"#C8D4E3\"}},\"shapedefaults\":{\"line\":{\"color\":\"#f2f5fa\"}},\"sliderdefaults\":{\"bgcolor\":\"#C8D4E3\",\"bordercolor\":\"rgb(17,17,17)\",\"borderwidth\":1,\"tickwidth\":0},\"ternary\":{\"aaxis\":{\"gridcolor\":\"#506784\",\"linecolor\":\"#506784\",\"ticks\":\"\"},\"baxis\":{\"gridcolor\":\"#506784\",\"linecolor\":\"#506784\",\"ticks\":\"\"},\"bgcolor\":\"rgb(17,17,17)\",\"caxis\":{\"gridcolor\":\"#506784\",\"linecolor\":\"#506784\",\"ticks\":\"\"}},\"title\":{\"x\":0.05},\"updatemenudefaults\":{\"bgcolor\":\"#506784\",\"borderwidth\":0},\"xaxis\":{\"automargin\":true,\"gridcolor\":\"#283442\",\"linecolor\":\"#506784\",\"ticks\":\"\",\"title\":{\"standoff\":15},\"zerolinecolor\":\"#283442\",\"zerolinewidth\":2},\"yaxis\":{\"automargin\":true,\"gridcolor\":\"#283442\",\"linecolor\":\"#506784\",\"ticks\":\"\",\"title\":{\"standoff\":15},\"zerolinecolor\":\"#283442\",\"zerolinewidth\":2}}},\"xaxis\":{\"anchor\":\"y\",\"domain\":[0.0,1.0],\"title\":{\"text\":\"country\"}},\"yaxis\":{\"anchor\":\"x\",\"domain\":[0.0,1.0],\"title\":{\"text\":\"OBS_VALUE\"}},\"coloraxis\":{\"colorbar\":{\"title\":{\"text\":\"OBS_VALUE\"}},\"colorscale\":[[0.0,\"#0d0887\"],[0.1111111111111111,\"#46039f\"],[0.2222222222222222,\"#7201a8\"],[0.3333333333333333,\"#9c179e\"],[0.4444444444444444,\"#bd3786\"],[0.5555555555555556,\"#d8576b\"],[0.6666666666666666,\"#ed7953\"],[0.7777777777777778,\"#fb9f3a\"],[0.8888888888888888,\"#fdca26\"],[1.0,\"#f0f921\"]]},\"legend\":{\"tracegroupgap\":0},\"margin\":{\"t\":60},\"barmode\":\"relative\",\"updatemenus\":[{\"buttons\":[{\"args\":[null,{\"frame\":{\"duration\":500,\"redraw\":true},\"mode\":\"immediate\",\"fromcurrent\":true,\"transition\":{\"duration\":500,\"easing\":\"linear\"}}],\"label\":\"&#9654;\",\"method\":\"animate\"},{\"args\":[[null],{\"frame\":{\"duration\":0,\"redraw\":true},\"mode\":\"immediate\",\"fromcurrent\":true,\"transition\":{\"duration\":0,\"easing\":\"linear\"}}],\"label\":\"&#9724;\",\"method\":\"animate\"}],\"direction\":\"left\",\"pad\":{\"r\":10,\"t\":70},\"showactive\":false,\"type\":\"buttons\",\"x\":0.1,\"xanchor\":\"right\",\"y\":0,\"yanchor\":\"top\"}],\"sliders\":[{\"active\":0,\"currentvalue\":{\"prefix\":\"TIME_PERIOD=\"},\"len\":0.9,\"pad\":{\"b\":10,\"t\":60},\"steps\":[{\"args\":[[\"2000\"],{\"frame\":{\"duration\":0,\"redraw\":true},\"mode\":\"immediate\",\"fromcurrent\":true,\"transition\":{\"duration\":0,\"easing\":\"linear\"}}],\"label\":\"2000\",\"method\":\"animate\"},{\"args\":[[\"2004\"],{\"frame\":{\"duration\":0,\"redraw\":true},\"mode\":\"immediate\",\"fromcurrent\":true,\"transition\":{\"duration\":0,\"easing\":\"linear\"}}],\"label\":\"2004\",\"method\":\"animate\"},{\"args\":[[\"2008\"],{\"frame\":{\"duration\":0,\"redraw\":true},\"mode\":\"immediate\",\"fromcurrent\":true,\"transition\":{\"duration\":0,\"easing\":\"linear\"}}],\"label\":\"2008\",\"method\":\"animate\"},{\"args\":[[\"2012\"],{\"frame\":{\"duration\":0,\"redraw\":true},\"mode\":\"immediate\",\"fromcurrent\":true,\"transition\":{\"duration\":0,\"easing\":\"linear\"}}],\"label\":\"2012\",\"method\":\"animate\"},{\"args\":[[\"2016\"],{\"frame\":{\"duration\":0,\"redraw\":true},\"mode\":\"immediate\",\"fromcurrent\":true,\"transition\":{\"duration\":0,\"easing\":\"linear\"}}],\"label\":\"2016\",\"method\":\"animate\"},{\"args\":[[\"2020\"],{\"frame\":{\"duration\":0,\"redraw\":true},\"mode\":\"immediate\",\"fromcurrent\":true,\"transition\":{\"duration\":0,\"easing\":\"linear\"}}],\"label\":\"2020\",\"method\":\"animate\"},{\"args\":[[\"2021\"],{\"frame\":{\"duration\":0,\"redraw\":true},\"mode\":\"immediate\",\"fromcurrent\":true,\"transition\":{\"duration\":0,\"easing\":\"linear\"}}],\"label\":\"2021\",\"method\":\"animate\"},{\"args\":[[\"2022\"],{\"frame\":{\"duration\":0,\"redraw\":true},\"mode\":\"immediate\",\"fromcurrent\":true,\"transition\":{\"duration\":0,\"easing\":\"linear\"}}],\"label\":\"2022\",\"method\":\"animate\"}],\"x\":0.1,\"xanchor\":\"left\",\"y\":0,\"yanchor\":\"top\"}],\"title\":{\"text\":\"Labour costs other than wages and salaries in construction\"}},                        {\"responsive\": true}                    ).then(function(){\n",
       "                            Plotly.addFrames('8d8e1092-1b2d-48d5-8a24-06778d83030d', [{\"data\":[{\"alignmentgroup\":\"True\",\"hovertemplate\":\"<b>%{hovertext}</b><br><br>TIME_PERIOD=2000<br>iso3=%{x}<br>OBS_VALUE=%{marker.color}<extra></extra>\",\"hovertext\":[\"LTU\",\"IRL\",\"PRT\",\"DNK\",\"ESP\",\"DEU\",\"LVA\",\"SWE\",\"CZE\",\"ISL\",\"SVN\",\"HUN\",\"FIN\",\"LUX\",\"BGR\",\"SVK\",\"EST\",\"GBR\",\"ITA\",\"FRA\",\"AUT\",\"NLD\",\"BEL\"],\"ids\":[\"LTU\",\"IRL\",\"PRT\",\"DNK\",\"ESP\",\"DEU\",\"LVA\",\"SWE\",\"CZE\",\"ISL\",\"SVN\",\"HUN\",\"FIN\",\"LUX\",\"BGR\",\"SVK\",\"EST\",\"GBR\",\"ITA\",\"FRA\",\"AUT\",\"NLD\",\"BEL\"],\"legendgroup\":\"\",\"marker\":{\"color\":[0.7,2.8,1.3,1.0,3.2,3.8,0.3,8.2,1.0,3.0,1.3,0.9,4.5,2.4,0.3,0.8,0.7,3.8,4.9,5.9,4.0,5.4,9.7],\"coloraxis\":\"coloraxis\",\"pattern\":{\"shape\":\"\"}},\"name\":\"\",\"offsetgroup\":\"\",\"orientation\":\"v\",\"showlegend\":false,\"textposition\":\"auto\",\"x\":[\"LTU\",\"IRL\",\"PRT\",\"DNK\",\"ESP\",\"DEU\",\"LVA\",\"SWE\",\"CZE\",\"ISL\",\"SVN\",\"HUN\",\"FIN\",\"LUX\",\"BGR\",\"SVK\",\"EST\",\"GBR\",\"ITA\",\"FRA\",\"AUT\",\"NLD\",\"BEL\"],\"xaxis\":\"x\",\"y\":[0.7,2.8,1.3,1.0,3.2,3.8,0.3,8.2,1.0,3.0,1.3,0.9,4.5,2.4,0.3,0.8,0.7,3.8,4.9,5.9,4.0,5.4,9.7],\"yaxis\":\"y\",\"type\":\"bar\"}],\"name\":\"2000\"},{\"data\":[{\"alignmentgroup\":\"True\",\"hovertemplate\":\"<b>%{hovertext}</b><br><br>TIME_PERIOD=2004<br>iso3=%{x}<br>OBS_VALUE=%{marker.color}<extra></extra>\",\"hovertext\":[\"GBR\",\"DEU\",\"MLT\",\"IRL\",\"SWE\",\"ESP\",\"AUT\",\"DNK\",\"HRV\",\"LVA\",\"EST\",\"LTU\",\"ROU\",\"HUN\",\"SVN\",\"SVK\",\"CZE\",\"FRA\",\"POL\",\"ISL\",\"NLD\",\"BGR\",\"PRT\",\"FIN\",\"ITA\",\"LUX\",\"BEL\"],\"ids\":[\"GBR\",\"DEU\",\"MLT\",\"IRL\",\"SWE\",\"ESP\",\"AUT\",\"DNK\",\"HRV\",\"LVA\",\"EST\",\"LTU\",\"ROU\",\"HUN\",\"SVN\",\"SVK\",\"CZE\",\"FRA\",\"POL\",\"ISL\",\"NLD\",\"BGR\",\"PRT\",\"FIN\",\"ITA\",\"LUX\",\"BEL\"],\"legendgroup\":\"\",\"marker\":{\"color\":[3.6,4.2,0.6,3.7,8.7,4.0,5.3,2.3,1.0,0.5,1.2,0.9,0.4,1.3,1.7,0.9,1.5,7.3,0.8,4.1,6.3,0.3,1.7,4.8,6.3,3.0,11.8],\"coloraxis\":\"coloraxis\",\"pattern\":{\"shape\":\"\"}},\"name\":\"\",\"offsetgroup\":\"\",\"orientation\":\"v\",\"showlegend\":false,\"textposition\":\"auto\",\"x\":[\"GBR\",\"DEU\",\"MLT\",\"IRL\",\"SWE\",\"ESP\",\"AUT\",\"DNK\",\"HRV\",\"LVA\",\"EST\",\"LTU\",\"ROU\",\"HUN\",\"SVN\",\"SVK\",\"CZE\",\"FRA\",\"POL\",\"ISL\",\"NLD\",\"BGR\",\"PRT\",\"FIN\",\"ITA\",\"LUX\",\"BEL\"],\"xaxis\":\"x\",\"y\":[3.6,4.2,0.6,3.7,8.7,4.0,5.3,2.3,1.0,0.5,1.2,0.9,0.4,1.3,1.7,0.9,1.5,7.3,0.8,4.1,6.3,0.3,1.7,4.8,6.3,3.0,11.8],\"yaxis\":\"y\",\"type\":\"bar\"}],\"name\":\"2004\"},{\"data\":[{\"alignmentgroup\":\"True\",\"hovertemplate\":\"<b>%{hovertext}</b><br><br>TIME_PERIOD=2008<br>iso3=%{x}<br>OBS_VALUE=%{marker.color}<extra></extra>\",\"hovertext\":[\"EST\",\"NLD\",\"POL\",\"HRV\",\"FRA\",\"HUN\",\"ESP\",\"FIN\",\"DEU\",\"LVA\",\"GBR\",\"AUT\",\"LTU\",\"ITA\",\"BEL\",\"SVK\",\"BGR\",\"PRT\",\"SVN\",\"ISL\",\"MLT\",\"CZE\",\"DNK\",\"ROU\",\"SWE\",\"IRL\",\"LUX\"],\"ids\":[\"EST\",\"NLD\",\"POL\",\"HRV\",\"FRA\",\"HUN\",\"ESP\",\"FIN\",\"DEU\",\"LVA\",\"GBR\",\"AUT\",\"LTU\",\"ITA\",\"BEL\",\"SVK\",\"BGR\",\"PRT\",\"SVN\",\"ISL\",\"MLT\",\"CZE\",\"DNK\",\"ROU\",\"SWE\",\"IRL\",\"LUX\"],\"legendgroup\":\"\",\"marker\":{\"color\":[2.4,7.0,1.2,1.2,8.4,1.7,5.2,6.3,5.0,1.2,3.4,7.2,1.9,6.6,10.6,1.6,0.4,2.0,1.8,3.3,0.8,2.3,3.9,0.8,9.7,4.3,3.1],\"coloraxis\":\"coloraxis\",\"pattern\":{\"shape\":\"\"}},\"name\":\"\",\"offsetgroup\":\"\",\"orientation\":\"v\",\"showlegend\":false,\"textposition\":\"auto\",\"x\":[\"EST\",\"NLD\",\"POL\",\"HRV\",\"FRA\",\"HUN\",\"ESP\",\"FIN\",\"DEU\",\"LVA\",\"GBR\",\"AUT\",\"LTU\",\"ITA\",\"BEL\",\"SVK\",\"BGR\",\"PRT\",\"SVN\",\"ISL\",\"MLT\",\"CZE\",\"DNK\",\"ROU\",\"SWE\",\"IRL\",\"LUX\"],\"xaxis\":\"x\",\"y\":[2.4,7.0,1.2,1.2,8.4,1.7,5.2,6.3,5.0,1.2,3.4,7.2,1.9,6.6,10.6,1.6,0.4,2.0,1.8,3.3,0.8,2.3,3.9,0.8,9.7,4.3,3.1],\"yaxis\":\"y\",\"type\":\"bar\"}],\"name\":\"2008\"},{\"data\":[{\"alignmentgroup\":\"True\",\"hovertemplate\":\"<b>%{hovertext}</b><br><br>TIME_PERIOD=2012<br>iso3=%{x}<br>OBS_VALUE=%{marker.color}<extra></extra>\",\"hovertext\":[\"MKD\",\"HRV\",\"GBR\",\"LUX\",\"ITA\",\"LTU\",\"HUN\",\"MNE\",\"LVA\",\"IRL\",\"ISL\",\"ALB\",\"SRB\",\"AUT\",\"TUR\",\"BIH\",\"BEL\",\"SVK\",\"BGR\",\"SVN\",\"CHE\",\"SWE\",\"CZE\",\"MLT\",\"DEU\",\"ROU\",\"DNK\",\"POL\",\"PRT\",\"FRA\",\"EST\",\"NLD\",\"ESP\",\"FIN\",\"NOR\"],\"ids\":[\"MKD\",\"HRV\",\"GBR\",\"LUX\",\"ITA\",\"LTU\",\"HUN\",\"MNE\",\"LVA\",\"IRL\",\"ISL\",\"ALB\",\"SRB\",\"AUT\",\"TUR\",\"BIH\",\"BEL\",\"SVK\",\"BGR\",\"SVN\",\"CHE\",\"SWE\",\"CZE\",\"MLT\",\"DEU\",\"ROU\",\"DNK\",\"POL\",\"PRT\",\"FRA\",\"EST\",\"NLD\",\"ESP\",\"FIN\",\"NOR\"],\"legendgroup\":\"\",\"marker\":{\"color\":[0.3,1.4,3.6,3.7,6.8,1.7,1.4,0.7,1.1,3.1,4.4,0.4,0.7,7.3,0.7,0.3,13.1,2.2,0.5,1.8,9.0,12.0,2.5,0.9,5.5,0.7,4.3,1.2,2.4,9.4,2.7,8.1,6.1,6.9,8.5],\"coloraxis\":\"coloraxis\",\"pattern\":{\"shape\":\"\"}},\"name\":\"\",\"offsetgroup\":\"\",\"orientation\":\"v\",\"showlegend\":false,\"textposition\":\"auto\",\"x\":[\"MKD\",\"HRV\",\"GBR\",\"LUX\",\"ITA\",\"LTU\",\"HUN\",\"MNE\",\"LVA\",\"IRL\",\"ISL\",\"ALB\",\"SRB\",\"AUT\",\"TUR\",\"BIH\",\"BEL\",\"SVK\",\"BGR\",\"SVN\",\"CHE\",\"SWE\",\"CZE\",\"MLT\",\"DEU\",\"ROU\",\"DNK\",\"POL\",\"PRT\",\"FRA\",\"EST\",\"NLD\",\"ESP\",\"FIN\",\"NOR\"],\"xaxis\":\"x\",\"y\":[0.3,1.4,3.6,3.7,6.8,1.7,1.4,0.7,1.1,3.1,4.4,0.4,0.7,7.3,0.7,0.3,13.1,2.2,0.5,1.8,9.0,12.0,2.5,0.9,5.5,0.7,4.3,1.2,2.4,9.4,2.7,8.1,6.1,6.9,8.5],\"yaxis\":\"y\",\"type\":\"bar\"}],\"name\":\"2012\"},{\"data\":[{\"alignmentgroup\":\"True\",\"hovertemplate\":\"<b>%{hovertext}</b><br><br>TIME_PERIOD=2016<br>iso3=%{x}<br>OBS_VALUE=%{marker.color}<extra></extra>\",\"hovertext\":[\"TUR\",\"MKD\",\"SVK\",\"LTU\",\"MNE\",\"SVN\",\"PRT\",\"NOR\",\"SWE\",\"POL\",\"SRB\",\"LUX\",\"LVA\",\"ROU\",\"NLD\",\"MLT\",\"GBR\",\"FRA\",\"CZE\",\"FIN\",\"CHE\",\"BGR\",\"HRV\",\"ESP\",\"DEU\",\"BEL\",\"HUN\",\"BIH\",\"IRL\",\"EST\",\"ISL\",\"ALB\",\"AUT\",\"ITA\",\"DNK\"],\"ids\":[\"TUR\",\"MKD\",\"SVK\",\"LTU\",\"MNE\",\"SVN\",\"PRT\",\"NOR\",\"SWE\",\"POL\",\"SRB\",\"LUX\",\"LVA\",\"ROU\",\"NLD\",\"MLT\",\"GBR\",\"FRA\",\"CZE\",\"FIN\",\"CHE\",\"BGR\",\"HRV\",\"ESP\",\"DEU\",\"BEL\",\"HUN\",\"BIH\",\"IRL\",\"EST\",\"ISL\",\"ALB\",\"AUT\",\"ITA\",\"DNK\"],\"legendgroup\":\"\",\"marker\":{\"color\":[0.8,0.0,2.3,2.2,0.6,2.0,2.1,6.9,11.6,1.5,0.7,3.4,1.6,0.8,8.8,1.0,4.2,9.2,2.6,7.6,9.4,0.6,1.3,5.7,5.9,10.9,1.6,0.3,2.9,3.1,6.5,0.4,9.8,6.9,4.6],\"coloraxis\":\"coloraxis\",\"pattern\":{\"shape\":\"\"}},\"name\":\"\",\"offsetgroup\":\"\",\"orientation\":\"v\",\"showlegend\":false,\"textposition\":\"auto\",\"x\":[\"TUR\",\"MKD\",\"SVK\",\"LTU\",\"MNE\",\"SVN\",\"PRT\",\"NOR\",\"SWE\",\"POL\",\"SRB\",\"LUX\",\"LVA\",\"ROU\",\"NLD\",\"MLT\",\"GBR\",\"FRA\",\"CZE\",\"FIN\",\"CHE\",\"BGR\",\"HRV\",\"ESP\",\"DEU\",\"BEL\",\"HUN\",\"BIH\",\"IRL\",\"EST\",\"ISL\",\"ALB\",\"AUT\",\"ITA\",\"DNK\"],\"xaxis\":\"x\",\"y\":[0.8,0.0,2.3,2.2,0.6,2.0,2.1,6.9,11.6,1.5,0.7,3.4,1.6,0.8,8.8,1.0,4.2,9.2,2.6,7.6,9.4,0.6,1.3,5.7,5.9,10.9,1.6,0.3,2.9,3.1,6.5,0.4,9.8,6.9,4.6],\"yaxis\":\"y\",\"type\":\"bar\"}],\"name\":\"2016\"},{\"data\":[{\"alignmentgroup\":\"True\",\"hovertemplate\":\"<b>%{hovertext}</b><br><br>TIME_PERIOD=2020<br>iso3=%{x}<br>OBS_VALUE=%{marker.color}<extra></extra>\",\"hovertext\":[\"FIN\",\"SWE\",\"NLD\",\"CYP\",\"DNK\",\"POL\",\"ITA\",\"ESP\",\"NOR\",\"CZE\",\"EST\",\"ROU\",\"BGR\",\"PRT\",\"LUX\",\"DEU\",\"IRL\",\"SVK\",\"TUR\",\"HUN\",\"LVA\",\"MLT\",\"BEL\",\"AUT\",\"HRV\",\"SVN\",\"LTU\",\"FRA\",\"ISL\",\"SRB\"],\"ids\":[\"FIN\",\"SWE\",\"NLD\",\"CYP\",\"DNK\",\"POL\",\"ITA\",\"ESP\",\"NOR\",\"CZE\",\"EST\",\"ROU\",\"BGR\",\"PRT\",\"LUX\",\"DEU\",\"IRL\",\"SVK\",\"TUR\",\"HUN\",\"LVA\",\"MLT\",\"BEL\",\"AUT\",\"HRV\",\"SVN\",\"LTU\",\"FRA\",\"ISL\",\"SRB\"],\"legendgroup\":\"\",\"marker\":{\"color\":[6.6,11.2,9.3,2.4,4.3,1.6,7.4,5.9,6.8,3.4,3.7,0.3,0.8,2.5,4.2,6.9,1.5,2.8,0.4,1.3,2.4,0.7,10.8,11.4,1.3,2.1,0.3,10.1,8.2,0.7],\"coloraxis\":\"coloraxis\",\"pattern\":{\"shape\":\"\"}},\"name\":\"\",\"offsetgroup\":\"\",\"orientation\":\"v\",\"showlegend\":false,\"textposition\":\"auto\",\"x\":[\"FIN\",\"SWE\",\"NLD\",\"CYP\",\"DNK\",\"POL\",\"ITA\",\"ESP\",\"NOR\",\"CZE\",\"EST\",\"ROU\",\"BGR\",\"PRT\",\"LUX\",\"DEU\",\"IRL\",\"SVK\",\"TUR\",\"HUN\",\"LVA\",\"MLT\",\"BEL\",\"AUT\",\"HRV\",\"SVN\",\"LTU\",\"FRA\",\"ISL\",\"SRB\"],\"xaxis\":\"x\",\"y\":[6.6,11.2,9.3,2.4,4.3,1.6,7.4,5.9,6.8,3.4,3.7,0.3,0.8,2.5,4.2,6.9,1.5,2.8,0.4,1.3,2.4,0.7,10.8,11.4,1.3,2.1,0.3,10.1,8.2,0.7],\"yaxis\":\"y\",\"type\":\"bar\"}],\"name\":\"2020\"},{\"data\":[{\"alignmentgroup\":\"True\",\"hovertemplate\":\"<b>%{hovertext}</b><br><br>TIME_PERIOD=2021<br>iso3=%{x}<br>OBS_VALUE=%{marker.color}<extra></extra>\",\"hovertext\":[\"ROU\",\"ITA\",\"SRB\",\"CYP\",\"SWE\",\"BGR\",\"SVN\",\"BEL\",\"SVK\",\"AUT\",\"TUR\",\"CZE\",\"DEU\",\"ISL\",\"ESP\",\"NLD\",\"HUN\",\"LVA\",\"HRV\",\"NOR\",\"LUX\",\"IRL\",\"FIN\",\"MLT\",\"FRA\",\"POL\",\"LTU\",\"DNK\",\"PRT\",\"EST\"],\"ids\":[\"ROU\",\"ITA\",\"SRB\",\"CYP\",\"SWE\",\"BGR\",\"SVN\",\"BEL\",\"SVK\",\"AUT\",\"TUR\",\"CZE\",\"DEU\",\"ISL\",\"ESP\",\"NLD\",\"HUN\",\"LVA\",\"HRV\",\"NOR\",\"LUX\",\"IRL\",\"FIN\",\"MLT\",\"FRA\",\"POL\",\"LTU\",\"DNK\",\"PRT\",\"EST\"],\"legendgroup\":\"\",\"marker\":{\"color\":[0.3,7.3,1.3,2.9,12.6,0.8,2.4,10.9,2.9,11.6,0.3,3.8,7.3,7.6,6.0,9.3,1.3,2.3,1.4,7.4,4.0,0.6,6.5,0.7,9.9,1.7,0.5,4.5,2.7,3.9],\"coloraxis\":\"coloraxis\",\"pattern\":{\"shape\":\"\"}},\"name\":\"\",\"offsetgroup\":\"\",\"orientation\":\"v\",\"showlegend\":false,\"textposition\":\"auto\",\"x\":[\"ROU\",\"ITA\",\"SRB\",\"CYP\",\"SWE\",\"BGR\",\"SVN\",\"BEL\",\"SVK\",\"AUT\",\"TUR\",\"CZE\",\"DEU\",\"ISL\",\"ESP\",\"NLD\",\"HUN\",\"LVA\",\"HRV\",\"NOR\",\"LUX\",\"IRL\",\"FIN\",\"MLT\",\"FRA\",\"POL\",\"LTU\",\"DNK\",\"PRT\",\"EST\"],\"xaxis\":\"x\",\"y\":[0.3,7.3,1.3,2.9,12.6,0.8,2.4,10.9,2.9,11.6,0.3,3.8,7.3,7.6,6.0,9.3,1.3,2.3,1.4,7.4,4.0,0.6,6.5,0.7,9.9,1.7,0.5,4.5,2.7,3.9],\"yaxis\":\"y\",\"type\":\"bar\"}],\"name\":\"2021\"},{\"data\":[{\"alignmentgroup\":\"True\",\"hovertemplate\":\"<b>%{hovertext}</b><br><br>TIME_PERIOD=2022<br>iso3=%{x}<br>OBS_VALUE=%{marker.color}<extra></extra>\",\"hovertext\":[\"HUN\",\"HRV\",\"LVA\",\"DEU\",\"SVK\",\"AUT\",\"IRL\",\"TUR\",\"LTU\",\"ISL\",\"LUX\",\"BEL\",\"MLT\",\"FRA\",\"DNK\",\"ITA\",\"ROU\",\"CZE\",\"EST\",\"NOR\",\"SVN\",\"SRB\",\"NLD\",\"ESP\",\"SWE\",\"FIN\",\"BGR\",\"PRT\",\"CYP\",\"POL\"],\"ids\":[\"HUN\",\"HRV\",\"LVA\",\"DEU\",\"SVK\",\"AUT\",\"IRL\",\"TUR\",\"LTU\",\"ISL\",\"LUX\",\"BEL\",\"MLT\",\"FRA\",\"DNK\",\"ITA\",\"ROU\",\"CZE\",\"EST\",\"NOR\",\"SVN\",\"SRB\",\"NLD\",\"ESP\",\"SWE\",\"FIN\",\"BGR\",\"PRT\",\"CYP\",\"POL\"],\"legendgroup\":\"\",\"marker\":{\"color\":[1.2,1.5,2.5,8.2,3.6,12.3,8.6,0.4,0.6,8.8,4.2,11.5,1.0,10.0,4.6,7.5,0.3,4.2,4.2,7.7,2.6,1.7,10.1,6.1,12.8,6.8,0.9,2.9,3.0,1.8],\"coloraxis\":\"coloraxis\",\"pattern\":{\"shape\":\"\"}},\"name\":\"\",\"offsetgroup\":\"\",\"orientation\":\"v\",\"showlegend\":false,\"textposition\":\"auto\",\"x\":[\"HUN\",\"HRV\",\"LVA\",\"DEU\",\"SVK\",\"AUT\",\"IRL\",\"TUR\",\"LTU\",\"ISL\",\"LUX\",\"BEL\",\"MLT\",\"FRA\",\"DNK\",\"ITA\",\"ROU\",\"CZE\",\"EST\",\"NOR\",\"SVN\",\"SRB\",\"NLD\",\"ESP\",\"SWE\",\"FIN\",\"BGR\",\"PRT\",\"CYP\",\"POL\"],\"xaxis\":\"x\",\"y\":[1.2,1.5,2.5,8.2,3.6,12.3,8.6,0.4,0.6,8.8,4.2,11.5,1.0,10.0,4.6,7.5,0.3,4.2,4.2,7.7,2.6,1.7,10.1,6.1,12.8,6.8,0.9,2.9,3.0,1.8],\"yaxis\":\"y\",\"type\":\"bar\"}],\"name\":\"2022\"}]);\n",
       "                        }).then(function(){\n",
       "                            \n",
       "var gd = document.getElementById('8d8e1092-1b2d-48d5-8a24-06778d83030d');\n",
       "var x = new MutationObserver(function (mutations, observer) {{\n",
       "        var display = window.getComputedStyle(gd).display;\n",
       "        if (!display || display === 'none') {{\n",
       "            console.log([gd, 'removed!']);\n",
       "            Plotly.purge(gd);\n",
       "            observer.disconnect();\n",
       "        }}\n",
       "}});\n",
       "\n",
       "// Listen for the removal of the full notebook cells\n",
       "var notebookContainer = gd.closest('#notebook-container');\n",
       "if (notebookContainer) {{\n",
       "    x.observe(notebookContainer, {childList: true});\n",
       "}}\n",
       "\n",
       "// Listen for the clearing of the current output cell\n",
       "var outputEl = gd.closest('.output');\n",
       "if (outputEl) {{\n",
       "    x.observe(outputEl, {childList: true});\n",
       "}}\n",
       "\n",
       "                        })                };                });            </script>        </div>"
      ]
     },
     "metadata": {},
     "output_type": "display_data"
    }
   ],
   "source": [
    "fig = px.bar(\n",
    "  other_costs,\n",
    "  x='iso3', y='OBS_VALUE',\n",
    "  color='OBS_VALUE',\n",
    "  animation_frame='TIME_PERIOD',\n",
    "  animation_group='iso3',\n",
    "  hover_name='iso3'\n",
    ")\n",
    "fig.update_layout(\n",
    "    title_text = 'Labour costs other than wages and salaries in construction',\n",
    "    template='plotly_dark',\n",
    "    xaxis_title='country'\n",
    ")\n",
    "fig.show()"
   ]
  },
  {
   "cell_type": "markdown",
   "id": "365161c5",
   "metadata": {},
   "source": [
    "## Ireland comparison of wages and salaries"
   ]
  },
  {
   "cell_type": "code",
   "execution_count": 47,
   "id": "b56f0db4",
   "metadata": {},
   "outputs": [
    {
     "data": {
      "image/png": "[encoded data removed]",
      "text/plain": [
       "<Figure size 1080x288 with 1 Axes>"
      ]
     },
     "metadata": {
      "needs_background": "light"
     },
     "output_type": "display_data"
    }
   ],
   "source": [
    "data_ireland = eur_values[eur_values['iso3'] =='IRL']\n",
    "data_ireland.set_index('TIME_PERIOD', inplace=True)\n",
    "data_ireland.groupby('lcstruct')['OBS_VALUE'].plot(legend=True);\n",
    "plt.gcf().set_figwidth(15)\n",
    "plt.xticks(data_ireland.index);\n",
    "#wages_salaries[wages_salaries['iso3'] =='IRL'].plot.bar(x='TIME_PERIOD', y='OBS_VALUE', title='Wages and salaries');"
   ]
  },
  {
   "cell_type": "markdown",
   "id": "bf3ee83d",
   "metadata": {},
   "source": [
    "### Comparison of wages and salaries"
   ]
  },
  {
   "cell_type": "code",
   "execution_count": 48,
   "id": "168ea8ef",
   "metadata": {},
   "outputs": [
    {
     "data": {
      "text/html": [
       "<div>\n",
       "<style scoped>\n",
       "    .dataframe tbody tr th:only-of-type {\n",
       "        vertical-align: middle;\n",
       "    }\n",
       "\n",
       "    .dataframe tbody tr th {\n",
       "        vertical-align: top;\n",
       "    }\n",
       "\n",
       "    .dataframe thead th {\n",
       "        text-align: right;\n",
       "    }\n",
       "</style>\n",
       "<table border=\"1\" class=\"dataframe\">\n",
       "  <thead>\n",
       "    <tr style=\"text-align: right;\">\n",
       "      <th></th>\n",
       "      <th>unit</th>\n",
       "      <th>lcstruct</th>\n",
       "      <th>nace_r2</th>\n",
       "      <th>geo</th>\n",
       "      <th>TIME_PERIOD</th>\n",
       "      <th>OBS_VALUE</th>\n",
       "      <th>iso3</th>\n",
       "    </tr>\n",
       "  </thead>\n",
       "  <tbody>\n",
       "    <tr>\n",
       "      <th>1776</th>\n",
       "      <td>EUR</td>\n",
       "      <td>Wages and salaries</td>\n",
       "      <td>F</td>\n",
       "      <td>LT</td>\n",
       "      <td>2000</td>\n",
       "      <td>1.7</td>\n",
       "      <td>LTU</td>\n",
       "    </tr>\n",
       "    <tr>\n",
       "      <th>1752</th>\n",
       "      <td>EUR</td>\n",
       "      <td>Wages and salaries</td>\n",
       "      <td>F</td>\n",
       "      <td>IE</td>\n",
       "      <td>2000</td>\n",
       "      <td>13.8</td>\n",
       "      <td>IRL</td>\n",
       "    </tr>\n",
       "    <tr>\n",
       "      <th>1831</th>\n",
       "      <td>EUR</td>\n",
       "      <td>Wages and salaries</td>\n",
       "      <td>F</td>\n",
       "      <td>PT</td>\n",
       "      <td>2000</td>\n",
       "      <td>5.6</td>\n",
       "      <td>PRT</td>\n",
       "    </tr>\n",
       "    <tr>\n",
       "      <th>1657</th>\n",
       "      <td>EUR</td>\n",
       "      <td>Wages and salaries</td>\n",
       "      <td>F</td>\n",
       "      <td>DK</td>\n",
       "      <td>2000</td>\n",
       "      <td>23.8</td>\n",
       "      <td>DNK</td>\n",
       "    </tr>\n",
       "    <tr>\n",
       "      <th>1697</th>\n",
       "      <td>EUR</td>\n",
       "      <td>Wages and salaries</td>\n",
       "      <td>F</td>\n",
       "      <td>ES</td>\n",
       "      <td>2000</td>\n",
       "      <td>8.9</td>\n",
       "      <td>ESP</td>\n",
       "    </tr>\n",
       "  </tbody>\n",
       "</table>\n",
       "</div>"
      ],
      "text/plain": [
       "     unit            lcstruct nace_r2 geo  TIME_PERIOD  OBS_VALUE iso3\n",
       "1776  EUR  Wages and salaries       F  LT         2000        1.7  LTU\n",
       "1752  EUR  Wages and salaries       F  IE         2000       13.8  IRL\n",
       "1831  EUR  Wages and salaries       F  PT         2000        5.6  PRT\n",
       "1657  EUR  Wages and salaries       F  DK         2000       23.8  DNK\n",
       "1697  EUR  Wages and salaries       F  ES         2000        8.9  ESP"
      ]
     },
     "execution_count": 48,
     "metadata": {},
     "output_type": "execute_result"
    }
   ],
   "source": [
    "wages_salaries.head()"
   ]
  },
  {
   "cell_type": "code",
   "execution_count": 56,
   "id": "6298a80b",
   "metadata": {},
   "outputs": [
    {
     "data": {
      "image/png": "[encoded data removed]",
      "text/plain": [
       "<Figure size 1080x288 with 1 Axes>"
      ]
     },
     "metadata": {
      "needs_background": "light"
     },
     "output_type": "display_data"
    }
   ],
   "source": [
    "sns.barplot(x = wages_salaries.iso3, y = 'OBS_VALUE', data = wages_salaries);\n",
    "plt.gcf().set_figwidth(15)"
   ]
  },
  {
   "cell_type": "markdown",
   "id": "874ea816",
   "metadata": {},
   "source": [
    "From the geograph irish values seems to trend similar to Spain and Germany, so we'll compare those countries"
   ]
  },
  {
   "cell_type": "code",
   "execution_count": 58,
   "id": "29097947",
   "metadata": {},
   "outputs": [],
   "source": [
    "# prepare datasets\n",
    "data_spain = eur_values[eur_values['iso3'] =='ESP']\n",
    "data_spain.set_index('TIME_PERIOD', inplace=True)\n",
    "\n",
    "data_germany = eur_values[eur_values['iso3'] =='DEU']\n",
    "data_germany.set_index('TIME_PERIOD', inplace=True)"
   ]
  },
  {
   "cell_type": "markdown",
   "id": "cdd2d9db",
   "metadata": {},
   "source": [
    "##### T-Test - Ireland and Spain\n",
    "Hypothesis: Is there a difference in the mean between Ireland and Spain?\n",
    "- Null Hypothesis (H0): There is no difference in the means\n",
    "- H1: There is a difference in the means"
   ]
  },
  {
   "cell_type": "code",
   "execution_count": 84,
   "id": "829376f1",
   "metadata": {},
   "outputs": [],
   "source": [
    "from scipy.stats import ttest_ind\n",
    "sample_size = 10\n",
    "#t-test\n",
    "def compare_2_groups(arr_1, arr_2, alpha):\n",
    "    stat, p = ttest_ind(arr_1, arr_2)\n",
    "    print('Statistics=%.3f, p=%.3f' % (stat, p))\n",
    "    if p > alpha:\n",
    "        print('Same distributions (Accept H₀)')\n",
    "    else:\n",
    "        print('Different distributions (Reject H₀)')"
   ]
  },
  {
   "cell_type": "code",
   "execution_count": 85,
   "id": "db7b47a3",
   "metadata": {},
   "outputs": [],
   "source": [
    "# collect samples\n",
    "esp_sampled = np.random.choice(data_spain['OBS_VALUE'], sample_size)\n",
    "ie_sampled = np.random.choice(data_ireland['OBS_VALUE'], sample_size)"
   ]
  },
  {
   "cell_type": "code",
   "execution_count": 86,
   "id": "07c9d292",
   "metadata": {},
   "outputs": [
    {
     "name": "stdout",
     "output_type": "stream",
     "text": [
      "ShapiroResult(statistic=0.9071258306503296, pvalue=0.26182612776756287)\n",
      "Ho(Accepted): Sample is from a normal distribution.(P>0.05)\n"
     ]
    }
   ],
   "source": [
    "#Shapiro wilk test\n",
    "shapiro_wilk(esp_sampled)"
   ]
  },
  {
   "cell_type": "code",
   "execution_count": 87,
   "id": "6ce32146",
   "metadata": {},
   "outputs": [
    {
     "name": "stdout",
     "output_type": "stream",
     "text": [
      "ShapiroResult(statistic=0.8484174013137817, pvalue=0.05562277138233185)\n",
      "Ho(Accepted): Sample is from a normal distribution.(P>0.05)\n"
     ]
    }
   ],
   "source": [
    "shapiro_wilk(ie_sampled)"
   ]
  },
  {
   "cell_type": "code",
   "execution_count": 88,
   "id": "8bd3f993",
   "metadata": {},
   "outputs": [
    {
     "name": "stdout",
     "output_type": "stream",
     "text": [
      "Statistics=-0.161, p=0.874\n",
      "Same distributions (Accept H₀)\n"
     ]
    }
   ],
   "source": [
    "# apply t-test\n",
    "compare_2_groups(ie_sampled, esp_sampled, 0.05)"
   ]
  },
  {
   "cell_type": "markdown",
   "id": "98c3ffc3",
   "metadata": {},
   "source": [
    "##### ANOVA - Ireland, Spain and Germany\n",
    "Hypothesis: Is there a difference in the value of wages in the contruction sector?\n",
    "- Null Hypothesis (Ho): There is no difference\n",
    "- H1: There is a difference"
   ]
  },
  {
   "cell_type": "code",
   "execution_count": 89,
   "id": "3b0246c1",
   "metadata": {},
   "outputs": [
    {
     "name": "stdout",
     "output_type": "stream",
     "text": [
      "ShapiroResult(statistic=0.9110199809074402, pvalue=0.01195566076785326)\n",
      "Ha(Rejected): Sample is not from a normal distribution\n"
     ]
    }
   ],
   "source": [
    "#Shapiro wilk test\n",
    "shapiro_wilk(data_spain['OBS_VALUE'])"
   ]
  },
  {
   "cell_type": "code",
   "execution_count": 90,
   "id": "4d76366b",
   "metadata": {},
   "outputs": [
    {
     "name": "stdout",
     "output_type": "stream",
     "text": [
      "ShapiroResult(statistic=0.9072036743164062, pvalue=0.009494866244494915)\n",
      "Ha(Rejected): Sample is not from a normal distribution\n"
     ]
    }
   ],
   "source": [
    "shapiro_wilk(data_ireland['OBS_VALUE'])"
   ]
  },
  {
   "cell_type": "code",
   "execution_count": 91,
   "id": "09d2388c",
   "metadata": {},
   "outputs": [
    {
     "name": "stdout",
     "output_type": "stream",
     "text": [
      "ShapiroResult(statistic=0.914463222026825, pvalue=0.014754394069314003)\n",
      "Ha(Rejected): Sample is not from a normal distribution\n"
     ]
    }
   ],
   "source": [
    "shapiro_wilk(data_germany['OBS_VALUE'])"
   ]
  },
  {
   "cell_type": "code",
   "execution_count": 99,
   "id": "1c366b17",
   "metadata": {},
   "outputs": [],
   "source": [
    "# combine dataset for sample\n",
    "datasets = [data_germany, data_spain, data_ireland ] \n",
    "\n",
    "df_new = pd.DataFrame() # create dataframe\n",
    "# loop through datasets\n",
    "for dataset in datasets: \n",
    "    # add dataset to the bottom of the total \n",
    "    df_new = df_new.append(dataset) "
   ]
  },
  {
   "cell_type": "code",
   "execution_count": 103,
   "id": "c4da568d",
   "metadata": {},
   "outputs": [],
   "source": [
    "# take 10 samples\n",
    "df_new_eu = df_new.groupby(['iso3']).apply(lambda x: x.sample(10))"
   ]
  },
  {
   "cell_type": "code",
   "execution_count": 101,
   "id": "4c3a044e",
   "metadata": {},
   "outputs": [
    {
     "name": "stdout",
     "output_type": "stream",
     "text": [
      "<class 'pandas.core.frame.DataFrame'>\n",
      "MultiIndex: 45 entries, ('DEU', 2008) to ('IRL', 2016)\n",
      "Data columns (total 6 columns):\n",
      " #   Column     Non-Null Count  Dtype  \n",
      "---  ------     --------------  -----  \n",
      " 0   unit       45 non-null     object \n",
      " 1   lcstruct   45 non-null     object \n",
      " 2   nace_r2    45 non-null     object \n",
      " 3   geo        45 non-null     object \n",
      " 4   OBS_VALUE  45 non-null     float64\n",
      " 5   iso3       45 non-null     object \n",
      "dtypes: float64(1), object(5)\n",
      "memory usage: 2.7+ KB\n"
     ]
    }
   ],
   "source": [
    "df_new_eu.info()"
   ]
  },
  {
   "cell_type": "code",
   "execution_count": 104,
   "id": "eafca552",
   "metadata": {},
   "outputs": [
    {
     "data": {
      "image/png": "[encoded data removed]",
      "text/plain": [
       "<Figure size 432x288 with 1 Axes>"
      ]
     },
     "metadata": {
      "needs_background": "light"
     },
     "output_type": "display_data"
    }
   ],
   "source": [
    "ax = sns.boxplot(x=\"geo\", y=\"OBS_VALUE\", data=df_new_eu);"
   ]
  },
  {
   "cell_type": "code",
   "execution_count": 105,
   "id": "e29cf869",
   "metadata": {},
   "outputs": [],
   "source": [
    "# values are different from the three samples"
   ]
  },
  {
   "cell_type": "code",
   "execution_count": 107,
   "id": "4bd8f2b9",
   "metadata": {},
   "outputs": [
    {
     "name": "stdout",
     "output_type": "stream",
     "text": [
      "Results of ANOVA test:\n",
      " The F-statistic is: 0.6762099164225766\n",
      " The p-value is: p=0.51102320\n",
      "Fail to reject null hypothesis. Results are not significant\n"
     ]
    }
   ],
   "source": [
    "# Importing library\n",
    "from scipy.stats import f_oneway\n",
    "\n",
    "fvalue, pvalue = f_oneway(data_germany['OBS_VALUE'], data_ireland['OBS_VALUE'], data_spain['OBS_VALUE'])\n",
    "\n",
    "\n",
    "print(f\"Results of ANOVA test:\\n The F-statistic is: {fvalue}\\n The p-value is: {'p=%.8f' %pvalue}\")\n",
    "\n",
    "if pvalue < 0.05:\n",
    "    print(\"Reject null hypothesis. H₁ accepted\")\n",
    "else:\n",
    "    print(\"Fail to reject null hypothesis. Results are not significant\") "
   ]
  },
  {
   "cell_type": "markdown",
   "id": "26954b28",
   "metadata": {},
   "source": [
    "### Non paramteric tests\n",
    "Ref: https://machinelearningmastery.com/nonparametric-statistical-significance-tests-in-python/\n",
    "#### Wilcoxon signed-rank test\n",
    "Let's compare data between 2000 and 2022, is there a difference?\n",
    "- H0: The median difference between pairs of observations is zero\n",
    "- H1: The median difference between pairs of observations is NOT zero"
   ]
  },
  {
   "cell_type": "code",
   "execution_count": 119,
   "id": "d1f2910c",
   "metadata": {},
   "outputs": [],
   "source": [
    "# extracting date\n",
    "df_wilcox = wages_salaries[wages_salaries['TIME_PERIOD'].isin([2000, 2022])]"
   ]
  },
  {
   "cell_type": "code",
   "execution_count": 121,
   "id": "a7e84b0c",
   "metadata": {},
   "outputs": [
    {
     "data": {
      "text/plain": [
       "array([2000, 2022], dtype=int64)"
      ]
     },
     "execution_count": 121,
     "metadata": {},
     "output_type": "execute_result"
    }
   ],
   "source": [
    "df_wilcox['TIME_PERIOD'].unique()"
   ]
  },
  {
   "cell_type": "code",
   "execution_count": 122,
   "id": "d076f933",
   "metadata": {},
   "outputs": [
    {
     "data": {
      "text/plain": [
       "Index(['unit', 'lcstruct', 'nace_r2', 'geo', 'TIME_PERIOD', 'OBS_VALUE',\n",
       "       'iso3'],\n",
       "      dtype='object')"
      ]
     },
     "execution_count": 122,
     "metadata": {},
     "output_type": "execute_result"
    }
   ],
   "source": [
    "df_wilcox.columns"
   ]
  },
  {
   "cell_type": "code",
   "execution_count": 124,
   "id": "73b33dfe",
   "metadata": {},
   "outputs": [],
   "source": [
    "df_wilcox.drop(['unit', 'lcstruct', 'nace_r2', 'iso3'], 1, inplace=True)"
   ]
  },
  {
   "cell_type": "code",
   "execution_count": 125,
   "id": "07061915",
   "metadata": {},
   "outputs": [
    {
     "data": {
      "text/html": [
       "<div>\n",
       "<style scoped>\n",
       "    .dataframe tbody tr th:only-of-type {\n",
       "        vertical-align: middle;\n",
       "    }\n",
       "\n",
       "    .dataframe tbody tr th {\n",
       "        vertical-align: top;\n",
       "    }\n",
       "\n",
       "    .dataframe thead th {\n",
       "        text-align: right;\n",
       "    }\n",
       "</style>\n",
       "<table border=\"1\" class=\"dataframe\">\n",
       "  <thead>\n",
       "    <tr style=\"text-align: right;\">\n",
       "      <th></th>\n",
       "      <th>geo</th>\n",
       "      <th>TIME_PERIOD</th>\n",
       "      <th>OBS_VALUE</th>\n",
       "    </tr>\n",
       "  </thead>\n",
       "  <tbody>\n",
       "    <tr>\n",
       "      <th>1776</th>\n",
       "      <td>LT</td>\n",
       "      <td>2000</td>\n",
       "      <td>1.7</td>\n",
       "    </tr>\n",
       "    <tr>\n",
       "      <th>1752</th>\n",
       "      <td>IE</td>\n",
       "      <td>2000</td>\n",
       "      <td>13.8</td>\n",
       "    </tr>\n",
       "    <tr>\n",
       "      <th>1831</th>\n",
       "      <td>PT</td>\n",
       "      <td>2000</td>\n",
       "      <td>5.6</td>\n",
       "    </tr>\n",
       "    <tr>\n",
       "      <th>1657</th>\n",
       "      <td>DK</td>\n",
       "      <td>2000</td>\n",
       "      <td>23.8</td>\n",
       "    </tr>\n",
       "    <tr>\n",
       "      <th>1697</th>\n",
       "      <td>ES</td>\n",
       "      <td>2000</td>\n",
       "      <td>8.9</td>\n",
       "    </tr>\n",
       "  </tbody>\n",
       "</table>\n",
       "</div>"
      ],
      "text/plain": [
       "     geo  TIME_PERIOD  OBS_VALUE\n",
       "1776  LT         2000        1.7\n",
       "1752  IE         2000       13.8\n",
       "1831  PT         2000        5.6\n",
       "1657  DK         2000       23.8\n",
       "1697  ES         2000        8.9"
      ]
     },
     "execution_count": 125,
     "metadata": {},
     "output_type": "execute_result"
    }
   ],
   "source": [
    "df_wilcox.head()"
   ]
  },
  {
   "cell_type": "code",
   "execution_count": 131,
   "id": "df375bbf",
   "metadata": {},
   "outputs": [
    {
     "data": {
      "text/html": [
       "<div>\n",
       "<style scoped>\n",
       "    .dataframe tbody tr th:only-of-type {\n",
       "        vertical-align: middle;\n",
       "    }\n",
       "\n",
       "    .dataframe tbody tr th {\n",
       "        vertical-align: top;\n",
       "    }\n",
       "\n",
       "    .dataframe thead th {\n",
       "        text-align: right;\n",
       "    }\n",
       "</style>\n",
       "<table border=\"1\" class=\"dataframe\">\n",
       "  <thead>\n",
       "    <tr style=\"text-align: right;\">\n",
       "      <th></th>\n",
       "      <th>geo</th>\n",
       "      <th>2000</th>\n",
       "      <th>2022</th>\n",
       "    </tr>\n",
       "  </thead>\n",
       "  <tbody>\n",
       "    <tr>\n",
       "      <th>0</th>\n",
       "      <td>AT</td>\n",
       "      <td>17.1</td>\n",
       "      <td>26.2</td>\n",
       "    </tr>\n",
       "    <tr>\n",
       "      <th>1</th>\n",
       "      <td>BE</td>\n",
       "      <td>14.1</td>\n",
       "      <td>27.0</td>\n",
       "    </tr>\n",
       "    <tr>\n",
       "      <th>2</th>\n",
       "      <td>BG</td>\n",
       "      <td>0.8</td>\n",
       "      <td>5.6</td>\n",
       "    </tr>\n",
       "    <tr>\n",
       "      <th>4</th>\n",
       "      <td>CZ</td>\n",
       "      <td>2.6</td>\n",
       "      <td>11.2</td>\n",
       "    </tr>\n",
       "    <tr>\n",
       "      <th>5</th>\n",
       "      <td>DE</td>\n",
       "      <td>16.2</td>\n",
       "      <td>26.7</td>\n",
       "    </tr>\n",
       "  </tbody>\n",
       "</table>\n",
       "</div>"
      ],
      "text/plain": [
       "  geo  2000  2022\n",
       "0  AT  17.1  26.2\n",
       "1  BE  14.1  27.0\n",
       "2  BG   0.8   5.6\n",
       "4  CZ   2.6  11.2\n",
       "5  DE  16.2  26.7"
      ]
     },
     "execution_count": 131,
     "metadata": {},
     "output_type": "execute_result"
    }
   ],
   "source": [
    "df = df_wilcox.pivot(index='geo', columns='TIME_PERIOD')['OBS_VALUE'].reset_index()\n",
    "df.columns.name = None\n",
    "df=df.dropna()\n",
    "df.head()"
   ]
  },
  {
   "cell_type": "code",
   "execution_count": 135,
   "id": "a9dfb273",
   "metadata": {},
   "outputs": [
    {
     "name": "stdout",
     "output_type": "stream",
     "text": [
      "ShapiroResult(statistic=0.9044309854507446, pvalue=0.03649101033806801)\n",
      "Ha(Rejected): Sample is not from a normal distribution\n"
     ]
    }
   ],
   "source": [
    "# distribution\n",
    "shapiro_wilk(df[2000])"
   ]
  },
  {
   "cell_type": "code",
   "execution_count": 136,
   "id": "f6aea080",
   "metadata": {},
   "outputs": [
    {
     "name": "stdout",
     "output_type": "stream",
     "text": [
      "ShapiroResult(statistic=0.9156904220581055, pvalue=0.06193090230226517)\n",
      "Ho(Accepted): Sample is from a normal distribution.(P>0.05)\n"
     ]
    }
   ],
   "source": [
    "shapiro_wilk(df[2022])"
   ]
  },
  {
   "cell_type": "code",
   "execution_count": 141,
   "id": "269c38a6",
   "metadata": {},
   "outputs": [],
   "source": [
    "# not a good candidate for this test!"
   ]
  },
  {
   "cell_type": "code",
   "execution_count": 140,
   "id": "2717cafa",
   "metadata": {},
   "outputs": [
    {
     "name": "stdout",
     "output_type": "stream",
     "text": [
      "Statistics=0.00000000, p=0.00000048\n",
      "The median difference between pairs of observation is NOT zero (reject H0)\n"
     ]
    }
   ],
   "source": [
    "stat, p = stats.wilcoxon(df[2000], df[2022])\n",
    "print('Statistics=%.8f, p=%.8f' % (stat, p))\n",
    "\n",
    "alpha = 0.05\n",
    "if p > alpha:\n",
    "    print('The median difference between pairs of observation is zero (accept H0)')\n",
    "else:\n",
    "    print('The median difference between pairs of observation is NOT zero (reject H0)')"
   ]
  },
  {
   "cell_type": "markdown",
   "id": "02cfd290",
   "metadata": {},
   "source": [
    "#### Mann-Whitney U Test (ie vs esp)"
   ]
  },
  {
   "cell_type": "code",
   "execution_count": 142,
   "id": "6ac9e2c7",
   "metadata": {},
   "outputs": [
    {
     "name": "stdout",
     "output_type": "stream",
     "text": [
      "Statistics=43.00000000, p=0.62304553\n",
      "Same distribution (Accept H0)\n"
     ]
    }
   ],
   "source": [
    "stat, p = stats.mannwhitneyu(ie_sampled, esp_sampled)\n",
    "print('Statistics=%.8f, p=%.8f' % (stat, p))\n",
    "\n",
    "alpha = 0.05\n",
    "if p > alpha:\n",
    "    print('Same distribution (Accept H0)')\n",
    "else:\n",
    "    print('Different distribution (reject H0)')"
   ]
  },
  {
   "cell_type": "markdown",
   "id": "820e77df",
   "metadata": {},
   "source": [
    "#### Kruskal-Wallis H Test\n",
    "Are sample distributions of ie, esp, germany equal?"
   ]
  },
  {
   "cell_type": "code",
   "execution_count": 143,
   "id": "b06aa142",
   "metadata": {},
   "outputs": [
    {
     "name": "stdout",
     "output_type": "stream",
     "text": [
      "Statistics=0.96781588, p=0.61636994\n",
      "Mean ranks of the groups are the same (Accept H0)\n"
     ]
    }
   ],
   "source": [
    "stat, p = stats.kruskal(data_germany['OBS_VALUE'], data_ireland['OBS_VALUE'], data_spain['OBS_VALUE'])\n",
    "\n",
    "print('Statistics=%.8f, p=%.8f' % (stat, p))\n",
    "\n",
    "alpha = 0.05\n",
    "\n",
    "if p > alpha:\n",
    "    print('Mean ranks of the groups are the same (Accept H0)')\n",
    "else:\n",
    "    print('Mean ranks of the groups are not the same (reject H0)')"
   ]
  },
  {
   "cell_type": "code",
   "execution_count": null,
   "id": "04d9f2d4",
   "metadata": {},
   "outputs": [],
   "source": []
  }
 ],
 "metadata": {
  "kernelspec": {
   "display_name": "Python 3 (ipykernel)",
   "language": "python",
   "name": "python3"
  },
  "language_info": {
   "codemirror_mode": {
    "name": "ipython",
    "version": 3
   },
   "file_extension": ".py",
   "mimetype": "text/x-python",
   "name": "python",
   "nbconvert_exporter": "python",
   "pygments_lexer": "ipython3",
   "version": "3.9.7"
  }
 },
 "nbformat": 4,
 "nbformat_minor": 5
}
