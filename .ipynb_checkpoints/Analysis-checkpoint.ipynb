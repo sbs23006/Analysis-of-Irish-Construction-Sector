{
 "cells": [
  {
   "cell_type": "code",
   "execution_count": 221,
   "id": "e8b371ea",
   "metadata": {},
   "outputs": [],
   "source": [
    "import json\n",
    "from utils import *\n",
    "%matplotlib inline"
   ]
  },
  {
   "cell_type": "markdown",
   "id": "c01fb7c1",
   "metadata": {},
   "source": [
    "## 1. Business understanding - dataset explorations"
   ]
  },
  {
   "cell_type": "markdown",
   "id": "3aed8ce7",
   "metadata": {},
   "source": [
    "### Production index"
   ]
  },
  {
   "cell_type": "code",
   "execution_count": 55,
   "id": "9d19c2bc",
   "metadata": {},
   "outputs": [
    {
     "data": {
      "text/html": [
       "<div>\n",
       "<style scoped>\n",
       "    .dataframe tbody tr th:only-of-type {\n",
       "        vertical-align: middle;\n",
       "    }\n",
       "\n",
       "    .dataframe tbody tr th {\n",
       "        vertical-align: top;\n",
       "    }\n",
       "\n",
       "    .dataframe thead th {\n",
       "        text-align: right;\n",
       "    }\n",
       "</style>\n",
       "<table border=\"1\" class=\"dataframe\">\n",
       "  <thead>\n",
       "    <tr style=\"text-align: right;\">\n",
       "      <th></th>\n",
       "      <th>Statistic Label</th>\n",
       "      <th>Year</th>\n",
       "      <th>Type of Building and Construction</th>\n",
       "      <th>UNIT</th>\n",
       "      <th>VALUE</th>\n",
       "    </tr>\n",
       "  </thead>\n",
       "  <tbody>\n",
       "    <tr>\n",
       "      <th>0</th>\n",
       "      <td>Value of Production Index in Building and Cons...</td>\n",
       "      <td>2000</td>\n",
       "      <td>All building and construction</td>\n",
       "      <td>Base 2015=100</td>\n",
       "      <td>155.852221</td>\n",
       "    </tr>\n",
       "    <tr>\n",
       "      <th>1</th>\n",
       "      <td>Value of Production Index in Building and Cons...</td>\n",
       "      <td>2000</td>\n",
       "      <td>Building (excluding civil engineering)</td>\n",
       "      <td>Base 2015=100</td>\n",
       "      <td>199.844255</td>\n",
       "    </tr>\n",
       "    <tr>\n",
       "      <th>2</th>\n",
       "      <td>Value of Production Index in Building and Cons...</td>\n",
       "      <td>2000</td>\n",
       "      <td>Residential building</td>\n",
       "      <td>Base 2015=100</td>\n",
       "      <td>311.698160</td>\n",
       "    </tr>\n",
       "    <tr>\n",
       "      <th>3</th>\n",
       "      <td>Value of Production Index in Building and Cons...</td>\n",
       "      <td>2000</td>\n",
       "      <td>Non-residential building</td>\n",
       "      <td>Base 2015=100</td>\n",
       "      <td>121.431248</td>\n",
       "    </tr>\n",
       "    <tr>\n",
       "      <th>4</th>\n",
       "      <td>Value of Production Index in Building and Cons...</td>\n",
       "      <td>2000</td>\n",
       "      <td>Civil engineering</td>\n",
       "      <td>Base 2015=100</td>\n",
       "      <td>63.619979</td>\n",
       "    </tr>\n",
       "  </tbody>\n",
       "</table>\n",
       "</div>"
      ],
      "text/plain": [
       "                                     Statistic Label  Year  \\\n",
       "0  Value of Production Index in Building and Cons...  2000   \n",
       "1  Value of Production Index in Building and Cons...  2000   \n",
       "2  Value of Production Index in Building and Cons...  2000   \n",
       "3  Value of Production Index in Building and Cons...  2000   \n",
       "4  Value of Production Index in Building and Cons...  2000   \n",
       "\n",
       "        Type of Building and Construction           UNIT       VALUE  \n",
       "0           All building and construction  Base 2015=100  155.852221  \n",
       "1  Building (excluding civil engineering)  Base 2015=100  199.844255  \n",
       "2                    Residential building  Base 2015=100  311.698160  \n",
       "3                Non-residential building  Base 2015=100  121.431248  \n",
       "4                       Civil engineering  Base 2015=100   63.619979  "
      ]
     },
     "execution_count": 55,
     "metadata": {},
     "output_type": "execute_result"
    }
   ],
   "source": [
    "production = pd.read_csv('data/BEA04.20230506T200502.csv')\n",
    "production.head()"
   ]
  },
  {
   "cell_type": "code",
   "execution_count": 56,
   "id": "49604d91",
   "metadata": {},
   "outputs": [
    {
     "data": {
      "text/plain": [
       "array(['Value of Production Index in Building and Construction',\n",
       "       'Volume of Production Index in Building and Construction',\n",
       "       'Value of Production Index in Building and Construction (Seasonally Adjusted)',\n",
       "       'Volume of Production Index in Building and Construction (Seasonally Adjusted)'],\n",
       "      dtype=object)"
      ]
     },
     "execution_count": 56,
     "metadata": {},
     "output_type": "execute_result"
    }
   ],
   "source": [
    "production['Statistic Label'].unique()"
   ]
  },
  {
   "cell_type": "code",
   "execution_count": 141,
   "id": "bbfe193b",
   "metadata": {},
   "outputs": [],
   "source": [
    "prod_volume = production[production['Statistic Label']=='Volume of Production Index in Building and Construction']"
   ]
  },
  {
   "cell_type": "code",
   "execution_count": 162,
   "id": "3d5e2b2f",
   "metadata": {},
   "outputs": [
    {
     "data": {
      "image/png": "[encoded data removed]",
      "text/plain": [
       "<Figure size 1080x288 with 1 Axes>"
      ]
     },
     "metadata": {
      "needs_background": "light"
     },
     "output_type": "display_data"
    }
   ],
   "source": [
    "import seaborn as sns\n",
    "g = sns.barplot(data=prod_volume, y='VALUE', x='Year', hue='Type of Building and Construction');\n",
    "plt.gcf().set_figwidth(15)"
   ]
  },
  {
   "cell_type": "code",
   "execution_count": 41,
   "id": "44b6e943",
   "metadata": {},
   "outputs": [],
   "source": [
    "# I can take Value of Production Index in Building and Construction for All building\n",
    "# predict with array of next 10 years"
   ]
  },
  {
   "cell_type": "markdown",
   "id": "805f63f8",
   "metadata": {},
   "source": [
    "### Index of employment"
   ]
  },
  {
   "cell_type": "markdown",
   "id": "95508120",
   "metadata": {},
   "source": [
    "Downloading json file using REST request and processing the data in a not-csv format"
   ]
  },
  {
   "cell_type": "code",
   "execution_count": 105,
   "id": "10ee3522",
   "metadata": {},
   "outputs": [
    {
     "data": {
      "text/plain": [
       "dict_keys(['class', 'dimension', 'extension', 'href', 'id', 'label', 'link', 'note', 'role', 'size', 'updated', 'value', 'version'])"
      ]
     },
     "execution_count": 105,
     "metadata": {},
     "output_type": "execute_result"
    }
   ],
   "source": [
    "## json \n",
    "import requests\n",
    "\n",
    "# CSO URL dataset\n",
    "url = 'https://ws.cso.ie/public/api.restful/PxStat.Data.Cube_API.ReadDataset/BBA02/JSON-stat/2.0/en'\n",
    "\n",
    "# Download the file and save it to the current directory\n",
    "response = requests.get(url)\n",
    "with open('BBA02.json', 'w', encoding='utf-8') as f:\n",
    "    f.write(response.text)\n",
    "    \n",
    "# Load the JSON file \n",
    "file = 'BBA02.json'\n",
    "with open(file, 'r', encoding='utf-8') as f:\n",
    "    file_str = f.read()\n",
    "    \n",
    "data = json.loads(file_str)\n",
    "data.keys()"
   ]
  },
  {
   "cell_type": "code",
   "execution_count": 163,
   "id": "e8652d2b",
   "metadata": {},
   "outputs": [
    {
     "data": {
      "text/plain": [
       "dict_keys(['STATISTIC', 'C02196V02652', 'TLIST(A1)'])"
      ]
     },
     "execution_count": 163,
     "metadata": {},
     "output_type": "execute_result"
    }
   ],
   "source": [
    "# let's explore the shape of this file to identify needed values\n",
    "data['dimension'].keys()"
   ]
  },
  {
   "cell_type": "code",
   "execution_count": 107,
   "id": "6c98db02",
   "metadata": {},
   "outputs": [
    {
     "data": {
      "text/plain": [
       "{'category': {'index': ['1975',\n",
       "   '1976',\n",
       "   '1977',\n",
       "   '1978',\n",
       "   '1979',\n",
       "   '1980',\n",
       "   '1981',\n",
       "   '1982',\n",
       "   '1983',\n",
       "   '1984',\n",
       "   '1985',\n",
       "   '1986',\n",
       "   '1987',\n",
       "   '1988',\n",
       "   '1989',\n",
       "   '1990',\n",
       "   '1991',\n",
       "   '1992',\n",
       "   '1993',\n",
       "   '1994',\n",
       "   '1995',\n",
       "   '1996',\n",
       "   '1997',\n",
       "   '1998',\n",
       "   '1999',\n",
       "   '2000',\n",
       "   '2001',\n",
       "   '2002',\n",
       "   '2003',\n",
       "   '2004',\n",
       "   '2005',\n",
       "   '2006',\n",
       "   '2007',\n",
       "   '2008'],\n",
       "  'label': {'1975': '1975',\n",
       "   '1976': '1976',\n",
       "   '1977': '1977',\n",
       "   '1978': '1978',\n",
       "   '1979': '1979',\n",
       "   '1980': '1980',\n",
       "   '1981': '1981',\n",
       "   '1982': '1982',\n",
       "   '1983': '1983',\n",
       "   '1984': '1984',\n",
       "   '1985': '1985',\n",
       "   '1986': '1986',\n",
       "   '1987': '1987',\n",
       "   '1988': '1988',\n",
       "   '1989': '1989',\n",
       "   '1990': '1990',\n",
       "   '1991': '1991',\n",
       "   '1992': '1992',\n",
       "   '1993': '1993',\n",
       "   '1994': '1994',\n",
       "   '1995': '1995',\n",
       "   '1996': '1996',\n",
       "   '1997': '1997',\n",
       "   '1998': '1998',\n",
       "   '1999': '1999',\n",
       "   '2000': '2000',\n",
       "   '2001': '2001',\n",
       "   '2002': '2002',\n",
       "   '2003': '2003',\n",
       "   '2004': '2004',\n",
       "   '2005': '2005',\n",
       "   '2006': '2006',\n",
       "   '2007': '2007',\n",
       "   '2008': '2008'}},\n",
       " 'label': 'Year'}"
      ]
     },
     "execution_count": 107,
     "metadata": {},
     "output_type": "execute_result"
    }
   ],
   "source": [
    "data['dimension']['TLIST(A1)']"
   ]
  },
  {
   "cell_type": "code",
   "execution_count": 108,
   "id": "0b791d42",
   "metadata": {},
   "outputs": [
    {
     "data": {
      "text/html": [
       "<div>\n",
       "<style scoped>\n",
       "    .dataframe tbody tr th:only-of-type {\n",
       "        vertical-align: middle;\n",
       "    }\n",
       "\n",
       "    .dataframe tbody tr th {\n",
       "        vertical-align: top;\n",
       "    }\n",
       "\n",
       "    .dataframe thead th {\n",
       "        text-align: right;\n",
       "    }\n",
       "</style>\n",
       "<table border=\"1\" class=\"dataframe\">\n",
       "  <thead>\n",
       "    <tr style=\"text-align: right;\">\n",
       "      <th></th>\n",
       "      <th>1975</th>\n",
       "      <th>1976</th>\n",
       "      <th>1977</th>\n",
       "      <th>1978</th>\n",
       "      <th>1979</th>\n",
       "      <th>1980</th>\n",
       "      <th>1981</th>\n",
       "      <th>1982</th>\n",
       "      <th>1983</th>\n",
       "      <th>1984</th>\n",
       "      <th>...</th>\n",
       "      <th>1999</th>\n",
       "      <th>2000</th>\n",
       "      <th>2001</th>\n",
       "      <th>2002</th>\n",
       "      <th>2003</th>\n",
       "      <th>2004</th>\n",
       "      <th>2005</th>\n",
       "      <th>2006</th>\n",
       "      <th>2007</th>\n",
       "      <th>2008</th>\n",
       "    </tr>\n",
       "  </thead>\n",
       "  <tbody>\n",
       "    <tr>\n",
       "      <th>0</th>\n",
       "      <td>1975</td>\n",
       "      <td>1976</td>\n",
       "      <td>1977</td>\n",
       "      <td>1978</td>\n",
       "      <td>1979</td>\n",
       "      <td>1980</td>\n",
       "      <td>1981</td>\n",
       "      <td>1982</td>\n",
       "      <td>1983</td>\n",
       "      <td>1984</td>\n",
       "      <td>...</td>\n",
       "      <td>1999</td>\n",
       "      <td>2000</td>\n",
       "      <td>2001</td>\n",
       "      <td>2002</td>\n",
       "      <td>2003</td>\n",
       "      <td>2004</td>\n",
       "      <td>2005</td>\n",
       "      <td>2006</td>\n",
       "      <td>2007</td>\n",
       "      <td>2008</td>\n",
       "    </tr>\n",
       "  </tbody>\n",
       "</table>\n",
       "<p>1 rows × 34 columns</p>\n",
       "</div>"
      ],
      "text/plain": [
       "   1975  1976  1977  1978  1979  1980  1981  1982  1983  1984  ...  1999  \\\n",
       "0  1975  1976  1977  1978  1979  1980  1981  1982  1983  1984  ...  1999   \n",
       "\n",
       "   2000  2001  2002  2003  2004  2005  2006  2007  2008  \n",
       "0  2000  2001  2002  2003  2004  2005  2006  2007  2008  \n",
       "\n",
       "[1 rows x 34 columns]"
      ]
     },
     "execution_count": 108,
     "metadata": {},
     "output_type": "execute_result"
    }
   ],
   "source": [
    "pindex = pd.json_normalize(data['dimension']['TLIST(A1)']['category']['label'])\n",
    "pindex.head(10)"
   ]
  },
  {
   "cell_type": "code",
   "execution_count": 109,
   "id": "36023013",
   "metadata": {},
   "outputs": [],
   "source": [
    "pindex = pindex.T"
   ]
  },
  {
   "cell_type": "code",
   "execution_count": 110,
   "id": "a5f6c7a2",
   "metadata": {},
   "outputs": [
    {
     "data": {
      "text/plain": [
       "[133.2,\n",
       " 128.1,\n",
       " 134.8,\n",
       " 147.0,\n",
       " 158.8,\n",
       " 156.1,\n",
       " 152.9,\n",
       " 135.6,\n",
       " 110.7,\n",
       " 101.1,\n",
       " 87.1,\n",
       " 75.7,\n",
       " 64.9,\n",
       " 60.5,\n",
       " 66.7,\n",
       " 72.2,\n",
       " 69.8,\n",
       " 68.4,\n",
       " 64.3,\n",
       " 65.9,\n",
       " 68.8,\n",
       " 74.4,\n",
       " 81.4,\n",
       " 88.5,\n",
       " 94.2,\n",
       " 100.0,\n",
       " 101.7,\n",
       " 99.3,\n",
       " 99.8,\n",
       " 103.2,\n",
       " 107.0,\n",
       " 109.6,\n",
       " 107.5,\n",
       " 90.7]"
      ]
     },
     "execution_count": 110,
     "metadata": {},
     "output_type": "execute_result"
    }
   ],
   "source": [
    "values = data['value']\n",
    "values"
   ]
  },
  {
   "cell_type": "code",
   "execution_count": 111,
   "id": "e01054e3",
   "metadata": {},
   "outputs": [
    {
     "data": {
      "text/html": [
       "<div>\n",
       "<style scoped>\n",
       "    .dataframe tbody tr th:only-of-type {\n",
       "        vertical-align: middle;\n",
       "    }\n",
       "\n",
       "    .dataframe tbody tr th {\n",
       "        vertical-align: top;\n",
       "    }\n",
       "\n",
       "    .dataframe thead th {\n",
       "        text-align: right;\n",
       "    }\n",
       "</style>\n",
       "<table border=\"1\" class=\"dataframe\">\n",
       "  <thead>\n",
       "    <tr style=\"text-align: right;\">\n",
       "      <th></th>\n",
       "      <th>0</th>\n",
       "      <th>value</th>\n",
       "    </tr>\n",
       "  </thead>\n",
       "  <tbody>\n",
       "    <tr>\n",
       "      <th>1975</th>\n",
       "      <td>1975</td>\n",
       "      <td>133.2</td>\n",
       "    </tr>\n",
       "    <tr>\n",
       "      <th>1976</th>\n",
       "      <td>1976</td>\n",
       "      <td>128.1</td>\n",
       "    </tr>\n",
       "    <tr>\n",
       "      <th>1977</th>\n",
       "      <td>1977</td>\n",
       "      <td>134.8</td>\n",
       "    </tr>\n",
       "    <tr>\n",
       "      <th>1978</th>\n",
       "      <td>1978</td>\n",
       "      <td>147.0</td>\n",
       "    </tr>\n",
       "    <tr>\n",
       "      <th>1979</th>\n",
       "      <td>1979</td>\n",
       "      <td>158.8</td>\n",
       "    </tr>\n",
       "  </tbody>\n",
       "</table>\n",
       "</div>"
      ],
      "text/plain": [
       "         0  value\n",
       "1975  1975  133.2\n",
       "1976  1976  128.1\n",
       "1977  1977  134.8\n",
       "1978  1978  147.0\n",
       "1979  1979  158.8"
      ]
     },
     "execution_count": 111,
     "metadata": {},
     "output_type": "execute_result"
    }
   ],
   "source": [
    "pindex['value'] = values\n",
    "pindex.head()"
   ]
  },
  {
   "cell_type": "code",
   "execution_count": 112,
   "id": "e5281b4d",
   "metadata": {},
   "outputs": [
    {
     "data": {
      "text/plain": [
       "Index([0, 'value'], dtype='object')"
      ]
     },
     "execution_count": 112,
     "metadata": {},
     "output_type": "execute_result"
    }
   ],
   "source": [
    "pindex.columns"
   ]
  },
  {
   "cell_type": "code",
   "execution_count": 113,
   "id": "4d333af4",
   "metadata": {},
   "outputs": [
    {
     "data": {
      "text/html": [
       "<div>\n",
       "<style scoped>\n",
       "    .dataframe tbody tr th:only-of-type {\n",
       "        vertical-align: middle;\n",
       "    }\n",
       "\n",
       "    .dataframe tbody tr th {\n",
       "        vertical-align: top;\n",
       "    }\n",
       "\n",
       "    .dataframe thead th {\n",
       "        text-align: right;\n",
       "    }\n",
       "</style>\n",
       "<table border=\"1\" class=\"dataframe\">\n",
       "  <thead>\n",
       "    <tr style=\"text-align: right;\">\n",
       "      <th></th>\n",
       "      <th>value</th>\n",
       "    </tr>\n",
       "  </thead>\n",
       "  <tbody>\n",
       "    <tr>\n",
       "      <th>1975</th>\n",
       "      <td>133.2</td>\n",
       "    </tr>\n",
       "    <tr>\n",
       "      <th>1976</th>\n",
       "      <td>128.1</td>\n",
       "    </tr>\n",
       "    <tr>\n",
       "      <th>1977</th>\n",
       "      <td>134.8</td>\n",
       "    </tr>\n",
       "    <tr>\n",
       "      <th>1978</th>\n",
       "      <td>147.0</td>\n",
       "    </tr>\n",
       "    <tr>\n",
       "      <th>1979</th>\n",
       "      <td>158.8</td>\n",
       "    </tr>\n",
       "  </tbody>\n",
       "</table>\n",
       "</div>"
      ],
      "text/plain": [
       "      value\n",
       "1975  133.2\n",
       "1976  128.1\n",
       "1977  134.8\n",
       "1978  147.0\n",
       "1979  158.8"
      ]
     },
     "execution_count": 113,
     "metadata": {},
     "output_type": "execute_result"
    }
   ],
   "source": [
    "del pindex[0]\n",
    "pindex.head()"
   ]
  },
  {
   "cell_type": "code",
   "execution_count": 137,
   "id": "d80fa2ab",
   "metadata": {},
   "outputs": [
    {
     "data": {
      "text/plain": [
       "array(['1975', '1976', '1977', '1978', '1979', '1980', '1981', '1982',\n",
       "       '1983', '1984', '1985', '1986', '1987', '1988', '1989', '1990',\n",
       "       '1991', '1992', '1993', '1994', '1995', '1996', '1997', '1998',\n",
       "       '1999', '2000', '2001', '2002', '2003', '2004', '2005', '2006',\n",
       "       '2007', '2008'], dtype=object)"
      ]
     },
     "execution_count": 137,
     "metadata": {},
     "output_type": "execute_result"
    }
   ],
   "source": [
    "pindex.index.values"
   ]
  },
  {
   "cell_type": "code",
   "execution_count": 139,
   "id": "9d8bcb59",
   "metadata": {},
   "outputs": [
    {
     "data": {
      "image/png": "[encoded data removed]",
      "text/plain": [
       "<Figure size 1080x288 with 1 Axes>"
      ]
     },
     "metadata": {
      "needs_background": "light"
     },
     "output_type": "display_data"
    }
   ],
   "source": [
    "import matplotlib.pyplot as plt\n",
    "pindex.plot(kind='line', title='Annual Average Index of Employment in Building and Construction Industry');\n",
    "#plt.xticks(pindex.index.values) # to show each x coordinate TODO fix\n",
    "plt.gcf().set_figwidth(15)"
   ]
  },
  {
   "cell_type": "markdown",
   "id": "1bbac18d",
   "metadata": {},
   "source": [
    "### Enterprises"
   ]
  },
  {
   "cell_type": "code",
   "execution_count": 165,
   "id": "46214d5d",
   "metadata": {},
   "outputs": [
    {
     "data": {
      "text/html": [
       "<div>\n",
       "<style scoped>\n",
       "    .dataframe tbody tr th:only-of-type {\n",
       "        vertical-align: middle;\n",
       "    }\n",
       "\n",
       "    .dataframe tbody tr th {\n",
       "        vertical-align: top;\n",
       "    }\n",
       "\n",
       "    .dataframe thead th {\n",
       "        text-align: right;\n",
       "    }\n",
       "</style>\n",
       "<table border=\"1\" class=\"dataframe\">\n",
       "  <thead>\n",
       "    <tr style=\"text-align: right;\">\n",
       "      <th></th>\n",
       "      <th>Statistic Label</th>\n",
       "      <th>Year</th>\n",
       "      <th>Nace Rev 2 Activity</th>\n",
       "      <th>UNIT</th>\n",
       "      <th>VALUE</th>\n",
       "    </tr>\n",
       "  </thead>\n",
       "  <tbody>\n",
       "    <tr>\n",
       "      <th>0</th>\n",
       "      <td>Construction Enterprises</td>\n",
       "      <td>2008</td>\n",
       "      <td>Development of building projects (411)</td>\n",
       "      <td>Number</td>\n",
       "      <td>2416.0</td>\n",
       "    </tr>\n",
       "    <tr>\n",
       "      <th>1</th>\n",
       "      <td>Construction Enterprises</td>\n",
       "      <td>2008</td>\n",
       "      <td>Construction of residential and non-residentia...</td>\n",
       "      <td>Number</td>\n",
       "      <td>13876.0</td>\n",
       "    </tr>\n",
       "    <tr>\n",
       "      <th>2</th>\n",
       "      <td>Construction Enterprises</td>\n",
       "      <td>2008</td>\n",
       "      <td>Construction of roads and railways (421)</td>\n",
       "      <td>Number</td>\n",
       "      <td>1027.0</td>\n",
       "    </tr>\n",
       "    <tr>\n",
       "      <th>3</th>\n",
       "      <td>Construction Enterprises</td>\n",
       "      <td>2008</td>\n",
       "      <td>Construction of utility projects (422)</td>\n",
       "      <td>Number</td>\n",
       "      <td>322.0</td>\n",
       "    </tr>\n",
       "    <tr>\n",
       "      <th>4</th>\n",
       "      <td>Construction Enterprises</td>\n",
       "      <td>2008</td>\n",
       "      <td>Construction of other civil engineering projec...</td>\n",
       "      <td>Number</td>\n",
       "      <td>381.0</td>\n",
       "    </tr>\n",
       "  </tbody>\n",
       "</table>\n",
       "</div>"
      ],
      "text/plain": [
       "            Statistic Label  Year  \\\n",
       "0  Construction Enterprises  2008   \n",
       "1  Construction Enterprises  2008   \n",
       "2  Construction Enterprises  2008   \n",
       "3  Construction Enterprises  2008   \n",
       "4  Construction Enterprises  2008   \n",
       "\n",
       "                                 Nace Rev 2 Activity    UNIT    VALUE  \n",
       "0             Development of building projects (411)  Number   2416.0  \n",
       "1  Construction of residential and non-residentia...  Number  13876.0  \n",
       "2           Construction of roads and railways (421)  Number   1027.0  \n",
       "3             Construction of utility projects (422)  Number    322.0  \n",
       "4  Construction of other civil engineering projec...  Number    381.0  "
      ]
     },
     "execution_count": 165,
     "metadata": {},
     "output_type": "execute_result"
    }
   ],
   "source": [
    "ent = pd.read_csv('data/BAA12.20230506T200513.csv')\n",
    "ent.head()"
   ]
  },
  {
   "cell_type": "code",
   "execution_count": 59,
   "id": "6bfb9ed0",
   "metadata": {},
   "outputs": [
    {
     "name": "stdout",
     "output_type": "stream",
     "text": [
      "['Construction Enterprises' 'Employees - Manual' 'Employees - Other'\n",
      " 'Employees - Total'\n",
      " 'Persons Engaged - Proprietors and Unpaid Family Workers'\n",
      " 'Persons Engaged - Labour only subcontract basis'\n",
      " 'Persons Engaged - Total' 'Wages and Salaries - Manual Employees'\n",
      " 'Wages and Salaries - Other Employees'\n",
      " 'Wages and Salaries - Manual and Other Employees'\n",
      " 'Wages and Salaries - Labour only subcontractors'\n",
      " 'Wages and Salaries - Total' 'Labour Costs - Other'\n",
      " 'Labour Costs - Total' 'Turnover - Principal' 'Turnover - Subcontractor'\n",
      " 'Turnover - Manufacturing' 'Turnover - Factored goods' 'Turnover - Other'\n",
      " 'Turnover - Total' 'Payments to other subcontractors'\n",
      " 'Turnover less payments to subcontractors' 'Assets made for own use'\n",
      " 'Purchases - Materials and energy' 'Purchases - Industrial services'\n",
      " 'Purchases - Factored goods' 'Purchases - Other goods/services'\n",
      " 'Purchases - Total' 'Stocks at end of year - Work in progress'\n",
      " 'Stocks at end of year - Unsold finished work'\n",
      " 'Stocks at end of year - Materials and energy'\n",
      " 'Stocks at end of year - Factored goods' 'Stocks at end of year - Total'\n",
      " 'Stock changes - Work in progress' 'Stock changes - Unsold finished work'\n",
      " 'Stock changes - Materials and energy' 'Stock changes - Factored goods'\n",
      " 'Stock changes - Total' 'Capital assets - Acquisitions'\n",
      " 'Capital assets - Sales' 'Production value' 'Intermediate consumption'\n",
      " 'Gross value added at basic prices' 'Gross value added at factor cost']\n",
      "---------\n",
      "['Development of building projects (411)'\n",
      " 'Construction of residential and non-residential buildings (412)'\n",
      " 'Construction of roads and railways (421)'\n",
      " 'Construction of utility projects (422)'\n",
      " 'Construction of other civil engineering projects (429)'\n",
      " 'Demolition and site preparation (431)'\n",
      " 'Electrical, plumbing and other construction installation activities (432)'\n",
      " 'Building completion and finishing (433)'\n",
      " 'Other specialised construction activities (439)'\n",
      " 'Construction (41 to 43)']\n",
      "---------\n",
      "['Number' 'Euro Thousand']\n",
      "---------\n",
      "[2008 2009 2010 2011 2012 2013 2014 2015 2016 2017 2018 2019]\n"
     ]
    }
   ],
   "source": [
    "print(ent['Statistic Label'].unique())\n",
    "print('---------')\n",
    "print(ent['Nace Rev 2 Activity'].unique())\n",
    "print('---------')\n",
    "print(ent['UNIT'].unique())\n",
    "print('---------')\n",
    "print(ent['Year'].unique())"
   ]
  },
  {
   "cell_type": "markdown",
   "id": "fe8266e7",
   "metadata": {},
   "source": [
    "## 2. Feature selection and EDA"
   ]
  },
  {
   "attachments": {},
   "cell_type": "markdown",
   "id": "c92d4e61",
   "metadata": {},
   "source": [
    "We want to predict wages and salaries, we'll keep the total values for the following classes:<br>\n",
    "\t\t○ Persons Engaged - Total\n",
    "\t\t○ Employees - Total\n",
    "\t\t○ Construction Enterprises\n",
    "\t\t○ Wages and Salaries - Total\n",
    "\t\t○ Labour Costs - Total\n",
    "\t\t○ Turnover - Total\n",
    "\t\t○ Purchases - Total\n",
    "\t\t○ Stocks at end of year - Total\n",
    "\t\t○ Stock changes - Total\n",
    "        ○ Production value\n",
    "        ○ Intermediate consumption"
   ]
  },
  {
   "cell_type": "code",
   "execution_count": 166,
   "id": "8e8895ae",
   "metadata": {},
   "outputs": [],
   "source": [
    "# ent['Statistic Label'] = []\n",
    "# ent['Nace Rev 2 Activity'] = 'Construction (41 to 43)'"
   ]
  },
  {
   "cell_type": "code",
   "execution_count": 167,
   "id": "58526d9c",
   "metadata": {},
   "outputs": [],
   "source": [
    "labels = ['Persons Engaged - Total', 'Employees - Total', 'Construction Enterprises', 'Wages and Salaries - Total', \n",
    "        'Labour Costs - Total', 'Turnover - Total', 'Purchases - Total', 'Stocks at end of year - Total', \n",
    "        'Stock changes - Total', 'Production value', 'Intermediate consumption']"
   ]
  },
  {
   "cell_type": "code",
   "execution_count": 211,
   "id": "153eea60",
   "metadata": {},
   "outputs": [],
   "source": [
    "df = ent[ent['Statistic Label'].isin(labels)]"
   ]
  },
  {
   "cell_type": "code",
   "execution_count": 212,
   "id": "8d34af16",
   "metadata": {},
   "outputs": [],
   "source": [
    "df = df[df['Nace Rev 2 Activity'] == 'Construction (41 to 43)']"
   ]
  },
  {
   "cell_type": "code",
   "execution_count": 213,
   "id": "f3c7071d",
   "metadata": {},
   "outputs": [],
   "source": [
    "df.drop(columns=['Nace Rev 2 Activity', 'UNIT'], inplace=True)"
   ]
  },
  {
   "cell_type": "code",
   "execution_count": 214,
   "id": "c57526fc",
   "metadata": {},
   "outputs": [
    {
     "data": {
      "text/html": [
       "<div>\n",
       "<style scoped>\n",
       "    .dataframe tbody tr th:only-of-type {\n",
       "        vertical-align: middle;\n",
       "    }\n",
       "\n",
       "    .dataframe tbody tr th {\n",
       "        vertical-align: top;\n",
       "    }\n",
       "\n",
       "    .dataframe thead th {\n",
       "        text-align: right;\n",
       "    }\n",
       "</style>\n",
       "<table border=\"1\" class=\"dataframe\">\n",
       "  <thead>\n",
       "    <tr style=\"text-align: right;\">\n",
       "      <th></th>\n",
       "      <th>Statistic Label</th>\n",
       "      <th>Year</th>\n",
       "      <th>VALUE</th>\n",
       "    </tr>\n",
       "  </thead>\n",
       "  <tbody>\n",
       "    <tr>\n",
       "      <th>9</th>\n",
       "      <td>Construction Enterprises</td>\n",
       "      <td>2008</td>\n",
       "      <td>61905.0</td>\n",
       "    </tr>\n",
       "    <tr>\n",
       "      <th>19</th>\n",
       "      <td>Construction Enterprises</td>\n",
       "      <td>2009</td>\n",
       "      <td>57472.0</td>\n",
       "    </tr>\n",
       "    <tr>\n",
       "      <th>29</th>\n",
       "      <td>Construction Enterprises</td>\n",
       "      <td>2010</td>\n",
       "      <td>52607.0</td>\n",
       "    </tr>\n",
       "    <tr>\n",
       "      <th>39</th>\n",
       "      <td>Construction Enterprises</td>\n",
       "      <td>2011</td>\n",
       "      <td>50256.0</td>\n",
       "    </tr>\n",
       "    <tr>\n",
       "      <th>49</th>\n",
       "      <td>Construction Enterprises</td>\n",
       "      <td>2012</td>\n",
       "      <td>49530.0</td>\n",
       "    </tr>\n",
       "  </tbody>\n",
       "</table>\n",
       "</div>"
      ],
      "text/plain": [
       "             Statistic Label  Year    VALUE\n",
       "9   Construction Enterprises  2008  61905.0\n",
       "19  Construction Enterprises  2009  57472.0\n",
       "29  Construction Enterprises  2010  52607.0\n",
       "39  Construction Enterprises  2011  50256.0\n",
       "49  Construction Enterprises  2012  49530.0"
      ]
     },
     "execution_count": 214,
     "metadata": {},
     "output_type": "execute_result"
    }
   ],
   "source": [
    "df.head()"
   ]
  },
  {
   "cell_type": "code",
   "execution_count": 215,
   "id": "ad291f84",
   "metadata": {},
   "outputs": [
    {
     "data": {
      "text/html": [
       "<div>\n",
       "<style scoped>\n",
       "    .dataframe tbody tr th:only-of-type {\n",
       "        vertical-align: middle;\n",
       "    }\n",
       "\n",
       "    .dataframe tbody tr th {\n",
       "        vertical-align: top;\n",
       "    }\n",
       "\n",
       "    .dataframe thead th {\n",
       "        text-align: right;\n",
       "    }\n",
       "</style>\n",
       "<table border=\"1\" class=\"dataframe\">\n",
       "  <thead>\n",
       "    <tr style=\"text-align: right;\">\n",
       "      <th></th>\n",
       "      <th>Year</th>\n",
       "      <th>Construction Enterprises</th>\n",
       "      <th>Employees - Total</th>\n",
       "      <th>Intermediate consumption</th>\n",
       "      <th>Labour Costs - Total</th>\n",
       "      <th>Persons Engaged - Total</th>\n",
       "      <th>Production value</th>\n",
       "      <th>Purchases - Total</th>\n",
       "      <th>Stock changes - Total</th>\n",
       "      <th>Stocks at end of year - Total</th>\n",
       "      <th>Turnover - Total</th>\n",
       "      <th>Wages and Salaries - Total</th>\n",
       "    </tr>\n",
       "  </thead>\n",
       "  <tbody>\n",
       "    <tr>\n",
       "      <th>0</th>\n",
       "      <td>2008</td>\n",
       "      <td>61905.0</td>\n",
       "      <td>145740.0</td>\n",
       "      <td>24623781.0</td>\n",
       "      <td>7383211.0</td>\n",
       "      <td>190069.0</td>\n",
       "      <td>35619219.0</td>\n",
       "      <td>NaN</td>\n",
       "      <td>NaN</td>\n",
       "      <td>NaN</td>\n",
       "      <td>38090615.0</td>\n",
       "      <td>6248254.0</td>\n",
       "    </tr>\n",
       "    <tr>\n",
       "      <th>1</th>\n",
       "      <td>2009</td>\n",
       "      <td>57472.0</td>\n",
       "      <td>96249.0</td>\n",
       "      <td>15860338.0</td>\n",
       "      <td>5464978.0</td>\n",
       "      <td>134313.0</td>\n",
       "      <td>19955700.0</td>\n",
       "      <td>NaN</td>\n",
       "      <td>NaN</td>\n",
       "      <td>NaN</td>\n",
       "      <td>24070238.0</td>\n",
       "      <td>4631607.0</td>\n",
       "    </tr>\n",
       "    <tr>\n",
       "      <th>2</th>\n",
       "      <td>2010</td>\n",
       "      <td>52607.0</td>\n",
       "      <td>69777.0</td>\n",
       "      <td>12219217.0</td>\n",
       "      <td>3764831.0</td>\n",
       "      <td>104545.0</td>\n",
       "      <td>14049112.0</td>\n",
       "      <td>NaN</td>\n",
       "      <td>NaN</td>\n",
       "      <td>NaN</td>\n",
       "      <td>17712899.0</td>\n",
       "      <td>3161945.0</td>\n",
       "    </tr>\n",
       "    <tr>\n",
       "      <th>3</th>\n",
       "      <td>2011</td>\n",
       "      <td>50256.0</td>\n",
       "      <td>61197.0</td>\n",
       "      <td>11662303.0</td>\n",
       "      <td>2748647.0</td>\n",
       "      <td>94640.0</td>\n",
       "      <td>13532292.0</td>\n",
       "      <td>NaN</td>\n",
       "      <td>NaN</td>\n",
       "      <td>NaN</td>\n",
       "      <td>15577448.0</td>\n",
       "      <td>2336554.0</td>\n",
       "    </tr>\n",
       "    <tr>\n",
       "      <th>4</th>\n",
       "      <td>2012</td>\n",
       "      <td>49530.0</td>\n",
       "      <td>55736.0</td>\n",
       "      <td>4652157.0</td>\n",
       "      <td>2471185.0</td>\n",
       "      <td>89351.0</td>\n",
       "      <td>7903454.0</td>\n",
       "      <td>NaN</td>\n",
       "      <td>NaN</td>\n",
       "      <td>NaN</td>\n",
       "      <td>8797406.0</td>\n",
       "      <td>2134799.0</td>\n",
       "    </tr>\n",
       "  </tbody>\n",
       "</table>\n",
       "</div>"
      ],
      "text/plain": [
       "   Year  Construction Enterprises  Employees - Total  \\\n",
       "0  2008                   61905.0           145740.0   \n",
       "1  2009                   57472.0            96249.0   \n",
       "2  2010                   52607.0            69777.0   \n",
       "3  2011                   50256.0            61197.0   \n",
       "4  2012                   49530.0            55736.0   \n",
       "\n",
       "   Intermediate consumption  Labour Costs - Total  Persons Engaged - Total  \\\n",
       "0                24623781.0             7383211.0                 190069.0   \n",
       "1                15860338.0             5464978.0                 134313.0   \n",
       "2                12219217.0             3764831.0                 104545.0   \n",
       "3                11662303.0             2748647.0                  94640.0   \n",
       "4                 4652157.0             2471185.0                  89351.0   \n",
       "\n",
       "   Production value  Purchases - Total  Stock changes - Total  \\\n",
       "0        35619219.0                NaN                    NaN   \n",
       "1        19955700.0                NaN                    NaN   \n",
       "2        14049112.0                NaN                    NaN   \n",
       "3        13532292.0                NaN                    NaN   \n",
       "4         7903454.0                NaN                    NaN   \n",
       "\n",
       "   Stocks at end of year - Total  Turnover - Total  Wages and Salaries - Total  \n",
       "0                            NaN        38090615.0                   6248254.0  \n",
       "1                            NaN        24070238.0                   4631607.0  \n",
       "2                            NaN        17712899.0                   3161945.0  \n",
       "3                            NaN        15577448.0                   2336554.0  \n",
       "4                            NaN         8797406.0                   2134799.0  "
      ]
     },
     "execution_count": 215,
     "metadata": {},
     "output_type": "execute_result"
    }
   ],
   "source": [
    "pivoted_df = df.pivot(index='Year', columns='Statistic Label', values='VALUE').reset_index()\n",
    "pivoted_df.columns.name = None\n",
    "pivoted_df.head()"
   ]
  },
  {
   "cell_type": "code",
   "execution_count": 216,
   "id": "716d2e84",
   "metadata": {},
   "outputs": [
    {
     "data": {
      "text/plain": [
       "Year                              0\n",
       "Construction Enterprises          0\n",
       "Employees - Total                 0\n",
       "Intermediate consumption          0\n",
       "Labour Costs - Total              0\n",
       "Persons Engaged - Total           0\n",
       "Production value                  0\n",
       "Purchases - Total                 7\n",
       "Stock changes - Total            12\n",
       "Stocks at end of year - Total    12\n",
       "Turnover - Total                  0\n",
       "Wages and Salaries - Total        0\n",
       "dtype: int64"
      ]
     },
     "execution_count": 216,
     "metadata": {},
     "output_type": "execute_result"
    }
   ],
   "source": [
    "# null values\n",
    "pivoted_df.isnull().sum()"
   ]
  },
  {
   "cell_type": "code",
   "execution_count": 217,
   "id": "f6c71a5b",
   "metadata": {},
   "outputs": [],
   "source": [
    "# 7 years are missing for purchases and 12 for stocks, we can't replace those values so we drop\n",
    "pivoted_df.drop(columns=['Purchases - Total', 'Stock changes - Total', 'Stocks at end of year - Total'], inplace=True)"
   ]
  },
  {
   "cell_type": "code",
   "execution_count": 218,
   "id": "f19d64e4",
   "metadata": {},
   "outputs": [],
   "source": [
    "# rename columns\n",
    "new_columns = {col: col.replace(' - Total', '') for col in pivoted_df.columns if ' - Total' in col}\n",
    "pivoted_df = pivoted_df.rename(columns=new_columns)"
   ]
  },
  {
   "cell_type": "code",
   "execution_count": 219,
   "id": "f7ca93e5",
   "metadata": {},
   "outputs": [
    {
     "data": {
      "text/html": [
       "<div>\n",
       "<style scoped>\n",
       "    .dataframe tbody tr th:only-of-type {\n",
       "        vertical-align: middle;\n",
       "    }\n",
       "\n",
       "    .dataframe tbody tr th {\n",
       "        vertical-align: top;\n",
       "    }\n",
       "\n",
       "    .dataframe thead th {\n",
       "        text-align: right;\n",
       "    }\n",
       "</style>\n",
       "<table border=\"1\" class=\"dataframe\">\n",
       "  <thead>\n",
       "    <tr style=\"text-align: right;\">\n",
       "      <th></th>\n",
       "      <th>Year</th>\n",
       "      <th>Construction Enterprises</th>\n",
       "      <th>Employees</th>\n",
       "      <th>Intermediate consumption</th>\n",
       "      <th>Labour Costs</th>\n",
       "      <th>Persons Engaged</th>\n",
       "      <th>Production value</th>\n",
       "      <th>Turnover</th>\n",
       "      <th>Wages and Salaries</th>\n",
       "    </tr>\n",
       "  </thead>\n",
       "  <tbody>\n",
       "    <tr>\n",
       "      <th>0</th>\n",
       "      <td>2008</td>\n",
       "      <td>61905.0</td>\n",
       "      <td>145740.0</td>\n",
       "      <td>24623781.0</td>\n",
       "      <td>7383211.0</td>\n",
       "      <td>190069.0</td>\n",
       "      <td>35619219.0</td>\n",
       "      <td>38090615.0</td>\n",
       "      <td>6248254.0</td>\n",
       "    </tr>\n",
       "    <tr>\n",
       "      <th>1</th>\n",
       "      <td>2009</td>\n",
       "      <td>57472.0</td>\n",
       "      <td>96249.0</td>\n",
       "      <td>15860338.0</td>\n",
       "      <td>5464978.0</td>\n",
       "      <td>134313.0</td>\n",
       "      <td>19955700.0</td>\n",
       "      <td>24070238.0</td>\n",
       "      <td>4631607.0</td>\n",
       "    </tr>\n",
       "    <tr>\n",
       "      <th>2</th>\n",
       "      <td>2010</td>\n",
       "      <td>52607.0</td>\n",
       "      <td>69777.0</td>\n",
       "      <td>12219217.0</td>\n",
       "      <td>3764831.0</td>\n",
       "      <td>104545.0</td>\n",
       "      <td>14049112.0</td>\n",
       "      <td>17712899.0</td>\n",
       "      <td>3161945.0</td>\n",
       "    </tr>\n",
       "    <tr>\n",
       "      <th>3</th>\n",
       "      <td>2011</td>\n",
       "      <td>50256.0</td>\n",
       "      <td>61197.0</td>\n",
       "      <td>11662303.0</td>\n",
       "      <td>2748647.0</td>\n",
       "      <td>94640.0</td>\n",
       "      <td>13532292.0</td>\n",
       "      <td>15577448.0</td>\n",
       "      <td>2336554.0</td>\n",
       "    </tr>\n",
       "    <tr>\n",
       "      <th>4</th>\n",
       "      <td>2012</td>\n",
       "      <td>49530.0</td>\n",
       "      <td>55736.0</td>\n",
       "      <td>4652157.0</td>\n",
       "      <td>2471185.0</td>\n",
       "      <td>89351.0</td>\n",
       "      <td>7903454.0</td>\n",
       "      <td>8797406.0</td>\n",
       "      <td>2134799.0</td>\n",
       "    </tr>\n",
       "  </tbody>\n",
       "</table>\n",
       "</div>"
      ],
      "text/plain": [
       "   Year  Construction Enterprises  Employees  Intermediate consumption  \\\n",
       "0  2008                   61905.0   145740.0                24623781.0   \n",
       "1  2009                   57472.0    96249.0                15860338.0   \n",
       "2  2010                   52607.0    69777.0                12219217.0   \n",
       "3  2011                   50256.0    61197.0                11662303.0   \n",
       "4  2012                   49530.0    55736.0                 4652157.0   \n",
       "\n",
       "   Labour Costs  Persons Engaged  Production value    Turnover  \\\n",
       "0     7383211.0         190069.0        35619219.0  38090615.0   \n",
       "1     5464978.0         134313.0        19955700.0  24070238.0   \n",
       "2     3764831.0         104545.0        14049112.0  17712899.0   \n",
       "3     2748647.0          94640.0        13532292.0  15577448.0   \n",
       "4     2471185.0          89351.0         7903454.0   8797406.0   \n",
       "\n",
       "   Wages and Salaries  \n",
       "0           6248254.0  \n",
       "1           4631607.0  \n",
       "2           3161945.0  \n",
       "3           2336554.0  \n",
       "4           2134799.0  "
      ]
     },
     "execution_count": 219,
     "metadata": {},
     "output_type": "execute_result"
    }
   ],
   "source": [
    "df = pivoted_df\n",
    "df.head()"
   ]
  },
  {
   "cell_type": "code",
   "execution_count": 259,
   "id": "f2b28969",
   "metadata": {},
   "outputs": [
    {
     "data": {
      "text/plain": [
       "Year                          int64\n",
       "Construction Enterprises    float64\n",
       "Employees                   float64\n",
       "Intermediate consumption    float64\n",
       "Labour Costs                float64\n",
       "Persons Engaged             float64\n",
       "Production value            float64\n",
       "Turnover                    float64\n",
       "Wages and Salaries          float64\n",
       "dtype: object"
      ]
     },
     "execution_count": 259,
     "metadata": {},
     "output_type": "execute_result"
    }
   ],
   "source": [
    "df.dtypes"
   ]
  },
  {
   "cell_type": "code",
   "execution_count": 260,
   "id": "06157445",
   "metadata": {},
   "outputs": [
    {
     "data": {
      "text/plain": [
       "(12, 9)"
      ]
     },
     "execution_count": 260,
     "metadata": {},
     "output_type": "execute_result"
    }
   ],
   "source": [
    "df.shape"
   ]
  },
  {
   "cell_type": "markdown",
   "id": "4e541b78",
   "metadata": {},
   "source": [
    "### Descriptive statistics"
   ]
  },
  {
   "cell_type": "code",
   "execution_count": 220,
   "id": "373e4ec1",
   "metadata": {},
   "outputs": [
    {
     "data": {
      "text/html": [
       "<div>\n",
       "<style scoped>\n",
       "    .dataframe tbody tr th:only-of-type {\n",
       "        vertical-align: middle;\n",
       "    }\n",
       "\n",
       "    .dataframe tbody tr th {\n",
       "        vertical-align: top;\n",
       "    }\n",
       "\n",
       "    .dataframe thead th {\n",
       "        text-align: right;\n",
       "    }\n",
       "</style>\n",
       "<table border=\"1\" class=\"dataframe\">\n",
       "  <thead>\n",
       "    <tr style=\"text-align: right;\">\n",
       "      <th></th>\n",
       "      <th>Year</th>\n",
       "      <th>Construction Enterprises</th>\n",
       "      <th>Employees</th>\n",
       "      <th>Intermediate consumption</th>\n",
       "      <th>Labour Costs</th>\n",
       "      <th>Persons Engaged</th>\n",
       "      <th>Production value</th>\n",
       "      <th>Turnover</th>\n",
       "      <th>Wages and Salaries</th>\n",
       "    </tr>\n",
       "  </thead>\n",
       "  <tbody>\n",
       "    <tr>\n",
       "      <th>count</th>\n",
       "      <td>12.000000</td>\n",
       "      <td>12.000000</td>\n",
       "      <td>12.000000</td>\n",
       "      <td>1.200000e+01</td>\n",
       "      <td>1.200000e+01</td>\n",
       "      <td>12.000000</td>\n",
       "      <td>1.200000e+01</td>\n",
       "      <td>1.200000e+01</td>\n",
       "      <td>1.200000e+01</td>\n",
       "    </tr>\n",
       "    <tr>\n",
       "      <th>mean</th>\n",
       "      <td>2013.500000</td>\n",
       "      <td>53649.250000</td>\n",
       "      <td>86280.666667</td>\n",
       "      <td>1.359787e+07</td>\n",
       "      <td>4.664794e+06</td>\n",
       "      <td>122745.666667</td>\n",
       "      <td>1.994079e+07</td>\n",
       "      <td>2.087905e+07</td>\n",
       "      <td>4.043069e+06</td>\n",
       "    </tr>\n",
       "    <tr>\n",
       "      <th>std</th>\n",
       "      <td>3.605551</td>\n",
       "      <td>4784.809849</td>\n",
       "      <td>27608.160455</td>\n",
       "      <td>6.258127e+06</td>\n",
       "      <td>1.800556e+06</td>\n",
       "      <td>31001.597593</td>\n",
       "      <td>9.219013e+06</td>\n",
       "      <td>9.241868e+06</td>\n",
       "      <td>1.564053e+06</td>\n",
       "    </tr>\n",
       "    <tr>\n",
       "      <th>min</th>\n",
       "      <td>2008.000000</td>\n",
       "      <td>47349.000000</td>\n",
       "      <td>55736.000000</td>\n",
       "      <td>4.652157e+06</td>\n",
       "      <td>2.471185e+06</td>\n",
       "      <td>89351.000000</td>\n",
       "      <td>7.903454e+06</td>\n",
       "      <td>8.797406e+06</td>\n",
       "      <td>2.095563e+06</td>\n",
       "    </tr>\n",
       "    <tr>\n",
       "      <th>25%</th>\n",
       "      <td>2010.750000</td>\n",
       "      <td>50074.500000</td>\n",
       "      <td>65694.750000</td>\n",
       "      <td>9.378899e+06</td>\n",
       "      <td>3.359578e+06</td>\n",
       "      <td>98555.000000</td>\n",
       "      <td>1.391991e+07</td>\n",
       "      <td>1.476059e+07</td>\n",
       "      <td>2.955597e+06</td>\n",
       "    </tr>\n",
       "    <tr>\n",
       "      <th>50%</th>\n",
       "      <td>2013.500000</td>\n",
       "      <td>52087.500000</td>\n",
       "      <td>79271.500000</td>\n",
       "      <td>1.261192e+07</td>\n",
       "      <td>4.180202e+06</td>\n",
       "      <td>114530.500000</td>\n",
       "      <td>1.777958e+07</td>\n",
       "      <td>1.857055e+07</td>\n",
       "      <td>3.701916e+06</td>\n",
       "    </tr>\n",
       "    <tr>\n",
       "      <th>75%</th>\n",
       "      <td>2016.250000</td>\n",
       "      <td>57510.500000</td>\n",
       "      <td>99938.250000</td>\n",
       "      <td>1.685740e+07</td>\n",
       "      <td>6.107748e+06</td>\n",
       "      <td>139059.500000</td>\n",
       "      <td>2.660088e+07</td>\n",
       "      <td>2.593972e+07</td>\n",
       "      <td>5.371509e+06</td>\n",
       "    </tr>\n",
       "    <tr>\n",
       "      <th>max</th>\n",
       "      <td>2019.000000</td>\n",
       "      <td>61905.000000</td>\n",
       "      <td>145740.000000</td>\n",
       "      <td>2.462378e+07</td>\n",
       "      <td>7.383211e+06</td>\n",
       "      <td>190069.000000</td>\n",
       "      <td>3.561922e+07</td>\n",
       "      <td>3.809062e+07</td>\n",
       "      <td>6.327796e+06</td>\n",
       "    </tr>\n",
       "  </tbody>\n",
       "</table>\n",
       "</div>"
      ],
      "text/plain": [
       "              Year  Construction Enterprises      Employees  \\\n",
       "count    12.000000                 12.000000      12.000000   \n",
       "mean   2013.500000              53649.250000   86280.666667   \n",
       "std       3.605551               4784.809849   27608.160455   \n",
       "min    2008.000000              47349.000000   55736.000000   \n",
       "25%    2010.750000              50074.500000   65694.750000   \n",
       "50%    2013.500000              52087.500000   79271.500000   \n",
       "75%    2016.250000              57510.500000   99938.250000   \n",
       "max    2019.000000              61905.000000  145740.000000   \n",
       "\n",
       "       Intermediate consumption  Labour Costs  Persons Engaged  \\\n",
       "count              1.200000e+01  1.200000e+01        12.000000   \n",
       "mean               1.359787e+07  4.664794e+06    122745.666667   \n",
       "std                6.258127e+06  1.800556e+06     31001.597593   \n",
       "min                4.652157e+06  2.471185e+06     89351.000000   \n",
       "25%                9.378899e+06  3.359578e+06     98555.000000   \n",
       "50%                1.261192e+07  4.180202e+06    114530.500000   \n",
       "75%                1.685740e+07  6.107748e+06    139059.500000   \n",
       "max                2.462378e+07  7.383211e+06    190069.000000   \n",
       "\n",
       "       Production value      Turnover  Wages and Salaries  \n",
       "count      1.200000e+01  1.200000e+01        1.200000e+01  \n",
       "mean       1.994079e+07  2.087905e+07        4.043069e+06  \n",
       "std        9.219013e+06  9.241868e+06        1.564053e+06  \n",
       "min        7.903454e+06  8.797406e+06        2.095563e+06  \n",
       "25%        1.391991e+07  1.476059e+07        2.955597e+06  \n",
       "50%        1.777958e+07  1.857055e+07        3.701916e+06  \n",
       "75%        2.660088e+07  2.593972e+07        5.371509e+06  \n",
       "max        3.561922e+07  3.809062e+07        6.327796e+06  "
      ]
     },
     "execution_count": 220,
     "metadata": {},
     "output_type": "execute_result"
    }
   ],
   "source": [
    "df.describe()"
   ]
  },
  {
   "cell_type": "code",
   "execution_count": 229,
   "id": "d83ac5dc",
   "metadata": {},
   "outputs": [
    {
     "data": {
      "image/png": "[encoded data removed]",
      "text/plain": [
       "<Figure size 432x288 with 9 Axes>"
      ]
     },
     "metadata": {
      "needs_background": "light"
     },
     "output_type": "display_data"
    }
   ],
   "source": [
    "show_outliers(df)"
   ]
  },
  {
   "cell_type": "code",
   "execution_count": 227,
   "id": "8fa8d222",
   "metadata": {},
   "outputs": [
    {
     "data": {
      "image/png": "[encoded data removed]",
      "text/plain": [
       "<Figure size 720x360 with 9 Axes>"
      ]
     },
     "metadata": {
      "needs_background": "light"
     },
     "output_type": "display_data"
    }
   ],
   "source": [
    "plt.gcf().set_figwidth(10)\n",
    "plt.gcf().set_figheight(5)\n",
    "show_distribution(df);"
   ]
  },
  {
   "cell_type": "code",
   "execution_count": 251,
   "id": "40958813",
   "metadata": {},
   "outputs": [
    {
     "data": {
      "image/png": "[encoded data removed]",
      "text/plain": [
       "<Figure size 720x288 with 1 Axes>"
      ]
     },
     "metadata": {
      "needs_background": "light"
     },
     "output_type": "display_data"
    }
   ],
   "source": [
    "# focus on wages and salaries\n",
    "x = df['Wages and Salaries']\n",
    "ax = sns.histplot(x, kde=True, color ='pink', bins=10)\n",
    "ax.set(title ='Distribution of wages and salaries in construction in Ireland');\n",
    "plt.gcf().set_figwidth(10)"
   ]
  },
  {
   "cell_type": "markdown",
   "id": "a0e8d1ca",
   "metadata": {},
   "source": [
    "Data seems to be slightly left skewed"
   ]
  },
  {
   "cell_type": "code",
   "execution_count": 258,
   "id": "3e9c2c93",
   "metadata": {},
   "outputs": [
    {
     "data": {
      "image/png": "[encoded data removed]",
      "text/plain": [
       "<Figure size 432x288 with 1 Axes>"
      ]
     },
     "metadata": {},
     "output_type": "display_data"
    }
   ],
   "source": [
    "sns.set()\n",
    "sns.set_palette('rainbow')\n",
    "sns.boxplot(x);"
   ]
  },
  {
   "cell_type": "code",
   "execution_count": 254,
   "id": "2e40dd22",
   "metadata": {},
   "outputs": [
    {
     "name": "stdout",
     "output_type": "stream",
     "text": [
      "Median 3701916.0\n",
      "Mean 4043069.1666666665\n",
      "Variance 2446262541993.424\n"
     ]
    }
   ],
   "source": [
    "print(\"Median\", x.median())\n",
    "print(\"Mean\", x.mean())\n",
    "print(\"Variance\", x.var())"
   ]
  },
  {
   "cell_type": "markdown",
   "id": "e55d9af2",
   "metadata": {},
   "source": [
    "The boxplot shows the range of data, with the middle of the data being represented by the line in the middle of the box. The first and second quartile have small spread and are much closer to the median the third and forth quartile."
   ]
  },
  {
   "cell_type": "code",
   "execution_count": 364,
   "id": "a4c9c325",
   "metadata": {},
   "outputs": [],
   "source": [
    "# exporting data for modeling\n",
    "df.to_csv('data.csv', index=False)"
   ]
  },
  {
   "cell_type": "markdown",
   "id": "16616f1d",
   "metadata": {},
   "source": [
    "## 3. Inferential statistics"
   ]
  },
  {
   "cell_type": "markdown",
   "id": "a5bdae37",
   "metadata": {},
   "source": [
    "### 3.1 Wages and Employees"
   ]
  },
  {
   "cell_type": "markdown",
   "id": "b2a017f1",
   "metadata": {},
   "source": [
    "##### Condifence intervals\n",
    "This study focuses on labour insights in the construction industry, let's find the confidence intervals for wages and salaries and employees"
   ]
  },
  {
   "cell_type": "code",
   "execution_count": 262,
   "id": "43c91ff2",
   "metadata": {},
   "outputs": [],
   "source": [
    "import scipy.stats as st"
   ]
  },
  {
   "cell_type": "code",
   "execution_count": 264,
   "id": "82a5aa81",
   "metadata": {},
   "outputs": [
    {
     "name": "stdout",
     "output_type": "stream",
     "text": [
      "The mean for wages and salaries is  4043069.1666666665\n"
     ]
    }
   ],
   "source": [
    "X = x.values\n",
    "mean = X.mean() # central tendency\n",
    "print(\"The mean for wages and salaries is \", mean)"
   ]
  },
  {
   "cell_type": "code",
   "execution_count": 263,
   "id": "f471d942",
   "metadata": {},
   "outputs": [
    {
     "data": {
      "text/plain": [
       "(3049317.1477016974, 5036821.185631636)"
      ]
     },
     "execution_count": 263,
     "metadata": {},
     "output_type": "execute_result"
    }
   ],
   "source": [
    "#create 95% confidence interval for population mean wages\n",
    "# df is degrees of freedom, n-1\n",
    "st.t.interval(alpha=0.95, df=len(X)-1, loc=np.mean(X), scale=st.sem(X))"
   ]
  },
  {
   "cell_type": "markdown",
   "id": "327e9c6a",
   "metadata": {},
   "source": [
    "The real average wages are aproximatly between 3049317.15 ; 5036821.18<br>\n",
    "The population mean is within the interval [3049317.1477016974 ; 5036821.185631636]"
   ]
  },
  {
   "cell_type": "code",
   "execution_count": 265,
   "id": "c796a0e5",
   "metadata": {},
   "outputs": [
    {
     "name": "stdout",
     "output_type": "stream",
     "text": [
      "The mean for employees is  4043069.1666666665\n"
     ]
    }
   ],
   "source": [
    "Y = df['Employees'].values\n",
    "mean2 = Y.mean()\n",
    "print(\"The mean for employees is \", mean)"
   ]
  },
  {
   "cell_type": "code",
   "execution_count": 266,
   "id": "53dc6002",
   "metadata": {},
   "outputs": [
    {
     "data": {
      "text/plain": [
       "(68739.27839080717, 103822.05494252617)"
      ]
     },
     "execution_count": 266,
     "metadata": {},
     "output_type": "execute_result"
    }
   ],
   "source": [
    "st.t.interval(alpha=0.95, df=len(Y)-1, loc=np.mean(Y), scale=st.sem(Y))"
   ]
  },
  {
   "cell_type": "markdown",
   "id": "b610394a",
   "metadata": {},
   "source": [
    "The average of employees in the construction industry between 2008 and 2019 is aproximately between 68739.28 and 103822.05"
   ]
  },
  {
   "cell_type": "markdown",
   "id": "48c15ccb",
   "metadata": {},
   "source": [
    "##### T-test\n",
    "We will use T-test to verify the following two hypothesis, based on a sample of 5 years:\n",
    "- The wages in Ireland were in average 50K between 2008 and 2019\n",
    "- The wages in Ireland were below 50K between 2008 and 2019"
   ]
  },
  {
   "cell_type": "code",
   "execution_count": 283,
   "id": "813770f7",
   "metadata": {},
   "outputs": [
    {
     "name": "stdout",
     "output_type": "stream",
     "text": [
      "p value: 0.00000249\n",
      "statistic: 8.84394277\n",
      "Reject null hypothesis of average wage equal to 50k\n"
     ]
    }
   ],
   "source": [
    "# test is a T test as we are dealing with a sample, we have no info on population\n",
    "#H0: u = 50000\n",
    "#H1: u =! 50000\n",
    "#stats.ttest_1samp(X,mu of H0)\n",
    "stat,pval = st.ttest_1samp(X,50000)\n",
    "print(\"p value: %.8f\" % pval)\n",
    "print(\"statistic: %.8f\" % stat)\n",
    "\n",
    "if pval <0.05:\n",
    "    print(\"Reject null hypothesis of average wage equal to 50k\")\n",
    "else:\n",
    "    print(\"Accept null hypothesis\")"
   ]
  },
  {
   "cell_type": "code",
   "execution_count": 269,
   "id": "427fc98d",
   "metadata": {},
   "outputs": [],
   "source": [
    "# first value is my calculated value\n",
    "# if p-value <0.05 we reject H0\n",
    "# python assumes we work with 5% that is the standard\n",
    "\n",
    "# we can go to the app (T), degrees of freedom 29 (30 employees - 1), then 0.05 (alpha)"
   ]
  },
  {
   "cell_type": "markdown",
   "id": "0e89d51c",
   "metadata": {},
   "source": [
    "We reject H0 ---> We accept H1, so there is enough evidence to say that the average salary is not 50k yearly."
   ]
  },
  {
   "cell_type": "code",
   "execution_count": 287,
   "id": "78ce418a",
   "metadata": {},
   "outputs": [
    {
     "data": {
      "text/plain": [
       "0.0004512304787227154"
      ]
     },
     "execution_count": 287,
     "metadata": {},
     "output_type": "execute_result"
    }
   ],
   "source": [
    "# salary less than 50k with 5% significance level\n",
    "#H0: u< 50000 - H1: u > 50000\n",
    "st.t.sf(8.84394276569307, 4) # stat value and sample-1\n",
    "\n",
    "# this is like using the app with x = the previous p-value and degrees of freedom"
   ]
  },
  {
   "cell_type": "code",
   "execution_count": 288,
   "id": "b5588b99",
   "metadata": {},
   "outputs": [
    {
     "data": {
      "text/plain": [
       "5.808437460126158e-05"
      ]
     },
     "execution_count": 288,
     "metadata": {},
     "output_type": "execute_result"
    }
   ],
   "source": [
    "# tryin on a sample of 7 years\n",
    "st.t.sf(8.84394276569307, 6) # stat value and sample-1"
   ]
  },
  {
   "cell_type": "markdown",
   "id": "1e2777fa",
   "metadata": {},
   "source": [
    "### 3.2 Population - Type of Building and Construction"
   ]
  },
  {
   "cell_type": "markdown",
   "id": "86ba67fc",
   "metadata": {},
   "source": [
    "##### Anova condition: populations are idependent"
   ]
  },
  {
   "cell_type": "code",
   "execution_count": 355,
   "id": "02a2362b",
   "metadata": {},
   "outputs": [
    {
     "data": {
      "text/html": [
       "<div>\n",
       "<style scoped>\n",
       "    .dataframe tbody tr th:only-of-type {\n",
       "        vertical-align: middle;\n",
       "    }\n",
       "\n",
       "    .dataframe tbody tr th {\n",
       "        vertical-align: top;\n",
       "    }\n",
       "\n",
       "    .dataframe thead th {\n",
       "        text-align: right;\n",
       "    }\n",
       "</style>\n",
       "<table border=\"1\" class=\"dataframe\">\n",
       "  <thead>\n",
       "    <tr style=\"text-align: right;\">\n",
       "      <th>Type of Building and Construction</th>\n",
       "      <th>All building and construction</th>\n",
       "      <th>Building (excluding civil engineering)</th>\n",
       "      <th>Civil engineering</th>\n",
       "      <th>Non-residential building</th>\n",
       "      <th>Residential building</th>\n",
       "    </tr>\n",
       "    <tr>\n",
       "      <th>Year</th>\n",
       "      <th></th>\n",
       "      <th></th>\n",
       "      <th></th>\n",
       "      <th></th>\n",
       "      <th></th>\n",
       "    </tr>\n",
       "  </thead>\n",
       "  <tbody>\n",
       "    <tr>\n",
       "      <th>2000</th>\n",
       "      <td>218.511371</td>\n",
       "      <td>281.101536</td>\n",
       "      <td>86.995464</td>\n",
       "      <td>148.331141</td>\n",
       "      <td>471.867763</td>\n",
       "    </tr>\n",
       "    <tr>\n",
       "      <th>2001</th>\n",
       "      <td>225.911260</td>\n",
       "      <td>285.804647</td>\n",
       "      <td>97.619197</td>\n",
       "      <td>142.109021</td>\n",
       "      <td>490.854547</td>\n",
       "    </tr>\n",
       "    <tr>\n",
       "      <th>2002</th>\n",
       "      <td>230.597401</td>\n",
       "      <td>283.545855</td>\n",
       "      <td>112.695598</td>\n",
       "      <td>131.465891</td>\n",
       "      <td>499.107398</td>\n",
       "    </tr>\n",
       "    <tr>\n",
       "      <th>2003</th>\n",
       "      <td>243.651383</td>\n",
       "      <td>302.644320</td>\n",
       "      <td>114.217758</td>\n",
       "      <td>123.097826</td>\n",
       "      <td>554.673970</td>\n",
       "    </tr>\n",
       "    <tr>\n",
       "      <th>2004</th>\n",
       "      <td>305.568852</td>\n",
       "      <td>385.670168</td>\n",
       "      <td>129.698609</td>\n",
       "      <td>139.329466</td>\n",
       "      <td>731.633429</td>\n",
       "    </tr>\n",
       "  </tbody>\n",
       "</table>\n",
       "</div>"
      ],
      "text/plain": [
       "Type of Building and Construction  All building and construction  \\\n",
       "Year                                                               \n",
       "2000                                                  218.511371   \n",
       "2001                                                  225.911260   \n",
       "2002                                                  230.597401   \n",
       "2003                                                  243.651383   \n",
       "2004                                                  305.568852   \n",
       "\n",
       "Type of Building and Construction  Building (excluding civil engineering)  \\\n",
       "Year                                                                        \n",
       "2000                                                           281.101536   \n",
       "2001                                                           285.804647   \n",
       "2002                                                           283.545855   \n",
       "2003                                                           302.644320   \n",
       "2004                                                           385.670168   \n",
       "\n",
       "Type of Building and Construction  Civil engineering  \\\n",
       "Year                                                   \n",
       "2000                                       86.995464   \n",
       "2001                                       97.619197   \n",
       "2002                                      112.695598   \n",
       "2003                                      114.217758   \n",
       "2004                                      129.698609   \n",
       "\n",
       "Type of Building and Construction  Non-residential building  \\\n",
       "Year                                                          \n",
       "2000                                             148.331141   \n",
       "2001                                             142.109021   \n",
       "2002                                             131.465891   \n",
       "2003                                             123.097826   \n",
       "2004                                             139.329466   \n",
       "\n",
       "Type of Building and Construction  Residential building  \n",
       "Year                                                     \n",
       "2000                                         471.867763  \n",
       "2001                                         490.854547  \n",
       "2002                                         499.107398  \n",
       "2003                                         554.673970  \n",
       "2004                                         731.633429  "
      ]
     },
     "execution_count": 355,
     "metadata": {},
     "output_type": "execute_result"
    }
   ],
   "source": [
    "# create a pivot table with building type as rows and columns\n",
    "new_df = pd.pivot_table(prod_volume, index='Year', columns='Type of Building and Construction', values='VALUE', aggfunc='sum', fill_value=0)\n",
    "new_df.head()"
   ]
  },
  {
   "cell_type": "code",
   "execution_count": 357,
   "id": "3658de6a",
   "metadata": {},
   "outputs": [
    {
     "data": {
      "image/png": "[encoded data removed]",
      "text/plain": [
       "<Figure size 432x288 with 2 Axes>"
      ]
     },
     "metadata": {},
     "output_type": "display_data"
    }
   ],
   "source": [
    "sns.heatmap(new_df.corr(), annot=True);"
   ]
  },
  {
   "cell_type": "markdown",
   "id": "e3c97e21",
   "metadata": {},
   "source": [
    "Removing All building values, looks like some features are correlated (ex: Residential Building&Building)"
   ]
  },
  {
   "cell_type": "code",
   "execution_count": 360,
   "id": "c767c892",
   "metadata": {},
   "outputs": [
    {
     "data": {
      "text/html": [
       "<div>\n",
       "<style scoped>\n",
       "    .dataframe tbody tr th:only-of-type {\n",
       "        vertical-align: middle;\n",
       "    }\n",
       "\n",
       "    .dataframe tbody tr th {\n",
       "        vertical-align: top;\n",
       "    }\n",
       "\n",
       "    .dataframe thead th {\n",
       "        text-align: right;\n",
       "    }\n",
       "</style>\n",
       "<table border=\"1\" class=\"dataframe\">\n",
       "  <thead>\n",
       "    <tr style=\"text-align: right;\">\n",
       "      <th></th>\n",
       "      <th>Statistic Label</th>\n",
       "      <th>Year</th>\n",
       "      <th>UNIT</th>\n",
       "      <th>VALUE</th>\n",
       "    </tr>\n",
       "    <tr>\n",
       "      <th>Type of Building and Construction</th>\n",
       "      <th></th>\n",
       "      <th></th>\n",
       "      <th></th>\n",
       "      <th></th>\n",
       "    </tr>\n",
       "  </thead>\n",
       "  <tbody>\n",
       "    <tr>\n",
       "      <th>All building and construction</th>\n",
       "      <td>10</td>\n",
       "      <td>10</td>\n",
       "      <td>10</td>\n",
       "      <td>10</td>\n",
       "    </tr>\n",
       "    <tr>\n",
       "      <th>Building (excluding civil engineering)</th>\n",
       "      <td>10</td>\n",
       "      <td>10</td>\n",
       "      <td>10</td>\n",
       "      <td>10</td>\n",
       "    </tr>\n",
       "    <tr>\n",
       "      <th>Civil engineering</th>\n",
       "      <td>10</td>\n",
       "      <td>10</td>\n",
       "      <td>10</td>\n",
       "      <td>10</td>\n",
       "    </tr>\n",
       "    <tr>\n",
       "      <th>Non-residential building</th>\n",
       "      <td>10</td>\n",
       "      <td>10</td>\n",
       "      <td>10</td>\n",
       "      <td>10</td>\n",
       "    </tr>\n",
       "    <tr>\n",
       "      <th>Residential building</th>\n",
       "      <td>10</td>\n",
       "      <td>10</td>\n",
       "      <td>10</td>\n",
       "      <td>10</td>\n",
       "    </tr>\n",
       "  </tbody>\n",
       "</table>\n",
       "</div>"
      ],
      "text/plain": [
       "                                        Statistic Label  Year  UNIT  VALUE\n",
       "Type of Building and Construction                                         \n",
       "All building and construction                        10    10    10     10\n",
       "Building (excluding civil engineering)               10    10    10     10\n",
       "Civil engineering                                    10    10    10     10\n",
       "Non-residential building                             10    10    10     10\n",
       "Residential building                                 10    10    10     10"
      ]
     },
     "execution_count": 360,
     "metadata": {},
     "output_type": "execute_result"
    }
   ],
   "source": [
    "# take 10 sample from each construction type\n",
    "df_sample = prod_volume.groupby(['Type of Building and Construction'], group_keys=False).apply(lambda x: x.sample(10))\n",
    "\n",
    "#checking that there are 5 selected from each type\n",
    "df_sample.groupby(['Type of Building and Construction']).count()"
   ]
  },
  {
   "cell_type": "code",
   "execution_count": 361,
   "id": "c8a08b84",
   "metadata": {},
   "outputs": [
    {
     "data": {
      "image/png": "[encoded data removed]",
      "text/plain": [
       "<Figure size 432x288 with 1 Axes>"
      ]
     },
     "metadata": {},
     "output_type": "display_data"
    }
   ],
   "source": [
    "#Normality plot. Our variable is \"VALUE\"\n",
    "st.probplot(df_sample.VALUE, plot=plt);"
   ]
  },
  {
   "cell_type": "code",
   "execution_count": 321,
   "id": "d69bea53",
   "metadata": {},
   "outputs": [],
   "source": [
    "# data doesn't that close to the red line. Another test to see if the data is normally distributed is Shapiro-wilk test"
   ]
  },
  {
   "cell_type": "markdown",
   "id": "e19962be",
   "metadata": {},
   "source": [
    "##### Anova condition: populations have a normal distribution"
   ]
  },
  {
   "cell_type": "code",
   "execution_count": 339,
   "id": "0d9b5983",
   "metadata": {},
   "outputs": [],
   "source": [
    "from scipy import stats\n",
    "import scipy as scipy\n",
    "\n",
    "#Shapiro wilk test function\n",
    "def shapiro_wilk(data):\n",
    "    results = stats.shapiro(data)\n",
    "    print(results)\n",
    "    if results[1] > 0.05:\n",
    "        #normality = 1\n",
    "        print(\"Ho(Accepted): Sample is from a normal distribution.(P>0.05)\")\n",
    "    else:\n",
    "        #normality = 0\n",
    "        print(\"Ha(Rejected): Sample is not from a normal distribution\")"
   ]
  },
  {
   "cell_type": "code",
   "execution_count": 340,
   "id": "afabd6d4",
   "metadata": {},
   "outputs": [
    {
     "name": "stdout",
     "output_type": "stream",
     "text": [
      "ShapiroResult(statistic=0.6229376792907715, pvalue=4.332842140630788e-10)\n",
      "Ha(Rejected): Sample is not from a normal distribution\n"
     ]
    }
   ],
   "source": [
    "#Shapiro wilk test all groups\n",
    "shapiro_wilk(df_sample['VALUE'])"
   ]
  },
  {
   "cell_type": "code",
   "execution_count": 342,
   "id": "5bfaf88e",
   "metadata": {},
   "outputs": [],
   "source": [
    "# let's double check picking two groups: residential and not residential"
   ]
  },
  {
   "cell_type": "code",
   "execution_count": 333,
   "id": "43050f44",
   "metadata": {},
   "outputs": [],
   "source": [
    "residential = prod_volume.VALUE[prod_volume['Type of Building and Construction'] == 'Residential building']\n",
    "non_residential = prod_volume.VALUE[prod_volume['Type of Building and Construction'] == 'Non-residential building']"
   ]
  },
  {
   "cell_type": "code",
   "execution_count": 343,
   "id": "1bb4bcc6",
   "metadata": {},
   "outputs": [
    {
     "name": "stdout",
     "output_type": "stream",
     "text": [
      "ShapiroResult(statistic=0.8021119832992554, pvalue=0.00041424116352573037)\n",
      "Ha(Rejected): Sample is not from a normal distribution\n"
     ]
    }
   ],
   "source": [
    "shapiro_wilk(residential)"
   ]
  },
  {
   "cell_type": "code",
   "execution_count": 344,
   "id": "ef90165c",
   "metadata": {},
   "outputs": [
    {
     "name": "stdout",
     "output_type": "stream",
     "text": [
      "ShapiroResult(statistic=0.9117869734764099, pvalue=0.044549282640218735)\n",
      "Ha(Rejected): Sample is not from a normal distribution\n"
     ]
    }
   ],
   "source": [
    "shapiro_wilk(non_residential)"
   ]
  },
  {
   "cell_type": "markdown",
   "id": "ae4c7623",
   "metadata": {},
   "source": [
    "##### Anova condition: variance of k normal distributions are equal\n",
    "As our distribution is not normal, we can't continue with this test. For the sake of showing the process, we will assume data is normal and run Levene test\n",
    "- H0 : The variances between the construction types are equal\n",
    "- H1: The variances between the construction types are not equal"
   ]
  },
  {
   "cell_type": "code",
   "execution_count": 362,
   "id": "06c9bbee",
   "metadata": {},
   "outputs": [],
   "source": [
    "from scipy.stats import levene"
   ]
  },
  {
   "cell_type": "code",
   "execution_count": 363,
   "id": "ffe5740e",
   "metadata": {},
   "outputs": [
    {
     "data": {
      "text/plain": [
       "LeveneResult(statistic=76.83912990143656, pvalue=3.297585839995814e-11)"
      ]
     },
     "execution_count": 363,
     "metadata": {},
     "output_type": "execute_result"
    }
   ],
   "source": [
    "levene(residential, non_residential, center='mean')"
   ]
  },
  {
   "cell_type": "code",
   "execution_count": 328,
   "id": "25117dcb",
   "metadata": {},
   "outputs": [],
   "source": [
    "# greater than alpha, variances are equal"
   ]
  },
  {
   "cell_type": "code",
   "execution_count": null,
   "id": "3c60369f",
   "metadata": {},
   "outputs": [],
   "source": []
  }
 ],
 "metadata": {
  "kernelspec": {
   "display_name": "Python 3 (ipykernel)",
   "language": "python",
   "name": "python3"
  },
  "language_info": {
   "codemirror_mode": {
    "name": "ipython",
    "version": 3
   },
   "file_extension": ".py",
   "mimetype": "text/x-python",
   "name": "python",
   "nbconvert_exporter": "python",
   "pygments_lexer": "ipython3",
   "version": "3.9.7"
  }
 },
 "nbformat": 4,
 "nbformat_minor": 5
}
